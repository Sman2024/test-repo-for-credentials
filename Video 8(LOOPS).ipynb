{
 "cells": [
  {
   "cell_type": "code",
   "execution_count": 1,
   "id": "8b5ca8e9-1c48-4160-b1fb-ca22ff0bb7d6",
   "metadata": {},
   "outputs": [
    {
     "name": "stdout",
     "output_type": "stream",
     "text": [
      "S\n",
      "t\n",
      "a\n",
      "n\n",
      "d\n",
      "a\n",
      "r\n",
      "d\n",
      "i\n",
      "z\n",
      "a\n",
      "t\n",
      "i\n",
      "o\n",
      "n\n"
     ]
    }
   ],
   "source": [
    "s = 'Standardization'\n",
    "for i in s:\n",
    "    print(i)"
   ]
  },
  {
   "cell_type": "code",
   "execution_count": 29,
   "id": "b5664737-a1ea-4acc-af51-22721de3160b",
   "metadata": {},
   "outputs": [
    {
     "name": "stdout",
     "output_type": "stream",
     "text": [
      "G\n",
      "r\n",
      "e\n",
      "g\n",
      "o\n",
      "r\n",
      "y\n"
     ]
    }
   ],
   "source": [
    "user_word = 'Gregory'\n",
    "for letter in user_word:\n",
    "    print(letter)"
   ]
  },
  {
   "cell_type": "code",
   "execution_count": null,
   "id": "102d1752-4703-4912-8427-6f053dc88e08",
   "metadata": {},
   "outputs": [],
   "source": []
  },
  {
   "cell_type": "code",
   "execution_count": 30,
   "id": "4adb940f-a3b4-438a-b6a1-5d17f4894c83",
   "metadata": {},
   "outputs": [
    {
     "name": "stdout",
     "output_type": "stream",
     "text": [
      "Standardization"
     ]
    }
   ],
   "source": [
    "s = 'Standardization'\n",
    "for i in s:\n",
    "    print(i, end= '')"
   ]
  },
  {
   "cell_type": "code",
   "execution_count": 3,
   "id": "657fc78c-62b1-4f83-ad1e-bb5f72b677fd",
   "metadata": {},
   "outputs": [
    {
     "name": "stdout",
     "output_type": "stream",
     "text": [
      "S/t/a/n/d/a/r/d/i/z/a/t/i/o/n/"
     ]
    }
   ],
   "source": [
    "s = 'Standardization'\n",
    "for i in s:\n",
    "    print(i, end= '/')"
   ]
  },
  {
   "cell_type": "code",
   "execution_count": 5,
   "id": "b85ea7a1-1507-47b6-979b-85c896e86869",
   "metadata": {},
   "outputs": [
    {
     "name": "stdout",
     "output_type": "stream",
     "text": [
      "Java\n",
      "Python\n",
      "Ruby\n",
      "HTML\n"
     ]
    }
   ],
   "source": [
    "# use for loop in a list\n",
    "programming = [\"Java\", \"Python\", \"Ruby\", \"HTML\"]\n",
    "for p in programming:\n",
    "    print(p)"
   ]
  },
  {
   "cell_type": "code",
   "execution_count": 6,
   "id": "d95b8ea1-ce93-4741-a04c-5433df7dc004",
   "metadata": {},
   "outputs": [
    {
     "name": "stdout",
     "output_type": "stream",
     "text": [
      "sum = 150\n",
      "Average = 30.0\n"
     ]
    }
   ],
   "source": [
    "# Find the avg of a list of numbers\n",
    "list_num = [20, 25, 10, 50, 45]\n",
    "sum = 0\n",
    "for i in list_num:\n",
    "    sum = sum + i\n",
    "print(\"sum =\", sum)\n",
    "print(\"Average =\", sum/len(list_num))"
   ]
  },
  {
   "cell_type": "code",
   "execution_count": 7,
   "id": "8315ac12-4dec-4f28-8316-d17d323f135d",
   "metadata": {},
   "outputs": [
    {
     "name": "stdout",
     "output_type": "stream",
     "text": [
      "sum = 20\n",
      "Average = 4.0\n",
      "sum = 45\n",
      "Average = 9.0\n",
      "sum = 55\n",
      "Average = 11.0\n",
      "sum = 105\n",
      "Average = 21.0\n",
      "sum = 150\n",
      "Average = 30.0\n"
     ]
    }
   ],
   "source": [
    "# Find the avg of a list of numbers\n",
    "list_num = [20, 25, 10, 50, 45]\n",
    "sum = 0\n",
    "for i in list_num:\n",
    "    sum = sum + i\n",
    "    print(\"sum =\", sum)\n",
    "    print(\"Average =\", sum/len(list_num))"
   ]
  },
  {
   "cell_type": "code",
   "execution_count": 8,
   "id": "9f57dfca-dc03-435b-b96a-6da6c2072a0c",
   "metadata": {},
   "outputs": [
    {
     "name": "stdout",
     "output_type": "stream",
     "text": [
      "30\n",
      "75\n",
      "135\n",
      "205\n",
      "255\n"
     ]
    }
   ],
   "source": [
    "# For Loop using a tuple\n",
    "num = (30, 45, 60, 70, 50)\n",
    "sum = 0\n",
    "for i in num:\n",
    "    sum = sum + i\n",
    "    print(sum)"
   ]
  },
  {
   "cell_type": "code",
   "execution_count": 9,
   "id": "160a4564-5be2-41cc-a92f-04e68a57c0dc",
   "metadata": {},
   "outputs": [
    {
     "name": "stdout",
     "output_type": "stream",
     "text": [
      "255\n",
      "Average = 51.0\n"
     ]
    }
   ],
   "source": [
    "# For Loop using a tuple\n",
    "num = (30, 45, 60, 70, 50)\n",
    "sum = 0\n",
    "for i in num:\n",
    "    sum = sum + i\n",
    "print(sum)\n",
    "print(\"Average =\", sum/len(num))\n"
   ]
  },
  {
   "cell_type": "code",
   "execution_count": 10,
   "id": "78513a84-d691-45c4-9c9a-390201df0953",
   "metadata": {},
   "outputs": [
    {
     "name": "stdout",
     "output_type": "stream",
     "text": [
      "1\n",
      "2\n",
      "3\n",
      "4\n",
      "5\n",
      "6\n",
      "7\n",
      "8\n",
      "9\n",
      "10\n",
      "11\n",
      "12\n",
      "13\n",
      "14\n"
     ]
    }
   ],
   "source": [
    "# range function\n",
    "for list in range(1,15):\n",
    "    print(list)\n"
   ]
  },
  {
   "cell_type": "code",
   "execution_count": 11,
   "id": "a10ecfd5-14f4-4f9c-8a06-936654f41ea7",
   "metadata": {},
   "outputs": [
    {
     "name": "stdout",
     "output_type": "stream",
     "text": [
      "Display values with a step size of 2: 1\n",
      "Display values with a step size of 2: 3\n",
      "Display values with a step size of 2: 5\n",
      "Display values with a step size of 2: 7\n",
      "Display values with a step size of 2: 9\n",
      "Display values with a step size of 2: 11\n",
      "Display values with a step size of 2: 13\n"
     ]
    }
   ],
   "source": [
    "# range function\n",
    "for list in range(1,15,2,):\n",
    "    print('Display values with a step size of 2:', list)\n"
   ]
  },
  {
   "cell_type": "code",
   "execution_count": 12,
   "id": "64bdba61-260c-4bb3-90ad-5240540b92bc",
   "metadata": {},
   "outputs": [
    {
     "name": "stdout",
     "output_type": "stream",
     "text": [
      "1\n",
      "3\n",
      "5\n",
      "7\n",
      "9\n",
      "11\n",
      "13\n"
     ]
    }
   ],
   "source": [
    "# range function\n",
    "for list in range(1,15,2,):\n",
    "    print(list)\n"
   ]
  },
  {
   "cell_type": "code",
   "execution_count": 14,
   "id": "6dc30cf9-f3f3-4de1-89b1-727270ad3485",
   "metadata": {},
   "outputs": [
    {
     "name": "stdin",
     "output_type": "stream",
     "text": [
      "Enter the number 12\n"
     ]
    },
    {
     "name": "stdout",
     "output_type": "stream",
     "text": [
      "12 * 1 = 12\n",
      "12 * 2 = 24\n",
      "12 * 3 = 36\n",
      "12 * 4 = 48\n",
      "12 * 5 = 60\n",
      "12 * 6 = 72\n",
      "12 * 7 = 84\n",
      "12 * 8 = 96\n",
      "12 * 9 = 108\n",
      "12 * 10 = 120\n"
     ]
    }
   ],
   "source": [
    "# Print the table of a given number\n",
    "n = int(input(\"Enter the number\"))\n",
    "for i in range(1,11):\n",
    "    mul = n*i\n",
    "    print(n, \"*\", i, \"=\", mul)"
   ]
  },
  {
   "cell_type": "code",
   "execution_count": 38,
   "id": "e66b3eb0-d0df-42da-bebd-9310ea4d6f3a",
   "metadata": {},
   "outputs": [
    {
     "name": "stdin",
     "output_type": "stream",
     "text": [
      "Enter the number 12\n"
     ]
    },
    {
     "name": "stdout",
     "output_type": "stream",
     "text": [
      "12 * 1 = 12\n",
      "12 * 2 = 24\n",
      "12 * 3 = 36\n",
      "12 * 4 = 48\n",
      "12 * 5 = 60\n",
      "12 * 6 = 72\n",
      "12 * 7 = 84\n",
      "12 * 8 = 96\n",
      "12 * 9 = 108\n",
      "12 * 10 = 120\n",
      "12 * 11 = 132\n",
      "12 * 12 = 144\n"
     ]
    }
   ],
   "source": [
    "# Print the table of a given number(12)\n",
    "n = int(input(\"Enter the number\"))\n",
    "for i in range(1,13):\n",
    "    mul = n*i\n",
    "    print(n, \"*\", i, \"=\", mul)"
   ]
  },
  {
   "cell_type": "code",
   "execution_count": 33,
   "id": "7c84ca0b-5873-4ca7-b6fe-ab527372203c",
   "metadata": {},
   "outputs": [
    {
     "name": "stdout",
     "output_type": "stream",
     "text": [
      "Hello C++\n",
      "Hello Java\n",
      "Hello Python\n",
      "Hello R\n"
     ]
    }
   ],
   "source": [
    "list2 = ['C++', 'Java', 'Python', 'R' ]\n",
    "for i in range(len(list2)):\n",
    "    print(\"Hello\", list2[i])"
   ]
  },
  {
   "cell_type": "code",
   "execution_count": 17,
   "id": "638bc28a-5c07-4171-9ecf-71784c001ab0",
   "metadata": {},
   "outputs": [
    {
     "name": "stdout",
     "output_type": "stream",
     "text": [
      "Hello C++\n",
      "Hello Java\n",
      "Hello Python\n",
      "Hello R\n"
     ]
    }
   ],
   "source": [
    "list2 = ['C++', 'Java', 'Python', 'R' ]\n",
    "for i in list2:\n",
    "    print('Hello ' +i)"
   ]
  },
  {
   "cell_type": "code",
   "execution_count": 18,
   "id": "f4a48b83-1ca9-43ff-993b-b1a5f2b4a8b7",
   "metadata": {},
   "outputs": [
    {
     "name": "stdout",
     "output_type": "stream",
     "text": [
      "Display each letter of Google\n",
      "Display each letter of Apple\n",
      "Display each letter of Microsoft\n",
      "Display each letter of Meta\n"
     ]
    }
   ],
   "source": [
    "companies = ['Google', 'Apple', 'Microsoft', 'Meta']\n",
    "for i in companies:\n",
    "    print('Display each letter of ' +i)"
   ]
  },
  {
   "cell_type": "code",
   "execution_count": 19,
   "id": "f23d748b-a52c-43dc-be8f-ec86727297db",
   "metadata": {},
   "outputs": [
    {
     "name": "stdout",
     "output_type": "stream",
     "text": [
      "Display each letter of Google\n",
      "G\n",
      "o\n",
      "o\n",
      "g\n",
      "l\n",
      "e\n",
      "Display each letter of Apple\n",
      "A\n",
      "p\n",
      "p\n",
      "l\n",
      "e\n",
      "Display each letter of Microsoft\n",
      "M\n",
      "i\n",
      "c\n",
      "r\n",
      "o\n",
      "s\n",
      "o\n",
      "f\n",
      "t\n",
      "Display each letter of Meta\n",
      "M\n",
      "e\n",
      "t\n",
      "a\n"
     ]
    }
   ],
   "source": [
    "# Nested for loop\n",
    "companies = ['Google', 'Apple', 'Microsoft', 'Meta']\n",
    "for i in companies:\n",
    "    print('Display each letter of ' +i)\n",
    "    for letter in i:\n",
    "        print(letter)\n",
    "    "
   ]
  },
  {
   "cell_type": "code",
   "execution_count": 20,
   "id": "b4eb1f66-ba74-44f0-8544-3aeb4b69c702",
   "metadata": {},
   "outputs": [
    {
     "name": "stdout",
     "output_type": "stream",
     "text": [
      "0\n",
      "3\n",
      "6\n",
      "9\n",
      "Loop has completely executed\n"
     ]
    }
   ],
   "source": [
    "# for loop with else clause\n",
    "for i in range(0,10,3):\n",
    "    print(i)\n",
    "else:\n",
    "    print('Loop has completely executed')\n",
    "\n"
   ]
  },
  {
   "cell_type": "code",
   "execution_count": 21,
   "id": "bb545d2e-8521-4c59-a5a6-292d263af6f4",
   "metadata": {},
   "outputs": [
    {
     "name": "stdout",
     "output_type": "stream",
     "text": [
      "1\n",
      "2\n",
      "3\n",
      "4\n",
      "5\n"
     ]
    }
   ],
   "source": [
    "# Break\n",
    "for i in range(1,10):\n",
    "    if(i==6):\n",
    "        break\n",
    "    print(i)"
   ]
  },
  {
   "cell_type": "code",
   "execution_count": null,
   "id": "303644b9-09e8-4647-9a2d-0619d9ac35a7",
   "metadata": {},
   "outputs": [],
   "source": []
  },
  {
   "cell_type": "code",
   "execution_count": 22,
   "id": "6db3c038-0b18-4518-be2d-05e10d947832",
   "metadata": {},
   "outputs": [
    {
     "name": "stdout",
     "output_type": "stream",
     "text": [
      "1\n",
      "2\n",
      "3\n",
      "4\n",
      "5\n",
      "7\n",
      "8\n",
      "9\n"
     ]
    }
   ],
   "source": [
    "# Continue\n",
    "for i in range(1,10):\n",
    "    if(i==6):\n",
    "        continue\n",
    "    print(i)"
   ]
  },
  {
   "cell_type": "code",
   "execution_count": 23,
   "id": "02afb0a1-d055-41c4-a2a9-b6d5850b71dc",
   "metadata": {},
   "outputs": [
    {
     "name": "stdout",
     "output_type": "stream",
     "text": [
      "Player not found\n",
      "Player not found\n",
      "Player not found\n"
     ]
    }
   ],
   "source": [
    "# Display the total goals a player has scored\n",
    "\n",
    "player_name = 'Messi'\n",
    "goals = {'Edison' :14, 'Bernat' :3, 'Carmelo' :7}\n",
    "\n",
    "for player in goals:\n",
    "    if player == player_name:\n",
    "        print(goals[player])\n",
    "        break\n",
    "    else:\n",
    "        print('Player not found')"
   ]
  },
  {
   "cell_type": "code",
   "execution_count": 24,
   "id": "5aed4f90-7ac4-4a0d-9b04-890cd0d9dfc2",
   "metadata": {},
   "outputs": [
    {
     "name": "stdout",
     "output_type": "stream",
     "text": [
      "14\n"
     ]
    }
   ],
   "source": [
    "# Display the total goals a player has scored\n",
    "\n",
    "player_name = 'Edison'\n",
    "goals = {'Edison' :14, 'Bernat' :3, 'Carmelo' :7}\n",
    "\n",
    "for player in goals:\n",
    "    if player == player_name:\n",
    "        print(goals[player])\n",
    "        break\n",
    "    else:\n",
    "        print('Player not found')"
   ]
  },
  {
   "cell_type": "code",
   "execution_count": null,
   "id": "424ff229-ad4a-44ac-84f3-9d366a3854ba",
   "metadata": {},
   "outputs": [],
   "source": []
  },
  {
   "cell_type": "code",
   "execution_count": null,
   "id": "3762e923-5ea9-439b-b9e1-38a57ef894e3",
   "metadata": {},
   "outputs": [],
   "source": []
  },
  {
   "cell_type": "code",
   "execution_count": null,
   "id": "ec7f0a66-786c-48bb-9798-c0d93c47b0ca",
   "metadata": {},
   "outputs": [],
   "source": []
  },
  {
   "cell_type": "code",
   "execution_count": null,
   "id": "5bcdf204-d444-4350-bc7c-2da8790e0b9d",
   "metadata": {},
   "outputs": [],
   "source": []
  },
  {
   "cell_type": "code",
   "execution_count": null,
   "id": "4e4b2e9c-6d4e-4ce0-ab26-c6f9c8b07a38",
   "metadata": {},
   "outputs": [],
   "source": []
  },
  {
   "cell_type": "code",
   "execution_count": null,
   "id": "234592a7-d4e0-425b-80d8-508a1309395c",
   "metadata": {},
   "outputs": [],
   "source": []
  },
  {
   "cell_type": "code",
   "execution_count": null,
   "id": "f4bbe003-7f57-46d8-a24f-56c8e58b2c8b",
   "metadata": {},
   "outputs": [],
   "source": []
  },
  {
   "cell_type": "code",
   "execution_count": null,
   "id": "c089e1c5-1694-4d28-a5b1-e79063634273",
   "metadata": {},
   "outputs": [],
   "source": []
  },
  {
   "cell_type": "code",
   "execution_count": null,
   "id": "ff25696a-07fd-4d70-9ff6-193314ea4769",
   "metadata": {},
   "outputs": [],
   "source": []
  },
  {
   "cell_type": "code",
   "execution_count": null,
   "id": "4a43795d-3bd8-4feb-bf88-4023b15b5848",
   "metadata": {},
   "outputs": [],
   "source": []
  },
  {
   "cell_type": "code",
   "execution_count": null,
   "id": "b1be0928-9334-4966-ae8a-50af4a9e908e",
   "metadata": {},
   "outputs": [],
   "source": []
  }
 ],
 "metadata": {
  "kernelspec": {
   "display_name": "Python 3 (ipykernel)",
   "language": "python",
   "name": "python3"
  },
  "language_info": {
   "codemirror_mode": {
    "name": "ipython",
    "version": 3
   },
   "file_extension": ".py",
   "mimetype": "text/x-python",
   "name": "python",
   "nbconvert_exporter": "python",
   "pygments_lexer": "ipython3",
   "version": "3.12.4"
  }
 },
 "nbformat": 4,
 "nbformat_minor": 5
}
