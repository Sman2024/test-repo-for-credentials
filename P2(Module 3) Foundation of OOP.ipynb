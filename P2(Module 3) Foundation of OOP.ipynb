{
 "cells": [
  {
   "cell_type": "markdown",
   "id": "6b3037e3-fbf0-477c-a57f-8177b58cbeab",
   "metadata": {},
   "source": [
    "### Your first class\n",
    "\n",
    "Object programming is the art of defining and expanding classes. A class is a model of a very specific part of reality, reflecting properties and activities found in the real world.\n",
    "\n",
    "The classes defined at the beginning are too general and imprecise to cover the largest possible number of real cases.\n",
    "\n",
    "There's no obstacle to defining new, more precise subclasses. They'll inherit everything from their superclass, so the work that went into its creation isn't wasted.\n",
    "\n",
    "The new class may add new properties and new activities, and therefore may be more useful in specific applications. Obviously, it may be used as a superclass for any number of newly created subclasses.\n",
    "\n",
    "The process doesn't need to have an end. You can create as many classes as you need.\n",
    "\n",
    "The class you define has nothing to do with the object: the existence of a class does not mean that any of the compatible objects will automatically be created. The class itself isn't able to create an object - you have to create it yourself, and Python allows you to do this.\n",
    "\n",
    "It's time to define the simplest class and to create an object. Take a look at the example below:"
   ]
  },
  {
   "cell_type": "code",
   "execution_count": null,
   "id": "12e2399b-b0e6-4752-a4fc-9bfc07077451",
   "metadata": {},
   "outputs": [],
   "source": [
    "class TheSimplestClass:\n",
    "    pass\n",
    "\n"
   ]
  },
  {
   "cell_type": "markdown",
   "id": "658164a5-2439-47b8-a523-92da198cfee9",
   "metadata": {},
   "source": [
    "We've defined a class there. The class is rather poor: it has neither properties nor activities. It's empty, actually, but that doesn't matter for now. The simpler the class, the better for our purposes.\n",
    "\n",
    "The definition begins with the keyword class. The keyword is followed by an identifier which will name the class (note: don't confuse it with the object's name - these are two different things).\n",
    "\n",
    "Next, you add a colon (:), as classes, like functions, form their own nested block. The content inside the block define all the class's properties and activities.\n",
    "\n",
    "The pass keyword fills the class with nothing. It doesn't contain any methods or properties.\n",
    "\n"
   ]
  },
  {
   "cell_type": "markdown",
   "id": "2fb46121-c945-421e-93d0-5c4e32197f7d",
   "metadata": {},
   "source": [
    "### Your first object\n",
    "\n",
    "The newly defined class becomes a tool that is able to create new objects. The tool has to be used explicitly, on demand.\n",
    "\n",
    "Imagine that you want to create one (exactly one) object of the TheSimplestClass class.\n",
    "\n",
    "To do this, you need to assign a variable to store the newly created object of that class, and create an object at the same time.\n",
    "\n",
    "You do it in the following way:"
   ]
  },
  {
   "cell_type": "code",
   "execution_count": null,
   "id": "dd2e47af-e282-4f06-99ef-cb7a44b23c96",
   "metadata": {},
   "outputs": [],
   "source": [
    "my_first_object = TheSimplestClass()\n",
    "\n"
   ]
  },
  {
   "cell_type": "markdown",
   "id": "2d4e654f-ae61-4370-96a7-ba8889f9f4da",
   "metadata": {},
   "source": [
    "Note:\n",
    "\n",
    "    the class name tries to pretend that it's a function - can you see this? We'll discuss it soon;\n",
    "    the newly created object is equipped with everything the class brings; as this class is completely empty, the object is empty, too.\n",
    "\n",
    "The act of creating an object of the selected class is also called an instantiation (as the object becomes an instance of the class).\n",
    "\n",
    "Let's leave classes alone for a short moment, as we're now going to tell you a few words about stacks. We know the concept of classes and objects may not be fully clear yet. Don't worry, we'll explain everything very soon.\n",
    "\n",
    "\n"
   ]
  },
  {
   "cell_type": "markdown",
   "id": "2ceda04e-1190-4e28-a74b-13e4a38ddf75",
   "metadata": {},
   "source": [
    "### Key takeaways\n",
    "\n",
    "1. A class is an idea (more or less abstract) which can be used to create a number of incarnations – such an incarnation is called an object.\n",
    "\n",
    "2. When a class is derived from another class, their relation is named inheritance. The class which derives from the other class is named a subclass. The second side of this relation is named superclass. A way to present such a relation is an inheritance diagram, where:\n",
    "\n",
    "    superclasses are always presented above their subclasses;\n",
    "    relations between classes are shown as arrows directed from the subclass toward its superclass.\n",
    "\n",
    "\n",
    "3. Objects are equipped with:\n",
    "\n",
    "    a name which identifies them and allows us to distinguish between them;\n",
    "    a set of properties (the set can be empty)\n",
    "    a set of methods (can be empty, too)\n",
    "\n",
    "\n",
    "4. To define a Python class, you need to use the class keyword. For example:"
   ]
  },
  {
   "cell_type": "code",
   "execution_count": null,
   "id": "b8b3e0c1-3907-4da6-9181-acb705e38988",
   "metadata": {},
   "outputs": [],
   "source": [
    "class This_Is_A_Class:\n",
    "     pass\n"
   ]
  },
  {
   "cell_type": "markdown",
   "id": "0399de0e-fadb-44df-a8a4-19190eb5884d",
   "metadata": {},
   "source": [
    "5. To create an object of the previously defined class, you need to use the class as if it were a function. For example:"
   ]
  },
  {
   "cell_type": "code",
   "execution_count": null,
   "id": "70531c38-36b8-4f3a-bdab-64d752a9682c",
   "metadata": {},
   "outputs": [],
   "source": [
    "this_is_an_object = This_Is_A_Class()\n"
   ]
  },
  {
   "cell_type": "markdown",
   "id": "88d3feb9-d252-4291-88da-528c7c53133b",
   "metadata": {},
   "source": [
    "### What is a stack?\n",
    "\n",
    "A stack is a structure developed to store data in a very specific way. Imagine a stack of coins. You aren't able to put a coin anywhere else but on the top of the stack.\n",
    "\n",
    "Similarly, you can't get a coin off the stack from any place other than the top of the stack. If you want to get the coin that lies on the bottom, you have to remove all the coins from the higher levels.\n",
    "\n",
    "The alternative name for a stack (but only in IT terminology) is LIFO.\n",
    "\n",
    "It's an abbreviation for a very clear description of the stack's behavior: Last In - First Out. The coin that came last onto the stack will leave first.\n",
    "\n",
    "A stack is an object with two elementary operations, conventionally named push (when a new element is put on the top) and pop (when an existing element is taken away from the top).\n",
    "\n",
    "Stacks are used very often in many classical algorithms, and it's hard to imagine the implementation of many widely used tools without the use of stacks."
   ]
  },
  {
   "cell_type": "markdown",
   "id": "31044cbc-85b7-4b6a-9dfa-8d798de84ea8",
   "metadata": {},
   "source": [
    "Let's implement a stack in Python. This will be a very simple stack, and we'll show you how to do it in two independent approaches: procedural and objective.\n",
    "\n",
    "Let's start with the first one.\n"
   ]
  },
  {
   "cell_type": "markdown",
   "id": "17e737a2-1e43-42be-ae05-3521558ce02e",
   "metadata": {},
   "source": [
    "### The stack - the procedural approach\n",
    "\n",
    "First, you have to decide how to store the values which will arrive onto the stack. We suggest using the simplest of methods, and employing a list for this job. Let's assume that the size of the stack is not limited in any way. Let's also assume that the last element of the list stores the top element.\n",
    "\n",
    "The stack itself is already created:"
   ]
  },
  {
   "cell_type": "code",
   "execution_count": null,
   "id": "9e8b2897-dcbe-4a9c-8225-2801830b4b01",
   "metadata": {},
   "outputs": [],
   "source": [
    "stack = []\n"
   ]
  },
  {
   "cell_type": "markdown",
   "id": "cb7c4147-a831-4e94-a952-f09584a593b3",
   "metadata": {},
   "source": [
    "We're ready to define a function that puts a value onto the stack. Here are the presuppositions for it:\n",
    "\n",
    "    the name for the function is push;\n",
    "    the function gets one parameter (this is the value to be put onto the stack)\n",
    "    the function returns nothing;\n",
    "    the function appends the parameter's value to the end of the stack;\n",
    "\n",
    "This is how we've done it - take a look:"
   ]
  },
  {
   "cell_type": "code",
   "execution_count": null,
   "id": "5477add3-18c0-4566-a32b-7d233540019c",
   "metadata": {},
   "outputs": [],
   "source": [
    "def push(val):\n",
    "    stack.append(val)\n"
   ]
  },
  {
   "cell_type": "markdown",
   "id": "ff4410ac-83a8-446b-89aa-b2e03b3443aa",
   "metadata": {},
   "source": [
    "Now it's time for a function to take a value off the stack. This is how you can do it:\n",
    "\n",
    "    the name of the function is pop;\n",
    "    the function doesn't get any parameters;\n",
    "    the function returns the value taken from the stack\n",
    "    the function reads the value from the top of the stack and removes it.\n",
    "\n",
    "The function is here:"
   ]
  },
  {
   "cell_type": "code",
   "execution_count": null,
   "id": "6a9df388-ce5f-46aa-a120-f2574e6d160a",
   "metadata": {},
   "outputs": [],
   "source": [
    "def pop():\n",
    "    val = stack[-1]\n",
    "    del stack[-1]\n",
    "    return val\n"
   ]
  },
  {
   "cell_type": "markdown",
   "id": "8113dd44-266e-4a2c-bb46-ad490e4b14be",
   "metadata": {},
   "source": [
    "Note: the function doesn't check if there is any element in the stack.\n",
    "\n",
    "Let's assemble all the pieces together to set the stack in motion. The complete program pushes three numbers onto the stack, pulls them off, and prints their values on the screen. You can see it in the editor window."
   ]
  },
  {
   "cell_type": "code",
   "execution_count": null,
   "id": "ae48d004-3836-4c4d-9d22-5c2627e32967",
   "metadata": {},
   "outputs": [],
   "source": [
    "stack = []\n",
    "\n",
    "\n",
    "def push(val):\n",
    "    stack.append(val)\n",
    "\n",
    "\n",
    "def pop():\n",
    "    val = stack[-1]\n",
    "    del stack[-1]\n",
    "    return val\n",
    "\n",
    "\n",
    "push(3)\n",
    "push(2)\n",
    "push(1)\n",
    "\n",
    "\n",
    "print(pop())\n",
    "print(pop())\n",
    "print(pop())\n"
   ]
  },
  {
   "cell_type": "code",
   "execution_count": null,
   "id": "a177e4a5-fedc-4c47-9985-249e6fb0ac1f",
   "metadata": {},
   "outputs": [],
   "source": []
  },
  {
   "cell_type": "markdown",
   "id": "5891423b-6fbe-44ac-a1ae-0e9c71e85d34",
   "metadata": {},
   "source": [
    "### The stack - the procedural approach vs. the object-oriented approach\n",
    "\n",
    "The procedural stack is ready. Of course, there are some weaknesses, and the implementation could be improved in many ways (harnessing exceptions to work is a good idea), but in general the stack is fully implemented, and you can use it if you need to.\n",
    "\n",
    "But the more often you use it, the more disadvantages you'll encounter. Here are some of them:\n",
    "\n",
    "    the essential variable (the stack list) is highly vulnerable; anyone can modify it in an uncontrollable way, destroying the stack, in effect; this doesn't mean that it's been done maliciously - on the contrary, it may happen as a result of carelessness, e.g., when somebody confuses variable names; imagine that you have accidentally written something like this:\n"
   ]
  },
  {
   "cell_type": "code",
   "execution_count": null,
   "id": "14681498-d40b-425e-984d-46c464f5167e",
   "metadata": {},
   "outputs": [],
   "source": [
    "stack[0] = 0"
   ]
  },
  {
   "cell_type": "markdown",
   "id": "44593bf0-0e73-453b-b2d8-d72213a7a8f1",
   "metadata": {},
   "source": [
    "    The functioning of the stack will be completely disorganized;\n",
    "\n",
    "    it may also happen that one day you need more than one stack; you'll have to create another list for the stack's storage, and probably other push and pop functions too;\n",
    "\n",
    "    it may also happen that you need not only push and pop functions, but also some other conveniences; you could certainly implement them, but try to imagine what would happen if you had dozens of separately implemented stacks.\n",
    "\n",
    "\n",
    "\n",
    "The objective approach delivers solutions for each of the above problems. Let's name them first:\n",
    "\n",
    "    the ability to hide (protect) selected values against unauthorized access is called encapsulation; the encapsulated values can be neither accessed nor modified if you want to use them exclusively;\n",
    "\n",
    "    when you have a class implementing all the needed stack behaviors, you can produce as many stacks as you want; you needn't copy or replicate any part of the code;\n",
    "\n",
    "    the ability to enrich the stack with new functions comes from inheritance; you can create a new class (a subclass) which inherits all the existing traits from the superclass, and adds some new ones.\n",
    "\n",
    "The stack - procedural vs. object approach\n",
    "\n",
    "\n",
    "Let's now write a brand new stack implementation from scratch. This time, we'll use the objective approach, guiding you step by step into the world of object programming.\n",
    "\n"
   ]
  },
  {
   "cell_type": "code",
   "execution_count": null,
   "id": "d4ee5628-3abc-4c7d-8f78-fd0e49294668",
   "metadata": {},
   "outputs": [],
   "source": []
  },
  {
   "cell_type": "markdown",
   "id": "d2a0d65e-231e-456d-a9c6-21353ee370e7",
   "metadata": {},
   "source": [
    "### The stack - the object approach\n",
    "\n",
    "Of course, the main idea remains the same. We'll use a list as the stack's storage. We only have to know how to put the list into the class.\n",
    "\n",
    "Let's start from the absolute beginning - this is how the objective stack begins:"
   ]
  },
  {
   "cell_type": "code",
   "execution_count": null,
   "id": "1fbaf847-3831-4010-8a3f-b36eed9e8156",
   "metadata": {},
   "outputs": [],
   "source": [
    "class Stack:"
   ]
  },
  {
   "cell_type": "markdown",
   "id": "0742354b-bcbe-4e3a-8317-ba17e00e197e",
   "metadata": {},
   "source": [
    "Now, we expect two things from it:\n",
    "\n",
    "    we want the class to have one property as the stack's storage - we have to \"install\" a list inside each object of the class (note: each object has to have its own list - the list mustn't be shared among different stacks)\n",
    "    then, we want the list to be hidden from the class users' sight.\n",
    "\n",
    "How is this done?\n",
    "\n",
    "In contrast to other programming languages, Python has no means of allowing you to declare such a property just like that.\n",
    "\n",
    "Instead, you need to add a specific statement or instruction. The properties have to be added to the class manually.\n",
    "\n",
    "How do you guarantee that such an activity takes place every time the new stack is created?\n",
    "\n",
    "There is a simple way to do it - you have to equip the class with a specific function - its specificity is dual:\n",
    "\n",
    "    it has to be named in a strict way;\n",
    "    it is invoked implicitly, when the new object is created.\n",
    "\n",
    "Such a function is called a constructor, as its general purpose is to construct a new object. The constructor should know everything about the object's structure, and must perform all the needed initializations.\n",
    "\n",
    "Let's add a very simple constructor to the new class. Take a look at the snippet:"
   ]
  },
  {
   "cell_type": "code",
   "execution_count": null,
   "id": "36a3c935-2768-41c2-9973-9419360a2241",
   "metadata": {},
   "outputs": [],
   "source": [
    "class Stack:\n",
    "    def __init__(self):\n",
    "        print(\"Hi!\")\n",
    "\n",
    "\n",
    "stack_object = Stack()\n",
    "\n"
   ]
  },
  {
   "cell_type": "markdown",
   "id": "816999e7-c895-43a9-b7a5-fed35875af2a",
   "metadata": {},
   "source": [
    "And now:\n",
    "\n",
    "    the constructor's name is always __init__;\n",
    "    it has to have at least one parameter (we'll discuss this later); the parameter is used to represent the newly created object - you can use the parameter to manipulate the object, and to enrich it with the needed properties; you'll make use of this soon;\n",
    "    note: the obligatory parameter is usually named self - it's only a convention, but you should follow it - it simplifies the process of reading and understanding your code.\n"
   ]
  },
  {
   "cell_type": "markdown",
   "id": "be3e0e89-e8f0-4d0c-ac6f-500c8ed5b4a9",
   "metadata": {},
   "source": [
    "Any change you make inside the constructor that modifies the state of the self parameter will be reflected in the newly created object.\n",
    "\n",
    "This means you can add any property to the object and the property will remain there until the object finishes its life or the property is explicitly removed.\n",
    "\n",
    "Now let's add just one property to the new object – a list for a stack. We'll name it stack_list.\n",
    "\n",
    "Just like here:"
   ]
  },
  {
   "cell_type": "code",
   "execution_count": null,
   "id": "d1263e6b-ba42-4c59-9cde-73bc83eedcf1",
   "metadata": {},
   "outputs": [],
   "source": [
    "class Stack:\n",
    "    def __init__(self):\n",
    "        self.stack_list = [1,2,3,4,5]\n",
    "\n",
    "\n",
    "stack_object = Stack()\n",
    "print(len(stack_object.stack_list))\n",
    "\n"
   ]
  },
  {
   "cell_type": "markdown",
   "id": "c75c2420-58fb-489d-935b-d41809b14c36",
   "metadata": {},
   "source": [
    "Take a look - we've added two underscores before the stack_list name - nothing more:"
   ]
  },
  {
   "cell_type": "code",
   "execution_count": null,
   "id": "b51a6b7d-02c8-48e3-9f6f-761e4fea53ce",
   "metadata": {},
   "outputs": [],
   "source": [
    "class Stack:\n",
    "    def __init__(self):\n",
    "        self.__stack_list = []\n",
    "\n",
    "stack_object = Stack()\n",
    "print(len(stack_object.__stack_list))\n"
   ]
  },
  {
   "cell_type": "markdown",
   "id": "00311af9-dc2c-45c9-b85e-c5160be87dd6",
   "metadata": {},
   "source": [
    "The change invalidates the program.\n",
    "\n",
    "Why?\n",
    "\n",
    "When any class component has a name starting with two underscores (__), it becomes private - this means that it can be accessed only from within the class.\n",
    "\n",
    "You cannot see it from the outside world. This is how Python implements the encapsulation concept.\n",
    "\n",
    "Run the program to test our assumptions - an AttributeError exception should be raised."
   ]
  },
  {
   "cell_type": "code",
   "execution_count": null,
   "id": "d15aa234-3ce8-432b-b00a-3c31464cf703",
   "metadata": {},
   "outputs": [],
   "source": []
  },
  {
   "cell_type": "markdown",
   "id": "7c406f54-076c-4c70-a3d2-02a8166d7a62",
   "metadata": {},
   "source": [
    "### The object approach: a stack from scratch\n",
    "\n",
    "Now it's time for the two functions (methods) implementing the push and pop operations. Python assumes that a function of this kind (a class activity) should be immersed inside the class body - just like a constructor.\n",
    "\n",
    "We want to invoke these functions to push and pop values. This means that they should both be accessible to every class's user (in contrast to the previously constructed list, which is hidden from the ordinary class's users).\n",
    "\n",
    "Such a component is called public, so you can't begin its name with two (or more) underscores. There is one more requirement - the name must have no more than one trailing underscore. As no trailing underscores at all fully meets the requirement, you can assume that the name is acceptable.\n",
    "\n",
    "The functions themselves are simple. Take a look:"
   ]
  },
  {
   "cell_type": "code",
   "execution_count": null,
   "id": "1287702d-b96d-489a-bf7e-7b1990c04aa3",
   "metadata": {},
   "outputs": [],
   "source": [
    "class Stack:\n",
    "    def __init__(self):\n",
    "        self.__stack_list = []\n",
    "\n",
    "\n",
    "    def push(self, val):\n",
    "        self.__stack_list.append(val)\n",
    "\n",
    "\n",
    "    def pop(self):\n",
    "        val = self.__stack_list[-1]\n",
    "        del self.__stack_list[-1]\n",
    "        return val\n",
    "\n",
    "\n",
    "stack_object = Stack()\n",
    "\n",
    "stack_object.push(3)\n",
    "stack_object.push(2)\n",
    "stack_object.push(1)\n",
    "\n",
    "print(stack_object.pop())\n",
    "print(stack_object.pop())\n",
    "print(stack_object.pop())\n"
   ]
  },
  {
   "cell_type": "code",
   "execution_count": null,
   "id": "73c60631-290c-4d2e-8411-8448a0d99dff",
   "metadata": {},
   "outputs": [],
   "source": [
    "class Stack:\n",
    "    def __init__(self):\n",
    "        self.stack_list = []\n",
    "\n",
    "\n",
    "    def push(self, val):\n",
    "        self.stack_list.append(val)\n",
    "\n",
    "\n",
    "    def pop(self):\n",
    "        val = self.stack_list[-1]\n",
    "        del self.stack_list[-1]\n",
    "        return val\n",
    "\n",
    "\n",
    "stack_object = Stack()\n",
    "\n",
    "stack_object.push(3)\n",
    "stack_object.push(2)\n",
    "stack_object.push(1)\n",
    "\n",
    "print(stack_object.pop())\n",
    "print(stack_object.pop())\n",
    "print(stack_object.pop())\n"
   ]
  },
  {
   "cell_type": "markdown",
   "id": "ba3b88bd-6920-4cf2-9bc7-4dd0a8df9984",
   "metadata": {},
   "source": [
    "### Conclusion:\n",
    "The only difference between the two versions is encapsulation. The first code hides the internal list using double underscores (a private attribute), while the second one does not, making the list accessible from outside the class.\n",
    "\n",
    "\n",
    "\n",
    "\n",
    "\n",
    "\n",
    "\n",
    "\n",
    "\n",
    "\n",
    "\n"
   ]
  },
  {
   "cell_type": "markdown",
   "id": "cb55d97e-e493-4d55-afc2-8be39906e4a5",
   "metadata": {},
   "source": [
    "Having such a class opens up some new possibilities. For example, you can now have more than one stack behaving in the same way. Each stack will have its own copy of private data, but will utilize the same set of methods.\n",
    "\n",
    "This is exactly what we want for this example.\n",
    "\n",
    "Analyze the code:"
   ]
  },
  {
   "cell_type": "markdown",
   "id": "419dee9e-28b0-4c43-b222-7e6663360b1b",
   "metadata": {},
   "source": [
    "### class Stack:\n",
    "    def __init__(self):\n",
    "        self.__stack_list = [1,2,3,4,5]\n",
    "\n",
    "    def push(self, val):\n",
    "        self.__stack_list.append(val)\n",
    "\n",
    "    def pop(self):\n",
    "        val = self.__stack_list[-1]\n",
    "        del self.__stack_list[-1]\n",
    "        return val\n",
    "\n",
    "\n",
    "stack_object_1 = Stack()\n",
    "stack_object_2 = Stack()\n",
    "\n",
    "stack_object_1.push(2)\n",
    "stack_object_2.push(stack_object_1.pop())\n",
    "\n",
    "print(stack_object_2.pop())\n"
   ]
  },
  {
   "cell_type": "code",
   "execution_count": null,
   "id": "6265be42-3d15-4389-977e-4525936a8f4c",
   "metadata": {},
   "outputs": [],
   "source": [
    "class Stack:\n",
    "    def __init__(self):\n",
    "        self.__stack_list = []\n",
    "\n",
    "    def push(self, val):\n",
    "        self.__stack_list.append(val)\n",
    "\n",
    "    def pop(self):\n",
    "        val = self.__stack_list[-1]\n",
    "        del self.__stack_list[-1]\n",
    "        return val\n",
    "\n",
    "\n",
    "stack_object_1 = Stack()\n",
    "stack_object_2 = Stack()\n",
    "\n",
    "stack_object_1.push(3)\n",
    "stack_object_2.push(stack_object_1.pop())\n",
    "\n",
    "print(stack_object_2.pop())\n"
   ]
  },
  {
   "cell_type": "code",
   "execution_count": null,
   "id": "9cb0b70e-5dd1-4991-8008-a564927d4cd8",
   "metadata": {},
   "outputs": [],
   "source": [
    "class Stack:\n",
    "    def __init__(self):\n",
    "        self.__stack_list = []\n",
    "\n",
    "    def push(self, val):\n",
    "        self.__stack_list.append(val)\n",
    "\n",
    "    def pop(self):\n",
    "        val = self.__stack_list[-1]\n",
    "        del self.__stack_list[-1]\n",
    "        return val\n",
    "\n",
    "\n",
    "little_stack = Stack()\n",
    "another_stack = Stack()\n",
    "funny_stack = Stack()\n",
    "\n",
    "little_stack.push(1)\n",
    "another_stack.push(little_stack.pop() + 1)\n",
    "funny_stack.push(another_stack.pop() - 2)\n",
    "\n",
    "print(funny_stack.pop())"
   ]
  },
  {
   "cell_type": "markdown",
   "id": "1b15393d-0a10-4b6c-8b2c-2574e6943f03",
   "metadata": {},
   "source": [
    "Now let's go a little further. Let's add a new class for handling stacks.\n",
    "\n",
    "The new class should be able to evaluate the sum of all the elements currently stored on the stack.\n",
    "\n",
    "We don't want to modify the previously defined stack. It's already good enough in its applications, and we don't want it changed in any way. We want a new stack with new capabilities. In other words, we want to construct a subclass of the already existing Stack class.\n",
    "\n",
    "The first step is easy: just define a new subclass pointing to the class which will be used as the superclass.\n",
    "\n",
    "This is what it looks like:"
   ]
  },
  {
   "cell_type": "code",
   "execution_count": null,
   "id": "411e15e9-7575-47a3-b862-2add9dfb791a",
   "metadata": {},
   "outputs": [],
   "source": [
    "class AddingStack(Stack):\n",
    "    pass\n"
   ]
  },
  {
   "cell_type": "markdown",
   "id": "8df3952c-b25d-466d-b5e3-a97194bb8c8f",
   "metadata": {},
   "source": [
    "The class doesn't define any new component yet, but that doesn't mean that it's empty. It gets all the components defined by its superclass - the name of the superclass is written before the colon directly after the new class name.\n",
    "\n",
    "This is what we want from the new stack:\n",
    "\n",
    "    we want the push method not only to push the value onto the stack but also to add the value to the sum variable;\n",
    "    we want the pop function not only to pop the value off the stack but also to subtract the value from the sum variable.\n",
    "\n",
    "\n",
    "Firstly, let's add a new variable to the class. It'll be a private variable, like the stack list. We don't want anybody to manipulate the sum value.\n",
    "\n",
    "As you already know, adding a new property to the class is done by the constructor. You already know how to do that, but there is something really intriguing inside the constructor. Take a look:"
   ]
  },
  {
   "cell_type": "code",
   "execution_count": null,
   "id": "23a5a399-902a-4fcd-98c7-add85c525c87",
   "metadata": {},
   "outputs": [],
   "source": [
    "class AddingStack(Stack):\n",
    "    def __init__(self):\n",
    "        Stack.__init__(self)\n",
    "        self.__sum = 0\n"
   ]
  },
  {
   "cell_type": "markdown",
   "id": "96074d34-e338-42df-9637-867f60fc7f31",
   "metadata": {},
   "source": [
    "The second line of the constructor's body creates a property named __sum - it will store the total of all the stack's values.\n",
    "\n",
    "But the line before it looks different. What does it do? Is it really necessary? Yes, it is.\n",
    "\n",
    "Contrary to many other languages, Python forces you to explicitly invoke a superclass's constructor. Omitting this point will have harmful effects - the object will be deprived of the __stack_list list. Such a stack will not function properly.\n",
    "\n",
    "This is the only time you can invoke any of the available constructors explicitly - it can be done inside the subclass's constructor.\n",
    "\n",
    "Note the syntax:\n",
    "\n",
    "    you specify the superclass's name (this is the class whose constructor you want to run)\n",
    "    you put a dot (.)after it;\n",
    "    you specify the name of the constructor;\n",
    "    you have to point to the object (the class's instance) which has to be initialized by the constructor - this is why you have to specify the argument and use the self variable here; note: invoking any method (including constructors) from outside the class never requires you to put the self argument at the argument's list - invoking a method from within the class demands explicit usage of the self argument, and it has to be put first on the list.\n",
    "\n",
    "Note: it's generally a recommended practice to invoke the superclass's constructor before any other initializations you want to perform inside the subclass. This is the rule we have followed in the snippet.\n"
   ]
  },
  {
   "cell_type": "code",
   "execution_count": 1,
   "id": "2f094ea1-dfd9-495a-a021-8e4e69d06ecf",
   "metadata": {},
   "outputs": [],
   "source": [
    "class Stack:\n",
    "    def __init__(self):\n",
    "        self.__stack_list = []\n",
    "\n",
    "    def push(self, val):\n",
    "        self.__stack_list.append(val)\n",
    "\n",
    "    def pop(self):\n",
    "        val = self.__stack_list[-1]\n",
    "        del self.__stack_list[-1]\n",
    "        return val\n",
    "\n",
    "\n",
    "class AddingStack(Stack):\n",
    "    def __init__(self):\n",
    "        Stack.__init__(self)\n",
    "        self.__sum = 0\n"
   ]
  },
  {
   "cell_type": "markdown",
   "id": "3bdc636f-2727-4d22-a77c-860d697aae33",
   "metadata": {},
   "source": [
    "Secondly, let's add two methods. But let us ask you: is it really adding? We have these methods in the superclass already. Can we do something like that?\n",
    "\n",
    "Yes, we can. It means that we're going to change the functionality of the methods, not their names. We can say more precisely that the interface (the way in which the objects are handled) of the class remains the same when changing the implementation at the same time.\n",
    "\n",
    "Let's start with the implementation of the push function. This is what we expect from it:\n",
    "\n",
    "    to add the value to the __sum variable;\n",
    "    to push the value onto the stack.\n",
    "\n",
    "Note: the second activity has already been implemented inside the superclass - so we can use that. Furthermore, we have to use it, as there's no other way to access the __stackList variable.\n",
    "\n",
    "This is how the push method looks in the subclass:"
   ]
  },
  {
   "cell_type": "code",
   "execution_count": 3,
   "id": "9a1ca4f7-42af-440f-9260-d4221047a1e3",
   "metadata": {},
   "outputs": [],
   "source": [
    "def push(self, val):\n",
    "    self.__sum += val\n",
    "    Stack.push(self, val)\n"
   ]
  },
  {
   "cell_type": "markdown",
   "id": "eaa520a7-47d6-4e88-9f8f-2749f2f77160",
   "metadata": {},
   "source": [
    "Note the way we've invoked the previous implementation of the push method (the one available in the superclass):\n",
    "\n",
    "    we have to specify the superclass's name; this is necessary in order to clearly indicate the class containing the method, to avoid confusing it with any other function of the same name;\n",
    "    we have to specify the target object and to pass it as the first argument (it's not implicitly added to the invocation in this context.)\n",
    "\n",
    "We say that the push method has been overridden - the same name as in the superclass now represents a different functionality."
   ]
  },
  {
   "cell_type": "code",
   "execution_count": null,
   "id": "746ac94b-c2c9-4db2-a9cf-384aa80b0b55",
   "metadata": {},
   "outputs": [],
   "source": []
  },
  {
   "cell_type": "markdown",
   "id": "bf6a8e4b-ba41-401c-9183-c8f90b0e301c",
   "metadata": {},
   "source": [
    "##### This is the new pop function:"
   ]
  },
  {
   "cell_type": "code",
   "execution_count": null,
   "id": "dbb176dc-0b85-4738-83fa-03f01efb01af",
   "metadata": {},
   "outputs": [],
   "source": [
    "def pop(self):\n",
    "    val = Stack.pop(self)\n",
    "    self.__sum -= val\n",
    "    return val\n"
   ]
  },
  {
   "cell_type": "markdown",
   "id": "b948cd9c-6284-4662-af94-daf60be2f1f1",
   "metadata": {},
   "source": [
    "So far, we've defined the __sum variable, but we haven't provided a method to get its value. It seems to be hidden. How can we reveal it and do it in a way that still protects it from modifications?\n",
    "\n",
    "We have to define a new method. We'll name it get_sum. Its only task will be to return the __sum value.\n",
    "\n",
    "Here it is:"
   ]
  },
  {
   "cell_type": "code",
   "execution_count": null,
   "id": "8be20aaa-59e1-444f-b44e-ab5c2605ad84",
   "metadata": {},
   "outputs": [],
   "source": [
    "def get_sum(self):\n",
    "    return self.__sum"
   ]
  },
  {
   "cell_type": "markdown",
   "id": "44aa6555-4225-40f5-8235-3affa421814a",
   "metadata": {},
   "source": [
    "So, let's look at the program in the editor. The complete code of the class is there. We can check its functioning now, and we do it with the help of a very few additional lines of code.\n",
    "\n",
    "As you can see, we add five subsequent values onto the stack, print their sum, and take them all off the stack.\n",
    "\n",
    "Okay, this has been a very brief introduction to Python's object programming. Soon we're going to tell you about it all in more detail."
   ]
  },
  {
   "cell_type": "code",
   "execution_count": 6,
   "id": "0ed95b03-8de2-4e43-a5f0-6b7f8ff0e64d",
   "metadata": {},
   "outputs": [
    {
     "name": "stdout",
     "output_type": "stream",
     "text": [
      "10\n",
      "4\n",
      "3\n",
      "2\n",
      "1\n",
      "0\n"
     ]
    }
   ],
   "source": [
    "class Stack:\n",
    "    def __init__(self):\n",
    "        self.__stack_list = []\n",
    "\n",
    "    def push(self, val):\n",
    "        self.__stack_list.append(val)\n",
    "\n",
    "    def pop(self):\n",
    "        val = self.__stack_list[-1]\n",
    "        del self.__stack_list[-1]\n",
    "        return val\n",
    "\n",
    "\n",
    "class AddingStack(Stack):\n",
    "    def __init__(self):\n",
    "        Stack.__init__(self)\n",
    "        self.__sum = 0\n",
    "\n",
    "    def get_sum(self):\n",
    "        return self.__sum\n",
    "\n",
    "    def push(self, val):\n",
    "        self.__sum += val\n",
    "        Stack.push(self, val)\n",
    "\n",
    "    def pop(self):\n",
    "        val = Stack.pop(self)\n",
    "        self.__sum -= val\n",
    "        return val\n",
    "\n",
    "\n",
    "stack_object = AddingStack()\n",
    "\n",
    "for i in range(5):\n",
    "    stack_object.push(i)\n",
    "print(stack_object.get_sum())\n",
    "\n",
    "for i in range(5):\n",
    "    print(stack_object.pop())\n"
   ]
  },
  {
   "cell_type": "markdown",
   "id": "e2c2ac13-5962-4da2-a69b-0c8655786661",
   "metadata": {},
   "source": [
    "### Key takeaways\n",
    "\n",
    "1. A stack is an object designed to store data using the LIFO model. The stack usually performs at least two operations, named push() and pop().\n",
    "\n",
    "2. Implementing the stack in a procedural model raises several problems which can be solved by the techniques offered by OOP (Object Oriented Programming):\n",
    "\n",
    "3. A class method is actually a function declared inside the class and able to access all the class's components.\n",
    "\n",
    "4. The part of the Python class responsible for creating new objects is called the constructor, and it's implemented as a method of the name __init__.\n",
    "\n",
    "5. Each class method declaration must contain at least one parameter (always the first one) usually referred to as self, and is used by the objects to identify themselves.\n",
    "\n",
    "6. If we want to hide any of a class's components from the outside world, we should start its name with __. Such components are called private.\n"
   ]
  },
  {
   "cell_type": "code",
   "execution_count": 16,
   "id": "e2fc6e17-18aa-43b7-b604-e5af98070258",
   "metadata": {},
   "outputs": [
    {
     "name": "stdout",
     "output_type": "stream",
     "text": [
      "100\n"
     ]
    }
   ],
   "source": [
    "class Stack:\n",
    "    def __init__(self):\n",
    "        self.__stk = []\n",
    "\n",
    "    def push(self, val):\n",
    "        self.__stk.append(val)\n",
    "\n",
    "    def pop(self):\n",
    "        val = self.__stk[-1]\n",
    "        del self.__stk[-1]\n",
    "        return val\n",
    "\n",
    "\n",
    "class CountingStack(Stack):\n",
    "    def __init__(self):\n",
    "        Stack.__init__(self)\n",
    "        self.__counter = 0\n",
    "    #\n",
    "    # Fill the constructor with appropriate actions.\n",
    "    #\n",
    "\n",
    "    def get_counter(self):\n",
    "        return self.__counter\n",
    "    #\n",
    "    # Present the counter's current value to the world.\n",
    "    #\n",
    "\n",
    "    def pop(self):\n",
    "        val = Stack.pop(self)\n",
    "        self.__counter += 1\n",
    "        return val\n",
    "    #\n",
    "    # Do pop and update the counter.\n",
    "    #\n",
    "\t\n",
    "\n",
    "stk = CountingStack()\n",
    "for i in range(100):\n",
    "    stk.push(i)\n",
    "    stk.pop()\n",
    "print(stk.get_counter())\n"
   ]
  },
  {
   "cell_type": "code",
   "execution_count": null,
   "id": "e73bf751-e00c-4294-be60-de34525ac788",
   "metadata": {},
   "outputs": [],
   "source": []
  },
  {
   "cell_type": "code",
   "execution_count": 22,
   "id": "a5dec159-98ae-4424-8c04-4f087e0ddab4",
   "metadata": {},
   "outputs": [
    {
     "name": "stdout",
     "output_type": "stream",
     "text": [
      "1\n",
      "dog\n",
      "False\n",
      "Queue error\n"
     ]
    }
   ],
   "source": [
    "class QueueError(QueueError):\n",
    "    pass\n",
    "\n",
    "\n",
    "class Queue:\n",
    "    def __init__(self):\n",
    "        self.queue = []  # Use a list to store the queue elements\n",
    "\n",
    "    def put(self, element):\n",
    "        \"\"\"Puts an element at the front of the queue\"\"\"\n",
    "        self.queue.insert(0, element)  # Insert the element at the beginning (index 0)\n",
    "\n",
    "    def get(self):\n",
    "        \"\"\"Removes and returns the element from the end of the queue\"\"\"\n",
    "        if len(self.queue) > 0:\n",
    "            element = self.queue[-1]\n",
    "            del self.queue[-1]\n",
    "            return element\n",
    "        else:\n",
    "            raise QueueError(\"Queue error\")  # Raise QueueError if the queue is empty\n",
    "        return self.__queue_list.pop()  # Remove and return the element from the end of the list\n",
    "\n",
    "\n",
    "# Testing the Queue class\n",
    "queue = Queue()\n",
    "\n",
    "# Put some elements into the queue\n",
    "queue.put(1)\n",
    "queue.put(\"dog\")\n",
    "queue.put(False)\n",
    "\n",
    "# Get elements from the queue (FIFO order)\n",
    "print(queue.get())  # Output: 1 (first in, first out)\n",
    "print(queue.get())  # Output: 2\n",
    "print(queue.get())  # Output: 3\n",
    "\n",
    "# Try to get from an empty queue, expect QueueError\n",
    "try:\n",
    "    for i in range(4):\n",
    "        print(queue.get())  # This should raise QueueError\n",
    "except QueueError as e:\n",
    "    print(e)  # Output: Queue is empty\n"
   ]
  },
  {
   "cell_type": "code",
   "execution_count": 23,
   "id": "1dcd0f1b-e0aa-45c8-94e4-fcca917e7af2",
   "metadata": {},
   "outputs": [
    {
     "name": "stdout",
     "output_type": "stream",
     "text": [
      "1\n",
      "dog\n",
      "False\n",
      "Queue error\n"
     ]
    }
   ],
   "source": [
    "class QueueError(IndexError):\n",
    "    pass\n",
    "\n",
    "\n",
    "class Queue:\n",
    "    def __init__(self):\n",
    "        self.queue = []\n",
    "\n",
    "    def put(self, elem):\n",
    "        self.queue.insert(0, elem)\n",
    "\n",
    "    def get(self):\n",
    "        if len(self.queue) > 0:\n",
    "            elem = self.queue[-1]\n",
    "            del self.queue[-1]\n",
    "            return elem\n",
    "        else:\n",
    "            raise QueueError\n",
    "\n",
    "\n",
    "que = Queue()\n",
    "que.put(1)\n",
    "que.put(\"dog\")\n",
    "que.put(False)\n",
    "try:\n",
    "    for i in range(4):\n",
    "        print(que.get())\n",
    "except:\n",
    "    print(\"Queue error\")\n"
   ]
  },
  {
   "cell_type": "code",
   "execution_count": 32,
   "id": "5936b5cf-b26a-438d-9af4-271510965f7b",
   "metadata": {},
   "outputs": [
    {
     "name": "stdout",
     "output_type": "stream",
     "text": [
      "1\n",
      "dog\n",
      "False\n",
      "Queue empty\n"
     ]
    }
   ],
   "source": [
    "class QueueError(IndexError):\n",
    "    pass\n",
    "\n",
    "\n",
    "class Queue:\n",
    "    def __init__(self):\n",
    "        self.queue = []\n",
    "\n",
    "    def put(self, elem):\n",
    "        self.queue.insert(0, elem)\n",
    "\n",
    "    def get(self):\n",
    "        if len(self.queue) > 0:\n",
    "            elem = self.queue[-1]\n",
    "            del self.queue[-1]\n",
    "            return elem\n",
    "        else:\n",
    "            raise QueueError\n",
    "class SuperQueue(Queue):\n",
    "    def isempty(self):\n",
    "        return len(self.queue) == 0\n",
    "\n",
    "\n",
    "que = SuperQueue()\n",
    "que.put(1)\n",
    "que.put(\"dog\")\n",
    "que.put(False)\n",
    "for i in range(4):\n",
    "    if not que.isempty():\n",
    "        print(que.get())\n",
    "    else:\n",
    "        print(\"Queue empty\")\n"
   ]
  },
  {
   "cell_type": "code",
   "execution_count": null,
   "id": "486200ff-9b16-4a0a-87f8-9d0c8807a183",
   "metadata": {},
   "outputs": [],
   "source": []
  },
  {
   "cell_type": "markdown",
   "id": "551e4b3f-6f03-4068-8f1f-95c448526319",
   "metadata": {},
   "source": [
    "### Instance variables\n",
    "\n",
    "In general, a class can be equipped with two different kinds of data to form a class's properties. You already saw one of them when we were looking at stacks.\n",
    "\n",
    "This kind of class property exists when and only when it is explicitly created and added to an object. As you already know, this can be done during the object's initialization, performed by the constructor.\n",
    "\n",
    "Moreover, it can be done in any moment of the object's life. Furthermore, any existing property can be removed at any time.\n",
    "\n",
    "Such an approach has some important consequences:\n",
    "\n",
    "    different objects of the same class may possess different sets of properties;\n",
    "    there must be a way to safely check if a specific object owns the property you want to utilize (unless you want to provoke an exception - it's always worth considering)\n",
    "    each object carries its own set of properties - they don't interfere with one another in any way.\n",
    "\n",
    "Such variables (properties) are called instance variables.\n",
    "\n",
    "The word instance suggests that they are closely connected to the objects (which are class instances), not to the classes themselves. Let's take a closer look at them.\n",
    "\n",
    "Here is an example:"
   ]
  },
  {
   "cell_type": "code",
   "execution_count": 7,
   "id": "fe072cde-d0c9-447a-b0a3-a92933dabeca",
   "metadata": {},
   "outputs": [
    {
     "name": "stdout",
     "output_type": "stream",
     "text": [
      "{'first': 1, 'fouth': 6}\n",
      "{'first': 2, 'second': 3}\n",
      "{'first': 4, 'third': 5}\n"
     ]
    }
   ],
   "source": [
    "class ExampleClass:\n",
    "    def __init__(self, val = 1):\n",
    "        self.first = val\n",
    "\n",
    "    def set_second(self, val):\n",
    "        self.second = val\n",
    "\n",
    "\n",
    "example_object_1 = ExampleClass()\n",
    "example_object_2 = ExampleClass(2)\n",
    "\n",
    "\n",
    "example_object_2.set_second(3)\n",
    "\n",
    "example_object_3 = ExampleClass(4)\n",
    "example_object_3.third = 5\n",
    "example_object_1.fouth = 6\n",
    "\n",
    "print(example_object_1.__dict__)\n",
    "print(example_object_2.__dict__)\n",
    "\n",
    "\n"
   ]
  },
  {
   "cell_type": "markdown",
   "id": "43094306-5de7-4a5f-9f98-b6e366c9c832",
   "metadata": {},
   "source": [
    "It needs one additional explanation before we go into any more detail. Take a look at the last three lines of the code.\n",
    "\n",
    "Python objects, when created, are gifted with a small set of predefined properties and methods. Each object has got them, whether you want them or not. One of them is a variable named __dict__ (it's a dictionary).\n",
    "\n",
    "The variable contains the names and values of all the properties (variables) the object is currently carrying. Let's make use of it to safely present an object's contents.\n",
    "\n",
    "Let's dive into the code now:\n",
    "\n",
    "    the class named ExampleClass has a constructor, which unconditionally creates an instance variable named first, and sets it with the value passed through the first argument (from the class user's perspective) or the second argument (from the constructor's perspective); note the default value of the parameter - any trick you can do with a regular function parameter can be applied to methods, too;\n",
    "\n",
    "    the class also has a method which creates another instance variable, named second;\n",
    "\n",
    "    we've created three objects of the class ExampleClass, but all these instances differ:\n",
    "\n",
    "        example_object_1 only has the property named first;\n",
    "\n",
    "        example_object_2 has two properties: first and second;\n",
    "\n",
    "        example_object_3 has been enriched with a property named third just on the fly, outside the class's code - this is possible and fully permissible.\n",
    "\n",
    "The program's output clearly shows that our assumptions are correct - here it is:"
   ]
  },
  {
   "cell_type": "code",
   "execution_count": 9,
   "id": "e0a44325-414a-49af-a477-ba570dfcc2ee",
   "metadata": {},
   "outputs": [
    {
     "name": "stdout",
     "output_type": "stream",
     "text": [
      "{'first': 1, 'fourth': 6}\n",
      "{'first': 2, 'second': 3}\n",
      "{'first': 4, 'third': 5}\n",
      "{'first': 5}\n"
     ]
    }
   ],
   "source": [
    "class ExampleClass:\n",
    "    def __init__(self, val = 1):\n",
    "        self.first = val\n",
    "\n",
    "    def set_second(self, val):\n",
    "        self.second = val\n",
    "\n",
    "\n",
    "example_object_1 = ExampleClass()\n",
    "example_object_2 = ExampleClass(2)\n",
    "\n",
    "\n",
    "example_object_2.set_second(3)\n",
    "\n",
    "example_object_3 = ExampleClass(4)\n",
    "example_object_3.third = 5\n",
    "example_object_4 = ExampleClass(5)\n",
    "example_object_1.fourth = 6\n",
    "\n",
    "print(example_object_1.__dict__)\n",
    "print(example_object_2.__dict__)\n",
    "print(example_object_3.__dict__)\n",
    "print(example_object_4.__dict__)"
   ]
  },
  {
   "cell_type": "markdown",
   "id": "09d2e387-b4f1-462a-a143-5804bd4c6d89",
   "metadata": {},
   "source": [
    "There is one additional conclusion that should be stated here: modifying an instance variable of any object has no impact on all the remaining objects. Instance variables are perfectly isolated from each other.\n"
   ]
  },
  {
   "cell_type": "code",
   "execution_count": null,
   "id": "b15cb39e-22cb-4c69-ac70-1ed442b06dfb",
   "metadata": {},
   "outputs": [],
   "source": []
  },
  {
   "cell_type": "markdown",
   "id": "90f4f8c0-bf95-4246-9eaf-5aa26e72a1ce",
   "metadata": {},
   "source": [
    "#### Take a look at the modified example in the editor.\n",
    "\n",
    "It's nearly the same as the previous one. The only difference is in the property names. We've added two underscores (__) in front of them.\n",
    "\n",
    "As you know, such an addition makes the instance variable private - it becomes inaccessible from the outer world.\n",
    "\n",
    "The actual behavior of these names is a bit more complicated, so let's run the program. This is the output:"
   ]
  },
  {
   "cell_type": "code",
   "execution_count": 10,
   "id": "adb45a73-47f5-4c4a-802d-e3e8e014a4a6",
   "metadata": {},
   "outputs": [
    {
     "name": "stdout",
     "output_type": "stream",
     "text": [
      "{'_ExampleClass__first': 1}\n",
      "{'_ExampleClass__first': 2, '_ExampleClass__second': 3}\n",
      "{'_ExampleClass__first': 4, '__third': 5}\n"
     ]
    }
   ],
   "source": [
    "class ExampleClass:\n",
    "    def __init__(self, val = 1):\n",
    "        self.__first = val\n",
    "\n",
    "    def set_second(self, val = 2):\n",
    "        self.__second = val\n",
    "\n",
    "\n",
    "example_object_1 = ExampleClass()\n",
    "example_object_2 = ExampleClass(2)\n",
    "\n",
    "example_object_2.set_second(3)\n",
    "\n",
    "example_object_3 = ExampleClass(4)\n",
    "example_object_3.__third = 5\n",
    "\n",
    "\n",
    "print(example_object_1.__dict__)\n",
    "print(example_object_2.__dict__)\n",
    "print(example_object_3.__dict__)\n"
   ]
  },
  {
   "cell_type": "markdown",
   "id": "b2e3679d-ed54-402a-8d04-e039b96b509a",
   "metadata": {},
   "source": [
    "Can you see these strange names full of underscores? Where did they come from?\n",
    "\n",
    "When Python sees that you want to add an instance variable to an object and you're going to do it inside any of the object's methods, it mangles the operation in the following way:\n",
    "\n",
    "    it puts a class name before your name;\n",
    "    it puts an additional underscore at the beginning.\n",
    "\n",
    "This is why the __first becomes _ExampleClass__first.\n",
    "\n",
    "The name is now fully accessible from outside the class. You can run a code like this:"
   ]
  },
  {
   "cell_type": "code",
   "execution_count": 12,
   "id": "dca63f18-892a-4e10-bfb1-87fe01f7f466",
   "metadata": {},
   "outputs": [
    {
     "name": "stdout",
     "output_type": "stream",
     "text": [
      "1\n",
      "2\n",
      "4\n"
     ]
    }
   ],
   "source": [
    "print(example_object_1._ExampleClass__first)\n",
    "print(example_object_2._ExampleClass__first)\n",
    "print(example_object_3._ExampleClass__first)"
   ]
  },
  {
   "cell_type": "markdown",
   "id": "9dc73b31-0b7b-40a6-94ed-eaff78ed6e93",
   "metadata": {},
   "source": [
    "and you'll get a valid result with no errors or exceptions.\n",
    "\n",
    "As you can see, making a property private is limited.\n",
    "\n",
    "The mangling won't work if you add a private instance variable outside the class code. In this case, it'll behave like any other ordinary property.\n"
   ]
  },
  {
   "cell_type": "code",
   "execution_count": null,
   "id": "d75d357f-ef41-4a51-b061-608afd4b6554",
   "metadata": {},
   "outputs": [],
   "source": []
  },
  {
   "cell_type": "markdown",
   "id": "25e2bffc-8922-44a4-a4d1-abf7afa90d16",
   "metadata": {},
   "source": [
    "### Class variables\n",
    "\n",
    "A class variable is a property which exists in just one copy and is stored outside any object.\n",
    "\n",
    "Note: no instance variable exists if there is no object in the class; a class variable exists in one copy even if there are no objects in the class.\n",
    "\n",
    "Class variables are created differently to their instance siblings. The example will tell you more:"
   ]
  },
  {
   "cell_type": "code",
   "execution_count": 14,
   "id": "0381f4b2-0131-431c-af3d-c37e81e6b9ed",
   "metadata": {},
   "outputs": [
    {
     "name": "stdout",
     "output_type": "stream",
     "text": [
      "{'first': 1} 3\n",
      "{'first': 2} 3\n",
      "{'first': 4} 3\n"
     ]
    }
   ],
   "source": [
    "class ExampleClass:\n",
    "    counter = 0\n",
    "    def __init__(self, val = 1):\n",
    "        self.first = val\n",
    "        ExampleClass.counter += 1\n",
    "\n",
    "\n",
    "example_object_1 = ExampleClass()\n",
    "example_object_2 = ExampleClass(2)\n",
    "example_object_3 = ExampleClass(4)\n",
    "\n",
    "print(example_object_1.__dict__, example_object_1.counter)\n",
    "print(example_object_2.__dict__, example_object_2.counter)\n",
    "print(example_object_3.__dict__, example_object_3.counter)\n",
    "\n"
   ]
  },
  {
   "cell_type": "code",
   "execution_count": 17,
   "id": "eba57c2e-9eda-4e21-8874-a8130204b535",
   "metadata": {},
   "outputs": [
    {
     "name": "stdout",
     "output_type": "stream",
     "text": [
      "{'_ExampleClass__first': 1} 3\n",
      "{'_ExampleClass__first': 2} 3\n",
      "{'_ExampleClass__first': 4} 3\n"
     ]
    }
   ],
   "source": [
    "class ExampleClass:\n",
    "    counter = 0\n",
    "    def __init__(self, val = 1):\n",
    "        self.__first = val\n",
    "        ExampleClass.counter += 1\n",
    "\n",
    "\n",
    "example_object_1 = ExampleClass()\n",
    "example_object_2 = ExampleClass(2)\n",
    "example_object_3 = ExampleClass(4)\n",
    "\n",
    "print(example_object_1.__dict__, example_object_1.counter)\n",
    "print(example_object_2.__dict__, example_object_2.counter)\n",
    "print(example_object_3.__dict__, example_object_3.counter)\n",
    "\n"
   ]
  },
  {
   "cell_type": "markdown",
   "id": "7abc873d-4358-417c-ac35-5b3730dafd1b",
   "metadata": {},
   "source": [
    "Two important conclusions come from the example:\n",
    "\n",
    "    class variables aren't shown in an object's __dict__ (this is natural as class variables aren't parts of an object) but you can always try to look into the variable of the same name, but at the class level – we'll show you this very soon;\n",
    "    a class variable always presents the same value in all class instances (objects)\n"
   ]
  },
  {
   "cell_type": "markdown",
   "id": "78373e40-dc31-4a2a-8b0f-824145fd43bf",
   "metadata": {},
   "source": [
    "### Class variables: continued\n",
    "\n",
    "Mangling a class variable's name has the same effects as those you're already familiar with.\n",
    "\n",
    "Look at the example in the editor. Can you guess its output?\n",
    "\n",
    "Run the program and check if your predictions were correct. Everything works as expected, doesn't it?\n"
   ]
  },
  {
   "cell_type": "code",
   "execution_count": 20,
   "id": "5628e787-261a-4466-8c60-a420b9fb6322",
   "metadata": {},
   "outputs": [
    {
     "name": "stdout",
     "output_type": "stream",
     "text": [
      "{'_ExampleClass__first': 1} 3\n",
      "{'_ExampleClass__first': 2} 3\n",
      "{'_ExampleClass__first': 4} 3\n"
     ]
    }
   ],
   "source": [
    "class ExampleClass:\n",
    "    __counter = 0\n",
    "    def __init__(self, val = 1):\n",
    "        self.__first = val\n",
    "        ExampleClass.__counter += 1\n",
    "\n",
    "\n",
    "example_object_1 = ExampleClass()\n",
    "example_object_2 = ExampleClass(2)\n",
    "example_object_3 = ExampleClass(4)\n",
    "\n",
    "print(example_object_1.__dict__, example_object_1._ExampleClass__counter)\n",
    "print(example_object_2.__dict__, example_object_2._ExampleClass__counter)\n",
    "print(example_object_3.__dict__, example_object_3._ExampleClass__counter)\n"
   ]
  },
  {
   "cell_type": "markdown",
   "id": "0bcece8d-66aa-4347-90ef-f64d2cf911ed",
   "metadata": {},
   "source": [
    "Now we're going to take the opportunity to show you the difference between these two **__dict__** variables, the one from the class and the one from the object.\n",
    "\n",
    "Look at the code in the editor. The proof is there.\n",
    "\n",
    "Let's take a closer look at it:"
   ]
  },
  {
   "cell_type": "code",
   "execution_count": 26,
   "id": "35994b0b-7724-476f-8f32-719bf54313e4",
   "metadata": {},
   "outputs": [
    {
     "name": "stdout",
     "output_type": "stream",
     "text": [
      "{'__module__': '__main__', 'varia': 1, '__init__': <function ExampleClass.__init__ at 0x00000171A130E0C0>, '__dict__': <attribute '__dict__' of 'ExampleClass' objects>, '__weakref__': <attribute '__weakref__' of 'ExampleClass' objects>, '__doc__': None}\n",
      "{'__module__': '__main__', 'varia': 2, '__init__': <function ExampleClass.__init__ at 0x00000171A130E0C0>, '__dict__': <attribute '__dict__' of 'ExampleClass' objects>, '__weakref__': <attribute '__weakref__' of 'ExampleClass' objects>, '__doc__': None}\n",
      "{}\n"
     ]
    }
   ],
   "source": [
    "class ExampleClass:\n",
    "    varia = 1\n",
    "    def __init__(self, val):\n",
    "        ExampleClass.varia = val\n",
    "\n",
    "\n",
    "print(ExampleClass.__dict__)\n",
    "example_object = ExampleClass(2)\n",
    "\n",
    "print(ExampleClass.__dict__)\n",
    "print(example_object.__dict__)\n"
   ]
  },
  {
   "cell_type": "markdown",
   "id": "193ae648-0e41-4741-95f6-4e322ae5241b",
   "metadata": {},
   "source": [
    "#### Let's take a closer look at it:\n",
    "\n",
    "    We define one class named ExampleClass;\n",
    "\n",
    "    The class defines one class variable named varia;\n",
    "\n",
    "    The class constructor sets the variable with the parameter's value;\n",
    "\n",
    "    Naming the variable is the most important aspect of the example because:\n",
    "        Changing the assignment to self.varia = val would create an instance variable of the same name as the class's one;\n",
    "        Changing the assignment to varia = val would operate on a method's local variable; (we strongly encourage you to test both of the above cases - this will make it easier for you to remember the difference)\n",
    "    The first line of the off-class code prints the value of the ExampleClass.varia attribute; note - we use the value before the very first object of the class is instantiated.\n",
    "\n",
    "Run the code in the editor and check its output.\n",
    "\n",
    "As you can see, the class' __dict__ contains much more data than its object's counterpart. Most of them are useless now - the one we want you to check carefully shows the current varia value.\n",
    "\n",
    "Note that the object's __dict__ is empty - the object has no instance variables."
   ]
  },
  {
   "cell_type": "code",
   "execution_count": 27,
   "id": "b53138b2-3df5-4ffd-ac5f-7a8c188c471f",
   "metadata": {},
   "outputs": [
    {
     "name": "stdout",
     "output_type": "stream",
     "text": [
      "{'__module__': '__main__', 'varia': 1, '__init__': <function ExampleClass.__init__ at 0x00000171A206CEA0>, '__dict__': <attribute '__dict__' of 'ExampleClass' objects>, '__weakref__': <attribute '__weakref__' of 'ExampleClass' objects>, '__doc__': None}\n",
      "{'__module__': '__main__', 'varia': 1, '__init__': <function ExampleClass.__init__ at 0x00000171A206CEA0>, '__dict__': <attribute '__dict__' of 'ExampleClass' objects>, '__weakref__': <attribute '__weakref__' of 'ExampleClass' objects>, '__doc__': None}\n",
      "{'varia': 2}\n"
     ]
    }
   ],
   "source": [
    "class ExampleClass:\n",
    "    varia = 1\n",
    "    def __init__(self, val):\n",
    "        self.varia = val\n",
    "\n",
    "\n",
    "print(ExampleClass.__dict__)\n",
    "example_object = ExampleClass(2)\n",
    "\n",
    "print(ExampleClass.__dict__)\n",
    "print(example_object.__dict__)\n"
   ]
  },
  {
   "cell_type": "code",
   "execution_count": null,
   "id": "550a6c73-486b-40e0-b137-ea3e3fcb9228",
   "metadata": {},
   "outputs": [],
   "source": []
  },
  {
   "cell_type": "markdown",
   "id": "1f308355-f130-4db1-abd1-80473777c657",
   "metadata": {},
   "source": [
    "### Checking an attribute's existence\n",
    "\n",
    "Python's attitude to object instantiation raises one important issue - in contrast to other programming languages, you may not expect that all objects of the same class have the same sets of properties.\n",
    "\n",
    "Just like in the example in the editor. Look at it carefully."
   ]
  },
  {
   "cell_type": "code",
   "execution_count": 30,
   "id": "13dddc63-afa2-43ce-a5e5-12d758a59567",
   "metadata": {},
   "outputs": [
    {
     "name": "stdout",
     "output_type": "stream",
     "text": [
      "1\n"
     ]
    },
    {
     "ename": "AttributeError",
     "evalue": "'ExampleClass' object has no attribute 'b'",
     "output_type": "error",
     "traceback": [
      "\u001b[1;31m---------------------------------------------------------------------------\u001b[0m",
      "\u001b[1;31mAttributeError\u001b[0m                            Traceback (most recent call last)",
      "Cell \u001b[1;32mIn[30], line 12\u001b[0m\n\u001b[0;32m      9\u001b[0m example_object \u001b[38;5;241m=\u001b[39m ExampleClass(\u001b[38;5;241m1\u001b[39m)\n\u001b[0;32m     11\u001b[0m \u001b[38;5;28mprint\u001b[39m(example_object\u001b[38;5;241m.\u001b[39ma)\n\u001b[1;32m---> 12\u001b[0m \u001b[38;5;28mprint\u001b[39m(example_object\u001b[38;5;241m.\u001b[39mb)\n",
      "\u001b[1;31mAttributeError\u001b[0m: 'ExampleClass' object has no attribute 'b'"
     ]
    }
   ],
   "source": [
    "class ExampleClass:\n",
    "    def __init__(self, val):\n",
    "        if val % 2 != 0:\n",
    "            self.a = 1\n",
    "        else:\n",
    "            self.b = 1\n",
    "\n",
    "\n",
    "example_object = ExampleClass(1)\n",
    "\n",
    "print(example_object.a)\n",
    "print(example_object.b)\n"
   ]
  },
  {
   "cell_type": "markdown",
   "id": "d6ac8735-3bb7-4b12-bcd5-15050c6b1a2a",
   "metadata": {},
   "source": [
    "The object created by the constructor can have only one of two possible attributes: a or b.\n",
    "\n",
    "As you can see, accessing a non-existing object (class) attribute causes an AttributeError exception.\n"
   ]
  },
  {
   "cell_type": "markdown",
   "id": "ec430364-efac-4d26-8653-13bb5a314976",
   "metadata": {},
   "source": [
    "### Checking an attribute's existence: continued\n",
    "\n",
    "The try-except instruction gives you the chance to avoid issues with non-existent properties.\n",
    "\n",
    "It's easy - look at the code in the editor."
   ]
  },
  {
   "cell_type": "code",
   "execution_count": 36,
   "id": "7264e841-94d0-4e7c-b438-d04f20253503",
   "metadata": {},
   "outputs": [
    {
     "name": "stdout",
     "output_type": "stream",
     "text": [
      "1\n"
     ]
    }
   ],
   "source": [
    "class ExampleClass:\n",
    "    def __init__(self, val):\n",
    "        if val % 2 != 0:\n",
    "            self.a = 1\n",
    "        else:\n",
    "            self.b = 1\n",
    "\n",
    "\n",
    "example_object = ExampleClass(1)\n",
    "print(example_object.a)\n",
    "\n",
    "try:\n",
    "    print(example_object.b)\n",
    "except AttributeError:\n",
    "    pass"
   ]
  },
  {
   "cell_type": "markdown",
   "id": "ec32be84-d759-4db1-9036-7ec9d724e314",
   "metadata": {},
   "source": [
    "As you can see, this action isn't very sophisticated. Essentially, we've just swept the issue under the carpet.\n",
    "\n",
    "Fortunately, there is one more way to cope with the issue.\n",
    "\n",
    "Python provides a function which is able to safely check if any object/class contains a specified property. The function is named hasattr, and expects two arguments to be passed to it:\n",
    "\n",
    "    the class or the object being checked;\n",
    "    the name of the property whose existence has to be reported (note: it has to be a string containing the attribute name, not the name alone)\n",
    "\n",
    "The function returns True or False.\n",
    "\n",
    "This is how you can utilize it:"
   ]
  },
  {
   "cell_type": "markdown",
   "id": "9cfe1da5-620a-44b8-8f4a-245f2f423e5d",
   "metadata": {},
   "source": [
    "As you can see, this action isn't very sophisticated. Essentially, we've just swept the issue under the carpet.\n",
    "\n",
    "Fortunately, there is one more way to cope with the issue.\n",
    "\n",
    "Python provides a function which is able to safely check if any object/class contains a specified property. The function is named hasattr, and expects two arguments to be passed to it:\n",
    "\n",
    "    the class or the object being checked;\n",
    "    the name of the property whose existence has to be reported (note: it has to be a string containing the attribute name, not the name alone)\n",
    "\n",
    "The function returns True or False.\n",
    "\n",
    "This is how you can utilize it:"
   ]
  },
  {
   "cell_type": "code",
   "execution_count": 37,
   "id": "eea726a2-63ef-4555-bc47-75d764b19855",
   "metadata": {},
   "outputs": [
    {
     "name": "stdout",
     "output_type": "stream",
     "text": [
      "1\n"
     ]
    }
   ],
   "source": [
    "class ExampleClass:\n",
    "    def __init__(self, val):\n",
    "        if val % 2 != 0:\n",
    "            self.a = 1\n",
    "        else:\n",
    "            self.b = 1\n",
    "\n",
    "\n",
    "example_object = ExampleClass(1)\n",
    "print(example_object.a)\n",
    "\n",
    "if hasattr(example_object, 'b'):\n",
    "    print(example_object.b)\n",
    "\n"
   ]
  },
  {
   "cell_type": "markdown",
   "id": "7a62c3a0-2f43-4ffd-862d-f895ce0c8c6d",
   "metadata": {},
   "source": [
    "#### Checking an attribute's existence: continued\n",
    "\n",
    "Don't forget that the hasattr() function can operate on classes, too. You can use it to find out if a class variable is available, just like here in the example in the editor.\n",
    "\n",
    "The function returns True if the specified class contains a given attribute, and False otherwise.\n",
    "\n",
    "Can you guess the code's output? Run it to check your guesses."
   ]
  },
  {
   "cell_type": "code",
   "execution_count": 39,
   "id": "37293299-2be7-4f08-aea0-6c1de7de8c7e",
   "metadata": {},
   "outputs": [
    {
     "name": "stdout",
     "output_type": "stream",
     "text": [
      "True\n",
      "False\n"
     ]
    }
   ],
   "source": [
    "class ExampleClass:\n",
    "    good = 1\n",
    "\n",
    "\n",
    "print(hasattr(ExampleClass, 'good'))\n",
    "print(hasattr(ExampleClass, 'prop'))\n"
   ]
  },
  {
   "cell_type": "markdown",
   "id": "ba4b12f5-6951-4898-8b54-6dfebb068bf5",
   "metadata": {},
   "source": [
    "And one more example - look at the code below and try to predict its output:"
   ]
  },
  {
   "cell_type": "code",
   "execution_count": 42,
   "id": "eb84a034-ffe3-4a8f-b8a5-f5db73f005a8",
   "metadata": {},
   "outputs": [
    {
     "name": "stdout",
     "output_type": "stream",
     "text": [
      "True\n",
      "True\n",
      "False\n",
      "True\n"
     ]
    }
   ],
   "source": [
    "class ExampleClass:\n",
    "    a = 1\n",
    "    def __init__(self):\n",
    "        self.b = 2\n",
    "\n",
    "\n",
    "example_object = ExampleClass()\n",
    "\n",
    "print(hasattr(example_object, 'b'))\n",
    "print(hasattr(example_object, 'a'))\n",
    "print(hasattr(ExampleClass, 'b'))\n",
    "print(hasattr(ExampleClass, 'a'))"
   ]
  },
  {
   "cell_type": "markdown",
   "id": "c602e6c9-cb3d-4ba3-9b14-decd60c45174",
   "metadata": {},
   "source": [
    "Were you successful? Run the code to check your predictions.\n",
    "\n",
    "Okay, we've made it to the end of this section. In the next section we're going to talk about methods, as methods drive the objects and make them active.\n",
    "\n"
   ]
  },
  {
   "cell_type": "code",
   "execution_count": null,
   "id": "213ed2e3-740f-49e7-9a34-dc0934f6c68e",
   "metadata": {},
   "outputs": [],
   "source": []
  },
  {
   "cell_type": "markdown",
   "id": "a00aed64-4525-4ca6-851e-3b55bd917c1b",
   "metadata": {},
   "source": [
    "### Key takeaways\n",
    "\n",
    "1. An instance variable is a property whose existence depends on the creation of an object. Every object can have a different set of instance variables.\n",
    "\n",
    "Moreover, they can be freely added to and removed from objects during their lifetime. All object instance variables are stored inside a dedicated dictionary named __dict__, contained in every object separately.\n",
    "\n",
    "2. An instance variable can be private when its name starts with __, but don't forget that such a property is still accessible from outside the class using a mangled name constructed as _ClassName__PrivatePropertyName.\n",
    "\n",
    "3. A class variable is a property which exists in exactly one copy, and doesn't need any created object to be accessible. Such variables are not shown as __dict__ content.\n",
    "\n",
    "All a class's class variables are stored inside a dedicated dictionary named __dict__, contained in every class separately.\n",
    "\n",
    "\n",
    "4. A function named hasattr() can be used to determine if any object/class contains a specified property.\n",
    "\n",
    "For example:"
   ]
  },
  {
   "cell_type": "code",
   "execution_count": 43,
   "id": "db19625f-51e5-4a00-90ef-8e2c079f7bd0",
   "metadata": {},
   "outputs": [
    {
     "name": "stdout",
     "output_type": "stream",
     "text": [
      "{'alpha': 1, '_Sample__delta': 3, 'beta': 2}\n"
     ]
    }
   ],
   "source": [
    "class Sample:\n",
    "    gamma = 0 # Class variable.\n",
    "    def __init__(self):\n",
    "        self.alpha = 1 # Instance variable.\n",
    "        self.__delta = 3 # Private instance variable.\n",
    "\n",
    "\n",
    "obj = Sample()\n",
    "obj.beta = 2  # Another instance variable (existing only inside the \"obj\" instance.)\n",
    "print(obj.__dict__)\n",
    "\n"
   ]
  },
  {
   "cell_type": "code",
   "execution_count": null,
   "id": "52e452d2-e966-4896-9f10-e32b1b19da88",
   "metadata": {},
   "outputs": [],
   "source": []
  },
  {
   "cell_type": "code",
   "execution_count": null,
   "id": "2108b9f1-42a7-4f72-a87e-2d73e1158482",
   "metadata": {},
   "outputs": [],
   "source": []
  },
  {
   "cell_type": "code",
   "execution_count": null,
   "id": "00f1389b-f599-4cf1-b424-6f44a8813f12",
   "metadata": {},
   "outputs": [],
   "source": []
  },
  {
   "cell_type": "code",
   "execution_count": null,
   "id": "24583431-11e2-4b3e-8bde-441a48f4f170",
   "metadata": {},
   "outputs": [],
   "source": []
  },
  {
   "cell_type": "code",
   "execution_count": null,
   "id": "47fb1a32-47fe-496d-a146-f54ddd89a316",
   "metadata": {},
   "outputs": [],
   "source": []
  },
  {
   "cell_type": "code",
   "execution_count": null,
   "id": "5a8b84d9-176f-4f83-8605-49b7263c9053",
   "metadata": {},
   "outputs": [],
   "source": []
  },
  {
   "cell_type": "code",
   "execution_count": null,
   "id": "5d87e79b-bf64-46aa-ba52-62907f38a8de",
   "metadata": {},
   "outputs": [],
   "source": []
  },
  {
   "cell_type": "code",
   "execution_count": null,
   "id": "056610b7-56d0-4a1d-839c-d4a9cd426688",
   "metadata": {},
   "outputs": [],
   "source": []
  },
  {
   "cell_type": "code",
   "execution_count": null,
   "id": "c55eb3e8-5ad4-4e42-8e5a-6e4fd5a2219f",
   "metadata": {},
   "outputs": [],
   "source": []
  },
  {
   "cell_type": "code",
   "execution_count": null,
   "id": "11627e00-0733-4a7e-a3a4-aed6df813d24",
   "metadata": {},
   "outputs": [],
   "source": []
  },
  {
   "cell_type": "code",
   "execution_count": null,
   "id": "c2f92a80-ec02-49ed-96f7-4db65aba1690",
   "metadata": {},
   "outputs": [],
   "source": []
  },
  {
   "cell_type": "code",
   "execution_count": null,
   "id": "b15495b3-45d7-4e4d-948c-ed177759eb6e",
   "metadata": {},
   "outputs": [],
   "source": []
  },
  {
   "cell_type": "code",
   "execution_count": null,
   "id": "55f0b323-9848-461d-a527-f536b9a2ce7f",
   "metadata": {},
   "outputs": [],
   "source": []
  },
  {
   "cell_type": "code",
   "execution_count": null,
   "id": "66f8a058-7bea-4bb1-bcba-23808f1fb917",
   "metadata": {},
   "outputs": [],
   "source": []
  },
  {
   "cell_type": "code",
   "execution_count": null,
   "id": "bc93cc6c-7aa3-42ce-8316-9407122d3394",
   "metadata": {},
   "outputs": [],
   "source": []
  },
  {
   "cell_type": "code",
   "execution_count": null,
   "id": "7cb36103-a2fb-4b3a-ab9d-9d3e44d6b308",
   "metadata": {},
   "outputs": [],
   "source": []
  },
  {
   "cell_type": "code",
   "execution_count": null,
   "id": "69353d1f-3a65-4483-8650-a6c4727a6e78",
   "metadata": {},
   "outputs": [],
   "source": []
  },
  {
   "cell_type": "code",
   "execution_count": null,
   "id": "98024c47-60ba-46ef-a671-17b82fdf4c1b",
   "metadata": {},
   "outputs": [],
   "source": []
  },
  {
   "cell_type": "code",
   "execution_count": null,
   "id": "e7a051f0-6495-4bfc-ae3b-3e2312913bdb",
   "metadata": {},
   "outputs": [],
   "source": []
  },
  {
   "cell_type": "code",
   "execution_count": null,
   "id": "0439a9e8-ecc5-4bdf-b83d-77bc1b015862",
   "metadata": {},
   "outputs": [],
   "source": []
  },
  {
   "cell_type": "code",
   "execution_count": null,
   "id": "4ced9192-f055-4638-b2af-bf019ad4615b",
   "metadata": {},
   "outputs": [],
   "source": []
  },
  {
   "cell_type": "code",
   "execution_count": null,
   "id": "ba1a2387-49ed-4bf8-8602-1d4193e3401c",
   "metadata": {},
   "outputs": [],
   "source": []
  },
  {
   "cell_type": "code",
   "execution_count": null,
   "id": "b9948ec2-6a08-4a43-9a73-594d5b7fea36",
   "metadata": {},
   "outputs": [],
   "source": []
  },
  {
   "cell_type": "code",
   "execution_count": null,
   "id": "5ccc99e5-b022-4d2e-a145-414549e27241",
   "metadata": {},
   "outputs": [],
   "source": []
  }
 ],
 "metadata": {
  "kernelspec": {
   "display_name": "Python 3 (ipykernel)",
   "language": "python",
   "name": "python3"
  },
  "language_info": {
   "codemirror_mode": {
    "name": "ipython",
    "version": 3
   },
   "file_extension": ".py",
   "mimetype": "text/x-python",
   "name": "python",
   "nbconvert_exporter": "python",
   "pygments_lexer": "ipython3",
   "version": "3.12.4"
  }
 },
 "nbformat": 4,
 "nbformat_minor": 5
}
