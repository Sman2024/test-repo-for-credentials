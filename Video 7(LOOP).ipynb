{
 "cells": [
  {
   "cell_type": "markdown",
   "id": "068bf764-a021-4eba-a8bd-19a0f4b0ed3b",
   "metadata": {},
   "source": [
    "# Loops"
   ]
  },
  {
   "cell_type": "markdown",
   "id": "e28ee9ed-3c2b-4bd4-810b-12420e290cb8",
   "metadata": {},
   "source": [
    "##### Let's go ahead and work through several examples of for loops using a variety of data object types. We'll start simple and build more complexity later on.\n",
    "\n",
    "##### Example 1\n",
    "###### Iterating through a list"
   ]
  },
  {
   "cell_type": "code",
   "execution_count": 1,
   "id": "6983c3bb-7833-42f0-a0ea-ae96401d96a8",
   "metadata": {},
   "outputs": [
    {
     "name": "stdout",
     "output_type": "stream",
     "text": [
      "1\n",
      "2\n",
      "3\n",
      "4\n",
      "5\n",
      "6\n",
      "7\n",
      "8\n",
      "9\n",
      "10\n"
     ]
    }
   ],
   "source": [
    "# We'll learn how to automate this sort of list in the next lecture\n",
    "list1 = [1,2,3,4,5,6,7,8,9,10]\n",
    "\n",
    "for num in list1:\n",
    "    print(num) \n"
   ]
  },
  {
   "cell_type": "code",
   "execution_count": 2,
   "id": "2938d302-06a2-450b-95e9-9768cedd5d0d",
   "metadata": {},
   "outputs": [
    {
     "name": "stdout",
     "output_type": "stream",
     "text": [
      "[1, 2, 3, 4, 5, 6, 7, 8, 9, 10]\n"
     ]
    }
   ],
   "source": [
    "# We'll learn how to automate this sort of list in the next lecture\n",
    "list1 = [1,2,3,4,5,6,7,8,9,10]\n",
    "print(list1)"
   ]
  },
  {
   "cell_type": "markdown",
   "id": "58aa52ab-9762-4586-ba9d-7cd227264e57",
   "metadata": {},
   "source": [
    "##### Great! Hopefully this makes sense, Now let's add an if statement to check for even numbers. We'll first introduce a new concept here--the modulo.\n",
    "\n",
    "### Modulo\n",
    "\n",
    "##### The modulo allows us to get the reminder in a division and uses the % symbol. E.g:"
   ]
  },
  {
   "cell_type": "code",
   "execution_count": 3,
   "id": "b2c4c0bf-db59-4692-b612-a34f9cda236e",
   "metadata": {},
   "outputs": [
    {
     "data": {
      "text/plain": [
       "2"
      ]
     },
     "execution_count": 3,
     "metadata": {},
     "output_type": "execute_result"
    }
   ],
   "source": [
    "17 % 5"
   ]
  },
  {
   "cell_type": "markdown",
   "id": "7ce1204b-dfe6-4ae2-b612-ab7f100642ed",
   "metadata": {},
   "source": [
    "##### This makes sense since 17 didvided by 5 is 3 remainder 2. few more exmaples:"
   ]
  },
  {
   "cell_type": "code",
   "execution_count": 4,
   "id": "4e23509d-fc05-447a-805d-e6ba8b84ff65",
   "metadata": {},
   "outputs": [
    {
     "data": {
      "text/plain": [
       "1"
      ]
     },
     "execution_count": 4,
     "metadata": {},
     "output_type": "execute_result"
    }
   ],
   "source": [
    "10 % 3"
   ]
  },
  {
   "cell_type": "code",
   "execution_count": 5,
   "id": "cc75508c-5478-4442-9a44-685d004e4f83",
   "metadata": {},
   "outputs": [
    {
     "data": {
      "text/plain": [
       "4"
      ]
     },
     "execution_count": 5,
     "metadata": {},
     "output_type": "execute_result"
    }
   ],
   "source": [
    "18 % 7"
   ]
  },
  {
   "cell_type": "code",
   "execution_count": 6,
   "id": "ff5db279-6002-45ec-bc4c-fe45c78c0bf4",
   "metadata": {},
   "outputs": [
    {
     "data": {
      "text/plain": [
       "0"
      ]
     },
     "execution_count": 6,
     "metadata": {},
     "output_type": "execute_result"
    }
   ],
   "source": [
    "4 % 2"
   ]
  },
  {
   "cell_type": "markdown",
   "id": "8ed3c146-eb26-4804-a862-e2477802fc37",
   "metadata": {},
   "source": [
    "##### Example 2\n",
    "\n",
    "###### Let's print only the even numbers from the list!"
   ]
  },
  {
   "cell_type": "code",
   "execution_count": 7,
   "id": "b20ddbc2-e2c1-45a6-83d0-e9e8badc5fb8",
   "metadata": {},
   "outputs": [
    {
     "name": "stdout",
     "output_type": "stream",
     "text": [
      "2\n",
      "4\n",
      "6\n",
      "8\n",
      "10\n"
     ]
    }
   ],
   "source": [
    "for num in list1:\n",
    "    if num % 2 == 0:\n",
    "        print(num)\n",
    "    "
   ]
  },
  {
   "cell_type": "markdown",
   "id": "773ee0df-b454-4f5d-941c-aeeb181e8781",
   "metadata": {},
   "source": [
    "for num in list1:\n",
    "    if num % 2 == 0:\n",
    "        print(num)\n",
    "    else:\n",
    "        print('odd number')"
   ]
  },
  {
   "cell_type": "code",
   "execution_count": 38,
   "id": "b19cf377-14c1-496f-b53c-18e0f3dd6b72",
   "metadata": {},
   "outputs": [
    {
     "name": "stdout",
     "output_type": "stream",
     "text": [
      "1\n",
      "even number\n",
      "3\n",
      "even number\n",
      "5\n",
      "even number\n",
      "7\n",
      "even number\n",
      "9\n",
      "even number\n"
     ]
    }
   ],
   "source": [
    "for num in list1:\n",
    "    if num % 2 == 1:\n",
    "        print(num)\n",
    "    else:\n",
    "        print('even number')"
   ]
  },
  {
   "cell_type": "markdown",
   "id": "a9033112-899f-428f-91c7-2ab999313605",
   "metadata": {},
   "source": [
    "#### Example 3\n",
    "###### Another common idea during a for loop is keeping some sort of running tally during multiple loops. for example, let's create a for loop that sum up the list:"
   ]
  },
  {
   "cell_type": "code",
   "execution_count": 9,
   "id": "dbc893b7-62e8-4c0f-b074-7b9744f38802",
   "metadata": {},
   "outputs": [
    {
     "name": "stdout",
     "output_type": "stream",
     "text": [
      "1\n",
      "3\n",
      "6\n",
      "10\n",
      "15\n",
      "21\n",
      "28\n",
      "36\n",
      "45\n",
      "55\n"
     ]
    }
   ],
   "source": [
    "# Start sum at zero\n",
    "list_sum = 0\n",
    "\n",
    "\n",
    "for num in list1:\n",
    "    list_sum = list_sum + num\n",
    "    print(list_sum)"
   ]
  },
  {
   "cell_type": "code",
   "execution_count": 10,
   "id": "146f0f63-7341-4b28-97c4-dcf18211eb77",
   "metadata": {},
   "outputs": [
    {
     "name": "stdout",
     "output_type": "stream",
     "text": [
      "55\n"
     ]
    }
   ],
   "source": [
    "# Start sum at zero\n",
    "list_sum = 0\n",
    "\n",
    "\n",
    "for num in list1:\n",
    "    list_sum = list_sum + num\n",
    "print(list_sum)"
   ]
  },
  {
   "cell_type": "markdown",
   "id": "cd739d6f-606e-47b4-8805-1aa99d460be3",
   "metadata": {},
   "source": [
    "##### Great! read over the above cell and make sure you understand fully what is E.g"
   ]
  },
  {
   "cell_type": "code",
   "execution_count": 11,
   "id": "bdeea876-5fde-4db2-b1bf-d9df6de2add6",
   "metadata": {},
   "outputs": [
    {
     "name": "stdout",
     "output_type": "stream",
     "text": [
      "1\n",
      "3\n",
      "6\n",
      "10\n",
      "15\n",
      "21\n",
      "28\n",
      "36\n",
      "45\n",
      "55\n"
     ]
    }
   ],
   "source": [
    "# Start sum at zero\n",
    "list_sum = 0\n",
    "\n",
    "\n",
    "for num in list1:\n",
    "    list_sum += num\n",
    "    \n",
    "    print(list_sum)"
   ]
  },
  {
   "cell_type": "markdown",
   "id": "391ab722-ff38-4bec-bed7-988a9b9c9b88",
   "metadata": {},
   "source": [
    "#### Example 4\n",
    "\n",
    "###### We've used for loops with lists, how about with strings? Remember strings are a sequence so when we iterate through themwe will be accessing each item in that string."
   ]
  },
  {
   "cell_type": "code",
   "execution_count": 12,
   "id": "0f742cc3-b92a-453b-b979-6d0977a061cf",
   "metadata": {},
   "outputs": [
    {
     "name": "stdout",
     "output_type": "stream",
     "text": [
      "T\n",
      "h\n",
      "i\n",
      "s\n",
      " \n",
      "i\n",
      "s\n",
      " \n",
      "a\n",
      " \n",
      "s\n",
      "t\n",
      "r\n",
      "i\n",
      "n\n",
      "g\n",
      ".\n"
     ]
    }
   ],
   "source": [
    "for letter in 'This is a string.':\n",
    "    print(letter)\n"
   ]
  },
  {
   "cell_type": "markdown",
   "id": "3dfd2a8e-9098-473d-9ec2-d997431b801d",
   "metadata": {},
   "source": [
    "#### Example 5\n",
    "\n",
    "##### Let's now look at how a for loop can be used with a tuple:\n"
   ]
  },
  {
   "cell_type": "code",
   "execution_count": 13,
   "id": "ce44017a-28b6-4727-870f-9149e47fbf45",
   "metadata": {},
   "outputs": [
    {
     "name": "stdout",
     "output_type": "stream",
     "text": [
      "1\n",
      "2\n",
      "3\n",
      "4\n",
      "5\n"
     ]
    }
   ],
   "source": [
    "tup = (1,2,3,4,5)\n",
    "\n",
    "for num in tup:\n",
    "    print(num)"
   ]
  },
  {
   "cell_type": "markdown",
   "id": "b88fca7d-695d-43da-97fe-aa279d189ee1",
   "metadata": {},
   "source": [
    "### Example 6\n",
    "\n",
    "Tuples have a special quality when it comes to for loops. If you are iterating through a sequence that contains tuples. the item can actually be the tuple itself, this is an example of tuple unpacking. During the for loop we will be unpacking the tuple of a sequence and we can access the individual items inside the tuple!"
   ]
  },
  {
   "cell_type": "code",
   "execution_count": 14,
   "id": "a41713ee-9d71-48fd-96ba-e67503d2aa4b",
   "metadata": {},
   "outputs": [
    {
     "name": "stdout",
     "output_type": "stream",
     "text": [
      "(2, 4)\n",
      "(6, 8)\n",
      "(10, 12)\n"
     ]
    }
   ],
   "source": [
    "list2 = [(2,4), (6,8),(10,12)]\n",
    "\n",
    "for tup in list2:\n",
    "    print(tup)"
   ]
  },
  {
   "cell_type": "code",
   "execution_count": 15,
   "id": "6cac9b62-f545-4089-a2ac-d641d89bb206",
   "metadata": {},
   "outputs": [
    {
     "name": "stdout",
     "output_type": "stream",
     "text": [
      "(2, 4)\n",
      "(6, 8)\n",
      "(10, 12)\n",
      "(14, 16)\n"
     ]
    }
   ],
   "source": [
    "list2 = [(2,4), (6,8),(10,12), (14, 16)]\n",
    "\n",
    "for tup in list2:\n",
    "    print(tup)"
   ]
  },
  {
   "cell_type": "code",
   "execution_count": 16,
   "id": "7b5d7515-8ad3-4a18-9e9f-d6d93f904ff8",
   "metadata": {},
   "outputs": [
    {
     "name": "stdout",
     "output_type": "stream",
     "text": [
      "2\n",
      "6\n",
      "10\n",
      "14\n"
     ]
    }
   ],
   "source": [
    "# Now with unpacking!\n",
    "for (t1,t2) in list2:\n",
    "    print(t1)"
   ]
  },
  {
   "cell_type": "code",
   "execution_count": 17,
   "id": "e16aba71-77c7-493e-8d60-ae404ad958ea",
   "metadata": {},
   "outputs": [
    {
     "name": "stdout",
     "output_type": "stream",
     "text": [
      "4\n",
      "8\n",
      "12\n",
      "16\n"
     ]
    }
   ],
   "source": [
    "for (t1,t2) in list2:\n",
    "    print(t2)"
   ]
  },
  {
   "cell_type": "code",
   "execution_count": 18,
   "id": "da980cd1-79e5-45ea-8f32-732f4241da86",
   "metadata": {},
   "outputs": [
    {
     "name": "stdout",
     "output_type": "stream",
     "text": [
      "(2, 4, 12)\n",
      "(6, 8, 17)\n",
      "(5, 10, 12)\n",
      "(2, 14, 16)\n"
     ]
    }
   ],
   "source": [
    "list2 = [(2,4,12), (6,8,17),(5,10,12), (2, 14, 16)]\n",
    "\n",
    "for tup in list2:\n",
    "    print(tup)"
   ]
  },
  {
   "cell_type": "code",
   "execution_count": 19,
   "id": "6c097e6f-35bc-4830-8b3c-a2ddf5fae18b",
   "metadata": {},
   "outputs": [
    {
     "name": "stdout",
     "output_type": "stream",
     "text": [
      "12\n",
      "17\n",
      "12\n",
      "16\n"
     ]
    }
   ],
   "source": [
    "for (t1,t2, t3) in list2:\n",
    "    print(t3)"
   ]
  },
  {
   "cell_type": "markdown",
   "id": "71d1e7bf-d665-4e49-bc20-43dbdcfe4fd7",
   "metadata": {},
   "source": [
    "##### cool! With tuples in a sequence we can access the items inside of them through unpacking! The reason this is important is because many objects will deliver their iterables through tuples. Let's start exploring throu Dictionaries to explore this further!  "
   ]
  },
  {
   "cell_type": "markdown",
   "id": "ff6e351e-bad3-410c-8abb-cf449484c876",
   "metadata": {},
   "source": [
    "#### Example 7"
   ]
  },
  {
   "cell_type": "code",
   "execution_count": 20,
   "id": "f9754b4b-64d0-437a-8440-2aa5f9437e70",
   "metadata": {},
   "outputs": [
    {
     "name": "stdout",
     "output_type": "stream",
     "text": [
      "k1\n",
      "k2\n",
      "k3\n"
     ]
    }
   ],
   "source": [
    "d = {'k1' :1, 'k2' :2, 'k3' : 3}\n",
    "\n",
    "for item in d:\n",
    "    print(item)"
   ]
  },
  {
   "cell_type": "markdown",
   "id": "009be214-07d7-4182-af27-3c1ebf1c1f72",
   "metadata": {},
   "source": [
    "###### Notice how this produces only keys. So how can we get the values? Or both the keys and the values?\n",
    "\n",
    "###### We're going to introduce three new Dictionary methods: **.keys()**, **.values()** and **.items()**"
   ]
  },
  {
   "cell_type": "markdown",
   "id": "57d074e8-94c0-4b7a-bf3b-5dcd385196d1",
   "metadata": {},
   "source": [
    "###### In python each of these methods return a dictionary view object. It supports operations like membership test and iteration. but its contents are not independent of the original dictionary - it is only a view. Let's see it in action:"
   ]
  },
  {
   "cell_type": "code",
   "execution_count": 21,
   "id": "5e9c7de8-c201-448c-9b13-c014a8a4f7c6",
   "metadata": {},
   "outputs": [
    {
     "data": {
      "text/plain": [
       "dict_items([('k1', 1), ('k2', 2), ('k3', 3)])"
      ]
     },
     "execution_count": 21,
     "metadata": {},
     "output_type": "execute_result"
    }
   ],
   "source": [
    "# Create a dictionary view object\n",
    "d.items()"
   ]
  },
  {
   "cell_type": "markdown",
   "id": "8da6a027-dc8e-4857-ac61-a6b74d0720a8",
   "metadata": {},
   "source": [
    "##### Since the .items() method supports iteration, we can perform dictionary unpacking keys and values just as we did in previous examples:"
   ]
  },
  {
   "cell_type": "code",
   "execution_count": 22,
   "id": "c17bb58d-e42e-4c2c-bb48-0816a982da25",
   "metadata": {},
   "outputs": [
    {
     "name": "stdout",
     "output_type": "stream",
     "text": [
      "k1\n",
      "1\n",
      "k2\n",
      "2\n",
      "k3\n",
      "3\n"
     ]
    }
   ],
   "source": [
    "# Dictionary unpacking\n",
    "for k, v in d.items():\n",
    "    print(k)\n",
    "    print(v)\n"
   ]
  },
  {
   "cell_type": "code",
   "execution_count": 23,
   "id": "7d5a5d0e-807c-4d2c-b6b5-99f8c48fe4bf",
   "metadata": {},
   "outputs": [
    {
     "name": "stdout",
     "output_type": "stream",
     "text": [
      "1\n",
      "2\n",
      "3\n"
     ]
    }
   ],
   "source": [
    "# Dictionary unpacking\n",
    "for k, v in d.items():\n",
    "    print(v)\n"
   ]
  },
  {
   "cell_type": "markdown",
   "id": "89d36ce6-1edc-4946-95e2-d7951d2d7fe5",
   "metadata": {},
   "source": [
    "###### If you want to obtain the true list of keys, or values,or key/value tuples, you can cast the view as a list:"
   ]
  },
  {
   "cell_type": "code",
   "execution_count": 24,
   "id": "42d5bd7c-2c31-4f0d-855c-154d3598b3c7",
   "metadata": {},
   "outputs": [
    {
     "data": {
      "text/plain": [
       "['k1', 'k2', 'k3']"
      ]
     },
     "execution_count": 24,
     "metadata": {},
     "output_type": "execute_result"
    }
   ],
   "source": [
    "list(d.keys())"
   ]
  },
  {
   "cell_type": "code",
   "execution_count": 25,
   "id": "bc1a6573-4a20-47c5-8dfa-1f1537c98d16",
   "metadata": {},
   "outputs": [
    {
     "data": {
      "text/plain": [
       "[1, 2, 3]"
      ]
     },
     "execution_count": 25,
     "metadata": {},
     "output_type": "execute_result"
    }
   ],
   "source": [
    "sorted(d.values())"
   ]
  },
  {
   "cell_type": "code",
   "execution_count": 26,
   "id": "e86d6c00-6f6f-40f3-bcf2-3805acae4f5d",
   "metadata": {},
   "outputs": [
    {
     "data": {
      "text/plain": [
       "[1, 2, 3]"
      ]
     },
     "execution_count": 26,
     "metadata": {},
     "output_type": "execute_result"
    }
   ],
   "source": [
    "list(d.values())"
   ]
  },
  {
   "cell_type": "markdown",
   "id": "4fee9e75-c32b-40f9-b16b-6b8aae8b4d3c",
   "metadata": {},
   "source": [
    "#### Conclusion\n",
    "\n",
    "###### We've learned how to use for loops to iterate through tuples, list, string, and dictionaries. It will be an important tool for us, so make sure you knw it well and understood the above examples."
   ]
  },
  {
   "cell_type": "code",
   "execution_count": null,
   "id": "d07831e9-7759-42eb-8d6c-5d7cf2ce1123",
   "metadata": {},
   "outputs": [],
   "source": []
  },
  {
   "cell_type": "markdown",
   "id": "8571bcda-e478-46ef-b7e8-31b839d5a115",
   "metadata": {},
   "source": [
    "## While Loops\n",
    "\n",
    "#### The general format of a while loop is:\n",
    "\n",
    "           While test:\n",
    "               code statements\n",
    "           else:\n",
    "                final code statements\n",
    "###### Let's look at afew simple **while** loops in action."
   ]
  },
  {
   "cell_type": "code",
   "execution_count": 27,
   "id": "c9f66799-ac1f-4d7f-bc4a-680a9f2c7099",
   "metadata": {},
   "outputs": [
    {
     "name": "stdout",
     "output_type": "stream",
     "text": [
      "x is currently:  0\n",
      "x is still less than 15, adding 1 to x\n",
      "x is currently:  1\n",
      "x is still less than 15, adding 1 to x\n",
      "x is currently:  2\n",
      "x is still less than 15, adding 1 to x\n",
      "x is currently:  3\n",
      "x is still less than 15, adding 1 to x\n",
      "x is currently:  4\n",
      "x is still less than 15, adding 1 to x\n",
      "x is currently:  5\n",
      "x is still less than 15, adding 1 to x\n",
      "x is currently:  6\n",
      "x is still less than 15, adding 1 to x\n",
      "x is currently:  7\n",
      "x is still less than 15, adding 1 to x\n",
      "x is currently:  8\n",
      "x is still less than 15, adding 1 to x\n",
      "x is currently:  9\n",
      "x is still less than 15, adding 1 to x\n",
      "x is currently:  10\n",
      "x is still less than 15, adding 1 to x\n",
      "x is currently:  11\n",
      "x is still less than 15, adding 1 to x\n",
      "x is currently:  12\n",
      "x is still less than 15, adding 1 to x\n",
      "x is currently:  13\n",
      "x is still less than 15, adding 1 to x\n",
      "x is currently:  14\n",
      "x is still less than 15, adding 1 to x\n"
     ]
    }
   ],
   "source": [
    "x = 0\n",
    "\n",
    "while x < 15:\n",
    "    print('x is currently: ',x)\n",
    "    print('x is still less than 15, adding 1 to x')\n",
    "    x+=1\n",
    "    "
   ]
  },
  {
   "cell_type": "markdown",
   "id": "0e236904-0ebd-459a-bdce-d1aed94f77f4",
   "metadata": {},
   "source": [
    "##### notice how many times the print statements occured and how the **while** loop kept going until the True condition was met, which occured once x == 10. it's important to note that once this occured the code dtopped. Let'ss see how we could add an **else** statement:"
   ]
  },
  {
   "cell_type": "code",
   "execution_count": 28,
   "id": "c21e0a1c-9090-4b2a-93f7-6749a3299470",
   "metadata": {},
   "outputs": [
    {
     "name": "stdout",
     "output_type": "stream",
     "text": [
      "x is currently:  0\n",
      "x is still less than 15, adding 1 to x\n",
      "x is currently:  1\n",
      "x is still less than 15, adding 1 to x\n",
      "x is currently:  2\n",
      "x is still less than 15, adding 1 to x\n",
      "x is currently:  3\n",
      "x is still less than 15, adding 1 to x\n",
      "x is currently:  4\n",
      "x is still less than 15, adding 1 to x\n",
      "x is currently:  5\n",
      "x is still less than 15, adding 1 to x\n",
      "x is currently:  6\n",
      "x is still less than 15, adding 1 to x\n",
      "x is currently:  7\n",
      "x is still less than 15, adding 1 to x\n",
      "x is currently:  8\n",
      "x is still less than 15, adding 1 to x\n",
      "x is currently:  9\n",
      "x is still less than 15, adding 1 to x\n",
      "x is currently:  10\n",
      "x is still less than 15, adding 1 to x\n",
      "x is currently:  11\n",
      "x is still less than 15, adding 1 to x\n",
      "x is currently:  12\n",
      "x is still less than 15, adding 1 to x\n",
      "x is currently:  13\n",
      "x is still less than 15, adding 1 to x\n",
      "x is currently:  14\n",
      "x is still less than 15, adding 1 to x\n",
      "Perfect Execution!\n"
     ]
    }
   ],
   "source": [
    "x = 0\n",
    "\n",
    "while x < 15:\n",
    "    print('x is currently: ',x)\n",
    "    print('x is still less than 15, adding 1 to x')\n",
    "    x+=1\n",
    "else:\n",
    "    print('Perfect Execution!')"
   ]
  },
  {
   "cell_type": "code",
   "execution_count": null,
   "id": "26acfc49-d405-40f7-882d-96fac328b410",
   "metadata": {},
   "outputs": [],
   "source": []
  },
  {
   "cell_type": "markdown",
   "id": "23a99bb7-09a4-49e5-a874-b1bd040538df",
   "metadata": {},
   "source": [
    "## Break, continue, pass\n",
    "\n",
    "       break: Breaks out of the the current closest enclosing loop.\n",
    "       continue: Goes to the top of the closest enclosing loop.\n",
    "       pass: does nothing at all.\n",
    "##### Thinking about break and continue statements, the general format of the **while** loop looks like this:\n",
    "       while test:\n",
    "           code statement\n",
    "           if test:\n",
    "               break\n",
    "            if test:\n",
    "                continue\n",
    "       else:\n",
    "##### break and continue statements can appear anywhere inside the loop's body, but we will usually put them further nested in conjunction with an **if** statement to perform an action based on some condition.\n",
    "\n",
    "##### let's go ahead and look at some examples!"
   ]
  },
  {
   "cell_type": "code",
   "execution_count": 29,
   "id": "89d25fc6-55aa-40ac-9e0f-61a304c4fa00",
   "metadata": {},
   "outputs": [
    {
     "name": "stdout",
     "output_type": "stream",
     "text": [
      "x is currently:  0\n",
      "x is still less than 15, adding 1 to x\n",
      "continue....\n",
      "x is currently:  1\n",
      "x is still less than 15, adding 1 to x\n",
      "continue....\n",
      "x is currently:  2\n",
      "x is still less than 15, adding 1 to x\n",
      "x==3\n",
      "x is currently:  3\n",
      "x is still less than 15, adding 1 to x\n",
      "continue....\n",
      "x is currently:  4\n",
      "x is still less than 15, adding 1 to x\n",
      "continue....\n",
      "x is currently:  5\n",
      "x is still less than 15, adding 1 to x\n",
      "continue....\n",
      "x is currently:  6\n",
      "x is still less than 15, adding 1 to x\n",
      "continue....\n",
      "x is currently:  7\n",
      "x is still less than 15, adding 1 to x\n",
      "continue....\n",
      "x is currently:  8\n",
      "x is still less than 15, adding 1 to x\n",
      "continue....\n",
      "x is currently:  9\n",
      "x is still less than 15, adding 1 to x\n",
      "continue....\n",
      "x is currently:  10\n",
      "x is still less than 15, adding 1 to x\n",
      "continue....\n",
      "x is currently:  11\n",
      "x is still less than 15, adding 1 to x\n",
      "continue....\n",
      "x is currently:  12\n",
      "x is still less than 15, adding 1 to x\n",
      "continue....\n",
      "x is currently:  13\n",
      "x is still less than 15, adding 1 to x\n",
      "continue....\n",
      "x is currently:  14\n",
      "x is still less than 15, adding 1 to x\n",
      "continue....\n"
     ]
    }
   ],
   "source": [
    "x = 0\n",
    "\n",
    "while x < 15:\n",
    "    print('x is currently: ',x)\n",
    "    print('x is still less than 15, adding 1 to x')\n",
    "    x+=1\n",
    "    if x == 3:\n",
    "        print('x==3')\n",
    "    else:\n",
    "        print('continue....')\n",
    "        continue"
   ]
  },
  {
   "cell_type": "markdown",
   "id": "758b551a-daa3-48c8-97a2-b38a58c3cfda",
   "metadata": {},
   "source": [
    "##### Note how we have printed statement when x==3, and a continue being printed out as we continue through the outer while loop. Let's put in a break once x==3 and see if the result makes sense:"
   ]
  },
  {
   "cell_type": "code",
   "execution_count": 30,
   "id": "15bb52ba-d8de-4361-8bc2-4d0c666470f7",
   "metadata": {},
   "outputs": [
    {
     "name": "stdout",
     "output_type": "stream",
     "text": [
      "x is currently:  0\n",
      "x is still less than 15, adding 1 to x\n",
      "continue....\n",
      "x is currently:  1\n",
      "x is still less than 15, adding 1 to x\n",
      "continue....\n",
      "x is currently:  2\n",
      "x is still less than 15, adding 1 to x\n",
      "Breaking because x==3\n"
     ]
    }
   ],
   "source": [
    "x = 0\n",
    "\n",
    "while x < 15:\n",
    "    print('x is currently: ',x)\n",
    "    print('x is still less than 15, adding 1 to x')\n",
    "    x+=1\n",
    "    if x == 3:\n",
    "        print('Breaking because x==3')\n",
    "        break\n",
    "    else:\n",
    "        print('continue....')\n",
    "        continue"
   ]
  },
  {
   "cell_type": "markdown",
   "id": "6943fbec-5b1f-416d-bb1f-0deb17bd0589",
   "metadata": {},
   "source": [
    "#####  Note how the other **else** statement wasn't reached and continuuing was never printed!\n",
    "##### After these brief but simples examples, you should feel confortable using **while** statements in your code.\n",
    "\n",
    "### A word of caution however! It is possible to create an infinitely running loop with while statement. for example:"
   ]
  },
  {
   "cell_type": "code",
   "execution_count": null,
   "id": "14db6210-368d-4dc2-a74c-37232a96a3e1",
   "metadata": {},
   "outputs": [],
   "source": [
    "# DO NOT RUN THIS CODE\n",
    "while True:\n",
    "    print('My name is Sulaeman!')"
   ]
  },
  {
   "cell_type": "code",
   "execution_count": null,
   "id": "51d5235f-8f50-4756-b5b9-58e76d35a423",
   "metadata": {},
   "outputs": [],
   "source": []
  },
  {
   "cell_type": "code",
   "execution_count": null,
   "id": "67ce3a2d-54f2-499a-bfc6-caaee2279a15",
   "metadata": {},
   "outputs": [],
   "source": []
  },
  {
   "cell_type": "code",
   "execution_count": null,
   "id": "c79a2535-a550-4fb9-8110-be88c6acae85",
   "metadata": {},
   "outputs": [],
   "source": []
  },
  {
   "cell_type": "code",
   "execution_count": null,
   "id": "5878ed3e-d1a1-4a8d-b029-ec135b1d8dae",
   "metadata": {},
   "outputs": [],
   "source": []
  },
  {
   "cell_type": "code",
   "execution_count": null,
   "id": "3e46d236-7fc4-4d79-8287-1d34a4f2edb7",
   "metadata": {},
   "outputs": [],
   "source": []
  },
  {
   "cell_type": "code",
   "execution_count": null,
   "id": "757d3b20-1d97-46b7-a870-f93b1d7d90d8",
   "metadata": {},
   "outputs": [],
   "source": []
  },
  {
   "cell_type": "code",
   "execution_count": null,
   "id": "45fa64ab-5aee-4f4b-92a6-3ac8ba9806a1",
   "metadata": {},
   "outputs": [],
   "source": []
  },
  {
   "cell_type": "code",
   "execution_count": null,
   "id": "71a80976-29b5-41b1-9883-470503467ef3",
   "metadata": {},
   "outputs": [],
   "source": []
  },
  {
   "cell_type": "code",
   "execution_count": null,
   "id": "c24c3774-db34-490c-9cc7-bcd8855ad3ec",
   "metadata": {},
   "outputs": [],
   "source": []
  },
  {
   "cell_type": "code",
   "execution_count": null,
   "id": "da2e6cea-94f0-4d5c-81bf-c4b5ef3496c4",
   "metadata": {},
   "outputs": [],
   "source": []
  },
  {
   "cell_type": "code",
   "execution_count": null,
   "id": "f52b071c-4830-4b6c-8857-e7f1fcb517ee",
   "metadata": {},
   "outputs": [],
   "source": []
  },
  {
   "cell_type": "code",
   "execution_count": null,
   "id": "4ae46ae6-ff73-4fa8-818f-192f2300a730",
   "metadata": {},
   "outputs": [],
   "source": []
  },
  {
   "cell_type": "code",
   "execution_count": null,
   "id": "f77f637d-d573-45ee-856f-c4cc3616440c",
   "metadata": {},
   "outputs": [],
   "source": []
  },
  {
   "cell_type": "code",
   "execution_count": null,
   "id": "92e6a2cf-9810-4b73-909b-3df1175090b4",
   "metadata": {},
   "outputs": [],
   "source": []
  },
  {
   "cell_type": "code",
   "execution_count": null,
   "id": "a9f1fb3d-ffd9-453c-9417-5abeae4e29fa",
   "metadata": {},
   "outputs": [],
   "source": []
  },
  {
   "cell_type": "code",
   "execution_count": null,
   "id": "9de4af82-bee9-48d4-87a6-9907a25e25e7",
   "metadata": {},
   "outputs": [],
   "source": []
  },
  {
   "cell_type": "code",
   "execution_count": null,
   "id": "d684d309-8fa1-4f76-ad74-a026953636ec",
   "metadata": {},
   "outputs": [],
   "source": []
  },
  {
   "cell_type": "code",
   "execution_count": null,
   "id": "52000583-eead-4487-9594-d60d17459d59",
   "metadata": {},
   "outputs": [],
   "source": []
  },
  {
   "cell_type": "code",
   "execution_count": null,
   "id": "d722665b-1e86-4133-9ceb-2c42352d1b61",
   "metadata": {},
   "outputs": [],
   "source": []
  },
  {
   "cell_type": "code",
   "execution_count": null,
   "id": "e37d0b98-8537-485c-a238-4e19ad7940e2",
   "metadata": {},
   "outputs": [],
   "source": []
  },
  {
   "cell_type": "code",
   "execution_count": null,
   "id": "565c3789-3989-47d6-8109-62fbb5523c0f",
   "metadata": {},
   "outputs": [],
   "source": []
  },
  {
   "cell_type": "code",
   "execution_count": null,
   "id": "7077e23d-ea9d-44ad-80a5-8dd9b3cb6428",
   "metadata": {},
   "outputs": [],
   "source": []
  },
  {
   "cell_type": "code",
   "execution_count": null,
   "id": "94a62318-ffd8-480d-8a49-b2c07b4a8271",
   "metadata": {},
   "outputs": [],
   "source": []
  },
  {
   "cell_type": "code",
   "execution_count": null,
   "id": "930d5194-01d9-4d88-bfd8-689c95219546",
   "metadata": {},
   "outputs": [],
   "source": []
  },
  {
   "cell_type": "code",
   "execution_count": null,
   "id": "4238395c-73dc-42ee-8ef6-25f7fc1131e0",
   "metadata": {},
   "outputs": [],
   "source": []
  },
  {
   "cell_type": "code",
   "execution_count": null,
   "id": "c2296612-3927-45f3-be3d-58bb132935ba",
   "metadata": {},
   "outputs": [],
   "source": []
  }
 ],
 "metadata": {
  "kernelspec": {
   "display_name": "Python 3 (ipykernel)",
   "language": "python",
   "name": "python3"
  },
  "language_info": {
   "codemirror_mode": {
    "name": "ipython",
    "version": 3
   },
   "file_extension": ".py",
   "mimetype": "text/x-python",
   "name": "python",
   "nbconvert_exporter": "python",
   "pygments_lexer": "ipython3",
   "version": "3.12.4"
  }
 },
 "nbformat": 4,
 "nbformat_minor": 5
}
