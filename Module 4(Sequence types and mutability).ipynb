{
 "cells": [
  {
   "cell_type": "markdown",
   "id": "4295cb96-e560-4627-908c-6f66c056430f",
   "metadata": {},
   "source": [
    "### Sequence types and mutability"
   ]
  },
  {
   "cell_type": "code",
   "execution_count": null,
   "id": "005b1863-def7-490a-96d7-3e292b64f92e",
   "metadata": {},
   "outputs": [],
   "source": []
  },
  {
   "cell_type": "markdown",
   "id": "eac0724d-faa4-4eb3-99ef-64a90b60e513",
   "metadata": {},
   "source": [
    "### Tuples"
   ]
  },
  {
   "cell_type": "code",
   "execution_count": 1,
   "id": "d450f951-ad49-4f13-b682-5675ad17589e",
   "metadata": {},
   "outputs": [
    {
     "name": "stdout",
     "output_type": "stream",
     "text": [
      "(1, 2, 4, 8)\n",
      "(1.0, 0.5, 0.25, 0.125)\n"
     ]
    }
   ],
   "source": [
    "tuple_1 = (1, 2, 4, 8)\n",
    "tuple_2 = 1., .5, .25, .125\n",
    "\n",
    "print(tuple_1)\n",
    "print(tuple_2)\n",
    "\n"
   ]
  },
  {
   "cell_type": "markdown",
   "id": "67116252-5627-4c5d-bff5-2ace92267504",
   "metadata": {},
   "source": [
    "#### How to use a tuple?\n",
    "##### If you want to get the elments of a tuple in order to read them over, you can use the same conventions to which you're acustomed while using lists"
   ]
  },
  {
   "cell_type": "code",
   "execution_count": 4,
   "id": "fc11a682-28e4-4fdc-9f8e-7c4d19c90432",
   "metadata": {},
   "outputs": [
    {
     "name": "stdout",
     "output_type": "stream",
     "text": [
      "1\n",
      "1000\n",
      "(10, 100, 1000)\n",
      "(1, 10)\n",
      "(1,)\n",
      "1\n",
      "10\n",
      "100\n",
      "1000\n"
     ]
    }
   ],
   "source": [
    "my_tuple = (1, 10, 100, 1000)\n",
    "\n",
    "print(my_tuple[0])\n",
    "print(my_tuple[-1])\n",
    "print(my_tuple[1:])\n",
    "print(my_tuple[:-2])\n",
    "print(my_tuple[:-3])\n",
    "\n",
    "for elem in my_tuple:\n",
    "    print(elem)\n"
   ]
  },
  {
   "cell_type": "markdown",
   "id": "d92139b4-796e-412a-bf76-fc2e77eb7de5",
   "metadata": {},
   "source": [
    "#### The similarities may be misleading- dont try to modified a tuple's contents! It's not a list!"
   ]
  },
  {
   "cell_type": "code",
   "execution_count": 5,
   "id": "aff9ea05-2981-490d-b81b-9062e04c35f0",
   "metadata": {},
   "outputs": [
    {
     "ename": "AttributeError",
     "evalue": "'tuple' object has no attribute 'append'",
     "output_type": "error",
     "traceback": [
      "\u001b[1;31m---------------------------------------------------------------------------\u001b[0m",
      "\u001b[1;31mAttributeError\u001b[0m                            Traceback (most recent call last)",
      "Cell \u001b[1;32mIn[5], line 3\u001b[0m\n\u001b[0;32m      1\u001b[0m my_tuple \u001b[38;5;241m=\u001b[39m (\u001b[38;5;241m1\u001b[39m, \u001b[38;5;241m10\u001b[39m, \u001b[38;5;241m100\u001b[39m, \u001b[38;5;241m1000\u001b[39m)\n\u001b[1;32m----> 3\u001b[0m my_tuple\u001b[38;5;241m.\u001b[39mappend(\u001b[38;5;241m10000\u001b[39m)\n\u001b[0;32m      4\u001b[0m \u001b[38;5;28;01mdel\u001b[39;00m my_tuple[\u001b[38;5;241m0\u001b[39m]\n\u001b[0;32m      5\u001b[0m my_tuple[\u001b[38;5;241m1\u001b[39m] \u001b[38;5;241m=\u001b[39m \u001b[38;5;241m-\u001b[39m\u001b[38;5;241m10\u001b[39m\n",
      "\u001b[1;31mAttributeError\u001b[0m: 'tuple' object has no attribute 'append'"
     ]
    }
   ],
   "source": [
    "my_tuple = (1, 10, 100, 1000)\n",
    "\n",
    "my_tuple.append(10000)\n",
    "del my_tuple[0]\n",
    "my_tuple[1] = -10\n",
    "\n"
   ]
  },
  {
   "cell_type": "code",
   "execution_count": 13,
   "id": "1ce8a276-f351-402d-887a-bff54fa5d040",
   "metadata": {},
   "outputs": [
    {
     "name": "stdout",
     "output_type": "stream",
     "text": [
      "9\n",
      "(1, 10, 100, 1000, 10000)\n",
      "(1, 10, 100, 1, 10, 100, 1, 10, 100)\n",
      "True\n",
      "True\n"
     ]
    }
   ],
   "source": [
    "my_tuple = (1, 10, 100)\n",
    "\n",
    "t1 = my_tuple + (1000, 10000)\n",
    "t2 = my_tuple * 3\n",
    "\n",
    "print(len(t2))\n",
    "print(t1)\n",
    "print(t2)\n",
    "print(10 in my_tuple)\n",
    "print(-10 not in my_tuple)\n"
   ]
  },
  {
   "cell_type": "code",
   "execution_count": 14,
   "id": "5d177e3b-fad3-41ae-bf2b-076d34172ae5",
   "metadata": {},
   "outputs": [
    {
     "name": "stdout",
     "output_type": "stream",
     "text": [
      "(2,) (3, 123) (1,)\n"
     ]
    }
   ],
   "source": [
    "var = 123\n",
    "\n",
    "t1 = (1, )\n",
    "t2 = (2, )\n",
    "t3 = (3, var)\n",
    "\n",
    "t1, t2, t3 = t2, t3, t1\n",
    "\n",
    "print(t1, t2, t3)\n"
   ]
  },
  {
   "cell_type": "code",
   "execution_count": null,
   "id": "035dcd80-4918-429d-918c-9bffe15ad69e",
   "metadata": {},
   "outputs": [],
   "source": []
  },
  {
   "cell_type": "markdown",
   "id": "28929de2-32a2-4fd8-a8b4-b16b7d371256",
   "metadata": {},
   "source": [
    "### Dictionary"
   ]
  },
  {
   "cell_type": "code",
   "execution_count": 16,
   "id": "b9bb33dc-2ab9-4582-8400-6ad6a66b8b2e",
   "metadata": {},
   "outputs": [
    {
     "name": "stdout",
     "output_type": "stream",
     "text": [
      "{'cat': 'chat', 'dog': 'chien', 'horse': 'cheval'}\n",
      "{'boss': 5551234567, 'Suzy': 22657854310}\n",
      "{}\n"
     ]
    }
   ],
   "source": [
    "dictionary = {\"cat\": \"chat\", \"dog\": \"chien\", \"horse\": \"cheval\"}\n",
    "phone_numbers = {'boss': 5551234567, 'Suzy': 22657854310}\n",
    "empty_dictionary = {}\n",
    "\n",
    "print(dictionary)\n",
    "print(phone_numbers)\n",
    "print(empty_dictionary)\n",
    "\n"
   ]
  },
  {
   "cell_type": "markdown",
   "id": "74d01695-37dd-44fc-a8a1-daa500069bfa",
   "metadata": {},
   "source": [
    "##### To print the values "
   ]
  },
  {
   "cell_type": "code",
   "execution_count": 17,
   "id": "70a5203c-8e72-4a1f-92d0-0e884c9f805a",
   "metadata": {},
   "outputs": [
    {
     "name": "stdout",
     "output_type": "stream",
     "text": [
      "chat\n",
      "22657854310\n"
     ]
    }
   ],
   "source": [
    "print(dictionary['cat'])\n",
    "print(phone_numbers['Suzy'])\n",
    "\n"
   ]
  },
  {
   "cell_type": "code",
   "execution_count": 107,
   "id": "45fad729-f761-42e4-b9b1-3478b49db794",
   "metadata": {},
   "outputs": [
    {
     "name": "stdout",
     "output_type": "stream",
     "text": [
      "cat -> chat\n",
      "lion is not in dictionary\n",
      "horse -> cheval\n"
     ]
    }
   ],
   "source": [
    "dictionary = {\"cat\": \"chat\", \"dog\": \"chien\", \"horse\": \"cheval\"}\n",
    "words = ['cat', 'lion', 'horse']\n",
    "\n",
    "for w in words:\n",
    "    if w in dictionary:\n",
    "        print(w, \"->\", dictionary[w])\n",
    "    else:\n",
    "        print(w, \"is not in dictionary\")\n"
   ]
  },
  {
   "cell_type": "markdown",
   "id": "923a3831-9cda-4960-a08f-e5a2e7484fa8",
   "metadata": {},
   "source": [
    "When you write a big or lengthy expression, it may be a good idea to keep it vertically aligned. This is how you can make your code more readable and more programmer-friendly, e.g.:"
   ]
  },
  {
   "cell_type": "code",
   "execution_count": null,
   "id": "eea6cb65-c086-41bc-848d-df78d0cf87f9",
   "metadata": {},
   "outputs": [],
   "source": [
    "# Example 1:\n",
    "dictionary = {\n",
    "              \"cat\": \"chat\",\n",
    "              \"dog\": \"chien\",\n",
    "              \"horse\": \"cheval\"\n",
    "              }\n",
    "\n",
    "# Example 2:\n",
    "phone_numbers = {'boss': 5551234567,\n",
    "                 'Suzy': 22657854310\n",
    "                 }\n"
   ]
  },
  {
   "cell_type": "markdown",
   "id": "674b4268-7b1e-4957-8a62-38eb146fc6fc",
   "metadata": {},
   "source": [
    "This kind of formatting is called a hanging indent"
   ]
  },
  {
   "cell_type": "code",
   "execution_count": null,
   "id": "7da14814-cadf-40cd-a817-7e9b419b0920",
   "metadata": {},
   "outputs": [],
   "source": []
  },
  {
   "cell_type": "markdown",
   "id": "8dcdd9f2-76e3-42b3-bf42-162e32da2e15",
   "metadata": {},
   "source": [
    "How to use a dictionary: the keys()\n",
    "\n",
    "Can dictionaries be browsed using the for loop, like lists or tuples?\n",
    "\n",
    "No and yes.\n",
    "\n",
    "No, because a dictionary is not a sequence type - the for loop is useless with it.\n",
    "\n",
    "Yes, because there are simple and very effective tools that can adapt any dictionary to the for loop requirements (in other words, building an intermediate link between the dictionary and a temporary sequence entity).\n",
    "\n",
    "The first of them is a method named keys(), possessed by each dictionary. The method returns an iterable object consisting of all the keys gathered within the dictionary. Having a group of keys enables you to access the whole dictionary in an easy and handy way.\n",
    "\n",
    "Just like here:"
   ]
  },
  {
   "cell_type": "code",
   "execution_count": 22,
   "id": "b043877a-847e-44bf-8387-30f09bf7c280",
   "metadata": {},
   "outputs": [
    {
     "name": "stdout",
     "output_type": "stream",
     "text": [
      "cat -> chat\n",
      "dog -> chien\n",
      "horse -> cheval\n"
     ]
    }
   ],
   "source": [
    "dictionary = {\"cat\": \"chat\", \"dog\": \"chien\", \"horse\": \"cheval\"}\n",
    "\n",
    "for key in dictionary.keys():\n",
    "    print(key, \"->\", dictionary[key])\n"
   ]
  },
  {
   "cell_type": "code",
   "execution_count": 27,
   "id": "35ee7215-f039-4c14-b457-7de823a66c16",
   "metadata": {},
   "outputs": [
    {
     "name": "stdout",
     "output_type": "stream",
     "text": [
      "cat -> chat\n",
      "dog -> chien\n",
      "horse -> cheval\n"
     ]
    }
   ],
   "source": [
    "for key in sorted(dictionary.keys()):\n",
    "    print(key, \"->\", dictionary[key])"
   ]
  },
  {
   "cell_type": "code",
   "execution_count": 35,
   "id": "646a8921-37d3-4ed9-a3dc-66f190bbf869",
   "metadata": {},
   "outputs": [
    {
     "name": "stdout",
     "output_type": "stream",
     "text": [
      "cheval\n"
     ]
    }
   ],
   "source": [
    "print(dictionary[\"horse\"])"
   ]
  },
  {
   "cell_type": "markdown",
   "id": "9070e3eb-9be7-4055-87ae-b666b4541054",
   "metadata": {},
   "source": [
    "How to use a dictionary: The items() and values() methods\n",
    "\n",
    "Another way is based on using a dictionary's method named items(). The method returns tuples (this is the first example where tuples are something more than just an example of themselves) where each tuple is a key-value pair.\n",
    "\n",
    "This is how it works:"
   ]
  },
  {
   "cell_type": "code",
   "execution_count": 36,
   "id": "0b5dab58-8fc4-45ba-9b68-b6de839794ed",
   "metadata": {},
   "outputs": [
    {
     "name": "stdout",
     "output_type": "stream",
     "text": [
      "cat -> chat\n",
      "dog -> chien\n",
      "horse -> cheval\n"
     ]
    }
   ],
   "source": [
    "dictionary = {\"cat\": \"chat\", \"dog\": \"chien\", \"horse\": \"cheval\"}\n",
    "\n",
    "for english, french in dictionary.items():\n",
    "    print(english, \"->\", french)"
   ]
  },
  {
   "cell_type": "markdown",
   "id": "242fa2f9-6b64-4a68-9b4b-056349a8944f",
   "metadata": {},
   "source": [
    "There is also a method named values(), which works similarly to keys(), but returns values.\n",
    "\n",
    "Here is a simple example:"
   ]
  },
  {
   "cell_type": "code",
   "execution_count": 37,
   "id": "cbd9b9ef-3d71-48ec-b73f-9966f8f12352",
   "metadata": {},
   "outputs": [
    {
     "name": "stdout",
     "output_type": "stream",
     "text": [
      "chat\n",
      "chien\n",
      "cheval\n"
     ]
    }
   ],
   "source": [
    "dictionary = {\"cat\": \"chat\", \"dog\": \"chien\", \"horse\": \"cheval\"}\n",
    "\n",
    "for french in dictionary.values():\n",
    "    print(french)\n"
   ]
  },
  {
   "cell_type": "code",
   "execution_count": 39,
   "id": "64417fc3-afe9-49be-9a38-55c4de423444",
   "metadata": {},
   "outputs": [
    {
     "name": "stdout",
     "output_type": "stream",
     "text": [
      "cat\n",
      "dog\n",
      "horse\n"
     ]
    }
   ],
   "source": [
    "dictionary = {\"cat\": \"chat\", \"dog\": \"chien\", \"horse\": \"cheval\"}\n",
    "\n",
    "for english in dictionary.keys():\n",
    "    print(english)\n"
   ]
  },
  {
   "cell_type": "markdown",
   "id": "549a8d7a-c4b2-4e01-9d28-70873719340d",
   "metadata": {},
   "source": [
    "How to use a dictionary: modifying and adding values\n",
    "\n",
    "Assigning a new value to an existing key is simple - as dictionaries are fully mutable, there are no obstacles to modifying them.\n",
    "\n",
    "We're going to replace the value \"chat\" with \"minou\", which is not very accurate, but it will work well with our example.\n",
    "\n",
    "Look:"
   ]
  },
  {
   "cell_type": "code",
   "execution_count": 40,
   "id": "575011d5-010e-46ee-8d0f-9129fd2d6941",
   "metadata": {},
   "outputs": [
    {
     "name": "stdout",
     "output_type": "stream",
     "text": [
      "{'cat': 'minou', 'dog': 'chien', 'horse': 'cheval'}\n"
     ]
    }
   ],
   "source": [
    "dictionary = {\"cat\": \"chat\", \"dog\": \"chien\", \"horse\": \"cheval\"}\n",
    "\n",
    "dictionary['cat'] = 'minou'\n",
    "print(dictionary)\n",
    "\n"
   ]
  },
  {
   "cell_type": "code",
   "execution_count": 42,
   "id": "23fc23c0-7293-4d00-bac4-7d1e09814819",
   "metadata": {},
   "outputs": [
    {
     "name": "stdout",
     "output_type": "stream",
     "text": [
      "{'cat': 'minou', 'dog': 'rat', 'horse': 'cheval'}\n"
     ]
    }
   ],
   "source": [
    "dictionary[\"dog\"] = \"rat\"\n",
    "print(dictionary)"
   ]
  },
  {
   "cell_type": "markdown",
   "id": "6fde551e-6157-46a7-ad8d-80e6adc79e71",
   "metadata": {},
   "source": [
    "Adding a new key\n",
    "\n",
    "Adding a new key-value pair to a dictionary is as simple as changing a value - you only have to assign a value to a new, previously non-existent key.\n",
    "\n",
    "Note: this is very different behavior compared to lists, which don't allow you to assign values to non-existing indices.\n",
    "\n",
    "Let's add a new pair of words to the dictionary - a bit weird, but still valid:"
   ]
  },
  {
   "cell_type": "code",
   "execution_count": 43,
   "id": "0a0ad227-d52e-410b-babc-44bd1f184298",
   "metadata": {},
   "outputs": [
    {
     "name": "stdout",
     "output_type": "stream",
     "text": [
      "{'cat': 'chat', 'dog': 'chien', 'horse': 'cheval', 'swan': 'cygne'}\n"
     ]
    }
   ],
   "source": [
    "dictionary = {\"cat\": \"chat\", \"dog\": \"chien\", \"horse\": \"cheval\"}\n",
    "\n",
    "dictionary['swan'] = 'cygne'\n",
    "print(dictionary)"
   ]
  },
  {
   "cell_type": "code",
   "execution_count": 44,
   "id": "1aacf32d-db50-41c0-ba45-993a8aacec05",
   "metadata": {},
   "outputs": [
    {
     "name": "stdout",
     "output_type": "stream",
     "text": [
      "{'cat': 'chat', 'dog': 'chien', 'horse': 'cheval', 'swan': 'cygne', 'goat': 'leave'}\n"
     ]
    }
   ],
   "source": [
    "dictionary['goat'] = 'leave'\n",
    "print(dictionary)"
   ]
  },
  {
   "cell_type": "markdown",
   "id": "c797d776-a494-4ce2-8570-4ee1d0f748a5",
   "metadata": {},
   "source": [
    "You can also insert an item to a dictionary by using the update() method, e.g.:"
   ]
  },
  {
   "cell_type": "code",
   "execution_count": 109,
   "id": "fac9e7e7-f774-4c77-8190-5a644ebf45ea",
   "metadata": {},
   "outputs": [
    {
     "name": "stdout",
     "output_type": "stream",
     "text": [
      "{'cat': 'chat', 'dog': 'chien', 'horse': 'cheval', 'duck': 'canard'}\n"
     ]
    }
   ],
   "source": [
    "dictionary = {\"cat\": \"chat\", \"dog\": \"chien\", \"horse\": \"cheval\"}\n",
    "\n",
    "dictionary.update({\"duck\": \"canard\"})\n",
    "print(dictionary)\n"
   ]
  },
  {
   "cell_type": "code",
   "execution_count": null,
   "id": "747debbd-7f78-4479-a7c3-45f5ca153a38",
   "metadata": {},
   "outputs": [],
   "source": []
  },
  {
   "cell_type": "markdown",
   "id": "51b42b8e-3e5d-4d5c-ae87-0c913d35b89b",
   "metadata": {},
   "source": [
    "Removing a key\n",
    "\n",
    "Can you guess how to remove a key from a dictionary?\n",
    "\n",
    "Note: removing a key will always cause the removal of the associated value. Values cannot exist without their keys.\n",
    "\n",
    "This is done with the del instruction.\n",
    "\n",
    "Here's the example:"
   ]
  },
  {
   "cell_type": "code",
   "execution_count": 46,
   "id": "ba328a92-08be-45f6-bcc8-ac5106a032b8",
   "metadata": {},
   "outputs": [
    {
     "name": "stdout",
     "output_type": "stream",
     "text": [
      "{'cat': 'chat', 'horse': 'cheval'}\n"
     ]
    }
   ],
   "source": [
    "dictionary = {\"cat\": \"chat\", \"dog\": \"chien\", \"horse\": \"cheval\"}\n",
    "\n",
    "del dictionary['dog']\n",
    "print(dictionary)\n"
   ]
  },
  {
   "cell_type": "markdown",
   "id": "3290c53f-3ce4-4d38-999c-618aecf6d39d",
   "metadata": {},
   "source": [
    "To remove the last item in a dictionary, you can use the popitem() method:"
   ]
  },
  {
   "cell_type": "code",
   "execution_count": 47,
   "id": "c0107951-b54c-48de-b22a-925693084915",
   "metadata": {},
   "outputs": [
    {
     "name": "stdout",
     "output_type": "stream",
     "text": [
      "{'cat': 'chat', 'dog': 'chien'}\n"
     ]
    }
   ],
   "source": [
    "dictionary = {\"cat\": \"chat\", \"dog\": \"chien\", \"horse\": \"cheval\"}\n",
    "\n",
    "dictionary.popitem()\n",
    "print(dictionary)    # outputs: {'cat': 'chat', 'dog': 'chien'}\n",
    "\n"
   ]
  },
  {
   "cell_type": "markdown",
   "id": "c84061eb-3913-42a4-a0bf-2d29602d3525",
   "metadata": {},
   "source": [
    "Tuples and dictionaries can work together\n",
    "\n",
    "We've prepared a simple example, showing how tuples and dictionaries can work together.\n",
    "\n",
    "Let's imagine the following problem:\n",
    "\n",
    "    you need a program to evaluate the students' average scores;\n",
    "    the program should ask for the student's name, followed by her/his single score;\n",
    "    the names may be entered in any order;\n",
    "    entering an empty name finishes the inputting of the data (note 1: entering an empty score will raise the ValueError exception, but don't worry about that now, you'll see how to handle such cases when we talk about exceptions in the second part of the Python Essentials course series)\n",
    "    a list of all names, together with the evaluated average score, should be then emitted.\n"
   ]
  },
  {
   "cell_type": "code",
   "execution_count": 110,
   "id": "daf48aad-66e4-4e72-b4c3-7ab11dda7d1f",
   "metadata": {},
   "outputs": [
    {
     "name": "stdin",
     "output_type": "stream",
     "text": [
      "Enter the student's name:  Tuji\n",
      "Enter the student's score (0-10):  9\n",
      "Enter the student's name:  segun\n",
      "Enter the student's score (0-10):  5\n",
      "Enter the student's name:  dare\n",
      "Enter the student's score (0-10):  8\n",
      "Enter the student's name:  wale\n",
      "Enter the student's score (0-10):  5\n",
      "Enter the student's name:  luc\n",
      "Enter the student's score (0-10):  4\n",
      "Enter the student's name:  ''\n",
      "Enter the student's score (0-10):  13\n"
     ]
    },
    {
     "name": "stdout",
     "output_type": "stream",
     "text": [
      "Tuji : 9\n",
      "dare : 8\n",
      "luc : 4\n",
      "segun : 5\n",
      "wale : 5\n"
     ]
    }
   ],
   "source": [
    "school_class = {}\n",
    "\n",
    "while True:\n",
    "    name = input(\"Enter the student's name: \")\n",
    "    if name == '':\n",
    "        break\n",
    "    \n",
    "    score = int(input(\"Enter the student's score (0-10): \"))\n",
    "    if score not in range(0, 11):\n",
    "\t    break\n",
    "    \n",
    "    if name in school_class:\n",
    "        school_class[name] += (score,)\n",
    "    else:\n",
    "        school_class[name] = (score,)\n",
    "        \n",
    "for name in sorted(school_class.keys()):\n",
    "    adding = 0\n",
    "    counter = 0\n",
    "    for score in school_class[name]:\n",
    "        adding += score\n",
    "        counter += 1\n",
    "    print(name, \":\", adding / counter)\n"
   ]
  },
  {
   "cell_type": "markdown",
   "id": "c7462db8-ecbb-4765-91ab-7004249fc60a",
   "metadata": {},
   "source": [
    "Key takeaways: tuples\n",
    "\n",
    "1. Tuples are ordered and unchangeable (immutable) collections of data. They can be thought of as immutable lists. They are written in round brackets:"
   ]
  },
  {
   "cell_type": "code",
   "execution_count": 50,
   "id": "1b0e6ddc-a384-43c2-bdbb-222a4ad2e299",
   "metadata": {},
   "outputs": [
    {
     "name": "stdout",
     "output_type": "stream",
     "text": [
      "(1, 2, True, 'a string', (3, 4), [5, 6], None)\n",
      "[1, 2, True, 'a string', (3, 4), [5, 6], None]\n"
     ]
    }
   ],
   "source": [
    "my_tuple = (1, 2, True, \"a string\", (3, 4), [5, 6], None)\n",
    "print(my_tuple)\n",
    "\n",
    "my_list = [1, 2, True, \"a string\", (3, 4), [5, 6], None]\n",
    "print(my_list)\n",
    "\n"
   ]
  },
  {
   "cell_type": "markdown",
   "id": "d6edf727-e426-4839-8e69-2b7e577db2cb",
   "metadata": {},
   "source": [
    "2. You can create an empty tuple like this:"
   ]
  },
  {
   "cell_type": "code",
   "execution_count": 54,
   "id": "6e262776-adca-4a7c-a6bd-a170429e7b3d",
   "metadata": {},
   "outputs": [
    {
     "name": "stdout",
     "output_type": "stream",
     "text": [
      "<class 'tuple'>\n"
     ]
    }
   ],
   "source": [
    "empty_tuple = ()\n",
    "print(type(empty_tuple))"
   ]
  },
  {
   "cell_type": "markdown",
   "id": "61b2c3f6-f576-4c94-8260-3849ff4a36b1",
   "metadata": {},
   "source": [
    "Tuples are immutable, which means you cannot change their elements (you cannot append tuples, or modify, or remove tuple elements). The following snippet will cause an exception:"
   ]
  },
  {
   "cell_type": "markdown",
   "id": "311cdf19-8337-4811-823d-babea27a1e60",
   "metadata": {},
   "source": [
    "However, you can delete a tuple as a whole:"
   ]
  },
  {
   "cell_type": "markdown",
   "id": "19f2d3bb-77d9-4db4-b2df-46f2069893a3",
   "metadata": {},
   "source": [
    " You can loop through a tuple elements (Example 1), check if a specific element is (not)present in a tuple (Example 2), use the len() function to check how many elements there are in a tuple (Example 3), or even join/multiply tuples (Example 4):"
   ]
  },
  {
   "cell_type": "code",
   "execution_count": 58,
   "id": "0df34004-9a42-4a46-8d34-218cfd2a1077",
   "metadata": {},
   "outputs": [
    {
     "name": "stdout",
     "output_type": "stream",
     "text": [
      "1\n",
      "2\n",
      "3\n",
      "False\n",
      "True\n",
      "4\n",
      "(1, 2, 3, 1, 2, 3, 4)\n",
      "(1, 2, 3, 5, 1, 2, 3, 5)\n"
     ]
    }
   ],
   "source": [
    "# Example 1\n",
    "tuple_1 = (1, 2, 3)\n",
    "for elem in tuple_1:\n",
    "    print(elem)\n",
    "\n",
    "# Example 2\n",
    "tuple_2 = (1, 2, 3, 4)\n",
    "print(5 in tuple_2)\n",
    "print(5 not in tuple_2)\n",
    "\n",
    "# Example 3\n",
    "tuple_3 = (1, 2, 3, 5)\n",
    "print(len(tuple_3))\n",
    "\n",
    "# Example 4\n",
    "tuple_4 = tuple_1 + tuple_2\n",
    "tuple_5 = tuple_3 * 2\n",
    "\n",
    "print(tuple_4)\n",
    "print(tuple_5)\n"
   ]
  },
  {
   "cell_type": "markdown",
   "id": "8486dd3d-268c-4c8e-bdb5-385df2f5b050",
   "metadata": {},
   "source": [
    "You can also create a tuple using a Python built-in function called tuple(). This is particularly useful when you want to convert a certain iterable (e.g., a list, range, string, etc.) to a tuple:"
   ]
  },
  {
   "cell_type": "code",
   "execution_count": 59,
   "id": "1f5077c1-749b-48fd-b84d-f1c04124c6ba",
   "metadata": {},
   "outputs": [
    {
     "name": "stdout",
     "output_type": "stream",
     "text": [
      "(1, 2, 'string')\n",
      "[2, 4, 6]\n",
      "<class 'list'>\n",
      "(2, 4, 6)\n",
      "<class 'tuple'>\n"
     ]
    }
   ],
   "source": [
    "my_tuple = tuple((1, 2, \"string\"))\n",
    "print(my_tuple)\n",
    "\n",
    "my_list = [2, 4, 6]\n",
    "print(my_list)    # outputs: [2, 4, 6]\n",
    "print(type(my_list))    # outputs: <class 'list'>\n",
    "\n",
    "tup = tuple(my_list)\n",
    "print(tup)    # outputs: (2, 4, 6)\n",
    "print(type(tup))    # outputs: <class 'tuple'>\n",
    "\n"
   ]
  },
  {
   "cell_type": "markdown",
   "id": "0d4beeee-ad43-413c-bcef-a5ef21ffccb3",
   "metadata": {},
   "source": [
    " If you want to change the value associated with a specific key, you can do so by referring to the item's key name in the following way:"
   ]
  },
  {
   "cell_type": "code",
   "execution_count": 61,
   "id": "9ca2130c-274e-4039-a4d3-389b0c21a3ba",
   "metadata": {},
   "outputs": [
    {
     "name": "stdout",
     "output_type": "stream",
     "text": [
      "lock\n"
     ]
    }
   ],
   "source": [
    "pol_eng_dictionary = {\"zamek\": \"castle\", \"woda\": \"water\", \"gleba\": \"soil\"}\n",
    "\n",
    "pol_eng_dictionary[\"zamek\"] = \"lock\"\n",
    "item = pol_eng_dictionary[\"zamek\"]    \n",
    "print(item)  # outputs: lock\n",
    "\n"
   ]
  },
  {
   "cell_type": "markdown",
   "id": "2f70198e-2766-42d3-8fe3-0f84b0015540",
   "metadata": {},
   "source": [
    "\n",
    "4. To add or remove a key (and the associated value), use the following syntax:"
   ]
  },
  {
   "cell_type": "code",
   "execution_count": 62,
   "id": "65e6100f-8bc0-451a-be4a-9929bee229b3",
   "metadata": {},
   "outputs": [
    {
     "name": "stdout",
     "output_type": "stream",
     "text": [
      "{'Adam': 3456783958}\n",
      "{}\n"
     ]
    }
   ],
   "source": [
    "phonebook = {}    # an empty dictionary\n",
    "\n",
    "phonebook[\"Adam\"] = 3456783958    # create/add a key-value pair\n",
    "print(phonebook)    # outputs: {'Adam': 3456783958}\n",
    "\n",
    "del phonebook[\"Adam\"]\n",
    "print(phonebook)    # outputs: {}\n"
   ]
  },
  {
   "cell_type": "markdown",
   "id": "636d29a2-83b2-4792-91f6-a37f946354b9",
   "metadata": {},
   "source": [
    "You can also insert an item to a dictionary by using the update() method, and remove the last element by using the popitem() method, e.g.:"
   ]
  },
  {
   "cell_type": "code",
   "execution_count": 63,
   "id": "08cc59b6-dbee-424a-b944-8f9f66029023",
   "metadata": {},
   "outputs": [
    {
     "name": "stdout",
     "output_type": "stream",
     "text": [
      "{'kwiat': 'flower', 'gleba': 'soil'}\n",
      "{'kwiat': 'flower'}\n"
     ]
    }
   ],
   "source": [
    "pol_eng_dictionary = {\"kwiat\": \"flower\"}\n",
    "\n",
    "pol_eng_dictionary.update({\"gleba\": \"soil\"})\n",
    "print(pol_eng_dictionary)    # outputs: {'kwiat': 'flower', 'gleba': 'soil'}\n",
    "\n",
    "pol_eng_dictionary.popitem()\n",
    "print(pol_eng_dictionary)    # outputs: {'kwiat': 'flower'}\n",
    "\n"
   ]
  },
  {
   "cell_type": "markdown",
   "id": "312e3c7c-658a-4994-8962-52974f66f43d",
   "metadata": {},
   "source": [
    "5. You can use the for loop to loop through a dictionary, e.g.:"
   ]
  },
  {
   "cell_type": "code",
   "execution_count": 64,
   "id": "f2f951f8-fbae-4faa-aa19-dc6a458db386",
   "metadata": {},
   "outputs": [
    {
     "name": "stdout",
     "output_type": "stream",
     "text": [
      "zamek\n",
      "woda\n",
      "gleba\n"
     ]
    }
   ],
   "source": [
    "pol_eng_dictionary = {\n",
    "    \"zamek\": \"castle\",\n",
    "    \"woda\": \"water\",\n",
    "    \"gleba\": \"soil\"\n",
    "    }\n",
    "\n",
    "for item in pol_eng_dictionary:\n",
    "    print(item) \n",
    "\n",
    "# outputs: zamek\n",
    "#          woda\n",
    "#          gleba\n"
   ]
  },
  {
   "cell_type": "markdown",
   "id": "ad768497-3bc0-4cd5-8629-d925d0b35e23",
   "metadata": {},
   "source": [
    "6. If you want to loop through a dictionary's keys and values, you can use the items() method, e.g.:"
   ]
  },
  {
   "cell_type": "code",
   "execution_count": 113,
   "id": "beee624f-1c24-4a04-84e6-2e0abc4fef19",
   "metadata": {},
   "outputs": [
    {
     "name": "stdout",
     "output_type": "stream",
     "text": [
      "zamek : castle\n",
      "woda : water\n",
      "gleba : soil\n"
     ]
    }
   ],
   "source": [
    "pol_eng_dictionary = {\n",
    "    \"zamek\": \"castle\",\n",
    "    \"woda\": \"water\",\n",
    "    \"gleba\": \"soil\"\n",
    "    }\n",
    "\n",
    "for key, value in pol_eng_dictionary.items():\n",
    "    print (key, \":\", value)\n"
   ]
  },
  {
   "cell_type": "markdown",
   "id": "5bec5c0e-bd8f-4a6b-a812-42dbedc1b918",
   "metadata": {},
   "source": [
    "7. To check if a given key exists in a dictionary, you can use the in keyword:"
   ]
  },
  {
   "cell_type": "code",
   "execution_count": 69,
   "id": "b3e4d925-ca91-40d2-a49a-4ca82be41ac1",
   "metadata": {},
   "outputs": [
    {
     "name": "stdout",
     "output_type": "stream",
     "text": [
      "Yes\n"
     ]
    }
   ],
   "source": [
    "pol_eng_dictionary = {\n",
    "    \"zamek\": \"castle\",\n",
    "    \"woda\": \"water\",\n",
    "    \"gleba\": \"soil\"\n",
    "    }\n",
    "\n",
    "if \"zamek\" in pol_eng_dictionary:\n",
    "    print(\"Yes\")\n",
    "else:\n",
    "    print(\"No\")\n"
   ]
  },
  {
   "cell_type": "markdown",
   "id": "20342e19-1f36-4f9c-8e9c-e3d19a8e4563",
   "metadata": {},
   "source": [
    "8. You can use the del keyword to remove a specific item, or delete a dictionary. To remove all the dictionary's items, you need to use the clear() method:"
   ]
  },
  {
   "cell_type": "code",
   "execution_count": 70,
   "id": "fbe73d8c-1c56-406d-b68b-5131a4be7e57",
   "metadata": {},
   "outputs": [
    {
     "name": "stdout",
     "output_type": "stream",
     "text": [
      "3\n",
      "2\n",
      "0\n"
     ]
    }
   ],
   "source": [
    "pol_eng_dictionary = {\n",
    "    \"zamek\": \"castle\",\n",
    "    \"woda\": \"water\",\n",
    "    \"gleba\": \"soil\"\n",
    "    }\n",
    "\n",
    "print(len(pol_eng_dictionary))    # outputs: 3\n",
    "del pol_eng_dictionary[\"zamek\"]    # remove an item\n",
    "print(len(pol_eng_dictionary))    # outputs: 2\n",
    "\n",
    "pol_eng_dictionary.clear()   # removes all the items\n",
    "print(len(pol_eng_dictionary))    # outputs: 0\n",
    "\n",
    "del pol_eng_dictionary    # removes the dictionary\n",
    "\n"
   ]
  },
  {
   "cell_type": "markdown",
   "id": "c2604d76-dd40-401e-bdb2-1823a4f4c2d6",
   "metadata": {},
   "source": [
    "9. To copy a dictionary, use the copy() method:"
   ]
  },
  {
   "cell_type": "code",
   "execution_count": 114,
   "id": "336527ca-be27-4f3d-a96c-02cd136f74e1",
   "metadata": {},
   "outputs": [],
   "source": [
    "pol_eng_dictionary = {\n",
    "    \"zamek\": \"castle\",\n",
    "    \"woda\": \"water\",\n",
    "    \"gleba\": \"soil\"\n",
    "    }\n",
    "\n",
    "copy_dictionary = pol_eng_dictionary.copy()\n"
   ]
  },
  {
   "cell_type": "code",
   "execution_count": 115,
   "id": "922435da-00a9-441b-bba2-733f46536f5c",
   "metadata": {},
   "outputs": [
    {
     "name": "stdout",
     "output_type": "stream",
     "text": [
      "{'zamek': 'castle', 'woda': 'water', 'gleba': 'soil'}\n"
     ]
    }
   ],
   "source": [
    "print(pol_eng_dictionary)"
   ]
  },
  {
   "cell_type": "code",
   "execution_count": 80,
   "id": "3ffe9843-147b-4014-a7b1-f3e9a40b5ded",
   "metadata": {},
   "outputs": [
    {
     "name": "stdout",
     "output_type": "stream",
     "text": [
      "4\n"
     ]
    }
   ],
   "source": [
    "tup = 1, 2, 3, 2, 4, 5, 6, 2, 7, 2, 8, 9\n",
    "duplicates = tup.count(2)\n",
    "\n",
    "print(duplicates)    # outputs: 4\n"
   ]
  },
  {
   "cell_type": "code",
   "execution_count": 84,
   "id": "322019c6-f5f2-40a7-9146-1003004f297c",
   "metadata": {},
   "outputs": [
    {
     "name": "stdout",
     "output_type": "stream",
     "text": [
      "{'Adam Smith': 'A', 'Judy Paxton': 'B+', 'Mary Louis': 'A', 'Patrick White': 'C'}\n"
     ]
    }
   ],
   "source": [
    "d1 = {'Adam Smith': 'A', 'Judy Paxton': 'B+'}\n",
    "d2 = {'Mary Louis': 'A', 'Patrick White': 'C'}\n",
    "d3 = {}\n",
    "\n",
    "for item in (d1, d2):\n",
    "    d3.update(item) \n",
    "\n",
    "print(d3)"
   ]
  },
  {
   "cell_type": "code",
   "execution_count": 95,
   "id": "05f887a6-1d4b-4878-bd53-a51d6a60c881",
   "metadata": {},
   "outputs": [
    {
     "name": "stdout",
     "output_type": "stream",
     "text": [
      "('car', 'Ford', 'flower', 'Tulip')\n"
     ]
    }
   ],
   "source": [
    "my_list = [\"car\", \"Ford\", \"flower\", \"Tulip\"]\n",
    "\n",
    "t = tuple(my_list)\n",
    "print(t)\n",
    "\n",
    "\n"
   ]
  },
  {
   "cell_type": "code",
   "execution_count": 96,
   "id": "0c91f903-410e-423f-a2e4-5cacd63c9ece",
   "metadata": {},
   "outputs": [
    {
     "name": "stdout",
     "output_type": "stream",
     "text": [
      "{'green': '#008000', 'blue': '#0000FF'}\n"
     ]
    }
   ],
   "source": [
    "colors = ((\"green\", \"#008000\"), (\"blue\", \"#0000FF\"))\n",
    "\n",
    "colors_dictionary = dict(colors)\n",
    "\n",
    "print(colors_dictionary)\n",
    "\n",
    "\n"
   ]
  },
  {
   "cell_type": "code",
   "execution_count": 98,
   "id": "1e2274c7-43ad-4b65-b0e3-1171752b112e",
   "metadata": {},
   "outputs": [
    {
     "name": "stdout",
     "output_type": "stream",
     "text": [
      "{'A': 1, 'B': 2}\n"
     ]
    }
   ],
   "source": [
    "my_dictionary = {\"A\": 1, \"B\": 2}\n",
    "copy_my_dictionary = my_dictionary.copy()\n",
    "my_dictionary.clear()\n",
    "\n",
    "print(copy_my_dictionary)"
   ]
  },
  {
   "cell_type": "code",
   "execution_count": 106,
   "id": "a752792a-65fa-4baf-a4fb-6eeb863a85cb",
   "metadata": {},
   "outputs": [
    {
     "name": "stdout",
     "output_type": "stream",
     "text": [
      "white : (255, 255, 255)\n",
      "grey : (128, 128, 128)\n",
      "red : (255, 0, 0)\n",
      "green : (0, 128, 0)\n"
     ]
    }
   ],
   "source": [
    "colors = {\n",
    "    \"white\": (255, 255, 255),\n",
    "    \"grey\": (128, 128, 128),\n",
    "    \"red\": (255, 0, 0),\n",
    "    \"green\": (0, 128, 0)\n",
    "    }\n",
    "\n",
    "for col, dict in colors.items():\n",
    "    print(col, \":\", dict)\n"
   ]
  },
  {
   "cell_type": "code",
   "execution_count": null,
   "id": "71b4f724-d9c6-46c7-8059-bfc0d16eabc7",
   "metadata": {},
   "outputs": [],
   "source": []
  }
 ],
 "metadata": {
  "kernelspec": {
   "display_name": "Python 3 (ipykernel)",
   "language": "python",
   "name": "python3"
  },
  "language_info": {
   "codemirror_mode": {
    "name": "ipython",
    "version": 3
   },
   "file_extension": ".py",
   "mimetype": "text/x-python",
   "name": "python",
   "nbconvert_exporter": "python",
   "pygments_lexer": "ipython3",
   "version": "3.12.4"
  }
 },
 "nbformat": 4,
 "nbformat_minor": 5
}
