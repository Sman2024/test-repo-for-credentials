{
 "cells": [
  {
   "cell_type": "code",
   "execution_count": 10,
   "id": "9d4dea7d-84da-4ac3-b13e-11fbbafa7e78",
   "metadata": {},
   "outputs": [
    {
     "data": {
      "text/plain": [
       "[1, 2, 3]"
      ]
     },
     "execution_count": 10,
     "metadata": {},
     "output_type": "execute_result"
    }
   ],
   "source": [
    "# let's make three lists\n",
    "first_1=[1,2,3]\n",
    "first_2=[4,5,6]\n",
    "first_3=[7,8,9]\n",
    "\n",
    "first_1"
   ]
  },
  {
   "cell_type": "code",
   "execution_count": 12,
   "id": "dc6af3dc-18a9-4ef4-954c-515ca79e9436",
   "metadata": {},
   "outputs": [
    {
     "data": {
      "text/plain": [
       "str"
      ]
     },
     "execution_count": 12,
     "metadata": {},
     "output_type": "execute_result"
    }
   ],
   "source": [
    "my_str = '23'\n",
    "type(my_str)"
   ]
  },
  {
   "cell_type": "code",
   "execution_count": 13,
   "id": "80c5b28b-2462-4f97-8af4-3e819c768575",
   "metadata": {},
   "outputs": [
    {
     "data": {
      "text/plain": [
       "int"
      ]
     },
     "execution_count": 13,
     "metadata": {},
     "output_type": "execute_result"
    }
   ],
   "source": [
    "my_str = 23\n",
    "type(my_str)"
   ]
  },
  {
   "cell_type": "code",
   "execution_count": 15,
   "id": "1b7e20fe-0b9c-45c6-9fbe-aa6c1e35687d",
   "metadata": {},
   "outputs": [
    {
     "data": {
      "text/plain": [
       "str"
      ]
     },
     "execution_count": 15,
     "metadata": {},
     "output_type": "execute_result"
    }
   ],
   "source": [
    "my_str = 'word'\n",
    "type(my_str)"
   ]
  },
  {
   "cell_type": "code",
   "execution_count": 16,
   "id": "efa0bcfa-ea2b-47eb-a0d4-8cb8b11179dd",
   "metadata": {},
   "outputs": [
    {
     "data": {
      "text/plain": [
       "float"
      ]
     },
     "execution_count": 16,
     "metadata": {},
     "output_type": "execute_result"
    }
   ],
   "source": [
    "my_str = 2.5\n",
    "type(my_str)"
   ]
  },
  {
   "cell_type": "code",
   "execution_count": 17,
   "id": "50b50812-5504-47d1-9e91-7de47b734958",
   "metadata": {},
   "outputs": [
    {
     "data": {
      "text/plain": [
       "float"
      ]
     },
     "execution_count": 17,
     "metadata": {},
     "output_type": "execute_result"
    }
   ],
   "source": [
    "my_str = 2/5\n",
    "type(my_str)"
   ]
  },
  {
   "cell_type": "code",
   "execution_count": 18,
   "id": "19f87605-23b3-4b3a-b58d-d47451cb5a1d",
   "metadata": {},
   "outputs": [
    {
     "data": {
      "text/plain": [
       "int"
      ]
     },
     "execution_count": 18,
     "metadata": {},
     "output_type": "execute_result"
    }
   ],
   "source": [
    "my_str = 2*2\n",
    "type(my_str)"
   ]
  },
  {
   "cell_type": "code",
   "execution_count": 19,
   "id": "42a94bb4-afd8-4b4d-96b3-22660b52e06b",
   "metadata": {},
   "outputs": [
    {
     "data": {
      "text/plain": [
       "int"
      ]
     },
     "execution_count": 19,
     "metadata": {},
     "output_type": "execute_result"
    }
   ],
   "source": [
    "my_str = 5-3\n",
    "type(my_str)"
   ]
  },
  {
   "cell_type": "code",
   "execution_count": 20,
   "id": "bc96e206-ee4a-4add-8feb-006b5ad64d19",
   "metadata": {},
   "outputs": [
    {
     "data": {
      "text/plain": [
       "int"
      ]
     },
     "execution_count": 20,
     "metadata": {},
     "output_type": "execute_result"
    }
   ],
   "source": [
    "my_str = 5+2\n",
    "type(my_str)"
   ]
  },
  {
   "cell_type": "code",
   "execution_count": 21,
   "id": "a108ff62-3860-4878-b3af-72b52aabea9e",
   "metadata": {},
   "outputs": [
    {
     "ename": "NameError",
     "evalue": "name 'FALSE' is not defined",
     "output_type": "error",
     "traceback": [
      "\u001b[1;31m---------------------------------------------------------------------------\u001b[0m",
      "\u001b[1;31mNameError\u001b[0m                                 Traceback (most recent call last)",
      "Cell \u001b[1;32mIn[21], line 1\u001b[0m\n\u001b[1;32m----> 1\u001b[0m my_str \u001b[38;5;241m=\u001b[39m FALSE\n\u001b[0;32m      2\u001b[0m \u001b[38;5;28mtype\u001b[39m(my_str)\n",
      "\u001b[1;31mNameError\u001b[0m: name 'FALSE' is not defined"
     ]
    }
   ],
   "source": [
    "my_str = FALSE\n",
    "type(my_str)"
   ]
  },
  {
   "cell_type": "code",
   "execution_count": 1,
   "id": "edc1cfab-56f8-49d7-a29f-d20340394456",
   "metadata": {},
   "outputs": [
    {
     "ename": "NameError",
     "evalue": "name 'return_result' is not defined",
     "output_type": "error",
     "traceback": [
      "\u001b[1;31m---------------------------------------------------------------------------\u001b[0m",
      "\u001b[1;31mNameError\u001b[0m                                 Traceback (most recent call last)",
      "Cell \u001b[1;32mIn[1], line 1\u001b[0m\n\u001b[1;32m----> 1\u001b[0m return_result(\u001b[38;5;241m10\u001b[39m,\u001b[38;5;241m5\u001b[39m)\n",
      "\u001b[1;31mNameError\u001b[0m: name 'return_result' is not defined"
     ]
    }
   ],
   "source": [
    "return_result(10,5) "
   ]
  },
  {
   "cell_type": "code",
   "execution_count": 2,
   "id": "3e10eb97-61a7-4c3a-b48a-f0fc4ace453f",
   "metadata": {},
   "outputs": [
    {
     "data": {
      "text/plain": [
       "5"
      ]
     },
     "execution_count": 2,
     "metadata": {},
     "output_type": "execute_result"
    }
   ],
   "source": [
    "def fib(n):\n",
    "    if n < 1:\n",
    "        return None\n",
    "    if n < 3:\n",
    "        return 1\n",
    "    return fib(n - 1) + fib(n - 2)\n",
    "\n",
    "fib(5)"
   ]
  },
  {
   "cell_type": "code",
   "execution_count": 3,
   "id": "07536b04-0898-490a-b237-54564fa8f712",
   "metadata": {},
   "outputs": [
    {
     "name": "stdout",
     "output_type": "stream",
     "text": [
      "[7, 9]\n"
     ]
    }
   ],
   "source": [
    "y = filter(lambda a:(a>5),(1,4,7,3,9))\n",
    "print(list(y))"
   ]
  },
  {
   "cell_type": "code",
   "execution_count": 7,
   "id": "2d12be75-cea1-42bf-b2fc-9f52d52e7007",
   "metadata": {},
   "outputs": [
    {
     "name": "stdout",
     "output_type": "stream",
     "text": [
      "[4, 9, 16, 25, 36]\n"
     ]
    }
   ],
   "source": [
    "numbers = (2,3,4,5,6)\n",
    "out = map(lambda a: a*a, numbers)\n",
    "\n",
    "print(list(out))"
   ]
  },
  {
   "cell_type": "code",
   "execution_count": 14,
   "id": "8def6eef-800b-4002-ae91-bcc11b329317",
   "metadata": {},
   "outputs": [
    {
     "name": "stdout",
     "output_type": "stream",
     "text": [
      "[4, 5, 6]\n"
     ]
    }
   ],
   "source": [
    "out = filter(lambda x: (x > 3),(numbers))\n",
    "\n",
    "print(list(out))"
   ]
  },
  {
   "cell_type": "code",
   "execution_count": 27,
   "id": "9ccf60c5-16ce-4e4a-b2ce-c7f6e487288d",
   "metadata": {},
   "outputs": [],
   "source": [
    "from IPython.display import clear_output\n",
    "clear_output()"
   ]
  },
  {
   "cell_type": "code",
   "execution_count": 28,
   "id": "925eed9f-a968-43c0-adfa-ab814b67760a",
   "metadata": {},
   "outputs": [
    {
     "name": "stdout",
     "output_type": "stream",
     "text": [
      "You did not choose a valid position(0,1,2): \n"
     ]
    },
    {
     "name": "stdin",
     "output_type": "stream",
     "text": [
      "Pick a position to replace(0,1,2):  2\n"
     ]
    },
    {
     "data": {
      "text/plain": [
       "2"
      ]
     },
     "execution_count": 28,
     "metadata": {},
     "output_type": "execute_result"
    }
   ],
   "source": [
    "def position_choice():\n",
    "    \n",
    "    choice = 'wrong'\n",
    "    while choice not in ['0', '1', '2']:\n",
    "        choice = input('Pick a position to replace(0,1,2): ')\n",
    "        \n",
    "        if choice not in ['0', '1', '2']:\n",
    "            clear_output()\n",
    "            print('You did not choose a valid position(0,1,2): ')\n",
    "    return int(choice)\n",
    "\n",
    "position_choice()"
   ]
  },
  {
   "cell_type": "code",
   "execution_count": 22,
   "id": "b450cbc1-2c2d-433f-ad3f-55d860772143",
   "metadata": {},
   "outputs": [
    {
     "ename": "SyntaxError",
     "evalue": "invalid syntax (1281547567.py, line 1)",
     "output_type": "error",
     "traceback": [
      "\u001b[1;36m  Cell \u001b[1;32mIn[22], line 1\u001b[1;36m\u001b[0m\n\u001b[1;33m    position_choice():\u001b[0m\n\u001b[1;37m                     ^\u001b[0m\n\u001b[1;31mSyntaxError\u001b[0m\u001b[1;31m:\u001b[0m invalid syntax\n"
     ]
    }
   ],
   "source": [
    "position_choice():"
   ]
  },
  {
   "cell_type": "code",
   "execution_count": null,
   "id": "0f4b6976-abe6-4f93-a8c7-da499aee386d",
   "metadata": {},
   "outputs": [],
   "source": []
  },
  {
   "cell_type": "code",
   "execution_count": null,
   "id": "a27bea3a-dfa4-4a87-b1ba-488c91edd656",
   "metadata": {},
   "outputs": [],
   "source": []
  },
  {
   "cell_type": "code",
   "execution_count": 31,
   "id": "64bd30ec-27e3-4782-9d30-10d464acd7a8",
   "metadata": {},
   "outputs": [
    {
     "name": "stdout",
     "output_type": "stream",
     "text": [
      "21"
     ]
    }
   ],
   "source": [
    "dct = {}\n",
    "dct['1'] = (1,2)\n",
    "dct['2'] = (2,1)\n",
    "\n",
    "for x in dct.keys():\n",
    "    print(dct[x][1], end=\"\")"
   ]
  },
  {
   "cell_type": "code",
   "execution_count": null,
   "id": "0f1cd40e-0c7b-42e0-a5a7-6ea9a05b0433",
   "metadata": {},
   "outputs": [],
   "source": []
  },
  {
   "cell_type": "code",
   "execution_count": 34,
   "id": "5d0c117e-962c-46eb-b359-bac9c88bd870",
   "metadata": {},
   "outputs": [
    {
     "name": "stdin",
     "output_type": "stream",
     "text": [
      " 2\n",
      " 4\n"
     ]
    },
    {
     "name": "stdout",
     "output_type": "stream",
     "text": [
      "2.0\n"
     ]
    }
   ],
   "source": [
    "x = float(input())\n",
    "y = float(input())\n",
    "print(y ** (1/x))"
   ]
  },
  {
   "cell_type": "code",
   "execution_count": 35,
   "id": "9551d6c3-5caf-4846-904d-2697d3774ed6",
   "metadata": {},
   "outputs": [
    {
     "name": "stdout",
     "output_type": "stream",
     "text": [
      "2\n"
     ]
    }
   ],
   "source": [
    "def fun(x):\n",
    "    if x % 2 == 0:\n",
    "        return 1\n",
    "    else:\n",
    "        return 2\n",
    "\n",
    "print(fun(fun(2)))"
   ]
  },
  {
   "cell_type": "code",
   "execution_count": 36,
   "id": "b7a2f13e-4c1c-42f5-bb9f-c80494413725",
   "metadata": {},
   "outputs": [
    {
     "name": "stdout",
     "output_type": "stream",
     "text": [
      "1 1 2\n"
     ]
    }
   ],
   "source": [
    "x = 1\n",
    "y = 2\n",
    "x,y,z = x,x,y\n",
    "z,y,z = x,y,z\n",
    "\n",
    "print(x,y,z)"
   ]
  },
  {
   "cell_type": "code",
   "execution_count": 37,
   "id": "4386288c-2a5a-4b39-bdb5-80626625a751",
   "metadata": {},
   "outputs": [
    {
     "name": "stdout",
     "output_type": "stream",
     "text": [
      "[1, 1, 1, 2]\n"
     ]
    }
   ],
   "source": [
    "my_list = [1,2]\n",
    "\n",
    "for v in range(2):\n",
    "    my_list.insert(-1, my_list[v])\n",
    "\n",
    "print(my_list)"
   ]
  },
  {
   "cell_type": "code",
   "execution_count": 39,
   "id": "b12b7aba-2398-4573-8506-3c264c2b432f",
   "metadata": {},
   "outputs": [
    {
     "name": "stdout",
     "output_type": "stream",
     "text": [
      "[0, 1, 4, 9]\n"
     ]
    }
   ],
   "source": [
    "lst = [x * x for x in range(5)]\n",
    "\n",
    "def fun(lst):\n",
    "    del lst[lst[2]]\n",
    "    return lst\n",
    "\n",
    "print(fun(lst))"
   ]
  },
  {
   "cell_type": "code",
   "execution_count": 41,
   "id": "7189a427-cd9c-42fa-9149-728543191fbe",
   "metadata": {},
   "outputs": [
    {
     "name": "stdout",
     "output_type": "stream",
     "text": [
      "one\n"
     ]
    }
   ],
   "source": [
    "dct = {'one': 'two', 'three': 'one', 'two': 'three'}\n",
    "v = dct['three']\n",
    "\n",
    "for k in range(len(dct)):\n",
    "    v = dct[v]\n",
    "\n",
    "print(v)"
   ]
  },
  {
   "cell_type": "code",
   "execution_count": 42,
   "id": "2b7d6c7b-dd7b-43fa-974f-85e207ef31b6",
   "metadata": {},
   "outputs": [
    {
     "name": "stdout",
     "output_type": "stream",
     "text": [
      "asepbsepc\n"
     ]
    }
   ],
   "source": [
    "print(\"a\", \"b\", \"c\", sep=\"sep\")"
   ]
  },
  {
   "cell_type": "code",
   "execution_count": 52,
   "id": "8fb31dce-c9a8-4bee-a48d-cb2f5f477f4c",
   "metadata": {},
   "outputs": [
    {
     "name": "stdout",
     "output_type": "stream",
     "text": [
      "[]\n"
     ]
    }
   ],
   "source": [
    "nums = [1, 2, 3]\n",
    "vals = nums\n",
    "del vals[:]\n",
    "\n",
    "print(nums)"
   ]
  },
  {
   "cell_type": "code",
   "execution_count": 46,
   "id": "231f812f-7c85-4d1a-8b8a-c613d7825e2b",
   "metadata": {},
   "outputs": [
    {
     "ename": "ValueError",
     "evalue": "tuple.index(x): x not in tuple",
     "output_type": "error",
     "traceback": [
      "\u001b[1;31m---------------------------------------------------------------------------\u001b[0m",
      "\u001b[1;31mValueError\u001b[0m                                Traceback (most recent call last)",
      "Cell \u001b[1;32mIn[46], line 2\u001b[0m\n\u001b[0;32m      1\u001b[0m foo \u001b[38;5;241m=\u001b[39m (\u001b[38;5;241m1\u001b[39m, \u001b[38;5;241m2\u001b[39m, \u001b[38;5;241m3\u001b[39m)\n\u001b[1;32m----> 2\u001b[0m foo\u001b[38;5;241m.\u001b[39mindex(\u001b[38;5;241m0\u001b[39m)\n",
      "\u001b[1;31mValueError\u001b[0m: tuple.index(x): x not in tuple"
     ]
    }
   ],
   "source": [
    "foo = (1, 2, 3)\n",
    "foo.index(0)"
   ]
  },
  {
   "cell_type": "code",
   "execution_count": 47,
   "id": "10b87ac5-0b28-45f4-ab6a-7b7916e739da",
   "metadata": {},
   "outputs": [
    {
     "name": "stdin",
     "output_type": "stream",
     "text": [
      " 3\n",
      " 2\n"
     ]
    },
    {
     "name": "stdout",
     "output_type": "stream",
     "text": [
      "0\n"
     ]
    }
   ],
   "source": [
    "x = int(input())\n",
    "y = int(input())\n",
    "x = x % y\n",
    "x = x % y\n",
    "y = y % x\n",
    "print(y)"
   ]
  },
  {
   "cell_type": "code",
   "execution_count": 48,
   "id": "3f5ebaf6-756c-451e-b577-e9988ed605fa",
   "metadata": {},
   "outputs": [
    {
     "ename": "SyntaxError",
     "evalue": "positional argument follows keyword argument (298739347.py, line 4)",
     "output_type": "error",
     "traceback": [
      "\u001b[1;36m  Cell \u001b[1;32mIn[48], line 4\u001b[1;36m\u001b[0m\n\u001b[1;33m    print(func(b=2, 2))\u001b[0m\n\u001b[1;37m                     ^\u001b[0m\n\u001b[1;31mSyntaxError\u001b[0m\u001b[1;31m:\u001b[0m positional argument follows keyword argument\n"
     ]
    }
   ],
   "source": [
    "def func(a, b):\n",
    "    return b ** a\n",
    "\n",
    "print(func(b=2, 2))"
   ]
  },
  {
   "cell_type": "code",
   "execution_count": 49,
   "id": "661d880e-8892-4ae2-af07-58db63bdd8a0",
   "metadata": {},
   "outputs": [
    {
     "name": "stdin",
     "output_type": "stream",
     "text": [
      " 3\n",
      " 6\n"
     ]
    },
    {
     "name": "stdout",
     "output_type": "stream",
     "text": [
      "63\n"
     ]
    }
   ],
   "source": [
    "y = input()\n",
    "x = input()\n",
    "print(x + y)"
   ]
  },
  {
   "cell_type": "code",
   "execution_count": 50,
   "id": "7269a311-1863-4e5e-b174-6d08877aada8",
   "metadata": {},
   "outputs": [
    {
     "name": "stdout",
     "output_type": "stream",
     "text": [
      "0 1\n"
     ]
    }
   ],
   "source": [
    "a = 1\n",
    "b = 0\n",
    "a = a ^ b\n",
    "b = a ^ b\n",
    "a = a ^ b\n",
    "\n",
    "print(a, b)"
   ]
  },
  {
   "cell_type": "code",
   "execution_count": 1,
   "id": "30abd68f-5db9-4696-9db7-91ec9887f4f1",
   "metadata": {},
   "outputs": [
    {
     "name": "stdout",
     "output_type": "stream",
     "text": [
      "['To', 'be', 'or', 'not', 'to', 'be,', 'that', 'is', 'the', 'question']\n",
      "['To', 'be', 'or', 'not', 'to', 'be,that', 'is', 'the', 'question']\n",
      "[]\n",
      "['abc']\n",
      "[]\n"
     ]
    }
   ],
   "source": [
    "def mysplit(strng):\n",
    "    if strng.strip() == \"\":\n",
    "        return []\n",
    "    \n",
    "    return strng.split()\n",
    "\n",
    "\n",
    "    \n",
    "\n",
    "\n",
    "print(mysplit(\"To be or not to be, that is the question\"))\n",
    "print(mysplit(\"To be or not to be,that is the question\"))\n",
    "print(mysplit(\"   \"))\n",
    "print(mysplit(\" abc \"))\n",
    "print(mysplit(\"\"))"
   ]
  },
  {
   "cell_type": "code",
   "execution_count": 2,
   "id": "1980c3d1-ded0-4055-a6c1-ae0c8e31b727",
   "metadata": {},
   "outputs": [
    {
     "name": "stdout",
     "output_type": "stream",
     "text": [
      "['To', 'be', 'or', 'not', 'to', 'be,', 'that', 'is', 'the', 'question']\n",
      "['To', 'be', 'or', 'not', 'to', 'be,that', 'is', 'the', 'question']\n",
      "[]\n",
      "['abc']\n",
      "[]\n"
     ]
    }
   ],
   "source": [
    "def mysplit(strng):\n",
    "    # Check if the input string is empty or contains only whitespace\n",
    "    if not strng or strng.isspace():\n",
    "        return []\n",
    "    \n",
    "    result = []\n",
    "    word = \"\"\n",
    "    \n",
    "    for char in strng:\n",
    "        if char.isspace():\n",
    "            if word:  # If there is a word collected before a space\n",
    "                result.append(word)\n",
    "                word = \"\"  # Reset word\n",
    "        else:\n",
    "            word += char  # Collect characters for the word\n",
    "    \n",
    "    if word:  # If the last word wasn't added\n",
    "        result.append(word)\n",
    "    \n",
    "    return result\n",
    "\n",
    "# Test cases\n",
    "print(mysplit(\"To be or not to be, that is the question\"))\n",
    "print(mysplit(\"To be or not to be,that is the question\"))\n",
    "print(mysplit(\"   \"))\n",
    "print(mysplit(\" abc \"))\n",
    "print(mysplit(\"\"))\n"
   ]
  },
  {
   "cell_type": "code",
   "execution_count": null,
   "id": "1bda2356-a953-4900-8ac4-2cebe5f5e113",
   "metadata": {},
   "outputs": [],
   "source": []
  },
  {
   "cell_type": "code",
   "execution_count": 2,
   "id": "5db291d1-a264-46aa-ab54-140d3a875812",
   "metadata": {},
   "outputs": [
    {
     "name": "stdout",
     "output_type": "stream",
     "text": [
      "1\n"
     ]
    }
   ],
   "source": [
    "x = '\\''\n",
    "print(len(x))"
   ]
  },
  {
   "cell_type": "code",
   "execution_count": 3,
   "id": "122570c5-5660-432e-be58-805ae53bd89f",
   "metadata": {},
   "outputs": [
    {
     "ename": "NameError",
     "evalue": "name 'var' is not defined",
     "output_type": "error",
     "traceback": [
      "\u001b[1;31m---------------------------------------------------------------------------\u001b[0m",
      "\u001b[1;31mNameError\u001b[0m                                 Traceback (most recent call last)",
      "Cell \u001b[1;32mIn[3], line 1\u001b[0m\n\u001b[1;32m----> 1\u001b[0m \u001b[38;5;28;01massert\u001b[39;00m var \u001b[38;5;241m==\u001b[39m \u001b[38;5;241m0\u001b[39m\n",
      "\u001b[1;31mNameError\u001b[0m: name 'var' is not defined"
     ]
    }
   ],
   "source": [
    "assert var == 0"
   ]
  },
  {
   "cell_type": "code",
   "execution_count": 4,
   "id": "5246eb93-a28c-4f8b-8605-197bdc605ff3",
   "metadata": {},
   "outputs": [
    {
     "name": "stdout",
     "output_type": "stream",
     "text": [
      "2\n"
     ]
    }
   ],
   "source": [
    "print(ord('c') - ord('a'))"
   ]
  },
  {
   "cell_type": "code",
   "execution_count": null,
   "id": "c71aaeab-081e-49c3-a6e4-903d4c924d70",
   "metadata": {},
   "outputs": [],
   "source": []
  }
 ],
 "metadata": {
  "kernelspec": {
   "display_name": "Python 3 (ipykernel)",
   "language": "python",
   "name": "python3"
  },
  "language_info": {
   "codemirror_mode": {
    "name": "ipython",
    "version": 3
   },
   "file_extension": ".py",
   "mimetype": "text/x-python",
   "name": "python",
   "nbconvert_exporter": "python",
   "pygments_lexer": "ipython3",
   "version": "3.12.4"
  }
 },
 "nbformat": 4,
 "nbformat_minor": 5
}
