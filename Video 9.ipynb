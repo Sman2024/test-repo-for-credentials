{
 "cells": [
  {
   "cell_type": "code",
   "execution_count": 35,
   "id": "d68582eb-4b70-4bed-ba18-398f6bbdce95",
   "metadata": {},
   "outputs": [
    {
     "name": "stdout",
     "output_type": "stream",
     "text": [
      "[8]\n",
      "[8, 125]\n",
      "[8, 125, 343]\n",
      "[8, 125, 343, 64]\n",
      "[8, 125, 343, 64, 512]\n",
      "[8, 125, 343, 64, 512, 216]\n"
     ]
    }
   ],
   "source": [
    "# cube of numbers\n",
    "\n",
    "num = [2,5,7,4,8,6]\n",
    "cube = []\n",
    "for i in num:\n",
    "    cube.append(i**3)\n",
    "    print(cube)"
   ]
  },
  {
   "cell_type": "code",
   "execution_count": 36,
   "id": "94a1346d-fcab-4e02-9668-56aad969545b",
   "metadata": {},
   "outputs": [
    {
     "name": "stdout",
     "output_type": "stream",
     "text": [
      "[8, 125, 343, 64, 512, 216]\n"
     ]
    }
   ],
   "source": [
    "# cube of numbers\n",
    "\n",
    "num = [2,5,7,4,8,6]\n",
    "cube = []\n",
    "for i in num:\n",
    "    cube.append(i**3)\n",
    "print(cube)"
   ]
  },
  {
   "cell_type": "code",
   "execution_count": 39,
   "id": "a1a19e04-db2b-4775-b1bc-be04ed7088c9",
   "metadata": {},
   "outputs": [
    {
     "name": "stdin",
     "output_type": "stream",
     "text": [
      "Enter the number of rows 2\n"
     ]
    },
    {
     "name": "stdout",
     "output_type": "stream",
     "text": [
      "*\n",
      "**\n"
     ]
    }
   ],
   "source": [
    "# Pattern Printing\n",
    "\n",
    "n = int(input(\"Enter the number of rows\"))\n",
    "for i in range(0,n):\n",
    "    for j in range(0,i+1):\n",
    "        print(\"*\", end=\"\")\n",
    "    print()"
   ]
  },
  {
   "cell_type": "code",
   "execution_count": null,
   "id": "e33e9e1a-acaf-4f47-8362-cd19484552ae",
   "metadata": {},
   "outputs": [],
   "source": [
    "# Pattern Printing\n",
    "\n",
    "n = int(input(\"Enter the number of rows\"))\n",
    "for i in range(0,n):\n",
    "    for j in range(0,i+1):\n",
    "        print(\"*\")\n",
    "    print()"
   ]
  },
  {
   "cell_type": "code",
   "execution_count": null,
   "id": "9c1efa1a-dfaf-46c5-88f0-ab91b6a590c8",
   "metadata": {},
   "outputs": [],
   "source": [
    "# Pattern Printing\n",
    "\n",
    "n = int(input(\"Enter the number of rows\"))\n",
    "for i in range(0,n):\n",
    "    for j in range(0,i+1):\n",
    "        print(\"*\", end=\" \")\n",
    "    print('General')"
   ]
  },
  {
   "cell_type": "code",
   "execution_count": null,
   "id": "1345d20f-2b84-40ed-8827-ce1d7b4fdca5",
   "metadata": {},
   "outputs": [],
   "source": [
    "i = 0\n",
    "while i < 10:\n",
    "    i+=1\n",
    "    print(i, end=\"#\")\n",
    "    print()"
   ]
  },
  {
   "cell_type": "code",
   "execution_count": null,
   "id": "658058e8-9b54-4ead-b88f-c49c0c5cff51",
   "metadata": {},
   "outputs": [],
   "source": [
    "count = 0\n",
    "while count <=5:\n",
    "    print(\"The condition is true\")\n",
    "    count = count+1\n",
    "    \n",
    "print('End of loop')"
   ]
  },
  {
   "cell_type": "code",
   "execution_count": 37,
   "id": "6e1374dd-a972-4cd3-9df3-85b50255e80f",
   "metadata": {},
   "outputs": [
    {
     "name": "stdout",
     "output_type": "stream",
     "text": [
      "Enter your name\n"
     ]
    },
    {
     "name": "stdin",
     "output_type": "stream",
     "text": [
      " Segung\n"
     ]
    },
    {
     "name": "stdout",
     "output_type": "stream",
     "text": [
      "Enter your name\n"
     ]
    },
    {
     "name": "stdin",
     "output_type": "stream",
     "text": [
      " Jide\n"
     ]
    },
    {
     "name": "stdout",
     "output_type": "stream",
     "text": [
      "Enter your name\n"
     ]
    },
    {
     "name": "stdin",
     "output_type": "stream",
     "text": [
      " John\n"
     ]
    },
    {
     "name": "stdout",
     "output_type": "stream",
     "text": [
      "Name Authenticated.\n"
     ]
    }
   ],
   "source": [
    "while True:\n",
    "    print(\"Enter your name\")\n",
    "    name = input()\n",
    "    if name == 'John':\n",
    "        break\n",
    "print('Name Authenticated.')"
   ]
  },
  {
   "cell_type": "code",
   "execution_count": 38,
   "id": "0a5d7623-8c51-40dc-8078-f1cb2aa4e4fd",
   "metadata": {},
   "outputs": [
    {
     "name": "stdout",
     "output_type": "stream",
     "text": [
      " Enter your name: \n"
     ]
    },
    {
     "name": "stdin",
     "output_type": "stream",
     "text": [
      " Jide\n"
     ]
    },
    {
     "name": "stdout",
     "output_type": "stream",
     "text": [
      " Enter your name: \n"
     ]
    },
    {
     "name": "stdin",
     "output_type": "stream",
     "text": [
      " segun\n"
     ]
    },
    {
     "name": "stdout",
     "output_type": "stream",
     "text": [
      " Enter your name: \n"
     ]
    },
    {
     "name": "stdin",
     "output_type": "stream",
     "text": [
      " chupacabra\n"
     ]
    },
    {
     "name": "stdout",
     "output_type": "stream",
     "text": [
      "You've successfully left the loop.\n"
     ]
    }
   ],
   "source": [
    "# name = chupacabra\n",
    "while True:\n",
    "    print(\" Enter your name: \")\n",
    "    name = input()\n",
    "    if name == 'chupacabra':\n",
    "        break\n",
    "print(\"You've successfully left the loop.\")"
   ]
  },
  {
   "cell_type": "code",
   "execution_count": null,
   "id": "981d8edb-0767-4809-a3b3-3885a0b4bed4",
   "metadata": {},
   "outputs": [],
   "source": [
    "while True:\n",
    "    print(\"Enter your name\")\n",
    "    name = input()\n",
    "    if name == 'John':\n",
    "        break\n",
    "print('Name Authenticated.')"
   ]
  },
  {
   "cell_type": "code",
   "execution_count": null,
   "id": "04366403-2ce1-47d2-a196-36dbe20be579",
   "metadata": {},
   "outputs": [],
   "source": [
    "while True:\n",
    "    print(\"Enter your password\")\n",
    "    name = input()\n",
    "    if name == 'John':\n",
    "        break\n",
    "print('Password Authenticated.')"
   ]
  },
  {
   "cell_type": "code",
   "execution_count": null,
   "id": "25e16a4e-8803-4567-9ba8-ff4d0eaaa18c",
   "metadata": {},
   "outputs": [],
   "source": [
    "# LCM OF 4 and 7\n",
    "\n",
    "x = 0\n",
    "while True:\n",
    "    x = x + 1\n",
    "    if not(x % 4 or x % 7):\n",
    "        break\n",
    "print(x)"
   ]
  },
  {
   "cell_type": "code",
   "execution_count": null,
   "id": "932a2400-3bbe-4409-8b4e-59dabbd0a0ee",
   "metadata": {},
   "outputs": [],
   "source": [
    "# LCM of 12 and 34\n",
    "x = 0\n",
    "while True:\n",
    "    x = x + 1\n",
    "    if not(x % 12 or x % 34):\n",
    "        break\n",
    "print(x)"
   ]
  },
  {
   "cell_type": "code",
   "execution_count": null,
   "id": "8d8ca1d9-1be7-4fb8-8c15-b9d6891b4167",
   "metadata": {},
   "outputs": [],
   "source": [
    "# LCM of 12 and 34\n",
    "x = 0\n",
    "while True:\n",
    "    x = x + 1\n",
    "    if not(x % 12 or x % 34):\n",
    "        break\n",
    "print(x)"
   ]
  },
  {
   "cell_type": "code",
   "execution_count": null,
   "id": "1eb1135e-904c-4120-a6a9-33a4c3344fab",
   "metadata": {},
   "outputs": [],
   "source": [
    "i = 0\n",
    "while i < 10:\n",
    "    i = i+1\n",
    "    if i == 6:\n",
    "        break\n",
    "    print(i)"
   ]
  },
  {
   "cell_type": "code",
   "execution_count": null,
   "id": "1bee9259-62f8-4a20-abbe-f5026cfc4319",
   "metadata": {},
   "outputs": [],
   "source": [
    "i = 1\n",
    "while i < 5:\n",
    "    print(i)\n",
    "    i = i+1\n",
    "    if i == 3:\n",
    "        break\n",
    "else:\n",
    "    print('i is not less than 5')"
   ]
  },
  {
   "cell_type": "code",
   "execution_count": null,
   "id": "86e22b92-26bb-4ff8-be5c-8f508c6aa462",
   "metadata": {},
   "outputs": [],
   "source": [
    "i = 1\n",
    "while i < 5:\n",
    "    print(i)\n",
    "    i = i+1\n",
    "else:\n",
    "    print('i is not less than 5')"
   ]
  },
  {
   "cell_type": "code",
   "execution_count": null,
   "id": "a7092ed8-16a6-4225-ab53-8b5d62af6aea",
   "metadata": {},
   "outputs": [],
   "source": [
    "a = [1,2,3,4,5]\n",
    "while a:\n",
    "    print(a.pop())"
   ]
  },
  {
   "cell_type": "code",
   "execution_count": null,
   "id": "3045f7f3-7af0-47f4-8175-9b5e3c1cdd12",
   "metadata": {},
   "outputs": [],
   "source": [
    "a = [1,2,3,4,5]\n",
    "\n",
    "print(a.pop(4))"
   ]
  },
  {
   "cell_type": "code",
   "execution_count": null,
   "id": "20f0c531-ae2c-4cf9-8866-ccb4b4fa8e26",
   "metadata": {},
   "outputs": [],
   "source": [
    "a"
   ]
  },
  {
   "cell_type": "code",
   "execution_count": null,
   "id": "b6059ebd-4633-4fbd-8eee-48567650c6b8",
   "metadata": {},
   "outputs": [],
   "source": [
    "print(a.pop(2))"
   ]
  },
  {
   "cell_type": "code",
   "execution_count": null,
   "id": "0a5ab518-13d4-452f-89b1-0741fea0c0b8",
   "metadata": {},
   "outputs": [],
   "source": [
    "a"
   ]
  },
  {
   "cell_type": "code",
   "execution_count": null,
   "id": "665a76ad-debb-457a-b5e1-dc97eef18107",
   "metadata": {},
   "outputs": [],
   "source": [
    "a = [1,2,3,4,5]\n",
    "while a:\n",
    "    print(a.pop())\n",
    "else:\n",
    "    print(\"No element left in the list\")"
   ]
  },
  {
   "cell_type": "code",
   "execution_count": null,
   "id": "deec9177-8c77-427a-a36b-7100b3b0df48",
   "metadata": {},
   "outputs": [],
   "source": [
    "a"
   ]
  },
  {
   "cell_type": "code",
   "execution_count": null,
   "id": "055d90a5-3281-40c3-85cf-57e8d6453bb8",
   "metadata": {},
   "outputs": [],
   "source": [
    "a = [1,2,3,4,5]\n",
    "while a:\n",
    "    print(a)\n",
    "else:\n",
    "    print(\"No element left in the list\")"
   ]
  },
  {
   "cell_type": "code",
   "execution_count": 1,
   "id": "4e5e2d2b-a10c-4525-8c02-8944b6e25589",
   "metadata": {},
   "outputs": [
    {
     "name": "stdin",
     "output_type": "stream",
     "text": [
      "Enter a positive number  10\n",
      "Enter a positive number  12\n",
      "Enter a positive number  73\n",
      "Enter a positive number  45\n",
      "Enter a positive number  67\n",
      "Enter a positive number  56\n",
      "Enter a positive number  67\n",
      "Enter a positive number  23\n",
      "Enter a positive number  34\n",
      "Enter a positive number  -5\n"
     ]
    },
    {
     "name": "stdout",
     "output_type": "stream",
     "text": [
      "sum:  387 Average:  43.0\n"
     ]
    }
   ],
   "source": [
    "# Avg of positive numbers\n",
    "num = 0\n",
    "count = 0\n",
    "sum = 0\n",
    "\n",
    "while num >= 0:\n",
    "    num = int(input('Enter a positive number '))\n",
    "    if num >= 0:\n",
    "        count = count+1\n",
    "        sum = sum + num\n",
    "avg = sum/count\n",
    "print('sum: ', sum, 'Average: ', avg)"
   ]
  },
  {
   "cell_type": "code",
   "execution_count": 6,
   "id": "2a609fdd-fe3f-4a29-9f25-9e09fb6006c8",
   "metadata": {},
   "outputs": [
    {
     "name": "stdin",
     "output_type": "stream",
     "text": [
      "Enter the positive number 10\n",
      "Enter the positive number 23\n",
      "Enter the positive number 54\n",
      "Enter the positive number 87\n",
      "Enter the positive number 90\n",
      "Enter the positive number 12\n",
      "Enter the positive number -21\n"
     ]
    },
    {
     "name": "stdout",
     "output_type": "stream",
     "text": [
      "Sum:  276 Average:  46.0\n"
     ]
    }
   ],
   "source": [
    "num = 0\n",
    "count = 0\n",
    "sum = 0\n",
    "\n",
    "while num >= 0:\n",
    "    num = int(input('Enter the positive number'))\n",
    "    if num >= 0:\n",
    "        count = count+1\n",
    "        sum = sum + num\n",
    "avrg = sum/count\n",
    "print('Sum: ', sum, 'Average: ', avrg )\n",
    "    "
   ]
  },
  {
   "cell_type": "code",
   "execution_count": 11,
   "id": "3608d8ea-6c82-4b26-abf5-a1643b124741",
   "metadata": {},
   "outputs": [
    {
     "name": "stdout",
     "output_type": "stream",
     "text": [
      "m*a*n*g*o*\n",
      "a*p*p*l*e*\n",
      "g*r*a*p*e*s*\n",
      "b*a*n*a*n*a*\n"
     ]
    }
   ],
   "source": [
    "list_fruits = ['mango', 'apple', 'grapes', 'banana']\n",
    "for fruit in list_fruits:\n",
    "    for i in fruit:\n",
    "        print(i, end='*')\n",
    "    print()"
   ]
  },
  {
   "cell_type": "code",
   "execution_count": 13,
   "id": "4686a685-7dbb-4d2d-a809-22dab49ddbb0",
   "metadata": {},
   "outputs": [
    {
     "name": "stdout",
     "output_type": "stream",
     "text": [
      "m a n g o \n",
      "a p p l e \n",
      "g r a p e s \n",
      "b a n a n a \n"
     ]
    }
   ],
   "source": [
    "list_fruits = ['mango', 'apple', 'grapes', 'banana']\n",
    "for fruit in list_fruits:\n",
    "    for i in fruit:\n",
    "        print(i, end='*')\n",
    "    print()"
   ]
  },
  {
   "cell_type": "code",
   "execution_count": 18,
   "id": "d3385f20-cb43-4660-8ce9-463f77f5dcc2",
   "metadata": {},
   "outputs": [
    {
     "name": "stdout",
     "output_type": "stream",
     "text": [
      "mango apple grapes banana "
     ]
    }
   ],
   "source": [
    "list_fruits = ['mango', 'apple', 'grapes', 'banana']\n",
    "for fruit in list_fruits:\n",
    "        print(fruit, end=' ')\n",
    "    "
   ]
  },
  {
   "cell_type": "code",
   "execution_count": 21,
   "id": "70e69eb4-5737-49be-a557-a803712713f6",
   "metadata": {},
   "outputs": [
    {
     "name": "stdout",
     "output_type": "stream",
     "text": [
      "red apple\n",
      "-------------\n",
      "red veggies\n",
      "-------------\n",
      "red spices\n",
      "-------------\n",
      "green apple\n",
      "-------------\n",
      "green veggies\n",
      "-------------\n",
      "green spices\n",
      "-------------\n",
      "blue apple\n",
      "-------------\n",
      "blue veggies\n",
      "-------------\n",
      "blue spices\n",
      "-------------\n"
     ]
    }
   ],
   "source": [
    "color = ['red', 'green', 'blue']\n",
    "items = ['apple', 'veggies', 'spices']\n",
    "for x in color:\n",
    "    for y in items:\n",
    "        print(x,y)\n",
    "        print('-------------')"
   ]
  },
  {
   "cell_type": "code",
   "execution_count": 20,
   "id": "461988d7-fc92-4700-87c6-e19eb08cde4a",
   "metadata": {},
   "outputs": [
    {
     "name": "stdout",
     "output_type": "stream",
     "text": [
      "red apple\n",
      "red veggies\n",
      "red spices\n",
      "green apple\n",
      "green veggies\n",
      "green spices\n",
      "blue apple\n",
      "blue veggies\n",
      "blue spices\n"
     ]
    }
   ],
   "source": [
    "color = ['red', 'green', 'blue']\n",
    "items = ['apple', 'veggies', 'spices']\n",
    "for x in color:\n",
    "    for y in items:\n",
    "        print(x,y)\n",
    "        "
   ]
  },
  {
   "cell_type": "code",
   "execution_count": 22,
   "id": "afbc4bc6-bb2f-40bd-98f5-b1530e57c059",
   "metadata": {},
   "outputs": [
    {
     "name": "stdout",
     "output_type": "stream",
     "text": [
      "10 60\n",
      "\n",
      "10 15\n",
      "\n",
      "10 50\n",
      "\n",
      "25 60\n",
      "\n",
      "25 15\n",
      "\n",
      "25 50\n",
      "\n",
      "30 60\n",
      "\n",
      "30 15\n",
      "\n",
      "30 50\n",
      "\n"
     ]
    }
   ],
   "source": [
    "list1 = [10,25,30]\n",
    "list2 = [60,15,50]\n",
    "result = []\n",
    "for i in list1:\n",
    "    for j in list2:\n",
    "        print(i,j)\n",
    "        print('')"
   ]
  },
  {
   "cell_type": "code",
   "execution_count": 25,
   "id": "3bbcb656-5301-458d-a49f-0ac031b99adf",
   "metadata": {},
   "outputs": [
    {
     "name": "stdout",
     "output_type": "stream",
     "text": [
      "[70, 25, 60, 85, 40, 75, 90, 45, 80]\n"
     ]
    }
   ],
   "source": [
    "# Append 2 lists\n",
    "\n",
    "list1 = [10,25,30]\n",
    "list2 = [60,15,50]\n",
    "result = []\n",
    "for i in list1:\n",
    "    for j in list2:\n",
    "        result.append(i+j)\n",
    "print(result)"
   ]
  },
  {
   "cell_type": "code",
   "execution_count": 29,
   "id": "cd761c0c-66aa-45a2-8136-3de44742ae49",
   "metadata": {},
   "outputs": [
    {
     "name": "stdout",
     "output_type": "stream",
     "text": [
      "[80, 125, 85, 35, 80, 40, 70, 115, 75, 95, 140, 100, 50, 95, 55, 85, 130, 90, 100, 145, 105, 55, 100, 60, 90, 135, 95]\n"
     ]
    }
   ],
   "source": [
    "# Append 3 lists\n",
    "\n",
    "list1 = [10,25,30]\n",
    "list2 = [60,15,50]\n",
    "list3 = [10,55,15]\n",
    "result = []\n",
    "for i in list1:\n",
    "    for j in list2:\n",
    "        for u in list3:\n",
    "            result.append(i+j+u)\n",
    "print(result)\n",
    "     "
   ]
  },
  {
   "cell_type": "code",
   "execution_count": 30,
   "id": "f3a2a911-b399-40ff-bca4-a783dbae9d63",
   "metadata": {},
   "outputs": [
    {
     "name": "stdout",
     "output_type": "stream",
     "text": [
      "2 * 1 = 2\n",
      "2 * 3 = 6\n",
      "2 * 5 = 10\n",
      "4 * 1 = 4\n",
      "4 * 3 = 12\n",
      "4 * 5 = 20\n",
      "6 * 1 = 6\n",
      "6 * 3 = 18\n",
      "6 * 5 = 30\n"
     ]
    }
   ],
   "source": [
    "# Multiplying 2 lists\n",
    "list1 = [2,4,6]\n",
    "list2 = [1,3,5]\n",
    "for i in list1:\n",
    "    for j in list2:\n",
    "        if i == j:\n",
    "            continue\n",
    "        print(i, '*', j, '=', i*j)"
   ]
  },
  {
   "cell_type": "code",
   "execution_count": 33,
   "id": "ae07d161-268b-4059-b31e-59b62217d1c8",
   "metadata": {},
   "outputs": [
    {
     "name": "stdout",
     "output_type": "stream",
     "text": [
      "2\n",
      "6\n",
      "10\n",
      "4\n",
      "12\n",
      "20\n",
      "6\n",
      "18\n",
      "30\n"
     ]
    }
   ],
   "source": [
    "# Multiplying 2 lists\n",
    "list1 = [2,4,6]\n",
    "list2 = [1,3,5]\n",
    "for i in list1:\n",
    "    for j in list2:\n",
    "        if i == j:\n",
    "            continue\n",
    "        print(i*j)"
   ]
  },
  {
   "cell_type": "code",
   "execution_count": 32,
   "id": "8ebe6611-8605-488f-a8ee-51fb39d7a228",
   "metadata": {},
   "outputs": [
    {
     "name": "stdout",
     "output_type": "stream",
     "text": [
      "2 * 1 = 2\n",
      "2 * 3 = 6\n",
      "2 * 5 = 10\n",
      "4 * 1 = 4\n",
      "4 * 3 = 12\n",
      "4 * 5 = 20\n",
      "6 * 1 = 6\n",
      "6 * 3 = 18\n",
      "6 * 5 = 30\n"
     ]
    }
   ],
   "source": [
    "# Multiplying 2 lists\n",
    "list1 = [2,4,6]\n",
    "list2 = [1,3,5]\n",
    "for i in list1:\n",
    "    for j in list2:\n",
    "        print(i, '*', j, '=', i*j)"
   ]
  },
  {
   "cell_type": "code",
   "execution_count": 34,
   "id": "11b528ed-162f-49c9-a6ae-3e408e94e2e6",
   "metadata": {},
   "outputs": [
    {
     "name": "stdout",
     "output_type": "stream",
     "text": [
      "[600, 150, 500, 1500, 375, 1250, 1800, 450, 1500]\n"
     ]
    }
   ],
   "source": [
    "list1 = [10,25,30]\n",
    "list2 = [60,15,50]\n",
    "result = []\n",
    "for i in list1:\n",
    "    for j in list2:\n",
    "        result.append(i*j)\n",
    "print(result)"
   ]
  },
  {
   "cell_type": "code",
   "execution_count": null,
   "id": "1fc2d4ee-052e-4baf-adfe-2f7a0f18903d",
   "metadata": {},
   "outputs": [],
   "source": []
  },
  {
   "cell_type": "code",
   "execution_count": null,
   "id": "4b1261fe-f532-41da-af81-f910faececa7",
   "metadata": {},
   "outputs": [],
   "source": []
  },
  {
   "cell_type": "code",
   "execution_count": null,
   "id": "02c44629-ccb4-421a-a224-7683a124e68b",
   "metadata": {},
   "outputs": [],
   "source": []
  },
  {
   "cell_type": "code",
   "execution_count": null,
   "id": "c4032a98-718f-4a75-b8ab-e29748dd0f6c",
   "metadata": {},
   "outputs": [],
   "source": []
  },
  {
   "cell_type": "code",
   "execution_count": null,
   "id": "d2420138-06b6-4323-81bf-f6c8cffa150f",
   "metadata": {},
   "outputs": [],
   "source": []
  }
 ],
 "metadata": {
  "kernelspec": {
   "display_name": "Python 3 (ipykernel)",
   "language": "python",
   "name": "python3"
  },
  "language_info": {
   "codemirror_mode": {
    "name": "ipython",
    "version": 3
   },
   "file_extension": ".py",
   "mimetype": "text/x-python",
   "name": "python",
   "nbconvert_exporter": "python",
   "pygments_lexer": "ipython3",
   "version": "3.12.4"
  }
 },
 "nbformat": 4,
 "nbformat_minor": 5
}
