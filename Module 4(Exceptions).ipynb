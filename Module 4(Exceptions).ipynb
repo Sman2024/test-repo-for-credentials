{
 "cells": [
  {
   "cell_type": "markdown",
   "id": "4e26c9e5-cb22-4a87-a5ff-dae8c39a5798",
   "metadata": {},
   "source": [
    "Errors – the developer's daily bread"
   ]
  },
  {
   "cell_type": "markdown",
   "id": "604e5483-237c-40f3-84c3-5d65454fe920",
   "metadata": {},
   "source": [
    "It seems indisputable that all programmers (including you) want to write error-free code and do their best to achieve this goal. Unfortunately, nothing is perfect in this world and software is no exception. Pay attention to the word exception as we’ll see it again very soon in a meaning that has nothing in common with the absolute.\n",
    "\n",
    "The Bread Error\n",
    "\n",
    "\n",
    "To err is human. It's impossible to make no mistakes, and it's impossible to write error-free code. Don't get us wrong – we don't want to convince you that writing messy and faulty programs is a virtue. We rather want to explain that even the most careful programmer is not able to avoid minor or major defects. It's only those who do nothing that make no mistakes.\n",
    "\n",
    "Paradoxically, accepting this difficult truth can make you a better programmer and may improve your code quality.\n",
    "\n",
    "\"How could this be possible?\", you may ask.\n",
    "\n",
    "We'll try to show you.\n"
   ]
  },
  {
   "cell_type": "markdown",
   "id": "52ff30b9-0788-44d8-9442-b686f0353283",
   "metadata": {},
   "source": [
    "Errors in data vs. errors in code"
   ]
  },
  {
   "cell_type": "markdown",
   "id": "bfe640e1-b28f-4f94-93f5-ba345e7025f9",
   "metadata": {},
   "source": [
    "#### When data is not what it should be"
   ]
  },
  {
   "cell_type": "code",
   "execution_count": null,
   "id": "fbed5948-1d55-4b4a-9c5f-44076e6ca503",
   "metadata": {},
   "outputs": [],
   "source": [
    "value = int(input('Enter a natural number: '))\n",
    "print('The reciprocal of', value, 'is', 1/value)\n"
   ]
  },
  {
   "cell_type": "markdown",
   "id": "8b5830d3-fb26-4f76-a6e5-2a8b435604a0",
   "metadata": {},
   "source": [
    "#### The try-except branch\n",
    "\n",
    "In the Python world, there is a rule that says: \"It’s better to beg for forgiveness than to ask for permission\""
   ]
  },
  {
   "cell_type": "markdown",
   "id": "f3873fa6-82d2-499f-84c1-0f4c4b818c8a",
   "metadata": {},
   "source": [
    "Let's stop here for a moment. Don't get us wrong – we don't want you to apply the rule in your everyday life. Don't take anyone's car without permission in the hope that you can be so convincing that you will avoid conviction. The rule is about something else.\n",
    "\n",
    "Actually, the rule reads: \"it's better to handle an error when it happens than to try to avoid it\".\n",
    "\n",
    "\"Okay,\" you may say now, 'but how should I beg for forgiveness when the program is terminated and there is nothing left that can be done?\" This is where the exception comes on the scene."
   ]
  },
  {
   "cell_type": "markdown",
   "id": "0096d766-4eef-473c-af8a-4c121fa62328",
   "metadata": {},
   "source": [
    "#### try:\n",
    "\t# It's a place where\n",
    "\t# you can do something \n",
    "    # without asking for permission.\n",
    "#### except:\n",
    "\t# It's a spot dedicated to \n",
    "    # solemnly begging for forgiveness.\n"
   ]
  },
  {
   "cell_type": "code",
   "execution_count": null,
   "id": "2b471b60-35a3-42e2-8398-a3f484301d56",
   "metadata": {},
   "outputs": [],
   "source": [
    "try:\n",
    "    value = int(input('Enter a natural number: '))\n",
    "    print('The reciprocal of', value, 'is', 1/value)        \n",
    "except:\n",
    "    print('I do not know what to do.')\n"
   ]
  },
  {
   "cell_type": "code",
   "execution_count": null,
   "id": "dcb86c29-0e62-44dd-8683-629181671327",
   "metadata": {},
   "outputs": [],
   "source": [
    "try:\n",
    "    value = int(input('Enter a natural number: '))\n",
    "    print('The reciprocal of', value, 'is', 1/value)        \n",
    "except:\n",
    "    print('I do not know what to do.')\n"
   ]
  },
  {
   "cell_type": "markdown",
   "id": "f1d9d485-a866-4524-9f10-e583491a3e95",
   "metadata": {},
   "source": [
    "any part of the code placed between try and except is executed in a very special way – any error which occurs here won't terminate program execution. Instead, the control will immediately jump to the first line situated after the except keyword, and no other part of the try branch is executed;\n",
    "\n",
    "the code in the except branch is activated only when an exception has been encountered inside the try block. There is no way to get there by any other means;\n"
   ]
  },
  {
   "cell_type": "code",
   "execution_count": null,
   "id": "fc029352-6313-4661-94d2-160bb03ea7a1",
   "metadata": {},
   "outputs": [],
   "source": [
    "try:\n",
    "    value = int(input('Enter a natural number: '))\n",
    "    print('The reciprocal of', value, 'is', 1/value)        \n",
    "except ValueError:\n",
    "    print('I do not know what to do.')    \n",
    "except ZeroDivisionError:\n",
    "    print('Division by zero is not allowed in our Universe.') \n"
   ]
  },
  {
   "cell_type": "code",
   "execution_count": null,
   "id": "122ffbfd-ed56-4792-99b0-295d087913e8",
   "metadata": {},
   "outputs": [],
   "source": [
    "try:\n",
    "    value =  0\n",
    "    print('The reciprocal of', value, 'is', 1/value)        \n",
    "except ValueError:\n",
    "    print('I do not know what to do.')    \n",
    "except ZeroDivisionError:\n",
    "    print('Division by zero is not allowed in our Universe.') \n"
   ]
  },
  {
   "cell_type": "code",
   "execution_count": null,
   "id": "3a423f48-c0c6-459d-8ff4-a0d211ae0435",
   "metadata": {},
   "outputs": [],
   "source": [
    "try:\n",
    "    value = int(input('Enter a natural number: '))\n",
    "    print('The reciprocal of', value, 'is', 1/value)        \n",
    "except ValueError:\n",
    "    print('I do not know what to do.')    \n",
    "except ZeroDivisionError:\n",
    "    print('Division by zero is not allowed in our Universe.')    \n",
    "except :\n",
    "    print('Something strange has happened here... Sorry!')\n"
   ]
  },
  {
   "cell_type": "code",
   "execution_count": null,
   "id": "01688b90-9a29-43d7-9617-10c93e162fde",
   "metadata": {},
   "outputs": [],
   "source": []
  },
  {
   "cell_type": "markdown",
   "id": "bf20ebec-e417-4ce2-ab39-257e20c0a582",
   "metadata": {},
   "source": [
    "### Some useful exceptions\n",
    "\n",
    "Let’s discuss in more detail some useful (or rather, the most common) exceptions you may experience.\n",
    "\n",
    "#### ZeroDivisionError\n",
    "\n",
    "This appears when you try to force Python to perform any operation which provokes division in which the divider is zero, or is indistinguishable from zero. Note that there is more than one Python operator which may cause this exception to raise. Can you guess them all?\n",
    "\n",
    "Yes, they are: /, //, and %.\n",
    "\n",
    "#### ValueError\n",
    "\n",
    "Expect this exception when you're dealing with values which may be inappropriately used in some context. In general, this exception is raised when a function (like int() or float()) receives an argument of a proper type, but its value is unacceptable.\n",
    "\n",
    "#### TypeError\n",
    "\n",
    "This exception shows up when you try to apply a data whose type cannot be accepted in the current context. Look at the example:\n",
    "short_list = [1]\n",
    "one_value = short_list[0.5]\n",
    "\n",
    "You're not allowed to use a float value as a list index (the same rule applies to tuples, too). TypeError is an adequate name to describe the problem, and an adequate exception to raise.\n",
    "\n",
    "#### AttributeError\n",
    "\n",
    "This exception arrives – among other occasions – when you try to activate a method which doesn't exist in an item you're dealing with. For example:\n",
    "short_list = [1]\n",
    "short_list.append(2)\n",
    "short_list.depend(3)\n",
    "\n",
    "The third line of our example attempts to make use of a method which isn’t contained in the lists. This is the place where AttributeError is raised.\n",
    "\n",
    "#### SyntaxError\n",
    "\n",
    "This exception is raised when the control reaches a line of code which violates Python's grammar. It may sound strange, but some errors of this kind cannot be identified without first running the code. This kind of behavior is typical of interpreted languages – the interpreter always works in a hurry and has no time to scan the whole source code. It is content with checking the code which is currently being run. An example of such a category of issues will be presented very soon.\n",
    "\n",
    "It's a bad idea to handle this exception in your programs. You should produce code that is free of syntax errors, instead of masking the faults you’ve caused.\n",
    "\n"
   ]
  },
  {
   "cell_type": "code",
   "execution_count": null,
   "id": "a518c90b-1f52-432d-8e1a-c7f36dd0f672",
   "metadata": {},
   "outputs": [],
   "source": []
  },
  {
   "cell_type": "code",
   "execution_count": null,
   "id": "918284c4-1145-4f94-9505-d1fca4ebbec4",
   "metadata": {},
   "outputs": [],
   "source": [
    "temperature = float(input('Enter current temperature:'))\n",
    "\n",
    "if temperature > 0:\n",
    "    print(\"Above zero\")\n",
    "elif temperature < 0:\n",
    "    print(\"Below zero\")\n",
    "else:\n",
    "    print(\"Zero\")\n"
   ]
  },
  {
   "cell_type": "code",
   "execution_count": null,
   "id": "b781e9cf-ea5a-4da2-8e2a-c02684b2c51d",
   "metadata": {},
   "outputs": [],
   "source": [
    "temperature = float(input('Enter current temperature:'))\n",
    "\n",
    "if temperature > 0:\n",
    "    print(\"Above zero\")\n",
    "elif temperature < 0:\n",
    "    prin(\"Below zero\")\n",
    "else:\n",
    "    print(\"Zero\")"
   ]
  },
  {
   "cell_type": "code",
   "execution_count": null,
   "id": "e878ff5e-1c91-4395-ba4a-5400c38c3ebd",
   "metadata": {},
   "outputs": [],
   "source": [
    "print(\"Hello, World\")"
   ]
  },
  {
   "cell_type": "code",
   "execution_count": null,
   "id": "aa9e6b3a-7e41-466c-aa22-e0c6c9363a2b",
   "metadata": {},
   "outputs": [],
   "source": [
    "File \"main.py\", line 1\n",
    "\n",
    "    print(\"Hello, World!\")\n",
    "                        ^\n",
    "SyntaxError: EOL while scanning string literal"
   ]
  },
  {
   "cell_type": "code",
   "execution_count": null,
   "id": "7aba42e3-cb67-4165-a226-7957355307aa",
   "metadata": {},
   "outputs": [],
   "source": [
    "print(1/0)\n",
    "\n"
   ]
  },
  {
   "cell_type": "code",
   "execution_count": null,
   "id": "0c8061e4-fdc5-412e-902a-cbfb25f641e5",
   "metadata": {},
   "outputs": [],
   "source": [
    "while True:\n",
    "    try:\n",
    "        number = int(input(\"Enter an integer number: \"))\n",
    "        print(number/2)\n",
    "        break\n",
    "    except:\n",
    "        print(\"Warning: the value entered is not a valid number. Try again...\")\n",
    "\n"
   ]
  },
  {
   "cell_type": "code",
   "execution_count": null,
   "id": "27916ec5-10fa-40b2-9539-87bd1649a93c",
   "metadata": {},
   "outputs": [],
   "source": [
    "try:\n",
    "    number = int(input(\"Enter an integer number: \"))\n",
    "    print(number/2)\n",
    "        \n",
    "except:\n",
    "    print(\"Warning: the value entered is not a valid number. Try again...\")\n",
    "\n"
   ]
  },
  {
   "cell_type": "code",
   "execution_count": null,
   "id": "c5fcfe23-5e68-45f4-a6de-5bd42cc98450",
   "metadata": {},
   "outputs": [],
   "source": []
  },
  {
   "cell_type": "markdown",
   "id": "6a325e3a-580e-432a-9453-0217e9bafc83",
   "metadata": {},
   "source": [
    "You can handle multiple exceptions in your code block. Look at the following examples:"
   ]
  },
  {
   "cell_type": "code",
   "execution_count": null,
   "id": "40cb5eb9-3213-4874-a18b-805ab3597e12",
   "metadata": {},
   "outputs": [],
   "source": [
    "while True:\n",
    "    try:\n",
    "        number = int(input(\"Enter an int number: \"))\n",
    "        print(5/number)\n",
    "        break\n",
    "    except ValueError:\n",
    "        print(\"Wrong value.\")\n",
    "    except ZeroDivisionError:\n",
    "        print(\"Sorry. I cannot divide by zero.\")\n",
    "    except:\n",
    "        print(\"I don't know what to do...\")\n"
   ]
  },
  {
   "cell_type": "markdown",
   "id": "2becce05-95e5-4482-b42b-6c41cecb0ed1",
   "metadata": {},
   "source": [
    "You can also specify and handle multiple built-in exceptions within a single except clause:"
   ]
  },
  {
   "cell_type": "code",
   "execution_count": null,
   "id": "1a9bb16f-0134-424d-a931-99e6c60564b1",
   "metadata": {},
   "outputs": [],
   "source": [
    "while True:\n",
    "    try:\n",
    "        number = int(input(\"Enter an int number: \"))\n",
    "        print(5/number)\n",
    "        break\n",
    "    except (ValueError, ZeroDivisionError):\n",
    "        print(\"Wrong value or No division by zero rule broken.\")\n",
    "    except:\n",
    "        print(\"Sorry, something went wrong...\")\n"
   ]
  },
  {
   "cell_type": "code",
   "execution_count": null,
   "id": "d25c1498-9141-4395-b0d3-14e6eb2c4bb3",
   "metadata": {},
   "outputs": [],
   "source": []
  },
  {
   "cell_type": "markdown",
   "id": "4cc317a5-adb1-41ab-9b73-292343b02ff8",
   "metadata": {},
   "source": [
    "### Tic-Tac-Toe"
   ]
  },
  {
   "cell_type": "code",
   "execution_count": 1,
   "id": "aa3cb961-08bc-4b8e-bcd7-a191a597f80d",
   "metadata": {},
   "outputs": [
    {
     "name": "stdout",
     "output_type": "stream",
     "text": [
      "+-------+-------+-------+\n",
      "|       |       |       |\n",
      "|   1   |   2   |   3   |\n",
      "|       |       |       |\n",
      "+-------+-------+-------+\n",
      "|       |       |       |\n",
      "|   4   |   X   |   6   |\n",
      "|       |       |       |\n",
      "+-------+-------+-------+\n",
      "|       |       |       |\n",
      "|   7   |   8   |   9   |\n",
      "|       |       |       |\n",
      "+-------+-------+-------+\n"
     ]
    },
    {
     "name": "stdin",
     "output_type": "stream",
     "text": [
      "Enter your move:  1\n"
     ]
    },
    {
     "name": "stdout",
     "output_type": "stream",
     "text": [
      "+-------+-------+-------+\n",
      "|       |       |       |\n",
      "|   O   |   2   |   3   |\n",
      "|       |       |       |\n",
      "+-------+-------+-------+\n",
      "|       |       |       |\n",
      "|   4   |   X   |   6   |\n",
      "|       |       |       |\n",
      "+-------+-------+-------+\n",
      "|       |       |       |\n",
      "|   7   |   8   |   9   |\n",
      "|       |       |       |\n",
      "+-------+-------+-------+\n",
      "+-------+-------+-------+\n",
      "|       |       |       |\n",
      "|   O   |   2   |   3   |\n",
      "|       |       |       |\n",
      "+-------+-------+-------+\n",
      "|       |       |       |\n",
      "|   4   |   X   |   6   |\n",
      "|       |       |       |\n",
      "+-------+-------+-------+\n",
      "|       |       |       |\n",
      "|   7   |   X   |   9   |\n",
      "|       |       |       |\n",
      "+-------+-------+-------+\n"
     ]
    },
    {
     "name": "stdin",
     "output_type": "stream",
     "text": [
      "Enter your move:  8\n"
     ]
    },
    {
     "name": "stdout",
     "output_type": "stream",
     "text": [
      "Field already occupied - repeat your input!\n"
     ]
    },
    {
     "name": "stdin",
     "output_type": "stream",
     "text": [
      "Enter your move:  Victor\n"
     ]
    },
    {
     "name": "stdout",
     "output_type": "stream",
     "text": [
      "Bad move - repeat your input!\n"
     ]
    },
    {
     "name": "stdin",
     "output_type": "stream",
     "text": [
      "Enter your move:  4\n"
     ]
    },
    {
     "name": "stdout",
     "output_type": "stream",
     "text": [
      "+-------+-------+-------+\n",
      "|       |       |       |\n",
      "|   O   |   2   |   3   |\n",
      "|       |       |       |\n",
      "+-------+-------+-------+\n",
      "|       |       |       |\n",
      "|   O   |   X   |   6   |\n",
      "|       |       |       |\n",
      "+-------+-------+-------+\n",
      "|       |       |       |\n",
      "|   7   |   X   |   9   |\n",
      "|       |       |       |\n",
      "+-------+-------+-------+\n",
      "+-------+-------+-------+\n",
      "|       |       |       |\n",
      "|   O   |   2   |   3   |\n",
      "|       |       |       |\n",
      "+-------+-------+-------+\n",
      "|       |       |       |\n",
      "|   O   |   X   |   6   |\n",
      "|       |       |       |\n",
      "+-------+-------+-------+\n",
      "|       |       |       |\n",
      "|   7   |   X   |   X   |\n",
      "|       |       |       |\n",
      "+-------+-------+-------+\n"
     ]
    },
    {
     "name": "stdin",
     "output_type": "stream",
     "text": [
      "Enter your move:  7\n"
     ]
    },
    {
     "name": "stdout",
     "output_type": "stream",
     "text": [
      "+-------+-------+-------+\n",
      "|       |       |       |\n",
      "|   O   |   2   |   3   |\n",
      "|       |       |       |\n",
      "+-------+-------+-------+\n",
      "|       |       |       |\n",
      "|   O   |   X   |   6   |\n",
      "|       |       |       |\n",
      "+-------+-------+-------+\n",
      "|       |       |       |\n",
      "|   O   |   X   |   X   |\n",
      "|       |       |       |\n",
      "+-------+-------+-------+\n",
      "You won!\n"
     ]
    }
   ],
   "source": [
    "from random import randrange\n",
    "\n",
    "def display_board(board):\n",
    "    print(\"+-------\" * 3, \"+\", sep=\"\")\n",
    "    for row in range(3):\n",
    "        print(\"|       \" * 3, \"|\", sep=\"\")\n",
    "        for col in range(3):\n",
    "            print(\"|   \" + str(board[row][col]) + \"   \", end=\"\")\n",
    "        print(\"|\")\n",
    "        print(\"|       \" * 3, \"|\",sep=\"\")\n",
    "        print(\"+-------\" * 3, \"+\",sep=\"\")  \n",
    "\n",
    "\n",
    "def enter_move(board):\n",
    "\tok = False\t# fake assumption - we need it to enter the loop\n",
    "\twhile not ok:\n",
    "\t\tmove = input(\"Enter your move: \") \n",
    "\t\tok = len(move) == 1 and move >= '1' and move <= '9' # is user's input valid?\n",
    "\t\tif not ok:\n",
    "\t\t\tprint(\"Bad move - repeat your input!\") # no, it isn't - do the input again\n",
    "\t\t\tcontinue\n",
    "\t\tmove = int(move) - 1 \t# cell's number from 0 to 8\n",
    "\t\trow = move // 3 \t# cell's row\n",
    "\t\tcol = move % 3\t\t# cell's column\n",
    "\t\tsign = board[row][col]\t# check the selected square\n",
    "\t\tok = sign not in ['O','X'] \n",
    "\t\tif not ok:\t# it's occupied - to the input again\n",
    "\t\t\tprint(\"Field already occupied - repeat your input!\")\n",
    "\t\t\tcontinue\n",
    "\tboard[row][col] = 'O' \t# set '0' at the selected square\n",
    "\n",
    "\n",
    "def make_list_of_free_fields(board):\n",
    "\tfree = []\t# the list is empty initially\n",
    "\tfor row in range(3): # iterate through rows\n",
    "\t\tfor col in range(3): # iterate through columns\n",
    "\t\t\tif board[row][col] not in ['O','X']: # is the cell free?\n",
    "\t\t\t\tfree.append((row,col)) # yes, it is - append new tuple to the list\n",
    "\treturn free\n",
    "\n",
    "\n",
    "def victory_for(board,sgn):\n",
    "\tif sgn == \"X\":\t# are we looking for X?\n",
    "\t\twho = 'me'\t# yes - it's computer's side\n",
    "\telif sgn == \"O\": # ... or for O?\n",
    "\t\twho = 'you'\t# yes - it's our side\n",
    "\telse:\n",
    "\t\twho = None\t# we should not fall here!\n",
    "\tcross1 = cross2 = True  # for diagonals\n",
    "\tfor rc in range(3):\n",
    "\t\tif board[rc][0] == sgn and board[rc][1] == sgn and board[rc][2] == sgn:\t# check row rc\n",
    "\t\t\treturn who\n",
    "\t\tif board[0][rc] == sgn and board[1][rc] == sgn and board[2][rc] == sgn: # check column rc\n",
    "\t\t\treturn who\n",
    "\t\tif board[rc][rc] != sgn: # check 1st diagonal\n",
    "\t\t\tcross1 = False\n",
    "\t\tif board[2 - rc][2 - rc] != sgn: # check 2nd diagonal\n",
    "\t\t\tcross2 = False\n",
    "\tif cross1 or cross2:\n",
    "\t\treturn who\n",
    "\treturn None\n",
    "\n",
    "\n",
    "def draw_move(board):\n",
    "\tfree = make_list_of_free_fields(board) # make a list of free fields\n",
    "\tcnt = len(free)\n",
    "\tif cnt > 0:\t# if the list is not empty, choose a place for 'X' and set it\n",
    "\t\tthis = randrange(cnt)\n",
    "\t\trow, col = free[this]\n",
    "\t\tboard[row][col] = 'X'\n",
    "\n",
    "\n",
    "board = [ [3 * j + i + 1 for i in range(3)] for j in range(3) ] # make an empty board\n",
    "board[1][1] = 'X' # set first 'X' in the middle\n",
    "free = make_list_of_free_fields(board)\n",
    "human_turn = True # which turn is it now?\n",
    "while len(free):\n",
    "\tdisplay_board(board)\n",
    "\tif human_turn:\n",
    "\t\tenter_move(board)\n",
    "\t\tvictor = victory_for(board,'O')\n",
    "\telse:\t\n",
    "\t\tdraw_move(board)\n",
    "\t\tvictor = victory_for(board,'X')\n",
    "\tif victor != None:\n",
    "\t\tbreak\n",
    "\thuman_turn = not human_turn\t\t\n",
    "\tfree = make_list_of_free_fields(board)\n",
    "\n",
    "display_board(board)\n",
    "if victor == 'you':\n",
    "\tprint(\"You won!\")\n",
    "elif victor == 'me':\n",
    "\tprint(\"I won\")\n",
    "else:\n",
    "\tprint(\"Tie!\")\n"
   ]
  },
  {
   "cell_type": "markdown",
   "id": "3e0e1639-11ce-4796-b2bb-63014a532183",
   "metadata": {},
   "source": [
    "##### "
   ]
  },
  {
   "cell_type": "code",
   "execution_count": null,
   "id": "21e2874d-6893-4784-8c1f-b3c9711befb9",
   "metadata": {},
   "outputs": [],
   "source": []
  },
  {
   "cell_type": "code",
   "execution_count": null,
   "id": "703cde61-f70b-49b4-81ac-8b6cf96e8069",
   "metadata": {},
   "outputs": [],
   "source": []
  },
  {
   "cell_type": "code",
   "execution_count": null,
   "id": "1fabbcbb-366c-4f38-9bef-aa411ed345e7",
   "metadata": {},
   "outputs": [],
   "source": []
  }
 ],
 "metadata": {
  "kernelspec": {
   "display_name": "Python 3 (ipykernel)",
   "language": "python",
   "name": "python3"
  },
  "language_info": {
   "codemirror_mode": {
    "name": "ipython",
    "version": 3
   },
   "file_extension": ".py",
   "mimetype": "text/x-python",
   "name": "python",
   "nbconvert_exporter": "python",
   "pygments_lexer": "ipython3",
   "version": "3.12.4"
  }
 },
 "nbformat": 4,
 "nbformat_minor": 5
}
