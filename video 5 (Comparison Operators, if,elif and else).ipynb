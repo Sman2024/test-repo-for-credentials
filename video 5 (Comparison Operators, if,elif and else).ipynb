{
 "cells": [
  {
   "cell_type": "markdown",
   "id": "f556572c-7bdf-4b72-b75e-f386e0fe264a",
   "metadata": {},
   "source": [
    "### Comparison Operators\n",
    "\n",
    "\n",
    "### table of Comparison Operators\n",
    "\n",
    "###### In the table below, a=3 and b=4."
   ]
  },
  {
   "cell_type": "markdown",
   "id": "403f447a-b6ca-4d2d-9fcd-e1607e7f8e63",
   "metadata": {},
   "source": [
    "###### Let's now work throug quick examples of each of these"
   ]
  },
  {
   "cell_type": "markdown",
   "id": "dc4cc237-59ce-433c-8694-3b02b92120a5",
   "metadata": {},
   "source": [
    "##### Equal"
   ]
  },
  {
   "cell_type": "code",
   "execution_count": null,
   "id": "a128e309-b545-43d6-8458-22adcd068d08",
   "metadata": {},
   "outputs": [],
   "source": [
    "2 == 2"
   ]
  },
  {
   "cell_type": "code",
   "execution_count": null,
   "id": "f056fded-246e-4b19-9060-df1587fb7070",
   "metadata": {},
   "outputs": [],
   "source": [
    "1 == 0"
   ]
  },
  {
   "cell_type": "markdown",
   "id": "c462fb00-307f-4508-ae6c-5036e372dbc3",
   "metadata": {},
   "source": [
    "###### Note that == is a comparison operator, while = is an assignment operator.\n"
   ]
  },
  {
   "cell_type": "markdown",
   "id": "5e093d59-f2f8-4986-bae5-46acc9e28657",
   "metadata": {},
   "source": [
    "##### Not Equal"
   ]
  },
  {
   "cell_type": "code",
   "execution_count": null,
   "id": "5abf94bc-3569-4424-a1a6-dce5aca4a79e",
   "metadata": {},
   "outputs": [],
   "source": [
    "2 != 1"
   ]
  },
  {
   "cell_type": "code",
   "execution_count": null,
   "id": "20cd631b-cd88-4492-94ee-a133042fb07a",
   "metadata": {},
   "outputs": [],
   "source": [
    "2 != 2\n"
   ]
  },
  {
   "cell_type": "code",
   "execution_count": null,
   "id": "7e264a5b-ed0e-476b-aff2-2319842f9b47",
   "metadata": {},
   "outputs": [],
   "source": [
    "2 != 4"
   ]
  },
  {
   "cell_type": "markdown",
   "id": "5e4f46d9-4ef2-4111-b0f9-37ce890a86a1",
   "metadata": {},
   "source": [
    "##### Greater"
   ]
  },
  {
   "cell_type": "code",
   "execution_count": null,
   "id": "b0d6be87-46af-4ed0-a7b4-e817e5fadb22",
   "metadata": {},
   "outputs": [],
   "source": [
    "2 > 1"
   ]
  },
  {
   "cell_type": "code",
   "execution_count": null,
   "id": "2013f295-4507-4a13-a137-0ebbd92561a4",
   "metadata": {},
   "outputs": [],
   "source": [
    "2 > 4"
   ]
  },
  {
   "cell_type": "markdown",
   "id": "885edcf3-599a-4f7b-909b-07d3e62b21d6",
   "metadata": {},
   "source": [
    "##### Less than"
   ]
  },
  {
   "cell_type": "code",
   "execution_count": null,
   "id": "d9f32f26-52ae-46f1-9c46-b436b8b425fb",
   "metadata": {},
   "outputs": [],
   "source": [
    "2 < 4"
   ]
  },
  {
   "cell_type": "code",
   "execution_count": null,
   "id": "da903af8-5bf9-4a1e-b325-9b4d9d874c8e",
   "metadata": {},
   "outputs": [],
   "source": [
    "2 < 1"
   ]
  },
  {
   "cell_type": "markdown",
   "id": "1ae37311-3776-4d41-9975-26814dcc5c0a",
   "metadata": {},
   "source": [
    "#### Greater Than or Equal to"
   ]
  },
  {
   "cell_type": "code",
   "execution_count": null,
   "id": "97c523f4-0f78-4162-bb4b-3c0e22dddcf8",
   "metadata": {},
   "outputs": [],
   "source": [
    "2 >= 2"
   ]
  },
  {
   "cell_type": "code",
   "execution_count": null,
   "id": "d0448ad0-1d9c-4f5d-8d3b-02ebf89f03d1",
   "metadata": {},
   "outputs": [],
   "source": [
    "2 >= 1"
   ]
  },
  {
   "cell_type": "markdown",
   "id": "b847cc5a-2378-4389-989a-8765c771a0a7",
   "metadata": {},
   "source": [
    "##### Less than or Equal to"
   ]
  },
  {
   "cell_type": "code",
   "execution_count": null,
   "id": "029a39f9-9d15-4910-bf9a-f0f796217d4b",
   "metadata": {},
   "outputs": [],
   "source": [
    "2 <= 2"
   ]
  },
  {
   "cell_type": "code",
   "execution_count": null,
   "id": "a899a669-4327-4929-99e1-375b796036f5",
   "metadata": {},
   "outputs": [],
   "source": [
    "2 <= 4"
   ]
  },
  {
   "cell_type": "code",
   "execution_count": null,
   "id": "9aed7fb9-a364-43b4-a6a7-f4d0afae9469",
   "metadata": {},
   "outputs": [],
   "source": [
    "2 <= 1"
   ]
  },
  {
   "cell_type": "markdown",
   "id": "93967677-2b47-4d57-9e58-225bbc4211ed",
   "metadata": {},
   "source": [
    "### Chained Comparison Operators\n",
    "\n",
    "##### Examples"
   ]
  },
  {
   "cell_type": "code",
   "execution_count": null,
   "id": "4271b292-7ef5-4471-8f85-8fa11e24b6a5",
   "metadata": {},
   "outputs": [],
   "source": [
    "1 < 2 < 3"
   ]
  },
  {
   "cell_type": "markdown",
   "id": "9947a9ca-e129-49f6-9244-a1628821f0ed",
   "metadata": {},
   "source": [
    "##### The above statement checks if 1 was less than 2 and if 2 was less than 3. We could have written this using an **and** statement in Python:"
   ]
  },
  {
   "cell_type": "code",
   "execution_count": null,
   "id": "9b36fea1-58fd-4346-892a-78cdc86a8c97",
   "metadata": {},
   "outputs": [],
   "source": [
    "1 < 2 and 2 < 3"
   ]
  },
  {
   "cell_type": "markdown",
   "id": "545a2fcd-6dc1-4f2e-b534-6eafdbca029f",
   "metadata": {},
   "source": [
    "##### The **and** is used to make sure two checks have to be true in order for the total check to be true. let's see another example:"
   ]
  },
  {
   "cell_type": "code",
   "execution_count": null,
   "id": "e3616501-cd5f-4fdd-8fec-0209c7c06031",
   "metadata": {},
   "outputs": [],
   "source": [
    "1 < 3 > 2"
   ]
  },
  {
   "cell_type": "code",
   "execution_count": null,
   "id": "814ac344-444a-47b1-993a-0720fe8da75f",
   "metadata": {},
   "outputs": [],
   "source": [
    "1 < 2 > 3"
   ]
  },
  {
   "cell_type": "markdown",
   "id": "e9efce87-58c4-4913-b959-968abc56933a",
   "metadata": {},
   "source": [
    " ##### The above check if 3 is larger than both of the other numbers, so you could use **and** to rewrirte it as:"
   ]
  },
  {
   "cell_type": "code",
   "execution_count": null,
   "id": "17ddae2a-5160-409f-a26c-4117637d205d",
   "metadata": {},
   "outputs": [],
   "source": [
    " 1<2 and 3>2"
   ]
  },
  {
   "cell_type": "markdown",
   "id": "55efd46a-ff62-4d04-891e-b9d7526c3d60",
   "metadata": {},
   "source": [
    "##### Its important to note that Python is checking both instance of the comparison. We can also use **or** to write comparisons in Python. e.g"
   ]
  },
  {
   "cell_type": "code",
   "execution_count": null,
   "id": "95705e0a-670d-4cbd-83ec-3ecfdcee931c",
   "metadata": {},
   "outputs": [],
   "source": [
    "1==2 or 2<3"
   ]
  },
  {
   "cell_type": "markdown",
   "id": "57199681-49d5-4e15-a306-c5510d08843b",
   "metadata": {},
   "source": [
    "##### Note how it was true: this is because with the **or** operator, we only need one or the other to be true. Let's see one more example to drive this home:"
   ]
  },
  {
   "cell_type": "code",
   "execution_count": null,
   "id": "83b72f56-1352-40f0-9fb6-76ea64eb9cf0",
   "metadata": {},
   "outputs": [],
   "source": [
    "1==1 or 100==1"
   ]
  },
  {
   "cell_type": "code",
   "execution_count": null,
   "id": "ff7490bd-f65f-483a-a86f-f1b81152f9a9",
   "metadata": {},
   "outputs": [],
   "source": []
  },
  {
   "cell_type": "markdown",
   "id": "8dd7528c-9f6b-49d3-a137-04a724e497e2",
   "metadata": {},
   "source": [
    "### Introduction to Python Statements\n"
   ]
  },
  {
   "cell_type": "markdown",
   "id": "574c1df6-631b-4d1a-b2e6-4fb15dc402a1",
   "metadata": {},
   "source": [
    "#### Python vs Other Languages\n",
    "\n",
    "##### Let's create a simple statement that says: \"If a is greater than b, assign 2 to a and 4 to b\"\n",
    "##### Take a look at these two if statements (we will learn about building out if statements soon)\n",
    "\n",
    "#### **Version 1 (Other Languages)**\n",
    "        if (a>b){ \n",
    "            a = 2;\n",
    "            b = 4;\n",
    "            }\n",
    "\n",
    "#### **Version 2 (Python)\n",
    "         if a>b:\n",
    "             a = 2\n",
    "             b = 4\n",
    "\n",
    "\n",
    "            "
   ]
  },
  {
   "cell_type": "markdown",
   "id": "7aabcd21-dbc9-4398-9ba6-d155fa9d87df",
   "metadata": {},
   "source": [
    "### Indentation\n",
    "##### Here is some pseudo-code to indicate the use of whitespace and indentation in Python"
   ]
  },
  {
   "cell_type": "markdown",
   "id": "d64cd25b-9b3a-4f48-9edc-392bb242f316",
   "metadata": {},
   "source": [
    "#### Other Languages\n",
    "\n",
    "   if (x)\n",
    "       if(y)\n",
    "          code-statement;\n",
    "   else\n",
    "      another-code-statement;\n",
    "\n",
    "#### Python\n",
    "    if x:\n",
    "        if y:\n",
    "            code-statement\n",
    "    else:\n",
    "        another-code-statement\n",
    "\n",
    "\n",
    "##### Note how Python is so heavily driven by code indentation and whitespace. This means that code readability is a core part of the design of the Python Language.\n",
    "\n",
    "\n",
    "##### Now let's start driving deeper by coding these sort of statements in Python!\n",
    "        \n",
    "            \n",
    "\n"
   ]
  },
  {
   "cell_type": "code",
   "execution_count": null,
   "id": "b4902db2-972e-42c2-a743-86c67265f560",
   "metadata": {},
   "outputs": [],
   "source": []
  },
  {
   "cell_type": "markdown",
   "id": "af64d46b-3719-4b89-8c03-51e687873768",
   "metadata": {},
   "source": [
    "### if, elif, else Statements"
   ]
  },
  {
   "cell_type": "markdown",
   "id": "231b1771-e87f-4ab8-8b62-dda02980c336",
   "metadata": {},
   "source": [
    "##### Let' s go ahead and look at the syntax format for **if** statements to get a better idea of this:\n",
    "\n",
    "    if case1:\n",
    "        perform action1\n",
    "    elif case2:\n",
    "        perform action2\n",
    "    else:\n",
    "        perform action3\n"
   ]
  },
  {
   "cell_type": "markdown",
   "id": "93281f23-04ad-4138-ab6e-284962c8866a",
   "metadata": {},
   "source": [
    "#### First Example"
   ]
  },
  {
   "cell_type": "code",
   "execution_count": null,
   "id": "89318277-43de-46e6-a832-7d90fcfc638e",
   "metadata": {},
   "outputs": [],
   "source": [
    "if True:\n",
    "    print('It was true!')\n",
    "    "
   ]
  },
  {
   "cell_type": "code",
   "execution_count": null,
   "id": "7e111cd1-58ec-4a9c-8de9-0171b1177a1d",
   "metadata": {},
   "outputs": [],
   "source": []
  },
  {
   "cell_type": "markdown",
   "id": "1c21db27-4533-4efc-ae1a-26b2cf223d39",
   "metadata": {},
   "source": [
    "#### Let's add in some else logic: "
   ]
  },
  {
   "cell_type": "code",
   "execution_count": null,
   "id": "3840ce85-f974-4e60-a7a1-a99c7ded1412",
   "metadata": {},
   "outputs": [],
   "source": [
    "x = False\n",
    "\n",
    "if x:\n",
    "    print(' x was True!')\n",
    "else:\n",
    "    print(' I will be printed in any case where x is not true')"
   ]
  },
  {
   "cell_type": "markdown",
   "id": "1fb93c3b-8f39-446e-b106-1790c835f9ab",
   "metadata": {},
   "source": [
    "#### Multiple Branches\n",
    "\n",
    "##### Let's get a fuller picture of how far **if**, **elif**, and **else** line up in a code. This can help yuo see what **if** is related to what **elif** or **else** statements.\n",
    "\n",
    "##### We'll reintroduce a comparison syntax for Python."
   ]
  },
  {
   "cell_type": "code",
   "execution_count": null,
   "id": "da11e1de-6348-40b9-b939-a904220b46f1",
   "metadata": {},
   "outputs": [],
   "source": [
    "loc = 'Bank'\n",
    "\n",
    "if loc == 'Auto Shop':\n",
    "    print('Welcom to the Auto Shop!')\n",
    "elif loc == 'Bank':\n",
    "    print('Welcome to the bank')\n",
    "else:\n",
    "    print('Where are you?')"
   ]
  },
  {
   "cell_type": "code",
   "execution_count": null,
   "id": "a63f2ba3-77ff-449b-9d57-d43d33aa6278",
   "metadata": {},
   "outputs": [],
   "source": [
    "loc = 'Bank'\n",
    "\n",
    "if loc != 'Auto Shop':\n",
    "    print('Welcom to the Auto Shop!')\n",
    "elif loc != 'Bank':\n",
    "    print('Welcome to the bank')\n",
    "else:\n",
    "    print('Where are you?')"
   ]
  },
  {
   "cell_type": "markdown",
   "id": "12b61deb-9bf5-4a48-ba5d-a959656516b7",
   "metadata": {},
   "source": [
    "##### Note how the nested **if** statements are each checked until a True boolean causes the nested code below it to run.Ypu should alsoo note that you can put in as many **elif** statements as you want before you close off with an **else**\n",
    "\n",
    "##### let's create two more simple examples for the **if**, **elif**, and **else** statements:"
   ]
  },
  {
   "cell_type": "code",
   "execution_count": null,
   "id": "663e3c53-e015-45cc-bf81-ff96d8b93893",
   "metadata": {},
   "outputs": [],
   "source": [
    "person = 'Sammy'\n",
    "\n",
    "if person == 'Sammy':\n",
    "    print('Welcome Sammy!')\n",
    "else:\n",
    "    print(\"Welcom, What's your name?\")"
   ]
  },
  {
   "cell_type": "code",
   "execution_count": null,
   "id": "815434b9-73b3-4f6e-a23f-9c0deeafb735",
   "metadata": {},
   "outputs": [],
   "source": [
    "person = 'Sammy'\n",
    "\n",
    "if person == 'dammy':\n",
    "    print('Welcome Sammy!')\n",
    "else:\n",
    "    print(\"Welcom, What's your name?\")"
   ]
  },
  {
   "cell_type": "code",
   "execution_count": null,
   "id": "06d97b4a-39fc-495f-99ed-0734f6067e80",
   "metadata": {},
   "outputs": [],
   "source": [
    "person = 'Jide'\n",
    "\n",
    "if person == 'Sammy':\n",
    "    print('Welcome Sammy!')\n",
    "elif person == 'Jide':\n",
    "    print('Welcom Jide!')\n",
    "else:\n",
    "    print(\"Welcom, What's your name?\")\n"
   ]
  },
  {
   "cell_type": "code",
   "execution_count": null,
   "id": "2cc51e95-f58f-44a9-be9a-ecc31a66bcf7",
   "metadata": {},
   "outputs": [],
   "source": [
    "person  = 'Sammy'\n",
    "\n",
    "if person == 'Jide':\n",
    "    print('Welcome Sammy!')\n",
    "elif person == 'Jide':\n",
    "    print('I dont know you')\n",
    "else:\n",
    "    print(\"Welcom, What's your name?\"  )\n"
   ]
  },
  {
   "cell_type": "code",
   "execution_count": null,
   "id": "1c822545-93c0-4eba-8084-61c6e54b49db",
   "metadata": {},
   "outputs": [],
   "source": [
    "plants = \"Spathiphyllum\"\n",
    "if plants == \"spathiphyllum\":\n",
    "    print(\" Yes-Spathiphyllum is the best plant ever\")\n",
    "else:\n",
    "    print(\"No, I want a big Spathiphyllum  \")"
   ]
  },
  {
   "cell_type": "code",
   "execution_count": null,
   "id": "8b4fcc91-6663-4a02-84b5-ae7a0ef59d28",
   "metadata": {},
   "outputs": [],
   "source": [
    "num = 67\n",
    "\n",
    "if num % 2 == 0:\n",
    "    print(f\"{num} is an even number.\")\n",
    "else:\n",
    "    print(f\"{num} is an odd number.\")\n",
    "    "
   ]
  },
  {
   "cell_type": "code",
   "execution_count": 2,
   "id": "8a1b5a01-795c-4c98-901f-0ae8d34d628b",
   "metadata": {},
   "outputs": [
    {
     "ename": "SyntaxError",
     "evalue": "invalid syntax. Maybe you meant '==' or ':=' instead of '='? (2677580529.py, line 5)",
     "output_type": "error",
     "traceback": [
      "\u001b[1;36m  Cell \u001b[1;32mIn[2], line 5\u001b[1;36m\u001b[0m\n\u001b[1;33m    elif tax = round(tax, 0):\u001b[0m\n\u001b[1;37m         ^\u001b[0m\n\u001b[1;31mSyntaxError\u001b[0m\u001b[1;31m:\u001b[0m invalid syntax. Maybe you meant '==' or ':=' instead of '='?\n"
     ]
    }
   ],
   "source": [
    "income = float(input(\"Enter the annual income: \"))\n",
    "\n",
    "if tax % 85528 == 0:\n",
    "    print(f\" {income}this was the so called tax relief. \")\n",
    "elif tax = round(tax, 0):\n",
    "print(\"The tax is: \", tax, \"thallers\")\n",
    "\n",
    "\n",
    "\n",
    "\n"
   ]
  },
  {
   "cell_type": "code",
   "execution_count": null,
   "id": "11db6b65-f6b4-49e7-b40c-6a7232795558",
   "metadata": {},
   "outputs": [],
   "source": [
    "num = 600\n",
    "\n",
    "if num % 2 == 0:\n",
    "    print(f\"{num} is an even number.\")\n",
    "else:\n",
    "    print(f\"{num} is an odd number.\")\n",
    "    "
   ]
  },
  {
   "cell_type": "code",
   "execution_count": null,
   "id": "004e2976-1bfa-40c2-aa71-eed654be4f51",
   "metadata": {},
   "outputs": [],
   "source": [
    "num = 600\n",
    "\n",
    "if num % 2 == 0:\n",
    "    print(\"even number.\")\n",
    "else:\n",
    "    print(\"odd number.\")"
   ]
  },
  {
   "cell_type": "code",
   "execution_count": null,
   "id": "68464a76-13c0-4641-8693-081de76ae3f7",
   "metadata": {},
   "outputs": [],
   "source": [
    "7 % 2"
   ]
  },
  {
   "cell_type": "code",
   "execution_count": null,
   "id": "280dabc4-da15-4665-8f32-5763af66d3dc",
   "metadata": {},
   "outputs": [],
   "source": [
    "7 / 2"
   ]
  },
  {
   "cell_type": "code",
   "execution_count": null,
   "id": "13fa24ad-4e55-43a4-823d-4a6f7ddeec03",
   "metadata": {},
   "outputs": [],
   "source": []
  },
  {
   "cell_type": "code",
   "execution_count": null,
   "id": "97061bfd-01c1-4395-adaf-f8c35edcfc62",
   "metadata": {},
   "outputs": [],
   "source": []
  },
  {
   "cell_type": "markdown",
   "id": "d679eded-1290-4098-b643-ec2e4572951a",
   "metadata": {},
   "source": [
    "### Indentation\n",
    "\n",
    "##### It is important to keep understanding of how indentation works in Python to maintain the structure and order of your code. We will touch on this topic again when we start building out fuctions!"
   ]
  },
  {
   "cell_type": "code",
   "execution_count": null,
   "id": "026ed1bc-70f8-4c68-a41f-d1664c498753",
   "metadata": {},
   "outputs": [],
   "source": []
  },
  {
   "cell_type": "code",
   "execution_count": null,
   "id": "508caca7-e9c3-4e3b-9c31-b25d7104de10",
   "metadata": {},
   "outputs": [],
   "source": []
  },
  {
   "cell_type": "code",
   "execution_count": null,
   "id": "51b01e38-af21-419d-b259-194316294793",
   "metadata": {},
   "outputs": [],
   "source": []
  },
  {
   "cell_type": "code",
   "execution_count": null,
   "id": "17afa7c7-9f96-4102-af9d-bb91edfd87de",
   "metadata": {},
   "outputs": [],
   "source": []
  },
  {
   "cell_type": "code",
   "execution_count": null,
   "id": "9c5b964b-0d59-4fbc-9b44-c393ca345b63",
   "metadata": {},
   "outputs": [],
   "source": []
  },
  {
   "cell_type": "code",
   "execution_count": null,
   "id": "5c1e9ba1-69c2-4c7d-84e2-2739203b6047",
   "metadata": {},
   "outputs": [],
   "source": []
  },
  {
   "cell_type": "code",
   "execution_count": null,
   "id": "4121cc76-b7a3-4edd-8a1d-e35dea8d8758",
   "metadata": {},
   "outputs": [],
   "source": []
  },
  {
   "cell_type": "code",
   "execution_count": null,
   "id": "452fbdae-47f8-4335-a8c0-4c2a82614e1b",
   "metadata": {},
   "outputs": [],
   "source": []
  },
  {
   "cell_type": "code",
   "execution_count": null,
   "id": "c42bb656-9c74-456b-8f67-3d210a1aa633",
   "metadata": {},
   "outputs": [],
   "source": []
  },
  {
   "cell_type": "code",
   "execution_count": null,
   "id": "170f9a59-44c5-4599-9277-fd30f3580228",
   "metadata": {},
   "outputs": [],
   "source": []
  },
  {
   "cell_type": "code",
   "execution_count": null,
   "id": "6a818863-7a39-41b6-b6e5-384fe25e537b",
   "metadata": {},
   "outputs": [],
   "source": []
  },
  {
   "cell_type": "code",
   "execution_count": null,
   "id": "89902c74-05a5-4520-b6b6-80e7491cbee3",
   "metadata": {},
   "outputs": [],
   "source": []
  },
  {
   "cell_type": "code",
   "execution_count": null,
   "id": "dc7d26f7-7cf8-4fb9-b040-99445bab9ac9",
   "metadata": {},
   "outputs": [],
   "source": []
  },
  {
   "cell_type": "code",
   "execution_count": null,
   "id": "269bb7ba-b7d5-49f7-9dd0-40aa7bc944f5",
   "metadata": {},
   "outputs": [],
   "source": []
  },
  {
   "cell_type": "code",
   "execution_count": null,
   "id": "17d09937-108e-413f-8e87-ec8bbc980c52",
   "metadata": {},
   "outputs": [],
   "source": []
  },
  {
   "cell_type": "code",
   "execution_count": null,
   "id": "b2e073ff-4a53-450b-a6be-0757d21a7499",
   "metadata": {},
   "outputs": [],
   "source": []
  },
  {
   "cell_type": "code",
   "execution_count": null,
   "id": "84a015c3-dcf0-4c29-a963-6d62d2231968",
   "metadata": {},
   "outputs": [],
   "source": []
  },
  {
   "cell_type": "code",
   "execution_count": null,
   "id": "aeaf5484-d4cf-4165-bf0b-2ee6b11d18b7",
   "metadata": {},
   "outputs": [],
   "source": []
  }
 ],
 "metadata": {
  "kernelspec": {
   "display_name": "Python 3 (ipykernel)",
   "language": "python",
   "name": "python3"
  },
  "language_info": {
   "codemirror_mode": {
    "name": "ipython",
    "version": 3
   },
   "file_extension": ".py",
   "mimetype": "text/x-python",
   "name": "python",
   "nbconvert_exporter": "python",
   "pygments_lexer": "ipython3",
   "version": "3.12.4"
  }
 },
 "nbformat": 4,
 "nbformat_minor": 5
}
