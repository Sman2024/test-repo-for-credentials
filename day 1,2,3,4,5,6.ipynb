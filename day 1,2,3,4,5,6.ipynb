{
 "cells": [
  {
   "cell_type": "code",
   "execution_count": 1,
   "id": "ae7905eb-4fb7-4231-a1ec-7e317472120b",
   "metadata": {},
   "outputs": [
    {
     "name": "stdout",
     "output_type": "stream",
     "text": [
      "Hello world!\n"
     ]
    }
   ],
   "source": [
    "print(\"Hello world!\")"
   ]
  },
  {
   "cell_type": "code",
   "execution_count": 2,
   "id": "31346bad-2572-450f-98b4-88f82c7ad31c",
   "metadata": {},
   "outputs": [
    {
     "name": "stdout",
     "output_type": "stream",
     "text": [
      "First Line \n",
      " Second Line \n",
      " Third line\n"
     ]
    }
   ],
   "source": [
    "print('First Line \\n Second Line \\n Third line')"
   ]
  },
  {
   "cell_type": "code",
   "execution_count": 55,
   "id": "1a9e900a-d5fc-4ff2-84f5-4feb3ca7a6a8",
   "metadata": {},
   "outputs": [
    {
     "name": "stdout",
     "output_type": "stream",
     "text": [
      "4\n"
     ]
    }
   ],
   "source": [
    "print(4)"
   ]
  },
  {
   "cell_type": "code",
   "execution_count": 56,
   "id": "fa79f4b5-b5f9-41ee-a12e-4b838c74354b",
   "metadata": {},
   "outputs": [
    {
     "name": "stdout",
     "output_type": "stream",
     "text": [
      "8\n"
     ]
    }
   ],
   "source": [
    "print(4+4)"
   ]
  },
  {
   "cell_type": "code",
   "execution_count": 57,
   "id": "9a682143-e1fe-4c62-ade2-bf4514887982",
   "metadata": {},
   "outputs": [
    {
     "name": "stdout",
     "output_type": "stream",
     "text": [
      "44\n"
     ]
    }
   ],
   "source": [
    "print('4' + '4')"
   ]
  },
  {
   "cell_type": "code",
   "execution_count": 58,
   "id": "27679f2f-0ca2-4469-87f1-c8c2e80dcc6e",
   "metadata": {},
   "outputs": [
    {
     "data": {
      "text/plain": [
       "12"
      ]
     },
     "execution_count": 58,
     "metadata": {},
     "output_type": "execute_result"
    }
   ],
   "source": [
    "4+4+4"
   ]
  },
  {
   "cell_type": "code",
   "execution_count": null,
   "id": "1ffb40f6-4c7b-45ad-85f8-713a7905ff8d",
   "metadata": {},
   "outputs": [],
   "source": []
  },
  {
   "cell_type": "markdown",
   "id": "2c04ecdf-d663-4cc3-aa79-b8afa92c29f3",
   "metadata": {},
   "source": [
    "### Data Type"
   ]
  },
  {
   "cell_type": "code",
   "execution_count": 59,
   "id": "a156f499-b9ce-4a32-a581-348becd75c24",
   "metadata": {},
   "outputs": [
    {
     "name": "stdout",
     "output_type": "stream",
     "text": [
      "<class 'int'>\n"
     ]
    }
   ],
   "source": [
    "print(type(12))"
   ]
  },
  {
   "cell_type": "code",
   "execution_count": 60,
   "id": "a289f402-d2c1-4232-98d2-62befd6b1ec2",
   "metadata": {},
   "outputs": [
    {
     "name": "stdout",
     "output_type": "stream",
     "text": [
      "<class 'float'>\n"
     ]
    }
   ],
   "source": [
    "print(type(12.1))"
   ]
  },
  {
   "cell_type": "code",
   "execution_count": 61,
   "id": "19648a6b-9460-49a5-999e-1daf1cde5532",
   "metadata": {},
   "outputs": [
    {
     "name": "stdout",
     "output_type": "stream",
     "text": [
      "<class 'float'>\n"
     ]
    }
   ],
   "source": [
    "print(type(-12.3))"
   ]
  },
  {
   "cell_type": "code",
   "execution_count": 62,
   "id": "cd8a226c-608a-49b3-b1c6-e96b2345a5eb",
   "metadata": {},
   "outputs": [
    {
     "name": "stdout",
     "output_type": "stream",
     "text": [
      "<class 'bool'>\n"
     ]
    }
   ],
   "source": [
    "print(type(False))"
   ]
  },
  {
   "cell_type": "code",
   "execution_count": 63,
   "id": "7c348bca-b79d-4908-9312-7b0692c1dc8a",
   "metadata": {},
   "outputs": [
    {
     "name": "stdout",
     "output_type": "stream",
     "text": [
      "<class 'str'>\n"
     ]
    }
   ],
   "source": [
    "print(type('abc12'))"
   ]
  },
  {
   "cell_type": "code",
   "execution_count": 64,
   "id": "61a6afe9-27a9-4953-8fbc-4ee8413afa72",
   "metadata": {},
   "outputs": [
    {
     "name": "stdout",
     "output_type": "stream",
     "text": [
      "<class 'NoneType'>\n"
     ]
    }
   ],
   "source": [
    "print(type(None))"
   ]
  },
  {
   "cell_type": "code",
   "execution_count": 65,
   "id": "a614d82d-9e35-49d0-b9f6-8c185bb3552c",
   "metadata": {},
   "outputs": [
    {
     "name": "stdout",
     "output_type": "stream",
     "text": [
      "2\n"
     ]
    }
   ],
   "source": [
    "print(9//4)"
   ]
  },
  {
   "cell_type": "code",
   "execution_count": 66,
   "id": "a6154599-1036-45ab-83d7-48e4744a27c2",
   "metadata": {},
   "outputs": [
    {
     "name": "stdout",
     "output_type": "stream",
     "text": [
      "0\n"
     ]
    }
   ],
   "source": [
    "print(4%4)"
   ]
  },
  {
   "cell_type": "code",
   "execution_count": 67,
   "id": "5f76fa84-97f4-44dd-8525-0102c34448dd",
   "metadata": {},
   "outputs": [
    {
     "name": "stdout",
     "output_type": "stream",
     "text": [
      "65536\n"
     ]
    }
   ],
   "source": [
    "print(2**16)"
   ]
  },
  {
   "cell_type": "code",
   "execution_count": 68,
   "id": "668a4d1e-9073-4ec1-934d-100107ce0d10",
   "metadata": {},
   "outputs": [
    {
     "name": "stdout",
     "output_type": "stream",
     "text": [
      "16\n"
     ]
    }
   ],
   "source": [
    "print(2**4)"
   ]
  },
  {
   "cell_type": "markdown",
   "id": "f5d62aad-7892-4296-8edd-bfd025c9b63c",
   "metadata": {},
   "source": [
    "### Built-in Math function"
   ]
  },
  {
   "cell_type": "code",
   "execution_count": 69,
   "id": "1fed01a9-066a-42ed-ab8e-007f49bfd52e",
   "metadata": {},
   "outputs": [
    {
     "name": "stdout",
     "output_type": "stream",
     "text": [
      "<built-in function round>\n"
     ]
    }
   ],
   "source": [
    "print(round)"
   ]
  },
  {
   "cell_type": "code",
   "execution_count": 70,
   "id": "ab09a4dc-da4a-4804-a319-76b4d5590834",
   "metadata": {},
   "outputs": [
    {
     "name": "stdout",
     "output_type": "stream",
     "text": [
      "45.0\n"
     ]
    }
   ],
   "source": [
    "print((5 + 4) * 10 / 2)"
   ]
  },
  {
   "cell_type": "code",
   "execution_count": 71,
   "id": "a4a496b4-8ab6-4b14-9093-680e1e1974f0",
   "metadata": {},
   "outputs": [
    {
     "name": "stdout",
     "output_type": "stream",
     "text": [
      "45.0\n"
     ]
    }
   ],
   "source": [
    "print(((5 + 4) * 10) / 2)"
   ]
  },
  {
   "cell_type": "code",
   "execution_count": 72,
   "id": "61998b1f-e305-4dff-8eae-9e4d88bebce5",
   "metadata": {},
   "outputs": [
    {
     "name": "stdout",
     "output_type": "stream",
     "text": [
      "45.0\n"
     ]
    }
   ],
   "source": [
    "print((5 + 4) * (10 / 2))"
   ]
  },
  {
   "cell_type": "code",
   "execution_count": 73,
   "id": "34fde22f-f67a-49fd-b70a-e68e06aa281b",
   "metadata": {},
   "outputs": [
    {
     "name": "stdout",
     "output_type": "stream",
     "text": [
      "25.0\n"
     ]
    }
   ],
   "source": [
    "print(5 + (4 * 10) / 2)"
   ]
  },
  {
   "cell_type": "code",
   "execution_count": 74,
   "id": "1d98c89d-d17f-42ee-81c3-5c3c85865614",
   "metadata": {},
   "outputs": [
    {
     "name": "stdout",
     "output_type": "stream",
     "text": [
      "25\n"
     ]
    }
   ],
   "source": [
    "print(5 + 4 * 10 // 2)"
   ]
  },
  {
   "cell_type": "markdown",
   "id": "282b3c2a-b7ca-4ae5-801a-32d9aa4f4977",
   "metadata": {},
   "source": [
    "### The math module"
   ]
  },
  {
   "cell_type": "code",
   "execution_count": 75,
   "id": "1fc95c6c-79e4-467c-8b24-f3c840fd34eb",
   "metadata": {},
   "outputs": [
    {
     "name": "stdout",
     "output_type": "stream",
     "text": [
      "4.0\n"
     ]
    }
   ],
   "source": [
    "import math\n",
    "print(math.sqrt(16))"
   ]
  },
  {
   "cell_type": "code",
   "execution_count": 76,
   "id": "7e842434-502f-4f47-a74c-49bbc1218554",
   "metadata": {},
   "outputs": [
    {
     "name": "stdout",
     "output_type": "stream",
     "text": [
      "4.0\n"
     ]
    }
   ],
   "source": [
    "print(math.sqrt(16))"
   ]
  },
  {
   "cell_type": "code",
   "execution_count": 77,
   "id": "c446587a-0b37-4051-88d9-ae9571d16522",
   "metadata": {},
   "outputs": [
    {
     "name": "stdout",
     "output_type": "stream",
     "text": [
      "3.141592653589793\n"
     ]
    }
   ],
   "source": [
    "print(math.pi)"
   ]
  },
  {
   "cell_type": "code",
   "execution_count": 78,
   "id": "74a245e0-859a-4a98-b950-9f468caff031",
   "metadata": {},
   "outputs": [
    {
     "name": "stdout",
     "output_type": "stream",
     "text": [
      "6\n"
     ]
    }
   ],
   "source": [
    "print(math.ceil(5.1))"
   ]
  },
  {
   "cell_type": "code",
   "execution_count": 79,
   "id": "3b534982-9b6a-4cf0-b27d-581d07de9590",
   "metadata": {},
   "outputs": [
    {
     "name": "stdout",
     "output_type": "stream",
     "text": [
      "10\n"
     ]
    }
   ],
   "source": [
    "print(math.comb(5, 3))"
   ]
  },
  {
   "cell_type": "code",
   "execution_count": 80,
   "id": "fefc43aa-47c3-470b-b83d-8257c32cdac6",
   "metadata": {},
   "outputs": [
    {
     "name": "stdout",
     "output_type": "stream",
     "text": [
      "256.0\n"
     ]
    }
   ],
   "source": [
    "print(math.pow(16, 2))"
   ]
  },
  {
   "cell_type": "markdown",
   "id": "1987cd99-15c6-4b8d-96af-a9c0fa54b14d",
   "metadata": {},
   "source": [
    "### Variables in Python"
   ]
  },
  {
   "cell_type": "code",
   "execution_count": 81,
   "id": "86d2bd59-7252-4c25-bfaf-d122a4a5121f",
   "metadata": {},
   "outputs": [
    {
     "name": "stdout",
     "output_type": "stream",
     "text": [
      "53\n"
     ]
    }
   ],
   "source": [
    "a= 53\n",
    "print(a)"
   ]
  },
  {
   "cell_type": "code",
   "execution_count": 82,
   "id": "53686bfc-2e24-4c6a-ab19-8a1bc5a327a8",
   "metadata": {},
   "outputs": [
    {
     "name": "stdout",
     "output_type": "stream",
     "text": [
      "7\n"
     ]
    }
   ],
   "source": [
    "value = 5\n",
    "value = value + 2\n",
    "print(value)"
   ]
  },
  {
   "cell_type": "code",
   "execution_count": 83,
   "id": "8f51fd4b-5697-424e-91e5-d94d721492df",
   "metadata": {},
   "outputs": [
    {
     "name": "stdout",
     "output_type": "stream",
     "text": [
      "9\n"
     ]
    }
   ],
   "source": [
    "value += 2\n",
    "print(value)"
   ]
  },
  {
   "cell_type": "code",
   "execution_count": 84,
   "id": "8dae9d20-eec2-495a-885d-35c8b7dd05ad",
   "metadata": {},
   "outputs": [
    {
     "name": "stdout",
     "output_type": "stream",
     "text": [
      "15\n",
      "10\n",
      "50\n",
      "10.0\n",
      "2.0\n",
      "0.0\n",
      "0.0\n"
     ]
    }
   ],
   "source": [
    "value = 10\n",
    "\n",
    "value += 5\n",
    "print(value)\n",
    "value -= 5\n",
    "print(value)\n",
    "value *= 5\n",
    "print(value)\n",
    "value /= 5\n",
    "print(value)\n",
    "value %= 4\n",
    "print(value)\n",
    "value //= 5\n",
    "print(value)\n",
    "value **= 5\n",
    "print(value)"
   ]
  },
  {
   "cell_type": "code",
   "execution_count": null,
   "id": "aca06dd1-51a4-43d1-b2dd-66fe9dcd1a36",
   "metadata": {},
   "outputs": [],
   "source": []
  },
  {
   "cell_type": "markdown",
   "id": "fee5bda4-960d-4539-a298-6e6cc33ded7b",
   "metadata": {},
   "source": [
    "### Python string"
   ]
  },
  {
   "cell_type": "code",
   "execution_count": 85,
   "id": "22116cf9-1e47-4fc7-a68c-fdf61ce738d4",
   "metadata": {},
   "outputs": [
    {
     "name": "stdout",
     "output_type": "stream",
     "text": [
      " \n",
      "\\/ * /*+\n",
      "gdi93\n",
      "\\973\\8-3\n",
      "\n"
     ]
    },
    {
     "name": "stderr",
     "output_type": "stream",
     "text": [
      "<>:1: SyntaxWarning: invalid escape sequence '\\/'\n",
      "<>:1: SyntaxWarning: invalid escape sequence '\\/'\n",
      "C:\\Users\\user11\\AppData\\Local\\Temp\\ipykernel_19588\\471732631.py:1: SyntaxWarning: invalid escape sequence '\\/'\n",
      "  multi_lines_str = \"\"\"\n"
     ]
    }
   ],
   "source": [
    "multi_lines_str = \"\"\" \n",
    "\\/ * /*+\n",
    "gdi93\n",
    "\\973\\8-3\n",
    "\"\"\"\n",
    "print(multi_lines_str )"
   ]
  },
  {
   "cell_type": "code",
   "execution_count": 86,
   "id": "deb3cede-493d-495e-921a-c48514d720a0",
   "metadata": {},
   "outputs": [
    {
     "name": "stdout",
     "output_type": "stream",
     "text": [
      " \n",
      "One message that should \t kept away\n",
      "\n"
     ]
    }
   ],
   "source": [
    "multi_lines_str = \"\"\" \n",
    "One message that should \\t kept away\n",
    "\"\"\"\n",
    "print(multi_lines_str )"
   ]
  },
  {
   "cell_type": "code",
   "execution_count": 87,
   "id": "cb115061-99c8-491f-a4b8-c28454504a70",
   "metadata": {},
   "outputs": [
    {
     "name": "stdout",
     "output_type": "stream",
     "text": [
      " \n",
      "One message that should \\ kept away\n",
      "\n"
     ]
    }
   ],
   "source": [
    "multi_lines_str = \"\"\" \n",
    "One message that should \\\\ kept away\n",
    "\"\"\"\n",
    "print(multi_lines_str )"
   ]
  },
  {
   "cell_type": "code",
   "execution_count": 88,
   "id": "f2c1d008-d5b9-4cfe-92b6-e35337ae4ad0",
   "metadata": {},
   "outputs": [
    {
     "name": "stdout",
     "output_type": "stream",
     "text": [
      " \n",
      "One message that should \n",
      " kept away\n",
      "\n"
     ]
    }
   ],
   "source": [
    "multi_lines_str = \"\"\" \n",
    "One message that should \\n kept away\n",
    "\"\"\"\n",
    "print(multi_lines_str )"
   ]
  },
  {
   "cell_type": "code",
   "execution_count": 89,
   "id": "145d4b73-26c6-402d-84de-7cbc7b4c5b28",
   "metadata": {},
   "outputs": [
    {
     "name": "stdout",
     "output_type": "stream",
     "text": [
      "character   character2  character3\tcharacter4\n"
     ]
    }
   ],
   "source": [
    "multi_lines_str = \"character   character2  character3\\tcharacter4\"\n",
    "print(multi_lines_str)"
   ]
  },
  {
   "cell_type": "code",
   "execution_count": 90,
   "id": "d77e8e58-0545-48dd-afff-216aafbd6014",
   "metadata": {},
   "outputs": [
    {
     "name": "stdout",
     "output_type": "stream",
     "text": [
      "character\tcharacter2\tcharacter3\tcharacter4\n"
     ]
    }
   ],
   "source": [
    "multi_lines_str = \"character\\tcharacter2\\tcharacter3\\tcharacter4\"\n",
    "print(multi_lines_str)"
   ]
  },
  {
   "cell_type": "markdown",
   "id": "335009a7-c23e-4ee7-8249-0312877422be",
   "metadata": {},
   "source": [
    "## Day 2"
   ]
  },
  {
   "cell_type": "code",
   "execution_count": 92,
   "id": "9d616c6a-cea6-46cd-ad98-c946960a51fc",
   "metadata": {},
   "outputs": [
    {
     "name": "stdout",
     "output_type": "stream",
     "text": [
      "jadejashakti\n"
     ]
    }
   ],
   "source": [
    "first_name = \"jadeja\"\n",
    "second_name = \"shakti\"\n",
    "print(first_name + second_name)"
   ]
  },
  {
   "cell_type": "code",
   "execution_count": 93,
   "id": "7e1db64d-e4ba-4c66-b799-49e8138ecd33",
   "metadata": {},
   "outputs": [
    {
     "name": "stdout",
     "output_type": "stream",
     "text": [
      "shaktijadeja\n"
     ]
    }
   ],
   "source": [
    "print(second_name + first_name)"
   ]
  },
  {
   "cell_type": "code",
   "execution_count": 94,
   "id": "d9cdea08-ed8c-4cfd-b107-3ade52f97500",
   "metadata": {},
   "outputs": [
    {
     "name": "stdout",
     "output_type": "stream",
     "text": [
      "jadeja shakti\n"
     ]
    }
   ],
   "source": [
    "print(first_name + \" \" + second_name)"
   ]
  },
  {
   "cell_type": "code",
   "execution_count": 95,
   "id": "2c539094-b7df-4174-9de3-856de8031956",
   "metadata": {},
   "outputs": [
    {
     "name": "stdout",
     "output_type": "stream",
     "text": [
      "shakti jadeja\n"
     ]
    }
   ],
   "source": [
    "print(second_name + \" \"+ first_name)"
   ]
  },
  {
   "cell_type": "markdown",
   "id": "892d06b6-a260-4d6f-8a31-c0d608be2441",
   "metadata": {},
   "source": [
    "### Concatenation "
   ]
  },
  {
   "cell_type": "code",
   "execution_count": 96,
   "id": "39e6909f-926c-48cd-8def-2c10ffddd056",
   "metadata": {},
   "outputs": [
    {
     "name": "stdout",
     "output_type": "stream",
     "text": [
      "52\n",
      "7\n"
     ]
    }
   ],
   "source": [
    "print(\"5\"+\"2\")\n",
    "print(5+2)"
   ]
  },
  {
   "cell_type": "markdown",
   "id": "17589d0f-7146-4648-859d-390081c17509",
   "metadata": {},
   "source": [
    "### Type conversion - int()"
   ]
  },
  {
   "cell_type": "code",
   "execution_count": 97,
   "id": "d7118dbc-64ee-407d-b44a-1bfceb2b9256",
   "metadata": {},
   "outputs": [
    {
     "name": "stdout",
     "output_type": "stream",
     "text": [
      "123\n"
     ]
    },
    {
     "ename": "ValueError",
     "evalue": "invalid literal for int() with base 10: '123.456'",
     "output_type": "error",
     "traceback": [
      "\u001b[1;31m---------------------------------------------------------------------------\u001b[0m",
      "\u001b[1;31mValueError\u001b[0m                                Traceback (most recent call last)",
      "Cell \u001b[1;32mIn[97], line 2\u001b[0m\n\u001b[0;32m      1\u001b[0m \u001b[38;5;28mprint\u001b[39m(\u001b[38;5;28mint\u001b[39m(\u001b[38;5;241m123.456\u001b[39m))\n\u001b[1;32m----> 2\u001b[0m \u001b[38;5;28mprint\u001b[39m(\u001b[38;5;28mint\u001b[39m(\u001b[38;5;124m'\u001b[39m\u001b[38;5;124m123.456\u001b[39m\u001b[38;5;124m'\u001b[39m))\n",
      "\u001b[1;31mValueError\u001b[0m: invalid literal for int() with base 10: '123.456'"
     ]
    }
   ],
   "source": [
    "print(int(123.456))\n",
    "print(int('123.456'))"
   ]
  },
  {
   "cell_type": "code",
   "execution_count": 98,
   "id": "fb939be4-e7a9-4cdb-941d-1e821ebf7114",
   "metadata": {},
   "outputs": [
    {
     "name": "stdout",
     "output_type": "stream",
     "text": [
      "123\n",
      "123456\n"
     ]
    }
   ],
   "source": [
    "print(int(123.456))\n",
    "print(int('123456')) # when you remove the . it will print normal"
   ]
  },
  {
   "cell_type": "markdown",
   "id": "ae4077a4-34c1-4cb6-80e9-638b3514e64f",
   "metadata": {},
   "source": [
    "### Type convertion - float"
   ]
  },
  {
   "cell_type": "code",
   "execution_count": 99,
   "id": "81b45cac-8bda-4d4b-aa0c-a8b997e3c801",
   "metadata": {},
   "outputs": [
    {
     "name": "stdout",
     "output_type": "stream",
     "text": [
      "123\n",
      "123\n"
     ]
    }
   ],
   "source": [
    "print(int(123.456))\n",
    "print(int(float('123.456')))"
   ]
  },
  {
   "cell_type": "code",
   "execution_count": 100,
   "id": "ddefe123-2aaf-4ff5-8484-3bb2bc823e08",
   "metadata": {},
   "outputs": [],
   "source": [
    "### Type convertion - string"
   ]
  },
  {
   "cell_type": "code",
   "execution_count": 101,
   "id": "c0b51bc4-3bb2-4d12-873b-7e11b97cce32",
   "metadata": {},
   "outputs": [
    {
     "name": "stdout",
     "output_type": "stream",
     "text": [
      "123\n",
      "123\n"
     ]
    }
   ],
   "source": [
    "print(int(123.456))\n",
    "print(int(float('123.456')))"
   ]
  },
  {
   "cell_type": "code",
   "execution_count": null,
   "id": "2b9c3cf0-3fc8-4e4c-b262-de232bad29c2",
   "metadata": {},
   "outputs": [],
   "source": []
  },
  {
   "cell_type": "markdown",
   "id": "407eab06-7db1-40bf-ab37-d418ae2306a6",
   "metadata": {},
   "source": [
    "### Formated String"
   ]
  },
  {
   "cell_type": "code",
   "execution_count": 102,
   "id": "43511dbc-7148-46fa-9384-954889060fc7",
   "metadata": {},
   "outputs": [
    {
     "name": "stdout",
     "output_type": "stream",
     "text": [
      "Welcome back %s %s. You have %d unreads John Silver 22\n"
     ]
    }
   ],
   "source": [
    "first = \"John\"\n",
    "second = \"Silver\"\n",
    "unreads = \"22\"\n",
    "print(f\"Welcome back %s %s. You have %d unreads\", first, second, unreads)"
   ]
  },
  {
   "cell_type": "code",
   "execution_count": 103,
   "id": "3e03e127-c4c8-46af-8642-31c3aedf5cc3",
   "metadata": {},
   "outputs": [
    {
     "name": "stdout",
     "output_type": "stream",
     "text": [
      "Welcome back %s %s. You have %d unreads John Silver 22\n"
     ]
    }
   ],
   "source": [
    "first = \"John\"\n",
    "second = \"Silver\"\n",
    "unreads = \"22\"\n",
    "print(\"Welcome back %s %s. You have %d unreads\", first, second, unreads)"
   ]
  },
  {
   "cell_type": "code",
   "execution_count": 104,
   "id": "db753dbb-dabb-413b-937c-23badebb9240",
   "metadata": {},
   "outputs": [
    {
     "name": "stdout",
     "output_type": "stream",
     "text": [
      "Welcome back John Silver. You have 22 unreads\n"
     ]
    }
   ],
   "source": [
    "first = \"John\"\n",
    "second = \"Silver\"\n",
    "unreads = \"22\"\n",
    "print(f\"Welcome back {first} {second}. You have {unreads} unreads\")"
   ]
  },
  {
   "cell_type": "code",
   "execution_count": 105,
   "id": "96151922-0d8b-488d-8c5b-d6003a9cfa4d",
   "metadata": {},
   "outputs": [
    {
     "name": "stdout",
     "output_type": "stream",
     "text": [
      "Welcome back %s . You have unreads John\n"
     ]
    }
   ],
   "source": [
    "print(f\"Welcome back %s . You have unreads\", first)"
   ]
  },
  {
   "cell_type": "code",
   "execution_count": 106,
   "id": "5579858f-ff5b-4edc-8880-142f99fe2e56",
   "metadata": {},
   "outputs": [
    {
     "name": "stdout",
     "output_type": "stream",
     "text": [
      "Welcome back John Silver. You have 22 unreads\n"
     ]
    }
   ],
   "source": [
    "first = \"John\"\n",
    "second = \"Silver\"\n",
    "unreads = \"22\"\n",
    "print(f\"Welcome back %s %s. You have %s unreads\" %(first, second, unreads))"
   ]
  },
  {
   "cell_type": "code",
   "execution_count": 107,
   "id": "147e3842-f04e-42f4-8567-6aa36667aaf2",
   "metadata": {},
   "outputs": [
    {
     "name": "stdout",
     "output_type": "stream",
     "text": [
      "Welcome back John Silver. You have 22 unreads\n"
     ]
    }
   ],
   "source": [
    "first = \"John\"\n",
    "second = \"Silver\"\n",
    "unread_messages = \"22\"\n",
    "print(f\"Welcome back %s %s. You have %s unreads\" %(first, second, unread_messages))"
   ]
  },
  {
   "cell_type": "markdown",
   "id": "7b619de6-a337-4dc9-959c-fbb83cf42110",
   "metadata": {},
   "source": [
    "### String Indexing"
   ]
  },
  {
   "cell_type": "code",
   "execution_count": 108,
   "id": "6dc6fc05-aee2-4f8b-a3f8-4e98bd17d2a6",
   "metadata": {},
   "outputs": [
    {
     "name": "stdout",
     "output_type": "stream",
     "text": [
      "P\n"
     ]
    }
   ],
   "source": [
    "strl = \"Python is so much fun!\"\n",
    "print(strl[0])\n"
   ]
  },
  {
   "cell_type": "code",
   "execution_count": 109,
   "id": "1b6977f8-5dc8-4047-9822-483a884dd701",
   "metadata": {},
   "outputs": [
    {
     "name": "stdout",
     "output_type": "stream",
     "text": [
      "Python i\n"
     ]
    }
   ],
   "source": [
    "print(strl[0:8])"
   ]
  },
  {
   "cell_type": "code",
   "execution_count": 110,
   "id": "92ce23a9-f546-4542-be5f-8476d7f237fa",
   "metadata": {},
   "outputs": [
    {
     "name": "stdout",
     "output_type": "stream",
     "text": [
      "Pto \n"
     ]
    }
   ],
   "source": [
    "print(strl[0:8:2])"
   ]
  },
  {
   "cell_type": "code",
   "execution_count": 111,
   "id": "9a77362c-40c8-422f-bad3-f591fd860768",
   "metadata": {},
   "outputs": [
    {
     "name": "stdout",
     "output_type": "stream",
     "text": [
      "6\n"
     ]
    }
   ],
   "source": [
    "strl = \"Python\"\n",
    "print(len(strl))"
   ]
  },
  {
   "cell_type": "code",
   "execution_count": null,
   "id": "6ba7ff21-e1fa-4f99-8c6c-ab903b95398f",
   "metadata": {},
   "outputs": [],
   "source": [
    "https://www.w3schools.com/python/python_ref_string.asp"
   ]
  },
  {
   "cell_type": "code",
   "execution_count": 112,
   "id": "846e71f9-53d7-4186-94e7-08ad94336c7e",
   "metadata": {},
   "outputs": [
    {
     "name": "stdout",
     "output_type": "stream",
     "text": [
      "PYTHON\n"
     ]
    }
   ],
   "source": [
    "strl = \"Python\"\n",
    "print(strl.upper())"
   ]
  },
  {
   "cell_type": "code",
   "execution_count": 30,
   "id": "c4340d00-b808-4047-be35-7e093dac95d5",
   "metadata": {},
   "outputs": [
    {
     "name": "stdout",
     "output_type": "stream",
     "text": [
      "1\n"
     ]
    }
   ],
   "source": [
    "strl = \"Python python is lively\"\n",
    "print(strl.count('p'))"
   ]
  },
  {
   "cell_type": "code",
   "execution_count": 35,
   "id": "717b4f95-048f-4179-a99a-cbcee813f226",
   "metadata": {},
   "outputs": [
    {
     "name": "stdout",
     "output_type": "stream",
     "text": [
      "What year were you born?  1989\n"
     ]
    },
    {
     "name": "stdout",
     "output_type": "stream",
     "text": [
      "1989\n"
     ]
    }
   ],
   "source": [
    "birth_year = int(input('What year were you born? '))\n",
    "print(birth_year)"
   ]
  },
  {
   "cell_type": "code",
   "execution_count": 34,
   "id": "68d98413-0c6f-4335-af80-f86bf0376cee",
   "metadata": {},
   "outputs": [
    {
     "name": "stdout",
     "output_type": "stream",
     "text": [
      "What year were you born?  1989\n"
     ]
    },
    {
     "name": "stdout",
     "output_type": "stream",
     "text": [
      "<class 'int'>\n"
     ]
    }
   ],
   "source": [
    "birth_year = int(input('What year were you born? '))\n",
    "print(type(birth_year))"
   ]
  },
  {
   "cell_type": "code",
   "execution_count": 36,
   "id": "de52e240-29fe-46b1-8bd7-5b888a37d5b5",
   "metadata": {},
   "outputs": [
    {
     "name": "stdout",
     "output_type": "stream",
     "text": [
      "What year were you born?  1998\n"
     ]
    },
    {
     "name": "stdout",
     "output_type": "stream",
     "text": [
      "<class 'float'>\n"
     ]
    }
   ],
   "source": [
    "birth_year = float(input('What year were you born? '))\n",
    "print(type(birth_year))"
   ]
  },
  {
   "cell_type": "code",
   "execution_count": null,
   "id": "fa0e6cb1-bdab-4a01-b617-113f39fbf94c",
   "metadata": {},
   "outputs": [],
   "source": []
  },
  {
   "cell_type": "markdown",
   "id": "7629ba5d-443d-4bc0-bbc1-126f04e006a2",
   "metadata": {},
   "source": [
    "#### create a script that prompt the user for their favorite animal and a secret word. then print a sentence like this: \"Your favorite animal is {animal_name} and your secret word ****** is {lenth of the word} letteres long\""
   ]
  },
  {
   "cell_type": "code",
   "execution_count": 43,
   "id": "82ae39e8-b069-4054-a455-70658300085e",
   "metadata": {},
   "outputs": [
    {
     "name": "stdout",
     "output_type": "stream",
     "text": [
      "enter your favourite animal name!  goat\n",
      "Enter your secret word!  rice\n"
     ]
    },
    {
     "name": "stdout",
     "output_type": "stream",
     "text": [
      "your favourite animal is goat and your secret word ****** is 4 letters long.\n"
     ]
    }
   ],
   "source": [
    "fav_animal = input(\"enter your favourite animal name! \")\n",
    "secret_word = input(\"Enter your secret word! \")\n",
    "length_of_word = len(secret_word)\n",
    "print(f\"your favourite animal is {fav_animal} and your secret word ****** is {length_of_word} letters long.\")"
   ]
  },
  {
   "cell_type": "code",
   "execution_count": null,
   "id": "4d48b57d-fdc0-4cce-8fb1-4f4100762e6b",
   "metadata": {},
   "outputs": [],
   "source": []
  },
  {
   "cell_type": "markdown",
   "id": "436576b5-0d9f-465f-8f37-5371dcf5b2c4",
   "metadata": {},
   "source": [
    "#### Q: 3 input for cost, 1 for discount % and 1 for % sales tax, add 3 cost = total, deduct discount from total, add sales tax, print the last total"
   ]
  },
  {
   "cell_type": "code",
   "execution_count": null,
   "id": "391a063f-964e-4f9c-8625-54f636ae1237",
   "metadata": {},
   "outputs": [],
   "source": [
    "input_cost_l = 10\n",
    "input_cost_2 = 20\n",
    "input_cost_3 = 30\n",
    "totall = input_cost_l + input_cost_2 + input_cost_3\n",
    "discount = 10\n",
    "sales_tax 10\n",
    "total2 = totall - int((totall/discount)) # 54\n",
    "total_final = total2 + int((total2/sales_tax)) #54 + 5.4 = 59.4 final payment\n"
   ]
  },
  {
   "cell_type": "code",
   "execution_count": 51,
   "id": "dc304bdf-a07e-436f-aa4a-0a9ae2523b6b",
   "metadata": {},
   "outputs": [
    {
     "name": "stdout",
     "output_type": "stream",
     "text": [
      "Enter the first cost:  10\n",
      "Enter the second cost:  20\n",
      "Enter the third cost:  30\n",
      "Enter the discount percentage:  10\n",
      "Enter the sales tax percentage:  10\n"
     ]
    },
    {
     "name": "stdout",
     "output_type": "stream",
     "text": [
      "The final total after discount and adding sales tax is: 59.4\n"
     ]
    }
   ],
   "source": [
    "cost1 = float(input(\"Enter the first cost: \"))\n",
    "cost2 = float(input(\"Enter the second cost: \"))\n",
    "cost3 = float(input(\"Enter the third cost: \"))\n",
    "discount_percentage = float(input(\"Enter the discount percentage: \"))\n",
    "sales_tax_percentage = float(input(\"Enter the sales tax percentage: \"))\n",
    "\n",
    "total_cost = cost1 + cost2 + cost3\n",
    "discount_amount = (discount_percentage / 100) * total_cost\n",
    "\n",
    "total_after_discount = total_cost - discount_amount\n",
    "\n",
    "sales_tax_amount = (sales_tax_percentage / 100) * total_after_discount\n",
    "final_total = total_after_discount + sales_tax_amount\n",
    "\n",
    "\n",
    "print(\"The final total after discount and adding sales tax is:\", round(final_total, 2))\n",
    " "
   ]
  },
  {
   "cell_type": "code",
   "execution_count": null,
   "id": "8fd92632-3e21-4023-8275-374054439e6c",
   "metadata": {},
   "outputs": [],
   "source": []
  },
  {
   "cell_type": "code",
   "execution_count": 52,
   "id": "c9dde6c0-58ba-47cd-b13b-6771f0e32dcf",
   "metadata": {},
   "outputs": [
    {
     "name": "stdout",
     "output_type": "stream",
     "text": [
      "Enter the first cost:  10\n",
      "Enter the second cost:  20\n",
      "Enter the third cost:  30\n",
      "Enter the discount percentage:  10\n",
      "Enter the sales tax percentage:  10\n"
     ]
    },
    {
     "name": "stdout",
     "output_type": "stream",
     "text": [
      "The final total after discount and adding sales tax is: 59.4\n"
     ]
    }
   ],
   "source": [
    "def calculate_total_cost(cost1, cost2, cost3):\n",
    "    return cost1 + cost2 + cost3\n",
    "\n",
    "# Function to apply the discount\n",
    "def apply_discount(total_cost, discount_percentage):\n",
    "    discount = (discount_percentage / 100) * total_cost\n",
    "    return total_cost - discount\n",
    "\n",
    "# Function to calculate the sales tax\n",
    "def apply_sales_tax(amount, sales_tax_percentage):\n",
    "    sales_tax = (sales_tax_percentage / 100) * amount\n",
    "    return amount + sales_tax\n",
    "\n",
    "# Main function to execute the process\n",
    "def main():\n",
    "    # Input values from the user\n",
    "    cost1 = float(input(\"Enter the first cost: \"))\n",
    "    cost2 = float(input(\"Enter the second cost: \"))\n",
    "    cost3 = float(input(\"Enter the third cost: \"))\n",
    "    discount_percentage = float(input(\"Enter the discount percentage: \"))\n",
    "    sales_tax_percentage = float(input(\"Enter the sales tax percentage: \"))\n",
    "\n",
    "    # Step by step calculation\n",
    "    total_cost = calculate_total_cost(cost1, cost2, cost3)\n",
    "    total_after_discount = apply_discount(total_cost, discount_percentage)\n",
    "    final_total = apply_sales_tax(total_after_discount, sales_tax_percentage)\n",
    "\n",
    "    # Output the final total\n",
    "    print(\"The final total after discount and adding sales tax is:\", round(final_total, 2))\n",
    "\n",
    "# Call the main function to run the program\n",
    "main()\n"
   ]
  },
  {
   "cell_type": "code",
   "execution_count": null,
   "id": "17bb9a01-784b-4187-9fde-3cb61595c722",
   "metadata": {},
   "outputs": [],
   "source": []
  },
  {
   "cell_type": "markdown",
   "id": "cc9ad614-d00c-4ca3-8772-e1933cd93d4a",
   "metadata": {},
   "source": [
    "### Day 3"
   ]
  },
  {
   "cell_type": "markdown",
   "id": "0f33ca00-7c1c-431e-9604-50132ec427c1",
   "metadata": {},
   "source": [
    "### Python 2"
   ]
  },
  {
   "cell_type": "code",
   "execution_count": 9,
   "id": "a2a046b6-91e6-407a-9bd6-945a3bb41830",
   "metadata": {},
   "outputs": [
    {
     "name": "stdout",
     "output_type": "stream",
     "text": [
      "India\n"
     ]
    }
   ],
   "source": [
    "list_values = ['India', 'Brazil', 'Africa', 'Canada', 'USA']\n",
    "print(list_values[-5])"
   ]
  },
  {
   "cell_type": "code",
   "execution_count": 12,
   "id": "32272b40-06a0-4b18-8ad4-92a3ffd9ee9d",
   "metadata": {},
   "outputs": [
    {
     "name": "stdout",
     "output_type": "stream",
     "text": [
      "Africa\n"
     ]
    }
   ],
   "source": [
    "print(list_values[len(list_values) -2-1])"
   ]
  },
  {
   "cell_type": "code",
   "execution_count": 11,
   "id": "8ac07e27-de81-4bf0-a0f6-807e8dea17b5",
   "metadata": {},
   "outputs": [
    {
     "name": "stdout",
     "output_type": "stream",
     "text": [
      "Canada\n"
     ]
    }
   ],
   "source": [
    "print(list_values[len(list_values) -(2)])"
   ]
  },
  {
   "cell_type": "code",
   "execution_count": 14,
   "id": "a0f3c141-20eb-47b1-a6eb-00466d08f977",
   "metadata": {},
   "outputs": [
    {
     "name": "stdout",
     "output_type": "stream",
     "text": [
      "Brazil\n"
     ]
    }
   ],
   "source": [
    "print(list_values[1 - len(list_values)])"
   ]
  },
  {
   "cell_type": "code",
   "execution_count": 16,
   "id": "a62b2b88-341b-4a5e-822a-5eed90f610c6",
   "metadata": {},
   "outputs": [
    {
     "name": "stdout",
     "output_type": "stream",
     "text": [
      "['Brazil', 'Africa', 'Canada']\n"
     ]
    }
   ],
   "source": [
    "print(list_values[1:4])"
   ]
  },
  {
   "cell_type": "code",
   "execution_count": 17,
   "id": "d4a34586-f411-4608-9102-5cfeb41dd81a",
   "metadata": {},
   "outputs": [
    {
     "name": "stdout",
     "output_type": "stream",
     "text": [
      "['India', 'UK', 'Africa', 'Canada', 'USA']\n"
     ]
    }
   ],
   "source": [
    "list_values[1] = 'UK'\n",
    "print(list_values)"
   ]
  },
  {
   "cell_type": "code",
   "execution_count": 18,
   "id": "904eaab6-8141-4d34-a64a-e50b7a7d9d92",
   "metadata": {},
   "outputs": [
    {
     "name": "stdout",
     "output_type": "stream",
     "text": [
      "['India', 'UK', 'Africa', 'Canada', 'USA']\n"
     ]
    }
   ],
   "source": [
    "list_values2 = list_values\n",
    "print(list_values2)"
   ]
  },
  {
   "cell_type": "code",
   "execution_count": 22,
   "id": "fc63ea5a-65f4-43dd-ae56-c11cab956992",
   "metadata": {},
   "outputs": [
    {
     "name": "stdout",
     "output_type": "stream",
     "text": [
      "['India', 'UK', 'Africa', 'Canada', 'USA']\n"
     ]
    }
   ],
   "source": [
    "print(list_values2)"
   ]
  },
  {
   "cell_type": "code",
   "execution_count": null,
   "id": "f293846b-7d6b-4b9d-b739-f831df3a4ad7",
   "metadata": {},
   "outputs": [],
   "source": []
  },
  {
   "cell_type": "code",
   "execution_count": 13,
   "id": "9e3e6799-f8fd-4d78-bf80-d3a0f5f1c737",
   "metadata": {},
   "outputs": [
    {
     "name": "stdout",
     "output_type": "stream",
     "text": [
      "-5\n",
      "36\n",
      "-2\n",
      "[-2, 12, 19]\n"
     ]
    }
   ],
   "source": [
    "listl = [-5, -2, 12, 19, 27, 36]\n",
    "print(listl[0])\n",
    "print(listl[5])\n",
    "print(listl[-5])\n",
    "print(listl[1:4])\n",
    "\n",
    "      \n"
   ]
  },
  {
   "cell_type": "code",
   "execution_count": null,
   "id": "1820d28f-1018-4de0-bba1-25d4946c3a7d",
   "metadata": {},
   "outputs": [],
   "source": []
  },
  {
   "cell_type": "markdown",
   "id": "f822d37f-2221-46a3-9e4b-dfc124e6cdbb",
   "metadata": {},
   "source": [
    "### Matrix"
   ]
  },
  {
   "cell_type": "code",
   "execution_count": 23,
   "id": "dbfffc7c-d389-4cc7-954c-02dd78b96e91",
   "metadata": {},
   "outputs": [],
   "source": [
    "arr = [\n",
    "\t[1,2,3],\n",
    "\t[4,5,6],\n",
    "\t[7,8,9]\n",
    "      ]\n",
    "# arrays are important for machine learning and image processing\n",
    "# access and element: array_name[row][column]"
   ]
  },
  {
   "cell_type": "code",
   "execution_count": 33,
   "id": "1fe2e44a-deed-4925-bb5a-b2b1436d8ac5",
   "metadata": {},
   "outputs": [
    {
     "name": "stdout",
     "output_type": "stream",
     "text": [
      "Caesar\n"
     ]
    }
   ],
   "source": [
    "menu = ['Starters', ['Salads', ['Caesar', 'Soup'], 'Iron']]\n",
    "caesar = menu[1][1][0]\n",
    "print(caesar)"
   ]
  },
  {
   "cell_type": "markdown",
   "id": "5197033a-6678-4fe5-9c59-81b9197799a3",
   "metadata": {},
   "source": [
    "## List Built-in method"
   ]
  },
  {
   "cell_type": "code",
   "execution_count": 34,
   "id": "1d8579e4-2aed-4b3e-a7a3-19c99683fd81",
   "metadata": {},
   "outputs": [
    {
     "name": "stdout",
     "output_type": "stream",
     "text": [
      "['Starters', ['Salads', ['Caesar', 'Soup'], 'Iron'], 'Foam']\n"
     ]
    }
   ],
   "source": [
    "menu = ['Starters', ['Salads', ['Caesar', 'Soup'], 'Iron']]\n",
    "menu.append('Foam')\n",
    "print(menu)"
   ]
  },
  {
   "cell_type": "code",
   "execution_count": 35,
   "id": "17db3972-f37e-4c9c-8638-10073ff3a672",
   "metadata": {},
   "outputs": [
    {
     "name": "stdout",
     "output_type": "stream",
     "text": [
      "['Starters', ['Salads', ['Caesar', 'Soup'], 'Iron'], 'Foam', 'Mouth_freshner']\n"
     ]
    }
   ],
   "source": [
    "menu.insert(3, 'Mouth_freshner')\n",
    "print(menu)"
   ]
  },
  {
   "cell_type": "code",
   "execution_count": 37,
   "id": "da9dcaa6-f678-4f9d-b754-bf72eaf3342f",
   "metadata": {},
   "outputs": [
    {
     "name": "stdout",
     "output_type": "stream",
     "text": [
      "['Starters', ['Salads', ['Caesar', 'Soup'], 'Iron'], 'Foam', 'Mouth_freshner', 'e', 'l', 'e', 'm', 'e', 'n', 't']\n"
     ]
    }
   ],
   "source": [
    "menu.extend('element')\n",
    "print(menu)"
   ]
  },
  {
   "cell_type": "code",
   "execution_count": 39,
   "id": "0aa5ef2f-dbec-42ff-a0b3-848b97f8feeb",
   "metadata": {},
   "outputs": [
    {
     "name": "stdout",
     "output_type": "stream",
     "text": [
      "[['Salads', ['Caesar', 'Soup'], 'Iron'], 'Foam', 'Mouth_freshner', 'e', 'l', 'e', 'm', 'e', 'n']\n"
     ]
    }
   ],
   "source": [
    "menu.pop()\n",
    "print(menu)"
   ]
  },
  {
   "cell_type": "code",
   "execution_count": 45,
   "id": "59c5d53d-9a0c-4802-b012-fbc5adedd428",
   "metadata": {},
   "outputs": [
    {
     "name": "stdout",
     "output_type": "stream",
     "text": [
      "[['Salads', ['Caesar', 'Soup'], 'Iron'], 'Mouth_freshner', 'e', 'l', 'e', 'm', 'e', 'n']\n"
     ]
    }
   ],
   "source": [
    "menu.remove('Foam')\n",
    "print(menu)"
   ]
  },
  {
   "cell_type": "code",
   "execution_count": 44,
   "id": "2dc68c75-0855-4461-9c41-66703c6bcd10",
   "metadata": {},
   "outputs": [
    {
     "name": "stdout",
     "output_type": "stream",
     "text": [
      "['goat', 'cow', 'dog', 'lion']\n",
      "['tiger', 'goat', 'cow', 'dog', 'lion']\n",
      "['tiger', 'goat', 'cow', 'lion']\n",
      "['tiger', 'goat', 'cow', 'lion', 'g', 'o', 'a', 't']\n",
      "['tiger', 'goat', 'cow', 'lion', 'g', 'o', 'a']\n"
     ]
    }
   ],
   "source": [
    "whatever = ['goat', 'cow', 'dog']\n",
    "whatever.append('lion')\n",
    "print(whatever)\n",
    "whatever.insert(0,'tiger')\n",
    "print(whatever)\n",
    "whatever.remove('dog')\n",
    "print(whatever)\n",
    "whatever.extend('goat')\n",
    "print(whatever)\n",
    "whatever.pop()\n",
    "print(whatever)"
   ]
  },
  {
   "cell_type": "code",
   "execution_count": null,
   "id": "b430e4d9-23c0-4049-8d38-2a9517239cae",
   "metadata": {},
   "outputs": [],
   "source": []
  },
  {
   "cell_type": "markdown",
   "id": "5c73c3d3-479d-433f-a7d3-a3a9b54edb6f",
   "metadata": {},
   "source": [
    "#### Range"
   ]
  },
  {
   "cell_type": "code",
   "execution_count": 46,
   "id": "321fd042-5a92-4eb2-bdac-4da1f63bf331",
   "metadata": {},
   "outputs": [
    {
     "name": "stdout",
     "output_type": "stream",
     "text": [
      "[10, 11, 12, 13, 14, 15, 16, 17, 18, 19]\n"
     ]
    }
   ],
   "source": [
    "print(list(range(10, 20)))"
   ]
  },
  {
   "cell_type": "code",
   "execution_count": 47,
   "id": "addfb79d-fb11-4b3e-8026-051fb78b6828",
   "metadata": {},
   "outputs": [
    {
     "name": "stdout",
     "output_type": "stream",
     "text": [
      "[10, 12, 14, 16, 18]\n"
     ]
    }
   ],
   "source": [
    "print(list(range(10, 20, 2)))"
   ]
  },
  {
   "cell_type": "code",
   "execution_count": null,
   "id": "c8fb1445-4ba3-4df2-b98c-e4bd2cd5f8e1",
   "metadata": {},
   "outputs": [],
   "source": []
  },
  {
   "cell_type": "code",
   "execution_count": null,
   "id": "df2974b8-69a9-4d0e-ae48-5735b4456fa1",
   "metadata": {},
   "outputs": [],
   "source": [
    "list_names = file.png\n",
    "#print(list_name) -> file"
   ]
  },
  {
   "cell_type": "code",
   "execution_count": 51,
   "id": "761d830c-e716-463a-88b6-e771cfde8348",
   "metadata": {},
   "outputs": [
    {
     "name": "stdout",
     "output_type": "stream",
     "text": [
      "filename\n"
     ]
    }
   ],
   "source": [
    "a = 'filename.png'\n",
    "print(a[0:-4])"
   ]
  },
  {
   "cell_type": "code",
   "execution_count": 54,
   "id": "86e7a394-a43d-4daf-84a2-0956bc643328",
   "metadata": {},
   "outputs": [
    {
     "name": "stdout",
     "output_type": "stream",
     "text": [
      "filename\n"
     ]
    }
   ],
   "source": [
    "import os\n",
    "\n",
    "a = 'filename.png'\n",
    "print(os.path.splitext(a)[0])\n"
   ]
  },
  {
   "cell_type": "code",
   "execution_count": 52,
   "id": "2f56af33-2f3c-42b9-87ff-d90655bd9135",
   "metadata": {},
   "outputs": [
    {
     "name": "stdout",
     "output_type": "stream",
     "text": [
      "filename\n"
     ]
    }
   ],
   "source": [
    "file = 'filename.png'\n",
    "file_without_extension = file[:-4]  # Remove the last four characters ('.png')\n",
    "print(file_without_extension)"
   ]
  },
  {
   "cell_type": "code",
   "execution_count": 55,
   "id": "a7b296d9-cad3-4d03-8c27-d92066a482fd",
   "metadata": {},
   "outputs": [
    {
     "name": "stdout",
     "output_type": "stream",
     "text": [
      "1\n",
      "2\n",
      "3\n",
      "[4, 5, 6, 7, 8]\n",
      "9\n"
     ]
    }
   ],
   "source": [
    "a,b,c, *other, d = [1, 2, 3, 4, 5, 6, 7, 8, 9]\n",
    "print(a)\n",
    "print(b)\n",
    "print(c)\n",
    "print(other)\n",
    "print(d)"
   ]
  },
  {
   "cell_type": "code",
   "execution_count": 56,
   "id": "bcd6d78b-74a9-43f2-a7a0-aba36b10ad9e",
   "metadata": {},
   "outputs": [
    {
     "name": "stdout",
     "output_type": "stream",
     "text": [
      "1\n",
      "2\n",
      "3\n",
      "[4, 5, 6, 7, 8, 9]\n"
     ]
    }
   ],
   "source": [
    "a,b,c, *yyy = [1, 2, 3, 4, 5, 6, 7, 8, 9]\n",
    "print(a)\n",
    "print(b)\n",
    "print(c)\n",
    "print(yyy)\n"
   ]
  },
  {
   "cell_type": "code",
   "execution_count": null,
   "id": "aa726976-bda8-493b-a12c-2b3025f75e3c",
   "metadata": {},
   "outputs": [],
   "source": []
  },
  {
   "cell_type": "markdown",
   "id": "881748b9-d893-4fbe-98d2-e4f82d15c932",
   "metadata": {},
   "source": [
    "### Dict data structure"
   ]
  },
  {
   "cell_type": "code",
   "execution_count": 60,
   "id": "a4f1be5b-6ea8-43d5-a6b2-da394558fbf3",
   "metadata": {},
   "outputs": [
    {
     "name": "stdout",
     "output_type": "stream",
     "text": [
      "{'name': 'Alice', 'age': 30, 'hobbies': ['reading', 'travelling'], 'height': 160}\n",
      "{'name': 'Alice', 'hobbies': ['reading', 'travelling'], 'height': 160}\n"
     ]
    }
   ],
   "source": [
    "profile = {'name': 'Alice',\n",
    "          'age': 30,\n",
    "          'hobbies': ['reading','travelling']\n",
    "}\n",
    "profile['height'] = 160\n",
    "print(profile)\n",
    "del profile['age']\n",
    "print(profile)"
   ]
  },
  {
   "cell_type": "code",
   "execution_count": 61,
   "id": "ba38eb7d-c8e7-4f69-8bdc-931d920bc187",
   "metadata": {},
   "outputs": [
    {
     "name": "stdout",
     "output_type": "stream",
     "text": [
      "{'name': 'Alice', 'age': 30, 'hobbies': ['reading', 'travelling'], 'height': 160}\n",
      "{'name': 'Alice', 'hobbies': ['reading', 'travelling'], 'height': 160}\n"
     ]
    }
   ],
   "source": [
    "profile = {'name': 'Alice',\n",
    "          'age': 30,\n",
    "          'hobbies': ['reading','travelling']}\n",
    "profile['height'] = 160\n",
    "print(profile)\n",
    "del profile['age']\n",
    "print(profile)"
   ]
  },
  {
   "cell_type": "code",
   "execution_count": 62,
   "id": "531a4455-ad48-4204-8530-5ffd0f17e510",
   "metadata": {},
   "outputs": [
    {
     "name": "stdout",
     "output_type": "stream",
     "text": [
      "3\n"
     ]
    }
   ],
   "source": [
    "print(len(profile))"
   ]
  },
  {
   "cell_type": "code",
   "execution_count": 63,
   "id": "bc64f96a-eaef-4dad-ad68-476dbe3aab26",
   "metadata": {},
   "outputs": [
    {
     "name": "stdout",
     "output_type": "stream",
     "text": [
      "Alice\n"
     ]
    }
   ],
   "source": [
    "print(profile.get('name'))"
   ]
  },
  {
   "cell_type": "code",
   "execution_count": 65,
   "id": "79fcee41-8f69-4a63-adac-cff0e3b1958c",
   "metadata": {},
   "outputs": [
    {
     "name": "stdout",
     "output_type": "stream",
     "text": [
      "{'name': 'Alice', 'age': 30, 'hobbies': ['reading', 'travelling'], 'namel': 'Alice', 'height': 160}\n",
      "dict_keys(['name', 'hobbies', 'namel', 'height'])\n"
     ]
    }
   ],
   "source": [
    "profile = {'name': 'Alice',\n",
    "          'age': 30,\n",
    "          'hobbies': ['reading','travelling'],\n",
    "           'namel': 'Alice'\n",
    "}\n",
    "profile['height'] = 160\n",
    "print(profile)\n",
    "del profile['age']\n",
    "print(profile.keys())"
   ]
  },
  {
   "cell_type": "code",
   "execution_count": 66,
   "id": "499f00a5-1156-4d0a-b75c-8d8fffcaeef9",
   "metadata": {},
   "outputs": [
    {
     "name": "stdout",
     "output_type": "stream",
     "text": [
      "{'name': 'Alice', 'age': 30, 'hobbies': ['reading', 'travelling'], 'namel': 'Alice', 'height': 160}\n",
      "dict_values(['Alice', ['reading', 'travelling'], 'Alice', 160])\n"
     ]
    }
   ],
   "source": [
    "profile = {'name': 'Alice',\n",
    "          'age': 30,\n",
    "          'hobbies': ['reading','travelling'],\n",
    "           'namel': 'Alice'\n",
    "}\n",
    "profile['height'] = 160\n",
    "print(profile)\n",
    "del profile['age']\n",
    "print(profile.values())"
   ]
  },
  {
   "cell_type": "code",
   "execution_count": null,
   "id": "66024349-9af3-4361-b05b-afdee1aa394c",
   "metadata": {},
   "outputs": [],
   "source": []
  },
  {
   "cell_type": "markdown",
   "id": "0a9340ba-c022-4fbc-a347-1569bbfe650b",
   "metadata": {},
   "source": [
    "## Day 4"
   ]
  },
  {
   "cell_type": "markdown",
   "id": "611ba85b-ae86-460c-8ba5-ab0222a01f84",
   "metadata": {},
   "source": [
    "### Tuple data structure"
   ]
  },
  {
   "cell_type": "code",
   "execution_count": 1,
   "id": "3c48a840-8fa8-43a8-84d4-f3662d13976d",
   "metadata": {},
   "outputs": [
    {
     "name": "stdout",
     "output_type": "stream",
     "text": [
      "[2, 3, 4, 5, 6, 7, 7, 7, 7]\n",
      "{2, 3, 4, 5, 6, 7}\n"
     ]
    }
   ],
   "source": [
    "listl = [2,3,4,5,6,7,7,7,7,]\n",
    "setl = set(listl)\n",
    "print(listl)\n",
    "print(setl)"
   ]
  },
  {
   "cell_type": "code",
   "execution_count": 2,
   "id": "d3e20667-20ce-426c-981e-a925e31dfc79",
   "metadata": {},
   "outputs": [
    {
     "name": "stdout",
     "output_type": "stream",
     "text": [
      "[2, 3, 4, 5, 6, 7, 7, 7, 7]\n",
      "{2, 3, 4, 5, 6, 7}\n",
      "(2, 3, 4, 5, 6, 7, 8, 9, 9, 9, 9)\n"
     ]
    }
   ],
   "source": [
    "listl = [2,3,4,5,6,7,7,7,7,]\n",
    "setl = set(listl)\n",
    "print(listl)\n",
    "print(setl)\n",
    "tuplel = (2,3,4,5,6,7,8,9,9,9,9)\n",
    "print(tuplel)"
   ]
  },
  {
   "cell_type": "code",
   "execution_count": 5,
   "id": "7f9ee2f1-545a-4e05-979d-633e584af1e5",
   "metadata": {},
   "outputs": [
    {
     "name": "stdout",
     "output_type": "stream",
     "text": [
      "[2, 1, 4, 5, 6, 7, 7, 7, 7]\n"
     ]
    }
   ],
   "source": [
    "listl[1] = 1\n",
    "\n",
    "print(listl)\n"
   ]
  },
  {
   "cell_type": "code",
   "execution_count": 8,
   "id": "28e5ffb7-9d74-4b93-a7f6-a02db4fd4e0c",
   "metadata": {},
   "outputs": [
    {
     "name": "stdout",
     "output_type": "stream",
     "text": [
      "[2, 3, 4, 5, 6, 7, 7, 7, 7]\n",
      "{2, 3, 4, 5}\n",
      "{'a': 5}\n"
     ]
    }
   ],
   "source": [
    "listl = [2,3,4,5,6,7,7,7,7,]\n",
    "dictl = {'a' : 5}\n",
    "setl = {2,3,4,5,5,5,5}\n",
    "tuplel = (2,3,4,5,6,7,8,9,9,9,9)\n",
    "print(listl)\n",
    "print(setl)\n",
    "print(dictl)"
   ]
  },
  {
   "cell_type": "markdown",
   "id": "9d4687ba-ba3a-4360-a229-a066a4d3c159",
   "metadata": {},
   "source": [
    "### Logical operators and conditional statements"
   ]
  },
  {
   "cell_type": "code",
   "execution_count": null,
   "id": "94ebb4c9-7f54-4266-b3b7-ef7440e0e074",
   "metadata": {},
   "outputs": [],
   "source": [
    "# Relation operation\n",
    "# use to compare two values\n",
    "# return bool i.e False or True\n",
    "\n",
    "\n"
   ]
  },
  {
   "cell_type": "code",
   "execution_count": 9,
   "id": "7757ed07-6cd2-49b2-b563-4176bbc740d6",
   "metadata": {},
   "outputs": [
    {
     "name": "stdout",
     "output_type": "stream",
     "text": [
      "False\n"
     ]
    }
   ],
   "source": [
    "print(5 == 6)"
   ]
  },
  {
   "cell_type": "code",
   "execution_count": 10,
   "id": "5d1d7166-ea4e-4d92-9401-3c68892a5c93",
   "metadata": {},
   "outputs": [
    {
     "name": "stdout",
     "output_type": "stream",
     "text": [
      "welcome to vip lounge!\n",
      "This will be always executed\n"
     ]
    }
   ],
   "source": [
    "is_member = True\n",
    "if is_member:\n",
    "    print('welcome to vip lounge!')\n",
    "print('This will be always executed')"
   ]
  },
  {
   "cell_type": "code",
   "execution_count": 11,
   "id": "2e30fd55-0c0c-4e11-9099-5818dac490bf",
   "metadata": {},
   "outputs": [
    {
     "name": "stdout",
     "output_type": "stream",
     "text": [
      "This will be always executed\n"
     ]
    }
   ],
   "source": [
    "is_member = False\n",
    "if is_member:\n",
    "    print('welcome to vip lounge!')\n",
    "print('This will be always executed')"
   ]
  },
  {
   "cell_type": "code",
   "execution_count": null,
   "id": "84627d42-e54b-43b5-a63a-b37eac8ae0a0",
   "metadata": {},
   "outputs": [],
   "source": [
    "# the if and else statement"
   ]
  },
  {
   "cell_type": "code",
   "execution_count": 13,
   "id": "e2c152a5-f57e-423a-98fe-7fb21e86138c",
   "metadata": {},
   "outputs": [
    {
     "name": "stdout",
     "output_type": "stream",
     "text": [
      "This is else statement\n",
      "This will be always executed\n"
     ]
    }
   ],
   "source": [
    "is_member = False\n",
    "if is_member:\n",
    "    print('welcome to vip lounge!')\n",
    "else:\n",
    "    print('This is else statement')\n",
    "    print('This will be always executed')"
   ]
  },
  {
   "cell_type": "code",
   "execution_count": 14,
   "id": "45cb10c4-b0b3-46f6-babd-b6da46590fba",
   "metadata": {},
   "outputs": [
    {
     "name": "stdout",
     "output_type": "stream",
     "text": [
      "A is itself 0\n"
     ]
    }
   ],
   "source": [
    "# if, elif and else statement\n",
    "a = 0\n",
    "if a > 0:\n",
    "    print('A is greater than 0')\n",
    "elif a < 0:\n",
    "    print('A is less than 0')\n",
    "else:\n",
    "    print('A is itself 0')"
   ]
  },
  {
   "cell_type": "code",
   "execution_count": 16,
   "id": "4f54c99d-ebce-4cb0-b32a-95a80c8b5be4",
   "metadata": {},
   "outputs": [
    {
     "name": "stdout",
     "output_type": "stream",
     "text": [
      "Yes\n"
     ]
    }
   ],
   "source": [
    "5 == 3\n",
    "if 5 > 3:\n",
    "    print('Yes')\n",
    "else:\n",
    "    print('No')"
   ]
  },
  {
   "cell_type": "code",
   "execution_count": null,
   "id": "0550aa7e-e20e-4c00-b4f4-f632dce239be",
   "metadata": {},
   "outputs": [],
   "source": [
    "take int value from user and check if it is even number"
   ]
  },
  {
   "cell_type": "code",
   "execution_count": 26,
   "id": "4ac60c82-1760-4668-b199-22f480ae1853",
   "metadata": {},
   "outputs": [
    {
     "name": "stdout",
     "output_type": "stream",
     "text": [
      "Input for number l: 5\n",
      "Input for number 2: 6\n",
      "select l for + 2 for -3 for * and 4 for / : 4\n"
     ]
    },
    {
     "name": "stdout",
     "output_type": "stream",
     "text": [
      "Choice selection was not proper, do it again!\n"
     ]
    }
   ],
   "source": [
    "inputl = input('Input for number l:')\n",
    "input2 = input('Input for number 2:')\n",
    "input3 = input('select l for + 2 for -3 for * and 4 for / :')\n",
    "\n",
    "if input3 == 1:\n",
    "    print('additional of Numbers is :', input1+input2)\n",
    "elif input3 == 2:\n",
    "     print('substraction of Numbers is :', input1+input2)\n",
    "elif input3 == 3:\n",
    "     print('Multiplication of Numbers is :', input1+input2)\n",
    "elif input3 == 4:\n",
    "     print('Division of Numbers is :', input1+input2)\n",
    "else:\n",
    "    print('Choice selection was not proper, do it again!')\n",
    "    \n",
    "    \n"
   ]
  },
  {
   "cell_type": "code",
   "execution_count": null,
   "id": "c8fc6634-e6fb-4d47-9c6d-1e139ad1a2dc",
   "metadata": {},
   "outputs": [],
   "source": []
  },
  {
   "cell_type": "code",
   "execution_count": 29,
   "id": "efb61fcf-ebff-4978-8939-f8248c6fac5a",
   "metadata": {},
   "outputs": [
    {
     "name": "stdout",
     "output_type": "stream",
     "text": [
      "Both are true\n"
     ]
    }
   ],
   "source": [
    "a = 5\n",
    "b = 3\n",
    "if a==5 and b==3:\n",
    "    print('Both are true')\n",
    "elif a==5 or b==3:\n",
    "    print('Atleast of them is true')\n",
    "else:\n",
    "    print('None of the condition is true')"
   ]
  },
  {
   "cell_type": "code",
   "execution_count": 30,
   "id": "aa9ed9f5-e050-40bc-958d-b7e1061e21be",
   "metadata": {},
   "outputs": [
    {
     "name": "stdout",
     "output_type": "stream",
     "text": [
      "Atleast of them is true\n"
     ]
    }
   ],
   "source": [
    "a = 7\n",
    "b = 3\n",
    "if a==5 and b==3:\n",
    "    print('Both are true')\n",
    "elif a==5 or b==3:\n",
    "    print('Atleast of them is true')\n",
    "else:\n",
    "    print('None of the condition is true')"
   ]
  },
  {
   "cell_type": "code",
   "execution_count": 31,
   "id": "1709bae4-9909-4456-900e-679bc10405a6",
   "metadata": {},
   "outputs": [
    {
     "name": "stdout",
     "output_type": "stream",
     "text": [
      "Both are true\n",
      "value 7 is in list\n"
     ]
    }
   ],
   "source": [
    "a = 5\n",
    "b = 3\n",
    "if a==5 and b==3:\n",
    "    print('Both are true')\n",
    "elif a==5 or b==3:\n",
    "    print('Atleast of them is true')\n",
    "else:\n",
    "    print('None of the condition is true')\n",
    "listl = [2,3,4,5,6,7]\n",
    "if 7 in listl:\n",
    "    print('value 7 is in list')\n",
    "elif 7 not in listl:\n",
    "    print('Value 7 not in the list')\n",
    "else:\n",
    "    print('Else condition executed')"
   ]
  },
  {
   "cell_type": "code",
   "execution_count": 33,
   "id": "8bdf1da6-fa29-4587-a75f-644ab10a24c5",
   "metadata": {},
   "outputs": [
    {
     "name": "stdout",
     "output_type": "stream",
     "text": [
      "False\n"
     ]
    }
   ],
   "source": [
    "print('a' in 'qwertyuopj')"
   ]
  },
  {
   "cell_type": "code",
   "execution_count": 34,
   "id": "4900f651-6da7-48d3-bf51-9e2ac7c9404a",
   "metadata": {},
   "outputs": [
    {
     "name": "stdout",
     "output_type": "stream",
     "text": [
      "True\n"
     ]
    }
   ],
   "source": [
    "print('t' in 'qwertyuopj')"
   ]
  },
  {
   "cell_type": "code",
   "execution_count": 2,
   "id": "c5c935f0-28aa-4964-bfd1-21a8dac12f00",
   "metadata": {},
   "outputs": [
    {
     "name": "stdout",
     "output_type": "stream",
     "text": [
      "red paint\n",
      "blue paint\n",
      "green paint\n",
      "yellow paint\n",
      "orange paint\n"
     ]
    }
   ],
   "source": [
    "colors = [\"red\", \"blue\", \"green\", \"yellow\", \"orange\"]\n",
    "for color in colors:\n",
    "    print(color + \" \" + \"paint\")\n",
    "    "
   ]
  },
  {
   "cell_type": "code",
   "execution_count": 5,
   "id": "4cfe0e56-dd61-4bb5-a792-971b2e014284",
   "metadata": {},
   "outputs": [
    {
     "name": "stdout",
     "output_type": "stream",
     "text": [
      "2\n",
      "4\n",
      "6\n",
      "8\n"
     ]
    }
   ],
   "source": [
    "for i in range(2, 10, 2):\n",
    "    print(i)"
   ]
  },
  {
   "cell_type": "code",
   "execution_count": 6,
   "id": "d95ba3aa-b78a-4050-af4b-f7988c98ea39",
   "metadata": {},
   "outputs": [
    {
     "name": "stdout",
     "output_type": "stream",
     "text": [
      "E\n",
      "v\n",
      "e\n",
      "r\n",
      "y\n",
      " \n",
      "c\n",
      "h\n",
      "a\n",
      "r\n",
      "a\n",
      "c\n",
      "t\n",
      "e\n",
      "r\n",
      " \n",
      "o\n",
      "f\n",
      " \n",
      "s\n",
      "t\n",
      "r\n",
      "i\n",
      "n\n",
      "g\n",
      " \n",
      "o\n",
      "n\n",
      "e\n",
      " \n",
      "b\n",
      "y\n",
      " \n",
      "o\n",
      "n\n",
      "e\n"
     ]
    }
   ],
   "source": [
    "for a in \"Every character of string one by one\":\n",
    "    print(a)"
   ]
  },
  {
   "cell_type": "code",
   "execution_count": 7,
   "id": "5795bd28-0cd2-4969-ba86-eee75584dd20",
   "metadata": {},
   "outputs": [
    {
     "name": "stdout",
     "output_type": "stream",
     "text": [
      "Every character of string one by one"
     ]
    }
   ],
   "source": [
    "for a in \"Every character of string one by one\":\n",
    "    print(a, end=\"\")"
   ]
  },
  {
   "cell_type": "code",
   "execution_count": null,
   "id": "dffa8f95-0622-4b16-823a-4df2071e984d",
   "metadata": {},
   "outputs": [],
   "source": [
    "1\n",
    "1 1\n",
    "1 1 1\n",
    "1 1 1 1\n",
    "1 1 1 1 1"
   ]
  },
  {
   "cell_type": "code",
   "execution_count": 15,
   "id": "f4d415cf-7f07-4ebc-93ec-2fc83f04a75c",
   "metadata": {},
   "outputs": [
    {
     "name": "stdout",
     "output_type": "stream",
     "text": [
      "* \n",
      "* * \n",
      "* * * \n",
      "* * * * \n",
      "* * * * * \n"
     ]
    }
   ],
   "source": [
    "for i in range(1,6):\n",
    "    for j in range(1, i+1):\n",
    "        print(\"*\", end=\" \")\n",
    "    print()"
   ]
  },
  {
   "cell_type": "code",
   "execution_count": 21,
   "id": "b76d832f-fdd6-4c27-9e4d-f500dd4a5eb9",
   "metadata": {},
   "outputs": [
    {
     "name": "stdout",
     "output_type": "stream",
     "text": [
      "1 *\n",
      "1 1 *\n",
      "1 1 1 *\n",
      "1 1 1 1 *\n",
      "1 1 1 1 1 *\n"
     ]
    }
   ],
   "source": [
    "for i in range(1,6):\n",
    "    for j in range(1, i+1):\n",
    "        print(\"1\", end=\" \")\n",
    "    print(\"*\")"
   ]
  },
  {
   "cell_type": "code",
   "execution_count": 23,
   "id": "61405823-b770-4a96-a4f2-6c46b2c5ebcc",
   "metadata": {},
   "outputs": [
    {
     "name": "stdout",
     "output_type": "stream",
     "text": [
      "    *\n",
      "   **\n",
      "  ***\n",
      " ****\n",
      "*****\n"
     ]
    }
   ],
   "source": [
    "for i in range(1, 6):\n",
    "    print(' ' *(5-i) + '*' * i)"
   ]
  },
  {
   "cell_type": "code",
   "execution_count": 25,
   "id": "3fa35161-efb1-4321-8b79-c071bbdddc91",
   "metadata": {},
   "outputs": [
    {
     "name": "stdout",
     "output_type": "stream",
     "text": [
      " .  .  .  .  . 1 I value\n",
      " .  .  .  .  . 2 I value\n",
      " .  .  .  .  . 3 I value\n",
      " .  .  .  .  . 4 I value\n",
      " .  .  .  .  . 5 I value\n"
     ]
    }
   ],
   "source": [
    "for i in range(1, 6):\n",
    "    for j in range(1, 6):\n",
    "        print(\" . \", end=\"\")\n",
    "    print(str(i) + \" \" + \"I value\")"
   ]
  },
  {
   "cell_type": "code",
   "execution_count": 39,
   "id": "622c4b4d-c834-4f04-ac16-009beb1049c2",
   "metadata": {},
   "outputs": [
    {
     "name": "stdout",
     "output_type": "stream",
     "text": [
      "      \n",
      "     * \n",
      "    * * \n",
      "   * * * \n",
      "  * * * * \n",
      " * * * * * \n"
     ]
    }
   ],
   "source": [
    "for i in range(6):\n",
    "    print(' ' * (5-i), end= ' ')\n",
    "    for j in range(1, i + 1):\n",
    "        print('*', end= ' ')\n",
    "    print()"
   ]
  },
  {
   "cell_type": "code",
   "execution_count": 31,
   "id": "e6113317-36f2-4007-abf7-072d17d3f925",
   "metadata": {},
   "outputs": [
    {
     "name": "stdout",
     "output_type": "stream",
     "text": [
      "      \n",
      "     *\n",
      "    **\n",
      "   ***\n",
      "  ****\n",
      " *****\n"
     ]
    }
   ],
   "source": [
    "for i in range(6):\n",
    "    print(' ' * (5-i), end = ' ')\n",
    "    for j in range(1, i + 1):\n",
    "        print('*', end = '')\n",
    "    print()"
   ]
  },
  {
   "cell_type": "markdown",
   "id": "12c187f2-d0fa-40ab-b301-ca265a5a47ce",
   "metadata": {},
   "source": [
    "print values from 1 to 10, if number is from 1,3,5,7,9, \"1 is odd number , 3 is odd number..... \"2 is even  4 is even, for loop + if else"
   ]
  },
  {
   "cell_type": "code",
   "execution_count": 1,
   "id": "448239fe-db65-42d7-9b08-37a5a1c3453b",
   "metadata": {},
   "outputs": [
    {
     "name": "stdout",
     "output_type": "stream",
     "text": [
      "1 is an odd number\n",
      "2 is an even number\n",
      "3 is an odd number\n",
      "4 is an even number\n",
      "5 is an odd number\n",
      "6 is an even number\n",
      "7 is an odd number\n",
      "8 is an even number\n",
      "9 is an odd number\n"
     ]
    }
   ],
   "source": [
    "for j in range(1, 10):\n",
    "    if j % 2 == 0:\n",
    "        print(f\"{j} is an even number\")\n",
    "    else:\n",
    "        print(f\"{j} is an odd number\")\n"
   ]
  },
  {
   "cell_type": "code",
   "execution_count": 2,
   "id": "950cedb3-988d-40ff-bf10-ec96b933fff9",
   "metadata": {},
   "outputs": [
    {
     "name": "stdout",
     "output_type": "stream",
     "text": [
      "1 number\n",
      "2 number\n",
      "3 number\n",
      "4 number\n",
      "5 number\n",
      "6 number\n",
      "7 number\n",
      "8 number\n",
      "9 number\n",
      "10 number\n",
      "11 number\n",
      "12 number\n",
      "13 number\n",
      "14 number\n",
      "15 number\n",
      "16 number\n",
      "17 number\n",
      "18 number\n",
      "19 number\n",
      "20 number\n",
      "21 number\n",
      "22 number\n",
      "23 number\n",
      "24 number\n",
      "25 number\n",
      "26 number\n",
      "27 number\n",
      "28 number\n",
      "29 number\n",
      "30 number\n",
      "31 number\n",
      "32 number\n",
      "33 number\n",
      "34 number\n",
      "35 number\n",
      "36 number\n",
      "37 number\n",
      "38 number\n",
      "39 number\n",
      "40 number\n",
      "41 number\n",
      "42 number\n",
      "43 number\n",
      "44 number\n",
      "45 number\n",
      "46 number\n",
      "47 number\n",
      "48 number\n",
      "49 number\n"
     ]
    }
   ],
   "source": [
    "for j in range(1, 100):\n",
    "    if j == 50:\n",
    "        break\n",
    "        \n",
    "    else:\n",
    "        print(f\"{j} number\")\n"
   ]
  },
  {
   "cell_type": "code",
   "execution_count": 46,
   "id": "6e9adf57-2c4a-4633-8364-0b6aafeca2d8",
   "metadata": {},
   "outputs": [
    {
     "name": "stdout",
     "output_type": "stream",
     "text": [
      "1 number\n",
      "2 number\n",
      "3 number\n",
      "4 number\n",
      "5 number\n",
      "6 number\n",
      "7 number\n",
      "8 number\n",
      "9 number\n",
      "10 number\n",
      "11 number\n",
      "12 number\n",
      "13 number\n",
      "14 number\n",
      "15 number\n",
      "16 number\n",
      "17 number\n",
      "18 number\n",
      "19 number\n",
      "20 number\n",
      "21 number\n",
      "22 number\n",
      "23 number\n",
      "24 number\n",
      "25 number\n",
      "26 number\n",
      "27 number\n",
      "28 number\n",
      "29 number\n",
      "30 number\n",
      "31 number\n",
      "32 number\n",
      "33 number\n",
      "34 number\n",
      "35 number\n",
      "36 number\n",
      "37 number\n",
      "38 number\n",
      "39 number\n",
      "40 number\n",
      "41 number\n",
      "42 number\n",
      "43 number\n",
      "44 number\n",
      "45 number\n",
      "46 number\n",
      "47 number\n",
      "48 number\n",
      "49 number\n",
      "Value 50 encountered\n",
      "51 number\n",
      "52 number\n",
      "53 number\n",
      "54 number\n",
      "55 number\n",
      "56 number\n",
      "57 number\n",
      "58 number\n",
      "59 number\n",
      "60 number\n",
      "61 number\n",
      "62 number\n",
      "63 number\n",
      "64 number\n",
      "65 number\n",
      "66 number\n",
      "67 number\n",
      "68 number\n",
      "69 number\n",
      "70 number\n",
      "71 number\n",
      "72 number\n",
      "73 number\n",
      "74 number\n",
      "75 number\n",
      "76 number\n",
      "77 number\n",
      "78 number\n",
      "79 number\n",
      "80 number\n",
      "81 number\n",
      "82 number\n",
      "83 number\n",
      "84 number\n",
      "85 number\n",
      "86 number\n",
      "87 number\n",
      "88 number\n",
      "89 number\n",
      "90 number\n",
      "91 number\n",
      "92 number\n",
      "93 number\n",
      "94 number\n",
      "95 number\n",
      "96 number\n",
      "97 number\n",
      "98 number\n",
      "99 number\n"
     ]
    }
   ],
   "source": [
    "for j in range(1, 100):\n",
    "    if j == 50:\n",
    "        print(\"Value 50 encountered\")\n",
    "        continue\n",
    "        \n",
    "    else:\n",
    "        print(f\"{j} number\")\n"
   ]
  },
  {
   "cell_type": "markdown",
   "id": "3871d540-a61f-44a1-a5ab-80758b79b412",
   "metadata": {},
   "source": [
    "write down name of user from input unless user says to 'stop'"
   ]
  },
  {
   "cell_type": "code",
   "execution_count": 3,
   "id": "7adb5a5a-c2d7-4a68-9a1e-2944f933f909",
   "metadata": {},
   "outputs": [
    {
     "name": "stdout",
     "output_type": "stream",
     "text": [
      "Hello  12\n",
      "Hello  23\n",
      "Hello  6\n"
     ]
    }
   ],
   "source": [
    "for i in range(1, 50):\n",
    "    name = input(\"Enter the name: \")\n",
    "    if name == \"stop\":\n",
    "        break\n",
    "    else:\n",
    "        print(\"Hello \", name)"
   ]
  },
  {
   "cell_type": "markdown",
   "id": "195903a6-cf5d-46ba-b806-2f23494fd8f4",
   "metadata": {},
   "source": [
    "#### While loops can run infinitely"
   ]
  },
  {
   "cell_type": "code",
   "execution_count": 4,
   "id": "c0d15e44-e233-4d5c-a31f-b1ffda26717e",
   "metadata": {},
   "outputs": [
    {
     "name": "stdout",
     "output_type": "stream",
     "text": [
      "Hello  segun\n",
      "Hello  kunle\n",
      "Hello  wale\n"
     ]
    }
   ],
   "source": [
    "while True:\n",
    "    name = input(\"Enter the name: \")\n",
    "    if name == \"Raji\":\n",
    "        break\n",
    "    else:\n",
    "        print(\"Hello \", name)"
   ]
  },
  {
   "cell_type": "code",
   "execution_count": 53,
   "id": "fab846e4-a2d3-4ae1-ab65-1faa41ae010e",
   "metadata": {},
   "outputs": [
    {
     "name": "stdout",
     "output_type": "stream",
     "text": [
      "Enter the name:  jide\n"
     ]
    },
    {
     "name": "stdout",
     "output_type": "stream",
     "text": [
      "Hello  jide\n",
      "Value of a : 10\n"
     ]
    },
    {
     "name": "stdout",
     "output_type": "stream",
     "text": [
      "Enter the name:  12\n"
     ]
    },
    {
     "name": "stdout",
     "output_type": "stream",
     "text": [
      "Hello  12\n",
      "Value of a : 9\n"
     ]
    },
    {
     "name": "stdout",
     "output_type": "stream",
     "text": [
      "Enter the name:  8\n"
     ]
    },
    {
     "name": "stdout",
     "output_type": "stream",
     "text": [
      "Hello  8\n",
      "Value of a : 8\n"
     ]
    },
    {
     "name": "stdout",
     "output_type": "stream",
     "text": [
      "Enter the name:  7\n"
     ]
    },
    {
     "name": "stdout",
     "output_type": "stream",
     "text": [
      "Hello  7\n",
      "Value of a : 7\n"
     ]
    },
    {
     "name": "stdout",
     "output_type": "stream",
     "text": [
      "Enter the name:  5\n"
     ]
    },
    {
     "name": "stdout",
     "output_type": "stream",
     "text": [
      "Hello  5\n",
      "Value of a : 6\n"
     ]
    },
    {
     "name": "stdout",
     "output_type": "stream",
     "text": [
      "Enter the name:  4\n"
     ]
    },
    {
     "name": "stdout",
     "output_type": "stream",
     "text": [
      "Hello  4\n",
      "Value of a : 5\n"
     ]
    },
    {
     "name": "stdout",
     "output_type": "stream",
     "text": [
      "Enter the name:  4\n"
     ]
    },
    {
     "name": "stdout",
     "output_type": "stream",
     "text": [
      "Hello  4\n",
      "Value of a : 4\n"
     ]
    },
    {
     "name": "stdout",
     "output_type": "stream",
     "text": [
      "Enter the name:  4\n"
     ]
    },
    {
     "name": "stdout",
     "output_type": "stream",
     "text": [
      "Hello  4\n",
      "Value of a : 3\n"
     ]
    },
    {
     "name": "stdout",
     "output_type": "stream",
     "text": [
      "Enter the name:  4\n"
     ]
    },
    {
     "name": "stdout",
     "output_type": "stream",
     "text": [
      "Hello  4\n",
      "Value of a : 2\n"
     ]
    },
    {
     "name": "stdout",
     "output_type": "stream",
     "text": [
      "Enter the name:  4\n"
     ]
    },
    {
     "name": "stdout",
     "output_type": "stream",
     "text": [
      "Hello  4\n",
      "Value of a : 1\n"
     ]
    }
   ],
   "source": [
    "a=10\n",
    "while (a>0):\n",
    "    name = input(\"Enter the name: \")\n",
    "    if name == \"stop\":\n",
    "        break\n",
    "    else:\n",
    "        print(\"Hello \", name)\n",
    "        print(\"Value of a :\",a)\n",
    "        a=a-1"
   ]
  },
  {
   "cell_type": "code",
   "execution_count": 54,
   "id": "e29f3fa7-8051-4343-95d0-86faa633ddf5",
   "metadata": {},
   "outputs": [
    {
     "name": "stdout",
     "output_type": "stream",
     "text": [
      "Enter the name:  12\n"
     ]
    },
    {
     "name": "stdout",
     "output_type": "stream",
     "text": [
      "Hello  12\n",
      "Value of a : 10\n"
     ]
    },
    {
     "name": "stdout",
     "output_type": "stream",
     "text": [
      "Enter the name:  11\n"
     ]
    },
    {
     "name": "stdout",
     "output_type": "stream",
     "text": [
      "Hello  11\n",
      "Value of a : 10\n"
     ]
    },
    {
     "name": "stdout",
     "output_type": "stream",
     "text": [
      "Enter the name:  4\n"
     ]
    },
    {
     "name": "stdout",
     "output_type": "stream",
     "text": [
      "Hello  4\n",
      "Value of a : 10\n"
     ]
    },
    {
     "name": "stdout",
     "output_type": "stream",
     "text": [
      "Enter the name:  10\n"
     ]
    },
    {
     "name": "stdout",
     "output_type": "stream",
     "text": [
      "Hello  10\n",
      "Value of a : 10\n"
     ]
    },
    {
     "name": "stdout",
     "output_type": "stream",
     "text": [
      "Enter the name:  stop\n"
     ]
    }
   ],
   "source": [
    "a=10\n",
    "while (a>0):\n",
    "    name = input(\"Enter the name: \")\n",
    "    if name == \"stop\":\n",
    "        break\n",
    "    else:\n",
    "        print(\"Hello \", name)\n",
    "        print(\"Value of a :\",a)\n",
    "        "
   ]
  },
  {
   "cell_type": "code",
   "execution_count": null,
   "id": "0b1044bc-3433-4adf-9f61-f3e643e7b212",
   "metadata": {},
   "outputs": [],
   "source": []
  },
  {
   "cell_type": "code",
   "execution_count": 61,
   "id": "487542a9-303a-41f1-a642-2a02d3d567d8",
   "metadata": {},
   "outputs": [
    {
     "name": "stdout",
     "output_type": "stream",
     "text": [
      "   Name  Age Favorite Color\n",
      "0  John   28           Blue\n",
      "1   Doe   34          Green\n",
      "2  Jane   29            Red\n",
      "3   Bob   35         Yellow\n"
     ]
    }
   ],
   "source": [
    "import pandas as pd\n",
    "\n",
    "# Example of survey data collection\n",
    "survey_data = {\n",
    "    'Name': ['John', 'Doe', 'Jane', 'Bob'],\n",
    "    'Age': [28, 34, 29, 35],\n",
    "    'Favorite Color': ['Blue', 'Green', 'Red', 'Yellow']\n",
    "}\n",
    "df_survey = pd.DataFrame(survey_data)\n",
    "print(df_survey)"
   ]
  },
  {
   "cell_type": "code",
   "execution_count": 5,
   "id": "eab088cb-518a-4538-9dce-4780d5499b5c",
   "metadata": {},
   "outputs": [
    {
     "name": "stdout",
     "output_type": "stream",
     "text": [
      "   Name  Age Favorite Color Nitionality  Gender\n",
      "0  John   28           Blue     Germany    Male\n",
      "1   Doe   34          Green        Togo  Female\n",
      "2  Jane   29            Red      Nigeri    Male\n",
      "3   Bob   35         Yellow         USA    Male\n"
     ]
    }
   ],
   "source": [
    "import pandas as pd\n",
    "survey_data = {\n",
    "    'Name': ['John', 'Doe', 'Jane', 'Bob'],\n",
    "    'Age': [28, 34, 29, 35],\n",
    "    'Favorite Color': ['Blue', 'Green', 'Red', 'Yellow'],\n",
    "    'Nitionality': ['Germany', 'Togo', 'Nigeri', 'USA'],\n",
    "    'Gender': ['Male', 'Female', 'Male', 'Male']\n",
    "}\n",
    "df_survey = pd.DataFrame(survey_data)\n",
    "print(df_survey)"
   ]
  },
  {
   "cell_type": "code",
   "execution_count": 2,
   "id": "9d8fc3bf",
   "metadata": {},
   "outputs": [],
   "source": [
    "### 6 Time-Saving Pandas Functions for Data Cleaning DataAnalytics \n",
    "\n",
    "### 1. .dropna(): Remove missing values\n",
    "\n",
    "### 2. .fillna(): Fill missing values. Replace NaNs with specific values or methods like ‘ffill’ (forward fill) or ‘bfill’ (backward fill).\n",
    "\n",
    "### 3. .replace(): Swap out unwanted values \n",
    "\n",
    "### 4. .duplicated() & .drop_duplicates(): Detect and eliminate duplicates.\n",
    "\n",
    "### 5. .astype(): Convert data types, i.e. from string to integer\n",
    "\n",
    "### 6. .query(): Filter your data using SQL-like syntax."
   ]
  },
  {
   "cell_type": "code",
   "execution_count": 2,
   "id": "9f1666e3-bb6a-40d9-9245-53f064a0216d",
   "metadata": {},
   "outputs": [
    {
     "name": "stdout",
     "output_type": "stream",
     "text": [
      "   Name   Age  Gender  Salary   ID\n",
      "0  John  28.0    Male  3000.0  A01\n",
      "1  Jane  22.0  Female  3200.0  A02\n",
      "2   Tom   NaN    Male     NaN  A03\n",
      "3  Jake  35.0    Male  4000.0  A03\n",
      "4  None  40.0    None     NaN  A05\n",
      "5  Jake  35.0    Male  4000.0  A03\n"
     ]
    }
   ],
   "source": [
    "import pandas as pd\n",
    "import numpy as np\n",
    "\n",
    "# sample data\n",
    "df = pd.DataFrame({\n",
    "    'Name': ['John', 'Jane', 'Tom', 'Jake', None, 'Jake'],\n",
    "    'Age': [28, 22, None, 35, 40, 35],\n",
    "    'Gender': ['Male', 'Female', 'Male', 'Male', None, 'Male'],\n",
    "    'Salary': [3000, 3200, None, 4000, None, 4000],\n",
    "    'ID': ['A01', 'A02', 'A03', 'A03', 'A05', 'A03']\n",
    "})\n",
    "print(df)"
   ]
  },
  {
   "cell_type": "code",
   "execution_count": 3,
   "id": "245d8d56-8584-460c-935a-4f74a8fe4b30",
   "metadata": {},
   "outputs": [
    {
     "data": {
      "text/html": [
       "<div>\n",
       "<style scoped>\n",
       "    .dataframe tbody tr th:only-of-type {\n",
       "        vertical-align: middle;\n",
       "    }\n",
       "\n",
       "    .dataframe tbody tr th {\n",
       "        vertical-align: top;\n",
       "    }\n",
       "\n",
       "    .dataframe thead th {\n",
       "        text-align: right;\n",
       "    }\n",
       "</style>\n",
       "<table border=\"1\" class=\"dataframe\">\n",
       "  <thead>\n",
       "    <tr style=\"text-align: right;\">\n",
       "      <th></th>\n",
       "      <th>Name</th>\n",
       "      <th>Age</th>\n",
       "      <th>Gender</th>\n",
       "      <th>Salary</th>\n",
       "      <th>ID</th>\n",
       "    </tr>\n",
       "  </thead>\n",
       "  <tbody>\n",
       "    <tr>\n",
       "      <th>0</th>\n",
       "      <td>John</td>\n",
       "      <td>28.0</td>\n",
       "      <td>Male</td>\n",
       "      <td>3000.0</td>\n",
       "      <td>A01</td>\n",
       "    </tr>\n",
       "    <tr>\n",
       "      <th>1</th>\n",
       "      <td>Jane</td>\n",
       "      <td>22.0</td>\n",
       "      <td>Female</td>\n",
       "      <td>3200.0</td>\n",
       "      <td>A02</td>\n",
       "    </tr>\n",
       "    <tr>\n",
       "      <th>3</th>\n",
       "      <td>Jake</td>\n",
       "      <td>35.0</td>\n",
       "      <td>Male</td>\n",
       "      <td>4000.0</td>\n",
       "      <td>A03</td>\n",
       "    </tr>\n",
       "    <tr>\n",
       "      <th>5</th>\n",
       "      <td>Jake</td>\n",
       "      <td>35.0</td>\n",
       "      <td>Male</td>\n",
       "      <td>4000.0</td>\n",
       "      <td>A03</td>\n",
       "    </tr>\n",
       "  </tbody>\n",
       "</table>\n",
       "</div>"
      ],
      "text/plain": [
       "   Name   Age  Gender  Salary   ID\n",
       "0  John  28.0    Male  3000.0  A01\n",
       "1  Jane  22.0  Female  3200.0  A02\n",
       "3  Jake  35.0    Male  4000.0  A03\n",
       "5  Jake  35.0    Male  4000.0  A03"
      ]
     },
     "execution_count": 3,
     "metadata": {},
     "output_type": "execute_result"
    }
   ],
   "source": [
    "# dropna() - Remove missing values\n",
    "df_dropped = df.dropna()\n",
    "df_dropped"
   ]
  },
  {
   "cell_type": "code",
   "execution_count": 4,
   "id": "311a3272-97c1-4e41-bb1b-c5ce766e88be",
   "metadata": {},
   "outputs": [
    {
     "data": {
      "text/html": [
       "<div>\n",
       "<style scoped>\n",
       "    .dataframe tbody tr th:only-of-type {\n",
       "        vertical-align: middle;\n",
       "    }\n",
       "\n",
       "    .dataframe tbody tr th {\n",
       "        vertical-align: top;\n",
       "    }\n",
       "\n",
       "    .dataframe thead th {\n",
       "        text-align: right;\n",
       "    }\n",
       "</style>\n",
       "<table border=\"1\" class=\"dataframe\">\n",
       "  <thead>\n",
       "    <tr style=\"text-align: right;\">\n",
       "      <th></th>\n",
       "      <th>Name</th>\n",
       "      <th>Age</th>\n",
       "      <th>Gender</th>\n",
       "      <th>Salary</th>\n",
       "      <th>ID</th>\n",
       "    </tr>\n",
       "  </thead>\n",
       "  <tbody>\n",
       "    <tr>\n",
       "      <th>0</th>\n",
       "      <td>John</td>\n",
       "      <td>28.0</td>\n",
       "      <td>Male</td>\n",
       "      <td>3000.0</td>\n",
       "      <td>A01</td>\n",
       "    </tr>\n",
       "    <tr>\n",
       "      <th>1</th>\n",
       "      <td>Jane</td>\n",
       "      <td>22.0</td>\n",
       "      <td>Female</td>\n",
       "      <td>3200.0</td>\n",
       "      <td>A02</td>\n",
       "    </tr>\n",
       "    <tr>\n",
       "      <th>2</th>\n",
       "      <td>Tom</td>\n",
       "      <td>32.0</td>\n",
       "      <td>Male</td>\n",
       "      <td>3600.0</td>\n",
       "      <td>A03</td>\n",
       "    </tr>\n",
       "    <tr>\n",
       "      <th>3</th>\n",
       "      <td>Jake</td>\n",
       "      <td>35.0</td>\n",
       "      <td>Male</td>\n",
       "      <td>4000.0</td>\n",
       "      <td>A03</td>\n",
       "    </tr>\n",
       "    <tr>\n",
       "      <th>4</th>\n",
       "      <td>Unknown</td>\n",
       "      <td>40.0</td>\n",
       "      <td>None</td>\n",
       "      <td>3600.0</td>\n",
       "      <td>A05</td>\n",
       "    </tr>\n",
       "    <tr>\n",
       "      <th>5</th>\n",
       "      <td>Jake</td>\n",
       "      <td>35.0</td>\n",
       "      <td>Male</td>\n",
       "      <td>4000.0</td>\n",
       "      <td>A03</td>\n",
       "    </tr>\n",
       "  </tbody>\n",
       "</table>\n",
       "</div>"
      ],
      "text/plain": [
       "      Name   Age  Gender  Salary   ID\n",
       "0     John  28.0    Male  3000.0  A01\n",
       "1     Jane  22.0  Female  3200.0  A02\n",
       "2      Tom  32.0    Male  3600.0  A03\n",
       "3     Jake  35.0    Male  4000.0  A03\n",
       "4  Unknown  40.0    None  3600.0  A05\n",
       "5     Jake  35.0    Male  4000.0  A03"
      ]
     },
     "execution_count": 4,
     "metadata": {},
     "output_type": "execute_result"
    }
   ],
   "source": [
    "# fillna() - Fill missing values\n",
    "df_filled = df.fillna({'Age': df['Age'].mean(), 'Salary': df['Salary'].median(), 'Name': 'Unknown'})\n",
    "df_filled\n"
   ]
  },
  {
   "cell_type": "code",
   "execution_count": 5,
   "id": "77f2b651-de18-4b13-bb1a-cb3d055a18ee",
   "metadata": {},
   "outputs": [
    {
     "data": {
      "text/html": [
       "<div>\n",
       "<style scoped>\n",
       "    .dataframe tbody tr th:only-of-type {\n",
       "        vertical-align: middle;\n",
       "    }\n",
       "\n",
       "    .dataframe tbody tr th {\n",
       "        vertical-align: top;\n",
       "    }\n",
       "\n",
       "    .dataframe thead th {\n",
       "        text-align: right;\n",
       "    }\n",
       "</style>\n",
       "<table border=\"1\" class=\"dataframe\">\n",
       "  <thead>\n",
       "    <tr style=\"text-align: right;\">\n",
       "      <th></th>\n",
       "      <th>Name</th>\n",
       "      <th>Age</th>\n",
       "      <th>Gender</th>\n",
       "      <th>Salary</th>\n",
       "      <th>ID</th>\n",
       "    </tr>\n",
       "  </thead>\n",
       "  <tbody>\n",
       "    <tr>\n",
       "      <th>0</th>\n",
       "      <td>John</td>\n",
       "      <td>28.0</td>\n",
       "      <td>M</td>\n",
       "      <td>3000.0</td>\n",
       "      <td>A01</td>\n",
       "    </tr>\n",
       "    <tr>\n",
       "      <th>1</th>\n",
       "      <td>Jane</td>\n",
       "      <td>22.0</td>\n",
       "      <td>F</td>\n",
       "      <td>3200.0</td>\n",
       "      <td>A02</td>\n",
       "    </tr>\n",
       "    <tr>\n",
       "      <th>2</th>\n",
       "      <td>Tom</td>\n",
       "      <td>NaN</td>\n",
       "      <td>M</td>\n",
       "      <td>NaN</td>\n",
       "      <td>A03</td>\n",
       "    </tr>\n",
       "    <tr>\n",
       "      <th>3</th>\n",
       "      <td>Jake</td>\n",
       "      <td>35.0</td>\n",
       "      <td>M</td>\n",
       "      <td>4000.0</td>\n",
       "      <td>A03</td>\n",
       "    </tr>\n",
       "    <tr>\n",
       "      <th>4</th>\n",
       "      <td>None</td>\n",
       "      <td>40.0</td>\n",
       "      <td>None</td>\n",
       "      <td>NaN</td>\n",
       "      <td>A05</td>\n",
       "    </tr>\n",
       "    <tr>\n",
       "      <th>5</th>\n",
       "      <td>Jake</td>\n",
       "      <td>35.0</td>\n",
       "      <td>M</td>\n",
       "      <td>4000.0</td>\n",
       "      <td>A03</td>\n",
       "    </tr>\n",
       "  </tbody>\n",
       "</table>\n",
       "</div>"
      ],
      "text/plain": [
       "   Name   Age Gender  Salary   ID\n",
       "0  John  28.0      M  3000.0  A01\n",
       "1  Jane  22.0      F  3200.0  A02\n",
       "2   Tom   NaN      M     NaN  A03\n",
       "3  Jake  35.0      M  4000.0  A03\n",
       "4  None  40.0   None     NaN  A05\n",
       "5  Jake  35.0      M  4000.0  A03"
      ]
     },
     "execution_count": 5,
     "metadata": {},
     "output_type": "execute_result"
    }
   ],
   "source": [
    "# replace() - Replace values\n",
    "df_replaced = df.replace({'Male': 'M', 'Female': 'F'})\n",
    "df_replaced"
   ]
  },
  {
   "cell_type": "code",
   "execution_count": 6,
   "id": "38cda486-6df5-46d9-83f0-f2dcce42fd9d",
   "metadata": {},
   "outputs": [
    {
     "data": {
      "text/html": [
       "<div>\n",
       "<style scoped>\n",
       "    .dataframe tbody tr th:only-of-type {\n",
       "        vertical-align: middle;\n",
       "    }\n",
       "\n",
       "    .dataframe tbody tr th {\n",
       "        vertical-align: top;\n",
       "    }\n",
       "\n",
       "    .dataframe thead th {\n",
       "        text-align: right;\n",
       "    }\n",
       "</style>\n",
       "<table border=\"1\" class=\"dataframe\">\n",
       "  <thead>\n",
       "    <tr style=\"text-align: right;\">\n",
       "      <th></th>\n",
       "      <th>Name</th>\n",
       "      <th>Age</th>\n",
       "      <th>Gender</th>\n",
       "      <th>Salary</th>\n",
       "      <th>ID</th>\n",
       "    </tr>\n",
       "  </thead>\n",
       "  <tbody>\n",
       "    <tr>\n",
       "      <th>5</th>\n",
       "      <td>Jake</td>\n",
       "      <td>35.0</td>\n",
       "      <td>Male</td>\n",
       "      <td>4000.0</td>\n",
       "      <td>A03</td>\n",
       "    </tr>\n",
       "  </tbody>\n",
       "</table>\n",
       "</div>"
      ],
      "text/plain": [
       "   Name   Age Gender  Salary   ID\n",
       "5  Jake  35.0   Male  4000.0  A03"
      ]
     },
     "execution_count": 6,
     "metadata": {},
     "output_type": "execute_result"
    }
   ],
   "source": [
    "# duplicated() - Remove duplicates\n",
    "df[df.duplicated()]"
   ]
  },
  {
   "cell_type": "code",
   "execution_count": 8,
   "id": "ab4898ff-823b-48b2-984f-bcc360e6eebb",
   "metadata": {},
   "outputs": [
    {
     "data": {
      "text/html": [
       "<div>\n",
       "<style scoped>\n",
       "    .dataframe tbody tr th:only-of-type {\n",
       "        vertical-align: middle;\n",
       "    }\n",
       "\n",
       "    .dataframe tbody tr th {\n",
       "        vertical-align: top;\n",
       "    }\n",
       "\n",
       "    .dataframe thead th {\n",
       "        text-align: right;\n",
       "    }\n",
       "</style>\n",
       "<table border=\"1\" class=\"dataframe\">\n",
       "  <thead>\n",
       "    <tr style=\"text-align: right;\">\n",
       "      <th></th>\n",
       "      <th>Name</th>\n",
       "      <th>Age</th>\n",
       "      <th>Gender</th>\n",
       "      <th>Salary</th>\n",
       "      <th>ID</th>\n",
       "    </tr>\n",
       "  </thead>\n",
       "  <tbody>\n",
       "    <tr>\n",
       "      <th>0</th>\n",
       "      <td>John</td>\n",
       "      <td>28.0</td>\n",
       "      <td>Male</td>\n",
       "      <td>3000.0</td>\n",
       "      <td>A01</td>\n",
       "    </tr>\n",
       "    <tr>\n",
       "      <th>1</th>\n",
       "      <td>Jane</td>\n",
       "      <td>22.0</td>\n",
       "      <td>Female</td>\n",
       "      <td>3200.0</td>\n",
       "      <td>A02</td>\n",
       "    </tr>\n",
       "    <tr>\n",
       "      <th>2</th>\n",
       "      <td>Tom</td>\n",
       "      <td>NaN</td>\n",
       "      <td>Male</td>\n",
       "      <td>NaN</td>\n",
       "      <td>A03</td>\n",
       "    </tr>\n",
       "    <tr>\n",
       "      <th>3</th>\n",
       "      <td>Jake</td>\n",
       "      <td>35.0</td>\n",
       "      <td>Male</td>\n",
       "      <td>4000.0</td>\n",
       "      <td>A03</td>\n",
       "    </tr>\n",
       "    <tr>\n",
       "      <th>4</th>\n",
       "      <td>None</td>\n",
       "      <td>40.0</td>\n",
       "      <td>None</td>\n",
       "      <td>NaN</td>\n",
       "      <td>A05</td>\n",
       "    </tr>\n",
       "  </tbody>\n",
       "</table>\n",
       "</div>"
      ],
      "text/plain": [
       "   Name   Age  Gender  Salary   ID\n",
       "0  John  28.0    Male  3000.0  A01\n",
       "1  Jane  22.0  Female  3200.0  A02\n",
       "2   Tom   NaN    Male     NaN  A03\n",
       "3  Jake  35.0    Male  4000.0  A03\n",
       "4  None  40.0    None     NaN  A05"
      ]
     },
     "execution_count": 8,
     "metadata": {},
     "output_type": "execute_result"
    }
   ],
   "source": [
    "# drop_duplicates() - Remove duplicates\n",
    "df_no_duplicates = df.drop_duplicates()\n",
    "df_no_duplicates"
   ]
  },
  {
   "cell_type": "code",
   "execution_count": 11,
   "id": "5275ec99-de76-449c-a797-802852f1b49e",
   "metadata": {},
   "outputs": [
    {
     "data": {
      "text/html": [
       "<div>\n",
       "<style scoped>\n",
       "    .dataframe tbody tr th:only-of-type {\n",
       "        vertical-align: middle;\n",
       "    }\n",
       "\n",
       "    .dataframe tbody tr th {\n",
       "        vertical-align: top;\n",
       "    }\n",
       "\n",
       "    .dataframe thead th {\n",
       "        text-align: right;\n",
       "    }\n",
       "</style>\n",
       "<table border=\"1\" class=\"dataframe\">\n",
       "  <thead>\n",
       "    <tr style=\"text-align: right;\">\n",
       "      <th></th>\n",
       "      <th>Name</th>\n",
       "      <th>Age</th>\n",
       "      <th>Gender</th>\n",
       "      <th>Salary</th>\n",
       "      <th>ID</th>\n",
       "    </tr>\n",
       "  </thead>\n",
       "  <tbody>\n",
       "    <tr>\n",
       "      <th>0</th>\n",
       "      <td>John</td>\n",
       "      <td>28</td>\n",
       "      <td>Male</td>\n",
       "      <td>3000.0</td>\n",
       "      <td>A01</td>\n",
       "    </tr>\n",
       "    <tr>\n",
       "      <th>1</th>\n",
       "      <td>Jane</td>\n",
       "      <td>22</td>\n",
       "      <td>Female</td>\n",
       "      <td>3200.0</td>\n",
       "      <td>A02</td>\n",
       "    </tr>\n",
       "    <tr>\n",
       "      <th>2</th>\n",
       "      <td>Tom</td>\n",
       "      <td>0</td>\n",
       "      <td>Male</td>\n",
       "      <td>NaN</td>\n",
       "      <td>A03</td>\n",
       "    </tr>\n",
       "    <tr>\n",
       "      <th>3</th>\n",
       "      <td>Jake</td>\n",
       "      <td>35</td>\n",
       "      <td>Male</td>\n",
       "      <td>4000.0</td>\n",
       "      <td>A03</td>\n",
       "    </tr>\n",
       "    <tr>\n",
       "      <th>4</th>\n",
       "      <td>None</td>\n",
       "      <td>40</td>\n",
       "      <td>None</td>\n",
       "      <td>NaN</td>\n",
       "      <td>A05</td>\n",
       "    </tr>\n",
       "    <tr>\n",
       "      <th>5</th>\n",
       "      <td>Jake</td>\n",
       "      <td>35</td>\n",
       "      <td>Male</td>\n",
       "      <td>4000.0</td>\n",
       "      <td>A03</td>\n",
       "    </tr>\n",
       "  </tbody>\n",
       "</table>\n",
       "</div>"
      ],
      "text/plain": [
       "   Name  Age  Gender  Salary   ID\n",
       "0  John   28    Male  3000.0  A01\n",
       "1  Jane   22  Female  3200.0  A02\n",
       "2   Tom    0    Male     NaN  A03\n",
       "3  Jake   35    Male  4000.0  A03\n",
       "4  None   40    None     NaN  A05\n",
       "5  Jake   35    Male  4000.0  A03"
      ]
     },
     "execution_count": 11,
     "metadata": {},
     "output_type": "execute_result"
    }
   ],
   "source": [
    "# astype() - Convert data types, i.e. from string to integer\n",
    "df['Age'] = df['Age'].fillna(0) # fill NaNs b4 conversion\n",
    "df['Age'] = df['Age'].astype(int) # convert to integer\n",
    "df\n"
   ]
  },
  {
   "cell_type": "code",
   "execution_count": 12,
   "id": "9ec19cec-6902-4d93-8fd8-95383cf6bfa2",
   "metadata": {},
   "outputs": [
    {
     "data": {
      "text/html": [
       "<div>\n",
       "<style scoped>\n",
       "    .dataframe tbody tr th:only-of-type {\n",
       "        vertical-align: middle;\n",
       "    }\n",
       "\n",
       "    .dataframe tbody tr th {\n",
       "        vertical-align: top;\n",
       "    }\n",
       "\n",
       "    .dataframe thead th {\n",
       "        text-align: right;\n",
       "    }\n",
       "</style>\n",
       "<table border=\"1\" class=\"dataframe\">\n",
       "  <thead>\n",
       "    <tr style=\"text-align: right;\">\n",
       "      <th></th>\n",
       "      <th>Name</th>\n",
       "      <th>Age</th>\n",
       "      <th>Gender</th>\n",
       "      <th>Salary</th>\n",
       "      <th>ID</th>\n",
       "    </tr>\n",
       "  </thead>\n",
       "  <tbody>\n",
       "    <tr>\n",
       "      <th>0</th>\n",
       "      <td>John</td>\n",
       "      <td>28</td>\n",
       "      <td>Male</td>\n",
       "      <td>3000</td>\n",
       "      <td>A01</td>\n",
       "    </tr>\n",
       "    <tr>\n",
       "      <th>1</th>\n",
       "      <td>Jane</td>\n",
       "      <td>22</td>\n",
       "      <td>Female</td>\n",
       "      <td>3200</td>\n",
       "      <td>A02</td>\n",
       "    </tr>\n",
       "    <tr>\n",
       "      <th>2</th>\n",
       "      <td>Tom</td>\n",
       "      <td>0</td>\n",
       "      <td>Male</td>\n",
       "      <td>0</td>\n",
       "      <td>A03</td>\n",
       "    </tr>\n",
       "    <tr>\n",
       "      <th>3</th>\n",
       "      <td>Jake</td>\n",
       "      <td>35</td>\n",
       "      <td>Male</td>\n",
       "      <td>4000</td>\n",
       "      <td>A03</td>\n",
       "    </tr>\n",
       "    <tr>\n",
       "      <th>4</th>\n",
       "      <td>None</td>\n",
       "      <td>40</td>\n",
       "      <td>None</td>\n",
       "      <td>0</td>\n",
       "      <td>A05</td>\n",
       "    </tr>\n",
       "    <tr>\n",
       "      <th>5</th>\n",
       "      <td>Jake</td>\n",
       "      <td>35</td>\n",
       "      <td>Male</td>\n",
       "      <td>4000</td>\n",
       "      <td>A03</td>\n",
       "    </tr>\n",
       "  </tbody>\n",
       "</table>\n",
       "</div>"
      ],
      "text/plain": [
       "   Name  Age  Gender  Salary   ID\n",
       "0  John   28    Male    3000  A01\n",
       "1  Jane   22  Female    3200  A02\n",
       "2   Tom    0    Male       0  A03\n",
       "3  Jake   35    Male    4000  A03\n",
       "4  None   40    None       0  A05\n",
       "5  Jake   35    Male    4000  A03"
      ]
     },
     "execution_count": 12,
     "metadata": {},
     "output_type": "execute_result"
    }
   ],
   "source": [
    "# astype() - Convert data types, i.e. from string to integer\n",
    "df['Salary'] = df['Salary'].fillna(0) # fill NaNs b4 conversion\n",
    "df['Salary'] = df['Salary'].astype(int) # convert to integer\n",
    "df"
   ]
  },
  {
   "cell_type": "code",
   "execution_count": 14,
   "id": "1b89b421-3d21-4eef-8b0e-56487eb27b47",
   "metadata": {},
   "outputs": [
    {
     "data": {
      "text/html": [
       "<div>\n",
       "<style scoped>\n",
       "    .dataframe tbody tr th:only-of-type {\n",
       "        vertical-align: middle;\n",
       "    }\n",
       "\n",
       "    .dataframe tbody tr th {\n",
       "        vertical-align: top;\n",
       "    }\n",
       "\n",
       "    .dataframe thead th {\n",
       "        text-align: right;\n",
       "    }\n",
       "</style>\n",
       "<table border=\"1\" class=\"dataframe\">\n",
       "  <thead>\n",
       "    <tr style=\"text-align: right;\">\n",
       "      <th></th>\n",
       "      <th>Name</th>\n",
       "      <th>Age</th>\n",
       "      <th>Gender</th>\n",
       "      <th>Salary</th>\n",
       "      <th>ID</th>\n",
       "    </tr>\n",
       "  </thead>\n",
       "  <tbody>\n",
       "    <tr>\n",
       "      <th>3</th>\n",
       "      <td>Jake</td>\n",
       "      <td>35</td>\n",
       "      <td>Male</td>\n",
       "      <td>4000</td>\n",
       "      <td>A03</td>\n",
       "    </tr>\n",
       "    <tr>\n",
       "      <th>5</th>\n",
       "      <td>Jake</td>\n",
       "      <td>35</td>\n",
       "      <td>Male</td>\n",
       "      <td>4000</td>\n",
       "      <td>A03</td>\n",
       "    </tr>\n",
       "  </tbody>\n",
       "</table>\n",
       "</div>"
      ],
      "text/plain": [
       "   Name  Age Gender  Salary   ID\n",
       "3  Jake   35   Male    4000  A03\n",
       "5  Jake   35   Male    4000  A03"
      ]
     },
     "execution_count": 14,
     "metadata": {},
     "output_type": "execute_result"
    }
   ],
   "source": [
    "# query() - filter data using query\n",
    "df_filtered = df.query('Age > 30 and Gender == \"Male\"')\n",
    "df_filtered"
   ]
  },
  {
   "cell_type": "code",
   "execution_count": null,
   "id": "ce352703-f603-4fb2-b9bf-926808b278e2",
   "metadata": {},
   "outputs": [],
   "source": []
  },
  {
   "cell_type": "code",
   "execution_count": 5,
   "id": "96a14492-fb85-4dc5-96e8-de119a0e164e",
   "metadata": {},
   "outputs": [
    {
     "name": "stdout",
     "output_type": "stream",
     "text": [
      "Training Features:\n",
      "    Age  AnnualIncome  Gender_Male\n",
      "4  1.0           NaN        False\n",
      "2  0.5      0.466667        False\n",
      "0  0.0      0.000000         True\n",
      "3  NaN      1.000000         True\n",
      "Testing Features:\n",
      "     Age  AnnualIncome  Gender_Male\n",
      "1  0.25           0.2        False\n",
      "Training Labels:\n",
      " 4    0.404762\n",
      "2         NaN\n",
      "0    0.000000\n",
      "3    0.904762\n",
      "Name: SpendingScore, dtype: float64\n",
      "Testing Labels:\n",
      " 1    1.0\n",
      "Name: SpendingScore, dtype: float64\n"
     ]
    }
   ],
   "source": [
    "import pandas as pd\n",
    "from sklearn.preprocessing import MinMaxScaler\n",
    "from sklearn.model_selection import train_test_split\n",
    "\n",
    "# Sample Data\n",
    "data = {\n",
    "    'CustomerID': [1, 2, 3, 4, 5],\n",
    "    'Age': [20, 25, 30, None, 40],\n",
    "    'Gender': ['Male', 'Female', 'Female', 'Male', None],\n",
    "    'AnnualIncome': [15, 18, 22, 30, None],\n",
    "    'SpendingScore': [39, 81, None, 77, 56]\n",
    "}\n",
    "df = pd.DataFrame(data)\n",
    "\n",
    "# Preprocessing Steps\n",
    "# 1. Fill missing values\n",
    "df.fillna({'Age': df['Age'].mean()})\n",
    "df.fillna({'AnnualIncome': df['AnnualIncome'].median()})\n",
    "df.fillna({'SpendingScore': df['SpendingScore'].mean()})\n",
    "df.fillna({'Gender': df['Gender'].mode()[0]})\n",
    "df\n",
    "\n",
    "# 2. Encode categorical variables\n",
    "df = pd.get_dummies(df, columns=['Gender'], drop_first=True)\n",
    "\n",
    "# 3. Scale numerical features\n",
    "scaler = MinMaxScaler()\n",
    "df[['Age', 'AnnualIncome', 'SpendingScore']] = scaler.fit_transform(df[['Age', 'AnnualIncome', 'SpendingScore']])\n",
    "\n",
    "# 4. Split the data\n",
    "X = df.drop(columns=['CustomerID', 'SpendingScore'])\n",
    "y = df['SpendingScore']\n",
    "X_train, X_test, y_train, y_test = train_test_split(X, y, test_size=0.2, random_state=42)\n",
    "\n",
    "# Output results\n",
    "print(\"Training Features:\\n\", X_train)\n",
    "print(\"Testing Features:\\n\", X_test)\n",
    "print(\"Training Labels:\\n\", y_train)\n",
    "print(\"Testing Labels:\\n\", y_test)"
   ]
  },
  {
   "cell_type": "code",
   "execution_count": null,
   "id": "f431d6de-5c64-4a90-832d-03169af03dcd",
   "metadata": {},
   "outputs": [],
   "source": []
  },
  {
   "cell_type": "code",
   "execution_count": 4,
   "id": "f3a04140-b31e-490f-82bf-776973bb5af8",
   "metadata": {},
   "outputs": [
    {
     "name": "stdout",
     "output_type": "stream",
     "text": [
      "Training Features:\n",
      "         Age  AnnualIncome  Gender_Male\n",
      "0  0.000000      0.107143         True\n",
      "7  0.000000      1.000000        False\n",
      "2  0.277778      0.357143        False\n",
      "4  0.555556           NaN        False\n",
      "3       NaN      0.642857         True\n",
      "6  1.000000      0.000000        False\n",
      "Testing Features:\n",
      "         Age  AnnualIncome  Gender_Male\n",
      "1  0.138889      0.214286        False\n",
      "5  0.083333      0.392857         True\n",
      "Training Labels:\n",
      " 0    0.408451\n",
      "7    0.281690\n",
      "2         NaN\n",
      "4    0.647887\n",
      "3    0.943662\n",
      "6    0.000000\n",
      "Name: SpendingScore, dtype: float64\n",
      "Testing Labels:\n",
      " 1    1.0\n",
      "5    NaN\n",
      "Name: SpendingScore, dtype: float64\n"
     ]
    }
   ],
   "source": [
    "import pandas as pd\n",
    "from sklearn.preprocessing import MinMaxScaler\n",
    "from sklearn.model_selection import train_test_split\n",
    "\n",
    "# Sample Data\n",
    "data = {\n",
    "    'CustomerID': [1, 2, 3, 4, 5, 6, 7, 8],\n",
    "    'Age': [20, 25, 30, None, 40, 23, 56, 20],\n",
    "    'Gender': ['Male', 'Female', 'Female', 'Male', None, 'Male', 'Female', None],\n",
    "    'AnnualIncome': [15, 18, 22, 30, None, 23, 12, 40],\n",
    "    'SpendingScore': [39, 81, None, 77, 56, None, 10, 30]\n",
    "}\n",
    "df = pd.DataFrame(data)\n",
    "\n",
    "# Preprocessing Steps\n",
    "# 1. Fill missing values\n",
    "\n",
    "df.fillna({'Age': df['Age'].mean()})\n",
    "df.fillna({'AnnualIncome': df['AnnualIncome'].median()})\n",
    "df.fillna({'SpendingScore': df['SpendingScore'].mean()})\n",
    "df.fillna({'Gender': df['Gender'].mode()[0]})\n",
    "df\n",
    "\n",
    "# 2. Encode categorical variables\n",
    "df = pd.get_dummies(df, columns=['Gender'], drop_first=True)\n",
    "\n",
    "# 3. Scale numerical features\n",
    "scaler = MinMaxScaler()\n",
    "df[['Age', 'AnnualIncome', 'SpendingScore']] = scaler.fit_transform(df[['Age', 'AnnualIncome', 'SpendingScore']])\n",
    "\n",
    "# 4. Split the data\n",
    "X = df.drop(columns=['CustomerID', 'SpendingScore'])\n",
    "y = df['SpendingScore']\n",
    "X_train, X_test, y_train, y_test = train_test_split(X, y, test_size=0.2, random_state=42)\n",
    "\n",
    "# Output results\n",
    "print(\"Training Features:\\n\", X_train)\n",
    "print(\"Testing Features:\\n\", X_test)\n",
    "print(\"Training Labels:\\n\", y_train)\n",
    "print(\"Testing Labels:\\n\", y_test)"
   ]
  },
  {
   "cell_type": "code",
   "execution_count": 6,
   "id": "e3758b13-e402-4f3e-bdaa-eed950778315",
   "metadata": {},
   "outputs": [
    {
     "data": {
      "text/plain": [
       "<bound method DataFrame.dropna of    CustomerID   Age  AnnualIncome  SpendingScore  Gender_Male\n",
       "0           1  0.00      0.000000       0.000000         True\n",
       "1           2  0.25      0.200000       1.000000        False\n",
       "2           3  0.50      0.466667            NaN        False\n",
       "3           4   NaN      1.000000       0.904762         True\n",
       "4           5  1.00           NaN       0.404762        False>"
      ]
     },
     "execution_count": 6,
     "metadata": {},
     "output_type": "execute_result"
    }
   ],
   "source": [
    "df.dropna"
   ]
  },
  {
   "cell_type": "code",
   "execution_count": 7,
   "id": "3f4667bf-d8fd-4b69-9fec-41fe067d590a",
   "metadata": {},
   "outputs": [
    {
     "data": {
      "text/plain": [
       "<bound method DataFrame.drop_duplicates of    CustomerID   Age  AnnualIncome  SpendingScore  Gender_Male\n",
       "0           1  0.00      0.000000       0.000000         True\n",
       "1           2  0.25      0.200000       1.000000        False\n",
       "2           3  0.50      0.466667            NaN        False\n",
       "3           4   NaN      1.000000       0.904762         True\n",
       "4           5  1.00           NaN       0.404762        False>"
      ]
     },
     "execution_count": 7,
     "metadata": {},
     "output_type": "execute_result"
    }
   ],
   "source": [
    "df.drop_duplicates"
   ]
  },
  {
   "cell_type": "code",
   "execution_count": null,
   "id": "b0d1170b-13a5-4d9a-b730-40b46bf7f37e",
   "metadata": {},
   "outputs": [],
   "source": []
  },
  {
   "cell_type": "code",
   "execution_count": 10,
   "id": "285df245-d091-4fb1-b093-a3da858f5898",
   "metadata": {},
   "outputs": [
    {
     "data": {
      "text/html": [
       "<div>\n",
       "<style scoped>\n",
       "    .dataframe tbody tr th:only-of-type {\n",
       "        vertical-align: middle;\n",
       "    }\n",
       "\n",
       "    .dataframe tbody tr th {\n",
       "        vertical-align: top;\n",
       "    }\n",
       "\n",
       "    .dataframe thead th {\n",
       "        text-align: right;\n",
       "    }\n",
       "</style>\n",
       "<table border=\"1\" class=\"dataframe\">\n",
       "  <thead>\n",
       "    <tr style=\"text-align: right;\">\n",
       "      <th></th>\n",
       "      <th>CustomerID</th>\n",
       "      <th>Age</th>\n",
       "      <th>Gender</th>\n",
       "      <th>AnnualIncome</th>\n",
       "      <th>SpendingScore</th>\n",
       "    </tr>\n",
       "  </thead>\n",
       "  <tbody>\n",
       "    <tr>\n",
       "      <th>0</th>\n",
       "      <td>1</td>\n",
       "      <td>20.0</td>\n",
       "      <td>Male</td>\n",
       "      <td>15.0</td>\n",
       "      <td>39.0</td>\n",
       "    </tr>\n",
       "    <tr>\n",
       "      <th>1</th>\n",
       "      <td>2</td>\n",
       "      <td>25.0</td>\n",
       "      <td>Female</td>\n",
       "      <td>18.0</td>\n",
       "      <td>81.0</td>\n",
       "    </tr>\n",
       "    <tr>\n",
       "      <th>2</th>\n",
       "      <td>3</td>\n",
       "      <td>30.0</td>\n",
       "      <td>Female</td>\n",
       "      <td>22.0</td>\n",
       "      <td>NaN</td>\n",
       "    </tr>\n",
       "    <tr>\n",
       "      <th>3</th>\n",
       "      <td>4</td>\n",
       "      <td>NaN</td>\n",
       "      <td>Male</td>\n",
       "      <td>30.0</td>\n",
       "      <td>77.0</td>\n",
       "    </tr>\n",
       "    <tr>\n",
       "      <th>4</th>\n",
       "      <td>5</td>\n",
       "      <td>40.0</td>\n",
       "      <td>None</td>\n",
       "      <td>NaN</td>\n",
       "      <td>56.0</td>\n",
       "    </tr>\n",
       "  </tbody>\n",
       "</table>\n",
       "</div>"
      ],
      "text/plain": [
       "   CustomerID   Age  Gender  AnnualIncome  SpendingScore\n",
       "0           1  20.0    Male          15.0           39.0\n",
       "1           2  25.0  Female          18.0           81.0\n",
       "2           3  30.0  Female          22.0            NaN\n",
       "3           4   NaN    Male          30.0           77.0\n",
       "4           5  40.0    None           NaN           56.0"
      ]
     },
     "execution_count": 10,
     "metadata": {},
     "output_type": "execute_result"
    }
   ],
   "source": [
    "import pandas as pd\n",
    "from sklearn.preprocessing import MinMaxScaler\n",
    "from sklearn.model_selection import train_test_split\n",
    "\n",
    "# Sample Data\n",
    "data = {\n",
    "    'CustomerID': [1, 2, 3, 4, 5],\n",
    "    'Age': [20, 25, 30, None, 40],\n",
    "    'Gender': ['Male', 'Female', 'Female', 'Male', None],\n",
    "    'AnnualIncome': [15, 18, 22, 30, None],\n",
    "    'SpendingScore': [39, 81, None, 77, 56]\n",
    "}\n",
    "df = pd.DataFrame(data)\n",
    "\n",
    "# Preprocessing Steps\n",
    "# 1. Fill missing values\n",
    "df.fillna({'Age': df['Age'].mean()})\n",
    "df.fillna({'AnnualIncome': df['AnnualIncome'].median()})\n",
    "df.fillna({'SpendingScore': df['SpendingScore'].mean()})\n",
    "df.fillna({'Gender': df['Gender'].mode()[0]})\n",
    "df.replace({'Male': 'M', 'Female': 'F'})\n",
    "df\n"
   ]
  },
  {
   "cell_type": "code",
   "execution_count": 9,
   "id": "f9e394a8-9e37-4c35-89ca-4905586cc14f",
   "metadata": {},
   "outputs": [
    {
     "data": {
      "text/html": [
       "<div>\n",
       "<style scoped>\n",
       "    .dataframe tbody tr th:only-of-type {\n",
       "        vertical-align: middle;\n",
       "    }\n",
       "\n",
       "    .dataframe tbody tr th {\n",
       "        vertical-align: top;\n",
       "    }\n",
       "\n",
       "    .dataframe thead th {\n",
       "        text-align: right;\n",
       "    }\n",
       "</style>\n",
       "<table border=\"1\" class=\"dataframe\">\n",
       "  <thead>\n",
       "    <tr style=\"text-align: right;\">\n",
       "      <th></th>\n",
       "      <th>CustomerID</th>\n",
       "      <th>Age</th>\n",
       "      <th>Gender</th>\n",
       "      <th>AnnualIncome</th>\n",
       "      <th>SpendingScore</th>\n",
       "    </tr>\n",
       "  </thead>\n",
       "  <tbody>\n",
       "    <tr>\n",
       "      <th>0</th>\n",
       "      <td>1</td>\n",
       "      <td>20.0</td>\n",
       "      <td>Male</td>\n",
       "      <td>15.0</td>\n",
       "      <td>39.0</td>\n",
       "    </tr>\n",
       "    <tr>\n",
       "      <th>1</th>\n",
       "      <td>2</td>\n",
       "      <td>25.0</td>\n",
       "      <td>Female</td>\n",
       "      <td>18.0</td>\n",
       "      <td>81.0</td>\n",
       "    </tr>\n",
       "    <tr>\n",
       "      <th>2</th>\n",
       "      <td>3</td>\n",
       "      <td>30.0</td>\n",
       "      <td>Female</td>\n",
       "      <td>22.0</td>\n",
       "      <td>NaN</td>\n",
       "    </tr>\n",
       "    <tr>\n",
       "      <th>3</th>\n",
       "      <td>4</td>\n",
       "      <td>NaN</td>\n",
       "      <td>Male</td>\n",
       "      <td>30.0</td>\n",
       "      <td>77.0</td>\n",
       "    </tr>\n",
       "    <tr>\n",
       "      <th>4</th>\n",
       "      <td>5</td>\n",
       "      <td>40.0</td>\n",
       "      <td>None</td>\n",
       "      <td>NaN</td>\n",
       "      <td>56.0</td>\n",
       "    </tr>\n",
       "  </tbody>\n",
       "</table>\n",
       "</div>"
      ],
      "text/plain": [
       "   CustomerID   Age  Gender  AnnualIncome  SpendingScore\n",
       "0           1  20.0    Male          15.0           39.0\n",
       "1           2  25.0  Female          18.0           81.0\n",
       "2           3  30.0  Female          22.0            NaN\n",
       "3           4   NaN    Male          30.0           77.0\n",
       "4           5  40.0    None           NaN           56.0"
      ]
     },
     "execution_count": 9,
     "metadata": {},
     "output_type": "execute_result"
    }
   ],
   "source": [
    "df.replace({'Male': 'M', 'Female': 'F'})\n",
    "df"
   ]
  },
  {
   "cell_type": "code",
   "execution_count": null,
   "id": "840e3177-dbde-4e2e-aece-c437a45a6260",
   "metadata": {},
   "outputs": [],
   "source": []
  },
  {
   "cell_type": "code",
   "execution_count": null,
   "id": "c95cf51b-3da1-4669-b55a-16f2c2c3e2d1",
   "metadata": {},
   "outputs": [],
   "source": []
  },
  {
   "cell_type": "code",
   "execution_count": null,
   "id": "3fe322d8-a979-4c6a-9690-17ae5754d3fe",
   "metadata": {},
   "outputs": [],
   "source": []
  },
  {
   "cell_type": "code",
   "execution_count": null,
   "id": "a9a9fb79-3af0-4a22-97bb-0ef3f1560db6",
   "metadata": {},
   "outputs": [],
   "source": []
  },
  {
   "cell_type": "code",
   "execution_count": null,
   "id": "cc50af1c-089e-4253-aa9b-ed6052690e23",
   "metadata": {},
   "outputs": [],
   "source": []
  },
  {
   "cell_type": "code",
   "execution_count": null,
   "id": "054688fa-8722-40d4-9b3f-5cd49ff0efaa",
   "metadata": {},
   "outputs": [],
   "source": []
  },
  {
   "cell_type": "code",
   "execution_count": null,
   "id": "4da0ad1a-2f20-429d-bedd-860a76f2fe1f",
   "metadata": {},
   "outputs": [],
   "source": []
  },
  {
   "cell_type": "code",
   "execution_count": null,
   "id": "c026bf33-3e06-40b1-b2b3-35ef0992ef19",
   "metadata": {},
   "outputs": [],
   "source": []
  },
  {
   "cell_type": "code",
   "execution_count": null,
   "id": "e13b8ddb-a14b-4c2f-88e9-a6b53d53e904",
   "metadata": {},
   "outputs": [],
   "source": []
  },
  {
   "cell_type": "code",
   "execution_count": null,
   "id": "4c937fed-e046-4748-8ee6-378cbb367aee",
   "metadata": {},
   "outputs": [],
   "source": []
  },
  {
   "cell_type": "code",
   "execution_count": null,
   "id": "8d3b94a6-5f74-4a52-a41d-dd6e88e1af63",
   "metadata": {},
   "outputs": [],
   "source": []
  },
  {
   "cell_type": "code",
   "execution_count": null,
   "id": "3c7cf494-7917-4bfc-8f7f-21f0400ea873",
   "metadata": {},
   "outputs": [],
   "source": []
  },
  {
   "cell_type": "code",
   "execution_count": null,
   "id": "53bd1a3b-6364-4aa7-94d2-422e094f4b39",
   "metadata": {},
   "outputs": [],
   "source": []
  },
  {
   "cell_type": "code",
   "execution_count": null,
   "id": "bc37a1b1-910f-4107-b5c3-897b8236b32c",
   "metadata": {},
   "outputs": [],
   "source": []
  },
  {
   "cell_type": "code",
   "execution_count": null,
   "id": "357000d0-5b75-4abe-990e-aef8a4249e65",
   "metadata": {},
   "outputs": [],
   "source": []
  },
  {
   "cell_type": "code",
   "execution_count": null,
   "id": "7a3e0a61-6722-4d02-b969-bd28081e9353",
   "metadata": {},
   "outputs": [],
   "source": []
  },
  {
   "cell_type": "code",
   "execution_count": null,
   "id": "814cb874-b20a-4aba-8aaf-2ad1fd2c3dbd",
   "metadata": {},
   "outputs": [],
   "source": []
  }
 ],
 "metadata": {
  "kernelspec": {
   "display_name": "base",
   "language": "python",
   "name": "python3"
  },
  "language_info": {
   "codemirror_mode": {
    "name": "ipython",
    "version": 3
   },
   "file_extension": ".py",
   "mimetype": "text/x-python",
   "name": "python",
   "nbconvert_exporter": "python",
   "pygments_lexer": "ipython3",
   "version": "3.12.4"
  }
 },
 "nbformat": 4,
 "nbformat_minor": 5
}
