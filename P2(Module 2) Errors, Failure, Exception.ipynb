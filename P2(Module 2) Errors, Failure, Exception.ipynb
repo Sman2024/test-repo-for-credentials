{
 "cells": [
  {
   "cell_type": "markdown",
   "id": "c8688d19-0700-4af9-acdd-3f0ba0d89364",
   "metadata": {},
   "source": [
    "### Errors, failures, and other plagues\n",
    "\n",
    "Anything that can go wrong, will go wrong.\n",
    "\n",
    "This is Murphy's law, and it works everywhere and always. Your code's execution can go wrong, too. If it can, it will.\n",
    "\n",
    "Look the code in the editor. There are at least two possible ways it can \"go wrong\". Can you see them?\n",
    "\n",
    "    As a user is able to enter a completely arbitrary string of characters, there is no guarantee that the string can be converted into a float value - this is the first vulnerability of the code;\n",
    "    the second is that the sqrt() function fails if it gets a negative argument.\n",
    "\n",
    "You may get one of the following error messages."
   ]
  },
  {
   "cell_type": "code",
   "execution_count": null,
   "id": "63b8a7b6-0b62-41b4-8997-878323cc6947",
   "metadata": {},
   "outputs": [],
   "source": [
    "import math\n",
    "\n",
    "x = float(input(\"Enter x: \"))\n",
    "y = math.sqrt(x)\n",
    "\n",
    "print(\"The square root of\", x, \"equals to\", y)\n"
   ]
  },
  {
   "cell_type": "code",
   "execution_count": null,
   "id": "0d9a5f4d-b8fc-434b-a9ab-b63220565f66",
   "metadata": {},
   "outputs": [],
   "source": [
    "import math\n",
    "\n",
    "x = float(input(\"Enter x: \"))\n",
    "y = math.sqrt(x)\n",
    "\n",
    "print(\"The square root of\", x, \"equals to\", y)\n",
    "\n"
   ]
  },
  {
   "cell_type": "markdown",
   "id": "c5cf0a86-52f2-4100-8f2a-9af6ba0411f1",
   "metadata": {},
   "source": [
    "Can you protect yourself from such surprises? Of course you can. Moreover, you have to do it in order to be considered a good programmer."
   ]
  },
  {
   "cell_type": "markdown",
   "id": "d707374f-85ad-4af1-817f-e3cf7e4bd4c8",
   "metadata": {},
   "source": [
    "\n",
    "## Exceptions\n",
    "\n",
    "Each time your code tries to do something wrong/foolish/irresponsible/crazy/unenforceable, Python does two things:\n",
    "\n",
    "    it stops your program;\n",
    "    it creates a special kind of data, called an exception.\n",
    "\n",
    "Both of these activities are called raising an exception. We can say that Python always raises an exception (or that an exception has been raised) when it has no idea what to do with your code.\n",
    "\n",
    "What happens next?\n",
    "\n",
    "    the raised exception expects somebody or something to notice it and take care of it;\n",
    "    if nothing happens to take care of the raised exception, the program will be forcibly terminated, and you will see an error message sent to the console by Python;\n",
    "    otherwise, if the exception is taken care of and handled properly, the suspended program can be resumed and its execution can continue.\n",
    "\n",
    "Python provides effective tools that allow you to observe exceptions, identify them and handle them efficiently. This is possible due to the fact that all potential exceptions have their unambiguous names, so you can categorize them and react appropriately.\n",
    "\n",
    "\n",
    "\n",
    "The concept of exceptions\n",
    "\n",
    "\n",
    "You know some exception names already. Take a look at the following diagnostic message:\n",
    "ValueError: math domain error \n",
    "\n",
    "output\n",
    "\n",
    "The word highlighted above is just the exception name. Let's get familiar with some other exceptions."
   ]
  },
  {
   "cell_type": "markdown",
   "id": "00809d1a-9a2d-4ada-a310-3edbdde745aa",
   "metadata": {},
   "source": [
    "### Exceptions: continued\r\n",
    "\r\n",
    "Look at the code in the editor. Run the (obviously incorrect) program.\r\n",
    "\r\n",
    "You will see the following message in reply:\r\n",
    "Traceback (most recent call last):\r\n",
    "File \"div.py\", line 2, in \r\n",
    "value /= 0\r\n",
    "ZeroDivisionError: division by zero\r\n",
    "\n",
    "olue = 1\r\n",
    "value /= 0\r\n"
   ]
  },
  {
   "cell_type": "code",
   "execution_count": null,
   "id": "540fe3fa-bd81-4566-8eb9-4c8d3f313297",
   "metadata": {},
   "outputs": [],
   "source": [
    "value = 1\n",
    "value /= 0\n"
   ]
  },
  {
   "cell_type": "code",
   "execution_count": null,
   "id": "2069b51c-659b-4b68-a4c2-72b3f24ccc64",
   "metadata": {},
   "outputs": [],
   "source": [
    "my_list = []\n",
    "x = my_list[0]\n"
   ]
  },
  {
   "cell_type": "markdown",
   "id": "f33840e7-aa1a-4084-b3a9-d9ae0ca9016b",
   "metadata": {},
   "source": [
    "How do you handle exceptions? The word try is key to the solution.\n",
    "\n",
    "What's more, it's a keyword, too.\n",
    "\n",
    "The recipe for success is as follows:\n",
    "\n",
    "    first, you have to try to do something;\n",
    "    next, you have to check whether everything went well.\n",
    "\n",
    "But wouldn't it be better to check all circumstances first and then do something only if it's safe?\n",
    "\n",
    "Just like the example in the editor."
   ]
  },
  {
   "cell_type": "code",
   "execution_count": null,
   "id": "f3f1d51f-fb18-4225-8941-a589b5a60cdc",
   "metadata": {},
   "outputs": [],
   "source": [
    "first_number = int(input(\"Enter the first number: \"))\n",
    "second_number = int(input(\"Enter the second number: \"))\n",
    "\n",
    "if second_number != 0:\n",
    "    print(first_number / second_number)\n",
    "else:\n",
    "    print(\"This operation cannot be done.\")\n",
    "\n",
    "print(\"THE END.\")\n"
   ]
  },
  {
   "cell_type": "markdown",
   "id": "c79db2d5-720a-45ec-bdd8-1d4c87fd7be1",
   "metadata": {},
   "source": [
    "Look at the code in the editor. This is the favorite Python approach.\n",
    "\n",
    "Note:\n",
    "\n",
    "    the try keyword begins a block of the code which may or may not be performing correctly;\n",
    "    next, Python tries to perform the risky action; if it fails, an exception is raised and Python starts to look for a solution;\n",
    "    the except keyword starts a piece of code which will be executed if anything inside the try block goes wrong - if an exception is raised inside a previous try block, it will fail here, so the code located after the except keyword should provide an adequate reaction to the raised exception;\n",
    "    returning to the previous nesting level ends the try-except section.\n",
    "\n",
    "Run the code and test its behavior."
   ]
  },
  {
   "cell_type": "code",
   "execution_count": null,
   "id": "f21ddfee-dd68-4266-af33-51090a0cc554",
   "metadata": {},
   "outputs": [],
   "source": [
    "first_number = int(input(\"Enter the first number: \"))\n",
    "second_number = int(input(\"Enter the second number: \"))\n",
    "\n",
    "try:\n",
    "    print(first_number / second_number)\n",
    "except:\n",
    "    print(\"This operation cannot be done.\")\n",
    "\n",
    "print(\"THE END.\")\n"
   ]
  },
  {
   "cell_type": "markdown",
   "id": "1e1c606c-ce1b-4d6e-a7cb-6882d89657f3",
   "metadata": {},
   "source": [
    "Look at the code in the editor. It will help you understand this mechanism."
   ]
  },
  {
   "cell_type": "code",
   "execution_count": null,
   "id": "5374dff5-dcb6-4155-87b7-5301f45b58ee",
   "metadata": {},
   "outputs": [],
   "source": [
    "try:\n",
    "    print(\"1\")\n",
    "    x = 1 / 0\n",
    "    print(\"2\")\n",
    "except:\n",
    "    print(\"Oh dear, something went wrong...\")\n",
    "\n",
    "print(\"3\")\n"
   ]
  },
  {
   "cell_type": "markdown",
   "id": "a0815a01-f417-4c4f-8c94-57e717d0925a",
   "metadata": {},
   "source": [
    "Note: the print(\"2\") instruction was lost in the process."
   ]
  },
  {
   "cell_type": "code",
   "execution_count": null,
   "id": "5cf1f729-5678-46c0-97ee-f78c77f7f2b0",
   "metadata": {},
   "outputs": [],
   "source": []
  },
  {
   "cell_type": "markdown",
   "id": "8d6d9e6e-d03f-4f25-98f0-596cf1939d67",
   "metadata": {},
   "source": [
    "This approach has one important disadvantage - if there is a possibility that more than one exception may skip into an except: branch, you may have trouble figuring out what actually happened.\n",
    "\n",
    "Just like in our code in the editor. Run it and see what happens.\n",
    "\n",
    "The message: Oh dear, something went wrong... appearing in the console says nothing about the reason, while there are two possible causes of the exception:\n",
    "\n",
    "    non-integer data entered by the user;\n",
    "    an integer value equal to 0 assigned to the x variable.\n",
    "\n"
   ]
  },
  {
   "cell_type": "code",
   "execution_count": null,
   "id": "cb4d4256-853d-44de-8aad-ceb6d6399c28",
   "metadata": {},
   "outputs": [],
   "source": [
    "try:\n",
    "    x = int(input(\"Enter a number: \"))\n",
    "    y = 1 / x\n",
    "except:\n",
    "    print(\"Oh dear, something went wrong...\")\n",
    "\n",
    "print(\"THE END.\")\n"
   ]
  },
  {
   "cell_type": "markdown",
   "id": "2c3a8427-7075-43d3-89ce-57254d91918f",
   "metadata": {},
   "source": [
    "Exceptions: continued\n",
    "\n",
    "Look at the code in the editor. Our solution is there.\n",
    "\n",
    "The code, when run, produces one of the following four variants of output:\n",
    "\n",
    "    if you enter a valid, non-zero integer value (e.g., 5) it says: "
   ]
  },
  {
   "cell_type": "code",
   "execution_count": null,
   "id": "a25e916c-6548-41ac-8edd-a66db725ed37",
   "metadata": {},
   "outputs": [],
   "source": [
    "try:\n",
    "    x = int(input(\"Enter a number: \"))\n",
    "    y = 1 / x\n",
    "    print(y)\n",
    "except ZeroDivisionError:\n",
    "    print(\"You cannot divide by zero, sorry.\")\n",
    "except ValueError:\n",
    "    print(\"You must enter an integer value.\")\n",
    "except:\n",
    "    print(\"Oh dear, something went wrong...\")\n",
    "\n",
    "print(\"THE END.\")"
   ]
  },
  {
   "cell_type": "code",
   "execution_count": null,
   "id": "48de8878-2b80-46ea-a80e-31e66ce72777",
   "metadata": {},
   "outputs": [],
   "source": [
    "try:\n",
    "    x = int(input(\"Enter a number: \"))\n",
    "    y = 1 / x\n",
    "    print(y)\n",
    "except ZeroDivisionError:\n",
    "    print(\"You cannot divide by zero, sorry.\")\n",
    "except ValueError:\n",
    "    print(\"You must enter an integer value.\")\n",
    "except:\n",
    "    print(\"Oh dear, something went wrong...\")\n",
    "\n",
    "print(\"THE END.\")"
   ]
  },
  {
   "cell_type": "code",
   "execution_count": null,
   "id": "73c6e0f4-e347-4ad3-abfd-1553e79465f7",
   "metadata": {},
   "outputs": [],
   "source": [
    "try:\n",
    "    x = int(input(\"Enter a number: \"))\n",
    "    y = 1 / x\n",
    "    print(y)\n",
    "except ZeroDivisionError:\n",
    "    print(\"You cannot divide by zero, sorry.\")\n",
    "except ValueError:\n",
    "    print(\"You must enter an integer value.\")\n",
    "except:\n",
    "    print(\"Oh dear, something went wrong...\")\n",
    "\n",
    "print(\"THE END.\")"
   ]
  },
  {
   "cell_type": "markdown",
   "id": "c69de70d-372a-4e96-97fe-b66a5f768ba8",
   "metadata": {},
   "source": [
    "Don't forget that:\n",
    "\n",
    "    the except branches are searched in the same order in which they appear in the code;\n",
    "    you must not use more than one except branch with a certain exception name;\n",
    "    the number of different except branches is arbitrary - the only condition is that if you use try, you must put at least one except (named or not) after it;\n",
    "    the except keyword must not be used without a preceding try;\n",
    "    if any of the except branches is executed, no other branches will be visited;\n",
    "    if none of the specified except branches matches the raised exception, the exception remains unhandled (we'll discuss it soon)\n",
    "    if an unnamed except branch exists (one without an exception name), it has to be specified as the last.\n",
    "\n",
    "try:\n",
    "    :\n",
    "except exc1:\n",
    "    :\n",
    "except exc2:\n",
    "    :\n",
    "except:\n",
    "    :\n",
    "\n",
    "\n",
    "Let's continue the experiments now.\n",
    "\n",
    "Look at the code in the editor. We've modified the previous program - we've removed the ZeroDivisionError branch.\n",
    "\n",
    "What happens now if the user enters 0 as an input?\n",
    "\n",
    "As there are no dedicated branches for division by zero, the raised exception falls into the general (unnamed) branch; this means that in this case, the program will say:"
   ]
  },
  {
   "cell_type": "code",
   "execution_count": null,
   "id": "a1672480-9e06-4f28-bba7-a53dc818d7ea",
   "metadata": {},
   "outputs": [],
   "source": [
    "try:\n",
    "    x = int(input(\"Enter a number: \"))\n",
    "    y = 1 / x\n",
    "    print(y)\n",
    "except ValueError:\n",
    "    print(\"You must enter an integer value.\")\n",
    "except:\n",
    "    print(\"Oh dear, something went wrong...\")\n",
    "\n",
    "print(\"THE END.\")\n"
   ]
  },
  {
   "cell_type": "markdown",
   "id": "c1067357-72bc-484b-9e9b-389f287d4732",
   "metadata": {},
   "source": [
    "Let's spoil the code once again.\n",
    "\n",
    "Look at the program in the editor. This time, we've removed the unnamed branch.\n",
    "\n",
    "The user enters 0 once again and:\n",
    "\n",
    "    the exception raised won't be handled by ValueError - it has nothing to do with it;\n",
    "    as there's no other branch, you should to see this message:\n"
   ]
  },
  {
   "cell_type": "code",
   "execution_count": null,
   "id": "435d96ca-b268-4161-8857-2cf3d0f31141",
   "metadata": {},
   "outputs": [],
   "source": [
    "try:\n",
    "    x = int(input(\"Enter a number: \"))\n",
    "    y = 1 / x\n",
    "    print(y)\n",
    "except ValueError:\n",
    "    print(\"You must enter an integer value.\")\n",
    "\n",
    "print(\"THE END.\")\n"
   ]
  },
  {
   "cell_type": "markdown",
   "id": "7458f4dc-9c6c-46f1-b13f-3a84687c7229",
   "metadata": {},
   "source": [
    "#### Exceptions: continued\n",
    "\n",
    "Look at the code in the editor. It is a simple example to start with. Run it.\n",
    "\n",
    "The output we expect to see looks like this:"
   ]
  },
  {
   "cell_type": "code",
   "execution_count": null,
   "id": "6166ceba-455e-420b-915c-abef89cfc40a",
   "metadata": {},
   "outputs": [],
   "source": [
    "try:\n",
    "    y = 1 / 0\n",
    "except ZeroDivisionError:\n",
    "    print(\"Oooppsss...\")\n",
    "\n",
    "print(\"THE END.\")\n"
   ]
  },
  {
   "cell_type": "code",
   "execution_count": null,
   "id": "74588ab8-b679-41f6-8f61-02da6b98ef97",
   "metadata": {},
   "outputs": [],
   "source": [
    "try:\n",
    "    y = 1 / 0\n",
    "except ArithmeticError:\n",
    "    print(\"Oooppsss...\")\n",
    "\n",
    "print(\"THE END.\")\n",
    "\n"
   ]
  },
  {
   "cell_type": "markdown",
   "id": "f6730aae-574c-4f09-ae1b-eab77260fd3b",
   "metadata": {},
   "source": [
    "#### If you want to handle two or more exceptions in the same way, you can use the following syntax:\n",
    "try:\n",
    "    :\n",
    "except (exc1, exc2):\n",
    "    :\n",
    "\n",
    "\n",
    "You simply have to put all the engaged exception names into a comma-separated list and not to forget the parentheses.\n",
    "\n",
    "If an exception is raised inside a function, it can be handled:\n",
    "\n",
    "    inside the function;\n",
    "    outside the function;\n",
    "\n",
    "Let's start with the first variant - look at the code in the editor.\n",
    "\n",
    "The ZeroDivisionError exception (being a concrete case of the ArithmeticError exception class) is raised inside the bad_fun() function, and it doesn't leave the function - the function itself takes care of it.\n",
    "\n",
    "##### The program outputs:"
   ]
  },
  {
   "cell_type": "code",
   "execution_count": null,
   "id": "48a62ed3-74fd-4646-8565-1b80959b9d85",
   "metadata": {},
   "outputs": [],
   "source": [
    "def bad_fun(n):\n",
    "    try:\n",
    "        return 1 / n\n",
    "    except ArithmeticError:\n",
    "        print(\"Arithmetic Problem!\")\n",
    "    return None\n",
    "\n",
    "bad_fun(0)\n",
    "\n",
    "print(\"THE END.\")"
   ]
  },
  {
   "cell_type": "markdown",
   "id": "6b109282-41ba-4110-bc10-bbca993d3dac",
   "metadata": {},
   "source": [
    "It's also possible to let the exception propagate outside the function. Let's test it now.\n",
    "\n",
    "Look at the code below:"
   ]
  },
  {
   "cell_type": "code",
   "execution_count": null,
   "id": "126fc162-e2ca-4322-bcef-b204e26bd858",
   "metadata": {},
   "outputs": [],
   "source": [
    "def bad_fun(n):\n",
    "    return 1 / n\n",
    "\n",
    "try:\n",
    "    bad_fun(0)\n",
    "except ArithmeticError:\n",
    "    print(\"What happened? An exception was raised!\")\n",
    "\n",
    "print(\"THE END.\")\n",
    "\n"
   ]
  },
  {
   "cell_type": "code",
   "execution_count": null,
   "id": "a447fcc2-e2c5-43b1-a531-bf827641248b",
   "metadata": {},
   "outputs": [],
   "source": []
  },
  {
   "cell_type": "markdown",
   "id": "ad0a11ff-dec8-4cff-9f74-a85759b438b3",
   "metadata": {},
   "source": [
    "### Exceptions: continued\n",
    "\n",
    "The raise instruction raises the specified exception named exc as if it was raised in a normal (natural) way:\n",
    "\n",
    "##### **raise exc**\n",
    "\n",
    "\n",
    "Note: raise is a keyword.\n",
    "\n",
    "The instruction enables you to:\n",
    "\n",
    "    simulate raising actual exceptions (e.g., to test your handling strategy)\n",
    "    partially handle an exception and make another part of the code responsible for completing the handling (separation of concerns).\n",
    "\n",
    "Look at the code in the editor. This is how you can use it in practice.\n",
    "\n",
    "The program's output remains unchanged.\n",
    "\n",
    "In this way, you can test your exception handling routine without forcing the code to do stupid things."
   ]
  },
  {
   "cell_type": "code",
   "execution_count": null,
   "id": "1e600735-cd55-40bc-ae87-1bb8b28cb01c",
   "metadata": {},
   "outputs": [],
   "source": [
    "def bad_fun(n):\n",
    "    raise ZeroDivisionError\n",
    "\n",
    "\n",
    "try:\n",
    "    bad_fun(0)\n",
    "except ArithmeticError:\n",
    "    print(\"What happened? An error?\")\n",
    "\n",
    "print(\"THE END.\")\n"
   ]
  },
  {
   "cell_type": "markdown",
   "id": "04dc741a-8107-4607-928b-85733be8f012",
   "metadata": {},
   "source": [
    "#### Exceptions: continued\n",
    "\n",
    "The raise instruction may also be utilized in the following way (note the absence of the exception's name):\n",
    "raise\n",
    "\n",
    "\n",
    "There is one serious restriction: this kind of raise instruction may be used inside the except branch only; using it in any other context causes an error.\n",
    "\n",
    "The instruction will immediately re-raise the same exception as currently handled.\n",
    "\n",
    "Thanks to this, you can distribute the exception handling among different parts of the code.\n",
    "\n",
    "Look at the code in the editor. Run it - we'll see it in action.\n",
    "\n",
    "The ZeroDivisionError is raised twice:\n",
    "\n",
    "    first, inside the try part of the code (this is caused by actual zero division)\n",
    "    second, inside the except part by the raise instruction.\n",
    "\n",
    "In effect, the code outputs:"
   ]
  },
  {
   "cell_type": "code",
   "execution_count": null,
   "id": "bace3bb4-8ae2-4d29-8071-063e048ba887",
   "metadata": {},
   "outputs": [],
   "source": [
    "def bad_fun(n):\n",
    "    try:\n",
    "        return n / 0\n",
    "    except:\n",
    "        print(\"I did it again!\")\n",
    "        raise\n",
    "\n",
    "\n",
    "try:\n",
    "    bad_fun(0)\n",
    "except ArithmeticError:\n",
    "    print(\"I see!\")\n",
    "\n",
    "print(\"THE END.\")"
   ]
  },
  {
   "cell_type": "markdown",
   "id": "37313f21-7037-4177-887c-4eb9f8b24209",
   "metadata": {},
   "source": [
    "### Exceptions: continued\n",
    "\n",
    "Now is a good moment to show you another Python instruction, named assert. This is a keyword.\n",
    "**assert expression**\n",
    "\n",
    "\n",
    "How does it work?\n",
    "\n",
    "    It evaluates the expression;\n",
    "    if the expression evaluates to True, or a non-zero numerical value, or a non-empty string, or any other value different than None, it won't do anything else;\n",
    "    otherwise, it automatically and immediately raises an exception named AssertionError (in this case, we say that the assertion has failed)\n",
    "\n",
    "How it can be used?\n",
    "\n",
    "    you may want to put it into your code where you want to be absolutely safe from evidently wrong data, and where you aren't absolutely sure that the data has been carefully examined before (e.g., inside a function used by someone else)\n",
    "    raising an AssertionError exception secures your code from producing invalid results, and clearly shows the nature of the failure;\n",
    "    assertions don't supersede exceptions or validate the data - they are their supplements.\n",
    "\n",
    "If exceptions and data validation are like careful driving, assertion can play the role of an airbag.\n",
    "\n",
    "Let's see the assert instruction in action. Look at the code in the editor. Run it.\n",
    "\n",
    "The program runs flawlessly if you enter a valid numerical value greater than or equal to zero; otherwise, it stops and emits the following message:"
   ]
  },
  {
   "cell_type": "code",
   "execution_count": null,
   "id": "2b44c896-0940-458d-a0f7-b38343727b5f",
   "metadata": {},
   "outputs": [],
   "source": [
    "import math\n",
    "\n",
    "x = float(input(\"Enter a number: \"))\n",
    "assert x >= 0.0\n",
    "\n",
    "x = math.sqrt(x)\n",
    "\n",
    "print(x)\n"
   ]
  },
  {
   "cell_type": "markdown",
   "id": "56a647b8-4bf4-43a6-8507-a5bb055dcdb1",
   "metadata": {},
   "source": [
    "Example of the Code in Action:\n",
    "If the user inputs 16, the code will output 4.0.\n",
    "If the user inputs -5, it will trigger an AssertionError, as the program doesn’t handle square roots of negative numbers.\n",
    "This script is useful when working with non-negative numbers and finding their square roots."
   ]
  },
  {
   "cell_type": "code",
   "execution_count": null,
   "id": "51059f4b-bb4f-4137-a83e-891aaae1f59c",
   "metadata": {},
   "outputs": [],
   "source": []
  },
  {
   "cell_type": "markdown",
   "id": "1ff76a98-d0fe-4c69-80af-d5287b39a506",
   "metadata": {},
   "source": [
    "### Built-in exceptions\n",
    "\n",
    "We're going to show you a short list of the most useful exceptions. While it may sound strange to call \"useful\" a thing or a phenomenon which is a visible sign of failure or setback, as you know, to err is human and if anything can go wrong, it will go wrong.\n",
    "\n",
    "Exceptions are as routine and normal as any other aspect of a programmer's life.\n",
    "\n",
    "For each exception, we'll show you:\n",
    "\n",
    "    its name;\n",
    "    its location in the exception tree;\n",
    "    a short description;\n",
    "    a concise snippet of code showing the circumstances in which the exception may be raised.\n",
    "\n",
    "There are lots of other exceptions to explore - we simply don't have the space to go through them all here.\n",
    "\n",
    "**ArithmeticError**\n",
    "\n",
    "Location: BaseException ← Exception ← ArithmeticError\n",
    "\n",
    "Description: an abstract exception including all exceptions caused by arithmetic operations like zero division or an argument's invalid domain\n",
    "\n",
    "**AssertionError**\n",
    "\n",
    "Location: BaseException ← Exception ← AssertionError\n",
    "\n",
    "Description: a concrete exception raised by the assert instruction when its argument evaluates to False, None, 0, or an empty string"
   ]
  },
  {
   "cell_type": "code",
   "execution_count": null,
   "id": "45e18efd-9b11-4a03-83bb-a95bdc541dfd",
   "metadata": {},
   "outputs": [],
   "source": [
    "from math import tan, radians\n",
    "angle = int(input('Enter integral angle in degrees: '))\n",
    "\n",
    "# We must be sure that angle != 90 + k * 180\n",
    "assert angle % 180 != 90\n",
    "print(tan(radians(angle)))"
   ]
  },
  {
   "cell_type": "code",
   "execution_count": null,
   "id": "8cb527c0-6ce8-4228-b876-05c357cf3a1b",
   "metadata": {},
   "outputs": [],
   "source": [
    "from math import tan, radians\n",
    "angle = int(input('Enter integral angle in degrees: '))\n",
    "\n",
    "# We must be sure that angle != 90 + k * 180\n",
    "assert angle % 180 != 90\n",
    "print(tan(radians(angle)))"
   ]
  },
  {
   "cell_type": "markdown",
   "id": "1a78bb2c-f483-4b91-b8a9-57a2138167e2",
   "metadata": {},
   "source": [
    "#### **BaseException**\n",
    "\n",
    "Location: BaseException\n",
    "\n",
    "Description: the most general (abstract) of all Python exceptions - all other exceptions are included in this one; it can be said that the following two except branches are equivalent: except: and except BaseException:.\n",
    "\n",
    "**IndexError**\n",
    "\n",
    "Location: BaseException ← Exception ← LookupError ← IndexError\n",
    "\n",
    "Description: a concrete exception raised when you try to access a non-existent sequence's element (e.g., a list's element)"
   ]
  },
  {
   "cell_type": "code",
   "execution_count": null,
   "id": "42c49905-8edb-4ea5-8951-e96a78362127",
   "metadata": {},
   "outputs": [],
   "source": [
    "# The code shows an extravagant way\n",
    "# of leaving the loop.\n",
    "\n",
    "the_list = [1, 2, 3, 4, 5]\n",
    "ix = 0\n",
    "do_it = True\n",
    "\n",
    "while do_it:\n",
    "    try:\n",
    "        print(the_list[ix])\n",
    "        ix += 1\n",
    "    except IndexError:\n",
    "        do_it = False\n",
    "\n",
    "print('Done')"
   ]
  },
  {
   "cell_type": "code",
   "execution_count": null,
   "id": "a4c201e0-ebdb-4c04-936f-0ea7705261f5",
   "metadata": {},
   "outputs": [],
   "source": []
  },
  {
   "cell_type": "markdown",
   "id": "f5871c0c-4f4b-4d58-9180-6ad9fcb73230",
   "metadata": {},
   "source": [
    "**KeyboardInterrupt**\n",
    "\n",
    "Location: BaseException ← KeyboardInterrupt\n",
    "\n",
    "Description: a concrete exception raised when the user uses a keyboard shortcut designed to terminate a program's execution (Ctrl-C in most OSs); if handling this exception doesn't lead to program termination, the program continues its execution.\n",
    "\n",
    "Note: this exception is not derived from the Exception class. Run the program in IDLE.\n",
    "\n",
    "Code:"
   ]
  },
  {
   "cell_type": "code",
   "execution_count": null,
   "id": "3a426fd8-2248-496e-ad31-16a57998d5fe",
   "metadata": {},
   "outputs": [],
   "source": [
    "# This code cannot be terminated\n",
    "# by pressing Ctrl-C.\n",
    "\n",
    "from time import sleep\n",
    "\n",
    "seconds = 0\n",
    "\n",
    "while True:\n",
    "    try:\n",
    "        print(seconds)\n",
    "        seconds += 1\n",
    "        sleep(1)\n",
    "    except KeyboardInterrupt:\n",
    "        print(\"Don't do that!\")"
   ]
  },
  {
   "cell_type": "markdown",
   "id": "09981276-c31c-4e70-be90-6b765ae6bbb0",
   "metadata": {},
   "source": [
    "**LookupError**\n",
    "\n",
    "Location: BaseException ← Exception ← LookupError\n",
    "\n",
    "Description: an abstract exception including all exceptions caused by errors resulting from invalid references to different collections (lists, dictionaries, tuples, etc.)\n"
   ]
  },
  {
   "cell_type": "code",
   "execution_count": null,
   "id": "da82ca1f-68ee-4830-8071-f0080bc401d7",
   "metadata": {},
   "outputs": [],
   "source": []
  },
  {
   "cell_type": "markdown",
   "id": "3a5b949c-5d8c-450a-8ff3-b77b2dd028bc",
   "metadata": {},
   "source": [
    "## **MemoryError**\n",
    "\n",
    "Location: BaseException ← Exception ← MemoryError\n",
    "\n",
    "Description: a concrete exception raised when an operation cannot be completed due to a lack of free memory.\n",
    "\n",
    "Code:"
   ]
  },
  {
   "cell_type": "markdown",
   "id": "4e53ba60-669e-420a-a2ab-dd04c82a877b",
   "metadata": {},
   "source": [
    "# This code causes the MemoryError exception.\n",
    "# Warning: executing this code may affect your OS.\n",
    "# Don't run it in production environments!\n",
    "\n",
    "string = 'x'\n",
    "try:\n",
    "    while True:\n",
    "        string = string + string\n",
    "        print(len(string))\n",
    "except MemoryError:\n",
    "    print('This is not funny!')"
   ]
  },
  {
   "cell_type": "code",
   "execution_count": null,
   "id": "6d390b05-fb66-49b2-91a8-1f54923b4df9",
   "metadata": {},
   "outputs": [],
   "source": []
  },
  {
   "cell_type": "markdown",
   "id": "e0b3f963-5252-49c5-9973-759f4e69be55",
   "metadata": {},
   "source": [
    "**OverflowError**\r\n",
    "\r\n",
    "Location: BaseException ← Exception ← ArithmeticError ← OverflowError\r\n",
    "\r\n",
    "Description: a concrete exception raised when an operation produces a number too big to be successfully stored\r\n",
    "\r\n",
    "Code:"
   ]
  },
  {
   "cell_type": "code",
   "execution_count": 1,
   "id": "ff654776-2954-45b4-ad19-87c19ead7da2",
   "metadata": {},
   "outputs": [
    {
     "name": "stdout",
     "output_type": "stream",
     "text": [
      "2.718281828459045\n",
      "7.38905609893065\n",
      "54.598150033144236\n",
      "2980.9579870417283\n",
      "8886110.520507872\n",
      "78962960182680.69\n",
      "6.235149080811617e+27\n",
      "3.8877084059945954e+55\n",
      "1.5114276650041035e+111\n",
      "2.2844135865397565e+222\n",
      "The number is too big.\n"
     ]
    }
   ],
   "source": [
    "# The code prints subsequent\n",
    "# values of exp(k), k = 1, 2, 4, 8, 16, ...\n",
    "\n",
    "from math import exp\n",
    "\n",
    "ex = 1\n",
    "\n",
    "try:\n",
    "    while True:\n",
    "        print(exp(ex))\n",
    "        ex *= 2\n",
    "except OverflowError:\n",
    "    print('The number is too big.')\n",
    "\n",
    "\n"
   ]
  },
  {
   "cell_type": "code",
   "execution_count": null,
   "id": "fe3445bd-cebc-4426-979d-dbbb394fd27f",
   "metadata": {},
   "outputs": [],
   "source": []
  },
  {
   "cell_type": "markdown",
   "id": "4bcd4c0a-e486-4869-aa0b-5c68dfd9aaf6",
   "metadata": {},
   "source": [
    "**ImportError**\n",
    "\n",
    "Location: BaseException ← Exception ← StandardError ← ImportError\n",
    "\n",
    "Description: a concrete exception raised when an import operation fails"
   ]
  },
  {
   "cell_type": "code",
   "execution_count": 2,
   "id": "f059c972-f377-4328-bf4b-6386f939e784",
   "metadata": {},
   "outputs": [
    {
     "name": "stdout",
     "output_type": "stream",
     "text": [
      "One of your imports has failed.\n"
     ]
    }
   ],
   "source": [
    "# One of these imports will fail - which one?\n",
    "\n",
    "try:\n",
    "    import math\n",
    "    import time\n",
    "    import abracadabra\n",
    "\n",
    "except:\n",
    "    print('One of your imports has failed.')\n",
    "\n"
   ]
  },
  {
   "cell_type": "code",
   "execution_count": null,
   "id": "bd7d589e-5de8-4e9a-bacd-0eaa0d32463d",
   "metadata": {},
   "outputs": [],
   "source": []
  },
  {
   "cell_type": "markdown",
   "id": "045e1b43-d58a-4e83-b7c3-9c530ce3fd7b",
   "metadata": {},
   "source": [
    "**KeyError**\n",
    "\n",
    "Location: BaseException ← Exception ← LookupError ← KeyError\n",
    "\n",
    "Description: a concrete exception raised when you try to access a collection's non-existent element (e.g., a dictionary's element)\n",
    "\n"
   ]
  },
  {
   "cell_type": "code",
   "execution_count": 6,
   "id": "3ea61736-203a-49e4-acda-1fed9ff974ed",
   "metadata": {},
   "outputs": [
    {
     "name": "stdout",
     "output_type": "stream",
     "text": [
      "b\n",
      "c\n",
      "d\n",
      "No such key: d\n"
     ]
    }
   ],
   "source": [
    "# How to abuse the dictionary\n",
    "# and how to deal with it?\n",
    "\n",
    "dictionary = { 'a': 'b', 'b': 'c', 'c': 'd' }\n",
    "ch = 'a'\n",
    "\n",
    "try:\n",
    "    while True:\n",
    "        ch = dictionary[ch]\n",
    "        print(ch)\n",
    "except KeyError:\n",
    "    print('No such key:', ch)\n",
    "\n"
   ]
  },
  {
   "cell_type": "code",
   "execution_count": 7,
   "id": "8aa8e5f8-d617-462f-b03c-b65ade9cdac4",
   "metadata": {},
   "outputs": [
    {
     "name": "stdout",
     "output_type": "stream",
     "text": [
      "b\n"
     ]
    }
   ],
   "source": [
    "# How to abuse the dictionary\n",
    "# and how to deal with it?\n",
    "\n",
    "dictionary = { 'a': 'b', 'b': 'c', 'c': 'd' }\n",
    "ch = 'a'\n",
    "\n",
    "try:\n",
    "\n",
    "        ch = dictionary[ch]\n",
    "        print(ch)\n",
    "except KeyError:\n",
    "    print('No such key:', ch)\n",
    "\n"
   ]
  },
  {
   "cell_type": "code",
   "execution_count": null,
   "id": "917b5c2f-838d-436e-a5d4-2c7fe310b6d4",
   "metadata": {},
   "outputs": [],
   "source": []
  },
  {
   "cell_type": "markdown",
   "id": "2acb9f03-c77e-4e70-a967-4a7143479176",
   "metadata": {},
   "source": [
    "### Scenario\n",
    "\n",
    "Your task is to write a function able to input integer values and to check if they are within a specified range.\n",
    "\n",
    "The function should:\n",
    "\n",
    "    accept three arguments: a prompt, a low acceptable limit, and a high acceptable limit;\n",
    "    if the user enters a string that is not an integer value, the function should emit the message Error: wrong input, and ask the user to input the value again;\n",
    "    if the user enters a number which falls outside the specified range, the function should emit the message Error: the value is not within permitted range (min..max) and ask the user to input the value again;\n",
    "    if the input value is valid, return it as a result.\n"
   ]
  },
  {
   "cell_type": "code",
   "execution_count": 10,
   "id": "9d0096bd-3d6b-4291-8988-a41a1e80e3cf",
   "metadata": {},
   "outputs": [
    {
     "name": "stdin",
     "output_type": "stream",
     "text": [
      "Enter your age:  66\n"
     ]
    },
    {
     "name": "stdout",
     "output_type": "stream",
     "text": [
      "Error: the value is not within the permitted range (18..60)\n"
     ]
    },
    {
     "name": "stdin",
     "output_type": "stream",
     "text": [
      "Enter your age:  45\n"
     ]
    },
    {
     "name": "stdout",
     "output_type": "stream",
     "text": [
      "Valid age entered: 45\n"
     ]
    }
   ],
   "source": [
    "def input_within_range(prompt, low_limit, high_limit):\n",
    "    while True:\n",
    "        try:\n",
    "            # Get user input and convert to integer\n",
    "            value = int(input(prompt))\n",
    "            \n",
    "            # Check if value is within the acceptable range\n",
    "            if value < low_limit or value > high_limit:\n",
    "                print(f\"Error: the value is not within the permitted range ({low_limit}..{high_limit})\")\n",
    "            else:\n",
    "                return value\n",
    "        except ValueError:\n",
    "            # Handle non-integer inputs\n",
    "            print(\"Error: wrong input, please enter an integer value.\")\n",
    "\n",
    "# Example usage\n",
    "age = input_within_range(\"Enter your age: \", 18, 60)\n",
    "print(f\"Valid age entered: {age}\")\n",
    "\n"
   ]
  },
  {
   "cell_type": "code",
   "execution_count": 15,
   "id": "f69f974a-6dbe-4af0-adcb-9d98987ea52b",
   "metadata": {},
   "outputs": [
    {
     "name": "stdin",
     "output_type": "stream",
     "text": [
      "Enter a number from -18 to 60:  66\n"
     ]
    },
    {
     "name": "stdout",
     "output_type": "stream",
     "text": [
      "Error: the value is not within permitted range (-18..60)\n"
     ]
    },
    {
     "name": "stdin",
     "output_type": "stream",
     "text": [
      "Enter a number from -18 to 60:  45\n"
     ]
    },
    {
     "name": "stdout",
     "output_type": "stream",
     "text": [
      "The number is: 45\n"
     ]
    }
   ],
   "source": [
    "def read_int(prompt, min, max):\n",
    "    ok = False\n",
    "    while not ok:\n",
    "        try:\n",
    "            value = int(input(prompt))\n",
    "            ok = True\n",
    "        except ValueError:\n",
    "            print(\"Error: wrong input\")\n",
    "        if ok:\n",
    "            ok = value >= min and value <= max\n",
    "        if not ok:\n",
    "            print(\"Error: the value is not within permitted range (\" + str(min) + \"..\" + str(max) + \")\")\n",
    "    return value;\n",
    "    \n",
    "        \n",
    "            \n",
    "\n",
    "\n",
    "v = read_int(\"Enter a number from -18 to 60: \", -18, 60)\n",
    "\n",
    "print(\"The number is:\", v)\n"
   ]
  },
  {
   "cell_type": "code",
   "execution_count": null,
   "id": "dbd5a2be-c61c-404f-9187-81ed3b6c3fd9",
   "metadata": {},
   "outputs": [],
   "source": []
  },
  {
   "cell_type": "code",
   "execution_count": null,
   "id": "6ae673bf-e4b2-4d55-bc98-76b9f879d861",
   "metadata": {},
   "outputs": [],
   "source": []
  },
  {
   "cell_type": "code",
   "execution_count": null,
   "id": "89ec720d-e9ac-4dab-b32f-aa35807afdb7",
   "metadata": {},
   "outputs": [],
   "source": []
  },
  {
   "cell_type": "code",
   "execution_count": null,
   "id": "4d8bffd0-0870-4796-9945-218e53c72349",
   "metadata": {},
   "outputs": [],
   "source": []
  },
  {
   "cell_type": "code",
   "execution_count": null,
   "id": "ceea9b1a-ab76-449c-bb67-9655fd620d06",
   "metadata": {},
   "outputs": [],
   "source": []
  },
  {
   "cell_type": "code",
   "execution_count": null,
   "id": "7b24aa2d-c902-4f66-ac09-a9b5d56ebb4c",
   "metadata": {},
   "outputs": [],
   "source": []
  },
  {
   "cell_type": "code",
   "execution_count": null,
   "id": "3ece8c66-5cb7-424c-aebf-95851195428a",
   "metadata": {},
   "outputs": [],
   "source": []
  },
  {
   "cell_type": "code",
   "execution_count": null,
   "id": "df24714e-390f-4984-9881-62a58cf3fe21",
   "metadata": {},
   "outputs": [],
   "source": []
  },
  {
   "cell_type": "code",
   "execution_count": null,
   "id": "c2ac119a-a7c2-4e92-9a5a-b11c80ba8362",
   "metadata": {},
   "outputs": [],
   "source": []
  },
  {
   "cell_type": "code",
   "execution_count": null,
   "id": "44f481ad-3b8c-4a71-8fe1-cbea60da7a05",
   "metadata": {},
   "outputs": [],
   "source": []
  }
 ],
 "metadata": {
  "kernelspec": {
   "display_name": "Python 3 (ipykernel)",
   "language": "python",
   "name": "python3"
  },
  "language_info": {
   "codemirror_mode": {
    "name": "ipython",
    "version": 3
   },
   "file_extension": ".py",
   "mimetype": "text/x-python",
   "name": "python",
   "nbconvert_exporter": "python",
   "pygments_lexer": "ipython3",
   "version": "3.12.4"
  }
 },
 "nbformat": 4,
 "nbformat_minor": 5
}
