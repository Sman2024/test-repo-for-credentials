{
 "cells": [
  {
   "cell_type": "code",
   "execution_count": null,
   "id": "577eb02c-acc9-4b29-acbf-b200d996410a",
   "metadata": {},
   "outputs": [],
   "source": [
    "s = 'sulaeman'\n",
    "s"
   ]
  },
  {
   "cell_type": "code",
   "execution_count": null,
   "id": "f9915c6d-36d3-4043-9423-f8504c74f930",
   "metadata": {},
   "outputs": [],
   "source": [
    "s[:1]"
   ]
  },
  {
   "cell_type": "code",
   "execution_count": null,
   "id": "d23d98e1-baf1-488e-a402-624e55c6f867",
   "metadata": {},
   "outputs": [],
   "source": [
    "s[1:]"
   ]
  },
  {
   "cell_type": "code",
   "execution_count": null,
   "id": "1fe04e5a-0536-4bbf-9ed7-eaa9b323582a",
   "metadata": {},
   "outputs": [],
   "source": [
    " s.upper()"
   ]
  },
  {
   "cell_type": "code",
   "execution_count": null,
   "id": "215276a2-ae7a-4120-80c6-2f3a647ef397",
   "metadata": {},
   "outputs": [],
   "source": [
    "s.lower()"
   ]
  },
  {
   "cell_type": "code",
   "execution_count": null,
   "id": "41d9aaed-2d76-464c-aa89-821ec447f32e",
   "metadata": {},
   "outputs": [],
   "source": [
    "s.split()"
   ]
  },
  {
   "cell_type": "code",
   "execution_count": null,
   "id": "0510e5ed-f3d1-4a91-a457-a88afcd9f918",
   "metadata": {},
   "outputs": [],
   "source": [
    "s.split('s')"
   ]
  },
  {
   "cell_type": "markdown",
   "id": "e40a0203-632f-44ce-88d2-1616ed78cc84",
   "metadata": {},
   "source": [
    "### List\n",
    "##### Earlier when discussing strings we introduced the concept of a sequence in Python. List can be thought of the most general version of a sequence in Python.\n",
    "##### Unlike strings, they are mutable, meaning the elements inside a list can be changed!\n",
    "\n",
    "##### In this section we will learn about:\n",
    "\n",
    "    * 1.) Creating lists\n",
    "    * 2.) Indexing and slicing lists\n",
    "    * 3.) Basic List Methods\n",
    "    * 4.) Nesting Lists\n",
    "    * 5.) Intro to List comprehensions\n",
    "\n",
    "##### Lists are constructed with the bracket [] and commas separating every element in the list.\n"
   ]
  },
  {
   "cell_type": "code",
   "execution_count": 51,
   "id": "303dfef6-ee5d-443d-8aee-08707353eb3a",
   "metadata": {},
   "outputs": [
    {
     "data": {
      "text/plain": [
       "[1, 2, 3]"
      ]
     },
     "execution_count": 51,
     "metadata": {},
     "output_type": "execute_result"
    }
   ],
   "source": [
    "# Assingn a list to an variable named my_list\n",
    "my_list = [1, 2,3]\n",
    "my_list"
   ]
  },
  {
   "cell_type": "code",
   "execution_count": 52,
   "id": "e1e187ae-63e5-4dff-b9d5-3de545d9ce69",
   "metadata": {},
   "outputs": [
    {
     "data": {
      "text/plain": [
       "[3, 7, 9, 12]"
      ]
     },
     "execution_count": 52,
     "metadata": {},
     "output_type": "execute_result"
    }
   ],
   "source": [
    "list2 = [3,7,9,12]\n",
    "list2"
   ]
  },
  {
   "cell_type": "code",
   "execution_count": 53,
   "id": "3d2e18fb-1191-4324-acb0-42f80dfb044f",
   "metadata": {},
   "outputs": [
    {
     "data": {
      "text/plain": [
       "[3, 7, 9, 12, 67]"
      ]
     },
     "execution_count": 53,
     "metadata": {},
     "output_type": "execute_result"
    }
   ],
   "source": [
    "list2.append(67)\n",
    "list2"
   ]
  },
  {
   "cell_type": "code",
   "execution_count": 55,
   "id": "97591a39-77bc-480a-bfa9-75b4737fa4d3",
   "metadata": {},
   "outputs": [
    {
     "data": {
      "text/plain": [
       "['change', 7, 9, 12, 67]"
      ]
     },
     "execution_count": 55,
     "metadata": {},
     "output_type": "execute_result"
    }
   ],
   "source": [
    "list2[0]= 'change'\n",
    "list2"
   ]
  },
  {
   "cell_type": "code",
   "execution_count": null,
   "id": "29296425-f979-4750-9347-3a03aa6dd3db",
   "metadata": {},
   "outputs": [],
   "source": [
    " list2.pop(1)"
   ]
  },
  {
   "cell_type": "code",
   "execution_count": null,
   "id": "f3124de0-e47a-4a28-90ef-6fca3f75e6f0",
   "metadata": {},
   "outputs": [],
   "source": [
    "list2.pop(1)"
   ]
  },
  {
   "cell_type": "markdown",
   "id": "4dfd22be-fa1a-4a4b-b695-159f00bcb5a0",
   "metadata": {},
   "source": [
    "##### We just created a list of integers, but lists can actually hold diff object types.E.g"
   ]
  },
  {
   "cell_type": "code",
   "execution_count": null,
   "id": "50913faf-2f10-41a8-93c0-f83c4d8dd4d0",
   "metadata": {},
   "outputs": [],
   "source": [
    "my_list = ['A string', 23, 100, 232]\n",
    "my_list"
   ]
  },
  {
   "cell_type": "markdown",
   "id": "f0eb1079-f15c-492c-8c8e-1d54bc235df6",
   "metadata": {},
   "source": [
    "###### Just like strings, the len()function will tell you how many items are in the sequence ofthe list."
   ]
  },
  {
   "cell_type": "code",
   "execution_count": null,
   "id": "67f1725b-a3f0-4c0e-973b-fc8938a57a4b",
   "metadata": {},
   "outputs": [],
   "source": [
    "len(my_list)"
   ]
  },
  {
   "cell_type": "markdown",
   "id": "d94fe672-5ce7-4120-a5e7-c9c375998d28",
   "metadata": {},
   "source": [
    "### Indexing and Slicing\n",
    "\n",
    "##### Indexing and Slicing work just like in string. Let's make a new list to remind ourselves of how this works:"
   ]
  },
  {
   "cell_type": "code",
   "execution_count": null,
   "id": "38b466f8-5071-4814-9411-709c02cab58a",
   "metadata": {},
   "outputs": [],
   "source": [
    "my_list = ['one', 'two', 'three', 4, 5]\n",
    "my_list"
   ]
  },
  {
   "cell_type": "code",
   "execution_count": null,
   "id": "d24aa9f4-5dc9-44a7-9e0b-69992143d202",
   "metadata": {},
   "outputs": [],
   "source": [
    "# Grab element at index 0\n",
    "my_list[0]"
   ]
  },
  {
   "cell_type": "code",
   "execution_count": null,
   "id": "3357b565-24fd-4819-be50-b9de5e8f4134",
   "metadata": {},
   "outputs": [],
   "source": [
    "my_list[2]"
   ]
  },
  {
   "cell_type": "code",
   "execution_count": null,
   "id": "c5022c4d-e72d-47a8-a9ab-772b88ca274d",
   "metadata": {},
   "outputs": [],
   "source": [
    "# Grab index 1 and everything pass it\n",
    "my_list[1:]"
   ]
  },
  {
   "cell_type": "code",
   "execution_count": null,
   "id": "d774be2e-7460-460d-abb8-cbfebeab5053",
   "metadata": {},
   "outputs": [],
   "source": [
    "# Grab everything UP TO index 3\n",
    "my_list[:3]"
   ]
  },
  {
   "cell_type": "code",
   "execution_count": null,
   "id": "11184213-6efc-4a59-b5f7-84c879f78c84",
   "metadata": {},
   "outputs": [],
   "source": [
    "my_list[:-2]"
   ]
  },
  {
   "cell_type": "code",
   "execution_count": null,
   "id": "5e7b642c-2145-4c35-8578-1d76517daf52",
   "metadata": {},
   "outputs": [],
   "source": [
    "my_list[::2]"
   ]
  },
  {
   "cell_type": "markdown",
   "id": "f8239b17-d44b-4b0c-b1be-cef271601708",
   "metadata": {},
   "source": [
    "##### We can also use + to concatenate lists, just like we did for strings."
   ]
  },
  {
   "cell_type": "code",
   "execution_count": null,
   "id": "158f0ecf-c995-4c2b-a8f0-505ee8c6d383",
   "metadata": {},
   "outputs": [],
   "source": [
    "my_list + ['new item']"
   ]
  },
  {
   "cell_type": "code",
   "execution_count": null,
   "id": "5106faf9-e637-4f2f-9017-25522b9b3505",
   "metadata": {},
   "outputs": [],
   "source": [
    "my_list.append('new item')"
   ]
  },
  {
   "cell_type": "markdown",
   "id": "70a2f657-346a-47ed-a90e-e1361091b2c8",
   "metadata": {},
   "source": [
    "##### Note: This doesn't actually change the original list!"
   ]
  },
  {
   "cell_type": "code",
   "execution_count": null,
   "id": "44835b1c-ea18-460a-bb87-c1108ded61bb",
   "metadata": {},
   "outputs": [],
   "source": [
    "my_list"
   ]
  },
  {
   "cell_type": "markdown",
   "id": "a4150a40-e9ef-4631-9733-c70dfc63d39a",
   "metadata": {},
   "source": [
    "##### You would have to reassign the list to make the change permanent."
   ]
  },
  {
   "cell_type": "code",
   "execution_count": null,
   "id": "94b0b8c8-70ee-46b6-8af6-ec5977ab35c1",
   "metadata": {},
   "outputs": [],
   "source": [
    "# Reassign\n",
    "my_list = my_list + ['add new item permanent']\n",
    "my_list"
   ]
  },
  {
   "cell_type": "code",
   "execution_count": null,
   "id": "8c402c9e-4c47-4d05-b0df-9c77b519287f",
   "metadata": {},
   "outputs": [],
   "source": [
    "my_list\n"
   ]
  },
  {
   "cell_type": "markdown",
   "id": "f024e5bd-a94e-4442-8f5c-6da98cc107c3",
   "metadata": {},
   "source": [
    "##### We can also use the * for a duplication method similar to strings:"
   ]
  },
  {
   "cell_type": "code",
   "execution_count": null,
   "id": "72f13bd0-20f5-4dc3-b732-819a65a78660",
   "metadata": {},
   "outputs": [],
   "source": [
    "# Make the list double\n",
    "my_list * 2"
   ]
  },
  {
   "cell_type": "code",
   "execution_count": null,
   "id": "a88252a3-337d-43e3-a881-910784ebf2e0",
   "metadata": {},
   "outputs": [],
   "source": [
    "# Again doubling not permanent\n",
    "my_list"
   ]
  },
  {
   "cell_type": "markdown",
   "id": "1257a502-dc34-432e-ae7f-a1f69cacbcc5",
   "metadata": {},
   "source": [
    "### Basic List Methods\n",
    "\n",
    "######If you are familiar with another programming language, ypu might start to draw parallels btw arrays in another language and lists in Python. Lists in Python however, tend to be more flexible than arrays in other languages fow two reasons: they have no fixed size (meaning we dont have to  specify how big a list will be), and they have no fixed type constraint(like we've seen above).\n",
    "\n",
    "E.g"
   ]
  },
  {
   "cell_type": "code",
   "execution_count": null,
   "id": "e52fdd03-16a5-4fee-9ad5-bcc1018cb8f4",
   "metadata": {},
   "outputs": [],
   "source": [
    "# Create a list\n",
    "list1 = [1,2,3]\n",
    "list1"
   ]
  },
  {
   "cell_type": "code",
   "execution_count": null,
   "id": "f5c7f4ee-a563-473e-845b-a1226932adaf",
   "metadata": {},
   "outputs": [],
   "source": [
    "###### Use the append method to permanently add an item to the end of a list:\n",
    "# Append\n",
    "list1.append('append me!')\n",
    "list1"
   ]
  },
  {
   "cell_type": "code",
   "execution_count": null,
   "id": "e3d0b998-e332-4185-9131-63c1555756d6",
   "metadata": {},
   "outputs": [],
   "source": [
    "my_list"
   ]
  },
  {
   "cell_type": "code",
   "execution_count": null,
   "id": "1049a4da-6d91-4ace-bbf9-4476d854c225",
   "metadata": {},
   "outputs": [],
   "source": [
    "list1"
   ]
  },
  {
   "cell_type": "markdown",
   "id": "69f42439-068b-4cfa-bef9-fa3e8a4f9572",
   "metadata": {},
   "source": [
    "##### Use pop to \"pop off\" an item from the list. By default pop takes off the last index., but you can also specify when index to pop off. e.g"
   ]
  },
  {
   "cell_type": "code",
   "execution_count": null,
   "id": "0beb0c32-3dd3-4e0e-8239-e3e242da1187",
   "metadata": {},
   "outputs": [],
   "source": [
    "# Pop off the 0 indexed item\n",
    "list1.pop(0)"
   ]
  },
  {
   "cell_type": "code",
   "execution_count": null,
   "id": "ce3e6344-0613-4bc1-8c8d-db0ae332d11f",
   "metadata": {},
   "outputs": [],
   "source": [
    "# show\n",
    "list1"
   ]
  },
  {
   "cell_type": "code",
   "execution_count": null,
   "id": "295dfc2b-7cb9-4e2e-9fed-f9023f5176f0",
   "metadata": {},
   "outputs": [],
   "source": [
    "# Assign the popped element, remember default popped index is -1\n",
    "popped_item = list1.pop()\n",
    "popped_item"
   ]
  },
  {
   "cell_type": "code",
   "execution_count": null,
   "id": "8b2dd112-9e2f-40dc-a497-078fe0b7952a",
   "metadata": {},
   "outputs": [],
   "source": [
    "list1"
   ]
  },
  {
   "cell_type": "code",
   "execution_count": null,
   "id": "2f0ba79c-c2cf-4ea8-8363-bcd1c67efc17",
   "metadata": {},
   "outputs": [],
   "source": [
    "popped_item"
   ]
  },
  {
   "cell_type": "code",
   "execution_count": null,
   "id": "7a14fa49-5323-4416-815a-e6f5454fc808",
   "metadata": {},
   "outputs": [],
   "source": [
    "list1[100]"
   ]
  },
  {
   "cell_type": "markdown",
   "id": "e7006c72-0588-41ed-ae57-0d8debac28a9",
   "metadata": {},
   "source": [
    "###### We can use the **sort** method and the **reverse** methods to also affect ur lists:"
   ]
  },
  {
   "cell_type": "code",
   "execution_count": 1,
   "id": "39c23fef-d25c-41a9-9194-684cf603b9cd",
   "metadata": {},
   "outputs": [
    {
     "data": {
      "text/plain": [
       "['a', 'e', 'x', 'b', 'c']"
      ]
     },
     "execution_count": 1,
     "metadata": {},
     "output_type": "execute_result"
    }
   ],
   "source": [
    "new_list = ['a','e','x','b','c']\n",
    "new_list"
   ]
  },
  {
   "cell_type": "code",
   "execution_count": 2,
   "id": "3fbe3923-7d72-4103-9e39-64c4db6bf9fe",
   "metadata": {},
   "outputs": [
    {
     "data": {
      "text/plain": [
       "['c', 'b', 'x', 'e', 'a']"
      ]
     },
     "execution_count": 2,
     "metadata": {},
     "output_type": "execute_result"
    }
   ],
   "source": [
    "# Use reverse to reverse order (this is permanent)\n",
    "new_list.reverse()\n",
    "new_list"
   ]
  },
  {
   "cell_type": "code",
   "execution_count": 3,
   "id": "a7ebec97-56ac-4102-a5b6-4ab5f09af51e",
   "metadata": {},
   "outputs": [
    {
     "data": {
      "text/plain": [
       "['c', 'b', 'x', 'e', 'a']"
      ]
     },
     "execution_count": 3,
     "metadata": {},
     "output_type": "execute_result"
    }
   ],
   "source": [
    "new_list"
   ]
  },
  {
   "cell_type": "code",
   "execution_count": 4,
   "id": "a92c0d1e-0d97-4c09-980d-98f5a65b037d",
   "metadata": {},
   "outputs": [
    {
     "data": {
      "text/plain": [
       "['a', 'b', 'c', 'e', 'x']"
      ]
     },
     "execution_count": 4,
     "metadata": {},
     "output_type": "execute_result"
    }
   ],
   "source": [
    "# Use sort to sort the list (in this case alphabetical order, but for number it will go ascending)\n",
    "new_list.sort()\n",
    "new_list"
   ]
  },
  {
   "cell_type": "code",
   "execution_count": 5,
   "id": "bdccf093-4292-4c88-9d7c-1d6e368c231e",
   "metadata": {},
   "outputs": [
    {
     "data": {
      "text/plain": [
       "[1, 34, 76, 5, 22, 37]"
      ]
     },
     "execution_count": 5,
     "metadata": {},
     "output_type": "execute_result"
    }
   ],
   "source": [
    "new_list_num = [1,34,76,5,22,37]\n",
    "new_list_num"
   ]
  },
  {
   "cell_type": "code",
   "execution_count": 9,
   "id": "b1724275-c417-471b-966e-91bb39cd3034",
   "metadata": {},
   "outputs": [
    {
     "data": {
      "text/plain": [
       "[1, 5, 22, 34, 37, 76]"
      ]
     },
     "execution_count": 9,
     "metadata": {},
     "output_type": "execute_result"
    }
   ],
   "source": [
    "new_list_num = [1,34,76,5,22,37]\n",
    "new_list_num.sort()\n",
    "new_list_num"
   ]
  },
  {
   "cell_type": "code",
   "execution_count": 10,
   "id": "cbe054ce-00cd-4c04-98d9-a51c41cee148",
   "metadata": {},
   "outputs": [
    {
     "data": {
      "text/plain": [
       "(([1, 34, 76],), [5, 22, 37])"
      ]
     },
     "execution_count": 10,
     "metadata": {},
     "output_type": "execute_result"
    }
   ],
   "source": [
    "new_list_num_1 = [1,34,76],\n",
    "new_list_num_2 = [5,22,37]\n",
    "matrix = new_list_num_1,new_list_num_2\n",
    "matrix"
   ]
  },
  {
   "cell_type": "code",
   "execution_count": 11,
   "id": "2bb489ea-05ae-45cf-8aa6-4ddbda39f66e",
   "metadata": {},
   "outputs": [
    {
     "data": {
      "text/plain": [
       "[1, 5, 22, 34, 37, 76]"
      ]
     },
     "execution_count": 11,
     "metadata": {},
     "output_type": "execute_result"
    }
   ],
   "source": [
    "new_list_num.sort()\n",
    "new_list_num"
   ]
  },
  {
   "cell_type": "code",
   "execution_count": 12,
   "id": "970569dd-1a9f-4d00-b64b-773fa018cf36",
   "metadata": {},
   "outputs": [
    {
     "data": {
      "text/plain": [
       "[([1, 34, 76],), ([5, 22, 37],), [78, 90, 97]]"
      ]
     },
     "execution_count": 12,
     "metadata": {},
     "output_type": "execute_result"
    }
   ],
   "source": [
    "new_list_num_a = [1,34,76],\n",
    "new_list_num_b = [5,22,37],\n",
    "new_list_num_c = [78,90,97]\n",
    "matrix = [new_list_num_a,new_list_num_b,new_list_num_c]\n",
    "matrix"
   ]
  },
  {
   "cell_type": "code",
   "execution_count": 13,
   "id": "eebb4b4f-b452-4dcb-bb7f-54ca48ccf967",
   "metadata": {},
   "outputs": [
    {
     "data": {
      "text/plain": [
       "[1, 5, 22, 34, 37, 76]"
      ]
     },
     "execution_count": 13,
     "metadata": {},
     "output_type": "execute_result"
    }
   ],
   "source": [
    "new_list_num.sort()\n",
    "new_list_num"
   ]
  },
  {
   "cell_type": "code",
   "execution_count": 14,
   "id": "f916b27c-9c9c-468f-bcbc-4a96b5fcda3f",
   "metadata": {},
   "outputs": [
    {
     "data": {
      "text/plain": [
       "[1, 5, 22, 34, 37, 76, 80]"
      ]
     },
     "execution_count": 14,
     "metadata": {},
     "output_type": "execute_result"
    }
   ],
   "source": [
    "new_list_num.append(80)\n",
    "new_list_num\n"
   ]
  },
  {
   "cell_type": "code",
   "execution_count": 15,
   "id": "6b6abe2e-1de1-405d-b98d-3e2db61436c6",
   "metadata": {},
   "outputs": [
    {
     "ename": "SyntaxError",
     "evalue": "invalid decimal literal (2419616501.py, line 1)",
     "output_type": "error",
     "traceback": [
      "\u001b[1;36m  Cell \u001b[1;32mIn[15], line 1\u001b[1;36m\u001b[0m\n\u001b[1;33m    1st_1=[1,2,3]\u001b[0m\n\u001b[1;37m    ^\u001b[0m\n\u001b[1;31mSyntaxError\u001b[0m\u001b[1;31m:\u001b[0m invalid decimal literal\n"
     ]
    }
   ],
   "source": [
    "1st_1=[1,2,3]\n",
    "1st_2=[4,5,6]\n",
    "1st_3=[7,8,9]\n",
    "\n",
    "matrix = [1st_1,1st_2,1st_3]\n",
    "matrix"
   ]
  },
  {
   "cell_type": "markdown",
   "id": "68a3a5c4-be59-4224-a553-d7c568d0e855",
   "metadata": {},
   "source": [
    "### Nesting List\n",
    "###### A great feature of PYthon data structure is that they support nesting. This means we can have a data structures within data structures. e.g: A list inside a list.\n"
   ]
  },
  {
   "cell_type": "code",
   "execution_count": 16,
   "id": "945d9cf8-ca26-4a39-b10d-d0918bcef850",
   "metadata": {},
   "outputs": [
    {
     "data": {
      "text/plain": [
       "([1, 2, 3], [4, 5, 6], [7, 8, 9])"
      ]
     },
     "execution_count": 16,
     "metadata": {},
     "output_type": "execute_result"
    }
   ],
   "source": [
    "# let's make three lists\n",
    "first_1=[1,2,3]\n",
    "first_2=[4,5,6]\n",
    "first_3=[7,8,9]\n",
    "\n",
    "# Make a list of lists to form a matrix\n",
    "matrix = first_1,first_2,first_3\n",
    "matrix\n",
    "\n"
   ]
  },
  {
   "cell_type": "code",
   "execution_count": null,
   "id": "c385ff33-6d14-43e7-b09c-c3053dfe04ee",
   "metadata": {},
   "outputs": [],
   "source": []
  },
  {
   "cell_type": "code",
   "execution_count": 17,
   "id": "2f06fb4f-48ed-41d9-856e-0d3793e17a5f",
   "metadata": {},
   "outputs": [
    {
     "data": {
      "text/plain": [
       "[([1, 34, 76],), ([5, 22, 37],), [78, 90, 97]]"
      ]
     },
     "execution_count": 17,
     "metadata": {},
     "output_type": "execute_result"
    }
   ],
   "source": [
    "new_list_num_1 = [1,34,76],\n",
    "new_list_num_2 = [5,22,37],\n",
    "new_list_num_3 = [78,90,97]\n",
    "matrix = [new_list_num_1,new_list_num_2,new_list_num_3]\n",
    "matrix"
   ]
  },
  {
   "cell_type": "code",
   "execution_count": null,
   "id": "aaeb6523-e292-430e-b023-1d03b77eb3e7",
   "metadata": {},
   "outputs": [],
   "source": []
  },
  {
   "cell_type": "code",
   "execution_count": 18,
   "id": "074efa92-c6a2-4c5e-b059-1337bfb0ef55",
   "metadata": {},
   "outputs": [
    {
     "data": {
      "text/plain": [
       "[([1, 34, 76],), ([5, 22, 37],), [78, 90, 97]]"
      ]
     },
     "execution_count": 18,
     "metadata": {},
     "output_type": "execute_result"
    }
   ],
   "source": [
    "first_1 = [1,34,76],\n",
    "first_2 = [5,22,37],\n",
    "first_3 = [78,90,97]\n",
    "matrix = [first_1,first_2,first_3]\n",
    "matrix"
   ]
  },
  {
   "cell_type": "markdown",
   "id": "d95f9c36-dbdb-4e97-957d-ae747ec40cfe",
   "metadata": {},
   "source": [
    "###### We can again use indexing to grab element, but now there are two levels for the index. The items in the matrix object, and then the items inside that list!"
   ]
  },
  {
   "cell_type": "code",
   "execution_count": 19,
   "id": "544798f8-493d-450d-be62-bfef673760fa",
   "metadata": {},
   "outputs": [
    {
     "data": {
      "text/plain": [
       "([1, 34, 76],)"
      ]
     },
     "execution_count": 19,
     "metadata": {},
     "output_type": "execute_result"
    }
   ],
   "source": [
    "# Grab first item in matrix object\n",
    "matrix[0]"
   ]
  },
  {
   "cell_type": "code",
   "execution_count": 20,
   "id": "3c30c5f8-f3b6-4b8f-9752-4ed715f1305e",
   "metadata": {},
   "outputs": [
    {
     "data": {
      "text/plain": [
       "[1, 34, 76]"
      ]
     },
     "execution_count": 20,
     "metadata": {},
     "output_type": "execute_result"
    }
   ],
   "source": [
    "# Grab first item of the first item in the matrix object\n",
    "matrix[0][0]"
   ]
  },
  {
   "cell_type": "code",
   "execution_count": 21,
   "id": "ff509420-3ded-4092-ae3f-e2720ff8668c",
   "metadata": {},
   "outputs": [
    {
     "data": {
      "text/plain": [
       "([5, 22, 37],)"
      ]
     },
     "execution_count": 21,
     "metadata": {},
     "output_type": "execute_result"
    }
   ],
   "source": [
    "matrix[1]"
   ]
  },
  {
   "cell_type": "code",
   "execution_count": 22,
   "id": "72a4f98c-5282-4409-a45c-d9f54ba28369",
   "metadata": {},
   "outputs": [
    {
     "data": {
      "text/plain": [
       "[5, 22, 37]"
      ]
     },
     "execution_count": 22,
     "metadata": {},
     "output_type": "execute_result"
    }
   ],
   "source": [
    "matrix[1][0]"
   ]
  },
  {
   "cell_type": "code",
   "execution_count": 23,
   "id": "68f2e5a1-bd51-418f-b033-44f12cd6a2e3",
   "metadata": {},
   "outputs": [
    {
     "data": {
      "text/plain": [
       "[78, 90, 97]"
      ]
     },
     "execution_count": 23,
     "metadata": {},
     "output_type": "execute_result"
    }
   ],
   "source": [
    "matrix[2]"
   ]
  },
  {
   "cell_type": "markdown",
   "id": "22a327d5-af6b-4b80-821c-40d10b012581",
   "metadata": {},
   "source": [
    "### Dictionaries\n",
    "###### We've been learning about sequence in Python but now we're going to switch gears and learn about mapping in Python. If you're familiiar with other languages you can think of these Dictionaries as hash tables.\n",
    "\n",
    "###### This section will serve as a brief intro to dictionatries and consists of:\n",
    "           1. Constructing a Dictionary\n",
    "           2. Accessing objeects from a dictionary\n",
    "           3. Nesting Dictionaries\n",
    "           4. Basic Dictionary methods\n",
    "###### so what are mapppings? Mappings are colletion of objects that stored by a key, unlike sequence that stored by objects by their relative position. This is an important dictiction, since mappings wont retain order since they have objects defind by a key.\n",
    "\n",
    "###### A Python dictionary consists of a key and then an associated value. that value can be almost any Python object.\n",
    "\n",
    "### Constructing a Dictionary\n",
    "\n",
    "###### Let's see how we can construct a dictionaries to get a better understanding of how thwy work!"
   ]
  },
  {
   "cell_type": "code",
   "execution_count": 24,
   "id": "eab4acad-3ace-4582-a69b-51ea8367abfe",
   "metadata": {},
   "outputs": [
    {
     "data": {
      "text/plain": [
       "'value2'"
      ]
     },
     "execution_count": 24,
     "metadata": {},
     "output_type": "execute_result"
    }
   ],
   "source": [
    "# Make a dictionary with{} and : to signify a key and a value\n",
    "my_dict = {'key1' : 'value1', 'key2' : 'value2'}\n",
    "\n",
    "# call values by their key\n",
    "my_dict['key2']\n",
    "\n"
   ]
  },
  {
   "cell_type": "code",
   "execution_count": 25,
   "id": "3242ec8d-47be-4a74-a823-70563cd3686d",
   "metadata": {},
   "outputs": [
    {
     "data": {
      "text/plain": [
       "'value2'"
      ]
     },
     "execution_count": 25,
     "metadata": {},
     "output_type": "execute_result"
    }
   ],
   "source": [
    "# call values by their key\n",
    "my_dict['key2']"
   ]
  },
  {
   "cell_type": "code",
   "execution_count": 26,
   "id": "07fbcf4f-8d4f-4281-bf5d-697e2abaecee",
   "metadata": {},
   "outputs": [
    {
     "data": {
      "text/plain": [
       "'value1'"
      ]
     },
     "execution_count": 26,
     "metadata": {},
     "output_type": "execute_result"
    }
   ],
   "source": [
    "my_dict['key1']"
   ]
  },
  {
   "cell_type": "markdown",
   "id": "a83fe975-587f-4762-9d49-754bfe430f7b",
   "metadata": {},
   "source": [
    "##### Its important to note that dictionaries are very flexible in the data types they can hold. for example"
   ]
  },
  {
   "cell_type": "code",
   "execution_count": 27,
   "id": "aabaca30-97f3-4771-b70c-0d0c127fe76d",
   "metadata": {},
   "outputs": [
    {
     "data": {
      "text/plain": [
       "['item0', 'item1', 'item2']"
      ]
     },
     "execution_count": 27,
     "metadata": {},
     "output_type": "execute_result"
    }
   ],
   "source": [
    "my_dict = {'key1' :123, 'key2' :[12,23,33], 'key3' :['item0', 'item1', 'item2' ] }\n",
    "\n",
    "# let's call items from the dictionary\n",
    "my_dict['key3']\n"
   ]
  },
  {
   "cell_type": "code",
   "execution_count": 28,
   "id": "d68b0a7c-018c-4043-affc-e8e00d4d17e2",
   "metadata": {},
   "outputs": [
    {
     "data": {
      "text/plain": [
       "[12, 23, 33]"
      ]
     },
     "execution_count": 28,
     "metadata": {},
     "output_type": "execute_result"
    }
   ],
   "source": [
    "my_dict['key2']"
   ]
  },
  {
   "cell_type": "code",
   "execution_count": 29,
   "id": "3f1aa0a5-c74b-4719-844b-da902e3ca292",
   "metadata": {},
   "outputs": [
    {
     "data": {
      "text/plain": [
       "'item0'"
      ]
     },
     "execution_count": 29,
     "metadata": {},
     "output_type": "execute_result"
    }
   ],
   "source": [
    "# Can call an index on that value\n",
    "my_dict['key3'][0]"
   ]
  },
  {
   "cell_type": "code",
   "execution_count": 30,
   "id": "1f380d06-d277-4f37-a42a-ed8f24f8f80c",
   "metadata": {},
   "outputs": [
    {
     "data": {
      "text/plain": [
       "'item1'"
      ]
     },
     "execution_count": 30,
     "metadata": {},
     "output_type": "execute_result"
    }
   ],
   "source": [
    "my_dict['key3'][1]"
   ]
  },
  {
   "cell_type": "code",
   "execution_count": 31,
   "id": "14e8a5f0-bfee-4030-bea9-84dd50293488",
   "metadata": {},
   "outputs": [
    {
     "data": {
      "text/plain": [
       "123"
      ]
     },
     "execution_count": 31,
     "metadata": {},
     "output_type": "execute_result"
    }
   ],
   "source": [
    "my_dict['key1']"
   ]
  },
  {
   "cell_type": "code",
   "execution_count": 32,
   "id": "f8e3cd72-3f35-435d-bd4c-5fb4f02ba4e2",
   "metadata": {},
   "outputs": [
    {
     "data": {
      "text/plain": [
       "0"
      ]
     },
     "execution_count": 32,
     "metadata": {},
     "output_type": "execute_result"
    }
   ],
   "source": [
    "# Subtract 123 from the value\n",
    "my_dict['key1'] = my_dict['key1'] - 123\n",
    "\n",
    "#check\n",
    "my_dict['key1']"
   ]
  },
  {
   "cell_type": "markdown",
   "id": "0720cb57-0c7c-473e-bd1e-7210c4257b23",
   "metadata": {},
   "source": [
    "##### We can also create keys by assignment. For instance if we started off with an empty dictionary, we could continually add to it:"
   ]
  },
  {
   "cell_type": "code",
   "execution_count": 33,
   "id": "d6a6f0e5-da19-4cd0-99da-09bd76e2b223",
   "metadata": {},
   "outputs": [
    {
     "data": {
      "text/plain": [
       "{}"
      ]
     },
     "execution_count": 33,
     "metadata": {},
     "output_type": "execute_result"
    }
   ],
   "source": [
    "# Create a new dictionary\n",
    "d = {}\n",
    "d"
   ]
  },
  {
   "cell_type": "code",
   "execution_count": 34,
   "id": "77c29aed-b6cc-4867-a807-ed2e4439b70f",
   "metadata": {},
   "outputs": [],
   "source": [
    "# Create a new key throuh assignment\n",
    "d['animal'] = 'dog'"
   ]
  },
  {
   "cell_type": "code",
   "execution_count": 35,
   "id": "9cb90487-7bcf-455d-a253-2eaef9672063",
   "metadata": {},
   "outputs": [
    {
     "data": {
      "text/plain": [
       "{'animal': 'dog', 'answer': 42}"
      ]
     },
     "execution_count": 35,
     "metadata": {},
     "output_type": "execute_result"
    }
   ],
   "source": [
    "# Can do this with any object\n",
    "d['answer'] = 42\n",
    "d"
   ]
  },
  {
   "cell_type": "code",
   "execution_count": null,
   "id": "cad0056c-1448-465e-8ae6-a3b1863ba509",
   "metadata": {},
   "outputs": [],
   "source": []
  },
  {
   "cell_type": "code",
   "execution_count": null,
   "id": "17297718-eb9e-4f07-b05a-2156c5193a33",
   "metadata": {},
   "outputs": [],
   "source": []
  },
  {
   "cell_type": "code",
   "execution_count": null,
   "id": "bd381e16-d906-44ec-b3fa-1df0eb2d5a7c",
   "metadata": {},
   "outputs": [],
   "source": []
  },
  {
   "cell_type": "markdown",
   "id": "a866f039-72e2-46cb-8a99-1f53effa51b6",
   "metadata": {},
   "source": [
    "### Nesting with Dictionary\n",
    "\n",
    "###### Hopely you're starting to see how powerful Python is with its flexibility of nesting objects and calling methods on them, let's see a dictinary nested inside a dictionary"
   ]
  },
  {
   "cell_type": "code",
   "execution_count": 36,
   "id": "078bbe72-3b68-46e5-bd74-4306e6a07a36",
   "metadata": {},
   "outputs": [
    {
     "data": {
      "text/plain": [
       "'value'"
      ]
     },
     "execution_count": 36,
     "metadata": {},
     "output_type": "execute_result"
    }
   ],
   "source": [
    "# Dictionary nested inside a dictionary\n",
    "d = {'key1' :{'nestkey':{'subnestkey': 'value'}}}\n",
    "\n",
    "# let's see how we can grab that value\n",
    "d['key1']['nestkey']['subnestkey']"
   ]
  },
  {
   "cell_type": "code",
   "execution_count": 37,
   "id": "2aec81a8-3aaa-40fc-b890-720057d39264",
   "metadata": {},
   "outputs": [
    {
     "data": {
      "text/plain": [
       "'value'"
      ]
     },
     "execution_count": 37,
     "metadata": {},
     "output_type": "execute_result"
    }
   ],
   "source": [
    "# let's see how we can grab that value\n",
    "d['key1']['nestkey']['subnestkey']"
   ]
  },
  {
   "cell_type": "code",
   "execution_count": 38,
   "id": "b8ec90ae-bbe4-4088-9ee8-fddeb5c6d6c4",
   "metadata": {},
   "outputs": [
    {
     "data": {
      "text/plain": [
       "{'subnestkey': 'value'}"
      ]
     },
     "execution_count": 38,
     "metadata": {},
     "output_type": "execute_result"
    }
   ],
   "source": [
    "# let's see how we can grab that value\n",
    "d['key1']['nestkey']"
   ]
  },
  {
   "cell_type": "code",
   "execution_count": 39,
   "id": "1d0200c9-008b-4406-88b4-6a76bd8dcfc5",
   "metadata": {},
   "outputs": [
    {
     "data": {
      "text/plain": [
       "{'nestkey': {'subnestkey': 'value'}}"
      ]
     },
     "execution_count": 39,
     "metadata": {},
     "output_type": "execute_result"
    }
   ],
   "source": [
    "d['key1']"
   ]
  },
  {
   "cell_type": "markdown",
   "id": "da624acd-2dd5-43bc-98ff-60a01c912e73",
   "metadata": {},
   "source": [
    "### A few Dictionary methods\n",
    "##### There are a few methods we can call on a dictionary. Let's get a quick intro to a few of them."
   ]
  },
  {
   "cell_type": "code",
   "execution_count": 40,
   "id": "031cf429-369a-480b-9655-5e29bab5274d",
   "metadata": {},
   "outputs": [
    {
     "data": {
      "text/plain": [
       "dict_keys(['key1', 'key2', 'key3'])"
      ]
     },
     "execution_count": 40,
     "metadata": {},
     "output_type": "execute_result"
    }
   ],
   "source": [
    "# Create a typical dictionary\n",
    "d = {'key1' : 1, 'key2' :2, 'key3' :3 }\n",
    "\n",
    "#method to return a list of all keys\n",
    "d.keys()"
   ]
  },
  {
   "cell_type": "code",
   "execution_count": 41,
   "id": "59242dbc-d296-4063-a732-2cbcb08d9337",
   "metadata": {},
   "outputs": [
    {
     "data": {
      "text/plain": [
       "dict_values([1, 2, 3])"
      ]
     },
     "execution_count": 41,
     "metadata": {},
     "output_type": "execute_result"
    }
   ],
   "source": [
    "# Method to grab all values\n",
    "d.values()"
   ]
  },
  {
   "cell_type": "code",
   "execution_count": 42,
   "id": "17e0e477-df8b-4cfd-b3a0-62bc0c84dc0c",
   "metadata": {},
   "outputs": [
    {
     "data": {
      "text/plain": [
       "dict_items([('key1', 1), ('key2', 2), ('key3', 3)])"
      ]
     },
     "execution_count": 42,
     "metadata": {},
     "output_type": "execute_result"
    }
   ],
   "source": [
    "# Method to return tuples of all items (we'll learn about tuples soon)\n",
    "d.items()"
   ]
  },
  {
   "cell_type": "code",
   "execution_count": 43,
   "id": "0517fbd7-571f-46d2-ac27-d392c07e5a05",
   "metadata": {},
   "outputs": [
    {
     "data": {
      "text/plain": [
       "['Sulaeman']"
      ]
     },
     "execution_count": 43,
     "metadata": {},
     "output_type": "execute_result"
    }
   ],
   "source": [
    "my_dict = {'key1' : ['Raji'], 'key2' : ['Sulaeman'], 'key3' : ['Damilare']}\n",
    "\n",
    "my_dict['key2']"
   ]
  },
  {
   "cell_type": "code",
   "execution_count": 44,
   "id": "53d431aa-ea4b-4e81-b9df-316c7b2edc0a",
   "metadata": {},
   "outputs": [
    {
     "data": {
      "text/plain": [
       "['Damilare']"
      ]
     },
     "execution_count": 44,
     "metadata": {},
     "output_type": "execute_result"
    }
   ],
   "source": [
    "my_dict['key3']"
   ]
  },
  {
   "cell_type": "code",
   "execution_count": 45,
   "id": "6830a3c7-c291-4b8e-9063-32dbf2c3be04",
   "metadata": {},
   "outputs": [
    {
     "data": {
      "text/plain": [
       "'DAMILARE'"
      ]
     },
     "execution_count": 45,
     "metadata": {},
     "output_type": "execute_result"
    }
   ],
   "source": [
    "# can then even call methods on that value\n",
    "my_dict['key3'][0].upper()"
   ]
  },
  {
   "cell_type": "code",
   "execution_count": 46,
   "id": "5fdccdf4-24fa-44b3-9705-032f4127e72d",
   "metadata": {},
   "outputs": [
    {
     "data": {
      "text/plain": [
       "'damilare'"
      ]
     },
     "execution_count": 46,
     "metadata": {},
     "output_type": "execute_result"
    }
   ],
   "source": [
    "# can then even call methods on that value\n",
    "my_dict['key3'][0].lower()"
   ]
  },
  {
   "cell_type": "code",
   "execution_count": 47,
   "id": "80c2a716-a276-4ca4-9e82-4768f60390aa",
   "metadata": {},
   "outputs": [
    {
     "data": {
      "text/plain": [
       "dict_values([['Raji'], ['Sulaeman'], ['Damilare']])"
      ]
     },
     "execution_count": 47,
     "metadata": {},
     "output_type": "execute_result"
    }
   ],
   "source": [
    "my_dict.values()"
   ]
  },
  {
   "cell_type": "code",
   "execution_count": 48,
   "id": "ab87385f-847f-4147-9b9e-3a2c14015770",
   "metadata": {},
   "outputs": [
    {
     "data": {
      "text/plain": [
       "dict_keys(['key1', 'key2', 'key3'])"
      ]
     },
     "execution_count": 48,
     "metadata": {},
     "output_type": "execute_result"
    }
   ],
   "source": [
    "my_dict.keys()"
   ]
  },
  {
   "cell_type": "code",
   "execution_count": 49,
   "id": "7f7f4333-846c-42cb-a1af-2848ecfdfe86",
   "metadata": {},
   "outputs": [
    {
     "data": {
      "text/plain": [
       "dict_items([('key1', ['Raji']), ('key2', ['Sulaeman']), ('key3', ['Damilare'])])"
      ]
     },
     "execution_count": 49,
     "metadata": {},
     "output_type": "execute_result"
    }
   ],
   "source": [
    "my_dict.items()"
   ]
  },
  {
   "cell_type": "markdown",
   "id": "dab2dcec-f06d-4e84-a333-5e7419683f90",
   "metadata": {},
   "source": [
    "#### WE can also affect the values of a key as well. for example"
   ]
  },
  {
   "cell_type": "code",
   "execution_count": 50,
   "id": "f45ef4a2-dcb9-42e1-a31e-93c1e808cd6c",
   "metadata": {},
   "outputs": [
    {
     "data": {
      "text/plain": [
       "['Raji']"
      ]
     },
     "execution_count": 50,
     "metadata": {},
     "output_type": "execute_result"
    }
   ],
   "source": [
    "my_dict['key1']"
   ]
  },
  {
   "cell_type": "markdown",
   "id": "a624b8aa-302a-4fef-b48d-a58417071c42",
   "metadata": {},
   "source": [
    "### List Comprehensions\n",
    "##### Python has an advanced feature called list comprehensions. They allow for quick construction of lists. To fully understand list comprehensions we need to understand for loops. So don't worry if you dont completely understand this section, and free to just skip it since we will return to this topic later.\n",
    "\n",
    "##### But in case you want to knw now, here are a few examples!"
   ]
  },
  {
   "cell_type": "code",
   "execution_count": null,
   "id": "05993a55-a86e-4690-9c48-078afd0dfc26",
   "metadata": {},
   "outputs": [],
   "source": [
    "# Build a list comprehension by deconstructing a for loop within a []\n",
    "first_col = [row[0] for row in matrix]\n",
    "first_col"
   ]
  },
  {
   "cell_type": "code",
   "execution_count": null,
   "id": "0f272b50-c528-4f7d-afef-2d54981f3eb6",
   "metadata": {},
   "outputs": [],
   "source": []
  },
  {
   "cell_type": "code",
   "execution_count": null,
   "id": "45b0412c-2e8a-40f9-9ee3-cae5a64e3464",
   "metadata": {},
   "outputs": [],
   "source": [
    "first_1 = [1,34,76],\n",
    "first_2 = [5,22,37],\n",
    "first_3 = [78,90,97]\n",
    "matrix = [first_1,first_2,first_3]\n",
    "matrix"
   ]
  },
  {
   "cell_type": "code",
   "execution_count": null,
   "id": "7dca5704-811f-40c9-8d3e-aa68aa084445",
   "metadata": {},
   "outputs": [],
   "source": []
  },
  {
   "cell_type": "code",
   "execution_count": null,
   "id": "671af163-ef8f-4af5-bea2-0a71fa6f771d",
   "metadata": {},
   "outputs": [],
   "source": []
  },
  {
   "cell_type": "code",
   "execution_count": null,
   "id": "798ee9ae-15f5-4836-974b-4fa523913e45",
   "metadata": {},
   "outputs": [],
   "source": []
  },
  {
   "cell_type": "code",
   "execution_count": null,
   "id": "dc45a4f2-30f1-41c2-a8e2-bfa1bd8cafef",
   "metadata": {},
   "outputs": [],
   "source": []
  },
  {
   "cell_type": "code",
   "execution_count": null,
   "id": "c86bd439-f768-4a4e-b570-08ae8270ec1d",
   "metadata": {},
   "outputs": [],
   "source": []
  },
  {
   "cell_type": "code",
   "execution_count": null,
   "id": "752c47ea-7a2e-472f-af86-e1041fb6c232",
   "metadata": {},
   "outputs": [],
   "source": []
  },
  {
   "cell_type": "code",
   "execution_count": null,
   "id": "610e4eb4-ff22-434e-9687-194e23eecd63",
   "metadata": {},
   "outputs": [],
   "source": []
  },
  {
   "cell_type": "code",
   "execution_count": null,
   "id": "10320f18-073d-4c6b-8407-bdc05d0b042a",
   "metadata": {},
   "outputs": [],
   "source": []
  },
  {
   "cell_type": "code",
   "execution_count": null,
   "id": "19ba58a3-a119-43f4-b023-ff3ce4017760",
   "metadata": {},
   "outputs": [],
   "source": []
  },
  {
   "cell_type": "code",
   "execution_count": null,
   "id": "2e622414-6921-4348-86d1-c48ecdc5aabd",
   "metadata": {},
   "outputs": [],
   "source": []
  },
  {
   "cell_type": "code",
   "execution_count": null,
   "id": "26c0d517-7f80-4dc2-a61b-406bdb1765eb",
   "metadata": {},
   "outputs": [],
   "source": []
  },
  {
   "cell_type": "code",
   "execution_count": null,
   "id": "10ef5e01-2ccf-41ae-89f8-451f90d50b0b",
   "metadata": {},
   "outputs": [],
   "source": []
  },
  {
   "cell_type": "code",
   "execution_count": null,
   "id": "eb1f9aae-b8c9-4264-bc25-75f0124cd699",
   "metadata": {},
   "outputs": [],
   "source": []
  },
  {
   "cell_type": "code",
   "execution_count": null,
   "id": "ccf1af93-ecf8-4950-9ffc-15e1b2e0be14",
   "metadata": {},
   "outputs": [],
   "source": []
  },
  {
   "cell_type": "code",
   "execution_count": null,
   "id": "fbd18e1d-95a1-420c-800c-de8ee749b6c7",
   "metadata": {},
   "outputs": [],
   "source": []
  },
  {
   "cell_type": "code",
   "execution_count": null,
   "id": "423c037d-e3cf-45b5-a6c0-812798c9b991",
   "metadata": {},
   "outputs": [],
   "source": []
  },
  {
   "cell_type": "code",
   "execution_count": null,
   "id": "73840b01-4fb2-4fc8-a68c-b3005183ce00",
   "metadata": {},
   "outputs": [],
   "source": []
  },
  {
   "cell_type": "code",
   "execution_count": null,
   "id": "6140e84a-a24c-49bb-a716-c1bec7ad3bbc",
   "metadata": {},
   "outputs": [],
   "source": []
  },
  {
   "cell_type": "code",
   "execution_count": null,
   "id": "7e89b8f0-7dec-4229-80ab-06be9dc1e94a",
   "metadata": {},
   "outputs": [],
   "source": []
  },
  {
   "cell_type": "code",
   "execution_count": null,
   "id": "5a122a76-08bc-428c-ba61-7c2e5fc9fa87",
   "metadata": {},
   "outputs": [],
   "source": []
  },
  {
   "cell_type": "code",
   "execution_count": null,
   "id": "d732fc05-3058-4301-9e10-57fa37ade13b",
   "metadata": {},
   "outputs": [],
   "source": []
  },
  {
   "cell_type": "code",
   "execution_count": null,
   "id": "ba29d19f-49f5-4662-89df-e1f048880c5f",
   "metadata": {},
   "outputs": [],
   "source": []
  },
  {
   "cell_type": "code",
   "execution_count": null,
   "id": "f7ee604d-8031-4408-86ce-c1fb9ba11efc",
   "metadata": {},
   "outputs": [],
   "source": []
  },
  {
   "cell_type": "code",
   "execution_count": null,
   "id": "04b7f9ff-60e0-41ed-8655-15ca59088b22",
   "metadata": {},
   "outputs": [],
   "source": []
  },
  {
   "cell_type": "code",
   "execution_count": null,
   "id": "ed30ba21-795a-4e3a-bd44-d91d15729236",
   "metadata": {},
   "outputs": [],
   "source": []
  }
 ],
 "metadata": {
  "kernelspec": {
   "display_name": "Python 3 (ipykernel)",
   "language": "python",
   "name": "python3"
  },
  "language_info": {
   "codemirror_mode": {
    "name": "ipython",
    "version": 3
   },
   "file_extension": ".py",
   "mimetype": "text/x-python",
   "name": "python",
   "nbconvert_exporter": "python",
   "pygments_lexer": "ipython3",
   "version": "3.12.4"
  }
 },
 "nbformat": 4,
 "nbformat_minor": 5
}
