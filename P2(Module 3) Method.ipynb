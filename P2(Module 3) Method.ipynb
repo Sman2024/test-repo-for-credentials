{
 "cells": [
  {
   "cell_type": "markdown",
   "id": "0f5fe635-3102-4288-aa8a-63b5a9811785",
   "metadata": {},
   "source": [
    "## Methods in detail\n",
    "\n",
    "Let's summarize all the facts regarding the use of methods in Python classes.\n",
    "\n",
    "As you already know, a method is a function embedded inside a class.\n",
    "\n",
    "There is one fundamental requirement - a method is obliged to have at least one parameter (there are no such thing as parameterless methods - a method may be invoked without an argument, but not declared without parameters).\n",
    "\n",
    "The first (or only) parameter is usually named self. We suggest that you follow the convention - it's commonly used, and you'll cause a few surprises by using other names for it.\n",
    "\n",
    "The name self suggests the parameter's purpose - it identifies the object for which the method is invoked.\n",
    "\n",
    "If you're going to invoke a method, you mustn't pass the argument for the self parameter - Python will set it for you.\n",
    "\n",
    "The example in the editor shows the difference."
   ]
  },
  {
   "cell_type": "code",
   "execution_count": 1,
   "id": "d4270743-3b57-450f-b3c8-9f90edb4b6dc",
   "metadata": {},
   "outputs": [
    {
     "name": "stdout",
     "output_type": "stream",
     "text": [
      "method\n"
     ]
    }
   ],
   "source": [
    "class Classy:\n",
    "    def method(self):\n",
    "        print(\"method\")\n",
    "\n",
    "\n",
    "obj = Classy()\n",
    "obj.method()\n"
   ]
  },
  {
   "cell_type": "markdown",
   "id": "1b6375f6-2e5d-48df-a7c6-8b505cebc6c5",
   "metadata": {},
   "source": [
    "Note the way we've created the object - we've treated the class name like a function, returning a newly instantiated object of the class.\n",
    "\n",
    "If you want the method to accept parameters other than self, you should:\n",
    "\n",
    "    place them after self in the method's definition;\n",
    "    deliver them during invocation without specifying self (as previously)\n",
    "\n",
    "Just like here:"
   ]
  },
  {
   "cell_type": "code",
   "execution_count": 4,
   "id": "a0429e84-5672-4083-be6f-425f00fea63b",
   "metadata": {},
   "outputs": [
    {
     "name": "stdout",
     "output_type": "stream",
     "text": [
      "method: 1\n",
      "method: 2\n",
      "method: 3\n"
     ]
    }
   ],
   "source": [
    "class Classy:\n",
    "    def method(self, pal):\n",
    "        print(\"method:\", pal)\n",
    "\n",
    "\n",
    "obj = Classy()\n",
    "obj.method(1)\n",
    "obj.method(2)\n",
    "obj.method(3)\n"
   ]
  },
  {
   "cell_type": "code",
   "execution_count": null,
   "id": "bb775e38-7ba7-4bc4-9dad-42c3bcc60feb",
   "metadata": {},
   "outputs": [],
   "source": []
  },
  {
   "cell_type": "markdown",
   "id": "ea512068-2b0a-4f75-9212-d8de7a83f52c",
   "metadata": {},
   "source": [
    "The self parameter is used to obtain access to the object's instance and class variables.\n",
    "\n",
    "The example shows both ways of utilizing self:"
   ]
  },
  {
   "cell_type": "code",
   "execution_count": 9,
   "id": "f32a8a48-ad36-4eee-a82b-ecbc6e2ca40e",
   "metadata": {},
   "outputs": [
    {
     "name": "stdout",
     "output_type": "stream",
     "text": [
      "2 3\n"
     ]
    }
   ],
   "source": [
    "class Classy:\n",
    "    varia = 2\n",
    "    def method(self):\n",
    "        print(self.varia, self.var)\n",
    "\n",
    "\n",
    "obj = Classy()\n",
    "obj.var = 3\n",
    "obj.method()\n",
    "\n"
   ]
  },
  {
   "cell_type": "markdown",
   "id": "6f98faae-53e3-4f21-a3e2-1b1b799425d9",
   "metadata": {},
   "source": [
    "The self parameter is also used to invoke other object/class methods from inside the class.\n",
    "\n",
    "Just like here:"
   ]
  },
  {
   "cell_type": "code",
   "execution_count": 10,
   "id": "f17968d3-9850-497c-902e-b65a4ba3245f",
   "metadata": {},
   "outputs": [
    {
     "name": "stdout",
     "output_type": "stream",
     "text": [
      "method\n",
      "other\n"
     ]
    }
   ],
   "source": [
    "class Classy:\n",
    "    def other(self):\n",
    "        print(\"other\")\n",
    "\n",
    "    def method(self):\n",
    "        print(\"method\")\n",
    "        self.other()\n",
    "\n",
    "\n",
    "obj = Classy()\n",
    "obj.method()\n"
   ]
  },
  {
   "cell_type": "code",
   "execution_count": null,
   "id": "15e54a2a-459d-41c8-92d8-4b865c416329",
   "metadata": {},
   "outputs": [],
   "source": []
  },
  {
   "cell_type": "markdown",
   "id": "e6fd47ff-623b-43fc-a59e-998fdfad2c50",
   "metadata": {},
   "source": [
    "### Methods in detail: continued\n",
    "\n",
    "If you name a method like this: __init__, it won't be a regular method - it will be a constructor.\n",
    "\n",
    "If a class has a constructor, it is invoked automatically and implicitly when the object of the class is instantiated.\n",
    "\n",
    "The constructor:\n",
    "\n",
    "    is obliged to have the self parameter (it's set automatically, as usual);\n",
    "    may (but doesn't need to) have more parameters than just self; if this happens, the way in which the class name is used to create the object must reflect the __init__ definition;\n",
    "    can be used to set up the object, i.e., properly initialize its internal state, create instance variables, instantiate any other objects if their existence is needed, etc.\n",
    "\n",
    "Look at the code in the editor. The example shows a very simple constructor at work."
   ]
  },
  {
   "cell_type": "code",
   "execution_count": 18,
   "id": "834969ac-c574-419c-a167-c7bfe0a554d0",
   "metadata": {},
   "outputs": [
    {
     "name": "stdout",
     "output_type": "stream",
     "text": [
      "Goat\n"
     ]
    }
   ],
   "source": [
    "class Classy:\n",
    "    def __init__(self, value):\n",
    "        self.var = value\n",
    "\n",
    "\n",
    "app = Classy('Goat')\n",
    "\n",
    "print(app.var)\n"
   ]
  },
  {
   "cell_type": "markdown",
   "id": "f06ef104-fda5-4863-a557-23a86e79520f",
   "metadata": {},
   "source": [
    "Note that the constructor:\n",
    "\n",
    "    cannot return a value, as it is designed to return a newly created object and nothing else;\n",
    "    cannot be invoked directly either from the object or from inside the class (you can invoke a constructor from any of the object's subclasses, but we'll discuss this issue later.)\n"
   ]
  },
  {
   "cell_type": "code",
   "execution_count": null,
   "id": "dd11562d-355f-42ff-9547-087b9c2c4245",
   "metadata": {},
   "outputs": [],
   "source": []
  },
  {
   "cell_type": "markdown",
   "id": "52e64673-683e-485f-92f8-fe9391ff3882",
   "metadata": {},
   "source": [
    "As __init__ is a method, and a method is a function, you can do the same tricks with constructors/methods as you do with ordinary functions.\n",
    "\n",
    "The example in the editor shows how to define a constructor with a default argument value. Test it.\n",
    "\n",
    "The code outputs:"
   ]
  },
  {
   "cell_type": "code",
   "execution_count": 19,
   "id": "50e8fc00-3cb7-4061-a427-5a84f0f0b699",
   "metadata": {},
   "outputs": [
    {
     "name": "stdout",
     "output_type": "stream",
     "text": [
      "object\n",
      "None\n"
     ]
    }
   ],
   "source": [
    "class Classy:\n",
    "    def __init__(self, value = None):\n",
    "        self.var = value\n",
    "\n",
    "\n",
    "obj_1 = Classy(\"object\")\n",
    "obj_2 = Classy()\n",
    "\n",
    "print(obj_1.var)\n",
    "print(obj_2.var)\n"
   ]
  },
  {
   "cell_type": "markdown",
   "id": "44f52244-3732-4c6d-8ae1-8a801f12578c",
   "metadata": {},
   "source": [
    "Everything we've said about property name mangling applies to method names, too - a method whose name starts with __ is (partially) hidden.\n",
    "\n",
    "The example shows this effect:"
   ]
  },
  {
   "cell_type": "code",
   "execution_count": 22,
   "id": "aeb72933-93e7-4306-b073-042d2cf351dc",
   "metadata": {},
   "outputs": [
    {
     "name": "stdout",
     "output_type": "stream",
     "text": [
      "visible\n",
      "failed\n",
      "hidden\n"
     ]
    }
   ],
   "source": [
    "class Classy:\n",
    "    def visible(self):\n",
    "        print(\"visible\")\n",
    "    \n",
    "    def __hidden(self):\n",
    "        print(\"hidden\")\n",
    "\n",
    "\n",
    "obj = Classy()\n",
    "obj.visible()\n",
    "\n",
    "try:\n",
    "    obj.__hidden()\n",
    "except:\n",
    "    print(\"failed\")\n",
    "\n",
    "obj._Classy__hidden()\n",
    "\n"
   ]
  },
  {
   "cell_type": "code",
   "execution_count": null,
   "id": "d8e214dd-c8d8-4a7e-9559-1c6a202eae81",
   "metadata": {},
   "outputs": [],
   "source": []
  },
  {
   "cell_type": "markdown",
   "id": "e36704c2-738e-48d1-98e9-cb1b70f51784",
   "metadata": {},
   "source": [
    "### The inner life of classes and objects\n",
    "\n",
    "Each Python class and each Python object is pre-equipped with a set of useful attributes which can be used to examine its capabilities.\n",
    "\n",
    "You already know one of these - it's the __dict__ property.\n",
    "\n",
    "Let's observe how it deals with methods - look at the code in the editor."
   ]
  },
  {
   "cell_type": "code",
   "execution_count": 23,
   "id": "ae0a14c2-e3a4-4a34-a8f1-9df0c0f39f67",
   "metadata": {},
   "outputs": [
    {
     "name": "stdout",
     "output_type": "stream",
     "text": [
      "{'var': 2}\n",
      "{'__module__': '__main__', 'varia': 1, '__init__': <function Classy.__init__ at 0x0000026F6DC90680>, 'method': <function Classy.method at 0x0000026F6DC90900>, '_Classy__hidden': <function Classy.__hidden at 0x0000026F6DC90720>, '__dict__': <attribute '__dict__' of 'Classy' objects>, '__weakref__': <attribute '__weakref__' of 'Classy' objects>, '__doc__': None}\n"
     ]
    }
   ],
   "source": [
    "class Classy:\n",
    "    varia = 1\n",
    "    def __init__(self):\n",
    "        self.var = 2\n",
    "\n",
    "    def method(self):\n",
    "        pass\n",
    "\n",
    "    def __hidden(self):\n",
    "        pass\n",
    "\n",
    "\n",
    "obj = Classy()\n",
    "\n",
    "print(obj.__dict__)\n",
    "print(Classy.__dict__)\n"
   ]
  },
  {
   "cell_type": "code",
   "execution_count": null,
   "id": "7aaa7f51-470a-449a-a1da-14755116606a",
   "metadata": {},
   "outputs": [],
   "source": []
  },
  {
   "cell_type": "markdown",
   "id": "a05754f2-fd77-425a-aeec-70004b7ee7bb",
   "metadata": {},
   "source": [
    "### The inner life of classes and objects: continued\n",
    "\n",
    "__dict__ is a dictionary. Another built-in property worth mentioning is __name__, which is a string.\n",
    "\n",
    "The property contains the name of the class. It's nothing exciting, just a string.\n",
    "\n",
    "Note: the __name__ attribute is absent from the object - it exists only inside classes.\n",
    "\n",
    "If you want to find the class of a particular object, you can use a function named type(), which is able (among other things) to find a class which has been used to instantiate any object.\n",
    "\n",
    "Look at the code in the editor, run it, and see for yourself."
   ]
  },
  {
   "cell_type": "code",
   "execution_count": 24,
   "id": "dbb37570-6ecd-41c3-a964-b2e2fbd701b0",
   "metadata": {},
   "outputs": [
    {
     "name": "stdout",
     "output_type": "stream",
     "text": [
      "Classy\n",
      "Classy\n"
     ]
    }
   ],
   "source": [
    "class Classy:\n",
    "    pass\n",
    "\n",
    "\n",
    "print(Classy.__name__)\n",
    "obj = Classy()\n",
    "print(type(obj).__name__)\n"
   ]
  },
  {
   "cell_type": "markdown",
   "id": "9ad0f152-cdf0-4186-a463-3ec575392e0f",
   "metadata": {},
   "source": [
    "Note that a statement like this one bellow: will cause an error."
   ]
  },
  {
   "cell_type": "code",
   "execution_count": 28,
   "id": "db889c53-ae6b-4f09-904b-54b65f7e6191",
   "metadata": {},
   "outputs": [
    {
     "ename": "AttributeError",
     "evalue": "'Classy' object has no attribute '__name__'",
     "output_type": "error",
     "traceback": [
      "\u001b[1;31m---------------------------------------------------------------------------\u001b[0m",
      "\u001b[1;31mAttributeError\u001b[0m                            Traceback (most recent call last)",
      "Cell \u001b[1;32mIn[28], line 1\u001b[0m\n\u001b[1;32m----> 1\u001b[0m \u001b[38;5;28mprint\u001b[39m(obj\u001b[38;5;241m.\u001b[39m\u001b[38;5;18m__name__\u001b[39m)\n",
      "\u001b[1;31mAttributeError\u001b[0m: 'Classy' object has no attribute '__name__'"
     ]
    }
   ],
   "source": [
    "print(obj.__name__)\n"
   ]
  },
  {
   "cell_type": "code",
   "execution_count": null,
   "id": "9073b7cc-cc3d-41e3-a57d-222b91b10729",
   "metadata": {},
   "outputs": [],
   "source": []
  },
  {
   "cell_type": "markdown",
   "id": "b5527ffc-da9e-4217-b412-4ff98a1b14f2",
   "metadata": {},
   "source": [
    "__module__ is a string, too - it stores the name of the module which contains the definition of the class.\n",
    "\n",
    "Let's check it - run the code in the editor.\n",
    "\n",
    "The code outputs:"
   ]
  },
  {
   "cell_type": "code",
   "execution_count": 32,
   "id": "ad7ea99e-c51f-4c8c-9225-29cbd3e25813",
   "metadata": {},
   "outputs": [
    {
     "name": "stdout",
     "output_type": "stream",
     "text": [
      "__main__\n",
      "__main__\n"
     ]
    }
   ],
   "source": [
    "class Classy:\n",
    "    pass\n",
    "\n",
    "\n",
    "print(Classy.__module__)\n",
    "obj = Classy()\n",
    "print(obj.__module__)\n"
   ]
  },
  {
   "cell_type": "code",
   "execution_count": null,
   "id": "b40cfde0-6904-4782-92f3-87f42163c73c",
   "metadata": {},
   "outputs": [],
   "source": []
  },
  {
   "cell_type": "markdown",
   "id": "3b503792-2a84-493b-9853-3e9ba0b371e1",
   "metadata": {},
   "source": [
    "__bases__ is a tuple. The tuple contains classes (not class names) which are direct superclasses for the class.\n",
    "\n",
    "The order is the same as that used inside the class definition.\n",
    "\n",
    "We'll show you only a very basic example, as we want to highlight how inheritance works.\n",
    "\n",
    "Moreover, we're going to show you how to use this attribute when we discuss the objective aspects of exceptions.\n",
    "\n",
    "Note: only classes have this attribute - objects don't.\n",
    "\n",
    "We've defined a function named printbases(), designed to present the tuple's contents clearly."
   ]
  },
  {
   "cell_type": "code",
   "execution_count": 36,
   "id": "fb609926-0257-4d81-9f9d-3072a7b76dfe",
   "metadata": {},
   "outputs": [
    {
     "name": "stdout",
     "output_type": "stream",
     "text": [
      "( object )\n",
      "( object )\n",
      "( SuperOne SuperTwo )\n"
     ]
    }
   ],
   "source": [
    "class SuperOne:\n",
    "    pass\n",
    "\n",
    "\n",
    "class SuperTwo:\n",
    "    pass\n",
    "\n",
    "\n",
    "class Sub(SuperOne, SuperTwo):\n",
    "    pass\n",
    "\n",
    "\n",
    "def printBases(app):\n",
    "    print('( ', end='')\n",
    "\n",
    "    for x in app.__bases__:\n",
    "        print(x.__name__, end=' ')\n",
    "    print(')')\n",
    "\n",
    "\n",
    "printBases(SuperOne)\n",
    "printBases(SuperTwo)\n",
    "printBases(Sub)\n"
   ]
  },
  {
   "cell_type": "code",
   "execution_count": null,
   "id": "04d8ca5e-d6c9-4136-94ff-dca07defaa26",
   "metadata": {},
   "outputs": [],
   "source": []
  },
  {
   "cell_type": "markdown",
   "id": "9af232c5-29e2-47b0-ba64-849cad7815c6",
   "metadata": {},
   "source": [
    "\n",
    "### Reflection and introspection\n",
    "\n",
    "All these means allow the Python programmer to perform two important activities specific to many objective languages. They are:\n",
    "\n",
    "    introspection, which is the ability of a program to examine the type or properties of an object at runtime;\n",
    "    reflection, which goes a step further, and is the ability of a program to manipulate the values, properties and/or functions of an object at runtime.\n",
    "\n",
    "In other words, you don't have to know a complete class/object definition to manipulate the object, as the object and/or its class contain the metadata allowing you to recognize its features during program execution.\n",
    "\n",
    "\n",
    "\n",
    "__Introspection__ the ability of a program to examine the type or properties of an object at runtime.\n",
    "__Reflection__ the ability of aprogram to manipulate the values, properties and/or functions of an object at runtime\n",
    "\n"
   ]
  },
  {
   "cell_type": "markdown",
   "id": "cb202828-4ae2-43bd-93d3-3a4e225ab2bd",
   "metadata": {},
   "source": [
    "Investigating classes\n",
    "\n",
    "What can you find out about classes in Python? The answer is simple – everything.\n",
    "\n",
    "Both reflection and introspection enable a programmer to do anything with any object, no matter where it comes from.\n",
    "\n",
    "Analyze the code in the editor."
   ]
  },
  {
   "cell_type": "code",
   "execution_count": 37,
   "id": "d2a44aa3-12c9-4b69-b477-c41e6d9ac9f1",
   "metadata": {},
   "outputs": [
    {
     "name": "stdout",
     "output_type": "stream",
     "text": [
      "{'a': 1, 'b': 2, 'i': 3, 'ireal': 3.5, 'integer': 4, 'z': 5}\n",
      "{'a': 1, 'b': 2, 'i': 4, 'ireal': 3.5, 'integer': 5, 'z': 5}\n"
     ]
    }
   ],
   "source": [
    "class MyClass:\n",
    "    pass\n",
    "\n",
    "\n",
    "obj = MyClass()\n",
    "obj.a = 1\n",
    "obj.b = 2\n",
    "obj.i = 3\n",
    "obj.ireal = 3.5\n",
    "obj.integer = 4\n",
    "obj.z = 5\n",
    "\n",
    "\n",
    "def incIntsI(obj):\n",
    "    for name in obj.__dict__.keys():\n",
    "        if name.startswith('i'):\n",
    "            val = getattr(obj, name)\n",
    "            if isinstance(val, int):\n",
    "                setattr(obj, name, val + 1)\n",
    "\n",
    "\n",
    "print(obj.__dict__)\n",
    "incIntsI(obj)\n",
    "print(obj.__dict__)\n"
   ]
  },
  {
   "cell_type": "markdown",
   "id": "68c45be2-8fe8-4ea9-a3b5-06c0f3437853",
   "metadata": {},
   "source": [
    "Analyze the code in the editor.\n",
    "\n",
    "The function named incIntsI() gets an object of any class, scans its contents in order to find all integer attributes with names starting with i, and increments them by one.\n",
    "\n",
    "Impossible? Not at all!\n",
    "\n",
    "This is how it works:\n",
    "\n",
    "    line 1: define a very simple class...\n",
    "    lines 5 through 11: ... and fill it with some attributes;\n",
    "    line 14: this is our function!\n",
    "    line 15: scan the __dict__ attribute, looking for all attribute names;\n",
    "    line 16: if a name starts with i...\n",
    "    line 17: ... use the getattr() function to get its current value; note: getattr() takes two arguments: an object, and its property name (as a string), and returns the current attribute's value;\n",
    "    line 18: check if the value is of type integer, and use the function isinstance() for this purpose (we'll discuss this later);\n",
    "    line 19: if the check goes well, increment the property's value by making use of the setattr() function; the function takes three arguments: an object, the property name (as a string), and the property's new value.\n"
   ]
  },
  {
   "cell_type": "code",
   "execution_count": null,
   "id": "478d355d-4d3e-478d-8df5-53919e8474a7",
   "metadata": {},
   "outputs": [],
   "source": []
  },
  {
   "cell_type": "markdown",
   "id": "37cb367f-ce76-4d31-aae4-fcfb40b7a80e",
   "metadata": {},
   "source": [
    "### Key takeaways\n",
    "1. A method is a function embedded inside a class. The first (or only) parameter of each method is usually named self, which is designed to identify the object for which the method is invoked in order to access the object's properties or invoke its methods.\n",
    "\n",
    "2. If a class contains a constructor (a method named __init__) it cannot return any value and cannot be invoked directly.\n",
    "\n",
    "3. All classes (but not objects) contain a property named __name__, which stores the name of the class. Additionally, a property named __module__ stores the name of the module in which the class has been declared, while the property named __bases__ is a tuple containing a class's superclasses.\n",
    "\n",
    "For example:"
   ]
  },
  {
   "cell_type": "code",
   "execution_count": 38,
   "id": "4757ffa0-1d27-4b36-95d4-fffc7ae4a682",
   "metadata": {},
   "outputs": [
    {
     "name": "stdout",
     "output_type": "stream",
     "text": [
      "My name is Sample living in a __main__\n"
     ]
    }
   ],
   "source": [
    "class Sample:\n",
    "    def __init__(self):\n",
    "        self.name = Sample.__name__\n",
    "    def myself(self):\n",
    "        print(\"My name is \" + self.name + \" living in a \" + Sample.__module__)\n",
    "\n",
    "\n",
    "obj = Sample()\n",
    "obj.myself()\n",
    "\n"
   ]
  },
  {
   "cell_type": "code",
   "execution_count": null,
   "id": "e53c81df-6fc9-4f41-b03d-48f8fdab4e46",
   "metadata": {},
   "outputs": [],
   "source": []
  },
  {
   "cell_type": "markdown",
   "id": "132445d0-fce3-492a-bdee-112245d6821d",
   "metadata": {},
   "source": [
    "#### Scenario\n",
    "\n",
    "We need a class able to count seconds. Easy? Not as much as you may think as we're going to have some specific expectations.\n",
    "\n",
    "Read them carefully as the class you're about write will be used to launch rockets carrying international missions to Mars. It's a great responsibility. We're counting on you!\n",
    "\n",
    "Your class will be called Timer. Its constructor accepts three arguments representing hours (a value from range [0..23] - we will be using the military time), minutes (from range [0..59]) and seconds (from range [0..59]).\n",
    "\n",
    "Zero is the default value for all of the above parameters. There is no need to perform any validation checks.\n",
    "\n",
    "The class itself should provide the following facilities:\n",
    "\n",
    "    objects of the class should be \"printable\", i.e. they should be able to implicitly convert themselves into strings of the following form: \"hh:mm:ss\", with leading zeros added when any of the values is less than 10;\n",
    "    the class should be equipped with parameterless methods called next_second() and previous_second(), incrementing the time stored inside objects by +1/-1 second respectively.\n",
    "\n",
    "Use the following hints:\n",
    "\n",
    "    all object's properties should be private;\n",
    "    consider writing a separate function (not method!) to format the time string.\n"
   ]
  },
  {
   "cell_type": "code",
   "execution_count": 39,
   "id": "902fde08-a4a0-47b9-b946-522841de433f",
   "metadata": {},
   "outputs": [
    {
     "name": "stdout",
     "output_type": "stream",
     "text": [
      "23:59:59\n",
      "00:00:00\n",
      "23:59:59\n"
     ]
    }
   ],
   "source": [
    "class Timer:\n",
    "    def __init__(self, hours=0, minutes=0, seconds=0):\n",
    "        # Private instance variables\n",
    "        self.__hours = hours\n",
    "        self.__minutes = minutes\n",
    "        self.__seconds = seconds\n",
    "\n",
    "    def __str__(self):\n",
    "        # Convert the time to a string in \"hh:mm:ss\" format using the helper function\n",
    "        return format_time(self.__hours, self.__minutes, self.__seconds)\n",
    "\n",
    "    def next_second(self):\n",
    "        # Increment the time by 1 second\n",
    "        self.__seconds += 1\n",
    "        if self.__seconds == 60:\n",
    "            self.__seconds = 0\n",
    "            self.__minutes += 1\n",
    "        if self.__minutes == 60:\n",
    "            self.__minutes = 0\n",
    "            self.__hours += 1\n",
    "        if self.__hours == 24:\n",
    "            self.__hours = 0\n",
    "\n",
    "    def previous_second(self):\n",
    "        # Decrement the time by 1 second\n",
    "        self.__seconds -= 1\n",
    "        if self.__seconds == -1:\n",
    "            self.__seconds = 59\n",
    "            self.__minutes -= 1\n",
    "        if self.__minutes == -1:\n",
    "            self.__minutes = 59\n",
    "            self.__hours -= 1\n",
    "        if self.__hours == -1:\n",
    "            self.__hours = 23\n",
    "\n",
    "# Helper function to format the time string with leading zeros\n",
    "def format_time(hours, minutes, seconds):\n",
    "    return f\"{hours:02}:{minutes:02}:{seconds:02}\"\n",
    "\n",
    "# Example usage:\n",
    "timer = Timer(23, 59, 59)\n",
    "print(timer)  # Output: \"23:59:59\"\n",
    "timer.next_second()\n",
    "print(timer)  # Output: \"00:00:00\"\n",
    "timer.previous_second()\n",
    "print(timer)  # Output: \"23:59:59\"\n"
   ]
  },
  {
   "cell_type": "code",
   "execution_count": 40,
   "id": "8c9c6800-4648-494f-8c8e-4806386fe4cf",
   "metadata": {},
   "outputs": [
    {
     "name": "stdout",
     "output_type": "stream",
     "text": [
      "23:59:59\n",
      "00:00:00\n",
      "23:59:59\n"
     ]
    }
   ],
   "source": [
    "def two_digits(val):\n",
    "    s = str(val)\n",
    "    if len(s) == 1:\n",
    "        s = '0' + s\n",
    "    return s\n",
    "\n",
    "\n",
    "class Timer:\n",
    "    def __init__(self, hours=0, minutes=0, seconds=0):\n",
    "        self.__hours = hours\n",
    "        self.__minutes = minutes\n",
    "        self.__seconds = seconds\n",
    "\n",
    "    def __str__(self):\n",
    "        return two_digits(self.__hours) + \":\" + \\\n",
    "               two_digits(self.__minutes) + \":\" + \\\n",
    "               two_digits(self.__seconds)\n",
    "\n",
    "    def next_second(self):\n",
    "        self.__seconds += 1\n",
    "        if self.__seconds > 59:\n",
    "            self.__seconds = 0\n",
    "            self.__minutes += 1\n",
    "            if self.__minutes > 59:\n",
    "                self.__minutes = 0\n",
    "                self.__hours += 1\n",
    "                if self.__hours > 23:\n",
    "                    self.__hours = 0\n",
    "\n",
    "    def prev_second(self):\n",
    "        self.__seconds -= 1\n",
    "        if self.__seconds < 0:\n",
    "            self.__seconds = 59\n",
    "            self.__minutes -= 1\n",
    "            if self.__minutes < 0:\n",
    "                self.__minutes = 59\n",
    "                self.__hours -= 1\n",
    "                if self.__hours < 0:\n",
    "                    self.__hours = 23\n",
    "\n",
    "\n",
    "timer = Timer(23, 59, 59)\n",
    "print(timer)\n",
    "timer.next_second()\n",
    "print(timer)\n",
    "timer.prev_second()\n",
    "print(timer)\n"
   ]
  },
  {
   "cell_type": "code",
   "execution_count": null,
   "id": "4f7b432d-126b-4def-a514-eaa35cb5403b",
   "metadata": {},
   "outputs": [],
   "source": []
  },
  {
   "cell_type": "markdown",
   "id": "9f1917bc-e752-4d9a-bbb8-6d8ec748f437",
   "metadata": {},
   "source": [
    "### Scenario\n",
    "\n",
    "Your task is to implement a class called Weeker. Yes, your eyes don't deceive you – this name comes from the fact that objects of that class will be able to store and to manipulate the days of the week.\n",
    "\n",
    "The class constructor accepts one argument – a string. The string represents the name of the day of the week and the only acceptable values must come from the following set:\n",
    "\n",
    "Mon Tue Wed Thu Fri Sat Sun\n",
    "\n",
    "Invoking the constructor with an argument from outside this set should raise the WeekDayError exception (define it yourself; don't worry, we'll talk about the objective nature of exceptions soon). The class should provide the following facilities:\n",
    "\n",
    "    objects of the class should be \"printable\", i.e. they should be able to implicitly convert themselves into strings of the same form as the constructor arguments;\n",
    "    the class should be equipped with one-parameter methods called add_days(n) and subtract_days(n), with n being an integer number and updating the day of week stored inside the object in the way reflecting the change of date by the indicated number of days, forward or backward.\n",
    "    all object's properties should be private;\n"
   ]
  },
  {
   "cell_type": "code",
   "execution_count": 59,
   "id": "8b97d1b5-b179-43a8-9633-1a0be3eece1b",
   "metadata": {},
   "outputs": [
    {
     "name": "stdout",
     "output_type": "stream",
     "text": [
      "Mon\n",
      "Tue\n",
      "Sun\n",
      "Wed\n"
     ]
    }
   ],
   "source": [
    "# Custom exception for invalid weekday input\n",
    "class WeekDayError(Exception):\n",
    "    pass\n",
    "\n",
    "class Weeker:\n",
    "    # List of valid days in order (to help with adding/subtracting)\n",
    "    __valid_days = [\"Mon\", \"Tue\", \"Wed\", \"Thu\", \"Fri\", \"Sat\", \"Sun\"]\n",
    "    \n",
    "    def __init__(self, day):\n",
    "        # Validate the input day and store it privately\n",
    "        if day not in Weeker.__valid_days:\n",
    "            raise WeekDayError(f\"Invalid day: {day}\")\n",
    "        self.__current_day = day\n",
    "\n",
    "    def __str__(self):\n",
    "        # Return the current day as a string\n",
    "        return self.__current_day\n",
    "\n",
    "    def add_days(self, n):\n",
    "        # Get the index of the current day\n",
    "        current_index = Weeker.__valid_days.index(self.__current_day)\n",
    "        # Add the number of days and wrap around using modulo\n",
    "        new_index = (current_index + n) % 7\n",
    "        # Update the current day\n",
    "        self.__current_day = Weeker.__valid_days[new_index]\n",
    "\n",
    "    def subtract_days(self, n):\n",
    "        # Get the index of the current day\n",
    "        current_index = Weeker.__valid_days.index(self.__current_day)\n",
    "        # Subtract the number of days and wrap around using modulo\n",
    "        new_index = (current_index - n) % 7\n",
    "        # Update the current day\n",
    "        self.__current_day = Weeker.__valid_days[new_index]\n",
    "\n",
    "# Example usage:\n",
    "try:\n",
    "    weeker = Weeker(\"Mon\")\n",
    "    print(weeker)  # Output: Mon\n",
    "    weeker.add_days(15)\n",
    "    print(weeker)  # Output: Thu\n",
    "    weeker.subtract_days(23)\n",
    "    print(weeker)  # Output: Wed\n",
    "    weeker.add_days(10)  # Going past the week (Thu + 10 days = Sun)\n",
    "    print(weeker)  # Output: Sun\n",
    "except WeekDayError as e:\n",
    "    print(e)\n"
   ]
  },
  {
   "cell_type": "code",
   "execution_count": 60,
   "id": "692fa682-0222-4531-b40d-810cea502993",
   "metadata": {},
   "outputs": [
    {
     "name": "stdout",
     "output_type": "stream",
     "text": [
      "Mon\n",
      "Tue\n",
      "Sun\n",
      "Sorry, I can't serve your request.\n"
     ]
    }
   ],
   "source": [
    "class WeekDayError(Exception):\n",
    "    pass\n",
    "\n",
    "\n",
    "class Weeker:\n",
    "    __names = ['Mon', 'Tue', 'Wed', 'Thu', 'Fri', 'Sat', 'Sun']\n",
    "\n",
    "    def __init__(self, day):\n",
    "        try:\n",
    "            self.__current = Weeker.__names.index(day)\n",
    "        except ValueError:\n",
    "            raise WeekDayError\n",
    "\n",
    "    def __str__(self):\n",
    "        return Weeker.__names[self.__current]\n",
    "\n",
    "    def add_days(self, n):\n",
    "        self.__current = (self.__current + n) % 7\n",
    "\n",
    "    def subtract_days(self, n):\n",
    "        self.__current = (self.__current - n) % 7\n",
    "\n",
    "\n",
    "try:\n",
    "    weekday = Weeker('Mon')\n",
    "    print(weekday)\n",
    "    weekday.add_days(15)\n",
    "    print(weekday)\n",
    "    weekday.subtract_days(23)\n",
    "    print(weekday)\n",
    "    weekday = Weeker('Monday')\n",
    "except WeekDayError:\n",
    "    print(\"Sorry, I can't serve your request.\")\n"
   ]
  },
  {
   "cell_type": "code",
   "execution_count": null,
   "id": "a7f21ae3-dce7-4f5d-887f-f36f0f4dd981",
   "metadata": {},
   "outputs": [],
   "source": []
  },
  {
   "cell_type": "markdown",
   "id": "6cc603ae-e4f6-4349-8e38-c9fefafead2e",
   "metadata": {},
   "source": [
    "#### Scenario\n",
    "\n",
    "Let's visit a very special place - a plane with the Cartesian coordinate system (you can learn more about this concept here: https://en.wikipedia.org/wiki/Cartesian_coordinate_system).\n",
    "\n",
    "Each point located on the plane can be described as a pair of coordinates customarily called x and y. We expect that you are able to write a Python class which stores both coordinates as float numbers. Moreover, we want the objects of this class to evaluate the distances between any of the two points situated on the plane.\n",
    "\n",
    "The task is rather easy if you employ the function named hypot() (available through the math module) which evaluates the length of the hypotenuse of a right triangle (more details here: https://en.wikipedia.org/wiki/Hypotenuse) and here: https://docs.python.org/3.7/library/math.html#trigonometric-functions.\n",
    "\n",
    "This is how we imagine the class:\n",
    "\n",
    "    it's called Point;\n",
    "    its constructor accepts two arguments (x and y respectively), both default to zero;\n",
    "    all the properties should be private;\n",
    "    the class contains two parameterless methods called getx() and gety(), which return each of the two coordinates (the coordinates are stored privately, so they cannot be accessed directly from within the object);\n",
    "    the class provides a method called distance_from_xy(x,y), which calculates and returns the distance between the point stored inside the object and the other point given as a pair of floats;\n",
    "    the class provides a method called distance_from_point(point), which calculates the distance (like the previous method), but the other point's location is given as another Point class object;\n"
   ]
  },
  {
   "cell_type": "code",
   "execution_count": 61,
   "id": "56d59e3d-874b-4dd0-863d-ea1b27377ca0",
   "metadata": {},
   "outputs": [
    {
     "name": "stdout",
     "output_type": "stream",
     "text": [
      "Point1: (3.0, 4.0)\n",
      "Point2: (0.0, 0.0)\n",
      "Distance from (0, 0): 5.0\n",
      "Distance from point2: 5.0\n"
     ]
    }
   ],
   "source": [
    "import math\n",
    "\n",
    "class Point:\n",
    "    def __init__(self, x=0.0, y=0.0):\n",
    "        # Private variables to store coordinates\n",
    "        self.__x = float(x)\n",
    "        self.__y = float(y)\n",
    "\n",
    "    # Getter methods\n",
    "    def getx(self):\n",
    "        return self.__x\n",
    "\n",
    "    def gety(self):\n",
    "        return self.__y\n",
    "\n",
    "    # Method to calculate the distance between the point and given x, y coordinates\n",
    "    def distance_from_xy(self, x, y):\n",
    "        return math.hypot(self.__x - x, self.__y - y)\n",
    "\n",
    "    # Method to calculate the distance between the point and another Point object\n",
    "    def distance_from_point(self, point):\n",
    "        return math.hypot(self.__x - point.getx(), self.__y - point.gety())\n",
    "\n",
    "# Example usage:\n",
    "point1 = Point(3, 4)\n",
    "point2 = Point(0, 0)\n",
    "\n",
    "# Using getter methods to access x and y\n",
    "print(f\"Point1: ({point1.getx()}, {point1.gety()})\")  # Output: (3.0, 4.0)\n",
    "print(f\"Point2: ({point2.getx()}, {point2.gety()})\")  # Output: (0.0, 0.0)\n",
    "\n",
    "# Calculating the distance between point1 and a specific point (x=0, y=0)\n",
    "distance_xy = point1.distance_from_xy(0, 0)\n",
    "print(f\"Distance from (0, 0): {distance_xy}\")  # Output: 5.0\n",
    "\n",
    "# Calculating the distance between point1 and point2\n",
    "distance_point = point1.distance_from_point(point2)\n",
    "print(f\"Distance from point2: {distance_point}\")  # Output: 5.0\n"
   ]
  },
  {
   "cell_type": "code",
   "execution_count": 62,
   "id": "d663ab35-a1b3-4cac-a94c-f7d927d1f540",
   "metadata": {},
   "outputs": [
    {
     "name": "stdout",
     "output_type": "stream",
     "text": [
      "1.4142135623730951\n",
      "1.4142135623730951\n"
     ]
    }
   ],
   "source": [
    "import math\n",
    "\n",
    "class Point:\n",
    "    def __init__(self, x=0.0, y=0.0):\n",
    "        self.__x = float(x)\n",
    "        self.__y = float(y)\n",
    "\n",
    "    \n",
    "    def getx(self):\n",
    "        return self.__x\n",
    "\n",
    "    def gety(self):\n",
    "        return self.__y\n",
    "\n",
    "    def distance_from_xy(self, x, y):\n",
    "        return math.hypot(self.__x - x, self.__y - y)\n",
    "\n",
    "    def distance_from_point(self, point):\n",
    "        return math.hypot(self.__x - point.getx(), self.__y - point.gety())\n",
    "\n",
    "point1 = Point(0, 0)\n",
    "point2 = Point(1, 1)\n",
    "\n",
    "print(point1.distance_from_point(point2))\n",
    "print(point2.distance_from_xy(2, 0))\n",
    "\n"
   ]
  },
  {
   "cell_type": "markdown",
   "id": "a1343c1e-7c22-41ad-b799-67fda97b0d4d",
   "metadata": {},
   "source": [
    "#### Scenario\n",
    "\n",
    "Now we're going to embed the Point class (see Lab 3.4.1.14) inside another class. Also, we're going to put three points into one class, which will let us define a triangle. How can we do it?\n",
    "\n",
    "The new class will be called Triangle and this is the list of our expectations:\n",
    "\n",
    "    the constructor accepts three arguments - all of them are objects of the Point class;\n",
    "    the points are stored inside the object as a private list;\n",
    "    the class provides a parameterless method called perimeter(), which calculates the perimeter of the triangle described by the three points; the perimeter is a sum of all legs' lengths (we mention it for the record, although we are sure that you know it perfectly yourself.)\n",
    "\n",
    "Complete the template we've provided in the editor. Run your code and check whether the evaluated perimeter is the same as ours."
   ]
  },
  {
   "cell_type": "code",
   "execution_count": 64,
   "id": "2c1b373d-9001-46bf-b5da-647a3b857c6b",
   "metadata": {},
   "outputs": [
    {
     "name": "stdout",
     "output_type": "stream",
     "text": [
      "Perimeter of the triangle: 3.414213562373095\n"
     ]
    }
   ],
   "source": [
    "import math\n",
    "\n",
    "# Assuming the Point class from the previous implementation\n",
    "class Point:\n",
    "    def __init__(self, x=0.0, y=0.0):\n",
    "        self.__x = float(x)\n",
    "        self.__y = float(y)\n",
    "\n",
    "    def getx(self):\n",
    "        return self.__x\n",
    "\n",
    "    def gety(self):\n",
    "        return self.__y\n",
    "\n",
    "    def distance_from_xy(self, x, y):\n",
    "        return math.hypot(self.__x - x, self.__y - y)\n",
    "\n",
    "    def distance_from_point(self, point):\n",
    "        return math.hypot(self.__x - point.getx(), self.__y - point.gety())\n",
    "\n",
    "# Now defining the Triangle class\n",
    "class Triangle:\n",
    "    def __init__(self, point1, point2, point3):\n",
    "        # Store the points as a private list\n",
    "        self.__points = [point1, point2, point3]\n",
    "\n",
    "    def perimeter(self):\n",
    "        # Calculate the distances between the points\n",
    "        side1 = self.__points[0].distance_from_point(self.__points[1])  # Distance from point1 to point2\n",
    "        side2 = self.__points[1].distance_from_point(self.__points[2])  # Distance from point2 to point3\n",
    "        side3 = self.__points[2].distance_from_point(self.__points[0])  # Distance from point3 to point1\n",
    "        # Sum the sides to get the perimeter\n",
    "        return side1 + side2 + side3\n",
    "\n",
    "# Example usage:\n",
    "pointA = Point(0, 0)\n",
    "pointB = Point(1, 0)\n",
    "pointC = Point(0, 1)\n",
    "\n",
    "triangle = Triangle(pointA, pointB, pointC)\n",
    "print(f\"Perimeter of the triangle: {triangle.perimeter()}\")  # Expected output: 12.0\n"
   ]
  },
  {
   "cell_type": "code",
   "execution_count": 68,
   "id": "64f01256-50b9-44eb-8f8a-964c1ce029a7",
   "metadata": {},
   "outputs": [
    {
     "name": "stdout",
     "output_type": "stream",
     "text": [
      "Perimeter of the triangle: 3.414213562373095\n"
     ]
    }
   ],
   "source": [
    "import math\n",
    "\n",
    "class Point:\n",
    "    def __init__(self, x=0.0, y=0.0):\n",
    "        self.__x = float(x)\n",
    "        self.__y = float(y)\n",
    "\n",
    "    def getx(self):\n",
    "        return self.__x\n",
    "\n",
    "    def gety(self):\n",
    "        return self.__y\n",
    "\n",
    "    def distance_from_xy(self, x, y):\n",
    "        return math.hypot(self.__x - x, self.__y - y)\n",
    "\n",
    "    def distance_from_point(self, point):\n",
    "        return math.hypot(self.__x - point.getx(), self.__y - point.gety())\n",
    "\n",
    "class Triangle:\n",
    "    def __init__(self, point1, point2, point3):\n",
    "        self.__points = [point1, point2, point3]\n",
    "\n",
    "    def perimeter(self):\n",
    "        per = 0\n",
    "        for i in range(3):\n",
    "            per += self.__points[i].distance_from_point(self.__points[(i + 1) % 3])\n",
    "        return per\n",
    "\n",
    "# Example usage:\n",
    "pointA = Point(0, 0)\n",
    "pointB = Point(1, 0)\n",
    "pointC = Point(0, 1)\n",
    "\n",
    "triangle = Triangle(pointA, pointB, pointC)\n",
    "print(f\"Perimeter of the triangle: {triangle.perimeter()}\")  # Expected output: 12.0\n"
   ]
  },
  {
   "cell_type": "code",
   "execution_count": null,
   "id": "7e25d8f5-46f0-4cbd-ad19-df40df78e0c8",
   "metadata": {},
   "outputs": [],
   "source": []
  },
  {
   "cell_type": "markdown",
   "id": "e4dabd19-a2bf-4f5d-beff-11171411fc71",
   "metadata": {},
   "source": [
    "### Inheritance - why and how?\n",
    "\n",
    "Before we start talking about inheritance, we want to present a new, handy mechanism utilized by Python's classes and objects - it's the way in which the object is able to introduce itself.\n",
    "\n",
    "Let's start with an example. Look at the code in the editor.\n",
    "\n",
    "The program prints out just one line of text, which in our case is this:"
   ]
  },
  {
   "cell_type": "code",
   "execution_count": 3,
   "id": "053dae52-665c-43e9-8e2c-71075d544f1d",
   "metadata": {},
   "outputs": [
    {
     "name": "stdout",
     "output_type": "stream",
     "text": [
      "<__main__.Star object at 0x000001E850AEAE40>\n"
     ]
    }
   ],
   "source": [
    "class Star:\n",
    "    def __init__(self, name, galaxy):\n",
    "        self.name = name\n",
    "        self.galaxy = galaxy\n",
    "\n",
    "\n",
    "sun = Star(\"Sun\", \"Milky Way\")\n",
    "print(sun)\n"
   ]
  },
  {
   "cell_type": "markdown",
   "id": "ae0b057d-b21a-4322-83b4-492901208cd4",
   "metadata": {},
   "source": [
    "If you run the same code on your computer, you'll see something very similar, although the hexadecimal number (the substring starting with 0x) will be different, as it's just an internal object identifier used by Python, and it's unlikely that it would appear the same when the same code is run in a different environment.\n",
    "\n",
    "As you can see, the printout here isn't really useful, and something more specific, or just prettier, may be more preferable.\n",
    "\n",
    "Fortunately, Python offers just such a function.\n",
    "\n",
    "\n"
   ]
  },
  {
   "cell_type": "markdown",
   "id": "e86ee9ba-5c46-47bf-90c6-d3cf5e62c3bb",
   "metadata": {},
   "source": [
    "### Inheritance - why and how?\n",
    "\n",
    "When Python needs any class/object to be presented as a string (putting an object as an argument in the print() function invocation fits this condition) it tries to invoke a method named __str__() from the object and to use the string it returns.\n",
    "\n",
    "The default __str__() method returns the previous string - ugly and not very informative. You can change it just by defining your own method of the name."
   ]
  },
  {
   "cell_type": "code",
   "execution_count": 4,
   "id": "a334541b-e8d2-4466-abe8-0ed02fdc6cdc",
   "metadata": {},
   "outputs": [
    {
     "name": "stdout",
     "output_type": "stream",
     "text": [
      "Sun in Milky Way\n"
     ]
    }
   ],
   "source": [
    "class Star:\n",
    "    def __init__(self, name, galaxy):\n",
    "        self.name = name\n",
    "        self.galaxy = galaxy\n",
    "\n",
    "    def __str__(self):\n",
    "        return self.name + ' in ' + self.galaxy\n",
    "\n",
    "\n",
    "sun = Star(\"Sun\", \"Milky Way\")\n",
    "print(sun)\n"
   ]
  },
  {
   "cell_type": "markdown",
   "id": "0f95ff3e-49bc-42e7-b78d-d37766a8ca4d",
   "metadata": {},
   "source": [
    "We've just done it \n",
    "\n",
    "This new __str__() method makes a string consisting of the star's and galaxy's names - nothing special, but the print results look better now, doesn't it?\n"
   ]
  },
  {
   "cell_type": "markdown",
   "id": "994a00bb-dcda-4943-b136-3ac0bfaee947",
   "metadata": {},
   "source": [
    "\n",
    "### Inheritance - why and how?\n",
    "\n",
    "The term inheritance is older than computer programming, and it describes the common practice of passing different goods from one person to another upon that person's death. The term, when related to computer programming, has an entirely different meaning.\n",
    "\n",
    "The concept of inheritance\n",
    "\n",
    "\n",
    "Let's define the term for our purposes:\n",
    "\n",
    "Inheritance is a common practice (in object programming) of passing attributes and methods from the superclass (defined and existing) to a newly created class, called the subclass.\n",
    "\n",
    "In other words, inheritance is a way of building a new class, not from scratch, but by using an already defined repertoire of traits. The new class inherits (and this is the key) all the already existing equipment, but is able to add some new ones if needed.\n",
    "\n",
    "Thanks to that, it's possible to build more specialized (more concrete) classes using some sets of predefined general rules and behaviors.\n",
    "\n",
    "\n",
    "\n",
    "The most important factor of the process is the relation between the superclass and all of its subclasses (note: if B is a subclass of A and C is a subclass of B, this also means that C is a subclass of A, as the relationship is fully transitive).\n",
    "\n",
    "A very simple example of two-level inheritance is presented here:"
   ]
  },
  {
   "cell_type": "code",
   "execution_count": 5,
   "id": "edfb9ee8-43e4-44d8-b21d-a24644720294",
   "metadata": {},
   "outputs": [],
   "source": [
    "class Vehicle:\n",
    "    pass\n",
    "\n",
    "\n",
    "class LandVehicle(Vehicle):\n",
    "    pass\n",
    "\n",
    "\n",
    "class TrackedVehicle(LandVehicle):\n",
    "    pass\n",
    "\n"
   ]
  },
  {
   "cell_type": "markdown",
   "id": "7268b61a-2390-44f8-b5bc-09ed71356519",
   "metadata": {},
   "source": [
    "All the presented classes are empty for now, as we're going to show you how the mutual relations between the super- and subclasses work. We'll fill them with contents soon.\n",
    "\n",
    "We can say that:\n",
    "\n",
    "    The Vehicle class is the superclass for both the LandVehicle and TrackedVehicle classes;\n",
    "    The LandVehicle class is a subclass of Vehicle and a superclass of TrackedVehicle at the same time;\n",
    "    The TrackedVehicle class is a subclass of both the Vehicle and LandVehicle classes.\n",
    "\n",
    "We understand this just by reading the code (in other words, we know it because we can see it).\n",
    "\n",
    "Does Python know the same? Is it possible to ask Python about it? Yes, it is."
   ]
  },
  {
   "cell_type": "code",
   "execution_count": null,
   "id": "83efe2fa-5a2b-4d30-b20a-4f7ce1841f74",
   "metadata": {},
   "outputs": [],
   "source": []
  },
  {
   "cell_type": "markdown",
   "id": "481aa5a2-bad7-4e8b-b08c-a9d7289a949c",
   "metadata": {},
   "source": [
    "### Inheritance: issubclass()\n",
    "\n",
    "Python offers a function which is able to identify a relationship between two classes, and although its diagnosis isn't complex, it can check if a particular class is a subclass of any other class.\n",
    "\n",
    "This is how it looks:"
   ]
  },
  {
   "cell_type": "code",
   "execution_count": null,
   "id": "64f0b649-cc0f-4d2a-a7b3-2d80978f87aa",
   "metadata": {},
   "outputs": [],
   "source": [
    "issubclass(ClassOne, ClassTwo)"
   ]
  },
  {
   "cell_type": "markdown",
   "id": "eebc3c2a-024b-40e3-a69d-1fac7849106a",
   "metadata": {},
   "source": [
    "The function returns True if ClassOne is a subclass of ClassTwo, and False otherwise.\n",
    "\n",
    "Let's see it in action - it may surprise you. Look at the code in the editor. Read it carefully."
   ]
  },
  {
   "cell_type": "code",
   "execution_count": 7,
   "id": "a88285d9-c5a6-4ef8-949e-6bbd056a3e5e",
   "metadata": {},
   "outputs": [
    {
     "name": "stdout",
     "output_type": "stream",
     "text": [
      "True\tFalse\tFalse\t\n",
      "True\tTrue\tFalse\t\n",
      "True\tTrue\tTrue\t\n"
     ]
    }
   ],
   "source": [
    "class Vehicle:\n",
    "    pass\n",
    "\n",
    "\n",
    "class LandVehicle(Vehicle):\n",
    "    pass\n",
    "\n",
    "\n",
    "class TrackedVehicle(LandVehicle):\n",
    "    pass\n",
    "\n",
    "\n",
    "for cls1 in [Vehicle, LandVehicle, TrackedVehicle]:\n",
    "    for cls2 in [Vehicle, LandVehicle, TrackedVehicle]:\n",
    "        print(issubclass(cls1, cls2), end=\"\\t\")\n",
    "    print()\n"
   ]
  },
  {
   "cell_type": "markdown",
   "id": "bd03d6dd-58aa-4513-ba92-96a3ef0dde26",
   "metadata": {},
   "source": [
    "There are two nested loops. Their purpose is to check all possible ordered pairs of classes, and to print the results of the check to determine whether the pair matches the subclass-superclass relationship."
   ]
  },
  {
   "cell_type": "code",
   "execution_count": null,
   "id": "057b5cd0-21e6-4f9f-a5bc-458366a2d7d3",
   "metadata": {},
   "outputs": [],
   "source": [
    "↓ is a subclass of → \tVehicle \tLandVehicle \tTrackedVehicle\n",
    "\n",
    "Vehicle \t            True             False               False\n",
    "LandVehicle \t        True \t         True \t             False\n",
    "TrackedVehicle          True \t         True \t             True\n",
    "\n",
    "There is one important observation to make: each class is considered to be a subclass of itself.\n"
   ]
  },
  {
   "cell_type": "markdown",
   "id": "c872183b-770d-47af-88f5-2ed8ad3a0529",
   "metadata": {},
   "source": []
  },
  {
   "cell_type": "markdown",
   "id": "f2db30c1-d04b-4396-ba39-7f0b83d7efff",
   "metadata": {},
   "source": [
    "### Inheritance: isinstance()\n",
    "\n",
    "As you already know, an object is an incarnation of a class. This means that the object is like a cake baked using a recipe which is included inside the class.\n",
    "\n",
    "This can generate some important issues.\n",
    "\n",
    "Let's assume that you've got a cake (e.g., as an argument passed to your function). You want to know what recipe has been used to make it. Why? Because you want to know what to expect from it, e.g., whether it contains nuts or not, which is crucial information to some people.\n",
    "\n",
    "Similarly, it can be crucial if the object does have (or doesn't have) certain characteristics. In other words, whether it is an object of a certain class or not.\n",
    "\n",
    "Such a fact could be detected by the function named isinstance():"
   ]
  },
  {
   "cell_type": "code",
   "execution_count": null,
   "id": "89f96029-7801-4fc4-bd83-a6a5799e2558",
   "metadata": {},
   "outputs": [],
   "source": [
    "isinstance(objectName, ClassName)"
   ]
  },
  {
   "cell_type": "markdown",
   "id": "04252def-98a8-46dd-9364-f11a055fd0bc",
   "metadata": {},
   "source": [
    "The functions returns True if the object is an instance of the class, or False otherwise.\n",
    "\n",
    "Being an instance of a class means that the object (the cake) has been prepared using a recipe contained in either the class or one of its superclasses.\n",
    "\n",
    "Don't forget: if a subclass contains at least the same equipment as any of its superclasses, it means that objects of the subclass can do the same as objects derived from the superclass, ergo, it's an instance of its home class and any of its superclasses."
   ]
  },
  {
   "cell_type": "code",
   "execution_count": 12,
   "id": "a4d467b4-b860-4e71-9b3f-f8c66a0ce65e",
   "metadata": {},
   "outputs": [
    {
     "name": "stdout",
     "output_type": "stream",
     "text": [
      "True\tFalse\tFalse\t\n",
      "True\tTrue\tFalse\t\n",
      "True\tTrue\tTrue\t\n"
     ]
    }
   ],
   "source": [
    "class Vehicle:\n",
    "    pass\n",
    "\n",
    "\n",
    "class LandVehicle(Vehicle):\n",
    "    pass\n",
    "\n",
    "\n",
    "class TrackedVehicle(LandVehicle):\n",
    "    pass\n",
    "\n",
    "\n",
    "my_vehicle = Vehicle()\n",
    "my_land_vehicle = LandVehicle()\n",
    "my_tracked_vehicle = TrackedVehicle()\n",
    "\n",
    "for obj in [my_vehicle, my_land_vehicle, my_tracked_vehicle]:\n",
    "    for cls in [Vehicle, LandVehicle, TrackedVehicle]:\n",
    "        print(isinstance(obj, cls), end=\"\\t\")\n",
    "    print()"
   ]
  },
  {
   "cell_type": "markdown",
   "id": "1ee1f829-a13e-4f4e-bf24-7fea4e1b4ebf",
   "metadata": {},
   "source": [
    "### Inheritance: the is operator\n",
    "\n",
    "There is also a Python operator worth mentioning, as it refers directly to objects - here it is:\n",
    "object_one __is__ object_two\n",
    "\n",
    "\n",
    "The is operator checks whether two variables (object_one and object_two here) refer to the same object.\n",
    "\n",
    "Don't forget that variables don't store the objects themselves, but only the handles pointing to the internal Python memory.\n",
    "\n",
    "Assigning a value of an object variable to another variable doesn't copy the object, but only its handle. This is why an operator like is may be very useful in particular circumstances.\n",
    "\n",
    "Take a look at the code in the editor. Let's analyze it:"
   ]
  },
  {
   "cell_type": "code",
   "execution_count": 13,
   "id": "2c70912f-53f6-4eea-a1f7-c3cbaeaba614",
   "metadata": {},
   "outputs": [
    {
     "name": "stdout",
     "output_type": "stream",
     "text": [
      "False\n",
      "False\n",
      "True\n",
      "1 2 1\n",
      "True False\n"
     ]
    }
   ],
   "source": [
    "class SampleClass:\n",
    "    def __init__(self, val):\n",
    "        self.val = val\n",
    "\n",
    "\n",
    "object_1 = SampleClass(0)\n",
    "object_2 = SampleClass(2)\n",
    "object_3 = object_1\n",
    "object_3.val += 1\n",
    "\n",
    "print(object_1 is object_2)\n",
    "print(object_2 is object_3)\n",
    "print(object_3 is object_1)\n",
    "print(object_1.val, object_2.val, object_3.val)\n",
    "\n",
    "string_1 = \"Mary had a little \"\n",
    "string_2 = \"Mary had a little lamb\"\n",
    "string_1 += \"lamb\"\n",
    "\n",
    "print(string_1 == string_2, string_1 is string_2)\n"
   ]
  },
  {
   "cell_type": "markdown",
   "id": "cea03525-1e77-4914-96ff-137c139594df",
   "metadata": {},
   "source": [
    "\n",
    "    there is a very simple class equipped with a simple constructor, creating just one property. The class is used to instantiate two objects. The former is then assigned to another variable, and its val property is incremented by one.\n",
    "    afterward, the is operator is applied three times to check all possible pairs of objects, and all val property values are also printed.\n",
    "    the last part of the code carries out another experiment. After three assignments, both strings contain the same texts, but these texts are stored in different objects.\n"
   ]
  },
  {
   "cell_type": "markdown",
   "id": "5e1e1b08-9b5a-40dd-a2a0-9929991ccd26",
   "metadata": {},
   "source": [
    "The results prove that object_1 and object_3 are actually the same objects, while string_1 and string_2 aren't, despite their contents being the same.\n"
   ]
  },
  {
   "cell_type": "code",
   "execution_count": null,
   "id": "6d1e3038-4fc1-4d0e-927f-fa71933c8d56",
   "metadata": {},
   "outputs": [],
   "source": []
  },
  {
   "cell_type": "markdown",
   "id": "79f6c121-232e-488f-ad89-9f609c7dcd2f",
   "metadata": {},
   "source": [
    "### How Python finds properties and methods\n",
    "\n",
    "Now we're going to look at how Python deals with inheriting methods.\n",
    "\n",
    "Take a look at the example in the editor. Let's analyze it:"
   ]
  },
  {
   "cell_type": "code",
   "execution_count": 14,
   "id": "42ba5203-b5ba-4a8e-aa0e-1c4cfec9294c",
   "metadata": {},
   "outputs": [
    {
     "name": "stdout",
     "output_type": "stream",
     "text": [
      "My name is Andy.\n"
     ]
    }
   ],
   "source": [
    "class Super:\n",
    "    def __init__(self, name):\n",
    "        self.name = name\n",
    "\n",
    "    def __str__(self):\n",
    "        return \"My name is \" + self.name + \".\"\n",
    "\n",
    "\n",
    "class Sub(Super):\n",
    "    def __init__(self, name):\n",
    "        Super.__init__(self, name)\n",
    "\n",
    "\n",
    "obj = Sub(\"Andy\")\n",
    "\n",
    "print(obj)\n"
   ]
  },
  {
   "cell_type": "markdown",
   "id": "bb376766-e29c-416f-8e64-fcd6e4a18c4e",
   "metadata": {},
   "source": [
    "\n",
    "    there is a class named Super, which defines its own constructor used to assign the object's property, named name.\n",
    "    the class defines the __str__() method, too, which makes the class able to present its identity in clear text form.\n",
    "    the class is next used as a base to create a subclass named Sub. The Sub class defines its own constructor, which invokes the one from the superclass. Note how we've done it: Super.__init__(self, name).\n",
    "    we've explicitly named the superclass, and pointed to the method to invoke __init__(), providing all needed arguments.\n",
    "    we've instantiated one object of class Sub and printed it.\n"
   ]
  },
  {
   "cell_type": "code",
   "execution_count": null,
   "id": "0877a938-f8c8-45af-b0af-8a79100b3b79",
   "metadata": {},
   "outputs": [],
   "source": []
  },
  {
   "cell_type": "markdown",
   "id": "a4a455e7-8aa6-4528-9527-65e3fe3b92ef",
   "metadata": {},
   "source": [
    "Look at the code in the editor. We've modified it to show you another method of accessing any entity defined inside the superclass.\n",
    "\n",
    "In the last example, we explicitly named the superclass. In this example, we make use of the super() function, which accesses the superclass without needing to know its name:"
   ]
  },
  {
   "cell_type": "code",
   "execution_count": 15,
   "id": "96b60999-5b42-4a09-9b46-48e9ce7d8a9c",
   "metadata": {},
   "outputs": [
    {
     "name": "stdout",
     "output_type": "stream",
     "text": [
      "My name is Andy.\n"
     ]
    }
   ],
   "source": [
    "class Super:\n",
    "    def __init__(self, name):\n",
    "        self.name = name\n",
    "\n",
    "    def __str__(self):\n",
    "        return \"My name is \" + self.name + \".\"\n",
    "\n",
    "\n",
    "class Sub(Super):\n",
    "    def __init__(self, name):\n",
    "        super().__init__(name)\n",
    "\n",
    "\n",
    "obj = Sub(\"Andy\")\n",
    "\n",
    "print(obj)\n"
   ]
  },
  {
   "cell_type": "markdown",
   "id": "e8cb03b7-45f0-4075-9085-e6f6abcda36f",
   "metadata": {},
   "source": [
    "The super() function creates a context in which you don't have to (moreover, you mustn't) pass the self argument to the method being invoked - this is why it's possible to activate the superclass constructor using only one argument.\n",
    "\n",
    "Note: you can use this mechanism not only to invoke the superclass constructor, but also to get access to any of the resources available inside the superclass."
   ]
  },
  {
   "cell_type": "code",
   "execution_count": null,
   "id": "b6985563-dfac-4e6b-8fcf-a9064c95412e",
   "metadata": {},
   "outputs": [],
   "source": []
  },
  {
   "cell_type": "markdown",
   "id": "4b2562c2-4f81-4039-b7bc-af88ddd49805",
   "metadata": {},
   "source": [
    "Let's try to do something similar, but with properties (more precisely: with class variables).\n",
    "\n",
    "Take a look at the example in the editor."
   ]
  },
  {
   "cell_type": "code",
   "execution_count": 16,
   "id": "cd8f6fe5-791a-4a7f-883a-550cdd929dec",
   "metadata": {},
   "outputs": [
    {
     "name": "stdout",
     "output_type": "stream",
     "text": [
      "2\n",
      "1\n"
     ]
    }
   ],
   "source": [
    "# Testing properties: class variables.\n",
    "class Super:\n",
    "    supVar = 1\n",
    "\n",
    "\n",
    "class Sub(Super):\n",
    "    subVar = 2\n",
    "\n",
    "\n",
    "obj = Sub()\n",
    "\n",
    "print(obj.subVar)\n",
    "print(obj.supVar)\n"
   ]
  },
  {
   "cell_type": "markdown",
   "id": "dc6f26d2-3db1-48c2-b7a4-0345f9e7304d",
   "metadata": {},
   "source": [
    "As you can see, the Super class defines one class variable named supVar, and the Sub class defines a variable named subVar.\n",
    "\n",
    "Both these variables are visible inside the object of class Sub - this is why the code outputs:"
   ]
  },
  {
   "cell_type": "markdown",
   "id": "ea1ee96c-1832-4f09-a88b-383c169d248b",
   "metadata": {},
   "source": [
    "The same effect can be observed with instance variables - take a look at the second example in the editor."
   ]
  },
  {
   "cell_type": "code",
   "execution_count": 17,
   "id": "ca1047f6-4bdf-4187-9dcc-dba7cce29ef6",
   "metadata": {},
   "outputs": [
    {
     "name": "stdout",
     "output_type": "stream",
     "text": [
      "12\n",
      "11\n"
     ]
    }
   ],
   "source": [
    "# Testing properties: instance variables.\n",
    "class Super:\n",
    "    def __init__(self):\n",
    "        self.supVar = 11\n",
    "\n",
    "\n",
    "class Sub(Super):\n",
    "    def __init__(self):\n",
    "        super().__init__()\n",
    "        self.subVar = 12\n",
    "\n",
    "\n",
    "obj = Sub()\n",
    "\n",
    "print(obj.subVar)\n",
    "print(obj.supVar)\n"
   ]
  },
  {
   "cell_type": "markdown",
   "id": "2bcce49d-0948-4bee-b76f-8ab16a75d36e",
   "metadata": {},
   "source": [
    "The Sub class constructor creates an instance variable named subVar, while the Super constructor does the same with a variable named supVar. As previously, both variables are accessible from within the object of class Sub."
   ]
  },
  {
   "cell_type": "markdown",
   "id": "e74e4f0c-3223-4a50-86fc-8be8ae9153f7",
   "metadata": {},
   "source": [
    "Note: the existence of the supVar variable is obviously conditioned by the Super class constructor invocation. Omitting it would result in the absence of the variable in the created object (try it yourself)."
   ]
  },
  {
   "cell_type": "code",
   "execution_count": 21,
   "id": "0c74ec16-8de1-4d12-b819-b7b092fe8f23",
   "metadata": {},
   "outputs": [
    {
     "name": "stdout",
     "output_type": "stream",
     "text": [
      "12\n",
      "11\n"
     ]
    }
   ],
   "source": [
    "class Super:\n",
    "    def __init__(self):\n",
    "        self.supVar = 11\n",
    "\n",
    "\n",
    "class Sub(Super):\n",
    "    def __init__(self):\n",
    "        super().__init__()\n",
    "        self.subVar = 12\n",
    "\n",
    "\n",
    "obj = Sub()\n",
    "\n",
    "print(obj.subVar)\n",
    "print(obj.supVar)\n"
   ]
  },
  {
   "cell_type": "code",
   "execution_count": null,
   "id": "a8984eff-73a8-4a4a-b655-fb2f0b9e83c6",
   "metadata": {},
   "outputs": [],
   "source": []
  },
  {
   "cell_type": "markdown",
   "id": "74de1567-fd3e-464b-8e35-e3c04187f511",
   "metadata": {},
   "source": [
    "It's now possible to formulate a general statement describing Python's behavior.\n",
    "\n",
    "When you try to access any object's entity, Python will try to (in this order):\n",
    "\n",
    "    find it inside the object itself;\n",
    "    find it in all classes involved in the object's inheritance line from bottom to top;\n",
    "\n",
    "If both of the above fail, an exception (AttributeError) is raised.\n",
    "\n",
    "The first condition may need some additional attention. As you know, all objects deriving from a particular class may have different sets of attributes, and some of the attributes may be added to the object a long time after the object's creation.\n",
    "\n",
    "The example in the editor summarizes this in a three-level inheritance line. Analyze it carefully.\n",
    "\n",
    "All the comments we've made so far are related to single inheritance, when a subclass has exactly one superclass. This is the most common situation (and the recommended one, too).\n",
    "\n",
    "Python, however, offers much more here. In the next lessons we're going to show you some examples of multiple inheritance.\n",
    "\n",
    "\n",
    "    \n",
    "\n",
    "\n",
    "\n",
    "\n",
    "\n"
   ]
  },
  {
   "cell_type": "code",
   "execution_count": 22,
   "id": "e62e8f71-29aa-45aa-902b-292c2f49ee50",
   "metadata": {},
   "outputs": [
    {
     "name": "stdout",
     "output_type": "stream",
     "text": [
      "100 101 102\n",
      "200 201 202\n",
      "300 301 302\n"
     ]
    }
   ],
   "source": [
    "class Level1:\n",
    "    variable_1 = 100\n",
    "    def __init__(self):\n",
    "        self.var_1 = 101\n",
    "\n",
    "    def fun_1(self):\n",
    "        return 102\n",
    "\n",
    "\n",
    "class Level2(Level1):\n",
    "    variable_2 = 200\n",
    "    def __init__(self):\n",
    "        super().__init__()\n",
    "        self.var_2 = 201\n",
    "    \n",
    "    def fun_2(self):\n",
    "        return 202\n",
    "\n",
    "\n",
    "class Level3(Level2):\n",
    "    variable_3 = 300\n",
    "    def __init__(self):\n",
    "        super().__init__()\n",
    "        self.var_3 = 301\n",
    "\n",
    "    def fun_3(self):\n",
    "        return 302\n",
    "\n",
    "\n",
    "obj = Level3()\n",
    "\n",
    "print(obj.variable_1, obj.var_1, obj.fun_1())\n",
    "print(obj.variable_2, obj.var_2, obj.fun_2())\n",
    "print(obj.variable_3, obj.var_3, obj.fun_3())\n"
   ]
  },
  {
   "cell_type": "markdown",
   "id": "7e3ee1d8-c32b-4b8c-8874-554565ba7fcd",
   "metadata": {},
   "source": [
    "Multiple inheritance occurs when a class has more than one superclass. Syntactically, such inheritance is presented as a comma-separated list of superclasses put inside parentheses after the new class name - just like here"
   ]
  },
  {
   "cell_type": "code",
   "execution_count": 23,
   "id": "ceb336b2-fb1a-4f2b-ae36-350fec484793",
   "metadata": {},
   "outputs": [
    {
     "name": "stdout",
     "output_type": "stream",
     "text": [
      "10 11\n",
      "20 21\n"
     ]
    }
   ],
   "source": [
    "class SuperA:\n",
    "    var_a = 10\n",
    "    def fun_a(self):\n",
    "        return 11\n",
    "\n",
    "\n",
    "class SuperB:\n",
    "    var_b = 20\n",
    "    def fun_b(self):\n",
    "        return 21\n",
    "\n",
    "\n",
    "class Sub(SuperA, SuperB):\n",
    "    pass\n",
    "\n",
    "\n",
    "obj = Sub()\n",
    "\n",
    "print(obj.var_a, obj.fun_a())\n",
    "print(obj.var_b, obj.fun_b())\n"
   ]
  },
  {
   "cell_type": "markdown",
   "id": "1a370387-0ffe-491a-a079-1669e741bee5",
   "metadata": {},
   "source": [
    "The Sub class has two superclasses: SuperA and SuperB. This means that the Sub class inherits all the goods offered by both SuperA and SuperB.\n",
    "\n"
   ]
  },
  {
   "cell_type": "markdown",
   "id": "8242b931-2f5e-40a2-a7c8-a15a0a6bff01",
   "metadata": {},
   "source": [
    "Now it's time to introduce a brand new term - overriding.\n",
    "\n",
    "What do you think will happen if more than one of the superclasses defines an entity of a particular name?"
   ]
  },
  {
   "cell_type": "code",
   "execution_count": null,
   "id": "0b1bb6f6-59c8-4be8-9629-e9a310ab1ce0",
   "metadata": {},
   "outputs": [],
   "source": []
  },
  {
   "cell_type": "markdown",
   "id": "abf1a82d-d54d-46a6-8e90-c74c06622c56",
   "metadata": {},
   "source": [
    "#### Let's analyze the example in the editor.\n",
    "\n",
    "Both, Level1 and Level2 classes define a method named fun() and a property named var. Does this mean that the Level3 class object will be able to access two copies of each entity? Not at all.\n",
    "\n",
    "The entity defined later (in the inheritance sense) overrides the same entity defined earlier. This is why the code produces the following output:"
   ]
  },
  {
   "cell_type": "code",
   "execution_count": 24,
   "id": "4924ff93-1614-4322-9e7f-2a2e59406636",
   "metadata": {},
   "outputs": [
    {
     "name": "stdout",
     "output_type": "stream",
     "text": [
      "200 201\n"
     ]
    }
   ],
   "source": [
    "class Level1:\n",
    "    var = 100\n",
    "    def fun(self):\n",
    "        return 101\n",
    "\n",
    "\n",
    "class Level2(Level1):\n",
    "    var = 200\n",
    "    def fun(self):\n",
    "        return 201\n",
    "\n",
    "\n",
    "class Level3(Level2):\n",
    "    pass\n",
    "\n",
    "\n",
    "obj = Level3()\n",
    "\n",
    "print(obj.var, obj.fun())"
   ]
  },
  {
   "cell_type": "markdown",
   "id": "695ec19d-2737-4bb6-a62e-28b37e971527",
   "metadata": {},
   "source": [
    "As you can see, the var class variable and fun() method from the Level2 class override the entities of the same names derived from the Level1 class.\n",
    "\n",
    "This feature can be intentionally used to modify default (or previously defined) class behaviors when any of its classes needs to act in a different way to its ancestor.\n",
    "\n",
    "We can also say that Python looks for an entity from bottom to top, and is fully satisfied with the first entity of the desired name.\n",
    "\n",
    "How does it work when a class has two ancestors offering the same entity, and they lie on the same level? In other words, what should you expect when a class emerges using multiple inheritance? Let's look at this.\n"
   ]
  },
  {
   "cell_type": "code",
   "execution_count": null,
   "id": "c5eeb959-4183-4125-99ea-e57a67784bab",
   "metadata": {},
   "outputs": [],
   "source": []
  },
  {
   "cell_type": "markdown",
   "id": "20482c00-4bc0-4f86-8843-aaeadef8e5bf",
   "metadata": {},
   "source": [
    "Let's take a look at the example in the editor.\n",
    "\n",
    "The Sub class inherits goods from two superclasses, Left and Right (these names are intended to be meaningful).\n",
    "\n",
    "There is no doubt that the class variable var_right comes from the Right class, and var_left comes from Left respectively.\n",
    "\n",
    "This is clear. But where does var come from? Is it possible to guess it? The same problem is encountered with the fun() method - will it be invoked from Left or from Right? Let's run the program - its output is:"
   ]
  },
  {
   "cell_type": "code",
   "execution_count": 27,
   "id": "deef40bd-4136-4397-86a8-3bba2687091b",
   "metadata": {},
   "outputs": [
    {
     "name": "stdout",
     "output_type": "stream",
     "text": [
      "L LL RR Left\n"
     ]
    }
   ],
   "source": [
    "class Left:\n",
    "    var = \"L\"\n",
    "    var_left = \"LL\"\n",
    "    def fun(self):\n",
    "        return \"Left\"\n",
    "\n",
    "\n",
    "class Right:\n",
    "    var = \"R\"\n",
    "    var_right = \"RR\"\n",
    "    def fun(self):\n",
    "        return \"Right\"\n",
    "\n",
    "\n",
    "class Sub(Left, Right):\n",
    "    pass\n",
    "\n",
    "\n",
    "obj = Sub()\n",
    "\n",
    "print(obj.var, obj.var_left, obj.var_right, obj.fun())\n"
   ]
  },
  {
   "cell_type": "markdown",
   "id": "e2c028a1-bd91-4597-9a3d-a2e7c06ffa5f",
   "metadata": {},
   "source": [
    "This proves that both unclear cases have a solution inside the Left class. Is this a sufficient premise to formulate a general rule? Yes, it is.\n",
    "\n",
    "We can say that Python looks for object components in the following order:\n",
    "\n",
    "    inside the object itself;\n",
    "    in its superclasses, from bottom to top;\n",
    "    if there is more than one class on a particular inheritance path, Python scans them from left to right.\n",
    "\n",
    "Do you need anything more? Just make a small amendment in the code - replace: class Sub(Left, Right): with: class Sub(Right, Left):, then run the program again, and see what happens.\n",
    "\n",
    "What do you see now? We see:"
   ]
  },
  {
   "cell_type": "code",
   "execution_count": 28,
   "id": "84194ade-5caf-40a6-8f65-47c306074dd8",
   "metadata": {},
   "outputs": [
    {
     "name": "stdout",
     "output_type": "stream",
     "text": [
      "R LL RR Right\n"
     ]
    }
   ],
   "source": [
    "class Left:\n",
    "    var = \"L\"\n",
    "    var_left = \"LL\"\n",
    "    def fun(self):\n",
    "        return \"Left\"\n",
    "\n",
    "\n",
    "class Right:\n",
    "    var = \"R\"\n",
    "    var_right = \"RR\"\n",
    "    def fun(self):\n",
    "        return \"Right\"\n",
    "\n",
    "\n",
    "class Sub(Right, Left):\n",
    "    pass\n",
    "\n",
    "\n",
    "obj = Sub()\n",
    "\n",
    "print(obj.var, obj.var_left, obj.var_right, obj.fun())\n"
   ]
  },
  {
   "cell_type": "code",
   "execution_count": null,
   "id": "ed81cf58-0743-4da2-b388-03bb580e0e0b",
   "metadata": {},
   "outputs": [],
   "source": []
  },
  {
   "cell_type": "markdown",
   "id": "b873630c-b40f-4be9-adb0-b695bff85139",
   "metadata": {},
   "source": [
    "### How to build a hierarchy of classes\n",
    "\n",
    "Building a hierarchy of classes isn't just art for art's sake.\n",
    "\n",
    "If you divide a problem among classes and decide which of them should be located at the top and which should be placed at the bottom of the hierarchy, you have to carefully analyze the issue, but before we show you how to do it (and how not to do it), we want to highlight an interesting effect. It's nothing extraordinary (it's just a consequence of the general rules presented earlier), but remembering it may be key to understanding how some codes work, and how the effect may be used to build a flexible set of classes.\n",
    "\n",
    "Take a look at the code in the editor. Let's analyze it:"
   ]
  },
  {
   "cell_type": "code",
   "execution_count": 29,
   "id": "c8c111ac-aa75-414e-9665-46fe66c880e3",
   "metadata": {},
   "outputs": [
    {
     "name": "stdout",
     "output_type": "stream",
     "text": [
      "do_it from One\n",
      "do_it from Two\n"
     ]
    }
   ],
   "source": [
    "class One:\n",
    "    def do_it(self):\n",
    "        print(\"do_it from One\")\n",
    "\n",
    "    def doanything(self):\n",
    "        self.do_it()\n",
    "\n",
    "\n",
    "class Two(One):\n",
    "    def do_it(self):\n",
    "        print(\"do_it from Two\")\n",
    "\n",
    "\n",
    "one = One()\n",
    "two = Two()\n",
    "\n",
    "one.doanything()\n",
    "two.doanything()\n"
   ]
  },
  {
   "cell_type": "markdown",
   "id": "5b4497cc-59fe-4d95-a621-b05fd1776d88",
   "metadata": {},
   "source": [
    "\n",
    "    there are two classes, named One and Two, while Two is derived from One. Nothing special. However, one thing looks remarkable - the do_it() method.\n",
    "    the do_it()method is defined twice: originally inside One and subsequently inside Two. The essence of the example lies in the fact that it is invoked just once - inside One.\n",
    "\n",
    "The question is - which of the two methods will be invoked by the last two lines of the code?\n",
    "\n",
    "The first invocation seems to be simple, and it is simple, actually - invoking doanything() from the object named one will obviously activate the first of the methods.\n",
    "\n",
    "The second invocation needs some attention. It's simple, too if you keep in mind how Python finds class components. The second invocation will launch do_it() in the form existing inside the Two class, regardless of the fact that the invocation takes place within the One class.\n",
    "\n",
    "In effect, the code produces the following output:\n",
    "do_it from One\n",
    "do_it from Two\n",
    "\n",
    "\n",
    "Note: the situation in which the subclass is able to modify its superclass behavior (just like in the example) is called polymorphism. The word comes from Greek (polys: \"many, much\" and morphe, \"form, shape\"), which means that one and the same class can take various forms depending on the redefinitions done by any of its subclasses.\n",
    "\n",
    "The method, redefined in any of the superclasses, thus changing the behavior of the superclass, is called virtual.\n",
    "\n",
    "In other words, no class is given once and for all. Each class's behavior may be modified at any time by any of its subclasses.\n",
    "\n",
    "We're going to show you how to use polymorphism to extend class flexibility.\n",
    "\n",
    "\n",
    "\n"
   ]
  },
  {
   "cell_type": "code",
   "execution_count": null,
   "id": "0990a48a-2766-4c83-ba7f-6c19a5e292ca",
   "metadata": {},
   "outputs": [],
   "source": []
  },
  {
   "cell_type": "markdown",
   "id": "29d35977-5f50-4381-81ab-2854dc62e556",
   "metadata": {},
   "source": [
    "Look at the example in the editor."
   ]
  },
  {
   "cell_type": "code",
   "execution_count": 1,
   "id": "d4e1ab92-f2f9-4023-889a-0069424cd780",
   "metadata": {},
   "outputs": [],
   "source": [
    "import time\n",
    "\n",
    "class TrackedVehicle:\n",
    "    def control_track(left, stop):\n",
    "        pass\n",
    "\n",
    "    def turn(left):\n",
    "        control_track(left, True)\n",
    "        time.sleep(0.25)\n",
    "        control_track(left, False)\n",
    "\n",
    "\n",
    "class WheeledVehicle:\n",
    "    def turn_front_wheels(left, on):\n",
    "        pass\n",
    "\n",
    "    def turn(left):\n",
    "        turn_front_wheels(left, True)\n",
    "        time.sleep(0.25)\n",
    "        turn_front_wheels(left, False)\n"
   ]
  },
  {
   "cell_type": "markdown",
   "id": "71a2bab1-25d4-43e1-8632-3f6e914dda09",
   "metadata": {},
   "source": [
    "Does it resemble anything? Yes, of course it does. It refers to the example shown at the beginning of the module when we talked about the general concepts of objective programming.\n",
    "\n",
    "It may look weird, but we didn't use inheritance in any way - just to show you that it doesn't limit us, and we managed to get ours.\n",
    "\n",
    "We defined two separate classes able to produce two different kinds of land vehicles. The main difference between them is in how they turn. A wheeled vehicle just turns the front wheels (generally). A tracked vehicle has to stop one of the tracks.\n",
    "\n",
    "Can you follow the code?\n",
    "\n",
    "    a tracked vehicle performs a turn by stopping and moving on one of its tracks (this is done by the control_track() method, which will be implemented later)\n",
    "    a wheeled vehicle turns when its front wheels turn (this is done by the turn_front_wheels() method)\n",
    "    the turn() method uses the method suitable for each particular vehicle.\n",
    "\n",
    "Can you see what's wrong with the code?\n",
    "\n",
    "The turn() methods look too similar to leave them in this form.\n",
    "\n",
    "Let's rebuild the code - we're going to introduce a superclass to gather all the similar aspects of the driving vehicles, moving all the specifics to the subclasses.\n"
   ]
  },
  {
   "cell_type": "markdown",
   "id": "ef73a7e0-e832-49a8-83fb-26e9d56a2e79",
   "metadata": {},
   "source": [
    "Look at the code in the editor again. This is what we've done:"
   ]
  },
  {
   "cell_type": "code",
   "execution_count": 2,
   "id": "dc17fde0-7711-4bcd-a830-d6f989fc01f3",
   "metadata": {},
   "outputs": [],
   "source": [
    "import time\n",
    "\n",
    "class Vehicle:\n",
    "    def change_direction(left, on):\n",
    "        pass\n",
    "\n",
    "    def turn(left):\n",
    "        change_direction(left, True)\n",
    "        time.sleep(0.25)\n",
    "        change_direction(left, False)\n",
    "\n",
    "\n",
    "class TrackedVehicle(Vehicle):\n",
    "    def control_track(left, stop):\n",
    "        pass\n",
    "\n",
    "    def change_direction(left, on):\n",
    "        control_track(left, on)\n",
    "\n",
    "\n",
    "class WheeledVehicle(Vehicle):\n",
    "    def turn_front_wheels(left, on):\n",
    "        pass\n",
    "\n",
    "    def change_direction(left, on):\n",
    "        turn_front_wheels(left, on)\n"
   ]
  },
  {
   "cell_type": "markdown",
   "id": "06b6f860-8380-4094-a5f4-dd0c6587b383",
   "metadata": {},
   "source": [
    "\n",
    "    we defined a superclass named Vehicle, which uses the turn() method to implement a general scheme of turning, while the turning itself is done by a method named change_direction(); note: the former method is empty, as we are going to put all the details into the subclass (such a method is often called an abstract method, as it only demonstrates some possibility which will be instantiated later)\n",
    "    we defined a subclass named TrackedVehicle (note: it's derived from the Vehicle class) which instantiated the change_direction() method by using the specific (concrete) method named control_track()\n",
    "    respectively, the subclass named WheeledVehicle does the same trick, but uses the turn_front_wheels() method to force the vehicle to turn.\n",
    "\n",
    "The most important advantage (omitting readability issues) is that this form of code enables you to implement a brand new turning algorithm just by modifying the turn() method, which can be done in just one place, as all the vehicles will obey it.\n",
    "\n",
    "This is how polymorphism helps the developer to keep the code clean and consistent."
   ]
  },
  {
   "cell_type": "code",
   "execution_count": null,
   "id": "6e7b1ecc-7eb6-4f4e-9d23-e4fa471e62ae",
   "metadata": {},
   "outputs": [],
   "source": []
  },
  {
   "cell_type": "markdown",
   "id": "d674ebaa-ca25-4c1b-a639-96f1d9553eb8",
   "metadata": {},
   "source": [
    "Inheritance is not the only way of constructing adaptable classes. You can achieve the same goals (not always, but very often) by using a technique named composition.\n",
    "\n",
    "Composition is the process of composing an object using other different objects. The objects used in the composition deliver a set of desired traits (properties and/or methods) so we can say that they act like blocks used to build a more complicated structure.\n",
    "\n",
    "It can be said that:\n",
    "\n",
    "    inheritance extends a class's capabilities by adding new components and modifying existing ones; in other words, the complete recipe is contained inside the class itself and all its ancestors; the object takes all the class's belongings and makes use of them;\n",
    "    composition projects a class as a container able to store and use other objects (derived from other classes) where each of the objects implements a part of a desired class's behavior.\n",
    "\n",
    "Let us illustrate the difference by using the previously defined vehicles. The previous approach led us to a hierarchy of classes in which the top-most class was aware of the general rules used in turning the vehicle, but didn't know how to control the appropriate components (wheels or tracks).\n",
    "\n",
    "The subclasses implemented this ability by introducing specialized mechanisms. Let's do (almost) the same thing, but using composition. The class - like in the previous example - is aware of how to turn the vehicle, but the actual turn is done by a specialized object stored in a property named controller. The controller is able to control the vehicle by manipulating the relevant vehicle's parts."
   ]
  },
  {
   "cell_type": "markdown",
   "id": "a5a0d5c2-1180-4680-8d8c-9f5eaab8aefe",
   "metadata": {},
   "source": [
    "Take a look into the editor - this is how it could look."
   ]
  },
  {
   "cell_type": "code",
   "execution_count": 3,
   "id": "2bf226ef-fe90-40be-a247-d705d6a77a4f",
   "metadata": {},
   "outputs": [
    {
     "name": "stdout",
     "output_type": "stream",
     "text": [
      "wheels:  True True\n",
      "wheels:  True False\n",
      "tracks:  False True\n",
      "tracks:  False False\n"
     ]
    }
   ],
   "source": [
    "import time\n",
    "\n",
    "class Tracks:\n",
    "    def change_direction(self, left, on):\n",
    "        print(\"tracks: \", left, on)\n",
    "\n",
    "\n",
    "class Wheels:\n",
    "    def change_direction(self, left, on):\n",
    "        print(\"wheels: \", left, on)\n",
    "\n",
    "\n",
    "class Vehicle:\n",
    "    def __init__(self, controller):\n",
    "        self.controller = controller\n",
    "\n",
    "    def turn(self, left):\n",
    "        self.controller.change_direction(left, True)\n",
    "        time.sleep(0.25)\n",
    "        self.controller.change_direction(left, False)\n",
    "\n",
    "\n",
    "wheeled = Vehicle(Wheels())\n",
    "tracked = Vehicle(Tracks())\n",
    "\n",
    "wheeled.turn(True)\n",
    "tracked.turn(False)\n"
   ]
  },
  {
   "cell_type": "markdown",
   "id": "8a0e30f2-a626-4923-a95b-da23e9216e69",
   "metadata": {},
   "source": [
    "There are two classes named Tracks and Wheels - they know how to control the vehicle's direction. There is also a class named Vehicle which can use any of the available controllers (the two already defined, or any other defined in the future) - the controller itself is passed to the class during initialization.\n",
    "\n",
    "In this way, the vehicle's ability to turn is composed using an external object, not implemented inside the Vehicle class.\n",
    "\n",
    "In other words, we have a universal vehicle and can install either tracks or wheels onto it."
   ]
  },
  {
   "cell_type": "code",
   "execution_count": null,
   "id": "90a6952b-9fcf-4043-a2a0-e1dd61018052",
   "metadata": {},
   "outputs": [],
   "source": []
  },
  {
   "cell_type": "markdown",
   "id": "9c2150f5-2f3b-4d57-888e-b918ff673ea3",
   "metadata": {},
   "source": [
    "\n",
    "#### Single inheritance vs. multiple inheritance\n",
    "\n",
    "As you already know, there are no obstacles to using multiple inheritance in Python. You can derive any new class from more than one previously defined classes.\n",
    "\n",
    "There is only one \"but\". The fact that you can do it does not mean you have to.\n",
    "\n",
    "Don't forget that:\n",
    "\n",
    "    a single inheritance class is always simpler, safer, and easier to understand and maintain;\n",
    "\n",
    "    multiple inheritance is always risky, as you have many more opportunities to make a mistake in identifying these parts of the superclasses which will effectively influence the new class;\n",
    "\n",
    "    multiple inheritance may make overriding extremely tricky; moreover, using the super() function becomes ambiguous;\n",
    "\n",
    "\n",
    "\n",
    "\n",
    "    multiple inheritance violates the single responsibility principle (more details here: https://en.wikipedia.org/wiki/Single_responsibility_principle) as it makes a new class of two (or more) classes that know nothing about each other;\n",
    "\n",
    "    we strongly suggest multiple inheritance as the last of all possible solutions - if you really need the many different functionalities offered by different classes, composition may be a better alternative.\n",
    "\n",
    "\n",
    "\n"
   ]
  },
  {
   "cell_type": "code",
   "execution_count": null,
   "id": "840cf934-d150-48f4-91a9-2062db03b469",
   "metadata": {},
   "outputs": [],
   "source": []
  },
  {
   "cell_type": "markdown",
   "id": "3c28422f-a10c-40bf-a6b5-b0dbc025ece4",
   "metadata": {},
   "source": [
    "### What is Method Resolution Order (MRO) and why is it that not all inheritances make sense?\n",
    "\n",
    "MRO, in general, is a way (you can call it a strategy) in which a particular programming language scans through the upper part of a class’s hierarchy in order to find the method it currently needs. It's worth emphasizing that different languages use slightly (or even completely) different MROs. Python is a unique creature in this respect, however, and its customs are a bit specific.\n",
    "\n",
    "We're going to show you how Python's MRO works in two peculiar cases that are clear-cut examples of problems which may occur when you try to use multiple inheritance too recklessly. Let's start with a snippet that initially may look simple. Look at what we've prepared for you in the editor.\n",
    "\n",
    "We're sure that if you analyze the snippet yourself, you won't see any anomalies in it. Yes, you're perfectly right - it looks clear and simple, and raises no concerns."
   ]
  },
  {
   "cell_type": "code",
   "execution_count": 4,
   "id": "81271b4a-7a91-4a0f-895e-67306cc60eb7",
   "metadata": {},
   "outputs": [
    {
     "name": "stdout",
     "output_type": "stream",
     "text": [
      "bottom\n",
      "middle\n",
      "top\n"
     ]
    }
   ],
   "source": [
    "class Top:\n",
    "    def m_top(self):\n",
    "        print(\"top\")\n",
    "\n",
    "\n",
    "class Middle(Top):\n",
    "    def m_middle(self):\n",
    "        print(\"middle\")\n",
    "\n",
    "\n",
    "class Bottom(Middle):\n",
    "    def m_bottom(self):\n",
    "        print(\"bottom\")\n",
    "\n",
    "\n",
    "object = Bottom()\n",
    "object.m_bottom()\n",
    "object.m_middle()\n",
    "object.m_top()\n"
   ]
  },
  {
   "cell_type": "markdown",
   "id": "f6f83a5a-1aed-4506-8492-72e91aebcb7d",
   "metadata": {},
   "source": [
    "No surprises so far. Let's make a tiny change to this code. Have a look:"
   ]
  },
  {
   "cell_type": "code",
   "execution_count": 5,
   "id": "e9b616a2-b7dc-4835-aadd-6eaea975ae86",
   "metadata": {},
   "outputs": [
    {
     "name": "stdout",
     "output_type": "stream",
     "text": [
      "bottom\n",
      "middle\n",
      "top\n"
     ]
    }
   ],
   "source": [
    "class Top:\n",
    "    def m_top(self):\n",
    "        print(\"top\")\n",
    "\n",
    "\n",
    "class Middle(Top):\n",
    "    def m_middle(self):\n",
    "        print(\"middle\")\n",
    "\n",
    "\n",
    "class Bottom(Middle, Top):\n",
    "    def m_bottom(self):\n",
    "        print(\"bottom\")\n",
    "\n",
    "\n",
    "object = Bottom()\n",
    "object.m_bottom()\n",
    "object.m_middle()\n",
    "object.m_top()\n",
    "\n"
   ]
  },
  {
   "cell_type": "markdown",
   "id": "cf5e052f-7850-496e-8502-67e61c8296c9",
   "metadata": {},
   "source": [
    "In this exotic way, we've turned a very simple code with a clear single-inheritance path into a mysterious multiple-inheritance riddle. “Is it valid?” you may ask. Yes, it is. “How is that possible?” you should ask now, and we hope that you really feel the need to ask this question.\n",
    "\n",
    "As you can see, the order in which the two superclasses have been listed between parenthesis is compliant with the code's structure: the Middle class precedes the Top class, just like in the real inheritance path.\n",
    "\n",
    "Despite its oddity, the sample is correct and works as expected, but it has to be stated that this notation doesn’t bring any new functionality or additional meaning.\n",
    "\n",
    "Let's modify the code once again - now we'll swap both superclass names in the Bottom class definition. This is what the snippet looks like now:"
   ]
  },
  {
   "cell_type": "code",
   "execution_count": 6,
   "id": "d9b79993-5f9a-4263-8513-ad6f915d269b",
   "metadata": {},
   "outputs": [
    {
     "ename": "TypeError",
     "evalue": "Cannot create a consistent method resolution\norder (MRO) for bases Top, Middle",
     "output_type": "error",
     "traceback": [
      "\u001b[1;31m---------------------------------------------------------------------------\u001b[0m",
      "\u001b[1;31mTypeError\u001b[0m                                 Traceback (most recent call last)",
      "Cell \u001b[1;32mIn[6], line 11\u001b[0m\n\u001b[0;32m      7\u001b[0m     \u001b[38;5;28;01mdef\u001b[39;00m \u001b[38;5;21mm_middle\u001b[39m(\u001b[38;5;28mself\u001b[39m):\n\u001b[0;32m      8\u001b[0m         \u001b[38;5;28mprint\u001b[39m(\u001b[38;5;124m\"\u001b[39m\u001b[38;5;124mmiddle\u001b[39m\u001b[38;5;124m\"\u001b[39m)\n\u001b[1;32m---> 11\u001b[0m \u001b[38;5;28;01mclass\u001b[39;00m \u001b[38;5;21;01mBottom\u001b[39;00m(Top, Middle):\n\u001b[0;32m     12\u001b[0m     \u001b[38;5;28;01mdef\u001b[39;00m \u001b[38;5;21mm_bottom\u001b[39m(\u001b[38;5;28mself\u001b[39m):\n\u001b[0;32m     13\u001b[0m         \u001b[38;5;28mprint\u001b[39m(\u001b[38;5;124m\"\u001b[39m\u001b[38;5;124mbottom\u001b[39m\u001b[38;5;124m\"\u001b[39m)\n",
      "\u001b[1;31mTypeError\u001b[0m: Cannot create a consistent method resolution\norder (MRO) for bases Top, Middle"
     ]
    }
   ],
   "source": [
    "class Top:\n",
    "    def m_top(self):\n",
    "        print(\"top\")\n",
    "\n",
    "\n",
    "class Middle(Top):\n",
    "    def m_middle(self):\n",
    "        print(\"middle\")\n",
    "\n",
    "\n",
    "class Bottom(Top, Middle):\n",
    "    def m_bottom(self):\n",
    "        print(\"bottom\")\n",
    "\n",
    "\n",
    "object = Bottom()\n",
    "object.m_bottom()\n",
    "object.m_middle()\n",
    "object.m_top()"
   ]
  },
  {
   "cell_type": "markdown",
   "id": "40b8a774-a498-45cf-ad7e-846de449c560",
   "metadata": {},
   "source": [
    "To anticipate your question, we’ll say that this amendment has spoiled the code, and it won't run anymore. What a pity. The order we tried to force (Top, Middle) is incompatible with the inheritance path which is derived from the code's structure. Python won't like it. This is what we'll see:\n",
    "TypeError: Cannot create a consistent method resolution order (MRO) for bases Top, Middle\n",
    "\n",
    "output\n",
    "\n",
    "We think that the message speaks for itself. Python's MRO cannot be bent or violated, not just because that's the way Python works, but also because it’s a rule you have to obey.\n"
   ]
  },
  {
   "cell_type": "code",
   "execution_count": null,
   "id": "0f8d0b19-8fbe-4692-a868-aff054f4558c",
   "metadata": {},
   "outputs": [],
   "source": []
  },
  {
   "cell_type": "markdown",
   "id": "d04112a1-4994-444f-a553-cd2d411a32dc",
   "metadata": {},
   "source": [
    "#### The diamond problem\n",
    "\n",
    "The second example of the spectrum of issues that can possibly arise from multiple inheritance is illustrated by a classic problem named the diamond problem. The name reflects the shape of the inheritance diagram – take a look at the picture:\n",
    "\n",
    "The diamond problem concept\n",
    "\n",
    "    there is the top-most superclass named A;\n",
    "    there are two subclasses derived from A: B and C;\n",
    "    and there is also the bottom-most subclass named D, derived from B and C (or C and B, as these two variants mean different things in Python)\n",
    "\n",
    "Can you see the diamond there?\n",
    "\n",
    "Have a look at the code in the editor. The same structure, but expressed in Python."
   ]
  },
  {
   "cell_type": "code",
   "execution_count": 7,
   "id": "7ed2fcbb-65b0-4905-a584-f8397234805b",
   "metadata": {},
   "outputs": [],
   "source": [
    "class A:\n",
    "    pass\n",
    "\n",
    "\n",
    "class B(A):\n",
    "    pass\n",
    "\n",
    "\n",
    "class C(A):\n",
    "    pass\n",
    "\n",
    "\n",
    "class D(B, C):\n",
    "    pass\n",
    "\n",
    "\n",
    "d = D()\n"
   ]
  },
  {
   "cell_type": "markdown",
   "id": "e86a3074-b7a1-4726-aaa5-5c29eeaa850a",
   "metadata": {},
   "source": [
    "Some programming languages don't allow multiple inheritance at all, and as a consequence, they won't let you build a diamond – this is the route that Java and C# have chosen to follow since their origins.\n",
    "\n",
    "Python, however, has chosen a different route – it allows multiple inheritance, and it doesn't mind if you write and run code like the one in the editor. But don't forget about MRO – it's always in charge.\n",
    "\n",
    "Let's rebuild our example from the previous page to make it more diamond-like, just like below:"
   ]
  },
  {
   "cell_type": "code",
   "execution_count": 8,
   "id": "ea1c8aaf-6b7d-4634-a3e8-9d875b47e1b6",
   "metadata": {},
   "outputs": [
    {
     "name": "stdout",
     "output_type": "stream",
     "text": [
      "bottom\n",
      "middle_left\n",
      "top\n"
     ]
    }
   ],
   "source": [
    "class Top:\n",
    "    def m_top(self):\n",
    "        print(\"top\")\n",
    "\n",
    "\n",
    "class Middle_Left(Top):\n",
    "    def m_middle(self):\n",
    "        print(\"middle_left\")\n",
    "\n",
    "\n",
    "class Middle_Right(Top):\n",
    "    def m_middle(self):\n",
    "        print(\"middle_right\")\n",
    "\n",
    "\n",
    "class Bottom(Middle_Left, Middle_Right):\n",
    "    def m_bottom(self):\n",
    "        print(\"bottom\")\n",
    "\n",
    "\n",
    "object = Bottom()\n",
    "object.m_bottom()\n",
    "object.m_middle()\n",
    "object.m_top()\n",
    "\n"
   ]
  },
  {
   "cell_type": "markdown",
   "id": "bd7377fd-d3b8-4262-9cb4-d9ad67a0ed56",
   "metadata": {},
   "source": [
    "Note: both Middle classes define a method of the same name: m_middle().\n",
    "\n",
    "It introduces a small uncertainty to our sample, although we're absolutely sure that you can answer the following key question: which of the two m_middle() methods will actually be invoked when the following line is executed?\n",
    "\n",
    "Object.m_middle()\n",
    "\n",
    "In other words, what will you see on the screen: middle_left or middle_right?\n",
    "\n",
    "You don't need to hurry – think twice and keep Python's MRO in mind!\n",
    "\n",
    "Are you ready?\n",
    "\n",
    "Yes, you're right. The invocation will activate the m_middle() method, which comes from the Middle_Left class. The explanation is simple: the class is listed before Middle_Right on the Bottom class's inheritance list. If you want to make sure that there’s no doubt about it, try to swap these two classes on the list and check the results.\n",
    "\n",
    "If you want to experience some more profound impressions about multiple inheritance and precious gemstones, try to modify our snippet and equip the Top class with another specimen of the m_middle() method, and investigate its behavior carefully.\n",
    "\n",
    "As you can see, diamonds may bring some problems into your life – both the real ones and those offered by Python.\n"
   ]
  },
  {
   "cell_type": "code",
   "execution_count": null,
   "id": "31b53690-a947-4ab4-9157-c29c666ca7dd",
   "metadata": {},
   "outputs": [],
   "source": []
  },
  {
   "cell_type": "markdown",
   "id": "18184260-f85c-4733-9b2d-f4eaea0ec917",
   "metadata": {},
   "source": [
    "### Key takeaways\n",
    "\n",
    "1. A method named __str__() is responsible for converting an object's contents into a (more or less) readable string. You can redefine it if you want your object to be able to present itself in a more elegant form. For example:"
   ]
  },
  {
   "cell_type": "code",
   "execution_count": 9,
   "id": "d15c5c1d-f4ef-464a-bbe6-c52043b00b87",
   "metadata": {},
   "outputs": [
    {
     "name": "stdout",
     "output_type": "stream",
     "text": [
      "mickey\n"
     ]
    }
   ],
   "source": [
    "class Mouse:\n",
    "    def __init__(self, name):\n",
    "        self.my_name = name\n",
    "\n",
    "\n",
    "    def __str__(self):\n",
    "        return self.my_name\n",
    "\n",
    "\n",
    "the_mouse = Mouse('mickey')\n",
    "print(the_mouse)  # Prints \"mickey\". \n",
    "\n"
   ]
  },
  {
   "cell_type": "markdown",
   "id": "0b2ded1c-c8b9-428d-b0e1-c8facf377833",
   "metadata": {},
   "source": [
    "2. A function named issubclass(Class_1, Class_2) is able to determine if Class_1 is a subclass of Class_2. For example:"
   ]
  },
  {
   "cell_type": "code",
   "execution_count": 10,
   "id": "2c4565a2-2845-43b0-8839-1e4403c99935",
   "metadata": {},
   "outputs": [
    {
     "name": "stdout",
     "output_type": "stream",
     "text": [
      "False True\n"
     ]
    }
   ],
   "source": [
    "class Mouse:\n",
    "    pass\n",
    "\n",
    "\n",
    "class LabMouse(Mouse):\n",
    "    pass\n",
    "\n",
    "\n",
    "print(issubclass(Mouse, LabMouse), issubclass(LabMouse, Mouse))  # Prints \"False True\""
   ]
  },
  {
   "cell_type": "markdown",
   "id": "5aa7eee7-0a10-45bc-9686-894f0a6be1b6",
   "metadata": {},
   "source": [
    "3. A function named isinstance(Object, Class) checks if an object comes from an indicated class. For example:"
   ]
  },
  {
   "cell_type": "code",
   "execution_count": 11,
   "id": "9334085d-e45f-4d82-8bf9-198172d8232a",
   "metadata": {},
   "outputs": [
    {
     "name": "stdout",
     "output_type": "stream",
     "text": [
      "True False\n"
     ]
    }
   ],
   "source": [
    "class Mouse:\n",
    "    pass\n",
    "\n",
    "\n",
    "class LabMouse(Mouse):\n",
    "    pass\n",
    "\n",
    "\n",
    "mickey = Mouse()\n",
    "print(isinstance(mickey, Mouse), isinstance(mickey, LabMouse))  # Prints \"True False\"."
   ]
  },
  {
   "cell_type": "markdown",
   "id": "bdb58e6f-fa5e-43e8-94a2-95bd805ff1fb",
   "metadata": {},
   "source": [
    "4. A operator called is checks if two variables refer to the same object. For example:"
   ]
  },
  {
   "cell_type": "code",
   "execution_count": 12,
   "id": "3f674518-4528-4e8d-9f53-c15bb93841d0",
   "metadata": {},
   "outputs": [
    {
     "name": "stdout",
     "output_type": "stream",
     "text": [
      "False True\n"
     ]
    }
   ],
   "source": [
    "class Mouse:\n",
    "    pass\n",
    "\n",
    "\n",
    "mickey = Mouse()\n",
    "minnie = Mouse()\n",
    "cloned_mickey = mickey\n",
    "print(mickey is minnie, mickey is cloned_mickey)  # Prints \"False True\".\n",
    "\n"
   ]
  },
  {
   "cell_type": "markdown",
   "id": "bee7b3bc-6b56-4653-b5cd-fe1eaabb0167",
   "metadata": {},
   "source": [
    "5. A parameterless function named super() returns a reference to the nearest superclass of the class. For example:"
   ]
  },
  {
   "cell_type": "code",
   "execution_count": 13,
   "id": "400c4314-4153-40fb-8673-ac1a2f2e9855",
   "metadata": {},
   "outputs": [
    {
     "name": "stdout",
     "output_type": "stream",
     "text": [
      "Laboratory Mouse\n"
     ]
    }
   ],
   "source": [
    "class Mouse:\n",
    "    def __str__(self):\n",
    "        return \"Mouse\"\n",
    "\n",
    "\n",
    "class LabMouse(Mouse):\n",
    "    def __str__(self):\n",
    "        return \"Laboratory \" + super().__str__()\n",
    "\n",
    "\n",
    "doctor_mouse = LabMouse();\n",
    "print(doctor_mouse)  # Prints \"Laboratory Mouse\"."
   ]
  },
  {
   "cell_type": "markdown",
   "id": "5cde2570-da56-4baf-b700-92bfda5ce546",
   "metadata": {},
   "source": [
    "6. Methods as well as instance and class variables defined in a superclass are automatically inherited by their subclasses. For example:"
   ]
  },
  {
   "cell_type": "code",
   "execution_count": 16,
   "id": "d9d67ace-2c81-48a8-83ed-eceef17b8e1b",
   "metadata": {},
   "outputs": [
    {
     "name": "stdout",
     "output_type": "stream",
     "text": [
      "Hi, my name is Professor Mouser 1\n"
     ]
    }
   ],
   "source": [
    "class Mouse:\n",
    "    Population = 0\n",
    "    def __init__(self, name):\n",
    "        Mouse.Population += 1\n",
    "        self.name = name\n",
    "\n",
    "    def __str__(self):\n",
    "        return \"Hi, my name is \" + self.name\n",
    "\n",
    "class LabMouse(Mouse):\n",
    "    pass\n",
    "\n",
    "professor_mouse = LabMouse(\"Professor Mouser\")\n",
    "print(professor_mouse, Mouse.Population)  # Prints \"Hi, my name is Professor Mouser 1\""
   ]
  },
  {
   "cell_type": "markdown",
   "id": "04784c31-8511-4f53-aded-ee2e99b3f4b9",
   "metadata": {},
   "source": [
    "7. In order to find any object/class property, Python looks for it inside:\n",
    "\n",
    "    the object itself;\n",
    "    all classes involved in the object's inheritance line from bottom to top;\n",
    "    if there is more than one class on a particular inheritance path, Python scans them from left to right;\n",
    "    if both of the above fail, the AttributeError exception is raised.\n"
   ]
  },
  {
   "cell_type": "markdown",
   "id": "2b70840f-c4a6-410c-8038-38f4769472c2",
   "metadata": {},
   "source": [
    "8. If any of the subclasses defines a method/class variable/instance variable of the same name as existing in the superclass, the new name overrides any of the previous instances of the name. For example:"
   ]
  },
  {
   "cell_type": "code",
   "execution_count": 18,
   "id": "34049818-69d3-4dca-aa63-8717cd4a9b6e",
   "metadata": {},
   "outputs": [
    {
     "name": "stdout",
     "output_type": "stream",
     "text": [
      "Meum nomen est Caesar\n"
     ]
    }
   ],
   "source": [
    "class Mouse:\n",
    "    def __init__(self, name):\n",
    "        self.name = name\n",
    "\n",
    "    def __str__(self):\n",
    "        return \"My name is \" + self.name\n",
    "\n",
    "class AncientMouse(Mouse):\n",
    "    def __str__(self):\n",
    "        return \"Meum nomen est \" + self.name\n",
    "\n",
    "mus = AncientMouse(\"Caesar\")  # Prints \"Meum nomen est Caesar\"\n",
    "print(mus)"
   ]
  },
  {
   "cell_type": "code",
   "execution_count": null,
   "id": "e5c05157-8f1f-4965-908e-62c0ae08de73",
   "metadata": {},
   "outputs": [],
   "source": []
  },
  {
   "cell_type": "code",
   "execution_count": null,
   "id": "ed26b0f3-3673-4499-80ce-a9c07b77caed",
   "metadata": {},
   "outputs": [],
   "source": []
  },
  {
   "cell_type": "code",
   "execution_count": null,
   "id": "8d1fab41-64b2-4d88-b3bd-f8408a623fe7",
   "metadata": {},
   "outputs": [],
   "source": []
  },
  {
   "cell_type": "code",
   "execution_count": null,
   "id": "4a6831e8-21f6-4c2e-809e-695c9757cd41",
   "metadata": {},
   "outputs": [],
   "source": []
  },
  {
   "cell_type": "code",
   "execution_count": null,
   "id": "0323d4cc-5ac2-445a-b931-83d856626125",
   "metadata": {},
   "outputs": [],
   "source": []
  },
  {
   "cell_type": "code",
   "execution_count": null,
   "id": "4eb49062-4837-4ee2-85ac-c131bc96591c",
   "metadata": {},
   "outputs": [],
   "source": []
  },
  {
   "cell_type": "code",
   "execution_count": null,
   "id": "48ff9e71-8553-4100-b742-c237e06fdfdd",
   "metadata": {},
   "outputs": [],
   "source": []
  },
  {
   "cell_type": "code",
   "execution_count": null,
   "id": "eb2e5a15-a999-48bb-b82b-851168178ca6",
   "metadata": {},
   "outputs": [],
   "source": []
  },
  {
   "cell_type": "code",
   "execution_count": null,
   "id": "6b4d0eb5-e32f-4bbf-a84b-11246b7d4ec6",
   "metadata": {},
   "outputs": [],
   "source": []
  },
  {
   "cell_type": "code",
   "execution_count": null,
   "id": "40b653b0-9983-4c2e-a0b6-4c24bfe8ce42",
   "metadata": {},
   "outputs": [],
   "source": []
  },
  {
   "cell_type": "code",
   "execution_count": null,
   "id": "6ec7f56a-3e09-4af0-8852-ab42340a3919",
   "metadata": {},
   "outputs": [],
   "source": []
  },
  {
   "cell_type": "code",
   "execution_count": null,
   "id": "f7253a0b-ac9a-48c9-940a-0de955be2711",
   "metadata": {},
   "outputs": [],
   "source": []
  },
  {
   "cell_type": "code",
   "execution_count": null,
   "id": "e87fc120-cd4b-44d5-a086-ad8b015494f3",
   "metadata": {},
   "outputs": [],
   "source": []
  },
  {
   "cell_type": "code",
   "execution_count": null,
   "id": "bad05b86-d503-4e7d-be8d-400fb15c2624",
   "metadata": {},
   "outputs": [],
   "source": []
  },
  {
   "cell_type": "code",
   "execution_count": null,
   "id": "bc879126-4391-42d1-8310-085ae8dc264f",
   "metadata": {},
   "outputs": [],
   "source": []
  },
  {
   "cell_type": "code",
   "execution_count": null,
   "id": "d79dd941-4654-45ed-a964-d2f8014da57c",
   "metadata": {},
   "outputs": [],
   "source": []
  },
  {
   "cell_type": "code",
   "execution_count": null,
   "id": "4a83c0ae-94f3-4b2c-b3eb-d7fb2dd867fa",
   "metadata": {},
   "outputs": [],
   "source": []
  },
  {
   "cell_type": "code",
   "execution_count": null,
   "id": "5ad4e7ff-e7e7-4237-932f-4ad0ab98edf0",
   "metadata": {},
   "outputs": [],
   "source": []
  },
  {
   "cell_type": "code",
   "execution_count": null,
   "id": "19a001ae-0249-49ce-9972-6013143ac16c",
   "metadata": {},
   "outputs": [],
   "source": []
  },
  {
   "cell_type": "code",
   "execution_count": null,
   "id": "45e75d0e-96a5-4c69-9dfa-ac2065f47f3c",
   "metadata": {},
   "outputs": [],
   "source": []
  },
  {
   "cell_type": "code",
   "execution_count": null,
   "id": "3f7ac6f7-71e2-44ce-8b14-5fb9e844d99f",
   "metadata": {},
   "outputs": [],
   "source": []
  },
  {
   "cell_type": "code",
   "execution_count": null,
   "id": "bb2bfb6f-271e-4c03-aaa6-7ffe8f0504d8",
   "metadata": {},
   "outputs": [],
   "source": []
  },
  {
   "cell_type": "code",
   "execution_count": null,
   "id": "7d9af520-fa07-4582-bec6-3c05fb4ca416",
   "metadata": {},
   "outputs": [],
   "source": []
  },
  {
   "cell_type": "code",
   "execution_count": null,
   "id": "3a7bb59f-860d-45dd-916a-a597eb96fcfe",
   "metadata": {},
   "outputs": [],
   "source": []
  },
  {
   "cell_type": "code",
   "execution_count": null,
   "id": "1a98d7f0-c981-4d24-a362-006dafd57d1b",
   "metadata": {},
   "outputs": [],
   "source": []
  },
  {
   "cell_type": "code",
   "execution_count": null,
   "id": "997dc89e-6443-4fac-ba4b-841d32c26777",
   "metadata": {},
   "outputs": [],
   "source": []
  },
  {
   "cell_type": "code",
   "execution_count": null,
   "id": "2d129dc3-e3f7-42b2-966d-f58b8b13cbbf",
   "metadata": {},
   "outputs": [],
   "source": []
  },
  {
   "cell_type": "code",
   "execution_count": null,
   "id": "1a8c6e68-f412-46c3-b959-0f3cae61faac",
   "metadata": {},
   "outputs": [],
   "source": []
  },
  {
   "cell_type": "code",
   "execution_count": null,
   "id": "14eaf373-4b18-4aab-a233-28fa4bce0d79",
   "metadata": {},
   "outputs": [],
   "source": []
  },
  {
   "cell_type": "code",
   "execution_count": null,
   "id": "8c071442-13a6-4f8f-8189-5edfbdbfced2",
   "metadata": {},
   "outputs": [],
   "source": []
  },
  {
   "cell_type": "code",
   "execution_count": null,
   "id": "20f26a6b-463a-44f9-a4c0-b5983b66eceb",
   "metadata": {},
   "outputs": [],
   "source": []
  },
  {
   "cell_type": "code",
   "execution_count": null,
   "id": "8a39f3e8-e85c-4e36-96b5-37bcaeddfb92",
   "metadata": {},
   "outputs": [],
   "source": []
  },
  {
   "cell_type": "code",
   "execution_count": null,
   "id": "12b10e34-5e03-46bc-b01e-7860104509c2",
   "metadata": {},
   "outputs": [],
   "source": []
  },
  {
   "cell_type": "code",
   "execution_count": null,
   "id": "f406c4dc-33d3-46df-bc7d-a9a4fb8e9fe4",
   "metadata": {},
   "outputs": [],
   "source": []
  },
  {
   "cell_type": "code",
   "execution_count": null,
   "id": "7f1a9934-370b-4a2d-a5b7-0037dee0df53",
   "metadata": {},
   "outputs": [],
   "source": []
  },
  {
   "cell_type": "code",
   "execution_count": null,
   "id": "a80215f7-ff85-48ae-ac9f-68fa63ca6a7e",
   "metadata": {},
   "outputs": [],
   "source": []
  },
  {
   "cell_type": "code",
   "execution_count": null,
   "id": "9f69af43-d50d-47ff-b9de-fa3c1fd44dfa",
   "metadata": {},
   "outputs": [],
   "source": []
  },
  {
   "cell_type": "code",
   "execution_count": null,
   "id": "6641d73b-d03f-4499-88b0-46d186638bdd",
   "metadata": {},
   "outputs": [],
   "source": []
  },
  {
   "cell_type": "code",
   "execution_count": null,
   "id": "02071162-f429-433a-a6d2-0fe50126d350",
   "metadata": {},
   "outputs": [],
   "source": []
  },
  {
   "cell_type": "code",
   "execution_count": null,
   "id": "e859ad15-2f34-47cf-b1b9-b5c83059237a",
   "metadata": {},
   "outputs": [],
   "source": []
  },
  {
   "cell_type": "code",
   "execution_count": null,
   "id": "38387334-7621-4427-8a53-f5cea86caf99",
   "metadata": {},
   "outputs": [],
   "source": []
  },
  {
   "cell_type": "code",
   "execution_count": null,
   "id": "70113958-19bf-4773-b89d-ebcbc2038f82",
   "metadata": {},
   "outputs": [],
   "source": []
  },
  {
   "cell_type": "code",
   "execution_count": null,
   "id": "bea5be75-1f36-4648-a9b5-5463f4e57335",
   "metadata": {},
   "outputs": [],
   "source": []
  },
  {
   "cell_type": "code",
   "execution_count": null,
   "id": "8c592f0f-c151-4048-9b74-f88cfa6106fb",
   "metadata": {},
   "outputs": [],
   "source": []
  }
 ],
 "metadata": {
  "kernelspec": {
   "display_name": "Python 3 (ipykernel)",
   "language": "python",
   "name": "python3"
  },
  "language_info": {
   "codemirror_mode": {
    "name": "ipython",
    "version": 3
   },
   "file_extension": ".py",
   "mimetype": "text/x-python",
   "name": "python",
   "nbconvert_exporter": "python",
   "pygments_lexer": "ipython3",
   "version": "3.12.4"
  }
 },
 "nbformat": 4,
 "nbformat_minor": 5
}
