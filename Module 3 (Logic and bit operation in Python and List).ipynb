{
 "cells": [
  {
   "cell_type": "markdown",
   "id": "244a53a7-9c84-46c5-a93d-c34bf267b5f6",
   "metadata": {},
   "source": [
    "## Logic expressions\n",
    "\n",
    "##### let's create a variable named **var** and assign **1** to it. The following conditions are **pairwise equivalent**"
   ]
  },
  {
   "cell_type": "code",
   "execution_count": 1,
   "id": "6bfbb665-580d-4fa8-b8b2-22b7eed1c90e",
   "metadata": {},
   "outputs": [
    {
     "ename": "NameError",
     "evalue": "name 'var' is not defined",
     "output_type": "error",
     "traceback": [
      "\u001b[1;31m---------------------------------------------------------------------------\u001b[0m",
      "\u001b[1;31mNameError\u001b[0m                                 Traceback (most recent call last)",
      "Cell \u001b[1;32mIn[1], line 3\u001b[0m\n\u001b[0;32m      1\u001b[0m \u001b[38;5;66;03m# Example 1:\u001b[39;00m\n\u001b[1;32m----> 3\u001b[0m \u001b[38;5;28mprint\u001b[39m(\u001b[43mvar\u001b[49m \u001b[38;5;241m>\u001b[39m \u001b[38;5;241m0\u001b[39m)\n\u001b[0;32m      4\u001b[0m \u001b[38;5;28mprint\u001b[39m(\u001b[38;5;129;01mnot\u001b[39;00m (var \u001b[38;5;241m<\u001b[39m\u001b[38;5;241m=\u001b[39m \u001b[38;5;241m0\u001b[39m))\n\u001b[0;32m      6\u001b[0m \u001b[38;5;66;03m# Example 2\u001b[39;00m\n",
      "\u001b[1;31mNameError\u001b[0m: name 'var' is not defined"
     ]
    }
   ],
   "source": [
    "# Example 1:\n",
    "\n",
    "print(var > 0)\n",
    "print(not (var <= 0))\n",
    "\n",
    "# Example 2\n",
    "\n",
    "print(var != 0)\n",
    "print(not (var == 0))\n",
    "\n"
   ]
  },
  {
   "cell_type": "markdown",
   "id": "163cdf66-b4ca-4512-855a-d2cb26be86f7",
   "metadata": {},
   "source": [
    "##### You may be familiar with De morgan's laws. They say that:\n",
    "\n",
    "##### The negation of a conjunction is the disjunction of the negations.\n",
    "\n",
    "##### The negation of a disjunction is the conjunction of the negations.\n",
    "\n",
    "##### Let's write the same thing using Python:"
   ]
  },
  {
   "cell_type": "code",
   "execution_count": 2,
   "id": "a5954c37-d373-4b82-98c2-e1e3c8242f1b",
   "metadata": {},
   "outputs": [
    {
     "ename": "NameError",
     "evalue": "name 'p' is not defined",
     "output_type": "error",
     "traceback": [
      "\u001b[1;31m---------------------------------------------------------------------------\u001b[0m",
      "\u001b[1;31mNameError\u001b[0m                                 Traceback (most recent call last)",
      "Cell \u001b[1;32mIn[2], line 1\u001b[0m\n\u001b[1;32m----> 1\u001b[0m \u001b[38;5;129;01mnot\u001b[39;00m (p \u001b[38;5;129;01mand\u001b[39;00m q) \u001b[38;5;241m==\u001b[39m (\u001b[38;5;129;01mnot\u001b[39;00m p) \u001b[38;5;129;01mor\u001b[39;00m (\u001b[38;5;129;01mnot\u001b[39;00m q)\n\u001b[0;32m      2\u001b[0m \u001b[38;5;129;01mnot\u001b[39;00m (p \u001b[38;5;129;01mand\u001b[39;00m q) \u001b[38;5;241m==\u001b[39m (\u001b[38;5;129;01mnot\u001b[39;00m p) \u001b[38;5;129;01mand\u001b[39;00m (\u001b[38;5;129;01mnot\u001b[39;00m q)\n",
      "\u001b[1;31mNameError\u001b[0m: name 'p' is not defined"
     ]
    }
   ],
   "source": [
    "not (p and q) == (not p) or (not q)\n",
    "not (p and q) == (not p) and (not q)"
   ]
  },
  {
   "cell_type": "code",
   "execution_count": null,
   "id": "7ef0ef6d-a864-409e-a97d-0a61d98cfda5",
   "metadata": {},
   "outputs": [],
   "source": []
  },
  {
   "cell_type": "markdown",
   "id": "632f3c7e-7e73-4ab2-8dd1-2751a18f04c1",
   "metadata": {},
   "source": [
    "### Logical vs. bit operations:\n",
    "\n",
    "##### We'll now show you an example of the diff in operation btw the logical and bit operation. let's assume that the following assignments have been performed:"
   ]
  },
  {
   "cell_type": "code",
   "execution_count": null,
   "id": "cd079898-1994-4b0e-8f9b-95064861076b",
   "metadata": {},
   "outputs": [],
   "source": [
    "i = 15\n",
    "j = 22"
   ]
  },
  {
   "cell_type": "markdown",
   "id": "f030c04a-a540-4df5-a224-124892a1888b",
   "metadata": {},
   "source": [
    "##### If we assume that the integers are stored with 32 bits, the bitwise image of the two variables will be as follows:"
   ]
  },
  {
   "cell_type": "code",
   "execution_count": null,
   "id": "4505c358-dc10-4371-a404-56bc70dca371",
   "metadata": {},
   "outputs": [],
   "source": [
    "i: 00000000000000000000000000001111\n",
    "j: 00000000000000000000000000010110\n",
    "\n"
   ]
  },
  {
   "cell_type": "markdown",
   "id": "3ec4e6ce-2e4f-4c5e-a2da-88dce865529d",
   "metadata": {},
   "source": [
    "#### The assignment is given"
   ]
  },
  {
   "cell_type": "code",
   "execution_count": 2,
   "id": "7dbfc9a8-cbc4-4414-b353-6c36490e60a8",
   "metadata": {},
   "outputs": [
    {
     "ename": "NameError",
     "evalue": "name 'i' is not defined",
     "output_type": "error",
     "traceback": [
      "\u001b[1;31m---------------------------------------------------------------------------\u001b[0m",
      "\u001b[1;31mNameError\u001b[0m                                 Traceback (most recent call last)",
      "Cell \u001b[1;32mIn[2], line 1\u001b[0m\n\u001b[1;32m----> 1\u001b[0m log \u001b[38;5;241m=\u001b[39m \u001b[43mi\u001b[49m \u001b[38;5;129;01mand\u001b[39;00m j\n",
      "\u001b[1;31mNameError\u001b[0m: name 'i' is not defined"
     ]
    }
   ],
   "source": [
    "log = i and j"
   ]
  },
  {
   "cell_type": "code",
   "execution_count": 3,
   "id": "7b6cbe59-2a54-4496-b1a6-57033d540e7e",
   "metadata": {},
   "outputs": [],
   "source": [
    "log: True\n"
   ]
  },
  {
   "cell_type": "code",
   "execution_count": 4,
   "id": "1588cbe5-4a33-40cd-8c15-c79bcc870ea9",
   "metadata": {},
   "outputs": [
    {
     "ename": "NameError",
     "evalue": "name 'i' is not defined",
     "output_type": "error",
     "traceback": [
      "\u001b[1;31m---------------------------------------------------------------------------\u001b[0m",
      "\u001b[1;31mNameError\u001b[0m                                 Traceback (most recent call last)",
      "Cell \u001b[1;32mIn[4], line 1\u001b[0m\n\u001b[1;32m----> 1\u001b[0m bit \u001b[38;5;241m=\u001b[39m \u001b[43mi\u001b[49m \u001b[38;5;129;01mand\u001b[39;00m j\n",
      "\u001b[1;31mNameError\u001b[0m: name 'i' is not defined"
     ]
    }
   ],
   "source": [
    "bit = i and j"
   ]
  },
  {
   "cell_type": "code",
   "execution_count": 5,
   "id": "c7501dd0-dff9-491e-88e3-131004a28a7c",
   "metadata": {},
   "outputs": [
    {
     "name": "stdout",
     "output_type": "stream",
     "text": [
      "17 68 8\n"
     ]
    }
   ],
   "source": [
    "var = 17\n",
    "var_right = var >> 1\n",
    "var_left = var << 2\n",
    "print(var, var_left, var_right)"
   ]
  },
  {
   "cell_type": "code",
   "execution_count": null,
   "id": "49963ba3-552a-4473-8d54-d61b94e043cb",
   "metadata": {},
   "outputs": [],
   "source": []
  },
  {
   "cell_type": "code",
   "execution_count": 6,
   "id": "2b8fe6b3-f9bc-4c16-9765-252d97c55629",
   "metadata": {},
   "outputs": [
    {
     "name": "stdout",
     "output_type": "stream",
     "text": [
      "False\n"
     ]
    }
   ],
   "source": [
    "x = 1\n",
    "y = 0\n",
    "\n",
    "z = ((x == y) and (x == y)) or not(x == y)\n",
    "print(not(z))"
   ]
  },
  {
   "cell_type": "code",
   "execution_count": 7,
   "id": "f23fefd0-0a63-4866-956f-513c070f0c77",
   "metadata": {},
   "outputs": [
    {
     "name": "stdout",
     "output_type": "stream",
     "text": [
      "0 5 -5 5 1 16\n"
     ]
    }
   ],
   "source": [
    "x = 4 \n",
    "y = 1\n",
    "\n",
    "a = x & y\n",
    "b = x | y\n",
    "c = ~x # tricky!\n",
    "d = x ^ y\n",
    "e = x >> 2\n",
    "f = x << 2\n",
    "\n",
    "print(a,b,c,d,e,f)"
   ]
  },
  {
   "cell_type": "code",
   "execution_count": null,
   "id": "997a015e-2c1a-47e6-8ac0-e83ca0fabca1",
   "metadata": {},
   "outputs": [],
   "source": []
  },
  {
   "cell_type": "markdown",
   "id": "41b056f7-b452-4190-ba8d-34db92b092a4",
   "metadata": {},
   "source": [
    "## Indexing lists"
   ]
  },
  {
   "cell_type": "code",
   "execution_count": 8,
   "id": "b5540893-95fa-431e-87df-78bc40cf08e5",
   "metadata": {},
   "outputs": [
    {
     "name": "stdout",
     "output_type": "stream",
     "text": [
      "List content: [10, 5, 7, 2, 1]\n"
     ]
    }
   ],
   "source": [
    "numbers = [10, 5, 7, 2, 1]\n",
    "print(\"List content:\", numbers)"
   ]
  },
  {
   "cell_type": "code",
   "execution_count": 9,
   "id": "d645fb6f-dab8-431f-a34b-df6cbf5f26e9",
   "metadata": {},
   "outputs": [
    {
     "name": "stdout",
     "output_type": "stream",
     "text": [
      "New list content: [112, 5, 7, 2, 1]\n"
     ]
    }
   ],
   "source": [
    "numbers[0] = 112\n",
    "print(\"New list content:\", numbers)"
   ]
  },
  {
   "cell_type": "code",
   "execution_count": 10,
   "id": "20893e74-55a9-47c7-9e33-aca7d99c0569",
   "metadata": {},
   "outputs": [
    {
     "name": "stdout",
     "output_type": "stream",
     "text": [
      "New list content: [112, 5, 333, 2, 1]\n"
     ]
    }
   ],
   "source": [
    "numbers[2] = 333\n",
    "print(\"New list content:\", numbers)"
   ]
  },
  {
   "cell_type": "code",
   "execution_count": 30,
   "id": "42e2f693-c0fd-4f62-acef-3bf36d2982a6",
   "metadata": {},
   "outputs": [
    {
     "name": "stdout",
     "output_type": "stream",
     "text": [
      "\n",
      "Previous list content: [111, 5, 111, 2, 1]\n"
     ]
    }
   ],
   "source": [
    "numbers[0] = 111\n",
    "print(\"\\nPrevious list content:\", numbers)"
   ]
  },
  {
   "cell_type": "code",
   "execution_count": 31,
   "id": "e4905a89-f859-434d-82e9-088b66ce2aac",
   "metadata": {},
   "outputs": [
    {
     "name": "stdout",
     "output_type": "stream",
     "text": [
      "List content: [10, 5, 7, 2, 1]\n"
     ]
    }
   ],
   "source": [
    "numbers = [10, 5, 7, 2, 1]\n",
    "print(\"List content:\", numbers)"
   ]
  },
  {
   "cell_type": "code",
   "execution_count": 32,
   "id": "1c30f2cc-b332-408c-9d24-ba479a39846b",
   "metadata": {},
   "outputs": [
    {
     "name": "stdout",
     "output_type": "stream",
     "text": [
      "\n",
      "Previous list content: [111, 5, 7, 2, 1]\n"
     ]
    }
   ],
   "source": [
    "numbers[0] = 111\n",
    "print(\"\\nPrevious list content:\", numbers)"
   ]
  },
  {
   "cell_type": "code",
   "execution_count": 33,
   "id": "e9937a14-fa45-40ca-b91c-64fd1b4c6c44",
   "metadata": {},
   "outputs": [
    {
     "name": "stdout",
     "output_type": "stream",
     "text": [
      "New list content: [111, 1, 7, 2, 1]\n"
     ]
    }
   ],
   "source": [
    "numbers[1] = numbers[4]\n",
    "print(\"New list content:\", numbers)"
   ]
  },
  {
   "cell_type": "code",
   "execution_count": 34,
   "id": "f2a103eb-d331-4da2-91e7-3cdca3323dae",
   "metadata": {},
   "outputs": [
    {
     "name": "stdout",
     "output_type": "stream",
     "text": [
      "\n",
      "List length: 5\n"
     ]
    }
   ],
   "source": [
    "print(\"\\nList length:\", len(numbers))"
   ]
  },
  {
   "cell_type": "code",
   "execution_count": 35,
   "id": "b3700f3e-7b23-483b-a68f-614fdeab8f1c",
   "metadata": {},
   "outputs": [
    {
     "name": "stdout",
     "output_type": "stream",
     "text": [
      "New list content: [111, 1, 2, 2, 1]\n"
     ]
    }
   ],
   "source": [
    "numbers[2] = numbers[3]\n",
    "print(\"New list content:\", numbers)"
   ]
  },
  {
   "cell_type": "markdown",
   "id": "94db2dd6-65ba-4cca-b651-a9e0c8002a3c",
   "metadata": {},
   "source": [
    "##### The value inside the brackets which selects one element of the list is called an **index**, which the operation of selecting an element from the list is known as **indexing**."
   ]
  },
  {
   "cell_type": "code",
   "execution_count": null,
   "id": "55c3631f-bc01-443b-9a22-1328a5d20ab4",
   "metadata": {},
   "outputs": [],
   "source": []
  },
  {
   "cell_type": "markdown",
   "id": "3b15c8dc-066d-4fbd-baa7-5d8f37bf47fd",
   "metadata": {},
   "source": [
    "### Negative indices are legal\n",
    "\n",
    "##### it may look strange, but negative indices are legal, and can be very useful.\n",
    "\n",
    "##### An element with an index equal **-1** is **the last one in the list.**"
   ]
  },
  {
   "cell_type": "code",
   "execution_count": null,
   "id": "73cc8ad0-b4d3-4892-9169-f514286d32b1",
   "metadata": {},
   "outputs": [],
   "source": [
    "print(numbers[-1])"
   ]
  },
  {
   "cell_type": "code",
   "execution_count": null,
   "id": "412f2bd9-ce0a-49bb-ac08-80fa56e2e291",
   "metadata": {},
   "outputs": [],
   "source": [
    "print(numbers[-2])"
   ]
  },
  {
   "cell_type": "code",
   "execution_count": 36,
   "id": "4120330b-350b-47a5-84f4-29781aaeec53",
   "metadata": {},
   "outputs": [
    {
     "name": "stdout",
     "output_type": "stream",
     "text": [
      "1\n",
      "2\n"
     ]
    }
   ],
   "source": [
    "numbers = [111, 7, 2, 1]\n",
    "print(numbers[-1])\n",
    "print(numbers[-2])"
   ]
  },
  {
   "cell_type": "code",
   "execution_count": null,
   "id": "04ae93b9-bfb0-40d7-a1f2-aee996a3ec85",
   "metadata": {},
   "outputs": [],
   "source": []
  },
  {
   "cell_type": "code",
   "execution_count": 37,
   "id": "bc6badd4-cd28-4815-8953-fa264208217a",
   "metadata": {},
   "outputs": [
    {
     "name": "stdout",
     "output_type": "stream",
     "text": [
      "[1, 2, 3, 4, 5, 6]\n"
     ]
    }
   ],
   "source": [
    "hat_list = [1, 2, 3, 4, 5, 6]\n",
    "print(hat_list)"
   ]
  },
  {
   "cell_type": "code",
   "execution_count": 38,
   "id": "18352156-49cd-405a-9ce7-d7268f288d0b",
   "metadata": {},
   "outputs": [
    {
     "name": "stdout",
     "output_type": "stream",
     "text": [
      "Enter an integer number:  5\n"
     ]
    },
    {
     "name": "stdout",
     "output_type": "stream",
     "text": [
      "[1, 2, 5, 4, 5, 6]\n"
     ]
    }
   ],
   "source": [
    "hat_list[2] = int(input(\"Enter an integer number: \"))\n",
    "print(hat_list)"
   ]
  },
  {
   "cell_type": "code",
   "execution_count": 39,
   "id": "3ef5a7d8-d0c0-4690-a15b-bcee3580dfb6",
   "metadata": {},
   "outputs": [
    {
     "name": "stdout",
     "output_type": "stream",
     "text": [
      "[1, 2, 5, 4, 5, 6]\n"
     ]
    }
   ],
   "source": [
    "hat_list[2] = hat_list[4]\n",
    "print(hat_list)\n"
   ]
  },
  {
   "cell_type": "code",
   "execution_count": 40,
   "id": "695881d4-3ec3-480d-90f8-37042e9a6993",
   "metadata": {},
   "outputs": [
    {
     "name": "stdout",
     "output_type": "stream",
     "text": [
      "[1, 2, 5, 4, 5]\n"
     ]
    }
   ],
   "source": [
    "del hat_list[-1]\n",
    "print(hat_list)"
   ]
  },
  {
   "cell_type": "code",
   "execution_count": 41,
   "id": "65fd5883-5ba5-4e96-adee-b6b57c74d170",
   "metadata": {},
   "outputs": [
    {
     "name": "stdout",
     "output_type": "stream",
     "text": [
      "length of the list: 5\n"
     ]
    }
   ],
   "source": [
    "print(\"length of the list:\", len(hat_list))"
   ]
  },
  {
   "cell_type": "code",
   "execution_count": 42,
   "id": "f711ca6c-57d8-4954-b2a4-00cc1231a48c",
   "metadata": {},
   "outputs": [
    {
     "name": "stdout",
     "output_type": "stream",
     "text": [
      "[2, 3, 4, 5, 6]\n"
     ]
    }
   ],
   "source": [
    "list = [2,3,4,5,6]\n",
    "print(list)"
   ]
  },
  {
   "cell_type": "code",
   "execution_count": 43,
   "id": "498fb627-b184-43ec-99f9-29e4f0ac333b",
   "metadata": {},
   "outputs": [
    {
     "name": "stdout",
     "output_type": "stream",
     "text": [
      "[2, 3, 4, 5]\n"
     ]
    }
   ],
   "source": [
    "del list[-1]\n",
    "print(list)"
   ]
  },
  {
   "cell_type": "code",
   "execution_count": 44,
   "id": "6c6a4d91-492c-4b59-8cb0-11ed08b2d99f",
   "metadata": {},
   "outputs": [
    {
     "name": "stdout",
     "output_type": "stream",
     "text": [
      "[2, 3, 4, 5]\n"
     ]
    }
   ],
   "source": [
    "print(list)"
   ]
  },
  {
   "cell_type": "code",
   "execution_count": 45,
   "id": "e4edb3a6-9c62-4aac-8da0-509c354cd816",
   "metadata": {},
   "outputs": [
    {
     "name": "stdout",
     "output_type": "stream",
     "text": [
      "[2, 3, 5]\n"
     ]
    }
   ],
   "source": [
    "del list[-2]\n",
    "print(list)"
   ]
  },
  {
   "cell_type": "code",
   "execution_count": null,
   "id": "cbbe459c-3fdf-4576-9831-52abb1eb4da7",
   "metadata": {},
   "outputs": [],
   "source": []
  },
  {
   "cell_type": "markdown",
   "id": "3b3656cc-8858-49c7-94c7-87d393062191",
   "metadata": {},
   "source": [
    "### Adding elements to a list: append() and insert()"
   ]
  },
  {
   "cell_type": "code",
   "execution_count": 46,
   "id": "0dea5296-0347-4122-b2ed-2a027fae5791",
   "metadata": {},
   "outputs": [
    {
     "name": "stdout",
     "output_type": "stream",
     "text": [
      "4\n",
      "[111, 7, 2, 1]\n"
     ]
    }
   ],
   "source": [
    "numbers = [111, 7, 2, 1]\n",
    "print(len(numbers))\n",
    "print(numbers)"
   ]
  },
  {
   "cell_type": "code",
   "execution_count": 47,
   "id": "28a69554-4c9c-460c-ba58-00f7e3c91f96",
   "metadata": {},
   "outputs": [
    {
     "name": "stdout",
     "output_type": "stream",
     "text": [
      "5\n",
      "[111, 7, 2, 1, 4]\n"
     ]
    }
   ],
   "source": [
    "numbers.append(4)\n",
    "print(len(numbers))\n",
    "print(numbers)"
   ]
  },
  {
   "cell_type": "code",
   "execution_count": 48,
   "id": "6c02f769-ac7a-452f-b98f-709e91f1b214",
   "metadata": {},
   "outputs": [
    {
     "name": "stdout",
     "output_type": "stream",
     "text": [
      "6\n",
      "[222, 111, 7, 2, 1, 4]\n"
     ]
    }
   ],
   "source": [
    "numbers.insert(0, 222)\n",
    "print(len(numbers))\n",
    "print(numbers)"
   ]
  },
  {
   "cell_type": "code",
   "execution_count": 49,
   "id": "f14d30fc-677b-47b7-bcce-ec48450ab1f6",
   "metadata": {},
   "outputs": [
    {
     "name": "stdout",
     "output_type": "stream",
     "text": [
      "[111, 111, 7, 2, 1, 4]\n"
     ]
    }
   ],
   "source": [
    "numbers[0] = numbers[1]\n",
    "print(numbers)"
   ]
  },
  {
   "cell_type": "code",
   "execution_count": null,
   "id": "51252118-1af5-4936-b63c-2410236c3c4b",
   "metadata": {},
   "outputs": [],
   "source": [
    "numbers[0] = int(input(\"Enter the number: \"))\n",
    "print(numbers)"
   ]
  },
  {
   "cell_type": "code",
   "execution_count": null,
   "id": "0b054b76-d0b4-4f53-9a82-070808376234",
   "metadata": {},
   "outputs": [],
   "source": [
    "numbers.insert(4, 555)\n",
    "print(numbers)"
   ]
  },
  {
   "cell_type": "code",
   "execution_count": null,
   "id": "5247695a-9ae4-4aa7-a9b2-2d51711c4c0d",
   "metadata": {},
   "outputs": [],
   "source": []
  },
  {
   "cell_type": "markdown",
   "id": "9d51cea4-e299-4418-bdf9-b081e627a297",
   "metadata": {},
   "source": [
    "#### Adding elements to a list:\n",
    "\n",
    "##### You can start a list's life by making it empty(this is done with an empty pair of square brackets) and then adding new elements to it as needed"
   ]
  },
  {
   "cell_type": "code",
   "execution_count": 50,
   "id": "1a77a0a4-f3f8-4082-9837-2d37c6431ddb",
   "metadata": {},
   "outputs": [
    {
     "name": "stdout",
     "output_type": "stream",
     "text": [
      "[1, 2, 3, 4, 5]\n"
     ]
    }
   ],
   "source": [
    "my_list = []\n",
    "\n",
    "for i in range(5):\n",
    "    my_list.append(i + 1)\n",
    "print(my_list)"
   ]
  },
  {
   "cell_type": "code",
   "execution_count": 51,
   "id": "7dfb57e3-bd8a-4ccb-a6d8-234ccfd7b02e",
   "metadata": {},
   "outputs": [
    {
     "name": "stdout",
     "output_type": "stream",
     "text": [
      "[1, 2, 3, 4, 5]\n"
     ]
    }
   ],
   "source": [
    "my_list = []\n",
    "\n",
    "for i in range(5):\n",
    "    my_list.append(i + 1)\n",
    "print(my_list)"
   ]
  },
  {
   "cell_type": "code",
   "execution_count": 52,
   "id": "87f6e5d4-455a-47c4-b7f6-47435cc1c0e9",
   "metadata": {},
   "outputs": [
    {
     "name": "stdout",
     "output_type": "stream",
     "text": [
      "[1, 2, 6, 3, 4, 5]\n"
     ]
    }
   ],
   "source": [
    "my_list.insert(2, 6)\n",
    "print(my_list)"
   ]
  },
  {
   "cell_type": "code",
   "execution_count": 54,
   "id": "8b952364-4836-4426-8fb6-dabc43a1fe12",
   "metadata": {},
   "outputs": [
    {
     "name": "stdout",
     "output_type": "stream",
     "text": [
      "Enter the number:  8\n"
     ]
    },
    {
     "name": "stdout",
     "output_type": "stream",
     "text": [
      "[1, 2, 6, 8, 4, 5]\n"
     ]
    }
   ],
   "source": [
    "my_list[3] = int(input(\"Enter the number: \"))\n",
    "print(my_list)"
   ]
  },
  {
   "cell_type": "markdown",
   "id": "b98fb21a-d34f-4f4d-ac82-c9246ec713f9",
   "metadata": {},
   "source": [
    "#### Making use of list"
   ]
  },
  {
   "cell_type": "code",
   "execution_count": 55,
   "id": "95cfa0d4-19d7-4685-ae42-f2d2828c054a",
   "metadata": {},
   "outputs": [
    {
     "name": "stdout",
     "output_type": "stream",
     "text": [
      "27\n"
     ]
    }
   ],
   "source": [
    "my_list = [10, 1, 8, 3, 5]\n",
    "total = 0\n",
    "\n",
    "for i in range(len(my_list)):\n",
    "    total += my_list[i]\n",
    "\n",
    "print(total)"
   ]
  },
  {
   "cell_type": "code",
   "execution_count": 56,
   "id": "5f23dfd0-1433-452b-ade2-658f93f24b38",
   "metadata": {},
   "outputs": [
    {
     "name": "stdout",
     "output_type": "stream",
     "text": [
      "[10, 1, 8, 3, 5]\n"
     ]
    }
   ],
   "source": [
    "print(my_list)"
   ]
  },
  {
   "cell_type": "code",
   "execution_count": 57,
   "id": "309558f8-1da1-46c4-bc9e-0a12e959cb15",
   "metadata": {},
   "outputs": [
    {
     "name": "stdout",
     "output_type": "stream",
     "text": [
      "27\n"
     ]
    }
   ],
   "source": [
    "my_list = [10, 1, 8, 3, 5]\n",
    "total = 0\n",
    "\n",
    "for i in range(len(my_list)):\n",
    "    total += my_list[i]\n",
    "\n",
    "print(total)"
   ]
  },
  {
   "cell_type": "code",
   "execution_count": null,
   "id": "88d3a2d9-d38f-4345-aa50-17f320c9290d",
   "metadata": {},
   "outputs": [],
   "source": []
  },
  {
   "cell_type": "markdown",
   "id": "6ab70d56-8185-41ad-88d1-2a78a16ae210",
   "metadata": {},
   "source": [
    "#### Lists in action\n",
    "\n",
    "#### Now you can easily swap the list's elements to reverse their order"
   ]
  },
  {
   "cell_type": "code",
   "execution_count": 58,
   "id": "dde6edb6-2d06-4636-9103-26723cd832fb",
   "metadata": {},
   "outputs": [
    {
     "name": "stdout",
     "output_type": "stream",
     "text": [
      "[5, 3, 8, 1, 10]\n"
     ]
    }
   ],
   "source": [
    "my_list = [10, 1, 8, 3, 5]\n",
    "\n",
    "my_list[0], my_list[4] = my_list[4], my_list[0]\n",
    "my_list[1], my_list[3] = my_list[3], my_list[1]\n",
    "\n",
    "print(my_list)"
   ]
  },
  {
   "cell_type": "markdown",
   "id": "f06f6df0-58cd-47f8-a7e6-6d0fbfb8e702",
   "metadata": {},
   "source": [
    "##### It look fine with five elements.\n",
    "\n",
    "##### Will it still acceptable with a list containing 100 elements? No it won't.\n",
    "\n",
    "##### You can use the **for** loop to do the same thing automaticaly, irrespectiive of the list's length."
   ]
  },
  {
   "cell_type": "code",
   "execution_count": 59,
   "id": "b8e52f90-42d3-4b1a-a62a-76b7fe670e77",
   "metadata": {},
   "outputs": [
    {
     "name": "stdout",
     "output_type": "stream",
     "text": [
      "[10, 3, 8, 5, 1]\n"
     ]
    }
   ],
   "source": [
    "my_list = [10, 1, 8, 3, 5]\n",
    "length = len(my_list)\n",
    "\n",
    "for i in range(length // 2):\n",
    "    my_list[1], my_list[length - i - 1] = my_list[length - i - 1], my_list[1]\n",
    "\n",
    "print(my_list)"
   ]
  },
  {
   "cell_type": "code",
   "execution_count": null,
   "id": "dccb6b61-7193-4f18-8810-114b8fd8aa01",
   "metadata": {},
   "outputs": [],
   "source": []
  },
  {
   "cell_type": "code",
   "execution_count": 60,
   "id": "1c510106-cefe-474c-bcd0-b25da641f6ca",
   "metadata": {},
   "outputs": [
    {
     "name": "stdout",
     "output_type": "stream",
     "text": [
      "step 1: []\n"
     ]
    }
   ],
   "source": [
    "beatles = []\n",
    "print(\"step 1:\", beatles)"
   ]
  },
  {
   "cell_type": "code",
   "execution_count": 61,
   "id": "3720b3ef-0c00-4ac8-9347-1761b930bf12",
   "metadata": {},
   "outputs": [
    {
     "name": "stdout",
     "output_type": "stream",
     "text": [
      "step 2: ['John Lennon', 'Paul McCartney', 'George Harrison']\n"
     ]
    }
   ],
   "source": [
    "beatles.append(\"John Lennon\")\n",
    "beatles.append(\"Paul McCartney\")\n",
    "beatles.append(\"George Harrison\")\n",
    "print(\"step 2:\", beatles)"
   ]
  },
  {
   "cell_type": "code",
   "execution_count": 62,
   "id": "fc384830-a127-4f51-ae7b-293cbb590ebd",
   "metadata": {},
   "outputs": [
    {
     "name": "stdout",
     "output_type": "stream",
     "text": [
      "New band member:  jie\n",
      "New band member:  wake\n"
     ]
    },
    {
     "name": "stdout",
     "output_type": "stream",
     "text": [
      "Step 3: ['John Lennon', 'Paul McCartney', 'George Harrison', 'jie', 'wake']\n"
     ]
    }
   ],
   "source": [
    "for memebers in range(2):\n",
    "    beatles.append(input(\"New band member: \"))\n",
    "print(\"Step 3:\", beatles)"
   ]
  },
  {
   "cell_type": "code",
   "execution_count": 63,
   "id": "cdbde15e-e8a8-4bcd-9247-0983e89279ff",
   "metadata": {},
   "outputs": [
    {
     "name": "stdout",
     "output_type": "stream",
     "text": [
      "Step 4: ['John Lennon', 'Paul McCartney', 'George Harrison']\n"
     ]
    }
   ],
   "source": [
    "del beatles[-1]\n",
    "del beatles[-1]\n",
    "print(\"Step 4:\", beatles)"
   ]
  },
  {
   "cell_type": "code",
   "execution_count": 64,
   "id": "0f690f9e-859e-4c43-95ad-d8265817a10b",
   "metadata": {},
   "outputs": [
    {
     "name": "stdout",
     "output_type": "stream",
     "text": [
      "Step 5: ['RingoStarr', 'John Lennon', 'Paul McCartney', 'George Harrison']\n",
      "The Fab: 4\n"
     ]
    }
   ],
   "source": [
    "beatles.insert(0, \"RingoStarr\")\n",
    "print(\"Step 5:\", beatles)\n",
    "print(\"The Fab:\", len(beatles))"
   ]
  },
  {
   "cell_type": "code",
   "execution_count": null,
   "id": "4018b7fd-c449-4f1f-92b8-48cbcf53006d",
   "metadata": {},
   "outputs": [],
   "source": []
  },
  {
   "cell_type": "code",
   "execution_count": 65,
   "id": "16de80f7-3b64-428d-b475-aa360dbe3b41",
   "metadata": {},
   "outputs": [],
   "source": [
    "my_list = [1, None, True, \"I am a string\", 256, 0]"
   ]
  },
  {
   "cell_type": "code",
   "execution_count": 66,
   "id": "cba14634-1498-4ce2-bb33-2441744b28fa",
   "metadata": {},
   "outputs": [
    {
     "name": "stdout",
     "output_type": "stream",
     "text": [
      "I am a string\n"
     ]
    }
   ],
   "source": [
    "my_list = [1, None, True, \"I am a string\", 256, 0]\n",
    "print(my_list[3])"
   ]
  },
  {
   "cell_type": "code",
   "execution_count": 67,
   "id": "afdcfa36-22ee-4cc9-b1a8-6d747c37d50b",
   "metadata": {},
   "outputs": [
    {
     "name": "stdout",
     "output_type": "stream",
     "text": [
      "0\n"
     ]
    }
   ],
   "source": [
    "print(my_list[-1])"
   ]
  },
  {
   "cell_type": "code",
   "execution_count": 68,
   "id": "8b6a2353-23cb-4302-a97d-3631abbd4868",
   "metadata": {},
   "outputs": [
    {
     "name": "stdout",
     "output_type": "stream",
     "text": [
      "[1, '?', True, 'I am a string', 256, 0]\n"
     ]
    }
   ],
   "source": [
    "my_list[1] = '?'\n",
    "print(my_list)"
   ]
  },
  {
   "cell_type": "code",
   "execution_count": 69,
   "id": "6946c07a-cad7-459e-b6ef-e532d67e8a29",
   "metadata": {},
   "outputs": [
    {
     "name": "stdout",
     "output_type": "stream",
     "text": [
      "['first', 1, '?', True, 'I am a string', 256, 0, 'last']\n"
     ]
    }
   ],
   "source": [
    "my_list.insert(0, \"first\")\n",
    "my_list.append(\"last\")\n",
    "print(my_list)"
   ]
  },
  {
   "cell_type": "code",
   "execution_count": 70,
   "id": "34bb58d2-5806-4901-9c4a-7dccbbd5a07a",
   "metadata": {},
   "outputs": [],
   "source": [
    "my_list = [1, 'a', [\"list\", 64, [0, 1], False]]\n"
   ]
  },
  {
   "cell_type": "code",
   "execution_count": 71,
   "id": "51dad990-31be-4104-9762-3d83820c09d1",
   "metadata": {},
   "outputs": [
    {
     "name": "stdout",
     "output_type": "stream",
     "text": [
      "[1, 2, 4]\n"
     ]
    }
   ],
   "source": [
    "my_list = [1,2,3,4]\n",
    "del my_list[2]\n",
    "print(my_list)"
   ]
  },
  {
   "cell_type": "code",
   "execution_count": 72,
   "id": "6bdae13e-207a-49dd-9db3-b38cbcaa9875",
   "metadata": {},
   "outputs": [],
   "source": [
    "del my_list\n"
   ]
  },
  {
   "cell_type": "code",
   "execution_count": null,
   "id": "65e99fc2-772d-4ef7-b130-a8317b478d02",
   "metadata": {},
   "outputs": [],
   "source": []
  },
  {
   "cell_type": "code",
   "execution_count": 73,
   "id": "dbc48eec-1ab8-4d93-a776-e11665327a32",
   "metadata": {},
   "outputs": [
    {
     "name": "stdout",
     "output_type": "stream",
     "text": [
      "white\n",
      "purple\n",
      "blue\n",
      "yellow\n",
      "green\n"
     ]
    }
   ],
   "source": [
    "my_list = [\"white\", \"purple\", \"blue\", \"yellow\", \"green\"]\n",
    "for color in my_list:\n",
    "    print(color)"
   ]
  },
  {
   "cell_type": "code",
   "execution_count": 74,
   "id": "d90dc781-0e45-4e92-b1c7-06506c511380",
   "metadata": {},
   "outputs": [
    {
     "name": "stdout",
     "output_type": "stream",
     "text": [
      "white purple blue yellow green "
     ]
    }
   ],
   "source": [
    "my_list = [\"white\", \"purple\", \"blue\", \"yellow\", \"green\"]\n",
    "for color in my_list:\n",
    "    print(color, end=\" \")"
   ]
  },
  {
   "cell_type": "code",
   "execution_count": 75,
   "id": "21314ede-9b46-4613-a664-f3b1d8cb88aa",
   "metadata": {},
   "outputs": [
    {
     "name": "stdout",
     "output_type": "stream",
     "text": [
      "5\n"
     ]
    }
   ],
   "source": [
    "my_list = [\"white\", \"purple\", \"blue\", \"yellow\", \"green\"]\n",
    "print(len(my_list))"
   ]
  },
  {
   "cell_type": "code",
   "execution_count": 76,
   "id": "b2147b72-6bc2-400d-800e-a16e61e90237",
   "metadata": {},
   "outputs": [
    {
     "name": "stdout",
     "output_type": "stream",
     "text": [
      "['white', 'Goat', 'purple', 'blue', 'yellow', 'green']\n"
     ]
    }
   ],
   "source": [
    "my_list.insert(1, \"Goat\")\n",
    "print(my_list)"
   ]
  },
  {
   "cell_type": "code",
   "execution_count": 77,
   "id": "7c87fa2d-0f63-4f9f-8782-8774a8aeac3f",
   "metadata": {},
   "outputs": [
    {
     "name": "stdout",
     "output_type": "stream",
     "text": [
      "5\n"
     ]
    }
   ],
   "source": [
    "del my_list[1]\n",
    "print(len(my_list))"
   ]
  },
  {
   "cell_type": "code",
   "execution_count": 78,
   "id": "0d729ef6-e55e-4bfe-8548-76a441bf0b14",
   "metadata": {},
   "outputs": [
    {
     "name": "stdout",
     "output_type": "stream",
     "text": [
      "['white', 'purple', 'blue', 'yellow', 'green']\n"
     ]
    }
   ],
   "source": [
    "print(my_list)"
   ]
  },
  {
   "cell_type": "code",
   "execution_count": null,
   "id": "d80f1b1d-94c3-45e4-a0fc-b7c520facff3",
   "metadata": {},
   "outputs": [],
   "source": []
  },
  {
   "cell_type": "code",
   "execution_count": 79,
   "id": "613b218d-e449-40e1-9b45-2aad2551850d",
   "metadata": {},
   "outputs": [
    {
     "name": "stdout",
     "output_type": "stream",
     "text": [
      "[1, 2, 3, 4, 5]\n"
     ]
    }
   ],
   "source": [
    "lst = [1, 2, 3, 4, 5]\n",
    "print(lst)"
   ]
  },
  {
   "cell_type": "code",
   "execution_count": 80,
   "id": "abce96f9-1aa1-4445-bd75-a2b7abb3f330",
   "metadata": {},
   "outputs": [
    {
     "name": "stdout",
     "output_type": "stream",
     "text": [
      "[1, 6, 2, 3, 4, 5]\n"
     ]
    }
   ],
   "source": [
    "lst.insert(1, 6)\n",
    "print(lst)"
   ]
  },
  {
   "cell_type": "code",
   "execution_count": 81,
   "id": "85ebafe3-099c-4b19-88a5-f97639e1958f",
   "metadata": {},
   "outputs": [
    {
     "name": "stdout",
     "output_type": "stream",
     "text": [
      "[6, 2, 3, 4, 5]\n"
     ]
    }
   ],
   "source": [
    "del lst[0]\n",
    "print(lst)"
   ]
  },
  {
   "cell_type": "code",
   "execution_count": 82,
   "id": "82ad2624-fd0b-4d80-bbae-555d87d7a4a9",
   "metadata": {},
   "outputs": [
    {
     "name": "stdout",
     "output_type": "stream",
     "text": [
      "[6, 2, 3, 4, 5, 1]\n"
     ]
    }
   ],
   "source": [
    "lst.append(1)\n",
    "print(lst)"
   ]
  },
  {
   "cell_type": "code",
   "execution_count": 83,
   "id": "90afcee9-daab-436b-9954-aa8c6ec8a399",
   "metadata": {},
   "outputs": [
    {
     "name": "stdout",
     "output_type": "stream",
     "text": [
      "[1, 3, 6, 10, 15]\n"
     ]
    }
   ],
   "source": [
    "lst = [1, 2, 3, 4, 5]\n",
    "lst_2 = []\n",
    "add = 0\n",
    "\n",
    "for number in lst:\n",
    "    add += number\n",
    "    lst_2.append(add)\n",
    "\n",
    "print(lst_2)"
   ]
  },
  {
   "cell_type": "code",
   "execution_count": 84,
   "id": "501681da-3cbe-4118-a4c0-fd6a0fe834c6",
   "metadata": {},
   "outputs": [
    {
     "ename": "NameError",
     "evalue": "name 'lst' is not defined",
     "output_type": "error",
     "traceback": [
      "\u001b[1;31m---------------------------------------------------------------------------\u001b[0m",
      "\u001b[1;31mNameError\u001b[0m                                 Traceback (most recent call last)",
      "Cell \u001b[1;32mIn[84], line 3\u001b[0m\n\u001b[0;32m      1\u001b[0m lst \u001b[38;5;241m=\u001b[39m []\n\u001b[0;32m      2\u001b[0m \u001b[38;5;28;01mdel\u001b[39;00m lst\n\u001b[1;32m----> 3\u001b[0m \u001b[38;5;28mprint\u001b[39m(lst)\n",
      "\u001b[1;31mNameError\u001b[0m: name 'lst' is not defined"
     ]
    }
   ],
   "source": [
    "lst = []\n",
    "del lst\n",
    "print(lst)"
   ]
  },
  {
   "cell_type": "code",
   "execution_count": 85,
   "id": "b6c6326f-df43-4c1f-841c-1bfcb17471a7",
   "metadata": {},
   "outputs": [
    {
     "name": "stdout",
     "output_type": "stream",
     "text": [
      "[2, 3]\n"
     ]
    }
   ],
   "source": [
    "lst = [1, [2, 3], 4]\n",
    "print(lst[1])"
   ]
  },
  {
   "cell_type": "code",
   "execution_count": null,
   "id": "3942716b-2078-4360-9d28-dcf940e4a3b7",
   "metadata": {},
   "outputs": [],
   "source": [
    "print(len(lst))"
   ]
  },
  {
   "cell_type": "code",
   "execution_count": null,
   "id": "d5c847bf-7cd5-47c8-818e-d48311fa984b",
   "metadata": {},
   "outputs": [],
   "source": []
  },
  {
   "cell_type": "markdown",
   "id": "8f677351-bd26-4dbc-8335-96f77af9c6d4",
   "metadata": {},
   "source": [
    "### Lists in lists"
   ]
  },
  {
   "cell_type": "code",
   "execution_count": 86,
   "id": "7a66ca89-937b-4491-81d3-d56f2bbc6939",
   "metadata": {},
   "outputs": [
    {
     "name": "stdout",
     "output_type": "stream",
     "text": [
      "['WHITE_PAWN', 'WHITE_PAWN', 'WHITE_PAWN', 'WHITE_PAWN', 'WHITE_PAWN', 'WHITE_PAWN', 'WHITE_PAWN', 'WHITE_PAWN']\n"
     ]
    }
   ],
   "source": [
    "row = []\n",
    "for i in range(8):\n",
    "    row.append('WHITE_PAWN')\n",
    "\n",
    "print(row)"
   ]
  },
  {
   "cell_type": "markdown",
   "id": "ffddbaf7-0f45-4165-8f4b-f46e86c8dfe9",
   "metadata": {},
   "source": [
    "##### A list comprehension ia actually a list, but created on the fly during program execution and is not decribeed statically.\n",
    "\n",
    "##### Take a look at the snippet:\n",
    "\n"
   ]
  },
  {
   "cell_type": "code",
   "execution_count": 22,
   "id": "8f80a08b-99fc-41f3-aff5-338dede3626c",
   "metadata": {},
   "outputs": [
    {
     "name": "stdout",
     "output_type": "stream",
     "text": [
      "['WHITE_PAWN', 'WHITE_PAWN', 'WHITE_PAWN', 'WHITE_PAWN', 'WHITE_PAWN', 'WHITE_PAWN', 'WHITE_PAWN', 'WHITE_PAWN']\n"
     ]
    }
   ],
   "source": [
    "row = ['WHITE_PAWN' for i in range(8)]\n",
    "print(row)\n",
    "\n",
    "\n"
   ]
  },
  {
   "cell_type": "markdown",
   "id": "d2115fdc-f798-4e83-8b15-d3d003ee367b",
   "metadata": {},
   "source": [
    "#### List comprehension\n",
    "##### Example 1"
   ]
  },
  {
   "cell_type": "code",
   "execution_count": 1,
   "id": "625b18de-b415-4182-a716-d805b4d9ff4b",
   "metadata": {},
   "outputs": [
    {
     "name": "stdout",
     "output_type": "stream",
     "text": [
      "[0, 1, 4, 9, 16, 25, 36, 49, 64, 81]\n"
     ]
    }
   ],
   "source": [
    "squares = [x ** 2 for x in range(10)]\n",
    "print(squares)"
   ]
  },
  {
   "cell_type": "markdown",
   "id": "05a88cc4-9c73-4612-9d47-f34b68bf12b7",
   "metadata": {},
   "source": [
    "##### Example 2"
   ]
  },
  {
   "cell_type": "code",
   "execution_count": 2,
   "id": "84ae3fcc-2174-434a-ab34-6bcb3365b286",
   "metadata": {},
   "outputs": [
    {
     "name": "stdout",
     "output_type": "stream",
     "text": [
      "[1, 2, 4, 8, 16, 32, 64, 128]\n"
     ]
    }
   ],
   "source": [
    "twos = [2 ** i for i in range(8)]\n",
    "print(twos)"
   ]
  },
  {
   "cell_type": "code",
   "execution_count": 3,
   "id": "7ba98d90-8528-47eb-811b-13b1b6212ce6",
   "metadata": {},
   "outputs": [
    {
     "name": "stdout",
     "output_type": "stream",
     "text": [
      "[1, 3, 9, 27, 81, 243, 729, 2187]\n"
     ]
    }
   ],
   "source": [
    "twos = [3 ** i for i in range(8)]\n",
    "print(twos)"
   ]
  },
  {
   "cell_type": "markdown",
   "id": "96f98e94-4c15-4791-b12c-1bfc365075bd",
   "metadata": {},
   "source": [
    "##### Example 3"
   ]
  },
  {
   "cell_type": "code",
   "execution_count": 4,
   "id": "16add5c6-bb83-4fb6-b726-830b8c6dfcca",
   "metadata": {},
   "outputs": [
    {
     "name": "stdout",
     "output_type": "stream",
     "text": [
      "[1, 9, 25, 49, 81]\n"
     ]
    }
   ],
   "source": [
    "odds = [x for x in squares if x % 2 != 0]\n",
    "print(odds)"
   ]
  },
  {
   "cell_type": "code",
   "execution_count": 5,
   "id": "43b7b6f0-cc8e-4d51-95c1-6f4716c46c04",
   "metadata": {},
   "outputs": [
    {
     "name": "stdout",
     "output_type": "stream",
     "text": [
      "[0, 4, 16, 36, 64]\n"
     ]
    }
   ],
   "source": [
    "even = [x for x in squares if x % 2 == 0]\n",
    "print(even)"
   ]
  },
  {
   "cell_type": "markdown",
   "id": "b1215519-7598-4f98-bd1a-b477a454981f",
   "metadata": {},
   "source": [
    "#### Lists in lists: two dimensional arrays"
   ]
  },
  {
   "cell_type": "code",
   "execution_count": 7,
   "id": "250a5055-b214-4c8b-986e-634d4d4168c9",
   "metadata": {},
   "outputs": [
    {
     "name": "stdout",
     "output_type": "stream",
     "text": [
      "[['EMPTY', 'EMPTY', 'EMPTY', 'EMPTY', 'EMPTY', 'EMPTY', 'EMPTY', 'EMPTY'], ['EMPTY', 'EMPTY', 'EMPTY', 'EMPTY', 'EMPTY', 'EMPTY', 'EMPTY', 'EMPTY'], ['EMPTY', 'EMPTY', 'EMPTY', 'EMPTY', 'EMPTY', 'EMPTY', 'EMPTY', 'EMPTY'], ['EMPTY', 'EMPTY', 'EMPTY', 'EMPTY', 'EMPTY', 'EMPTY', 'EMPTY', 'EMPTY'], ['EMPTY', 'EMPTY', 'EMPTY', 'EMPTY', 'EMPTY', 'EMPTY', 'EMPTY', 'EMPTY'], ['EMPTY', 'EMPTY', 'EMPTY', 'EMPTY', 'EMPTY', 'EMPTY', 'EMPTY', 'EMPTY'], ['EMPTY', 'EMPTY', 'EMPTY', 'EMPTY', 'EMPTY', 'EMPTY', 'EMPTY', 'EMPTY'], ['EMPTY', 'EMPTY', 'EMPTY', 'EMPTY', 'EMPTY', 'EMPTY', 'EMPTY', 'EMPTY']]\n"
     ]
    }
   ],
   "source": [
    "board = []\n",
    "\n",
    "for i in range(8):\n",
    "    row = ['EMPTY' for i in range(8)]\n",
    "    board.append(row)\n",
    "\n",
    "print(board)"
   ]
  },
  {
   "cell_type": "code",
   "execution_count": 10,
   "id": "1efebb69-16ac-4d1a-8be1-865edf46a3ef",
   "metadata": {},
   "outputs": [
    {
     "name": "stdout",
     "output_type": "stream",
     "text": [
      "[['EMPTY', 'EMPTY', 'EMPTY', 'EMPTY', 'EMPTY', 'EMPTY', 'EMPTY', 'EMPTY'], ['EMPTY', 'EMPTY', 'EMPTY', 'EMPTY', 'EMPTY', 'EMPTY', 'EMPTY', 'EMPTY'], ['EMPTY', 'EMPTY', 'EMPTY', 'EMPTY', 'EMPTY', 'EMPTY', 'EMPTY', 'EMPTY'], ['EMPTY', 'EMPTY', 'EMPTY', 'EMPTY', 'EMPTY', 'EMPTY', 'EMPTY', 'EMPTY'], ['EMPTY', 'EMPTY', 'EMPTY', 'EMPTY', 'EMPTY', 'EMPTY', 'EMPTY', 'EMPTY'], ['EMPTY', 'EMPTY', 'EMPTY', 'EMPTY', 'EMPTY', 'EMPTY', 'EMPTY', 'EMPTY'], ['EMPTY', 'EMPTY', 'EMPTY', 'EMPTY', 'EMPTY', 'EMPTY', 'EMPTY', 'EMPTY'], ['EMPTY', 'EMPTY', 'EMPTY', 'EMPTY', 'EMPTY', 'EMPTY', 'EMPTY', 'EMPTY']]\n"
     ]
    }
   ],
   "source": [
    "board = [['EMPTY' for i in range(8)] for j in range(8)]\n",
    "\n",
    "print(board)"
   ]
  },
  {
   "cell_type": "code",
   "execution_count": null,
   "id": "54fd1635-7385-4bab-8df5-8333309b3589",
   "metadata": {},
   "outputs": [],
   "source": []
  },
  {
   "cell_type": "code",
   "execution_count": 14,
   "id": "0b45c1be-8e69-4e2d-a083-5ed86340640e",
   "metadata": {},
   "outputs": [
    {
     "name": "stdout",
     "output_type": "stream",
     "text": [
      "[['ROOK', '-', '-', '-', '-', '-', '-', 'ROOK'], ['-', '-', '-', '-', '-', '-', '-', '-'], ['-', '-', '-', '-', '-', '-', '-', '-'], ['-', '-', '-', '-', '-', '-', '-', '-'], ['-', '-', '-', '-', '-', '-', '-', '-'], ['-', '-', '-', '-', '-', '-', '-', '-'], ['-', '-', '-', '-', '-', '-', '-', '-'], ['ROOK', '-', '-', '-', '-', '-', '-', 'ROOK']]\n"
     ]
    }
   ],
   "source": [
    "EMPTY = \"-\"\n",
    "ROOK = \"ROOK\"\n",
    "board = []\n",
    "\n",
    "for i in range(8):\n",
    "    row = [EMPTY for i in range(8)]\n",
    "    board.append(row)\n",
    "\n",
    "board[0][0] = ROOK\n",
    "board[0][7] = ROOK\n",
    "board[7][0] = ROOK\n",
    "board[7][7] = ROOK\n",
    "\n",
    "print(board)"
   ]
  },
  {
   "cell_type": "code",
   "execution_count": null,
   "id": "0ce77774-62f7-4584-8e58-4ec05348706a",
   "metadata": {},
   "outputs": [],
   "source": []
  },
  {
   "cell_type": "code",
   "execution_count": 15,
   "id": "86ce01e6-1705-4cb2-848b-d7e5000a1f77",
   "metadata": {},
   "outputs": [
    {
     "name": "stdout",
     "output_type": "stream",
     "text": [
      "Average temperature at noon:  0.0\n"
     ]
    }
   ],
   "source": [
    "temps = [[0.0 for h in range(24)] for d in range(31)]\n",
    "\n",
    "total = 0.0\n",
    "\n",
    "for day in temps:\n",
    "    total += day[11]\n",
    "\n",
    "average = total / 31\n",
    "print(\"Average temperature at noon: \", average)"
   ]
  },
  {
   "cell_type": "code",
   "execution_count": 18,
   "id": "a41a6d56-820e-4679-921f-2eea9333833f",
   "metadata": {},
   "outputs": [
    {
     "name": "stdout",
     "output_type": "stream",
     "text": [
      "The highest temperature was:  100.0\n"
     ]
    }
   ],
   "source": [
    "temps = [[0.0 for h in range(24)] for d in range(31)]\n",
    "\n",
    "highest = 100.0\n",
    "\n",
    "for day in temps:\n",
    "    for temp in day:\n",
    "        if temp > highest:\n",
    "            highest = temp\n",
    "\n",
    "\n",
    "print(\"The highest temperature was: \", highest)"
   ]
  },
  {
   "cell_type": "code",
   "execution_count": 19,
   "id": "90bca208-686d-4439-b05d-85579732dd63",
   "metadata": {},
   "outputs": [
    {
     "name": "stdout",
     "output_type": "stream",
     "text": [
      "0 days were hot.\n"
     ]
    }
   ],
   "source": [
    "temps = [[0.0 for h in range(24)] for d in range(31)]\n",
    "\n",
    "hot_days = 0\n",
    "\n",
    "for day in temps:\n",
    "    if day[11] > 20.0:\n",
    "        hot_days += 1\n",
    "\n",
    "\n",
    "print(hot_days, \"days were hot.\")"
   ]
  },
  {
   "cell_type": "code",
   "execution_count": null,
   "id": "b51f1609-0c19-4aa9-8411-8877f578c98a",
   "metadata": {},
   "outputs": [],
   "source": []
  },
  {
   "cell_type": "markdown",
   "id": "1de0376f-27ea-40ca-a11e-28898dd30ed9",
   "metadata": {},
   "source": [
    "### Three-dimensional arrays"
   ]
  },
  {
   "cell_type": "code",
   "execution_count": 90,
   "id": "052a6f79-7733-498b-9750-8d7df81b566d",
   "metadata": {},
   "outputs": [
    {
     "name": "stdout",
     "output_type": "stream",
     "text": [
      "[[[False, False, False, False, False, False, False, False, False, False, False, False, False, False, False, False, False, False, False, False], [False, False, False, False, False, False, False, False, False, False, False, False, False, False, False, False, False, False, False, False], [False, False, False, False, False, False, False, False, False, False, False, False, False, False, False, False, False, False, False, False], [False, False, False, False, False, False, False, False, False, False, False, False, False, False, False, False, False, False, False, False], [False, False, False, False, False, False, False, False, False, False, False, False, False, False, False, False, False, False, False, False], [False, False, False, False, False, False, False, False, False, False, False, False, False, False, False, False, False, False, False, False], [False, False, False, False, False, False, False, False, False, False, False, False, False, False, False, False, False, False, False, False], [False, False, False, False, False, False, False, False, False, False, False, False, False, False, False, False, False, False, False, False], [False, False, False, False, False, False, False, False, False, False, False, False, False, False, False, False, False, False, False, False], [False, False, False, False, False, False, False, False, False, False, False, False, False, False, False, False, False, False, False, False], [False, False, False, False, False, False, False, False, False, False, False, False, False, False, False, False, False, False, False, False], [False, False, False, False, False, False, False, False, False, False, False, False, False, False, False, False, False, False, False, False], [False, False, False, False, False, False, False, False, False, False, False, False, False, False, False, False, False, False, False, False], [False, False, False, False, False, False, False, False, False, False, False, False, False, False, False, False, False, False, False, False], [False, False, False, False, False, False, False, False, False, False, False, False, False, False, False, False, False, False, False, False]], [[False, False, False, False, False, False, False, False, False, False, False, False, False, False, False, False, False, False, False, False], [False, False, False, False, False, False, False, False, False, False, False, False, False, False, False, False, False, False, False, False], [False, False, False, False, False, False, False, False, False, False, False, False, False, False, False, False, False, False, False, False], [False, False, False, False, False, False, False, False, False, False, False, False, False, False, False, False, False, False, False, False], [False, False, False, False, False, False, False, False, False, False, False, False, False, False, False, False, False, False, False, False], [False, False, False, False, False, False, False, False, False, False, False, False, False, False, False, False, False, False, False, False], [False, False, False, False, False, False, False, False, False, False, False, False, False, False, False, False, False, False, False, False], [False, False, False, False, False, False, False, False, False, False, False, False, False, False, False, False, False, False, False, False], [False, False, False, False, False, False, False, False, False, False, False, False, False, False, False, False, False, False, False, False], [False, False, False, False, False, False, False, False, False, False, False, False, False, False, False, False, False, False, False, False], [False, False, False, False, False, False, False, False, False, False, False, False, False, False, False, False, False, False, False, False], [False, False, False, False, False, False, False, False, False, False, False, False, False, False, False, False, False, False, False, False], [False, False, False, False, False, False, False, False, False, False, False, False, False, False, False, False, False, False, False, False], [False, False, False, False, False, False, False, False, False, False, False, False, False, False, False, False, False, False, False, False], [False, False, False, False, False, False, False, False, False, False, False, False, False, False, False, False, False, False, False, False]], [[False, False, False, False, False, False, False, False, False, False, False, False, False, False, False, False, False, False, False, False], [False, False, False, False, False, False, False, False, False, False, False, False, False, False, False, False, False, False, False, False], [False, False, False, False, False, False, False, False, False, False, False, False, False, False, False, False, False, False, False, False], [False, False, False, False, False, False, False, False, False, False, False, False, False, False, False, False, False, False, False, False], [False, False, False, False, False, False, False, False, False, False, False, False, False, False, False, False, False, False, False, False], [False, False, False, False, False, False, False, False, False, False, False, False, False, False, False, False, False, False, False, False], [False, False, False, False, False, False, False, False, False, False, False, False, False, False, False, False, False, False, False, False], [False, False, False, False, False, False, False, False, False, False, False, False, False, False, False, False, False, False, False, False], [False, False, False, False, False, False, False, False, False, False, False, False, False, False, False, False, False, False, False, False], [False, False, False, False, False, False, False, False, False, False, False, False, False, False, False, False, False, False, False, False], [False, False, False, False, False, False, False, False, False, False, False, False, False, False, False, False, False, False, False, False], [False, False, False, False, False, False, False, False, False, False, False, False, False, False, False, False, False, False, False, False], [False, False, False, False, False, False, False, False, False, False, False, False, False, False, False, False, False, False, False, False], [False, False, False, False, False, False, False, False, False, False, False, False, False, False, False, False, False, False, False, False], [False, False, False, False, False, False, False, False, False, False, False, False, False, False, False, False, False, False, False, False]]]\n"
     ]
    }
   ],
   "source": [
    "rooms = [[[False for r in range(20)] for f in range(15)] for b in range(3)]\n",
    "print(rooms)"
   ]
  },
  {
   "cell_type": "code",
   "execution_count": 92,
   "id": "7a8de82b-d843-464b-b931-8bf334c4dffe",
   "metadata": {},
   "outputs": [
    {
     "name": "stdout",
     "output_type": "stream",
     "text": [
      "[[[False, False, False, False, False, False, False, False, False, False, False, False, False, False, False, False, False, False, False, False], [False, False, False, False, False, False, False, False, False, False, False, False, False, False, False, False, False, False, False, False], [False, False, False, False, False, False, False, False, False, False, False, False, False, False, False, False, False, False, False, False], [False, False, False, False, False, False, False, False, False, False, False, False, False, False, False, False, False, False, False, False], [False, False, False, False, False, False, False, False, False, False, False, False, False, False, False, False, False, False, False, False], [False, False, False, False, False, False, False, False, False, False, False, False, False, False, False, False, False, False, False, False], [False, False, False, False, False, False, False, False, False, False, False, False, False, False, False, False, False, False, False, False], [False, False, False, False, False, False, False, False, False, False, False, False, False, False, False, False, False, False, False, False], [False, False, False, False, False, False, False, False, False, False, False, False, False, False, False, False, False, False, False, False], [False, False, False, False, False, False, False, False, False, False, False, False, False, False, False, False, False, False, False, False], [False, False, False, False, False, False, False, False, False, False, False, False, False, False, False, False, False, False, False, False], [False, False, False, False, False, False, False, False, False, False, False, False, False, False, False, False, False, False, False, False], [False, False, False, False, False, False, False, False, False, False, False, False, False, False, False, False, False, False, False, False], [False, False, False, False, False, False, False, False, False, False, False, False, False, False, False, False, False, False, False, False], [False, False, False, False, False, False, False, False, False, False, False, False, False, False, False, False, False, False, False, False]], [[False, False, False, False, False, False, False, False, False, False, False, False, False, False, False, False, False, False, False, False], [False, False, False, False, False, False, False, False, False, False, False, False, False, False, False, False, False, False, False, False], [False, False, False, False, False, False, False, False, False, False, False, False, False, False, False, False, False, False, False, False], [False, False, False, False, False, False, False, False, False, False, False, False, False, False, False, False, False, False, False, False], [False, False, False, False, False, False, False, False, False, False, False, False, False, False, False, False, False, False, False, False], [False, False, False, False, False, False, False, False, False, False, False, False, False, False, False, False, False, False, False, False], [False, False, False, False, False, False, False, False, False, False, False, False, False, False, False, False, False, False, False, False], [False, False, False, False, False, False, False, False, False, False, False, False, False, False, False, False, False, False, False, False], [False, False, False, False, False, False, False, False, False, False, False, False, False, False, False, False, False, False, False, False], [False, False, False, False, False, False, False, False, False, False, False, False, False, True, False, False, False, False, False, False], [False, False, False, False, False, False, False, False, False, False, False, False, False, False, False, False, False, False, False, False], [False, False, False, False, False, False, False, False, False, False, False, False, False, False, False, False, False, False, False, False], [False, False, False, False, False, False, False, False, False, False, False, False, False, False, False, False, False, False, False, False], [False, False, False, False, False, False, False, False, False, False, False, False, False, False, False, False, False, False, False, False], [False, False, False, False, False, False, False, False, False, False, False, False, False, False, False, False, False, False, False, False]], [[False, False, False, False, False, False, False, False, False, False, False, False, False, False, False, False, False, False, False, False], [False, False, False, False, False, False, False, False, False, False, False, False, False, False, False, False, False, False, False, False], [False, False, False, False, False, False, False, False, False, False, False, False, False, False, False, False, False, False, False, False], [False, False, False, False, False, False, False, False, False, False, False, False, False, False, False, False, False, False, False, False], [False, False, False, False, False, False, False, False, False, False, False, False, False, False, False, False, False, False, False, False], [False, False, False, False, False, False, False, False, False, False, False, False, False, False, False, False, False, False, False, False], [False, False, False, False, False, False, False, False, False, False, False, False, False, False, False, False, False, False, False, False], [False, False, False, False, False, False, False, False, False, False, False, False, False, False, False, False, False, False, False, False], [False, False, False, False, False, False, False, False, False, False, False, False, False, False, False, False, False, False, False, False], [False, False, False, False, False, False, False, False, False, False, False, False, False, False, False, False, False, False, False, False], [False, False, False, False, False, False, False, False, False, False, False, False, False, False, False, False, False, False, False, False], [False, False, False, False, False, False, False, False, False, False, False, False, False, False, False, False, False, False, False, False], [False, False, False, False, False, False, False, False, False, False, False, False, False, False, False, False, False, False, False, False], [False, False, False, False, False, False, False, False, False, False, False, False, False, False, False, False, False, False, False, False], [False, False, False, False, False, False, False, False, False, False, False, False, False, False, False, False, False, False, False, False]]]\n"
     ]
    }
   ],
   "source": [
    "rooms[1][9][13] = True\n",
    "print(rooms)\n"
   ]
  },
  {
   "cell_type": "code",
   "execution_count": 95,
   "id": "9675151b-0a66-46dd-b417-cacd96e5e87d",
   "metadata": {},
   "outputs": [
    {
     "name": "stdout",
     "output_type": "stream",
     "text": [
      "[[[False, False, False, False, False, False, False, False, False, False, False, False, False, False, False, False, False, False, False, False], [False, False, False, False, False, False, False, False, False, False, False, False, False, False, False, False, False, False, False, False], [False, False, False, False, False, False, False, False, False, False, False, False, False, False, False, False, False, False, False, False], [False, False, False, False, False, False, False, False, False, False, False, False, False, False, False, False, False, False, False, False], [False, False, False, False, False, False, False, False, False, False, False, False, False, False, False, False, False, False, False, False], [False, False, False, False, False, False, False, False, False, False, False, False, False, False, False, False, False, False, False, False], [False, False, False, False, False, False, False, False, False, False, False, False, False, False, False, False, False, False, False, False], [False, False, False, False, False, False, False, False, False, False, False, False, False, False, False, False, False, False, False, False], [False, False, False, False, False, False, False, False, False, False, False, False, False, False, False, False, False, False, False, False], [False, False, False, False, False, False, False, False, False, False, False, False, False, False, False, False, False, False, False, False], [False, False, False, False, False, False, False, False, False, False, False, False, False, False, False, False, False, False, False, False], [False, False, False, False, False, False, False, False, False, False, False, False, False, False, False, False, False, False, False, False], [False, False, False, False, False, False, False, False, False, False, False, False, False, False, False, False, False, False, False, False], [False, False, False, False, False, False, False, False, False, False, False, False, False, False, False, False, False, False, False, False], [False, False, False, False, False, False, False, False, False, False, False, False, False, False, False, False, False, False, False, False]], [[False, False, False, False, False, False, False, False, False, False, False, False, False, False, False, False, False, False, False, False], [False, False, False, False, False, False, False, False, False, False, False, False, False, False, False, False, False, False, False, False], [False, False, False, False, False, False, False, False, False, False, False, False, False, False, False, False, False, False, False, False], [False, False, False, False, False, False, False, False, False, False, False, False, False, False, False, False, False, False, False, False], [False, False, False, False, False, False, False, False, False, False, False, False, False, False, False, False, False, False, False, False], [False, False, False, False, False, False, False, False, False, False, False, False, False, False, False, False, False, False, False, False], [False, False, False, False, False, False, False, False, False, False, False, False, False, False, False, False, False, False, False, False], [False, False, False, False, False, False, False, False, False, False, False, False, False, False, False, False, False, False, False, False], [False, False, False, False, False, False, False, False, False, False, False, False, False, False, False, False, False, False, False, False], [False, False, False, False, False, False, False, False, False, False, False, False, False, True, False, False, False, False, False, False], [False, False, False, False, False, False, False, False, False, False, False, False, False, False, False, False, False, False, False, False], [False, False, False, False, False, False, False, False, False, False, False, False, False, False, False, False, False, False, False, False], [False, False, False, False, False, False, False, False, False, False, False, False, False, False, False, False, False, False, False, False], [False, False, False, False, False, False, False, False, False, False, False, False, False, False, False, False, False, False, False, False], [False, False, False, False, False, False, False, False, False, False, False, False, False, False, False, False, False, False, False, False]], [[False, False, False, False, False, False, False, False, False, False, False, False, False, False, False, False, False, False, False, False], [False, False, False, False, False, False, False, False, False, False, False, False, False, False, False, False, False, False, False, False], [False, False, False, False, False, False, False, False, False, False, False, False, False, False, False, False, False, False, False, False], [False, False, False, False, False, False, False, False, False, False, False, False, False, False, False, False, False, False, False, False], [False, False, False, False, False, False, False, False, False, False, False, False, False, False, False, False, False, False, False, False], [False, False, False, False, False, False, False, False, False, False, False, False, False, False, False, False, False, False, False, False], [False, False, False, False, False, False, False, False, False, False, False, False, False, False, False, False, False, False, False, False], [False, False, False, False, False, False, False, False, False, False, False, False, False, False, False, False, False, False, False, False], [False, False, False, False, False, False, False, False, False, False, False, False, False, False, False, False, False, False, False, False], [False, False, False, False, False, False, False, False, False, False, False, False, False, False, False, False, False, False, False, False], [False, False, False, False, False, False, False, False, False, False, False, False, False, False, False, False, False, False, False, False], [False, False, False, False, False, False, False, False, False, False, False, False, False, False, False, False, False, False, False, False], [False, False, False, False, False, False, False, False, False, False, False, False, False, False, False, False, False, False, False, False], [False, False, False, False, False, False, False, False, False, False, False, False, False, False, False, False, False, False, False, False], [False, False, False, False, False, False, False, False, False, False, False, False, False, False, False, False, False, False, False, False]]]\n"
     ]
    }
   ],
   "source": [
    "rooms[0][4][1] = False\n",
    "print(rooms)"
   ]
  },
  {
   "cell_type": "code",
   "execution_count": 101,
   "id": "95aaf402-0be2-4912-9616-e095b0561fd2",
   "metadata": {},
   "outputs": [
    {
     "name": "stdout",
     "output_type": "stream",
     "text": [
      "24\n"
     ]
    }
   ],
   "source": [
    "vacancy = 4\n",
    "\n",
    "for room_number in range(20):\n",
    "    if not rooms[2][14][room_number]:\n",
    "        vacancy += 1\n",
    "\n",
    "print(vacancy)"
   ]
  },
  {
   "cell_type": "code",
   "execution_count": null,
   "id": "0826a95c-9427-4baa-9cc3-32fdf9610cda",
   "metadata": {},
   "outputs": [],
   "source": []
  },
  {
   "cell_type": "markdown",
   "id": "51a06501-8a9b-4596-95ee-937cf7d5fe73",
   "metadata": {},
   "source": [
    "### Key Takeaway"
   ]
  },
  {
   "cell_type": "code",
   "execution_count": 102,
   "id": "a799e080-8196-4c5d-92c7-529b7900635e",
   "metadata": {},
   "outputs": [
    {
     "name": "stdout",
     "output_type": "stream",
     "text": [
      "[0, 1, 8, 27, 64]\n"
     ]
    }
   ],
   "source": [
    "cubed = [num ** 3 for num in range(5)]\n",
    "print(cubed)"
   ]
  },
  {
   "cell_type": "code",
   "execution_count": 103,
   "id": "42a899ae-b1b0-4ff8-8f9d-c0fac1b0cad8",
   "metadata": {},
   "outputs": [
    {
     "name": "stdout",
     "output_type": "stream",
     "text": [
      "[0, 1, 2, 3, 4]\n"
     ]
    }
   ],
   "source": [
    "cubed = [num for num in range(5)]\n",
    "print(cubed)"
   ]
  },
  {
   "cell_type": "code",
   "execution_count": 104,
   "id": "9deed77c-6001-4969-8c1a-ea1da9463afb",
   "metadata": {},
   "outputs": [
    {
     "name": "stdout",
     "output_type": "stream",
     "text": [
      "#\n",
      "#\n"
     ]
    }
   ],
   "source": [
    "for i in range(-1, 1):\n",
    "    print(\"#\")"
   ]
  },
  {
   "cell_type": "code",
   "execution_count": 105,
   "id": "dfb8ab18-3b4b-4b8f-9c84-ee0a1a7888f4",
   "metadata": {},
   "outputs": [
    {
     "name": "stdout",
     "output_type": "stream",
     "text": [
      "[0, 0]\n"
     ]
    }
   ],
   "source": [
    "my_list = [0 for i in range(1, 3)]\n",
    "print(my_list)"
   ]
  },
  {
   "cell_type": "code",
   "execution_count": 106,
   "id": "06aae6f9-91e7-4dda-979f-e150ee9b2b05",
   "metadata": {},
   "outputs": [
    {
     "name": "stdout",
     "output_type": "stream",
     "text": [
      "*\n",
      "*\n"
     ]
    }
   ],
   "source": [
    "i = 0\n",
    "while i <= 3:\n",
    "    i += 2\n",
    "    print(\"*\")"
   ]
  },
  {
   "cell_type": "code",
   "execution_count": 107,
   "id": "ddcc53f4-2d25-41ac-a8e7-ebcff4f25167",
   "metadata": {},
   "outputs": [
    {
     "name": "stdout",
     "output_type": "stream",
     "text": [
      "[2]\n"
     ]
    }
   ],
   "source": [
    "my_list = [1, 2, 3, 4]\n",
    "print(my_list[-3:-2])"
   ]
  },
  {
   "cell_type": "code",
   "execution_count": 108,
   "id": "e40941fe-2fd8-4fef-8dc5-0795c00db6f6",
   "metadata": {},
   "outputs": [
    {
     "name": "stdout",
     "output_type": "stream",
     "text": [
      "#\n",
      "#\n"
     ]
    }
   ],
   "source": [
    "for i in range(1):\n",
    "    print(\"#\")\n",
    "\n",
    "else:\n",
    "    print(\"#\")"
   ]
  },
  {
   "cell_type": "code",
   "execution_count": 109,
   "id": "1296cdb3-811f-48a0-9fea-9b514c0e4fee",
   "metadata": {},
   "outputs": [
    {
     "name": "stdout",
     "output_type": "stream",
     "text": [
      "1\n"
     ]
    }
   ],
   "source": [
    "my_list = [3, 1, -2]\n",
    "print(my_list[my_list[-1]])"
   ]
  },
  {
   "cell_type": "code",
   "execution_count": 111,
   "id": "08809fca-1c0e-4c76-839b-5c727284d880",
   "metadata": {},
   "outputs": [
    {
     "name": "stdout",
     "output_type": "stream",
     "text": [
      "[-1, 0, 1]\n"
     ]
    }
   ],
   "source": [
    "my_list = [i for i in range(-1, 2)]\n",
    "print(my_list)"
   ]
  },
  {
   "cell_type": "code",
   "execution_count": null,
   "id": "6ef8826d-b0ed-40fb-b4c2-2863c8976f28",
   "metadata": {},
   "outputs": [],
   "source": []
  }
 ],
 "metadata": {
  "kernelspec": {
   "display_name": "Python 3",
   "language": "python",
   "name": "python3"
  },
  "language_info": {
   "codemirror_mode": {
    "name": "ipython",
    "version": 3
   },
   "file_extension": ".py",
   "mimetype": "text/x-python",
   "name": "python",
   "nbconvert_exporter": "python",
   "pygments_lexer": "ipython3",
   "version": "3.11.10"
  }
 },
 "nbformat": 4,
 "nbformat_minor": 5
}
