{
 "cells": [
  {
   "cell_type": "markdown",
   "id": "1df0ab7a-e573-45c9-9b76-119b4a4cc543",
   "metadata": {},
   "source": [
    "## Built-in function"
   ]
  },
  {
   "cell_type": "code",
   "execution_count": null,
   "id": "60829bb4-f3e9-4366-a9d9-6cbec3a9cc45",
   "metadata": {},
   "outputs": [],
   "source": [
    "# abs()\n",
    "a = abs(10.75)\n",
    "a"
   ]
  },
  {
   "cell_type": "code",
   "execution_count": null,
   "id": "5e2729c3-f709-4ffa-a146-70c90d0d12db",
   "metadata": {},
   "outputs": [],
   "source": [
    "a = abs(-10.75)\n",
    "a"
   ]
  },
  {
   "cell_type": "code",
   "execution_count": null,
   "id": "6a10effe-8e1e-4e61-9cf0-c25f7a1365ac",
   "metadata": {},
   "outputs": [],
   "source": [
    "# len()\n",
    "list1 = [2, 4, 6, 4, 3]\n",
    "print(len(list1))"
   ]
  },
  {
   "cell_type": "code",
   "execution_count": null,
   "id": "25ee351a-7803-4213-acb7-8195eff37a23",
   "metadata": {},
   "outputs": [],
   "source": [
    "list1 = [\"a\", \"c\", \"e\" \"z\" \"h\"]\n",
    "x = len(list1)\n",
    "print(x)"
   ]
  },
  {
   "cell_type": "code",
   "execution_count": null,
   "id": "2bf36c78-66e2-404c-a707-e0b189137136",
   "metadata": {},
   "outputs": [],
   "source": [
    "list1 = [\"a\", \"c\", \"e\", \"z\", \"h\"]\n",
    "x = len(list1)\n",
    "print(x)"
   ]
  },
  {
   "cell_type": "code",
   "execution_count": null,
   "id": "91422fba-52a2-4404-8232-25a04309c8cf",
   "metadata": {},
   "outputs": [],
   "source": [
    "# sum\n",
    "\n",
    "s = sum([20,35,70])\n",
    "s1 = sum((7,70,10))\n",
    "print(s)\n",
    "print(s1)"
   ]
  },
  {
   "cell_type": "code",
   "execution_count": null,
   "id": "4ec6c0b0-8081-4d7c-abb1-aa339a32c00d",
   "metadata": {},
   "outputs": [],
   "source": [
    "# max() and min()\n",
    "\n",
    "m1 = max(5,7,8,2,15)\n",
    "print(m1)"
   ]
  },
  {
   "cell_type": "code",
   "execution_count": null,
   "id": "b40fc08d-b727-4caf-b3fb-0381ba1ff73e",
   "metadata": {},
   "outputs": [],
   "source": [
    "m1 = min(5,7,8,2,15)\n",
    "print(m1)"
   ]
  },
  {
   "cell_type": "code",
   "execution_count": null,
   "id": "ece974ab-9abe-42cf-b708-1163337e6d49",
   "metadata": {},
   "outputs": [],
   "source": [
    "m1 = min([5,7,8,2,15])\n",
    "print(m1)"
   ]
  },
  {
   "cell_type": "code",
   "execution_count": null,
   "id": "5da6ff6f-d01b-46fa-acd1-1ecdca7e7343",
   "metadata": {},
   "outputs": [],
   "source": [
    "# pow()\n",
    "\n",
    "x1 = pow(4,2)\n",
    "print(x1)"
   ]
  },
  {
   "cell_type": "code",
   "execution_count": null,
   "id": "810933df-6a83-4d28-ba79-023e1fc0daf3",
   "metadata": {},
   "outputs": [],
   "source": [
    "x1 = pow(2,4)\n",
    "print(x1)"
   ]
  },
  {
   "cell_type": "code",
   "execution_count": null,
   "id": "fe74fa21-1b52-451d-953f-140f3d6bac16",
   "metadata": {},
   "outputs": [],
   "source": [
    "help(pow)"
   ]
  },
  {
   "cell_type": "code",
   "execution_count": null,
   "id": "19dc2c10-00bd-49f4-b989-999576b1992e",
   "metadata": {},
   "outputs": [],
   "source": [
    "# range()\n",
    "\n",
    "x = range(6)\n",
    "for n in x:\n",
    "    print(n)"
   ]
  },
  {
   "cell_type": "code",
   "execution_count": null,
   "id": "5dfeabbc-8c7a-421f-96bd-6e05d75a3343",
   "metadata": {},
   "outputs": [],
   "source": [
    "x = range(40,50,2)\n",
    "for n in x:\n",
    "    print(n)"
   ]
  },
  {
   "cell_type": "code",
   "execution_count": null,
   "id": "ff1aee62-2a69-47a8-9c42-71a5deb2dfac",
   "metadata": {},
   "outputs": [],
   "source": [
    "x = range(40,50,3)\n",
    "for n in x:\n",
    "    print(n)"
   ]
  },
  {
   "cell_type": "code",
   "execution_count": null,
   "id": "5daa4c9c-093a-4952-842a-731c86120b06",
   "metadata": {},
   "outputs": [],
   "source": [
    "x = range(40,50)\n",
    "for n in x:\n",
    "    print(n)"
   ]
  },
  {
   "cell_type": "code",
   "execution_count": null,
   "id": "f31b8294-35c1-4c9a-84e6-4f4941187ec4",
   "metadata": {},
   "outputs": [],
   "source": [
    "# round()\n",
    "x = round(8.64325535)\n",
    "print(x)"
   ]
  },
  {
   "cell_type": "code",
   "execution_count": null,
   "id": "a187764c-b1d9-4d61-a9b2-9d20cb0ebd62",
   "metadata": {},
   "outputs": [],
   "source": [
    "x = round(8.64325535, 3)\n",
    "print(x)"
   ]
  },
  {
   "cell_type": "code",
   "execution_count": null,
   "id": "5f114de2-94d1-4428-930b-4c09d584734b",
   "metadata": {},
   "outputs": [],
   "source": [
    "# Sorted()\n",
    "a = ['W', 'B', 'L,', 'A', 'g']\n",
    "x = sorted(a)\n",
    "print(x)"
   ]
  },
  {
   "cell_type": "code",
   "execution_count": null,
   "id": "07b0f488-9706-411b-a2a6-4606f2265c05",
   "metadata": {},
   "outputs": [],
   "source": [
    "m1 = (5,7,8,2,15)\n",
    "x = sorted(m1)\n",
    "print(x)"
   ]
  },
  {
   "cell_type": "code",
   "execution_count": null,
   "id": "17ea91f9-16a6-4a2e-b246-4f88894dfcb1",
   "metadata": {},
   "outputs": [],
   "source": [
    "m1 = (5,7,8,2,15)\n",
    "x = sorted(m1, reverse=True)\n",
    "print(x)"
   ]
  },
  {
   "cell_type": "code",
   "execution_count": null,
   "id": "8884378e-626a-48e1-85da-4e4a83c36ba7",
   "metadata": {},
   "outputs": [],
   "source": [
    "b = [\"d\", \"r\", \"e\", \"a\", \"b\"]\n",
    "x = sorted(b, reverse=True)\n",
    "print(x)"
   ]
  },
  {
   "cell_type": "code",
   "execution_count": null,
   "id": "cac7b960-4c58-448c-bd05-2ba91127503c",
   "metadata": {},
   "outputs": [],
   "source": [
    "b = [\"d\", \"r\", \"e\", \"a\", \"b\"]\n",
    "x = sorted(b)\n",
    "print(x)"
   ]
  },
  {
   "cell_type": "code",
   "execution_count": null,
   "id": "acf11146-4532-4582-8877-b34a7b94cda7",
   "metadata": {},
   "outputs": [],
   "source": [
    "# slice()\n",
    "\n",
    "a = ('S', 'I', 'M', 'P', 'L', 'I', 'F', 'I', 'C', 'A', 'T', 'I', 'O', 'N')\n",
    "x = slice(7)\n",
    "print(a[x])"
   ]
  },
  {
   "cell_type": "code",
   "execution_count": null,
   "id": "2fa7cf90-5bdb-48c5-819f-6f7657aec3bc",
   "metadata": {},
   "outputs": [],
   "source": []
  },
  {
   "cell_type": "markdown",
   "id": "25447171-3d55-4fe4-bdd2-44a9edea73ac",
   "metadata": {},
   "source": [
    "#### def keyword\n",
    "\n",
    "##### Let's see how to build out a function's syntax in Python. It hs the following form:"
   ]
  },
  {
   "cell_type": "code",
   "execution_count": null,
   "id": "010acb59-159e-422c-9855-2fe906bdb882",
   "metadata": {},
   "outputs": [],
   "source": [
    "def name_of_function(arg1,arg2):\n",
    "    this is where the fuction's Document String (docstring) goes\n",
    "    when you call help() on your function it will be printed out."
   ]
  },
  {
   "cell_type": "markdown",
   "id": "5e2d6e02-736c-40df-b0bc-5b2f428acdf9",
   "metadata": {},
   "source": [
    "#### Simple example of function"
   ]
  },
  {
   "cell_type": "markdown",
   "id": "e3b25683-7362-4f5b-9293-2635aabadbbe",
   "metadata": {},
   "source": [
    "##### User-defined functions"
   ]
  },
  {
   "cell_type": "code",
   "execution_count": null,
   "id": "8a1fb3e5-7223-40b8-866f-dd6e38df1954",
   "metadata": {},
   "outputs": [],
   "source": [
    "def func1():\n",
    "    print('Hello World')\n",
    "\n",
    "func1()"
   ]
  },
  {
   "cell_type": "code",
   "execution_count": null,
   "id": "7d4dcb03-67eb-439e-bb3a-84ce078e3284",
   "metadata": {},
   "outputs": [],
   "source": [
    "def fn1():\n",
    "    print('Okay')\n",
    "\n",
    "fn1()"
   ]
  },
  {
   "cell_type": "code",
   "execution_count": null,
   "id": "38989dd9-a289-4436-9075-ea74e3b90722",
   "metadata": {},
   "outputs": [],
   "source": [
    "def Name():\n",
    "    print(\"my name is Dare\")\n",
    "\n",
    "Name()"
   ]
  },
  {
   "cell_type": "code",
   "execution_count": null,
   "id": "6bd290f1-e2fa-4b7f-a546-44951698c5e2",
   "metadata": {},
   "outputs": [],
   "source": [
    "def hello():\n",
    "    name = str(input('Enter your country name: '))\n",
    "    print(\"Hello \" + str(name))\n",
    "\n",
    "hello()"
   ]
  },
  {
   "cell_type": "code",
   "execution_count": null,
   "id": "55934e7d-f24b-47f4-952c-5d6055d49411",
   "metadata": {},
   "outputs": [],
   "source": [
    "def hello():\n",
    "    name = str(input('Enter your country name: '))\n",
    "    print(\"Hello \" + str(name))\n",
    "\n",
    "hello()"
   ]
  },
  {
   "cell_type": "code",
   "execution_count": null,
   "id": "ca1d1f42-da14-4bcf-bb23-5ab686c51025",
   "metadata": {},
   "outputs": [],
   "source": [
    "Name()"
   ]
  },
  {
   "cell_type": "code",
   "execution_count": null,
   "id": "523e2411-4225-4be9-8a45-8be14f2308ea",
   "metadata": {},
   "outputs": [],
   "source": [
    "def hello():\n",
    "    name = str(input('Enter your country name: '))\n",
    "    print(\"Hello \" + (name))\n",
    "\n",
    "hello()"
   ]
  },
  {
   "cell_type": "code",
   "execution_count": null,
   "id": "3109f5f2-591e-45e6-beff-26cd01cd8a17",
   "metadata": {},
   "outputs": [],
   "source": [
    "def ft_to_cm(ft):\n",
    "    centimeter = ft * 30.48\n",
    "    return centimeter\n",
    "\n",
    "ft_to_cm(5)"
   ]
  },
  {
   "cell_type": "markdown",
   "id": "650a7571-15a0-44c4-bc72-70b63482bdaf",
   "metadata": {},
   "source": [
    "##### Calling a function with ()"
   ]
  },
  {
   "cell_type": "code",
   "execution_count": null,
   "id": "9b2dc993-f812-4d30-9c69-343b179b9efd",
   "metadata": {},
   "outputs": [],
   "source": []
  },
  {
   "cell_type": "markdown",
   "id": "f233e796-7158-4ab4-9cda-22bd7c8e0263",
   "metadata": {},
   "source": [
    "##### accepting parameters (arguments)\n",
    "##### Let's write a function that greets people with their name. "
   ]
  },
  {
   "cell_type": "code",
   "execution_count": 38,
   "id": "81f844eb-f718-4f7c-9e26-8d9ef7660bc2",
   "metadata": {},
   "outputs": [
    {
     "name": "stdout",
     "output_type": "stream",
     "text": [
      "hello Segun\n"
     ]
    }
   ],
   "source": [
    "def greeting(name):\n",
    "    print(f'hello {name}')\n",
    "\n",
    "greeting('Segun')"
   ]
  },
  {
   "cell_type": "code",
   "execution_count": null,
   "id": "5031aa0a-8b4f-4994-bcc5-5d58e5668d23",
   "metadata": {},
   "outputs": [],
   "source": []
  },
  {
   "cell_type": "markdown",
   "id": "e31cfded-3308-4c18-9992-2b671dd428fc",
   "metadata": {},
   "source": [
    "## Using return\n",
    "\n",
    "##### so far we've only seen print() used, but if we actually want to save the resulting variable we need to use the **return** keyword.\n",
    "\n",
    "##### let's see some example that use a return statement. return allow a function to result a result that can then be stored as a variable, or used in whatever\n",
    "\n",
    "##### Example: Addition function"
   ]
  },
  {
   "cell_type": "code",
   "execution_count": 1,
   "id": "12b0a9cf-273b-4736-81fb-6db2a707e6f7",
   "metadata": {},
   "outputs": [
    {
     "data": {
      "text/plain": [
       "9"
      ]
     },
     "execution_count": 1,
     "metadata": {},
     "output_type": "execute_result"
    }
   ],
   "source": [
    "def add_num(num1, num2):\n",
    "    return num1+num2\n",
    "\n",
    "add_num(4,5)"
   ]
  },
  {
   "cell_type": "code",
   "execution_count": 2,
   "id": "696246bf-5ee0-4ea3-9dc6-019b409ce0de",
   "metadata": {},
   "outputs": [
    {
     "name": "stdout",
     "output_type": "stream",
     "text": [
      "9\n"
     ]
    }
   ],
   "source": [
    "# Can also save as variable due to return\n",
    "\n",
    "result = add_num(4,5)\n",
    "print(result)"
   ]
  },
  {
   "cell_type": "code",
   "execution_count": 3,
   "id": "75695373-7d77-4e7e-b816-d9de73ac9078",
   "metadata": {},
   "outputs": [
    {
     "data": {
      "text/plain": [
       "'onetwo'"
      ]
     },
     "execution_count": 3,
     "metadata": {},
     "output_type": "execute_result"
    }
   ],
   "source": [
    "add_num('one', 'two')"
   ]
  },
  {
   "cell_type": "code",
   "execution_count": null,
   "id": "dde68d05-fbe5-4219-9690-9cdae4755def",
   "metadata": {},
   "outputs": [],
   "source": []
  },
  {
   "cell_type": "markdown",
   "id": "13e183d6-c3f1-41c4-b06c-30020813feef",
   "metadata": {},
   "source": [
    "#### What is the diff btw return and print?\n",
    "\n",
    "##### The return keyword allows you to actually save the result of the output of a function as a variable. the print() function simply displays the output to you, but doesn't save it for future use. lets explore this in more detail"
   ]
  },
  {
   "cell_type": "code",
   "execution_count": 4,
   "id": "47ef2847-de31-4823-8cdc-8f9790051e6c",
   "metadata": {},
   "outputs": [
    {
     "data": {
      "text/plain": [
       "<function __main__.print_result(a, b)>"
      ]
     },
     "execution_count": 4,
     "metadata": {},
     "output_type": "execute_result"
    }
   ],
   "source": [
    "def print_result(a,b):\n",
    "    print(a+b)\n",
    "\n",
    "print_result"
   ]
  },
  {
   "cell_type": "code",
   "execution_count": 5,
   "id": "e12ecbc8-8da0-4809-ba6b-85c5df675049",
   "metadata": {},
   "outputs": [
    {
     "data": {
      "text/plain": [
       "<function __main__.return_result(a, b)>"
      ]
     },
     "execution_count": 5,
     "metadata": {},
     "output_type": "execute_result"
    }
   ],
   "source": [
    "def return_result(a,b):\n",
    "    return a+b\n",
    "\n",
    "return_result"
   ]
  },
  {
   "cell_type": "code",
   "execution_count": 6,
   "id": "96edf2b8-df99-4b36-bbcc-d813cb9d5ffe",
   "metadata": {},
   "outputs": [
    {
     "name": "stdout",
     "output_type": "stream",
     "text": [
      "15\n"
     ]
    }
   ],
   "source": [
    "print_result(10,5)"
   ]
  },
  {
   "cell_type": "code",
   "execution_count": 7,
   "id": "82cb3064-d5e4-41c6-90e6-5b129bff84fa",
   "metadata": {},
   "outputs": [
    {
     "data": {
      "text/plain": [
       "15"
      ]
     },
     "execution_count": 7,
     "metadata": {},
     "output_type": "execute_result"
    }
   ],
   "source": [
    "# You wont see any output if you run this in a .py script\n",
    "return_result(10,5) \n"
   ]
  },
  {
   "cell_type": "code",
   "execution_count": null,
   "id": "18070708-4fbd-4640-871f-126a66ed124e",
   "metadata": {},
   "outputs": [],
   "source": []
  },
  {
   "cell_type": "markdown",
   "id": "777d3361-c792-4190-8329-b809054b2d2e",
   "metadata": {},
   "source": [
    "##### But what happens if we actually want to save this result for later use?"
   ]
  },
  {
   "cell_type": "code",
   "execution_count": 8,
   "id": "1ed67a9c-a221-466a-a95e-0c2301df8afa",
   "metadata": {},
   "outputs": [
    {
     "name": "stdout",
     "output_type": "stream",
     "text": [
      "40\n"
     ]
    }
   ],
   "source": [
    "my_result = print_result(20,20)"
   ]
  },
  {
   "cell_type": "code",
   "execution_count": 9,
   "id": "2761cf16-a705-4d6b-b6d2-a1447d23a8c0",
   "metadata": {},
   "outputs": [],
   "source": [
    "my_result"
   ]
  },
  {
   "cell_type": "code",
   "execution_count": 10,
   "id": "a2752f4a-7039-49b1-9a45-ff4760819413",
   "metadata": {},
   "outputs": [
    {
     "data": {
      "text/plain": [
       "NoneType"
      ]
     },
     "execution_count": 10,
     "metadata": {},
     "output_type": "execute_result"
    }
   ],
   "source": [
    "type(my_result)"
   ]
  },
  {
   "cell_type": "markdown",
   "id": "220d365b-454d-4d47-89c9-90fe936da79a",
   "metadata": {},
   "source": [
    "#### Be careful! Notice how print_result() doesnt let you actually save the result to a variable! it only prints it out,with print() returning None for the assignment"
   ]
  },
  {
   "cell_type": "code",
   "execution_count": 14,
   "id": "fc3487d1-510e-42b2-aabe-bdfa5e209c1e",
   "metadata": {},
   "outputs": [],
   "source": [
    "my_result = return_result(20,20)"
   ]
  },
  {
   "cell_type": "code",
   "execution_count": 15,
   "id": "65f053d1-9782-4dca-8a58-f858fbe73092",
   "metadata": {},
   "outputs": [
    {
     "data": {
      "text/plain": [
       "40"
      ]
     },
     "execution_count": 15,
     "metadata": {},
     "output_type": "execute_result"
    }
   ],
   "source": [
    "my_result"
   ]
  },
  {
   "cell_type": "code",
   "execution_count": 16,
   "id": "c7796b26-c7c0-4473-85c0-28d20d20feed",
   "metadata": {},
   "outputs": [
    {
     "data": {
      "text/plain": [
       "80"
      ]
     },
     "execution_count": 16,
     "metadata": {},
     "output_type": "execute_result"
    }
   ],
   "source": [
    "my_result + my_result"
   ]
  },
  {
   "cell_type": "code",
   "execution_count": 17,
   "id": "af1ddbb8-8713-486d-ad60-2e1426a06454",
   "metadata": {},
   "outputs": [
    {
     "data": {
      "text/plain": [
       "int"
      ]
     },
     "execution_count": 17,
     "metadata": {},
     "output_type": "execute_result"
    }
   ],
   "source": [
    "type(my_result)"
   ]
  },
  {
   "cell_type": "code",
   "execution_count": 18,
   "id": "d1806d06-3764-4f93-bdfa-0cb4aa6feedd",
   "metadata": {},
   "outputs": [
    {
     "data": {
      "text/plain": [
       "int"
      ]
     },
     "execution_count": 18,
     "metadata": {},
     "output_type": "execute_result"
    }
   ],
   "source": [
    "type(my_result + my_result)"
   ]
  },
  {
   "cell_type": "code",
   "execution_count": 19,
   "id": "6e070758-7229-475f-ac6d-63af39bc069b",
   "metadata": {},
   "outputs": [],
   "source": [
    "def add(x,y):\n",
    "    sum = x + y\n",
    "    print(sum)"
   ]
  },
  {
   "cell_type": "code",
   "execution_count": 20,
   "id": "7b2bae56-774e-49db-a71a-9ded5016303a",
   "metadata": {},
   "outputs": [
    {
     "name": "stdout",
     "output_type": "stream",
     "text": [
      "100\n"
     ]
    }
   ],
   "source": [
    "add(40,60)"
   ]
  },
  {
   "cell_type": "code",
   "execution_count": 21,
   "id": "c2c57ad4-bbe5-41d8-b86c-5281892157ff",
   "metadata": {},
   "outputs": [
    {
     "name": "stdout",
     "output_type": "stream",
     "text": [
      "-20\n"
     ]
    }
   ],
   "source": [
    "add(-30,10)"
   ]
  },
  {
   "cell_type": "code",
   "execution_count": 26,
   "id": "f8d14cce-47cd-4ee6-8da7-ff46e1dbe2e9",
   "metadata": {},
   "outputs": [
    {
     "name": "stdout",
     "output_type": "stream",
     "text": [
      "240\n"
     ]
    }
   ],
   "source": [
    "def multiply(x,y):\n",
    "    product = x * y\n",
    "    print(product)\n",
    "    \n",
    "multiply(-20,-12)"
   ]
  },
  {
   "cell_type": "code",
   "execution_count": 27,
   "id": "e6e47e63-96dc-441b-ab6a-273d4f77cc5e",
   "metadata": {},
   "outputs": [
    {
     "name": "stdout",
     "output_type": "stream",
     "text": [
      "50\n"
     ]
    }
   ],
   "source": [
    "multiply(10,5)"
   ]
  },
  {
   "cell_type": "code",
   "execution_count": 37,
   "id": "d020e680-5495-4e2d-93b9-16cb13c0b4b0",
   "metadata": {},
   "outputs": [
    {
     "data": {
      "text/plain": [
       "56"
      ]
     },
     "execution_count": 37,
     "metadata": {},
     "output_type": "execute_result"
    }
   ],
   "source": [
    "def absolute(x):\n",
    "    if x >= 0:\n",
    "        return x\n",
    "    else:\n",
    "        return -x\n",
    "\n",
    "absolute(56)"
   ]
  },
  {
   "cell_type": "code",
   "execution_count": null,
   "id": "ab7680cf-174b-4710-9542-48cd12f3ea86",
   "metadata": {},
   "outputs": [],
   "source": []
  },
  {
   "cell_type": "code",
   "execution_count": null,
   "id": "36af7253-5532-4fc8-92b6-471425c9a30d",
   "metadata": {},
   "outputs": [],
   "source": []
  },
  {
   "cell_type": "code",
   "execution_count": null,
   "id": "84a235f7-2c3a-4f01-b7bc-3a6b0f5a95d5",
   "metadata": {},
   "outputs": [],
   "source": []
  },
  {
   "cell_type": "code",
   "execution_count": null,
   "id": "af76fb6b-ce83-4359-bed0-cdcb415911a9",
   "metadata": {},
   "outputs": [],
   "source": []
  },
  {
   "cell_type": "code",
   "execution_count": null,
   "id": "f6f01f5a-8399-414e-affc-fc6cdc8b38de",
   "metadata": {},
   "outputs": [],
   "source": []
  },
  {
   "cell_type": "code",
   "execution_count": null,
   "id": "485bee49-d241-4176-a7c0-98bbe0cf1679",
   "metadata": {},
   "outputs": [],
   "source": []
  },
  {
   "cell_type": "code",
   "execution_count": null,
   "id": "bd3255b6-8f9f-48c7-9e4a-97c85caa9b44",
   "metadata": {},
   "outputs": [],
   "source": []
  },
  {
   "cell_type": "code",
   "execution_count": null,
   "id": "783c3cdd-0fef-4489-8293-ee08419786e9",
   "metadata": {},
   "outputs": [],
   "source": []
  },
  {
   "cell_type": "code",
   "execution_count": null,
   "id": "2cdb256d-1b36-4be5-8b60-6792622b66ab",
   "metadata": {},
   "outputs": [],
   "source": []
  },
  {
   "cell_type": "code",
   "execution_count": null,
   "id": "5dce197c-d443-4caa-aeac-6f9e119e2866",
   "metadata": {},
   "outputs": [],
   "source": []
  },
  {
   "cell_type": "code",
   "execution_count": null,
   "id": "9d529350-2aa0-4007-b454-081258ffe328",
   "metadata": {},
   "outputs": [],
   "source": []
  },
  {
   "cell_type": "code",
   "execution_count": null,
   "id": "1a739035-98fe-4254-ad02-f2d8b77d3589",
   "metadata": {},
   "outputs": [],
   "source": []
  },
  {
   "cell_type": "code",
   "execution_count": null,
   "id": "9655c993-ad32-470c-ad53-c090c301c010",
   "metadata": {},
   "outputs": [],
   "source": []
  },
  {
   "cell_type": "code",
   "execution_count": null,
   "id": "c43e5330-de45-4a18-8675-f4934ec56d28",
   "metadata": {},
   "outputs": [],
   "source": []
  }
 ],
 "metadata": {
  "kernelspec": {
   "display_name": "Python 3 (ipykernel)",
   "language": "python",
   "name": "python3"
  },
  "language_info": {
   "codemirror_mode": {
    "name": "ipython",
    "version": 3
   },
   "file_extension": ".py",
   "mimetype": "text/x-python",
   "name": "python",
   "nbconvert_exporter": "python",
   "pygments_lexer": "ipython3",
   "version": "3.12.4"
  }
 },
 "nbformat": 4,
 "nbformat_minor": 5
}
