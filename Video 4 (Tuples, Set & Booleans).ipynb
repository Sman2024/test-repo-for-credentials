{
 "cells": [
  {
   "cell_type": "markdown",
   "id": "ad3376d8-d8c7-4104-9b30-36c53524cab4",
   "metadata": {},
   "source": [
    "#### Tuples\n",
    "\n",
    "###### In Python tuples are very similar to list, however, unlike lists they are immutable meaning they can not be changed. You would use tuples to present things that should'nt be changed, such as days of the week, or dates on a calendar.\n",
    "\n",
    "###### In this section, we will get a brief overview of the following:\n",
    "\n",
    "         1. Constructing Tuples\n",
    "         2. Basic Tuples Methods\n",
    "         3. Immutability \n",
    "         4. When to use Tuples\n",
    "\n",
    "###### You'll have an intuition of how to use tuples based on what yuo've learnd about this. We can treat them very similar with the major distinction beng that tuples are immutable\n",
    "\n",
    "#### Contructing Tuples\n",
    "\n",
    "###### The construction of a tuples use () with element separated by commas. e.g"
   ]
  },
  {
   "cell_type": "code",
   "execution_count": 1,
   "id": "695ec378-f4db-48a6-9f81-a1ea0bb7b258",
   "metadata": {},
   "outputs": [
    {
     "data": {
      "text/plain": [
       "3"
      ]
     },
     "execution_count": 1,
     "metadata": {},
     "output_type": "execute_result"
    }
   ],
   "source": [
    "# Create a tuple\n",
    "t = (1,2,3)\n",
    "\n",
    "# check len just like a list\n",
    "len(t)"
   ]
  },
  {
   "cell_type": "code",
   "execution_count": 2,
   "id": "3280b5da-b571-49cc-b9a7-531e6ef8ae1e",
   "metadata": {},
   "outputs": [
    {
     "data": {
      "text/plain": [
       "('one', 2)"
      ]
     },
     "execution_count": 2,
     "metadata": {},
     "output_type": "execute_result"
    }
   ],
   "source": [
    "# can also mix object types\n",
    "t = ('one',2)\n",
    "t"
   ]
  },
  {
   "cell_type": "code",
   "execution_count": 3,
   "id": "d68479f5-d783-4493-af11-c5c33172bbf7",
   "metadata": {},
   "outputs": [
    {
     "data": {
      "text/plain": [
       "'one'"
      ]
     },
     "execution_count": 3,
     "metadata": {},
     "output_type": "execute_result"
    }
   ],
   "source": [
    "#Use indexing just like we did in lists\n",
    "t[0]"
   ]
  },
  {
   "cell_type": "code",
   "execution_count": 4,
   "id": "76302a74-17d7-42b1-898e-5432c6320ba7",
   "metadata": {},
   "outputs": [
    {
     "data": {
      "text/plain": [
       "2"
      ]
     },
     "execution_count": 4,
     "metadata": {},
     "output_type": "execute_result"
    }
   ],
   "source": [
    "t[1]"
   ]
  },
  {
   "cell_type": "code",
   "execution_count": 5,
   "id": "c0043e3f-2ed8-4f9e-82ae-4f732eaf68ee",
   "metadata": {},
   "outputs": [
    {
     "data": {
      "text/plain": [
       "2"
      ]
     },
     "execution_count": 5,
     "metadata": {},
     "output_type": "execute_result"
    }
   ],
   "source": [
    "# Slicing just like a list\n",
    "t[-1]"
   ]
  },
  {
   "cell_type": "code",
   "execution_count": 6,
   "id": "f63ad131-de59-4a8e-89da-4810a601a7c2",
   "metadata": {},
   "outputs": [
    {
     "data": {
      "text/plain": [
       "'one'"
      ]
     },
     "execution_count": 6,
     "metadata": {},
     "output_type": "execute_result"
    }
   ],
   "source": [
    "t[-2]"
   ]
  },
  {
   "cell_type": "markdown",
   "id": "212448c4-27fd-4078-abdf-578a68a7e449",
   "metadata": {},
   "source": [
    "### Basic Tuple Methods\n",
    "\n",
    "##### Tuples have built-in methods, but not as many as lists do. Let's look at two of them "
   ]
  },
  {
   "cell_type": "code",
   "execution_count": 9,
   "id": "b628e414-d3a7-43d5-8fb9-5a04f2007f4c",
   "metadata": {},
   "outputs": [
    {
     "data": {
      "text/plain": [
       "0"
      ]
     },
     "execution_count": 9,
     "metadata": {},
     "output_type": "execute_result"
    }
   ],
   "source": [
    "# Use .index to enter a value and return the index\n",
    "t.index('one')"
   ]
  },
  {
   "cell_type": "code",
   "execution_count": 14,
   "id": "844b99e3-95a0-461e-bbd8-9ac920d90efd",
   "metadata": {},
   "outputs": [
    {
     "data": {
      "text/plain": [
       "1"
      ]
     },
     "execution_count": 14,
     "metadata": {},
     "output_type": "execute_result"
    }
   ],
   "source": [
    "t.index(2)"
   ]
  },
  {
   "cell_type": "code",
   "execution_count": 10,
   "id": "00e9d65f-8c91-48c4-9103-4093ea103c1e",
   "metadata": {},
   "outputs": [
    {
     "data": {
      "text/plain": [
       "1"
      ]
     },
     "execution_count": 10,
     "metadata": {},
     "output_type": "execute_result"
    }
   ],
   "source": [
    "# Use .count to count the number of times a value appears\n",
    "t.count('one')"
   ]
  },
  {
   "cell_type": "markdown",
   "id": "eae73bff-b3dd-4058-b5c7-768d981b8e1b",
   "metadata": {},
   "source": [
    "### ***Immutability***\n",
    "\n",
    "##### It cant be stressed enough that tuples are immutable. To drive that point home:"
   ]
  },
  {
   "cell_type": "code",
   "execution_count": 15,
   "id": "f6d23994-1e19-422d-a44c-2edaf910f200",
   "metadata": {},
   "outputs": [
    {
     "ename": "TypeError",
     "evalue": "'tuple' object does not support item assignment",
     "output_type": "error",
     "traceback": [
      "\u001b[1;31m---------------------------------------------------------------------------\u001b[0m",
      "\u001b[1;31mTypeError\u001b[0m                                 Traceback (most recent call last)",
      "Cell \u001b[1;32mIn[15], line 1\u001b[0m\n\u001b[1;32m----> 1\u001b[0m t[\u001b[38;5;241m0\u001b[39m]\u001b[38;5;241m=\u001b[39m \u001b[38;5;124m'\u001b[39m\u001b[38;5;124mchange\u001b[39m\u001b[38;5;124m'\u001b[39m\n\u001b[0;32m      2\u001b[0m t\n",
      "\u001b[1;31mTypeError\u001b[0m: 'tuple' object does not support item assignment"
     ]
    }
   ],
   "source": [
    "t[0]= 'change'\n",
    "t"
   ]
  },
  {
   "cell_type": "markdown",
   "id": "d411635f-f143-4b4a-b2d1-56a5262e3921",
   "metadata": {},
   "source": [
    "###### U get the error because of this immutability, tuples can't grow. Once a tuple is made we can not add to it"
   ]
  },
  {
   "cell_type": "code",
   "execution_count": 16,
   "id": "d9d54256-f5ae-40dc-819d-ff81042c95a0",
   "metadata": {},
   "outputs": [
    {
     "ename": "AttributeError",
     "evalue": "'tuple' object has no attribute 'append'",
     "output_type": "error",
     "traceback": [
      "\u001b[1;31m---------------------------------------------------------------------------\u001b[0m",
      "\u001b[1;31mAttributeError\u001b[0m                            Traceback (most recent call last)",
      "Cell \u001b[1;32mIn[16], line 1\u001b[0m\n\u001b[1;32m----> 1\u001b[0m t\u001b[38;5;241m.\u001b[39mappend(\u001b[38;5;124m'\u001b[39m\u001b[38;5;124mnope\u001b[39m\u001b[38;5;124m'\u001b[39m)\n",
      "\u001b[1;31mAttributeError\u001b[0m: 'tuple' object has no attribute 'append'"
     ]
    }
   ],
   "source": [
    "t.append('nope')"
   ]
  },
  {
   "cell_type": "markdown",
   "id": "b05148c9-592f-4d0d-8429-540a2c532822",
   "metadata": {},
   "source": [
    "###### because of this immutability, tuples can't grow. Once a tuple is made we can not add to it."
   ]
  },
  {
   "cell_type": "markdown",
   "id": "85cd1a27-f91d-4b03-9b04-a2ff68e952be",
   "metadata": {},
   "source": [
    "### **When to use Tuples**\n",
    "\n",
    "###### You may be wondering, \"Why bother using tuples when they have fewer available methods?\" To be honest, tuples are not used as often as lists in programming, but are used when immutability is necessary. If in your program you are passing around an object and need to make sure it does not get changed, then a tuple becomes your solution. It provides a convenience source of data integrity.\n",
    "\n",
    "###### You should now be able to create and use tuples in ur programming as well as have an understanding of their immutability"
   ]
  },
  {
   "cell_type": "code",
   "execution_count": null,
   "id": "4ea55039-85c8-4806-b144-fdb378cfcbe0",
   "metadata": {},
   "outputs": [],
   "source": []
  },
  {
   "cell_type": "markdown",
   "id": "032ab546-efdf-43da-a205-9d5abb34e1ee",
   "metadata": {},
   "source": [
    "### Set and Booleans\n",
    "\n",
    "##### There are two other object types in Python that we should quickly cover: Sets and Booleans.\n",
    "\n",
    "\n",
    "### Sets\n",
    "\n",
    "##### Sets are unordered collection of unique elements. We can construct them by using the set() function. let's go ahead and make a set to see how it works"
   ]
  },
  {
   "cell_type": "code",
   "execution_count": 18,
   "id": "111883f7-8607-4209-aefd-41179a82b70a",
   "metadata": {},
   "outputs": [
    {
     "data": {
      "text/plain": [
       "{1}"
      ]
     },
     "execution_count": 18,
     "metadata": {},
     "output_type": "execute_result"
    }
   ],
   "source": [
    "x = set()\n",
    "\n",
    "# We add to sets with the add() method\n",
    "x.add(1)\n",
    "\n",
    "x"
   ]
  },
  {
   "cell_type": "markdown",
   "id": "6e7d6325-3ff1-4351-a877-46a3a05c578e",
   "metadata": {},
   "source": [
    "##### Note the curly brackets. This does not indicate a dictionary! Although you can draw analogies as a set being a dictionary with only keys.\n",
    "##### We know that a set has only unique entries. So what happens when we try to add something that is already in a set?"
   ]
  },
  {
   "cell_type": "code",
   "execution_count": 21,
   "id": "b61f2d18-4630-4e01-9689-16281a9b0196",
   "metadata": {},
   "outputs": [
    {
     "data": {
      "text/plain": [
       "{1, 2}"
      ]
     },
     "execution_count": 21,
     "metadata": {},
     "output_type": "execute_result"
    }
   ],
   "source": [
    "# Add a different element\n",
    "x.add(2)\n",
    "x"
   ]
  },
  {
   "cell_type": "code",
   "execution_count": 24,
   "id": "2ffb7914-54f1-491d-9beb-177bdc0e57b1",
   "metadata": {},
   "outputs": [
    {
     "data": {
      "text/plain": [
       "{1, 2, 3}"
      ]
     },
     "execution_count": 24,
     "metadata": {},
     "output_type": "execute_result"
    }
   ],
   "source": [
    "x.add(3)\n",
    "x"
   ]
  },
  {
   "cell_type": "code",
   "execution_count": 25,
   "id": "8823104d-728e-4c14-abd4-609daf784447",
   "metadata": {},
   "outputs": [
    {
     "data": {
      "text/plain": [
       "{1, 2, 3}"
      ]
     },
     "execution_count": 25,
     "metadata": {},
     "output_type": "execute_result"
    }
   ],
   "source": [
    "x.add(1)\n",
    "x"
   ]
  },
  {
   "cell_type": "markdown",
   "id": "517e500b-f563-4142-9708-6607c219aea0",
   "metadata": {},
   "source": [
    "##### Notice how it won't place another 1 there. That's because a set is only concerned with unique elements! We can cast a **List** with multiple repeat elements to a set to get the unique elements. e.g"
   ]
  },
  {
   "cell_type": "code",
   "execution_count": 26,
   "id": "dbe6c756-cc0a-4f26-b484-b75122e1e6a6",
   "metadata": {},
   "outputs": [
    {
     "data": {
      "text/plain": [
       "{1, 2, 3, 4, 5, 6}"
      ]
     },
     "execution_count": 26,
     "metadata": {},
     "output_type": "execute_result"
    }
   ],
   "source": [
    "# create a list with repeats\n",
    "list1 = [1,1,2,2,3,4,5,6,1,1]\n",
    "\n",
    "# Cast as set to get unique values\n",
    "set(list1)"
   ]
  },
  {
   "cell_type": "code",
   "execution_count": 27,
   "id": "4ed55b4f-470a-465b-86ef-68f957d6d521",
   "metadata": {},
   "outputs": [
    {
     "data": {
      "text/plain": [
       "[1, 1, 2, 2, 3, 4, 5, 6, 1, 1]"
      ]
     },
     "execution_count": 27,
     "metadata": {},
     "output_type": "execute_result"
    }
   ],
   "source": [
    "list1"
   ]
  },
  {
   "cell_type": "markdown",
   "id": "a1abf5eb-03b9-4265-9110-b4c4b4ddaff4",
   "metadata": {},
   "source": [
    "### Boleans\n",
    "\n",
    "##### Python comes with Booleans (with predefined True and False displays that are basically just the integers 1 and 0). It also has a placeholder object called None. E.g"
   ]
  },
  {
   "cell_type": "code",
   "execution_count": 28,
   "id": "bc3d8174-94bb-4830-9230-3e803294c4ae",
   "metadata": {},
   "outputs": [
    {
     "data": {
      "text/plain": [
       "True"
      ]
     },
     "execution_count": 28,
     "metadata": {},
     "output_type": "execute_result"
    }
   ],
   "source": [
    "# Set object to be boolean\n",
    "a = True\n",
    "a"
   ]
  },
  {
   "cell_type": "markdown",
   "id": "67cd8edf-5260-4c54-9638-a8b472559752",
   "metadata": {},
   "source": [
    "##### We can also use comparison operators to create booleans. We will go over all the comparison operators later on in the course"
   ]
  },
  {
   "cell_type": "code",
   "execution_count": 29,
   "id": "c2482a04-ecd7-40b1-a2bb-9461e9da39c8",
   "metadata": {},
   "outputs": [
    {
     "data": {
      "text/plain": [
       "False"
      ]
     },
     "execution_count": 29,
     "metadata": {},
     "output_type": "execute_result"
    }
   ],
   "source": [
    "# Otput is boolean\n",
    "1 > 2"
   ]
  },
  {
   "cell_type": "code",
   "execution_count": 30,
   "id": "5c53678e-fa80-4c24-9976-757997d2e1f4",
   "metadata": {},
   "outputs": [
    {
     "data": {
      "text/plain": [
       "True"
      ]
     },
     "execution_count": 30,
     "metadata": {},
     "output_type": "execute_result"
    }
   ],
   "source": [
    "3 > 2"
   ]
  },
  {
   "cell_type": "code",
   "execution_count": 31,
   "id": "b3758c44-69f6-4173-8ea4-d9b8ffa1ed81",
   "metadata": {},
   "outputs": [
    {
     "data": {
      "text/plain": [
       "True"
      ]
     },
     "execution_count": 31,
     "metadata": {},
     "output_type": "execute_result"
    }
   ],
   "source": [
    "3 < 5"
   ]
  },
  {
   "cell_type": "markdown",
   "id": "62c7ff6f-c921-4d7e-9f6a-56a261bf19d6",
   "metadata": {},
   "source": [
    "##### We can use None as a placeholder for an object that we dont want to reassign yet:"
   ]
  },
  {
   "cell_type": "code",
   "execution_count": 32,
   "id": "00bfab05-bae8-4f30-befb-c89b4683a648",
   "metadata": {},
   "outputs": [
    {
     "name": "stdout",
     "output_type": "stream",
     "text": [
      "None\n"
     ]
    }
   ],
   "source": [
    "# None placeholder\n",
    "b = None\n",
    "# show\n",
    "print(b)"
   ]
  },
  {
   "cell_type": "markdown",
   "id": "0de8add7-2ba2-428b-8fd8-5578c6ff0fe7",
   "metadata": {},
   "source": [
    "##### Thats it! You should now have a basic understanding of Python objects and data structure types. Next, go ahead and do the assignment test! "
   ]
  },
  {
   "cell_type": "code",
   "execution_count": 33,
   "id": "cb963240-4481-47b4-8163-8eadf7c2c28d",
   "metadata": {},
   "outputs": [
    {
     "data": {
      "text/plain": [
       "10"
      ]
     },
     "execution_count": 33,
     "metadata": {},
     "output_type": "execute_result"
    }
   ],
   "source": [
    "b = 10\n",
    "b"
   ]
  },
  {
   "cell_type": "code",
   "execution_count": 34,
   "id": "28f236af-acae-4350-bb80-f8c7967531da",
   "metadata": {},
   "outputs": [
    {
     "data": {
      "text/plain": [
       "False"
      ]
     },
     "execution_count": 34,
     "metadata": {},
     "output_type": "execute_result"
    }
   ],
   "source": [
    "4 < 2"
   ]
  },
  {
   "cell_type": "code",
   "execution_count": null,
   "id": "a4c8f866-ae4d-4e65-9909-1a0a17150034",
   "metadata": {},
   "outputs": [],
   "source": []
  },
  {
   "cell_type": "code",
   "execution_count": null,
   "id": "8ca26f9b-aa41-4334-b0c2-2fc2754bf2cf",
   "metadata": {},
   "outputs": [],
   "source": []
  },
  {
   "cell_type": "code",
   "execution_count": null,
   "id": "fb9a2b59-4e3b-4653-80b2-5539972cce68",
   "metadata": {},
   "outputs": [],
   "source": []
  },
  {
   "cell_type": "code",
   "execution_count": null,
   "id": "f6f89b25-530e-4bae-887c-0f2ceee224e1",
   "metadata": {},
   "outputs": [],
   "source": []
  },
  {
   "cell_type": "code",
   "execution_count": null,
   "id": "9d328ef5-f0c2-4158-a74e-cdba45d1d6d9",
   "metadata": {},
   "outputs": [],
   "source": []
  },
  {
   "cell_type": "code",
   "execution_count": null,
   "id": "ef9dc507-85a3-4de5-afdb-03429a54b4aa",
   "metadata": {},
   "outputs": [],
   "source": []
  },
  {
   "cell_type": "code",
   "execution_count": null,
   "id": "30cbff59-b2b0-4af0-bb76-12fabff2d4b5",
   "metadata": {},
   "outputs": [],
   "source": []
  },
  {
   "cell_type": "code",
   "execution_count": null,
   "id": "6a4e79a9-0c9b-400e-8df0-3b57e305f003",
   "metadata": {},
   "outputs": [],
   "source": []
  },
  {
   "cell_type": "code",
   "execution_count": null,
   "id": "112c5b77-0cfa-4b38-9d78-8adef5273528",
   "metadata": {},
   "outputs": [],
   "source": []
  },
  {
   "cell_type": "code",
   "execution_count": null,
   "id": "a6dc15e6-8396-4324-b276-40290c3d723f",
   "metadata": {},
   "outputs": [],
   "source": []
  },
  {
   "cell_type": "code",
   "execution_count": null,
   "id": "61e05984-1229-4fda-84fe-61e008d4e1a9",
   "metadata": {},
   "outputs": [],
   "source": []
  },
  {
   "cell_type": "code",
   "execution_count": null,
   "id": "24b9dfbf-1c94-4e53-b238-62e348ad47bf",
   "metadata": {},
   "outputs": [],
   "source": []
  },
  {
   "cell_type": "code",
   "execution_count": null,
   "id": "1b3fd50e-1842-4107-b0b2-96f475602adb",
   "metadata": {},
   "outputs": [],
   "source": []
  },
  {
   "cell_type": "code",
   "execution_count": null,
   "id": "93070b9e-35aa-48d7-a1b9-4588ff7ceb44",
   "metadata": {},
   "outputs": [],
   "source": []
  },
  {
   "cell_type": "code",
   "execution_count": null,
   "id": "43d08159-5b1d-4c47-a0c6-dcdb2f81e575",
   "metadata": {},
   "outputs": [],
   "source": []
  },
  {
   "cell_type": "code",
   "execution_count": null,
   "id": "d7dd3694-b6a6-4588-9f88-da6276e79a2a",
   "metadata": {},
   "outputs": [],
   "source": []
  },
  {
   "cell_type": "code",
   "execution_count": null,
   "id": "2df1c14f-52f6-4582-ab81-30ba1576bfc3",
   "metadata": {},
   "outputs": [],
   "source": []
  },
  {
   "cell_type": "code",
   "execution_count": null,
   "id": "fe7d9338-9214-4202-bda3-3febe9d62598",
   "metadata": {},
   "outputs": [],
   "source": []
  },
  {
   "cell_type": "code",
   "execution_count": null,
   "id": "1ac2781f-b098-4028-97fe-9bff6fd5baed",
   "metadata": {},
   "outputs": [],
   "source": []
  },
  {
   "cell_type": "code",
   "execution_count": null,
   "id": "e2822dd3-1a51-422a-9c9d-7a10dffc37c0",
   "metadata": {},
   "outputs": [],
   "source": []
  },
  {
   "cell_type": "code",
   "execution_count": null,
   "id": "f9234d8d-27f0-4234-8587-d8d4121c4be2",
   "metadata": {},
   "outputs": [],
   "source": []
  }
 ],
 "metadata": {
  "kernelspec": {
   "display_name": "Python 3 (ipykernel)",
   "language": "python",
   "name": "python3"
  },
  "language_info": {
   "codemirror_mode": {
    "name": "ipython",
    "version": 3
   },
   "file_extension": ".py",
   "mimetype": "text/x-python",
   "name": "python",
   "nbconvert_exporter": "python",
   "pygments_lexer": "ipython3",
   "version": "3.12.4"
  }
 },
 "nbformat": 4,
 "nbformat_minor": 5
}
