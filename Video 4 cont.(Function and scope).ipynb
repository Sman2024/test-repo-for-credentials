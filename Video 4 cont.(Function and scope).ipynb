{
 "cells": [
  {
   "cell_type": "markdown",
   "id": "abee929d-b45a-463b-ae6f-ff537a212f29",
   "metadata": {},
   "source": [
    "### Function and scope\n",
    "\n",
    "#### The scope of a name(e.g, a variable name)is the part of a code where the name is properly recognizable"
   ]
  },
  {
   "cell_type": "code",
   "execution_count": 1,
   "id": "5b00a37d-813b-423e-96ca-76e70ca08490",
   "metadata": {},
   "outputs": [
    {
     "name": "stdout",
     "output_type": "stream",
     "text": [
      "None\n"
     ]
    }
   ],
   "source": [
    "def scope_test():\n",
    "    x = 123\n",
    "\n",
    "print(scope_test())\n"
   ]
  },
  {
   "cell_type": "code",
   "execution_count": 2,
   "id": "5e6bf37b-e209-4dfc-afc3-8deee58523e6",
   "metadata": {},
   "outputs": [
    {
     "ename": "NameError",
     "evalue": "name 'x' is not defined",
     "output_type": "error",
     "traceback": [
      "\u001b[1;31m---------------------------------------------------------------------------\u001b[0m",
      "\u001b[1;31mNameError\u001b[0m                                 Traceback (most recent call last)",
      "Cell \u001b[1;32mIn[2], line 5\u001b[0m\n\u001b[0;32m      2\u001b[0m     x \u001b[38;5;241m=\u001b[39m \u001b[38;5;241m123\u001b[39m\n\u001b[0;32m      4\u001b[0m scope_test()\n\u001b[1;32m----> 5\u001b[0m \u001b[38;5;28mprint\u001b[39m(x)\n",
      "\u001b[1;31mNameError\u001b[0m: name 'x' is not defined"
     ]
    }
   ],
   "source": [
    "def scope_test():\n",
    "    x = 123\n",
    "    \n",
    "scope_test()\n",
    "print(x)"
   ]
  },
  {
   "cell_type": "code",
   "execution_count": 3,
   "id": "d1cf65f8-6386-43ff-b9fd-fef39d2539ff",
   "metadata": {},
   "outputs": [
    {
     "name": "stdout",
     "output_type": "stream",
     "text": [
      "Do i know that variable? 234\n",
      "234\n"
     ]
    }
   ],
   "source": [
    "def my_function():\n",
    "    print(\"Do i know that variable?\", var)\n",
    "\n",
    "var = 234\n",
    "my_function()\n",
    "print(var)"
   ]
  },
  {
   "cell_type": "code",
   "execution_count": 4,
   "id": "17286f84-4b57-4729-a840-4c78e57b2d35",
   "metadata": {},
   "outputs": [
    {
     "name": "stdout",
     "output_type": "stream",
     "text": [
      "Do i know that variable? 2\n",
      "1\n"
     ]
    }
   ],
   "source": [
    "def my_function():\n",
    "    var = 2\n",
    "    print(\"Do i know that variable?\", var)\n",
    "\n",
    "var = 1\n",
    "my_function()\n",
    "print(var)"
   ]
  },
  {
   "cell_type": "markdown",
   "id": "21196f9e-64fe-4f54-b0ec-cb63490703de",
   "metadata": {},
   "source": [
    "#### Functions and scopes: the global keyword"
   ]
  },
  {
   "cell_type": "code",
   "execution_count": 5,
   "id": "1230095e-051e-4006-bd86-09c4d0f064aa",
   "metadata": {},
   "outputs": [
    {
     "name": "stdout",
     "output_type": "stream",
     "text": [
      "Do i know that variable? 2\n",
      "2\n"
     ]
    }
   ],
   "source": [
    "def my_function():\n",
    "    global var\n",
    "    var = 2\n",
    "    print(\"Do i know that variable?\", var)\n",
    "\n",
    "var = 1\n",
    "my_function()\n",
    "print(var)"
   ]
  },
  {
   "cell_type": "code",
   "execution_count": 6,
   "id": "fe595dd1-3fd5-4664-9d6c-ff1653ade1af",
   "metadata": {},
   "outputs": [
    {
     "name": "stdout",
     "output_type": "stream",
     "text": [
      "I got 1\n",
      "I have 2\n",
      "1\n"
     ]
    }
   ],
   "source": [
    "def my_function(n):\n",
    "    print(\"I got\", n)\n",
    "    n += 1\n",
    "    print(\"I have\", n)\n",
    "\n",
    "var = 1\n",
    "my_function(var)\n",
    "print(var)"
   ]
  },
  {
   "cell_type": "code",
   "execution_count": 7,
   "id": "dfe6d372-179b-4efd-80c4-badf0fd95fb4",
   "metadata": {},
   "outputs": [
    {
     "name": "stdout",
     "output_type": "stream",
     "text": [
      "I got 1\n",
      "I have 2\n",
      "1\n"
     ]
    }
   ],
   "source": [
    "def my_function(n):\n",
    "    global var\n",
    "    print(\"I got\", n)\n",
    "    n += 1\n",
    "    print(\"I have\", n)\n",
    "\n",
    "var = 1\n",
    "my_function(var)\n",
    "print(var)"
   ]
  },
  {
   "cell_type": "code",
   "execution_count": 8,
   "id": "fac86966-5cd7-4d24-96af-570cc12f46c8",
   "metadata": {},
   "outputs": [
    {
     "name": "stdout",
     "output_type": "stream",
     "text": [
      "Print #1: [2, 3]\n",
      "Print #2: [2, 3]\n",
      "Print #3: [0, 1]\n",
      "Print #4: [2, 3]\n",
      "print #5 [2, 3]\n"
     ]
    }
   ],
   "source": [
    "def my_function(my_list_1):\n",
    "    print(\"Print #1:\", my_list_1)\n",
    "    print(\"Print #2:\", my_list_2)\n",
    "    my_list_1 = [0, 1]\n",
    "    print(\"Print #3:\", my_list_1)\n",
    "    print(\"Print #4:\", my_list_2)\n",
    "\n",
    "my_list_2 = [2, 3]\n",
    "my_function(my_list_2)\n",
    "print(\"print #5\", my_list_2)"
   ]
  },
  {
   "cell_type": "code",
   "execution_count": 9,
   "id": "3ae0c47c-dc89-49d5-8b88-bd8c61c50dd6",
   "metadata": {},
   "outputs": [
    {
     "name": "stdout",
     "output_type": "stream",
     "text": [
      "Print #1: [2, 3]\n",
      "Print #2: [2, 3]\n",
      "Print #3: [0, 1]\n",
      "Print #4: [2, 3]\n"
     ]
    }
   ],
   "source": [
    "def my_function(my_list_1):\n",
    "    print(\"Print #1:\", my_list_1)\n",
    "    print(\"Print #2:\", my_list_2)\n",
    "    my_list_1 = [0, 1]\n",
    "    print(\"Print #3:\", my_list_1)\n",
    "    print(\"Print #4:\", my_list_2)\n",
    "\n",
    "my_list_2 = [2, 3]\n",
    "\n",
    "my_function(my_list_2)\n"
   ]
  },
  {
   "cell_type": "code",
   "execution_count": 10,
   "id": "e758d96c-c802-4738-8ea7-e962766cfad9",
   "metadata": {},
   "outputs": [
    {
     "name": "stdout",
     "output_type": "stream",
     "text": [
      "Print #1: [2, 3]\n",
      "Print #2: [2, 3]\n",
      "Print #3: [2]\n",
      "Print #4: [2]\n",
      "print #5 [2]\n"
     ]
    }
   ],
   "source": [
    "def my_function(my_list_1):\n",
    "    print(\"Print #1:\", my_list_1)\n",
    "    print(\"Print #2:\", my_list_2)\n",
    "    del my_list_1[1]\n",
    "    print(\"Print #3:\", my_list_1)\n",
    "    print(\"Print #4:\", my_list_2)\n",
    "\n",
    "my_list_2 = [2, 3]\n",
    "my_function(my_list_2)\n",
    "print(\"print #5\", my_list_2)"
   ]
  },
  {
   "cell_type": "code",
   "execution_count": null,
   "id": "1034a153-a61a-441e-82f8-ac63b0f5dc05",
   "metadata": {},
   "outputs": [],
   "source": []
  },
  {
   "cell_type": "markdown",
   "id": "cb55ebd1-a192-4994-96d6-a27ba196638a",
   "metadata": {},
   "source": [
    "## Some simple functions: evaluating the BMI(Body Mass Index)\n",
    "\n",
    "#### BMI = (weight in kilograms) / height in meters^2\n",
    "\n",
    "#### As u can see, the formula gets two values:\n",
    "        weight(originally in kilograms)\n",
    "        height(originally in meters)\n"
   ]
  },
  {
   "cell_type": "code",
   "execution_count": 11,
   "id": "31cd8987-465d-41b6-8317-cfdac9c680fe",
   "metadata": {},
   "outputs": [
    {
     "data": {
      "text/plain": [
       "19.283746556473833"
      ]
     },
     "execution_count": 11,
     "metadata": {},
     "output_type": "execute_result"
    }
   ],
   "source": [
    "def bmi(weight, height):\n",
    "    return weight / height ** 2\n",
    "    \n",
    "\n",
    "bmi(52.5, 1.65)"
   ]
  },
  {
   "cell_type": "code",
   "execution_count": 17,
   "id": "21411031-d460-41f3-9897-326d380da9e6",
   "metadata": {},
   "outputs": [
    {
     "name": "stdout",
     "output_type": "stream",
     "text": [
      "None\n"
     ]
    }
   ],
   "source": [
    "def bmi(weight, height):\n",
    "    if height < 1.0 or height > 2.5 or \\\n",
    "    weight < 20 or weight > 200:\n",
    "        return None \n",
    "    return weight / height ** 2\n",
    "\n",
    "print(bmi(352.5, 2.65))"
   ]
  },
  {
   "cell_type": "code",
   "execution_count": 18,
   "id": "c11ae895-4492-493a-a787-5ad2ecee4d0c",
   "metadata": {},
   "outputs": [
    {
     "name": "stdout",
     "output_type": "stream",
     "text": [
      "50.19579921680313\n"
     ]
    }
   ],
   "source": [
    "def bmi(weight, height):\n",
    "    if height < 1.0 or height < 2.5 or \\\n",
    "    weight < 20 or weight < 200:\n",
    "        return None \n",
    "    return weight / height ** 2\n",
    "\n",
    "print(bmi(352.5, 2.65))"
   ]
  },
  {
   "cell_type": "markdown",
   "id": "1eaa973d-feaf-4c02-a831-8f01b305c70e",
   "metadata": {},
   "source": [
    "##### We can write two simple functions to convert imperial units to meric ones.(pounds,feet, and inches)\n",
    "\n",
    "#\n",
    "\n",
    "##### It's well know that l lb = 0.45359237 kg. We'll use this in our new function."
   ]
  },
  {
   "cell_type": "code",
   "execution_count": 19,
   "id": "91fc860e-d067-482e-ae43-8c6580dbbed2",
   "metadata": {},
   "outputs": [
    {
     "name": "stdout",
     "output_type": "stream",
     "text": [
      "0.45359237\n"
     ]
    }
   ],
   "source": [
    "def lb_to_kg(lb):\n",
    "    return lb * 0.45359237\n",
    "\n",
    "print(lb_to_kg(1))"
   ]
  },
  {
   "cell_type": "markdown",
   "id": "56d81949-be17-4d28-b704-53bb9c777d0b",
   "metadata": {},
   "source": [
    "##### It's time for feet and inches: 1 ft = 0.3048 m, and 1 in = 2.54 cm = 0.0254 m"
   ]
  },
  {
   "cell_type": "code",
   "execution_count": 20,
   "id": "c19a79cf-ddbf-4bde-88e0-d05ef2e16cab",
   "metadata": {},
   "outputs": [
    {
     "data": {
      "text/plain": [
       "0.3302"
      ]
     },
     "execution_count": 20,
     "metadata": {},
     "output_type": "execute_result"
    }
   ],
   "source": [
    "def ft_and_inch_to_m(ft, inch):\n",
    "    return ft * 0.3048 + inch * 0.0254\n",
    "\n",
    "ft_and_inch_to_m(1, 1)"
   ]
  },
  {
   "cell_type": "markdown",
   "id": "82907a5a-4f2a-4543-aee9-24d3f19a38d8",
   "metadata": {},
   "source": [
    "##### Note: we wanted to name the second parameter just **in**, not **inch**, but we couldn't. Do you know why? \n",
    "##### **in** is a Python **keyword** - it cannot be used as a name"
   ]
  },
  {
   "cell_type": "code",
   "execution_count": 21,
   "id": "5a0c652d-54c0-4214-9356-f95153d84b47",
   "metadata": {},
   "outputs": [
    {
     "data": {
      "text/plain": [
       "1.8288000000000002"
      ]
     },
     "execution_count": 21,
     "metadata": {},
     "output_type": "execute_result"
    }
   ],
   "source": [
    "ft_and_inch_to_m(6, 0)"
   ]
  },
  {
   "cell_type": "markdown",
   "id": "89f780c1-6c27-47d7-830e-3feb769a00d5",
   "metadata": {},
   "source": [
    "##### And it also possible to use either of the two..e.g"
   ]
  },
  {
   "cell_type": "code",
   "execution_count": 22,
   "id": "6240abd3-ddbc-46c8-87e1-8677250a0f10",
   "metadata": {},
   "outputs": [
    {
     "name": "stdout",
     "output_type": "stream",
     "text": [
      "1.8288000000000002\n"
     ]
    }
   ],
   "source": [
    "def ft_and_inch_to_m(ft, inch = 0.0):\n",
    "    return ft * 0.3048 + inch * 0.0254\n",
    "\n",
    "print(ft_and_inch_to_m(6))"
   ]
  },
  {
   "cell_type": "markdown",
   "id": "393ab5d5-ef7f-47ce-b603-0146990901e5",
   "metadata": {},
   "source": [
    "##### finally, the code is able to answer the question: what is the BMI of a person 5'7\" tall and weighing 176 lbs"
   ]
  },
  {
   "cell_type": "code",
   "execution_count": 23,
   "id": "1513fb69-3747-48e8-b0a8-d65ffbcb1fae",
   "metadata": {},
   "outputs": [
    {
     "name": "stdout",
     "output_type": "stream",
     "text": [
      "27.565214082533313\n"
     ]
    }
   ],
   "source": [
    "def ft_and_inch_to_m(ft, inch = 0.0):\n",
    "    return ft * 0.3048 + inch * 0.0254\n",
    "\n",
    "def lb_to_kg(lb):\n",
    "    return lb * 0.45359237\n",
    "\n",
    "def bmi(weight, height):\n",
    "    if height < 1.0 or height > 2.5 or weight < 20 or weight > 200:\n",
    "        return None\n",
    "    return weight / height ** 2\n",
    "\n",
    "print(bmi(weight = lb_to_kg(176), height = ft_and_inch_to_m(5, 7)))"
   ]
  },
  {
   "cell_type": "code",
   "execution_count": null,
   "id": "b121c57e-d8ab-4835-9d4a-dd978a6af260",
   "metadata": {},
   "outputs": [],
   "source": []
  },
  {
   "cell_type": "code",
   "execution_count": 24,
   "id": "fcf72a3b-c1b1-4ef7-8574-b7d8713e8d87",
   "metadata": {},
   "outputs": [
    {
     "name": "stdout",
     "output_type": "stream",
     "text": [
      "True\n",
      "False\n"
     ]
    }
   ],
   "source": [
    "def is_a_triangle(a, b, c):\n",
    "    if a + b <= c:\n",
    "        return False\n",
    "    if b + c <= a:\n",
    "        return False\n",
    "    if c + a <= b:\n",
    "        return False\n",
    "    return True\n",
    "\n",
    "\n",
    "print(is_a_triangle(1, 1, 1))\n",
    "print(is_a_triangle(1, 1, 3))"
   ]
  },
  {
   "cell_type": "markdown",
   "id": "ef82f865-a2f6-40dd-a2c7-a09de5a184f2",
   "metadata": {},
   "source": [
    "##### Let's make it more compact"
   ]
  },
  {
   "cell_type": "code",
   "execution_count": 25,
   "id": "9eee0389-d224-4e86-bf99-4851b2ea0456",
   "metadata": {},
   "outputs": [
    {
     "name": "stdout",
     "output_type": "stream",
     "text": [
      "True\n",
      "False\n"
     ]
    }
   ],
   "source": [
    "def is_a_triangle(a, b, c):\n",
    "    if a + b <= c or b + c <= a or c + a <= b:\n",
    "        return False\n",
    "    return True\n",
    "\n",
    "print(is_a_triangle(1, 1, 1))\n",
    "print(is_a_triangle(1, 1, 3))"
   ]
  },
  {
   "cell_type": "markdown",
   "id": "b5ff08a1-574a-42b9-a7d8-d7cb80d829ef",
   "metadata": {},
   "source": [
    "#### Some simple functions: triangle and the Pythagorean theorem"
   ]
  },
  {
   "cell_type": "code",
   "execution_count": 97,
   "id": "3e92d3c6-c31d-42fc-9fbf-f1276dc3c4a2",
   "metadata": {},
   "outputs": [
    {
     "name": "stdin",
     "output_type": "stream",
     "text": [
      "Enter the first side's length:  10\n",
      "Enter the second side's length:  13\n",
      "Enter the third side's length:  10\n"
     ]
    },
    {
     "name": "stdout",
     "output_type": "stream",
     "text": [
      "Yes, it can be a triangle.\n"
     ]
    }
   ],
   "source": [
    "def is_a_triangle(a, b, c):\n",
    "    return a + b > c and b + c > a and c + a > b\n",
    "\n",
    "a = float(input('Enter the first side\\'s length: '))\n",
    "b = float(input('Enter the second side\\'s length: '))\n",
    "c = float(input('Enter the third side\\'s length: '))\n",
    "\n",
    "if is_a_triangle(a, b, c):\n",
    "          print('Yes, it can be a triangle.')\n",
    "        \n",
    "else:\n",
    "    print('No, it can\\'t be a triangle.')\n"
   ]
  },
  {
   "cell_type": "code",
   "execution_count": 94,
   "id": "a8a44d91-3833-42a8-8908-cd7bbbe79201",
   "metadata": {},
   "outputs": [
    {
     "name": "stdin",
     "output_type": "stream",
     "text": [
      "Enter the first side's length:  21\n",
      "Enter the second side's length:  5\n",
      "Enter the third side's length:  12\n"
     ]
    },
    {
     "name": "stdout",
     "output_type": "stream",
     "text": [
      "No, it can't be a triangle.\n"
     ]
    }
   ],
   "source": [
    "def is_a_triangle(a, b, c):\n",
    "    return a + b > c and b + c > a and c + a > b\n",
    "\n",
    "\n",
    "a = float(input('Enter the first side\\'s length: '))\n",
    "b = float(input('Enter the second side\\'s length: '))\n",
    "c = float(input('Enter the third side\\'s length: '))\n",
    "\n",
    "if is_a_triangle(a, b, c):\n",
    "    print('Yes, it can be a triangle.')\n",
    "else:\n",
    "    print('No, it can\\'t be a triangle.')\n"
   ]
  },
  {
   "cell_type": "code",
   "execution_count": 93,
   "id": "43458966-3213-435e-bd10-1d47840648c1",
   "metadata": {},
   "outputs": [
    {
     "name": "stdout",
     "output_type": "stream",
     "text": [
      "True\n",
      "False\n"
     ]
    }
   ],
   "source": [
    "def is_a_triangle(a, b, c):\n",
    "    return a + b > c and b + c > a and c + a > b\n",
    "\n",
    "def is_a_right_triangle(a, b, c):\n",
    "    if not is_a_triangle(a, b, c):\n",
    "        return False\n",
    "    if c > a and c> b:\n",
    "        return c ** 2 == b ** 2 + b ** 2\n",
    "    if a > b and a > b:\n",
    "        return a ** 2 == b ** 2 + c ** 2\n",
    "\n",
    "print(is_a_right_triangle(5, 3, 4))\n",
    "print(is_a_right_triangle(1, 3, 4))\n",
    "\n"
   ]
  },
  {
   "cell_type": "code",
   "execution_count": 91,
   "id": "d79329b3-0088-44e3-83e1-eb2399390be1",
   "metadata": {},
   "outputs": [
    {
     "name": "stdout",
     "output_type": "stream",
     "text": [
      "True\n",
      "False\n"
     ]
    }
   ],
   "source": [
    "def is_a_triangle(a, b, c):\n",
    "    return a + b > c and b + c > a and c + a > b\n",
    "\n",
    "\n",
    "def is_a_right_triangle(a, b, c):\n",
    "    if not is_a_triangle(a, b, c):\n",
    "        return False\n",
    "    if c > a and c > b:\n",
    "        return c ** 2 == a ** 2 + b ** 2\n",
    "    if a > b and a > c:\n",
    "        return a ** 2 == b ** 2 + c ** 2\n",
    "\n",
    "\n",
    "print(is_a_right_triangle(5, 3, 4))\n",
    "print(is_a_right_triangle(1, 3, 4))\n",
    "\n"
   ]
  },
  {
   "cell_type": "code",
   "execution_count": 100,
   "id": "d27d9b68-4de0-448e-a99e-19f17e0cf2ce",
   "metadata": {},
   "outputs": [
    {
     "name": "stdout",
     "output_type": "stream",
     "text": [
      "True\n",
      "False\n"
     ]
    }
   ],
   "source": [
    "def is_a_triangle(a, b, c):\n",
    "    return a + b > c and b + c > a and c + a > b\n",
    "\n",
    "def is_a_right_triangle(a, b, c):\n",
    "    if not is_a_triangle(a, b, c):\n",
    "        return False\n",
    "    if c > a and c> b:\n",
    "        return c ** 2 == b ** 2 + b ** 2\n",
    "    if a > b and a > b:\n",
    "        return a ** 2 == b ** 2 + c ** 2\n",
    "\n",
    "print(is_a_right_triangle(5, 3, 4))\n",
    "print(is_a_right_triangle(1, 3, 4))\n"
   ]
  },
  {
   "cell_type": "code",
   "execution_count": 105,
   "id": "391b022c-d749-45d5-87cb-78e320594173",
   "metadata": {},
   "outputs": [
    {
     "name": "stdout",
     "output_type": "stream",
     "text": [
      "0.49999999999999983\n"
     ]
    }
   ],
   "source": [
    "def is_a_triangle(a, b, c):\n",
    "    return a + b > c and b + c > a and c + a > b\n",
    "\n",
    "\n",
    "def heron(a, b, c):\n",
    "    p = (a + b + c) / 2\n",
    "    return (p * (p - a) * (p - b) * (p - c)) ** 0.5\n",
    "\n",
    "\n",
    "def area_of_triangle(a, b, c):\n",
    "    if not is_a_triangle(a, b, c):\n",
    "        return None\n",
    "    return heron(a, b, c)\n",
    "\n",
    "\n",
    "print(area_of_triangle(1., 1., 2. ** .5))\n",
    "\n"
   ]
  },
  {
   "cell_type": "markdown",
   "id": "38170019-951d-4062-8b1f-b6e4aa523600",
   "metadata": {},
   "source": [
    "#### Some simple functions: factorials"
   ]
  },
  {
   "cell_type": "code",
   "execution_count": 82,
   "id": "6b518623-a943-4523-a4d0-87242921367a",
   "metadata": {},
   "outputs": [
    {
     "name": "stdout",
     "output_type": "stream",
     "text": [
      "1\n",
      "2\n",
      "6\n",
      "24\n",
      "120\n"
     ]
    }
   ],
   "source": [
    "def factorial_function(n):\n",
    "    if n < 0:\n",
    "        return None\n",
    "    if n < 2:\n",
    "        return 1\n",
    "\n",
    "    product = 1\n",
    "    for i in range(2, n + 1):\n",
    "        product *= i\n",
    "    return product\n",
    "\n",
    "for n in range(1, 6):\n",
    "    print(factorial_function(n))\n",
    "\n"
   ]
  },
  {
   "cell_type": "code",
   "execution_count": 65,
   "id": "479c7b80-c3d3-4000-b58c-902b13797350",
   "metadata": {},
   "outputs": [
    {
     "name": "stdout",
     "output_type": "stream",
     "text": [
      "120\n"
     ]
    }
   ],
   "source": [
    "\n",
    "print(factorial_function(5))"
   ]
  },
  {
   "cell_type": "code",
   "execution_count": null,
   "id": "922f56f7-04ae-4d11-b1fb-f28fec0ad4ce",
   "metadata": {},
   "outputs": [],
   "source": []
  },
  {
   "cell_type": "markdown",
   "id": "1a988f76-132a-40d9-982c-2326d01eb0d6",
   "metadata": {},
   "source": [
    "#### Some simple fuctions: Fibonacci numbers\n",
    "\n",
    "##### they are a sequence of integer numbers built using  a very simple rule:\n",
    "         - the first element of the sequence is equal to one(Fib1 = 1)\n",
    "         - the second is also equal to one ( Fib2 = 1)\n",
    "         - every subsequent number is the the_sum of the two preceding numbers (Fib1 = fibi-1 + Fibi-2)\n",
    "\n",
    "#### Here are some of the first Fibonacci numbers:\n",
    "         fib_1 = 1\n",
    "         fib_2 = 1\n",
    "         fib_3 = 1 + 1 = 2\n",
    "         fib_4 = 1 + 2 = 3\n",
    "         fib_5 = 2 + 3 = 5\n",
    "         fib_6 = 3 + 5 = 8\n",
    "        fib_7 = 5 + 8 = 13"
   ]
  },
  {
   "cell_type": "code",
   "execution_count": 110,
   "id": "56c0f187-f962-4747-b470-f042466e9b04",
   "metadata": {},
   "outputs": [
    {
     "name": "stdout",
     "output_type": "stream",
     "text": [
      "1 -> 1\n",
      "2 -> 1\n",
      "3 -> 2\n",
      "4 -> 3\n",
      "5 -> 5\n",
      "6 -> 8\n",
      "7 -> 13\n",
      "8 -> 21\n",
      "9 -> 34\n"
     ]
    }
   ],
   "source": [
    "def fib(n):\n",
    "    if n < 1:\n",
    "         return None\n",
    "    if n < 3:\n",
    "        return 1\n",
    "\n",
    "    elem_1 = elem_2 = 1\n",
    "    the_sum = 0\n",
    "    for i in range(3, n + 1):\n",
    "        the_sum = elem_1 + elem_2\n",
    "        elem_1, elem_2 = elem_2, the_sum\n",
    "    return the_sum\n",
    "\n",
    "\n",
    "for n in range(1, 10):\n",
    "    print(n, \"->\", fib(n))\n"
   ]
  },
  {
   "cell_type": "code",
   "execution_count": 113,
   "id": "cb4b5188-67bc-4487-9900-3105a63d0d55",
   "metadata": {},
   "outputs": [
    {
     "name": "stdout",
     "output_type": "stream",
     "text": [
      "1 -> 1\n",
      "2 -> 1\n",
      "3 -> 2\n",
      "4 -> 3\n",
      "5 -> 5\n",
      "6 -> 8\n",
      "7 -> 13\n"
     ]
    }
   ],
   "source": [
    "def fib(n):\n",
    "    if n < 1:\n",
    "         return None\n",
    "    if n < 3:\n",
    "        return 1\n",
    "\n",
    "    elem_1 = elem_2 = 1\n",
    "    the_sum = 0\n",
    "    for i in range(3, n + 1):\n",
    "        the_sum = elem_1 + elem_2\n",
    "        elem_1, elem_2 = elem_2, the_sum\n",
    "    return the_sum\n",
    "\n",
    "\n",
    "for n in range(1, 8):\n",
    "    print(n, \"->\", fib(n))"
   ]
  },
  {
   "cell_type": "code",
   "execution_count": null,
   "id": "34c5bd67-0c68-4e8e-aa28-8e337c7f31d8",
   "metadata": {},
   "outputs": [],
   "source": []
  },
  {
   "cell_type": "markdown",
   "id": "ab64fa83-0d42-4e8f-885c-7e9479d81c4b",
   "metadata": {},
   "source": [
    "### Some simple functions: recursion"
   ]
  },
  {
   "cell_type": "code",
   "execution_count": 114,
   "id": "c79aaf26-2621-4c7a-b688-8ddf2419c734",
   "metadata": {},
   "outputs": [],
   "source": [
    "def fib(n):\n",
    "    if n < 1:\n",
    "        return None\n",
    "    if n < 3:\n",
    "        return 1\n",
    "    return fib(n - 1) + fib(n - 2)\n",
    "\n",
    "\n"
   ]
  },
  {
   "cell_type": "code",
   "execution_count": 115,
   "id": "0cf890df-1723-4d1c-ac1f-04ce417e6435",
   "metadata": {},
   "outputs": [],
   "source": [
    "def factorial_function(n):\n",
    "    if n < 0:\n",
    "        return None\n",
    "    if n < 2:\n",
    "        return 1\n",
    "    return n * factorial_function(n - 1)\n",
    "\n"
   ]
  },
  {
   "cell_type": "code",
   "execution_count": 116,
   "id": "5902d7a6-991f-412a-923b-1a10c2854687",
   "metadata": {},
   "outputs": [
    {
     "data": {
      "text/plain": [
       "120"
      ]
     },
     "execution_count": 116,
     "metadata": {},
     "output_type": "execute_result"
    }
   ],
   "source": [
    "factorial_function(5)"
   ]
  },
  {
   "cell_type": "code",
   "execution_count": 117,
   "id": "f0294d21-5cde-4315-98d6-062adb144bdf",
   "metadata": {},
   "outputs": [
    {
     "ename": "RecursionError",
     "evalue": "maximum recursion depth exceeded",
     "output_type": "error",
     "traceback": [
      "\u001b[1;31m---------------------------------------------------------------------------\u001b[0m",
      "\u001b[1;31mRecursionError\u001b[0m                            Traceback (most recent call last)",
      "Cell \u001b[1;32mIn[117], line 5\u001b[0m\n\u001b[0;32m      1\u001b[0m \u001b[38;5;28;01mdef\u001b[39;00m \u001b[38;5;21mfactorial\u001b[39m(n):\n\u001b[0;32m      2\u001b[0m     \u001b[38;5;28;01mreturn\u001b[39;00m n \u001b[38;5;241m*\u001b[39m factorial(n \u001b[38;5;241m-\u001b[39m \u001b[38;5;241m1\u001b[39m)\n\u001b[1;32m----> 5\u001b[0m \u001b[38;5;28mprint\u001b[39m(factorial(\u001b[38;5;241m4\u001b[39m))\n",
      "Cell \u001b[1;32mIn[117], line 2\u001b[0m, in \u001b[0;36mfactorial\u001b[1;34m(n)\u001b[0m\n\u001b[0;32m      1\u001b[0m \u001b[38;5;28;01mdef\u001b[39;00m \u001b[38;5;21mfactorial\u001b[39m(n):\n\u001b[1;32m----> 2\u001b[0m     \u001b[38;5;28;01mreturn\u001b[39;00m n \u001b[38;5;241m*\u001b[39m factorial(n \u001b[38;5;241m-\u001b[39m \u001b[38;5;241m1\u001b[39m)\n",
      "Cell \u001b[1;32mIn[117], line 2\u001b[0m, in \u001b[0;36mfactorial\u001b[1;34m(n)\u001b[0m\n\u001b[0;32m      1\u001b[0m \u001b[38;5;28;01mdef\u001b[39;00m \u001b[38;5;21mfactorial\u001b[39m(n):\n\u001b[1;32m----> 2\u001b[0m     \u001b[38;5;28;01mreturn\u001b[39;00m n \u001b[38;5;241m*\u001b[39m factorial(n \u001b[38;5;241m-\u001b[39m \u001b[38;5;241m1\u001b[39m)\n",
      "    \u001b[1;31m[... skipping similar frames: factorial at line 2 (2974 times)]\u001b[0m\n",
      "Cell \u001b[1;32mIn[117], line 2\u001b[0m, in \u001b[0;36mfactorial\u001b[1;34m(n)\u001b[0m\n\u001b[0;32m      1\u001b[0m \u001b[38;5;28;01mdef\u001b[39;00m \u001b[38;5;21mfactorial\u001b[39m(n):\n\u001b[1;32m----> 2\u001b[0m     \u001b[38;5;28;01mreturn\u001b[39;00m n \u001b[38;5;241m*\u001b[39m factorial(n \u001b[38;5;241m-\u001b[39m \u001b[38;5;241m1\u001b[39m)\n",
      "\u001b[1;31mRecursionError\u001b[0m: maximum recursion depth exceeded"
     ]
    }
   ],
   "source": [
    "def factorial(n):\n",
    "    return n * factorial(n - 1)\n",
    "\n",
    "\n",
    "print(factorial(4))\n"
   ]
  },
  {
   "cell_type": "code",
   "execution_count": 120,
   "id": "7ccd1528-29e9-4274-a104-be8d26abedf4",
   "metadata": {},
   "outputs": [
    {
     "name": "stdout",
     "output_type": "stream",
     "text": [
      "56\n"
     ]
    }
   ],
   "source": [
    "def fun(a):\n",
    "    if a > 30:\n",
    "        return 3\n",
    "    else:\n",
    "        return a + fun(a + 3)\n",
    "\n",
    "\n",
    "print(fun(25))\n"
   ]
  },
  {
   "cell_type": "code",
   "execution_count": null,
   "id": "65040e7d-1ebc-4784-8adf-b5a9fd01e529",
   "metadata": {},
   "outputs": [],
   "source": []
  },
  {
   "cell_type": "code",
   "execution_count": null,
   "id": "299c41a7-832d-4724-82f0-b14c1f1e6bc9",
   "metadata": {},
   "outputs": [],
   "source": []
  },
  {
   "cell_type": "code",
   "execution_count": null,
   "id": "560e0bf5-36ab-4c6b-946e-9b1c7d68f79c",
   "metadata": {},
   "outputs": [],
   "source": []
  },
  {
   "cell_type": "code",
   "execution_count": null,
   "id": "eae70d19-3754-47d9-ba17-28697df3238c",
   "metadata": {},
   "outputs": [],
   "source": []
  },
  {
   "cell_type": "code",
   "execution_count": null,
   "id": "1885fc21-97b7-471f-91ac-5390b158f2ad",
   "metadata": {},
   "outputs": [],
   "source": []
  },
  {
   "cell_type": "code",
   "execution_count": null,
   "id": "216f955c-4d96-4eae-af6a-5bd015733a08",
   "metadata": {},
   "outputs": [],
   "source": []
  },
  {
   "cell_type": "code",
   "execution_count": null,
   "id": "1905b706-7b5e-49aa-9722-67b59b781a13",
   "metadata": {},
   "outputs": [],
   "source": []
  },
  {
   "cell_type": "code",
   "execution_count": null,
   "id": "9e142b9a-7fd8-4633-8e28-670de6647e11",
   "metadata": {},
   "outputs": [],
   "source": []
  },
  {
   "cell_type": "code",
   "execution_count": null,
   "id": "fee62289-9692-408a-b3a8-2794bfbecc5a",
   "metadata": {},
   "outputs": [],
   "source": []
  },
  {
   "cell_type": "code",
   "execution_count": null,
   "id": "6887eb52-f107-4707-8d2c-51d836d41ce1",
   "metadata": {},
   "outputs": [],
   "source": []
  },
  {
   "cell_type": "code",
   "execution_count": null,
   "id": "139d8c14-0bdc-42c6-a329-3674e1685a0b",
   "metadata": {},
   "outputs": [],
   "source": []
  }
 ],
 "metadata": {
  "kernelspec": {
   "display_name": "Python 3 (ipykernel)",
   "language": "python",
   "name": "python3"
  },
  "language_info": {
   "codemirror_mode": {
    "name": "ipython",
    "version": 3
   },
   "file_extension": ".py",
   "mimetype": "text/x-python",
   "name": "python",
   "nbconvert_exporter": "python",
   "pygments_lexer": "ipython3",
   "version": "3.12.4"
  }
 },
 "nbformat": 4,
 "nbformat_minor": 5
}
