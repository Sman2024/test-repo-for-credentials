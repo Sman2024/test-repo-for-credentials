{
 "cells": [
  {
   "cell_type": "markdown",
   "id": "85d4416c-1a27-4074-b3c8-bfc8d4bae23a",
   "metadata": {},
   "source": [
    "### **String Formatting**\n",
    "\n",
    "##### String formatting lets you inject items into a string rather than trying to chain items togethr using commas or string concatenation. As a quick comparison, consider:\n",
    "######   player = 'Thomas'\n",
    "######   points = 33\n",
    "\n",
    "###### 'Last nignt, '+player+' scored '+str(points)+' point.'------     # concatenation\n",
    "\n",
    "######  f'Last nighjt, {player} scored {points} points.'-----           # string formating\n",
    "\n",
    "##### There are three ways to perform string formatting.\n",
    "\n",
    "      . The oldest method involves placeholders using the modulo % character.\n",
    "      . An improved techniques used the .format() string method.\n",
    "      . The newest method, introduced with Python 3.6, uses formatted string literals,              called f-string.\n",
    "\n",
    "###### since you will likely encouter all three versions in someone else's code, we desribe each of them here."
   ]
  },
  {
   "cell_type": "code",
   "execution_count": null,
   "id": "1368507f-0260-4fe7-ba48-f32f83af4e43",
   "metadata": {},
   "outputs": [],
   "source": []
  },
  {
   "cell_type": "code",
   "execution_count": null,
   "id": "66f65d7f-1225-498d-8fa8-9d1de1a76fd1",
   "metadata": {},
   "outputs": [],
   "source": []
  },
  {
   "cell_type": "code",
   "execution_count": null,
   "id": "32818d62-e1a8-4e68-977a-db1417e12189",
   "metadata": {},
   "outputs": [],
   "source": []
  },
  {
   "cell_type": "code",
   "execution_count": null,
   "id": "760eda16-05ab-4ce5-8e23-51e8b3b68a94",
   "metadata": {},
   "outputs": [],
   "source": []
  },
  {
   "cell_type": "code",
   "execution_count": null,
   "id": "35a7e95e-0b85-4353-be3e-f6007fc840c9",
   "metadata": {},
   "outputs": [],
   "source": []
  },
  {
   "cell_type": "code",
   "execution_count": null,
   "id": "616220a3-040b-4fc7-a766-541c9c03dd9c",
   "metadata": {},
   "outputs": [],
   "source": []
  },
  {
   "cell_type": "code",
   "execution_count": null,
   "id": "ab5bd6ef-7d22-4b0b-b88f-28342e9b3822",
   "metadata": {},
   "outputs": [],
   "source": []
  },
  {
   "cell_type": "code",
   "execution_count": null,
   "id": "166b0a1b-0dff-4bf1-afc5-fae697a745bb",
   "metadata": {},
   "outputs": [],
   "source": []
  },
  {
   "cell_type": "code",
   "execution_count": null,
   "id": "f2d61376-80ee-4873-97de-de5821858deb",
   "metadata": {},
   "outputs": [],
   "source": []
  },
  {
   "cell_type": "markdown",
   "id": "478297de-7aa4-4428-a16c-73fe6ce3e55c",
   "metadata": {},
   "source": [
    "### **Formatting with the .format() method** \n",
    "\n",
    "###### A better way to format objects into your strings for print statements is with the string .format() method. The syntax is:\n",
    "######     'string here{} then also {}' .format('something1','something2')\n",
    "###### For example:"
   ]
  },
  {
   "cell_type": "code",
   "execution_count": null,
   "id": "5204ad8a-e609-48d6-9359-8b5f6b1850dd",
   "metadata": {},
   "outputs": [],
   "source": [
    "print('This is a string with an {}' .format('insert'))"
   ]
  },
  {
   "cell_type": "markdown",
   "id": "6f0ca98f-3af7-4e98-97ae-db9be66e7421",
   "metadata": {},
   "source": [
    "###### The .format() method has several advantages over %s placeholder method\n",
    "\n",
    "###### 1. Inserted objects can be called by index position:"
   ]
  },
  {
   "cell_type": "code",
   "execution_count": null,
   "id": "83800571-c4db-4f8b-95f0-cc9e49de533f",
   "metadata": {},
   "outputs": [],
   "source": [
    "print('The {2} {1} {0}'.format('fox', 'brown', 'quick'))"
   ]
  },
  {
   "cell_type": "code",
   "execution_count": null,
   "id": "6e85c017-db27-488f-a98c-d883eabfe272",
   "metadata": {},
   "outputs": [],
   "source": []
  },
  {
   "cell_type": "code",
   "execution_count": null,
   "id": "9ae9b696-a944-49e3-890a-8abd9c9b2be2",
   "metadata": {},
   "outputs": [],
   "source": [
    "print('The {0} {1} {2}'.format('fox', 'brown', 'quick'))"
   ]
  },
  {
   "cell_type": "markdown",
   "id": "28e505eb-6be6-4b81-9da7-188851dfd2c0",
   "metadata": {},
   "source": [
    "###### 2. Inserted objects can be assigned keywords:"
   ]
  },
  {
   "cell_type": "code",
   "execution_count": null,
   "id": "248cca0e-b982-4155-a8b8-b7cb7bcdbde9",
   "metadata": {},
   "outputs": [],
   "source": [
    "print('First object: {a}, second object: {b}, Third object: {c}' .format(a=1, b='two', c = 12.3))"
   ]
  },
  {
   "cell_type": "code",
   "execution_count": null,
   "id": "b6f878d1-4cf4-4907-a5c8-f265bfbcf0c7",
   "metadata": {},
   "outputs": [],
   "source": [
    "print('Raji: {a}, Fajinmolu: {b}, Ilori: {c}' .format(a = 'Sulaeman', b= 'Tunji', c = 'Ayo'))"
   ]
  },
  {
   "cell_type": "code",
   "execution_count": null,
   "id": "e8447b4b-76eb-421d-8600-eb52f1080ffc",
   "metadata": {},
   "outputs": [],
   "source": [
    "print('Raji %s, Fajinmolu %s, Ilori %s' %( 'Sulaeman','Tunji', 'Ayo'))"
   ]
  },
  {
   "cell_type": "code",
   "execution_count": null,
   "id": "4229eca2-1f71-412a-a027-0485a40a586c",
   "metadata": {},
   "outputs": [],
   "source": [
    "print('Raji {a}, Fajinmolu {b}, Ilori {c}' .format(a = 'Sulaeman', b='Tunji', c = 'Ayo'))"
   ]
  },
  {
   "cell_type": "code",
   "execution_count": null,
   "id": "d5111efe-6276-40fd-9aa4-25c2a1c1054a",
   "metadata": {},
   "outputs": [],
   "source": []
  },
  {
   "cell_type": "markdown",
   "id": "f310fb19-b8c3-45f9-bad9-1d5f54570d7c",
   "metadata": {},
   "source": [
    "###### 3. Inserted objects can be reused, avoilding duplication:\n"
   ]
  },
  {
   "cell_type": "code",
   "execution_count": 1,
   "id": "bf9eb646-07fc-4af1-9c8c-89763a101b36",
   "metadata": {},
   "outputs": [
    {
     "name": "stdout",
     "output_type": "stream",
     "text": [
      "A penny saved is a penny earned.\n",
      "A penny saved is a penny earned.\n"
     ]
    }
   ],
   "source": [
    "print('A %s saved is a %s earned.' %('penny', 'penny'))\n",
    "# vs.\n",
    "print('A {p} saved is a {p} earned.' .format(p= 'penny'))"
   ]
  },
  {
   "cell_type": "markdown",
   "id": "66399648-7f29-4ee1-8fea-a8a134d814a5",
   "metadata": {},
   "source": [
    "### Alignment, paddind and precision with .format()\n",
    "\n",
    "##### Within the curly braces you can assign field lengths,left/right alignments, rounding parameters and more"
   ]
  },
  {
   "cell_type": "code",
   "execution_count": null,
   "id": "4af098f8-17c3-4eeb-ac81-ff3e7d445c15",
   "metadata": {},
   "outputs": [],
   "source": [
    "print('{0:8} | {1:9}'.format('Fruit', 'Quantity'))\n",
    "print('{0:8} | {1:9}'.format('Apples', 3.))\n",
    "print('{0:8} | {1:9}'.format('Oranges', 10.))"
   ]
  },
  {
   "cell_type": "code",
   "execution_count": null,
   "id": "efce5faa-4391-4b62-8df2-076069ba2dc1",
   "metadata": {},
   "outputs": [],
   "source": [
    "print('{0:7} | {1:9}'.format('Fruit', 'Quantity'))\n",
    "print('{0:7} | {1:9}'.format('Apples', 3.))\n",
    "print('{0:7} | {1:9}'.format('Oranges', 10.))"
   ]
  },
  {
   "cell_type": "code",
   "execution_count": null,
   "id": "1b84ac90-e424-4153-923a-954c43ab4897",
   "metadata": {},
   "outputs": [],
   "source": []
  },
  {
   "cell_type": "markdown",
   "id": "fd79ff96-c2f8-402d-8b0f-d3cf44a5a4a0",
   "metadata": {},
   "source": [
    "##### By dafault, .format() aligns text to the left, numbers to the right. You can pass an optional <,^, or > to set a left, center and right"
   ]
  },
  {
   "cell_type": "code",
   "execution_count": null,
   "id": "c390c77e-2658-42d9-8f73-3426ec55525b",
   "metadata": {},
   "outputs": [],
   "source": [
    "print('{0:<8} | {1:^8} | {2:>8}' .format('Left', 'Center', 'Right'))\n",
    "print('{0:<8} | {1:^8} | {2:>8}' .format(11,22,33))\n"
   ]
  },
  {
   "cell_type": "markdown",
   "id": "f4e6cb0c-8915-4a82-b0b0-8b19d14472c6",
   "metadata": {},
   "source": [
    "##### You can precede the aligment operator with a padding character"
   ]
  },
  {
   "cell_type": "code",
   "execution_count": null,
   "id": "b61e8ce9-a6ef-4892-93b7-c52e8bca8477",
   "metadata": {},
   "outputs": [],
   "source": [
    "print('{0:=<8} | {1:-^8} | {2:.>8}' .format('Left', 'Center', 'Right'))\n",
    "print('{0:=<8} | {1:-^8} | {2:.>8}' .format(11,22,33))"
   ]
  },
  {
   "cell_type": "code",
   "execution_count": null,
   "id": "6a59dc2a-79bc-42d0-ad28-1594fe3e1669",
   "metadata": {},
   "outputs": [],
   "source": []
  },
  {
   "cell_type": "markdown",
   "id": "09fb5ffd-0a13-4932-b2d2-8e7b9178fc9c",
   "metadata": {},
   "source": [
    "##### Field widths and float precision are handleed in a way similar to placeholders. The following two print statements are equivalent "
   ]
  },
  {
   "cell_type": "code",
   "execution_count": null,
   "id": "39943cc8-276d-4df9-82dd-7c2409d0cfda",
   "metadata": {},
   "outputs": [],
   "source": [
    "print('This is my ten-character, two-decimal number:%10.2f' %13.579)\n",
    "print('This is my ten-character, two-decimal number:{0:10.2f}' .format(13.579))"
   ]
  },
  {
   "cell_type": "code",
   "execution_count": null,
   "id": "9bb2d061-fde8-44f7-887b-e5ec142b526c",
   "metadata": {},
   "outputs": [],
   "source": [
    "print('This is my ten-character, two-decimal number:%5.2f' %13.579)\n",
    "print('This is my ten-character, two-decimal number:{0:5.2f}' .format(13.579))"
   ]
  },
  {
   "cell_type": "markdown",
   "id": "e2929700-7cae-4fb4-95ed-148f377f179d",
   "metadata": {},
   "source": [
    "##### Note that there are 5 spaces following the colon, and 5 characters taken up by 13.58, for a total of ten characters\n",
    "\n",
    "##### For more information on the string .format() method, visit https://docs.python.org/3/library/string.html#formatstrings"
   ]
  },
  {
   "cell_type": "markdown",
   "id": "7f97317a-370c-43c5-a24e-f1835db5f4d7",
   "metadata": {},
   "source": [
    "### Formatted String Literals (f-strings)\n",
    "\n",
    "###### Introductionin Python 3.6. f-string offer several benefits over the older .format() string method described above. For one, you can bring outside variables immediately into the string rather than pass them as arguments through .format(var). "
   ]
  },
  {
   "cell_type": "code",
   "execution_count": null,
   "id": "5b2aae14-c5cd-43d0-b848-107c4a7892f6",
   "metadata": {},
   "outputs": [],
   "source": [
    "name = 'Fred'\n",
    "\n",
    "print(f\"He said his name is {name}.\")"
   ]
  },
  {
   "cell_type": "markdown",
   "id": "1b78f4cd-5011-4fd4-95d7-9fc352c7f02e",
   "metadata": {},
   "source": [
    "######  Pass !r to get the string representation"
   ]
  },
  {
   "cell_type": "code",
   "execution_count": null,
   "id": "3f1d02f3-2457-4354-a62f-4110598546b1",
   "metadata": {},
   "outputs": [],
   "source": [
    "print(f\"He said his name is {name!r}\")"
   ]
  },
  {
   "cell_type": "code",
   "execution_count": null,
   "id": "d89852f6-f3ba-4392-b41f-a71b58ed78ce",
   "metadata": {},
   "outputs": [],
   "source": [
    "print(f\"He said his name is {name!r}\")"
   ]
  },
  {
   "cell_type": "code",
   "execution_count": null,
   "id": "90adb688-093f-4bcf-8014-e93142364c96",
   "metadata": {},
   "outputs": [],
   "source": []
  },
  {
   "cell_type": "markdown",
   "id": "7496db0a-4d60-4acf-92a8-a6bf02579013",
   "metadata": {},
   "source": [
    "##### Float formatting follows      \"result: {value:{width}.{precision}\" \n",
    "\n",
    "##### Where with the .format() method you might see {value:10.4f}\", with f-strings this can become {value:{10}.{6}}"
   ]
  },
  {
   "cell_type": "code",
   "execution_count": null,
   "id": "8a14d71c-b279-46b7-862b-02dbd52c9b6c",
   "metadata": {},
   "outputs": [],
   "source": [
    "num = 23.45678\n",
    "print(\"My 10 character, four decimal number is:{0:10.4f}\" .format(num))\n",
    "print(f\"My 10 character, four decimal number is:{num:{10}.{6}}\")"
   ]
  },
  {
   "cell_type": "markdown",
   "id": "15fc57cc-55ea-4188-a497-d6ff336127f6",
   "metadata": {},
   "source": [
    "##### Note that with f-strings, precision refers to the total number of digits, not just those following the decimal. This fits more closely with scientific notation and statistical analysis. Unfortulately, f-string do not pad to the right of the decimal. even if precision allows it"
   ]
  },
  {
   "cell_type": "code",
   "execution_count": null,
   "id": "c96a0280-f04b-4eff-9199-6698a2724bc6",
   "metadata": {},
   "outputs": [],
   "source": [
    "num = 23.45\n",
    "print(\"My 10 character, four decimal number is:{0:10.4f}\".format(num))\n",
    "print(f\"My 10 character, four decimal number is:{num:{10}.{6}}\")"
   ]
  },
  {
   "cell_type": "markdown",
   "id": "d75700ae-a8f3-4553-bc0f-9331283bccd0",
   "metadata": {},
   "source": [
    "##### If this becomes important, you can always use .format() method syntax inside an f-string"
   ]
  },
  {
   "cell_type": "code",
   "execution_count": null,
   "id": "c2f5e0dc-672b-43bc-abb6-575a213549db",
   "metadata": {},
   "outputs": [],
   "source": [
    "num = 23.45\n",
    "print(\"My 10 character, four decimal number is:{0:10.4f}\".format(num))\n",
    "print(f\"My 10 character, four decimal number is:{num:10.4f}\")"
   ]
  },
  {
   "cell_type": "code",
   "execution_count": null,
   "id": "a1f3f334-1caa-4fc9-a4e5-439183fdcb41",
   "metadata": {},
   "outputs": [],
   "source": []
  },
  {
   "cell_type": "markdown",
   "id": "3ae9cab6-2c08-492a-9b60-7fa100f100ed",
   "metadata": {},
   "source": [
    "#### **FILES**\n",
    "\n",
    "### Ipython Writing a File\n",
    "\n",
    "##### This function is specific to jupyter notebook"
   ]
  },
  {
   "cell_type": "code",
   "execution_count": 1,
   "id": "26677e97-2120-4d65-b8b6-ee3f513967fa",
   "metadata": {},
   "outputs": [
    {
     "name": "stdout",
     "output_type": "stream",
     "text": [
      "Overwriting test.txt\n"
     ]
    }
   ],
   "source": [
    "%%writefile test.txt\n",
    "hello, this is a sample office test file."
   ]
  },
  {
   "cell_type": "markdown",
   "id": "4015a397-a693-42b6-8cc8-4d9294547515",
   "metadata": {},
   "source": [
    "### Python Opening a file\n",
    "\n",
    "###### Let's being by opening the file test.txt that is located in the same directory as this notebook. For now we will work with files located in the same directory as the notebook or .py script you are using.\n",
    "\n",
    "###### It is very easy to get an error on this step:"
   ]
  },
  {
   "cell_type": "code",
   "execution_count": 2,
   "id": "a520d8e4-df28-4483-b948-1f2ca159bc6e",
   "metadata": {},
   "outputs": [
    {
     "ename": "FileNotFoundError",
     "evalue": "[Errno 2] No such file or directory: 'whoops.txt'",
     "output_type": "error",
     "traceback": [
      "\u001b[1;31m---------------------------------------------------------------------------\u001b[0m",
      "\u001b[1;31mFileNotFoundError\u001b[0m                         Traceback (most recent call last)",
      "Cell \u001b[1;32mIn[2], line 1\u001b[0m\n\u001b[1;32m----> 1\u001b[0m myfile \u001b[38;5;241m=\u001b[39m \u001b[38;5;28mopen\u001b[39m(\u001b[38;5;124m'\u001b[39m\u001b[38;5;124mwhoops.txt\u001b[39m\u001b[38;5;124m'\u001b[39m)\n",
      "File \u001b[1;32m~\\anaconda3\\Lib\\site-packages\\IPython\\core\\interactiveshell.py:324\u001b[0m, in \u001b[0;36m_modified_open\u001b[1;34m(file, *args, **kwargs)\u001b[0m\n\u001b[0;32m    317\u001b[0m \u001b[38;5;28;01mif\u001b[39;00m file \u001b[38;5;129;01min\u001b[39;00m {\u001b[38;5;241m0\u001b[39m, \u001b[38;5;241m1\u001b[39m, \u001b[38;5;241m2\u001b[39m}:\n\u001b[0;32m    318\u001b[0m     \u001b[38;5;28;01mraise\u001b[39;00m \u001b[38;5;167;01mValueError\u001b[39;00m(\n\u001b[0;32m    319\u001b[0m         \u001b[38;5;124mf\u001b[39m\u001b[38;5;124m\"\u001b[39m\u001b[38;5;124mIPython won\u001b[39m\u001b[38;5;124m'\u001b[39m\u001b[38;5;124mt let you open fd=\u001b[39m\u001b[38;5;132;01m{\u001b[39;00mfile\u001b[38;5;132;01m}\u001b[39;00m\u001b[38;5;124m by default \u001b[39m\u001b[38;5;124m\"\u001b[39m\n\u001b[0;32m    320\u001b[0m         \u001b[38;5;124m\"\u001b[39m\u001b[38;5;124mas it is likely to crash IPython. If you know what you are doing, \u001b[39m\u001b[38;5;124m\"\u001b[39m\n\u001b[0;32m    321\u001b[0m         \u001b[38;5;124m\"\u001b[39m\u001b[38;5;124myou can use builtins\u001b[39m\u001b[38;5;124m'\u001b[39m\u001b[38;5;124m open.\u001b[39m\u001b[38;5;124m\"\u001b[39m\n\u001b[0;32m    322\u001b[0m     )\n\u001b[1;32m--> 324\u001b[0m \u001b[38;5;28;01mreturn\u001b[39;00m io_open(file, \u001b[38;5;241m*\u001b[39margs, \u001b[38;5;241m*\u001b[39m\u001b[38;5;241m*\u001b[39mkwargs)\n",
      "\u001b[1;31mFileNotFoundError\u001b[0m: [Errno 2] No such file or directory: 'whoops.txt'"
     ]
    }
   ],
   "source": [
    "myfile = open('whoops.txt')"
   ]
  },
  {
   "cell_type": "markdown",
   "id": "f4a08eec-d23e-4246-9571-7564f04ae68f",
   "metadata": {},
   "source": [
    "###### To avoid this error, make sure your .txt file is saved in the location as your notebook, to check your notebook location, use **pwd**:"
   ]
  },
  {
   "cell_type": "code",
   "execution_count": 4,
   "id": "d21d09b2-976e-4429-9787-44844051bf53",
   "metadata": {},
   "outputs": [
    {
     "data": {
      "text/plain": [
       "'C:\\\\Users\\\\user11\\\\Documents\\\\python video classes'"
      ]
     },
     "execution_count": 4,
     "metadata": {},
     "output_type": "execute_result"
    }
   ],
   "source": [
    "pwd"
   ]
  },
  {
   "cell_type": "code",
   "execution_count": 5,
   "id": "c4831fc9-40bb-4d55-a334-d3a95459dffe",
   "metadata": {},
   "outputs": [],
   "source": [
    "# open the text.txt we made earlier\n",
    "my_file = open('test.txt')"
   ]
  },
  {
   "cell_type": "code",
   "execution_count": 6,
   "id": "29882dfb-373f-4de8-a115-c4911493a3eb",
   "metadata": {},
   "outputs": [
    {
     "data": {
      "text/plain": [
       "'hello, this is a sample office test file.\\n'"
      ]
     },
     "execution_count": 6,
     "metadata": {},
     "output_type": "execute_result"
    }
   ],
   "source": [
    "# We can now read the file\n",
    "my_file.read()"
   ]
  },
  {
   "cell_type": "code",
   "execution_count": 7,
   "id": "3b5001fa-78bd-4047-90c0-95d68bb337a2",
   "metadata": {},
   "outputs": [
    {
     "data": {
      "text/plain": [
       "''"
      ]
     },
     "execution_count": 7,
     "metadata": {},
     "output_type": "execute_result"
    }
   ],
   "source": [
    "# But what happens if we try to read it again?\n",
    "my_file.read()"
   ]
  },
  {
   "cell_type": "markdown",
   "id": "a21a4829-edbb-4813-a550-8915d34dbd28",
   "metadata": {},
   "source": [
    "##### This happens bacause you can imaging the reading \"cursor\" is at the end of the file after having read it.So there is nothing left to read to read again.We can reset the \"cursor\" like this\":"
   ]
  },
  {
   "cell_type": "code",
   "execution_count": 8,
   "id": "1cee413d-d0e3-49f4-9579-3560bc37d30d",
   "metadata": {},
   "outputs": [
    {
     "data": {
      "text/plain": [
       "'hello, this is a sample office test file.\\n'"
      ]
     },
     "execution_count": 8,
     "metadata": {},
     "output_type": "execute_result"
    }
   ],
   "source": [
    "# Seek to the start of file (index 0)\n",
    "my_file.seek(0)\n",
    "my_file.read()"
   ]
  },
  {
   "cell_type": "code",
   "execution_count": null,
   "id": "16b4530b-5422-410e-ba39-c2771e952090",
   "metadata": {},
   "outputs": [],
   "source": []
  },
  {
   "cell_type": "markdown",
   "id": "f561ce69-c246-473f-89ba-eb3788ddfb98",
   "metadata": {},
   "source": [
    "##### You can read a file line by liine using the readlines method. Use caution with large file, since everything will be held in memory. we will learn how to iterate over large files later in the course."
   ]
  },
  {
   "cell_type": "code",
   "execution_count": 9,
   "id": "6d97a64b-1f9a-4d7e-9a6a-b13eb921bfdb",
   "metadata": {},
   "outputs": [
    {
     "data": {
      "text/plain": [
       "2"
      ]
     },
     "execution_count": 9,
     "metadata": {},
     "output_type": "execute_result"
    }
   ],
   "source": [
    "# Readline returns a list of the lines in the file\n",
    "my_file.seek(2)"
   ]
  },
  {
   "cell_type": "code",
   "execution_count": 10,
   "id": "c15f63c6-b46a-40e0-8721-a327893b5eeb",
   "metadata": {},
   "outputs": [
    {
     "data": {
      "text/plain": [
       "'llo, this is a sample office test file.\\n'"
      ]
     },
     "execution_count": 10,
     "metadata": {},
     "output_type": "execute_result"
    }
   ],
   "source": [
    "my_file.read()"
   ]
  },
  {
   "cell_type": "code",
   "execution_count": 11,
   "id": "3047ed3d-59aa-4491-a73d-313ceb50fdb8",
   "metadata": {},
   "outputs": [
    {
     "data": {
      "text/plain": [
       "0"
      ]
     },
     "execution_count": 11,
     "metadata": {},
     "output_type": "execute_result"
    }
   ],
   "source": [
    "my_file.seek(0)"
   ]
  },
  {
   "cell_type": "code",
   "execution_count": 12,
   "id": "eea2d763-ac59-4d3c-9594-844deb7d99ae",
   "metadata": {},
   "outputs": [
    {
     "data": {
      "text/plain": [
       "'hello, this is a sample office test file.\\n'"
      ]
     },
     "execution_count": 12,
     "metadata": {},
     "output_type": "execute_result"
    }
   ],
   "source": [
    "my_file.readline()"
   ]
  },
  {
   "cell_type": "markdown",
   "id": "6080c586-ee1e-4d49-ac5c-75f5f481406a",
   "metadata": {},
   "source": [
    "##### When you have finished using a file, it is always good practice to close it."
   ]
  },
  {
   "cell_type": "code",
   "execution_count": 13,
   "id": "c4aab5ff-72f1-4d10-96c9-9d0ff20dd48d",
   "metadata": {},
   "outputs": [],
   "source": [
    "my_file.close()"
   ]
  },
  {
   "cell_type": "markdown",
   "id": "0a9cc89c-b25f-45f6-b943-33de0ff4fdba",
   "metadata": {},
   "source": [
    "### Writing to a File\n",
    "##### by default, the open() function will only allow us to read the file. We need to pass the argument 'w' to write the file. e.g"
   ]
  },
  {
   "cell_type": "code",
   "execution_count": 14,
   "id": "2ff4fd78-e463-4bc2-bf47-84a71b66fd9e",
   "metadata": {},
   "outputs": [],
   "source": [
    "# Add a second argument to the function, 'w' which stands for write.\n",
    "# Passing 'w+' lets us read and write to the file\n",
    "\n",
    "my_file = open('test.txt', 'w+')"
   ]
  },
  {
   "cell_type": "markdown",
   "id": "050d8470-8590-41a8-8f76-ea4d6da58976",
   "metadata": {},
   "source": [
    "### Use caution!\n",
    "\n",
    "##### Opening a file with 'w' or 'w+' truncates the original, meaning that anything that was in the original file is **deleted**! "
   ]
  },
  {
   "cell_type": "code",
   "execution_count": 15,
   "id": "0e999404-a071-4579-bc85-dbdc7d3b4c4c",
   "metadata": {},
   "outputs": [
    {
     "data": {
      "text/plain": [
       "18"
      ]
     },
     "execution_count": 15,
     "metadata": {},
     "output_type": "execute_result"
    }
   ],
   "source": [
    "# Write to the file\n",
    "my_file.write('This is a new line')"
   ]
  },
  {
   "cell_type": "code",
   "execution_count": 16,
   "id": "224bf00c-1f8c-48be-b963-74fe569f60c8",
   "metadata": {},
   "outputs": [
    {
     "data": {
      "text/plain": [
       "'This is a new line'"
      ]
     },
     "execution_count": 16,
     "metadata": {},
     "output_type": "execute_result"
    }
   ],
   "source": [
    "# Read the file\n",
    "my_file.seek(0)\n",
    "my_file.read()"
   ]
  },
  {
   "cell_type": "code",
   "execution_count": 17,
   "id": "af2fd317-0a97-4f50-8cf9-7e865e078a7a",
   "metadata": {},
   "outputs": [],
   "source": [
    "my_file.close() # always do this when you're done with a file\n"
   ]
  },
  {
   "cell_type": "markdown",
   "id": "7ade3fac-acf5-453d-9d5f-58e31f89bae9",
   "metadata": {},
   "source": [
    "### Appending to a File\n",
    "##### Passing th argument 'a' opens the file and puts the pointer at the end, so anything writing is appended. Like 'w+', 'a+'lets us read and write to a file.\n",
    "##### If the file does not exist, one will be created."
   ]
  },
  {
   "cell_type": "code",
   "execution_count": 18,
   "id": "dd0af275-03ce-43ce-a361-469a0e9c0882",
   "metadata": {},
   "outputs": [],
   "source": [
    "my_file = open('test.txt', 'a+')"
   ]
  },
  {
   "cell_type": "code",
   "execution_count": 19,
   "id": "b30f1359-de46-4fe6-beb8-62ac02a518f5",
   "metadata": {},
   "outputs": [
    {
     "data": {
      "text/plain": [
       "23"
      ]
     },
     "execution_count": 19,
     "metadata": {},
     "output_type": "execute_result"
    }
   ],
   "source": [
    "my_file.write('\\nThis is text being appended to the test.txt')\n",
    "my_file.write('\\nAnd another line here.')"
   ]
  },
  {
   "cell_type": "code",
   "execution_count": 20,
   "id": "479e7f76-2c00-423c-be47-d2aa96eb50ab",
   "metadata": {},
   "outputs": [
    {
     "name": "stdout",
     "output_type": "stream",
     "text": [
      "This is a new line\n",
      "This is text being appended to the test.txt\n",
      "And another line here.\n"
     ]
    }
   ],
   "source": [
    "my_file.seek(0)\n",
    "print(my_file.read())"
   ]
  },
  {
   "cell_type": "code",
   "execution_count": null,
   "id": "a78f8c19-247b-4723-aae0-43e6bfec3faf",
   "metadata": {},
   "outputs": [],
   "source": [
    "my_file.close()"
   ]
  },
  {
   "cell_type": "markdown",
   "id": "58160c5d-617f-4095-ad42-d414acbcbaa2",
   "metadata": {},
   "source": [
    "### Appending with %%writefile\n",
    "\n",
    "##### We can do the same thing using IPython cell magic:"
   ]
  },
  {
   "cell_type": "code",
   "execution_count": null,
   "id": "0cb763f0-9a9e-431e-8bed-16ace2982dc4",
   "metadata": {},
   "outputs": [],
   "source": [
    "%%writefile -a test.txt\n",
    "\n",
    "This is text being appended to test.txt\n",
    "And another line here."
   ]
  },
  {
   "cell_type": "markdown",
   "id": "3066d943-ca39-42e0-be6a-deaafa785bbe",
   "metadata": {},
   "source": [
    "###### Add a blank space if you want the file line to beging on its own line,as Jupyter won't recognize escape sequences like \\n\n",
    "\n",
    "\n",
    "### Iterating through a File\n",
    "\n",
    "##### lets get a quick preview of a for loop by iterating over a file. First let's make a new text file with some IPython Magic:"
   ]
  },
  {
   "cell_type": "code",
   "execution_count": 21,
   "id": "40528130-f29d-4997-a348-f22de387c1a9",
   "metadata": {},
   "outputs": [
    {
     "name": "stdout",
     "output_type": "stream",
     "text": [
      "Overwriting test.txt\n"
     ]
    }
   ],
   "source": [
    "%%writefile test.txt\n",
    "First Line\n",
    "Second Line"
   ]
  },
  {
   "cell_type": "markdown",
   "id": "d801faa8-a509-471e-b074-27e2535f6b20",
   "metadata": {},
   "source": [
    "###### Now we can use a little bit of flow to tell the program to through every liine of the file and do something:"
   ]
  },
  {
   "cell_type": "code",
   "execution_count": 22,
   "id": "6d7ddb7e-6c84-4536-a8cf-845089986f53",
   "metadata": {},
   "outputs": [
    {
     "name": "stdout",
     "output_type": "stream",
     "text": [
      "First Line\n",
      "\n",
      "Second Line\n",
      "\n"
     ]
    }
   ],
   "source": [
    "for line in open('test.txt'):\n",
    "    print(line)"
   ]
  },
  {
   "cell_type": "code",
   "execution_count": null,
   "id": "017e1c1f-2310-4bbf-8428-d24197201c7a",
   "metadata": {},
   "outputs": [],
   "source": []
  },
  {
   "cell_type": "code",
   "execution_count": null,
   "id": "bcbca5df-2f79-458d-8e62-301c03533a8f",
   "metadata": {},
   "outputs": [],
   "source": []
  },
  {
   "cell_type": "code",
   "execution_count": null,
   "id": "4baf73c0-3de5-48e9-8485-8c17d2a1a978",
   "metadata": {},
   "outputs": [],
   "source": []
  },
  {
   "cell_type": "code",
   "execution_count": null,
   "id": "fde4b4c5-1642-44a2-92b1-35cf1a8327ef",
   "metadata": {},
   "outputs": [],
   "source": []
  },
  {
   "cell_type": "code",
   "execution_count": null,
   "id": "b50fa3a6-a62d-4b14-9723-ec52b0fe1a43",
   "metadata": {},
   "outputs": [],
   "source": []
  },
  {
   "cell_type": "code",
   "execution_count": null,
   "id": "01e91e2c-7aef-44df-8569-8636794f4e11",
   "metadata": {},
   "outputs": [],
   "source": []
  },
  {
   "cell_type": "code",
   "execution_count": null,
   "id": "626552bb-edd1-49a8-a433-638c42836394",
   "metadata": {},
   "outputs": [],
   "source": []
  },
  {
   "cell_type": "code",
   "execution_count": null,
   "id": "81d90867-6e4b-4352-8db0-74b003462420",
   "metadata": {},
   "outputs": [],
   "source": []
  },
  {
   "cell_type": "code",
   "execution_count": null,
   "id": "98d56ac3-63c4-4b81-9f3e-8ca44684c575",
   "metadata": {},
   "outputs": [],
   "source": []
  },
  {
   "cell_type": "code",
   "execution_count": null,
   "id": "c71d9326-4241-4326-998e-f8b3a2c48545",
   "metadata": {},
   "outputs": [],
   "source": []
  },
  {
   "cell_type": "code",
   "execution_count": null,
   "id": "304ddcea-7ab6-4b35-83f8-b17162938455",
   "metadata": {},
   "outputs": [],
   "source": []
  },
  {
   "cell_type": "code",
   "execution_count": null,
   "id": "7e8bdc01-7d24-4a2f-b748-1e2c2ef24e8d",
   "metadata": {},
   "outputs": [],
   "source": []
  },
  {
   "cell_type": "code",
   "execution_count": null,
   "id": "e7456994-9269-4d67-b9fa-48db293b0938",
   "metadata": {},
   "outputs": [],
   "source": []
  },
  {
   "cell_type": "code",
   "execution_count": null,
   "id": "2d9c1664-ae65-4e89-8c13-3ec0bef5af44",
   "metadata": {},
   "outputs": [],
   "source": []
  },
  {
   "cell_type": "code",
   "execution_count": null,
   "id": "ed059fe3-54a5-47d2-ad59-51f1995ffdf6",
   "metadata": {},
   "outputs": [],
   "source": []
  },
  {
   "cell_type": "code",
   "execution_count": null,
   "id": "a5e56c07-eb82-499f-a7bd-643f33f641b9",
   "metadata": {},
   "outputs": [],
   "source": []
  },
  {
   "cell_type": "code",
   "execution_count": null,
   "id": "eb033eb7-ac51-498e-9da9-e5e197a1b944",
   "metadata": {},
   "outputs": [],
   "source": []
  },
  {
   "cell_type": "code",
   "execution_count": null,
   "id": "23cedf51-cfaf-4b4f-9602-a7a7512f9684",
   "metadata": {},
   "outputs": [],
   "source": []
  }
 ],
 "metadata": {
  "kernelspec": {
   "display_name": "Python 3 (ipykernel)",
   "language": "python",
   "name": "python3"
  },
  "language_info": {
   "codemirror_mode": {
    "name": "ipython",
    "version": 3
   },
   "file_extension": ".py",
   "mimetype": "text/x-python",
   "name": "python",
   "nbconvert_exporter": "python",
   "pygments_lexer": "ipython3",
   "version": "3.12.4"
  }
 },
 "nbformat": 4,
 "nbformat_minor": 5
}
