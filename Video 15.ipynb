{
 "cells": [
  {
   "cell_type": "markdown",
   "id": "416e3d86-b0c4-4795-82d6-9d3c31cf4f53",
   "metadata": {},
   "source": [
    "## Map, Filter and Reduce\n",
    "\n",
    "#### 1. **Map()**  syntax - map(function, iterables)\n",
    "#### 2. **Filter()** Syntax - filter(function, iterable)\n",
    "#### 3. **reduce()** syntax - reduce(function, iterable)"
   ]
  },
  {
   "cell_type": "code",
   "execution_count": 1,
   "id": "ca57c223-58bf-441c-a05c-f26555ffdce9",
   "metadata": {},
   "outputs": [],
   "source": [
    "def add(a):\n",
    "    return a+a\n",
    "\n",
    "numbers = (4,6,8,9)"
   ]
  },
  {
   "cell_type": "code",
   "execution_count": 2,
   "id": "b45d5913-97bf-470a-a7ca-ec306f8e4407",
   "metadata": {},
   "outputs": [
    {
     "name": "stdout",
     "output_type": "stream",
     "text": [
      "<map object at 0x000002E532D15690>\n"
     ]
    }
   ],
   "source": [
    "out = map(add, numbers)\n",
    "\n",
    "print(out)"
   ]
  },
  {
   "cell_type": "code",
   "execution_count": 3,
   "id": "ab4fc979-5a08-424d-82ef-7b85df24e025",
   "metadata": {},
   "outputs": [
    {
     "data": {
      "text/plain": [
       "<map at 0x2e532d15690>"
      ]
     },
     "execution_count": 3,
     "metadata": {},
     "output_type": "execute_result"
    }
   ],
   "source": [
    "out"
   ]
  },
  {
   "cell_type": "code",
   "execution_count": 4,
   "id": "0d405598-5046-426a-8641-79af7f52e9d0",
   "metadata": {},
   "outputs": [
    {
     "data": {
      "text/plain": [
       "<function __main__.add(a)>"
      ]
     },
     "execution_count": 4,
     "metadata": {},
     "output_type": "execute_result"
    }
   ],
   "source": [
    "add"
   ]
  },
  {
   "cell_type": "code",
   "execution_count": 5,
   "id": "9da4adff-defb-4ed8-8f81-31278fe78949",
   "metadata": {},
   "outputs": [],
   "source": [
    "add = list(out)"
   ]
  },
  {
   "cell_type": "code",
   "execution_count": 6,
   "id": "4ace57d1-e74d-413e-97a2-351f59187ceb",
   "metadata": {},
   "outputs": [
    {
     "data": {
      "text/plain": [
       "[8, 12, 16, 18]"
      ]
     },
     "execution_count": 6,
     "metadata": {},
     "output_type": "execute_result"
    }
   ],
   "source": [
    "add"
   ]
  },
  {
   "cell_type": "code",
   "execution_count": 7,
   "id": "c8b30c9e-f3f7-404f-9235-a812ac0789d6",
   "metadata": {},
   "outputs": [],
   "source": [
    "def add(a):\n",
    "    return a+a\n",
    "\n",
    "numbers = (2,5,6,7,3)"
   ]
  },
  {
   "cell_type": "code",
   "execution_count": 8,
   "id": "0a33df55-f285-42d4-a0af-7b8aadcbae0d",
   "metadata": {},
   "outputs": [],
   "source": [
    "out = map(add, numbers)"
   ]
  },
  {
   "cell_type": "code",
   "execution_count": 9,
   "id": "e28faf21-6474-4558-9644-78c34265bb69",
   "metadata": {},
   "outputs": [],
   "source": [
    "add = list(out)"
   ]
  },
  {
   "cell_type": "code",
   "execution_count": 10,
   "id": "041349f8-5bde-4767-8532-4883e4c8c791",
   "metadata": {},
   "outputs": [
    {
     "name": "stdout",
     "output_type": "stream",
     "text": [
      "[4, 10, 12, 14, 6]\n"
     ]
    }
   ],
   "source": [
    "print(add)"
   ]
  },
  {
   "cell_type": "code",
   "execution_count": 11,
   "id": "e451df91-b3e4-4368-96ba-878ff58c1b3d",
   "metadata": {},
   "outputs": [
    {
     "name": "stdout",
     "output_type": "stream",
     "text": [
      "[4, 25, 36, 49, 9]\n"
     ]
    }
   ],
   "source": [
    "out = map(lambda a: a*a, numbers)\n",
    "\n",
    "print(list(out))"
   ]
  },
  {
   "cell_type": "code",
   "execution_count": 12,
   "id": "0d401350-c7e8-4b96-b3bc-245e1fb536f3",
   "metadata": {},
   "outputs": [],
   "source": [
    "multiply = list(out)"
   ]
  },
  {
   "cell_type": "code",
   "execution_count": 13,
   "id": "54a23413-77c0-45fd-bae4-73b5ec06e19e",
   "metadata": {},
   "outputs": [
    {
     "name": "stdout",
     "output_type": "stream",
     "text": [
      "[]\n"
     ]
    }
   ],
   "source": [
    "print(multiply)"
   ]
  },
  {
   "cell_type": "code",
   "execution_count": 14,
   "id": "fc3d8501-404a-475a-bc9a-b87356a77301",
   "metadata": {},
   "outputs": [],
   "source": [
    "def divide(a):\n",
    "    return a/a\n",
    "\n",
    "numbers = (4,6,8,9,5)"
   ]
  },
  {
   "cell_type": "code",
   "execution_count": 15,
   "id": "7e6e2ef5-e796-4355-a0a3-76bb31a6c875",
   "metadata": {},
   "outputs": [
    {
     "name": "stdout",
     "output_type": "stream",
     "text": [
      "[1.0, 1.0, 1.0, 1.0, 1.0]\n"
     ]
    }
   ],
   "source": [
    "out = map(lambda a : a/a, numbers)\n",
    "\n",
    "divided = list(out)\n",
    "\n",
    "print(divided)"
   ]
  },
  {
   "cell_type": "code",
   "execution_count": 18,
   "id": "4cff3cd4-47df-41ba-ad65-4f048dfd72c2",
   "metadata": {},
   "outputs": [
    {
     "name": "stdout",
     "output_type": "stream",
     "text": [
      "[1.0, 1.0, 1.0, 1.0, 1.0]\n"
     ]
    }
   ],
   "source": [
    "out = map(lambda a : a/a, numbers)\n",
    "\n",
    "\n",
    "print(list(out))"
   ]
  },
  {
   "cell_type": "code",
   "execution_count": 19,
   "id": "2df2f573-4d33-408c-9652-9982aaaf798c",
   "metadata": {},
   "outputs": [
    {
     "name": "stdout",
     "output_type": "stream",
     "text": [
      "['PEN', 'BOOKS', 'PHONE']\n"
     ]
    }
   ],
   "source": [
    "items = map(str.upper, ['pen', 'books', 'phone'])\n",
    "\n",
    "print(list(items))"
   ]
  },
  {
   "cell_type": "code",
   "execution_count": 20,
   "id": "f98bbdfe-2c64-4601-b42d-7759438d1a57",
   "metadata": {},
   "outputs": [
    {
     "name": "stdout",
     "output_type": "stream",
     "text": [
      "['pen', 'books', 'phone']\n"
     ]
    }
   ],
   "source": [
    "map_obj = map(str.lower, ['PEN', 'BOOKS', 'PHONE'])\n",
    "\n",
    "print(list(map_obj))"
   ]
  },
  {
   "cell_type": "code",
   "execution_count": 21,
   "id": "139cf1d3-9044-4e92-86a8-9cbd18974a9b",
   "metadata": {},
   "outputs": [
    {
     "name": "stdout",
     "output_type": "stream",
     "text": [
      "[3, 5, 5, 7]\n"
     ]
    }
   ],
   "source": [
    "map_obj = map(lambda x: len(list(x)), ['pen', 'books', 'phone', 'laptops'])\n",
    "\n",
    "print(list(map_obj))"
   ]
  },
  {
   "cell_type": "code",
   "execution_count": null,
   "id": "e1090996-e36a-4564-ade8-69edc6865aef",
   "metadata": {},
   "outputs": [],
   "source": []
  },
  {
   "cell_type": "markdown",
   "id": "f465211f-4925-425c-841a-6866688d15d6",
   "metadata": {},
   "source": [
    "### Filter"
   ]
  },
  {
   "cell_type": "code",
   "execution_count": 25,
   "id": "431cb2be-dd82-4c13-8b58-d23331b3ac6b",
   "metadata": {},
   "outputs": [],
   "source": [
    "def fil(a):\n",
    "    if a>5:\n",
    "        return a"
   ]
  },
  {
   "cell_type": "code",
   "execution_count": 26,
   "id": "b9f19339-c6c5-4055-b116-f04cf7ad77c2",
   "metadata": {},
   "outputs": [],
   "source": [
    "out = filter(fil,(1,4,7,3,9))"
   ]
  },
  {
   "cell_type": "code",
   "execution_count": 27,
   "id": "3c47de37-0b27-4569-b7e7-f88f3bda842e",
   "metadata": {},
   "outputs": [
    {
     "name": "stdout",
     "output_type": "stream",
     "text": [
      "[7, 9]\n"
     ]
    }
   ],
   "source": [
    "print(list(out))"
   ]
  },
  {
   "cell_type": "code",
   "execution_count": 28,
   "id": "afc605ff-f97b-4f6c-93a2-ff3a4a05c0b7",
   "metadata": {},
   "outputs": [
    {
     "name": "stdout",
     "output_type": "stream",
     "text": [
      "[7, 9]\n"
     ]
    }
   ],
   "source": [
    "y = filter(lambda a:(a>5),(1,4,7,3,9))\n",
    "print(list(y))"
   ]
  },
  {
   "cell_type": "code",
   "execution_count": 29,
   "id": "305bc362-f24d-40f6-9aa7-80556e1a28dc",
   "metadata": {},
   "outputs": [
    {
     "name": "stdout",
     "output_type": "stream",
     "text": [
      "[1, 4, 3]\n"
     ]
    }
   ],
   "source": [
    "y = filter(lambda a:(a<5),(1,4,7,3,9))\n",
    "print(list(y))"
   ]
  },
  {
   "cell_type": "code",
   "execution_count": 33,
   "id": "8a930056-e598-4c79-bd3a-c5fe3843a09e",
   "metadata": {},
   "outputs": [],
   "source": [
    "def veggies_with_e(x):\n",
    "    return 'e' in x"
   ]
  },
  {
   "cell_type": "code",
   "execution_count": 34,
   "id": "b382d9d2-de20-4075-a0ec-0575a5a226e1",
   "metadata": {},
   "outputs": [
    {
     "name": "stdout",
     "output_type": "stream",
     "text": [
      "['peas', 'ginger', 'beetroot']\n"
     ]
    }
   ],
   "source": [
    "items = filter(veggies_with_e,['peas','garlic',  'ginger', 'beetroot', 'carrot' ])\n",
    "print(list(items))"
   ]
  },
  {
   "cell_type": "code",
   "execution_count": 35,
   "id": "e9ece59c-dd47-4a20-83c7-61d8d09d4011",
   "metadata": {},
   "outputs": [
    {
     "name": "stdout",
     "output_type": "stream",
     "text": [
      "['peas', 'garlic', 'carrot']\n"
     ]
    }
   ],
   "source": [
    "veggies_with_e = filter(lambda x:('a' in x),('peas', 'garlic', 'ginger', 'beetroot', 'carrot'))\n",
    "\n",
    "print(list(veggies_with_e))"
   ]
  },
  {
   "cell_type": "code",
   "execution_count": null,
   "id": "01c3dd30-5942-4988-99b1-8ffa9d210952",
   "metadata": {},
   "outputs": [],
   "source": []
  },
  {
   "cell_type": "markdown",
   "id": "d1064e25-5260-4f23-b33e-b2fadd6d63b6",
   "metadata": {},
   "source": [
    "### Reduce"
   ]
  },
  {
   "cell_type": "code",
   "execution_count": 75,
   "id": "3b5b9d58-73df-4030-b65e-6329fce7c4e2",
   "metadata": {},
   "outputs": [
    {
     "data": {
      "text/plain": [
       "115"
      ]
     },
     "execution_count": 75,
     "metadata": {},
     "output_type": "execute_result"
    }
   ],
   "source": [
    "from functools import reduce\n",
    "\n",
    "reduce(lambda a,b: a+b, [10,35,50,20])"
   ]
  },
  {
   "cell_type": "code",
   "execution_count": 44,
   "id": "50ad70ab-a8d0-4cb9-8104-869b798620bd",
   "metadata": {},
   "outputs": [
    {
     "data": {
      "text/plain": [
       "120"
      ]
     },
     "execution_count": 44,
     "metadata": {},
     "output_type": "execute_result"
    }
   ],
   "source": [
    "reduce(lambda a,b: a*b, [2,3,4,5])"
   ]
  },
  {
   "cell_type": "code",
   "execution_count": 61,
   "id": "cfae09af-4bf5-4b01-b410-51d48887ae29",
   "metadata": {},
   "outputs": [
    {
     "name": "stdout",
     "output_type": "stream",
     "text": [
      "68\n"
     ]
    }
   ],
   "source": [
    "numbers = [3,4,6,9,34,12]\n",
    "\n",
    "def sum(first,second):\n",
    "    return first + second\n",
    "\n",
    "result = reduce(sum, numbers)\n",
    "\n",
    "print(result)"
   ]
  },
  {
   "cell_type": "code",
   "execution_count": 63,
   "id": "11b4de22-6a8c-4bef-ac8b-a235f6d00afa",
   "metadata": {},
   "outputs": [
    {
     "data": {
      "text/plain": [
       "68"
      ]
     },
     "execution_count": 63,
     "metadata": {},
     "output_type": "execute_result"
    }
   ],
   "source": [
    "reduce(lambda a,b: a+b, numbers)"
   ]
  },
  {
   "cell_type": "code",
   "execution_count": 64,
   "id": "87642039-13ea-4112-963b-c7c527bfd4af",
   "metadata": {},
   "outputs": [
    {
     "data": {
      "text/plain": [
       "264384"
      ]
     },
     "execution_count": 64,
     "metadata": {},
     "output_type": "execute_result"
    }
   ],
   "source": [
    "reduce(lambda a,b: a*b, numbers)"
   ]
  },
  {
   "cell_type": "code",
   "execution_count": 65,
   "id": "252239ff-1fec-4631-8157-02510ad8b176",
   "metadata": {},
   "outputs": [],
   "source": [
    "list2 = [10,40,56,27,33,15,70]\n",
    "\n",
    "double_the_num = list(map(lambda x : x * 2, list2))"
   ]
  },
  {
   "cell_type": "code",
   "execution_count": 66,
   "id": "c3455a05-ddab-4260-a902-9e20740d5096",
   "metadata": {},
   "outputs": [
    {
     "name": "stdout",
     "output_type": "stream",
     "text": [
      "[20, 80, 112, 54, 66, 30, 140]\n"
     ]
    }
   ],
   "source": [
    "print(double_the_num)"
   ]
  },
  {
   "cell_type": "code",
   "execution_count": 68,
   "id": "6ae2d3fa-b4b9-4fde-8746-77c176f4e9bf",
   "metadata": {},
   "outputs": [
    {
     "name": "stdout",
     "output_type": "stream",
     "text": [
      "[8, 125, 1000, 216, 64, 1728]\n"
     ]
    }
   ],
   "source": [
    "list3 = [2,5,10,6,4,12]\n",
    "cube = map(lambda x : pow(x,3), list3)\n",
    "\n",
    "print(list(cube))"
   ]
  },
  {
   "cell_type": "code",
   "execution_count": 69,
   "id": "4b670ab0-7647-49f9-a5e1-14d96b16f941",
   "metadata": {},
   "outputs": [
    {
     "name": "stdout",
     "output_type": "stream",
     "text": [
      "Help on built-in function pow in module builtins:\n",
      "\n",
      "pow(base, exp, mod=None)\n",
      "    Equivalent to base**exp with 2 arguments or base**exp % mod with 3 arguments\n",
      "\n",
      "    Some types, such as ints, are able to use a more efficient algorithm when\n",
      "    invoked using the three argument form.\n",
      "\n"
     ]
    }
   ],
   "source": [
    "help(pow)"
   ]
  },
  {
   "cell_type": "code",
   "execution_count": 78,
   "id": "cb598b72-277f-48b9-8a0d-ded9081fd68c",
   "metadata": {},
   "outputs": [],
   "source": [
    "list4 = [2,5,10,6,4,12,7]\n",
    "\n",
    "sum = reduce(lambda x,y: x+y,list4)"
   ]
  },
  {
   "cell_type": "code",
   "execution_count": 79,
   "id": "b8607bf7-1caf-471a-9e10-699ad52c4303",
   "metadata": {},
   "outputs": [
    {
     "name": "stdout",
     "output_type": "stream",
     "text": [
      "46\n"
     ]
    }
   ],
   "source": [
    "print(sum)"
   ]
  },
  {
   "cell_type": "code",
   "execution_count": 81,
   "id": "d4f061e9-2273-4a06-bc43-5a80d5ae9d15",
   "metadata": {},
   "outputs": [
    {
     "name": "stdout",
     "output_type": "stream",
     "text": [
      "201600\n"
     ]
    }
   ],
   "source": [
    "prod = reduce(lambda x,y: x * y, list4)\n",
    "\n",
    "print(prod)"
   ]
  },
  {
   "cell_type": "code",
   "execution_count": 82,
   "id": "ddd7509b-e6ef-490a-9f3c-b038963fcd83",
   "metadata": {},
   "outputs": [],
   "source": [
    "def quadratic(a,b,c):\n",
    "    return lambda x : a*x**2 + b*x + c"
   ]
  },
  {
   "cell_type": "code",
   "execution_count": 83,
   "id": "cfa2c9b8-a943-47b3-9948-389b180dc948",
   "metadata": {},
   "outputs": [],
   "source": [
    "f = quadratic(2,3,5)"
   ]
  },
  {
   "cell_type": "code",
   "execution_count": 85,
   "id": "1b474ccd-f703-4b4d-9b91-cecbc174f182",
   "metadata": {},
   "outputs": [
    {
     "data": {
      "text/plain": [
       "19"
      ]
     },
     "execution_count": 85,
     "metadata": {},
     "output_type": "execute_result"
    }
   ],
   "source": [
    "f(2)"
   ]
  },
  {
   "cell_type": "code",
   "execution_count": null,
   "id": "b720d736-a151-42e8-9126-8cdf6b28b8d7",
   "metadata": {},
   "outputs": [],
   "source": []
  },
  {
   "cell_type": "code",
   "execution_count": 52,
   "id": "e415a9a8-ba14-4921-bb80-1d81ed46f300",
   "metadata": {},
   "outputs": [],
   "source": [
    "def reduce(function, iterable, initializer=None):\n",
    "    it = iter(iterable)\n",
    "    if initializer is None:\n",
    "        value = next(it)\n",
    "    else:\n",
    "        value = initializer\n",
    "    for element in it:\n",
    "        value = function(value, element)\n",
    "    return value"
   ]
  },
  {
   "cell_type": "code",
   "execution_count": null,
   "id": "91c66322-c752-4fb1-af44-7a9ebd75f872",
   "metadata": {},
   "outputs": [],
   "source": []
  },
  {
   "cell_type": "code",
   "execution_count": null,
   "id": "fda4ba15-aac4-41af-8071-ed034d090fac",
   "metadata": {},
   "outputs": [],
   "source": []
  }
 ],
 "metadata": {
  "kernelspec": {
   "display_name": "Python 3 (ipykernel)",
   "language": "python",
   "name": "python3"
  },
  "language_info": {
   "codemirror_mode": {
    "name": "ipython",
    "version": 3
   },
   "file_extension": ".py",
   "mimetype": "text/x-python",
   "name": "python",
   "nbconvert_exporter": "python",
   "pygments_lexer": "ipython3",
   "version": "3.12.4"
  }
 },
 "nbformat": 4,
 "nbformat_minor": 5
}
