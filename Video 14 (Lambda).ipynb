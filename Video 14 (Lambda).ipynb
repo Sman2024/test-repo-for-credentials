{
 "cells": [
  {
   "cell_type": "code",
   "execution_count": 16,
   "id": "65330d50-5646-46c7-ab09-4c265e89a5fa",
   "metadata": {},
   "outputs": [
    {
     "data": {
      "text/plain": [
       "'John Doe, Dr.'"
      ]
     },
     "execution_count": 16,
     "metadata": {},
     "output_type": "execute_result"
    }
   ],
   "source": [
    "# Creating a full name\n",
    "\n",
    "def full_name(*names, **title):\n",
    "    return ' '.join(names) + ', ' + title['title']\n",
    "\n",
    "full_name('John', 'Doe', title = 'Dr.' )"
   ]
  },
  {
   "cell_type": "code",
   "execution_count": 17,
   "id": "17d95656-a032-4967-914d-982a61159ca7",
   "metadata": {},
   "outputs": [
    {
     "name": "stdout",
     "output_type": "stream",
     "text": [
      "John Doe, Mr.\n"
     ]
    }
   ],
   "source": [
    "print(full_name('John', 'Doe', title = 'Mr.' ))"
   ]
  },
  {
   "cell_type": "code",
   "execution_count": 9,
   "id": "82f2279f-b0ba-4ee0-a70b-76137fcc2050",
   "metadata": {},
   "outputs": [
    {
     "data": {
      "text/plain": [
       "[1, 2, 5, 3, 4, {'a': 5, 'b': 6}]"
      ]
     },
     "execution_count": 9,
     "metadata": {},
     "output_type": "execute_result"
    }
   ],
   "source": [
    "# Combining lists and dictionaries\n",
    "\n",
    "def combine(list_1, *list, **dict):\n",
    "    list_1.extend(list)\n",
    "    list_1.append(dict)\n",
    "    return list_1\n",
    "\n",
    "combine([1,2,5],3,4,a=5,b=6)"
   ]
  },
  {
   "cell_type": "code",
   "execution_count": 20,
   "id": "3e2a17a8-30e6-4111-99b8-de1fd45e3695",
   "metadata": {},
   "outputs": [
    {
     "name": "stdout",
     "output_type": "stream",
     "text": [
      "{'First Name': 'John', 'Last Name': 'Doe', 'Other Names': ('James',), 'age': 25, 'location': 'Nigeria', 'Gender': 'Male'}\n"
     ]
    }
   ],
   "source": [
    "# Profile Building\n",
    "\n",
    "def build_profile(first_name, last_name, *other_names, **details):\n",
    "    profile = {'First Name': first_name, 'Last Name': last_name, 'Other Names': other_names}\n",
    "    profile.update(details)\n",
    "    return profile\n",
    "\n",
    "print(build_profile('John', 'Doe', 'James', age=25, location='Nigeria',Gender='Male'))"
   ]
  },
  {
   "cell_type": "code",
   "execution_count": null,
   "id": "b70dda5f-41e0-454c-892d-02a568c6e028",
   "metadata": {},
   "outputs": [],
   "source": []
  },
  {
   "cell_type": "markdown",
   "id": "c4340eed-6027-4bda-8999-6e7c15f2ce89",
   "metadata": {},
   "source": [
    "### Lambda Fuctions\n",
    "##### lambda functions: expression"
   ]
  },
  {
   "cell_type": "code",
   "execution_count": 1,
   "id": "e52efdc3-010b-48cb-a789-7d78201438ba",
   "metadata": {},
   "outputs": [],
   "source": [
    "def add(a,b):\n",
    "    result = a + b\n",
    "    return result"
   ]
  },
  {
   "cell_type": "code",
   "execution_count": 2,
   "id": "4c1eea4b-69ed-4cb2-8e11-886745cbf8fa",
   "metadata": {},
   "outputs": [
    {
     "data": {
      "text/plain": [
       "7"
      ]
     },
     "execution_count": 2,
     "metadata": {},
     "output_type": "execute_result"
    }
   ],
   "source": [
    "add(3,4)"
   ]
  },
  {
   "cell_type": "code",
   "execution_count": 24,
   "id": "12117d16-5b20-495b-9938-013cdec0bc1f",
   "metadata": {},
   "outputs": [
    {
     "data": {
      "text/plain": [
       "15"
      ]
     },
     "execution_count": 24,
     "metadata": {},
     "output_type": "execute_result"
    }
   ],
   "source": [
    "# lambda function is an inbuilt function\n",
    "\n",
    "add = lambda a,b : a+b\n",
    "\n",
    "add(10,5)\n"
   ]
  },
  {
   "cell_type": "code",
   "execution_count": 25,
   "id": "06fe9704-d9f8-4029-bd1f-afeff4e36363",
   "metadata": {},
   "outputs": [
    {
     "data": {
      "text/plain": [
       "160"
      ]
     },
     "execution_count": 25,
     "metadata": {},
     "output_type": "execute_result"
    }
   ],
   "source": [
    "add = lambda x : x + 100\n",
    "\n",
    "add(60)"
   ]
  },
  {
   "cell_type": "code",
   "execution_count": 26,
   "id": "19322db4-0d81-4a1a-be88-d1fdf4729acd",
   "metadata": {},
   "outputs": [
    {
     "data": {
      "text/plain": [
       "10"
      ]
     },
     "execution_count": 26,
     "metadata": {},
     "output_type": "execute_result"
    }
   ],
   "source": [
    "add = lambda y : y * 2\n",
    "\n",
    "add(5)"
   ]
  },
  {
   "cell_type": "markdown",
   "id": "9d7457a5-6a1e-4426-b9eb-f51517b0cdb5",
   "metadata": {},
   "source": [
    "#### We can also make a function inside lambda e.g"
   ]
  },
  {
   "cell_type": "code",
   "execution_count": 27,
   "id": "1bf0027f-fe8c-4665-a28a-c89a48ccf809",
   "metadata": {},
   "outputs": [
    {
     "data": {
      "text/plain": [
       "50"
      ]
     },
     "execution_count": 27,
     "metadata": {},
     "output_type": "execute_result"
    }
   ],
   "source": [
    "(lambda a,b : a * b)(5,10)\n"
   ]
  },
  {
   "cell_type": "code",
   "execution_count": 30,
   "id": "be27b3cd-916e-4595-9c09-33fbbc377043",
   "metadata": {},
   "outputs": [
    {
     "data": {
      "text/plain": [
       "25"
      ]
     },
     "execution_count": 30,
     "metadata": {},
     "output_type": "execute_result"
    }
   ],
   "source": [
    "(lambda a,b : a * b)(5,5)"
   ]
  },
  {
   "cell_type": "code",
   "execution_count": 31,
   "id": "61c193d2-4315-4144-b215-bc60c49f69e6",
   "metadata": {},
   "outputs": [
    {
     "data": {
      "text/plain": [
       "60"
      ]
     },
     "execution_count": 31,
     "metadata": {},
     "output_type": "execute_result"
    }
   ],
   "source": [
    "product = lambda x,y,z : x*y*z\n",
    "\n",
    "product(3,4,5)"
   ]
  },
  {
   "cell_type": "code",
   "execution_count": 37,
   "id": "e123e087-0b93-4b58-914d-6dae240860f6",
   "metadata": {},
   "outputs": [
    {
     "name": "stdout",
     "output_type": "stream",
     "text": [
      "49\n",
      "60\n"
     ]
    }
   ],
   "source": [
    "add = lambda x,y=15,z=24 : x+y+z\n",
    "\n",
    "print(add(10))\n",
    "print(add(20,10,30))"
   ]
  },
  {
   "cell_type": "code",
   "execution_count": 39,
   "id": "bf38803d-cb22-4a1d-8322-1bd5f7252e44",
   "metadata": {},
   "outputs": [
    {
     "name": "stdout",
     "output_type": "stream",
     "text": [
      "54\n",
      "60\n"
     ]
    }
   ],
   "source": [
    "add = lambda x,y,z=24 : x+y+z\n",
    "\n",
    "print(add(10,20))\n",
    "print(add(20,10,30))"
   ]
  },
  {
   "cell_type": "code",
   "execution_count": 40,
   "id": "8cea1383-ba90-4491-bc98-117e24072bb5",
   "metadata": {},
   "outputs": [],
   "source": [
    "addition = lambda *args : sum(args)"
   ]
  },
  {
   "cell_type": "code",
   "execution_count": 41,
   "id": "55ef2807-ad93-4fc9-93bb-a11695c0e1ce",
   "metadata": {},
   "outputs": [
    {
     "data": {
      "text/plain": [
       "54"
      ]
     },
     "execution_count": 41,
     "metadata": {},
     "output_type": "execute_result"
    }
   ],
   "source": [
    "addition(2,3,5,6,8,10,20)"
   ]
  },
  {
   "cell_type": "code",
   "execution_count": 43,
   "id": "9f2ff8ce-85dd-41af-8eda-d7d4bc8460b4",
   "metadata": {},
   "outputs": [
    {
     "data": {
      "text/plain": [
       "420"
      ]
     },
     "execution_count": 43,
     "metadata": {},
     "output_type": "execute_result"
    }
   ],
   "source": [
    "higher_ord_func = lambda x, func : x + func(x)\n",
    "higher_ord_func(20, lambda x : x*x)"
   ]
  },
  {
   "cell_type": "code",
   "execution_count": 44,
   "id": "ae0b6089-b016-4667-8828-0f4bf49403c4",
   "metadata": {},
   "outputs": [],
   "source": [
    "Maximum = lambda *args : max(args)"
   ]
  },
  {
   "cell_type": "code",
   "execution_count": 45,
   "id": "17495d9f-40a1-45b9-975e-88b9b17047c5",
   "metadata": {},
   "outputs": [
    {
     "data": {
      "text/plain": [
       "34"
      ]
     },
     "execution_count": 45,
     "metadata": {},
     "output_type": "execute_result"
    }
   ],
   "source": [
    "Maximum(2,4,5,7,12,9,34,12,)"
   ]
  },
  {
   "cell_type": "code",
   "execution_count": 47,
   "id": "fa8e6200-2ed4-4214-827d-e5012c339e68",
   "metadata": {},
   "outputs": [
    {
     "data": {
      "text/plain": [
       "'ood'"
      ]
     },
     "execution_count": 47,
     "metadata": {},
     "output_type": "execute_result"
    }
   ],
   "source": [
    "(lambda z : (z % 2 and 'ood' or 'even'))(11)"
   ]
  },
  {
   "cell_type": "code",
   "execution_count": 53,
   "id": "5a1e82ee-8c48-4435-b3a8-31cd5cb0c3d6",
   "metadata": {},
   "outputs": [
    {
     "data": {
      "text/plain": [
       "'even'"
      ]
     },
     "execution_count": 53,
     "metadata": {},
     "output_type": "execute_result"
    }
   ],
   "source": [
    "odd_even = lambda z : (z % 2 and 'odd' or 'even')\n",
    "\n",
    "odd_even(10)"
   ]
  },
  {
   "cell_type": "code",
   "execution_count": 54,
   "id": "9f867333-ab91-47ab-80ab-e01a41c125d0",
   "metadata": {},
   "outputs": [],
   "source": [
    "sub_string = lambda string : string in 'Welcome to Python functions tutorial'"
   ]
  },
  {
   "cell_type": "code",
   "execution_count": 57,
   "id": "a3c1d126-6b80-464b-b651-058febf12d53",
   "metadata": {},
   "outputs": [
    {
     "name": "stdout",
     "output_type": "stream",
     "text": [
      "True\n"
     ]
    }
   ],
   "source": [
    "print(sub_string('Python'))"
   ]
  },
  {
   "cell_type": "code",
   "execution_count": 58,
   "id": "1b34b7e7-b84e-4640-8d60-723abde4b071",
   "metadata": {},
   "outputs": [
    {
     "name": "stdout",
     "output_type": "stream",
     "text": [
      "False\n"
     ]
    }
   ],
   "source": [
    "print(sub_string('toward'))"
   ]
  },
  {
   "cell_type": "code",
   "execution_count": 59,
   "id": "68e0df12-4aa8-43ea-8a76-31e9c2067a52",
   "metadata": {},
   "outputs": [],
   "source": [
    "num = [10,40,56,27,33,15,70]\n",
    "greater = list(filter(lambda num: num>30,num))"
   ]
  },
  {
   "cell_type": "code",
   "execution_count": 60,
   "id": "08386413-2f58-445f-8f78-ed7a3832edb6",
   "metadata": {},
   "outputs": [
    {
     "name": "stdout",
     "output_type": "stream",
     "text": [
      "[40, 56, 33, 70]\n"
     ]
    }
   ],
   "source": [
    "print(greater)"
   ]
  },
  {
   "cell_type": "code",
   "execution_count": 63,
   "id": "0e38ce31-3cc6-4562-b3d2-9f6cecfee6ba",
   "metadata": {},
   "outputs": [],
   "source": [
    "num = [10,40,56,27,33,15,70]\n",
    "smaller = list(filter(lambda num: num<30,num))"
   ]
  },
  {
   "cell_type": "code",
   "execution_count": 66,
   "id": "97f73648-6fda-4b15-939e-85b70837b440",
   "metadata": {},
   "outputs": [
    {
     "name": "stdout",
     "output_type": "stream",
     "text": [
      "[10, 27, 15]\n"
     ]
    }
   ],
   "source": [
    "print(smaller)"
   ]
  },
  {
   "cell_type": "code",
   "execution_count": 70,
   "id": "58faa959-fa0d-4c81-a85b-a213dec899d5",
   "metadata": {},
   "outputs": [
    {
     "name": "stdout",
     "output_type": "stream",
     "text": [
      "[40, 56]\n"
     ]
    }
   ],
   "source": [
    "list1 = [10,40,56,27,33,15,70]\n",
    "divide = list(filter(lambda x : (x % 4 == 0), list1))\n",
    "\n",
    "print(divide)"
   ]
  },
  {
   "cell_type": "raw",
   "id": "e0724f71-ed47-4466-a91a-19bda785f01d",
   "metadata": {},
   "source": []
  },
  {
   "cell_type": "code",
   "execution_count": null,
   "id": "e7e32631-0cae-41c9-885f-137ec6114e69",
   "metadata": {},
   "outputs": [],
   "source": []
  },
  {
   "cell_type": "code",
   "execution_count": null,
   "id": "98096162-95b8-47c5-a3ce-c2e1242318e7",
   "metadata": {},
   "outputs": [],
   "source": []
  },
  {
   "cell_type": "code",
   "execution_count": null,
   "id": "1a48250c-42d1-46af-91d9-8fd4c3c38487",
   "metadata": {},
   "outputs": [],
   "source": []
  },
  {
   "cell_type": "code",
   "execution_count": null,
   "id": "0ff8e797-f725-49eb-be6c-0e507ef07886",
   "metadata": {},
   "outputs": [],
   "source": []
  }
 ],
 "metadata": {
  "kernelspec": {
   "display_name": "Python 3 (ipykernel)",
   "language": "python",
   "name": "python3"
  },
  "language_info": {
   "codemirror_mode": {
    "name": "ipython",
    "version": 3
   },
   "file_extension": ".py",
   "mimetype": "text/x-python",
   "name": "python",
   "nbconvert_exporter": "python",
   "pygments_lexer": "ipython3",
   "version": "3.12.4"
  }
 },
 "nbformat": 4,
 "nbformat_minor": 5
}
