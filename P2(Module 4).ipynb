{
 "cells": [
  {
   "cell_type": "markdown",
   "id": "15d3207c-a53c-4b69-a898-916ea901c099",
   "metadata": {},
   "source": [
    "### Generators - where to find them\n",
    "\n",
    "**Generator** - what do you associate this word with? Perhaps it refers to some electronic device. Or perhaps it refers to a heavy and serious machine designed to produce power, electrical or other.\n",
    "\n",
    "A Python generator is a piece of specialized code able to produce a series of values, and to control the iteration process. This is why generators are very often called **iterators**, and although some may find a very subtle distinction between these two, we'll treat them as one.\n",
    "\n",
    "You may not realize it, but you've encountered generators many, many times before. Take a look at the very simple snippet:"
   ]
  },
  {
   "cell_type": "code",
   "execution_count": 1,
   "id": "4e0ad000-2494-4c3e-b40b-1b9603be6ddc",
   "metadata": {},
   "outputs": [
    {
     "name": "stdout",
     "output_type": "stream",
     "text": [
      "0\n",
      "1\n",
      "2\n",
      "3\n",
      "4\n"
     ]
    }
   ],
   "source": [
    "for i in range(5):\n",
    "    print(i)\n"
   ]
  },
  {
   "cell_type": "markdown",
   "id": "321e14a3-5b71-4ec2-b73c-77c48d502e06",
   "metadata": {},
   "source": [
    "The **range()** function is, in fact, a generator, which is (in fact, again) an iterator.\n",
    "\n",
    "What is the difference?\n",
    "\n",
    "A function returns one, well-defined value - it may be the result of a more or less complex evaluation of, e.g., a polynomial, and is invoked once - only once.\n",
    "\n",
    "A generator returns a series of values, and in general, is (implicitly) invoked more than once.\n",
    "\n",
    "In the example, the range() generator is invoked six times, providing five subsequent values from zero to four, and finally signaling that the series is complete.\n",
    "\n",
    "The above process is completely transparent. Let's shed some light on it. Let's show you the **iterator protocol**.\n",
    "\n",
    "   "
   ]
  },
  {
   "cell_type": "markdown",
   "id": "1f61acec-6c14-4d0c-927c-485ef19e5cff",
   "metadata": {},
   "source": [
    "### Generators - where to find them: continued\n",
    "\n",
    "The iterator protocol is a way in which an object should behave to conform to the rules imposed by the context of the for and in statements. An object conforming to the iterator protocol is called an iterator.\n",
    "\n",
    "An iterator must provide two methods:\n",
    "\n",
    "    __iter__() which should return the object itself and which is invoked once (it's needed for Python to successfully start the iteration)\n",
    "    __next__() which is intended to return the next value (first, second, and so on) of the desired series - it will be invoked by the for/in statements in order to pass through the next iteration; if there are no more values to provide, the method should raise the StopIteration exception.\n",
    "\n",
    "Does it sound strange? Not at all. Look at the example in the editor."
   ]
  },
  {
   "cell_type": "code",
   "execution_count": 2,
   "id": "0b95b46e-4326-46c1-b381-d65a170679ae",
   "metadata": {},
   "outputs": [
    {
     "name": "stdout",
     "output_type": "stream",
     "text": [
      "__init__\n",
      "__iter__\n",
      "__next__\n",
      "1\n",
      "__next__\n",
      "1\n",
      "__next__\n",
      "2\n",
      "__next__\n",
      "3\n",
      "__next__\n",
      "5\n",
      "__next__\n",
      "8\n",
      "__next__\n",
      "13\n",
      "__next__\n",
      "21\n",
      "__next__\n",
      "34\n",
      "__next__\n",
      "55\n",
      "__next__\n"
     ]
    }
   ],
   "source": [
    "class Fib:\n",
    "    def __init__(self, nn):\n",
    "        print(\"__init__\")\n",
    "        self.__n = nn\n",
    "        self.__i = 0\n",
    "        self.__p1 = self.__p2 = 1\n",
    "\n",
    "    def __iter__(self):\n",
    "        print(\"__iter__\")\n",
    "        return self\n",
    "\n",
    "    def __next__(self):\n",
    "        print(\"__next__\")\t\t\t\t\n",
    "        self.__i += 1\n",
    "        if self.__i > self.__n:\n",
    "            raise StopIteration\n",
    "        if self.__i in [1, 2]:\n",
    "            return 1\n",
    "        ret = self.__p1 + self.__p2\n",
    "        self.__p1, self.__p2 = self.__p2, ret\n",
    "        return ret\n",
    "\n",
    "\n",
    "for i in Fib(10):\n",
    "    print(i)"
   ]
  },
  {
   "cell_type": "markdown",
   "id": "7ae3a1c6-ae63-416f-8851-f672cb33a61d",
   "metadata": {},
   "source": [
    "We've built a class able to iterate through the first n values (where n is a constructor parameter) of the Fibonacci numbers.\n",
    "\n",
    "Let us remind you - the Fibonacci numbers (Fibi) are defined as follows:\n",
    "\n",
    "Fib1 = 1\n",
    "Fib2 = 1\n",
    "Fibi = Fibi-1 + Fibi-2\n",
    "\n",
    "In other words:\n",
    "\n",
    "    the first two Fibonacci numbers are equal to 1;\n",
    "    any other Fibonacci number is the sum of the two previous ones (e.g., Fib3 = 2, Fib4 = 3, Fib5 = 5, and so on)\n",
    "\n",
    "Let's dive into the code:\n",
    "\n",
    "    lines 2 through 6: the class constructor prints a message (we'll use this to trace the class's behavior), prepares some variables (__n to store the series limit, __i to track the current Fibonacci number to provide, and __p1 along with __p2 to save the two previous numbers);\n",
    "\n",
    "    lines 8 through 10: the __iter__ method is obliged to return the iterator object itself; its purpose may be a bit ambiguous here, but there's no mystery; try to imagine an object which is not an iterator (e.g., it's a collection of some entities), but one of its components is an iterator able to scan the collection; the __iter__ method should extract the iterator and entrust it with the execution of the iteration protocol; as you can see, the method starts its action by printing a message;\n",
    "\n",
    "    lines 12 through 21: the __next__ method is responsible for creating the sequence; it's somewhat wordy, but this should make it more readable; first, it prints a message, then it updates the number of desired values, and if it reaches the end of the sequence, the method breaks the iteration by raising the StopIteration exception; the rest of the code is simple, and it precisely reflects the definition we showed you earlier;\n",
    "\n",
    "    lines 24 and 25 make use of the iterator."
   ]
  },
  {
   "cell_type": "markdown",
   "id": "04893ead-735b-4afe-9a83-92aadd825903",
   "metadata": {},
   "source": [
    "\n",
    "    the iterator object is instantiated first;\n",
    "    next, Python invokes the __iter__ method to get access to the actual iterator;\n",
    "    the __next__ method is invoked eleven times - the first ten times produce useful values, while the eleventh terminates the iteration.\n"
   ]
  },
  {
   "cell_type": "code",
   "execution_count": null,
   "id": "1f6e96a9-a9fe-49de-b62b-961c3491a7d2",
   "metadata": {},
   "outputs": [],
   "source": []
  },
  {
   "cell_type": "markdown",
   "id": "00c834d1-858f-41a5-93c3-89d120bf02f6",
   "metadata": {},
   "source": [
    "#### Generators - where to find them: continued\n",
    "\n",
    "The previous example shows you a solution where the iterator object is a part of a more complex class.\n",
    "\n",
    "The code isn't really sophisticated, but it presents the concept in a clear way.\n",
    "\n",
    "Take a look at the code in the editor."
   ]
  },
  {
   "cell_type": "code",
   "execution_count": 27,
   "id": "5bfba876-2e69-4d51-a0bb-6775a1d400ea",
   "metadata": {},
   "outputs": [
    {
     "name": "stdout",
     "output_type": "stream",
     "text": [
      "Class iter\n",
      "1\n",
      "1\n",
      "2\n",
      "3\n",
      "5\n",
      "8\n",
      "13\n",
      "21\n",
      "34\n",
      "55\n"
     ]
    }
   ],
   "source": [
    "class Fib:\n",
    "    def __init__(self, nn):\n",
    "        self.__n = nn\n",
    "        self.__i = 0\n",
    "        self.__p1 = self.__p2 = 1\n",
    "\n",
    "    def __iter__(self):\n",
    "        print(\"Fib iter\")\n",
    "        return self\n",
    "\n",
    "    def __next__(self):\n",
    "        self.__i += 1\n",
    "        if self.__i > self.__n:\n",
    "            raise StopIteration\n",
    "        if self.__i in [1, 2]:\n",
    "            return 1\n",
    "        ret = self.__p1 + self.__p2\n",
    "        self.__p1, self.__p2 = self.__p2, ret\n",
    "        return ret\n",
    "\n",
    "class Class:\n",
    "    def __init__(self, n):\n",
    "        self.__iter = Fib(n)\n",
    "\n",
    "    def __iter__(self):\n",
    "        print(\"Class iter\")\n",
    "        return self.__iter;\n",
    "\n",
    "\n",
    "object = Class(10)\n",
    "\n",
    "for i in object:\n",
    "    print(i)\n"
   ]
  },
  {
   "cell_type": "markdown",
   "id": "39cc6ec0-620d-430d-9c20-fb7fed5ad92b",
   "metadata": {},
   "source": [
    "##### We've built the Fib iterator into another class (we can say that we've composed it into the Class class). It's instantiated along with Class's object.\n",
    "\n",
    "The object of the class may be used as an iterator when (and only when) it positively answers to the __iter__ invocation - this class can do it, and if it's invoked in this way, it provides an object able to obey the iteration protocol.\n",
    "\n",
    "This is why the output of the code is the same as previously, although the object of the Fib class isn't used explicitly inside the for loop's context.\n"
   ]
  },
  {
   "cell_type": "code",
   "execution_count": null,
   "id": "4fa8d8cc-a284-47b4-84df-46dc34c4af39",
   "metadata": {},
   "outputs": [],
   "source": []
  },
  {
   "cell_type": "markdown",
   "id": "ae48a314-06d9-4eee-a6aa-556dff613bff",
   "metadata": {},
   "source": [
    "### The yield statement\n",
    "\n",
    "The iterator protocol isn't particularly difficult to understand and use, but it is also indisputable that the protocol is rather inconvenient.\n",
    "\n",
    "The main discomfort it brings is the need to save the state of the iteration between subsequent __iter__ invocations.\n",
    "\n",
    "For example, the **Fib** iterator is forced to precisely store the place in which the last invocation has been stopped (i.e., the evaluated number and the values of the two previous elements). This makes the code larger and less comprehensible.\n",
    "\n",
    "This is why Python offers a much more effective, convenient, and elegant way of writing iterators.\n",
    "\n",
    "The concept is fundamentally based on a very specific and powerful mechanism provided by the **yield** keyword.\n",
    "\n",
    "You may think of the **yield** keyword as a smarter sibling of the **return** statement, with one essential difference.\n",
    "\n",
    "Take a look at this function:"
   ]
  },
  {
   "cell_type": "code",
   "execution_count": 5,
   "id": "a997fbd7-f5ff-4fe0-b633-34fb87cd39e0",
   "metadata": {},
   "outputs": [],
   "source": [
    "def fun(n):\n",
    "    for i in range(n):\n",
    "        return i\n"
   ]
  },
  {
   "cell_type": "markdown",
   "id": "3f56dd40-22ab-45a1-ab9a-df8ac70877cb",
   "metadata": {},
   "source": [
    "It looks strange, doesn't it? It's clear that the for loop has no chance to finish its first execution, as the return will break it irrevocably.\n",
    "\n",
    "Moreover, invoking the function won't change anything - the for loop will start from scratch and will be broken immediately.\n",
    "\n",
    "We can say that such a function is not able to save and restore its state between subsequent invocations.\n",
    "\n",
    "This also means that a function like this cannot be used as a generator.\n",
    "\n",
    "\n",
    "\n",
    "\n",
    "We've replaced exactly one word in the code - can you see it?"
   ]
  },
  {
   "cell_type": "code",
   "execution_count": 8,
   "id": "1d225f71-e36a-4687-b12b-40972f6db353",
   "metadata": {},
   "outputs": [],
   "source": [
    "def fun(n):\n",
    "    for i in range(n):\n",
    "        yield i\n"
   ]
  },
  {
   "cell_type": "markdown",
   "id": "a5ec019d-2b68-4e7a-9434-5ef2c5b0f2f9",
   "metadata": {},
   "source": [
    " We've added yield instead of return. This little amendment turns the function into a generator, and executing the yield statement has some very interesting effects.\n",
    "\n",
    "First of all, it provides the value of the expression specified after the yield keyword, just like return, but doesn't lose the state of the function.\n",
    "\n",
    "All the variables' values are frozen, and wait for the next invocation, when the execution is resumed (not taken from scratch, like after return).\n",
    "\n",
    "There is one important limitation: such a function should not be invoked explicitly as - in fact - it isn't a function anymore; it's a generator object.\n",
    "\n",
    "The invocation will return the object's identifier, not the series we expect from the generator.\n",
    "\n",
    "Due to the same reasons, the previous function (the one with the return statement) may only be invoked explicitly, and must not be used as a generator.\n",
    "\n",
    "#### How to build a generator\n",
    "\n",
    "Let us show you the new generator in action.\n",
    "\n",
    "This is how we can use it:"
   ]
  },
  {
   "cell_type": "code",
   "execution_count": 9,
   "id": "7359811b-dda5-4683-84af-4914964d9362",
   "metadata": {},
   "outputs": [
    {
     "name": "stdout",
     "output_type": "stream",
     "text": [
      "0\n",
      "1\n",
      "2\n",
      "3\n",
      "4\n"
     ]
    }
   ],
   "source": [
    "def fun(n):\n",
    "    for i in range(n):\n",
    "        yield i\n",
    "\n",
    "\n",
    "for v in fun(5):\n",
    "    print(v)\n"
   ]
  },
  {
   "cell_type": "code",
   "execution_count": 18,
   "id": "4bb7b38a-3256-422e-9d80-8e920cac336e",
   "metadata": {},
   "outputs": [
    {
     "name": "stdout",
     "output_type": "stream",
     "text": [
      "0\n",
      "1\n",
      "2\n",
      "3\n",
      "4\n"
     ]
    }
   ],
   "source": [
    "def why(n):\n",
    "    for i in range(n):\n",
    "        yield i\n",
    "\n",
    "for v in why(5):\n",
    "    print(v)\n",
    "    "
   ]
  },
  {
   "cell_type": "code",
   "execution_count": null,
   "id": "103b1300-5926-4171-89ba-eb87e32fb79c",
   "metadata": {},
   "outputs": [],
   "source": []
  },
  {
   "cell_type": "markdown",
   "id": "652b1029-3257-474b-87f0-4d904d997c43",
   "metadata": {},
   "source": [
    "#### How to build your own generator\n",
    "\n",
    "What if you need a generator to produce the first n powers of 2?\n",
    "\n",
    "Nothing easier. Just look at the code below:"
   ]
  },
  {
   "cell_type": "code",
   "execution_count": 22,
   "id": "9ba3dd1a-0de5-4f33-8384-7370bee0ffa0",
   "metadata": {},
   "outputs": [
    {
     "name": "stdout",
     "output_type": "stream",
     "text": [
      "1\n",
      "2\n",
      "4\n",
      "8\n",
      "16\n",
      "32\n",
      "64\n",
      "128\n"
     ]
    }
   ],
   "source": [
    "def powers_of_2(n):\n",
    "    power = 1\n",
    "    for i in range(n):\n",
    "        yield power\n",
    "        power *= 2\n",
    "\n",
    "\n",
    "for v in powers_of_2(8):\n",
    "    print(v)"
   ]
  },
  {
   "cell_type": "markdown",
   "id": "092d2d79-19c8-49d1-ad1c-91c15db56bfc",
   "metadata": {},
   "source": [
    "#### List comprehensions\n",
    "\n",
    "Generators may also be used within list comprehensions, just like here:"
   ]
  },
  {
   "cell_type": "code",
   "execution_count": 23,
   "id": "a5504acb-64ff-41f9-b67f-15d6ede0a5ed",
   "metadata": {},
   "outputs": [
    {
     "name": "stdout",
     "output_type": "stream",
     "text": [
      "[1, 2, 4, 8, 16]\n"
     ]
    }
   ],
   "source": [
    "def powers_of_2(n):\n",
    "    power = 1\n",
    "    for i in range(n):\n",
    "        yield power\n",
    "        power *= 2\n",
    "\n",
    "\n",
    "t = [x for x in powers_of_2(5)]\n",
    "print(t)\n",
    "\n"
   ]
  },
  {
   "cell_type": "markdown",
   "id": "3415f542-fe77-4c22-8fe3-755d66b657c4",
   "metadata": {},
   "source": [
    "\n",
    "#### The list() function\n",
    "\n",
    "The list() function can transform a series of subsequent generator invocations into a real list:"
   ]
  },
  {
   "cell_type": "code",
   "execution_count": 24,
   "id": "64f177b0-d457-439c-be27-18a99bef8972",
   "metadata": {},
   "outputs": [
    {
     "name": "stdout",
     "output_type": "stream",
     "text": [
      "[1, 2, 4]\n"
     ]
    }
   ],
   "source": [
    "def powers_of_2(n):\n",
    "    power = 1\n",
    "    for i in range(n):\n",
    "        yield power\n",
    "        power *= 2\n",
    "\n",
    "\n",
    "t = list(powers_of_2(3))\n",
    "print(t)\n",
    "\n"
   ]
  },
  {
   "cell_type": "markdown",
   "id": "927c6b8c-ab0a-47c3-943c-5416be87a6cb",
   "metadata": {},
   "source": [
    "### The in operator\n",
    "\n",
    "Moreover, the context created by the in operator allows you to use a generator, too.\n",
    "\n",
    "The example shows how to do it:"
   ]
  },
  {
   "cell_type": "code",
   "execution_count": 25,
   "id": "5b1a42be-d0a2-44f7-9aa7-69305ad9efd9",
   "metadata": {},
   "outputs": [
    {
     "name": "stdout",
     "output_type": "stream",
     "text": [
      "1\n",
      "2\n",
      "4\n",
      "8\n"
     ]
    }
   ],
   "source": [
    "def powers_of_2(n):\n",
    "    power = 1\n",
    "    for i in range(n):\n",
    "        yield power\n",
    "        power *= 2\n",
    "\n",
    "\n",
    "for i in range(20):\n",
    "    if i in powers_of_2(4):\n",
    "        print(i)"
   ]
  },
  {
   "cell_type": "markdown",
   "id": "1be8166d-84e8-4793-a87c-c3aa93f58b7e",
   "metadata": {},
   "source": [
    "#### The Fibanacci number generator\n",
    "\n",
    "Now let's see a Fibonacci number generator, and ensure that it looks much better than the objective version based on the direct iterator protocol implementation.\n",
    "\n",
    "Here it is:"
   ]
  },
  {
   "cell_type": "code",
   "execution_count": 26,
   "id": "75580987-40ea-48f3-8473-55a54b995cc1",
   "metadata": {},
   "outputs": [
    {
     "name": "stdout",
     "output_type": "stream",
     "text": [
      "[1, 1, 2, 3, 5, 8, 13, 21, 34, 55]\n"
     ]
    }
   ],
   "source": [
    "def fibonacci(n):\n",
    "    p = pp = 1\n",
    "    for i in range(n):\n",
    "        if i in [0, 1]:\n",
    "            yield 1\n",
    "        else:\n",
    "            n = p + pp\n",
    "            pp, p = p, n\n",
    "            yield n\n",
    "\n",
    "fibs = list(fibonacci(10))\n",
    "print(fibs)"
   ]
  },
  {
   "cell_type": "code",
   "execution_count": null,
   "id": "45731f6c-7997-44b5-9595-0c8d73af3c42",
   "metadata": {},
   "outputs": [],
   "source": []
  },
  {
   "cell_type": "markdown",
   "id": "4f20bda7-02d4-4656-b166-bd59d3887c71",
   "metadata": {},
   "source": [
    "#### More about list comprehensions\n",
    "\n",
    "You should be able to remember the rules governing the creation and use of a very special Python phenomenon named list comprehension - a simple and very impressive way of creating lists and their contents.\n",
    "\n",
    "In case you need it, we've provided a quick reminder in the editor."
   ]
  },
  {
   "cell_type": "code",
   "execution_count": 28,
   "id": "16e0c023-941c-40fe-a980-d9efb38b1ca4",
   "metadata": {},
   "outputs": [
    {
     "name": "stdout",
     "output_type": "stream",
     "text": [
      "[1, 10, 100, 1000, 10000, 100000]\n",
      "[1, 10, 100, 1000, 10000, 100000]\n"
     ]
    }
   ],
   "source": [
    "list_1 = []\n",
    "\n",
    "for ex in range(6):\n",
    "    list_1.append(10 ** ex)\n",
    "\n",
    "list_2 = [10 ** ex for ex in range(6)]\n",
    "\n",
    "print(list_1)\n",
    "print(list_2)"
   ]
  },
  {
   "cell_type": "markdown",
   "id": "4db8432e-eddc-418b-8666-e60718c225ad",
   "metadata": {},
   "source": [
    "There are two parts inside the code, both creating a list containing a few of the first natural powers of ten.\n",
    "\n",
    "The former uses a routine way of utilizing the for loop, while the latter makes use of the list comprehension and builds the list in situ, without needing a loop, or any other extended code.\n",
    "\n",
    "It looks like the list is created inside itself - it's not true, of course, as Python has to perform nearly the same operations as in the first snippet, but it is indisputable that the second formalism is simply more elegant, and lets the reader avoid any unnecessary details.\n",
    "\n",
    "The example outputs two identical lines containing the following text:"
   ]
  },
  {
   "cell_type": "code",
   "execution_count": null,
   "id": "2c5a21b1-39f9-4559-b33c-eca7df3c3792",
   "metadata": {},
   "outputs": [],
   "source": []
  },
  {
   "cell_type": "markdown",
   "id": "dd4c00c3-8324-4339-ac16-1baade10f7bd",
   "metadata": {},
   "source": [
    "#### More about list comprehensions: continued\n",
    "\n",
    "There is a very interesting syntax we want to show you now. Its usability is not limited to list comprehensions, but we have to admit that comprehensions are the ideal environment for it.\n",
    "\n",
    "It's a conditional expression - a way of selecting one of two different values based on the result of a Boolean expression.\n",
    "\n",
    "Look:\n",
    "\n",
    "expression_one if condition else expression_two\n",
    "\n",
    "It may look a bit surprising at first glance, but you have to keep in mind that it is not a conditional instruction. Moreover, it's not an instruction at all. It's an operator.\n",
    "\n",
    "The value it provides is equal to expression_one when the condition is True, and expression_two otherwise.\n",
    "\n",
    "A good example will tell you more. Look at the code in the editor."
   ]
  },
  {
   "cell_type": "code",
   "execution_count": 29,
   "id": "363545a5-44d0-46d0-809f-aa1be274bf44",
   "metadata": {},
   "outputs": [
    {
     "name": "stdout",
     "output_type": "stream",
     "text": [
      "[1, 0, 1, 0, 1, 0, 1, 0, 1, 0]\n"
     ]
    }
   ],
   "source": [
    "the_list = []\n",
    "\n",
    "for x in range(10):\n",
    "    the_list.append(1 if x % 2 == 0 else 0)\n",
    "\n",
    "print(the_list)\n"
   ]
  },
  {
   "cell_type": "markdown",
   "id": "c712cf92-f7e2-41d5-a3a5-780eb015506a",
   "metadata": {},
   "source": [
    "The code fills a list with 1's and 0's - if the index of a particular element is odd, the element is set to 0, and to 1 otherwise.\n",
    "\n",
    "Simple? Maybe not at first glance. Elegant? Indisputably.\n",
    "\n",
    "Can you use the same trick within a list comprehension? Yes, you can."
   ]
  },
  {
   "cell_type": "markdown",
   "id": "7f03014a-8f39-4f3e-9373-2b35ab669aa8",
   "metadata": {},
   "source": [
    "#### More about list comprehensions: continued\n",
    "\n",
    "Look at the example in the editor."
   ]
  },
  {
   "cell_type": "code",
   "execution_count": 31,
   "id": "898bb3a5-8413-4690-879c-bf38c4c1aa58",
   "metadata": {},
   "outputs": [
    {
     "name": "stdout",
     "output_type": "stream",
     "text": [
      "[1, 0, 1, 0, 1, 0, 1, 0, 1, 0]\n"
     ]
    }
   ],
   "source": [
    "the_list = [1 if x % 2 == 0 else 0 for x in range(10)]\n",
    "\n",
    "print(the_list)\n"
   ]
  },
  {
   "cell_type": "markdown",
   "id": "acfea193-9ee2-43e8-a733-8228d96a0edf",
   "metadata": {},
   "source": [
    "Compactness and elegance - these two words come to mind when looking at the code.\n",
    "\n",
    "So, what do they have in common, generators and list comprehensions? Is there any connection between them? Yes. A rather loose connection, but an unequivocal one.\n",
    "\n",
    "Just one change can turn any list comprehension into a generator."
   ]
  },
  {
   "cell_type": "markdown",
   "id": "8f141d97-e138-4567-b2a7-fea202764f9a",
   "metadata": {},
   "source": [
    "####  List comprehensions vs. generators\n",
    "\n",
    "Now look at the code below and see if you can find the detail that turns a list comprehension into a generator:"
   ]
  },
  {
   "cell_type": "code",
   "execution_count": 32,
   "id": "9b0d351a-a5e4-4b64-a2d5-624dc8ae461a",
   "metadata": {},
   "outputs": [
    {
     "name": "stdout",
     "output_type": "stream",
     "text": [
      "1 0 1 0 1 0 1 0 1 0 \n",
      "1 0 1 0 1 0 1 0 1 0 \n"
     ]
    }
   ],
   "source": [
    "the_list = [1 if x % 2 == 0 else 0 for x in range(10)]\n",
    "the_generator = (1 if x % 2 == 0 else 0 for x in range(10))\n",
    "\n",
    "for v in the_list:\n",
    "    print(v, end=\" \")\n",
    "print()\n",
    "\n",
    "for v in the_generator:\n",
    "    print(v, end=\" \")\n",
    "print()"
   ]
  },
  {
   "cell_type": "markdown",
   "id": "1b7f4fb3-8ab5-4fed-a2d4-05f2d260ba78",
   "metadata": {},
   "source": [
    "It's the parentheses. The brackets make a comprehension, the parentheses make a generator.\n",
    "\n",
    "The code, however, when run, produces two identical lines:"
   ]
  },
  {
   "cell_type": "markdown",
   "id": "f7c50e03-e437-4987-9fa2-bc8c7fbd7cdc",
   "metadata": {},
   "source": [
    "How can you know that the second assignment creates a generator, not a list?\n",
    "\n",
    "There is some proof we can show you. Apply the len() function to both these entities.\n",
    "\n",
    "len(the_list) will evaluate to 10. Clear and predictable. len(the_generator) will raise an exception, and you will see the following message:"
   ]
  },
  {
   "cell_type": "code",
   "execution_count": 33,
   "id": "ebafb1cb-a81b-4e42-a461-32a11ecb71a0",
   "metadata": {},
   "outputs": [
    {
     "data": {
      "text/plain": [
       "10"
      ]
     },
     "execution_count": 33,
     "metadata": {},
     "output_type": "execute_result"
    }
   ],
   "source": [
    "len(the_list)"
   ]
  },
  {
   "cell_type": "code",
   "execution_count": 34,
   "id": "68e972c9-2d7e-4543-8100-ffbd790a8760",
   "metadata": {},
   "outputs": [
    {
     "ename": "TypeError",
     "evalue": "object of type 'generator' has no len()",
     "output_type": "error",
     "traceback": [
      "\u001b[1;31m---------------------------------------------------------------------------\u001b[0m",
      "\u001b[1;31mTypeError\u001b[0m                                 Traceback (most recent call last)",
      "Cell \u001b[1;32mIn[34], line 1\u001b[0m\n\u001b[1;32m----> 1\u001b[0m \u001b[38;5;28mlen\u001b[39m(the_generator)\n",
      "\u001b[1;31mTypeError\u001b[0m: object of type 'generator' has no len()"
     ]
    }
   ],
   "source": [
    "len(the_generator)"
   ]
  },
  {
   "cell_type": "markdown",
   "id": "8b02a463-eb8f-432a-8d02-a6b25e6d7aa9",
   "metadata": {},
   "source": [
    "Of course, saving either the list or the generator is not necessary - you can create them exactly in the place where you need them - just like here:"
   ]
  },
  {
   "cell_type": "code",
   "execution_count": 35,
   "id": "cef3af28-ebdd-4f78-867e-1bbe35394966",
   "metadata": {},
   "outputs": [
    {
     "name": "stdout",
     "output_type": "stream",
     "text": [
      "1 0 1 0 1 0 1 0 1 0 \n",
      "1 0 1 0 1 0 1 0 1 0 \n"
     ]
    }
   ],
   "source": [
    "for v in [1 if x % 2 == 0 else 0 for x in range(10)]:\n",
    "    print(v, end=\" \")\n",
    "print()\n",
    "\n",
    "for v in (1 if x % 2 == 0 else 0 for x in range(10)):\n",
    "    print(v, end=\" \")\n",
    "print()\n",
    "\n"
   ]
  },
  {
   "cell_type": "markdown",
   "id": "4ebcfb6e-d465-4bf4-920d-5230f95a1534",
   "metadata": {},
   "source": [
    "Note: the same appearance of the output doesn't mean that both loops work in the same way. In the first loop, the list is created (and iterated through) as a whole - it actually exists when the loop is being executed.\n",
    "\n",
    "In the second loop, there is no list at all - there are only subsequent values produced by the generator, one by one.\n",
    "\n",
    "Carry out your own experiments."
   ]
  },
  {
   "cell_type": "code",
   "execution_count": null,
   "id": "a37297bc-7cd2-4441-b40b-1ef5366db866",
   "metadata": {},
   "outputs": [],
   "source": []
  },
  {
   "cell_type": "markdown",
   "id": "f3668c10-bbf9-4b9c-bc75-d6f1b18057a1",
   "metadata": {},
   "source": [
    "### The lambda function\n",
    "\n",
    "The lambda function is a concept borrowed from mathematics, more specifically, from a part called the Lambda calculus, but these two phenomena are not the same.\n",
    "\n",
    "Mathematicians use the Lambda calculus in many formal systems connected with logic, recursion, or theorem provability. Programmers use the lambda function to simplify the code, to make it clearer and easier to understand.\n",
    "\n",
    "A lambda function is a function without a name (you can also call it an anonymous function). Of course, such a statement immediately raises the question: how do you use anything that cannot be identified?\n",
    "\n",
    "Fortunately, it's not a problem, as you can name such a function if you really need, but, in fact, in many cases the lambda function can exist and work while remaining fully incognito.\n",
    "\n",
    "The declaration of the lambda function doesn't resemble a normal function declaration in any way - see for yourself:"
   ]
  },
  {
   "cell_type": "code",
   "execution_count": null,
   "id": "3164d633-c445-4ad3-a898-cc42f54fb58a",
   "metadata": {},
   "outputs": [],
   "source": [
    "lambda parameters: expression"
   ]
  },
  {
   "cell_type": "markdown",
   "id": "d1daabac-dccf-44ba-9ef5-d41fa34c3bfd",
   "metadata": {},
   "source": [
    "Such a clause returns the value of the expression when taking into account the current value of the current lambda argument.\n",
    "\n",
    "As usual, an example will be helpful. Our example uses three lambda functions, but gives them names. Look at it carefully:"
   ]
  },
  {
   "cell_type": "code",
   "execution_count": 1,
   "id": "2caeef3e-3c74-445b-9def-872000bb4926",
   "metadata": {},
   "outputs": [
    {
     "name": "stdout",
     "output_type": "stream",
     "text": [
      "4 4\n",
      "1 1\n",
      "0 0\n",
      "1 1\n",
      "4 4\n"
     ]
    }
   ],
   "source": [
    "two = lambda: 2\n",
    "sqr = lambda x: x * x\n",
    "pwr = lambda x, y: x ** y\n",
    "\n",
    "for a in range(-2, 3):\n",
    "    print(sqr(a), end=\" \")\n",
    "    print(pwr(a, two()))"
   ]
  },
  {
   "cell_type": "markdown",
   "id": "382a9fd1-fcae-4491-9608-328ed9901107",
   "metadata": {},
   "source": [
    "Let's analzye it:\n",
    "\n",
    "    the first lambda is an anonymous parameterless function that always returns 2. As we've assigned it to a variable named two, we can say that the function is not anonymous anymore, and we can use the name to invoke it.\n",
    "\n",
    "    the second one is a one-parameter anonymous function that returns the value of its squared argument. We've named it as such, too.\n",
    "\n",
    "    the third lambda takes two parameters and returns the value of the first one raised to the power of the second one. The name of the variable which carries the lambda speaks for itself. We don't use pow to avoid confusion with the built-in function of the same name and the same purpose.\n"
   ]
  },
  {
   "cell_type": "markdown",
   "id": "2f457866-61bd-4381-a22b-3b3bb46e32e8",
   "metadata": {},
   "source": [
    "This example is clear enough to show how lambdas are declared and how they behave, but it says nothing about why they're necessary, and what they're used for, since they can all be replaced with routine Python functions.\n",
    "\n",
    "Where is the benefit?"
   ]
  },
  {
   "cell_type": "code",
   "execution_count": null,
   "id": "d14bd3ac-e07d-43c3-87d5-af62551e9e83",
   "metadata": {},
   "outputs": [],
   "source": []
  },
  {
   "cell_type": "markdown",
   "id": "162ff719-3a80-45a9-b2f0-b0982525bfe2",
   "metadata": {},
   "source": [
    "#### How to use lambdas and what for?\n",
    "\n",
    "The most interesting part of using lambdas appears when you can use them in their pure form - as anonymous parts of code intended to evaluate a result.\n",
    "\n",
    "Imagine that we need a function (we'll name it print_function) which prints the values of a given (other) function for a set of selected arguments.\n",
    "\n",
    "We want print_function to be universal - it should accept a set of arguments put in a list and a function to be evaluated, both as arguments - we don't want to hardcode anything.\n",
    "\n",
    "Look at the example in the editor. This is how we've implemented the idea."
   ]
  },
  {
   "cell_type": "code",
   "execution_count": 2,
   "id": "ae1a847f-11a3-4654-b606-534be7b7afc0",
   "metadata": {},
   "outputs": [
    {
     "name": "stdout",
     "output_type": "stream",
     "text": [
      "f(-2)=18\n",
      "f(-1)=8\n",
      "f(0)=2\n",
      "f(1)=0\n",
      "f(2)=2\n"
     ]
    }
   ],
   "source": [
    "def print_function(args, fun):\n",
    "    for x in args:\n",
    "        print('f(', x,')=', fun(x), sep='')\n",
    "\n",
    "\n",
    "def poly(x):\n",
    "    return 2 * x**2 - 4 * x + 2\n",
    "\n",
    "\n",
    "print_function([x for x in range(-2, 3)], poly)\n"
   ]
  },
  {
   "cell_type": "markdown",
   "id": "64136a6e-3370-451d-be52-633ea82cf93c",
   "metadata": {},
   "source": [
    "Let's analyze it. The print_function() function takes two parameters:\n",
    "\n",
    "    the first, a list of arguments for which we want to print the results;\n",
    "    the second, a function which should be invoked as many times as the number of values that are collected inside the first parameter.\n",
    "\n",
    "Note: we've also defined a function named poly() - this is the function whose values we're going to print. The calculation the function performs isn't very sophisticated - it's the polynomial (hence its name) of a form:\n",
    "\n",
    "f(x) = 2x2 - 4x + 2\n",
    "\n",
    "The name of the function is then passed to the print_function() along with a set of five different arguments - the set is built with a list comprehension clause."
   ]
  },
  {
   "cell_type": "markdown",
   "id": "f588186d-ac06-4d88-9417-c914de7196a0",
   "metadata": {},
   "source": [
    "Can we avoid defining the poly() function, as we're not going to use it more than once? Yes, we can - this is the benefit a lambda can bring.\n",
    "\n",
    "Look at the example below. Can you see the difference?"
   ]
  },
  {
   "cell_type": "code",
   "execution_count": 3,
   "id": "2c330cf3-6bc2-4753-8b67-fcfc62dc9958",
   "metadata": {},
   "outputs": [
    {
     "name": "stdout",
     "output_type": "stream",
     "text": [
      "f(-2)=18\n",
      "f(-1)=8\n",
      "f(0)=2\n",
      "f(1)=0\n",
      "f(2)=2\n"
     ]
    }
   ],
   "source": [
    "def print_function(args, fun):\n",
    "    for x in args:\n",
    "        print('f(', x,')=', fun(x), sep='')\n",
    "\n",
    "print_function([x for x in range(-2, 3)], lambda x: 2 * x**2 - 4 * x + 2)\n",
    "\n"
   ]
  },
  {
   "cell_type": "markdown",
   "id": "71c9b6d3-b7bf-4ade-a479-04f6ab25ca26",
   "metadata": {},
   "source": [
    "The print_function() has remained exactly the same, but there is no poly() function. We don't need it anymore, as the polynomial is now directly inside the print_function() invocation in the form of a lambda defined in the following way:"
   ]
  },
  {
   "cell_type": "code",
   "execution_count": 4,
   "id": "0c2ef273-1c07-4618-a77f-23135738599b",
   "metadata": {},
   "outputs": [
    {
     "data": {
      "text/plain": [
       "<function __main__.<lambda>(x)>"
      ]
     },
     "execution_count": 4,
     "metadata": {},
     "output_type": "execute_result"
    }
   ],
   "source": [
    "lambda x: 2 * x**2 - 4 * x + 2\n"
   ]
  },
  {
   "cell_type": "markdown",
   "id": "ad5ba282-eda2-4249-8998-aaf306059984",
   "metadata": {},
   "source": [
    "The code has become shorter, clearer, and more legible.\n",
    "\n",
    "Let us show you another place where lambdas can be useful. We'll start with a description of map(), a built-in Python function. Its name isn't too descriptive, its idea is simple, and the function itself is really usable."
   ]
  },
  {
   "cell_type": "markdown",
   "id": "a8a3d124-7d9f-4f4e-a557-958df41867d4",
   "metadata": {},
   "source": [
    "### Lambdas and the map() function\n",
    "\n",
    "In the simplest of all possible cases, the map() function:"
   ]
  },
  {
   "cell_type": "code",
   "execution_count": null,
   "id": "7c3586ba-280b-46da-b877-58245b9993b8",
   "metadata": {},
   "outputs": [],
   "source": [
    "map(function, list)"
   ]
  },
  {
   "cell_type": "markdown",
   "id": "61f642a9-05ee-4362-b4a7-700352ac39bc",
   "metadata": {},
   "source": [
    "takes two arguments:\n",
    "\n",
    "    a function;\n",
    "    a list.\n",
    "\n",
    "The above description is extremely simplified, as:\n",
    "\n",
    "    the second map() argument may be any entity that can be iterated (e.g., a tuple, or just a generator)\n",
    "    map() can accept more than two arguments.\n",
    "\n",
    "The map() function applies the function passed by its first argument to all its second argument's elements, and returns an iterator delivering all subsequent function results.\n",
    "\n",
    "You can use the resulting iterator in a loop, or convert it into a list using the list() function.\n",
    "\n",
    "Can you see a role for any lambda here?\n",
    "\n",
    "Look at the code in the editor - we've used two lambdas in it."
   ]
  },
  {
   "cell_type": "code",
   "execution_count": 8,
   "id": "b9a8b489-6af6-43a6-87b7-1030a2a08c9e",
   "metadata": {},
   "outputs": [
    {
     "name": "stdout",
     "output_type": "stream",
     "text": [
      "[1, 2, 4, 8, 16]\n",
      "1 4 16 64 256 \n"
     ]
    }
   ],
   "source": [
    "list_1 = [x for x in range(5)]\n",
    "list_2 = list(map(lambda x: 2 ** x, list_1))\n",
    "print(list_2)\n",
    "\n",
    "for x in map(lambda x: x * x, list_2):\n",
    "    print(x, end=' ')\n",
    "print()"
   ]
  },
  {
   "cell_type": "markdown",
   "id": "8a827a63-a7e9-40d7-93ec-c6bfeb5b8c95",
   "metadata": {},
   "source": [
    "This is the intrigue:\n",
    "\n",
    "    build the list_1 with values from 0 to 4;\n",
    "    next, use map along with the first lambda to create a new list in which all elements have been evaluated as 2 raised to the power taken from the corresponding element from list_1;\n",
    "    list_2 is printed then;\n",
    "    in the next step, use the map() function again to make use of the generator it returns and to directly print all the values it delivers; as you can see, we've engaged the second lambda here - it just squares each element from list_2.\n",
    "\n",
    "Try to imagine the same code without lambdas. Would it be any better? It's unlikely."
   ]
  },
  {
   "cell_type": "code",
   "execution_count": null,
   "id": "cff2de57-7fad-4e2a-ad41-23dd04da7930",
   "metadata": {},
   "outputs": [],
   "source": []
  },
  {
   "cell_type": "markdown",
   "id": "314bda28-50fc-41f2-8dbb-afda31e5ac7f",
   "metadata": {},
   "source": [
    "### Lambdas and the filter() function\n",
    "\n",
    "Another Python function which can be significantly beautified by the application of a lambda is filter().\n",
    "\n",
    "It expects the same kind of arguments as map(), but does something different - it filters its second argument while being guided by directions flowing from the function specified as the first argument (the function is invoked for each list element, just like in map()).\n",
    "\n",
    "The elements which return True from the function pass the filter - the others are rejected.\n",
    "\n",
    "The example in the editor shows the filter() function in action."
   ]
  },
  {
   "cell_type": "code",
   "execution_count": 13,
   "id": "be3ca3f8-d836-48f4-afac-c2acd45227d0",
   "metadata": {},
   "outputs": [
    {
     "name": "stdout",
     "output_type": "stream",
     "text": [
      "[5, 2, 9, 7, -2]\n",
      "[2]\n"
     ]
    }
   ],
   "source": [
    "from random import seed, randint\n",
    "\n",
    "seed()\n",
    "data = [randint(-10,10) for x in range(5)]\n",
    "filtered = list(filter(lambda x: x > 0 and x % 2 == 0, data))\n",
    "\n",
    "print(data)\n",
    "print(filtered)"
   ]
  },
  {
   "cell_type": "markdown",
   "id": "34728b42-ab09-44e2-b14f-f814d861cb13",
   "metadata": {},
   "source": [
    "Note: we've made use of the random module to initialize the random number generator (not to be confused with the generators we've just talked about) with the seed() function, and to produce five random integer values from -10 to 10 using the randint() function.\n",
    "\n",
    "The list is then filtered, and only the numbers which are even and greater than zero are accepted.\n",
    "\n",
    "Of course, it's not likely that you'll receive the same results, but this is what our results looked like:"
   ]
  },
  {
   "cell_type": "markdown",
   "id": "6810e9e9-33ff-4000-8585-66bb58c474b2",
   "metadata": {},
   "source": [
    "### A brief look at closures\n",
    "\n",
    "Let's start with a definition: closure is a technique which allows the storing of values in spite of the fact that the context in which they have been created does not exist anymore. Intricate? A bit.\n",
    "\n",
    "Let's analyze a simple example:"
   ]
  },
  {
   "cell_type": "code",
   "execution_count": 15,
   "id": "35bac08f-d451-4f9a-8938-99d8663ed663",
   "metadata": {},
   "outputs": [
    {
     "ename": "NameError",
     "evalue": "name 'par' is not defined",
     "output_type": "error",
     "traceback": [
      "\u001b[1;31m---------------------------------------------------------------------------\u001b[0m",
      "\u001b[1;31mNameError\u001b[0m                                 Traceback (most recent call last)",
      "Cell \u001b[1;32mIn[15], line 8\u001b[0m\n\u001b[0;32m      5\u001b[0m var \u001b[38;5;241m=\u001b[39m \u001b[38;5;241m1\u001b[39m\n\u001b[0;32m      6\u001b[0m outer(var)\n\u001b[1;32m----> 8\u001b[0m \u001b[38;5;28mprint\u001b[39m(par)\n\u001b[0;32m      9\u001b[0m \u001b[38;5;28mprint\u001b[39m(loc)\n",
      "\u001b[1;31mNameError\u001b[0m: name 'par' is not defined"
     ]
    }
   ],
   "source": [
    "def outer(par):\n",
    "    loc = par\n",
    "\n",
    "\n",
    "var = 1\n",
    "outer(var)\n",
    "\n",
    "print(par)\n",
    "print(loc)\n"
   ]
  },
  {
   "cell_type": "markdown",
   "id": "a32186b4-6635-4a25-ba10-3f50364b4633",
   "metadata": {},
   "source": [
    "The example is obviously erroneous.\n",
    "\n",
    "The last two lines will cause a NameError exception – neither par nor loc is accessible outside the function. Both the variables exist when and only when the outer() function is being executed.\n",
    "\n",
    "Look at the example in the editor. We've modified the code significantly."
   ]
  },
  {
   "cell_type": "code",
   "execution_count": 14,
   "id": "9f153c58-799f-4002-8f74-e4a5b6339fd8",
   "metadata": {},
   "outputs": [
    {
     "name": "stdout",
     "output_type": "stream",
     "text": [
      "1\n"
     ]
    }
   ],
   "source": [
    "def outer(par):\n",
    "    loc = par\n",
    "\n",
    "    def inner():\n",
    "        return loc\n",
    "    return inner\n",
    "\n",
    "\n",
    "var = 1\n",
    "fun = outer(var)\n",
    "print(fun())"
   ]
  },
  {
   "cell_type": "markdown",
   "id": "30dfe676-fc8a-4e19-883e-e2ed5bc21601",
   "metadata": {},
   "source": [
    "There is a brand new element in it – a function (named inner) inside another function (named outer).\n",
    "\n",
    "How does it work? Just like any other function except for the fact that inner() may be invoked only from within outer(). We can say that inner() is outer()'s private tool – no other part of the code can access it.\n",
    "\n",
    "Look carefully:\n",
    "\n",
    "    the inner() function returns the value of the variable accessible inside its scope, as inner() can use any of the entities at the disposal of outer()\n",
    "    the outer() function returns the inner() function itself; more precisely, it returns a copy of the inner() function, the one which was frozen at the moment of outer()'s invocation; the frozen function contains its full environment, including the state of all local variables, which also means that the value of loc is successfully retained, although outer() ceased to exist a long time ago.\n"
   ]
  },
  {
   "cell_type": "markdown",
   "id": "9242c826-39c9-439f-b001-15c95c35f41a",
   "metadata": {},
   "source": [
    "### A brief look at closures: continued\n",
    "\n",
    "A closure has to be invoked in exactly the same way in which it has been declared.\n",
    "\n",
    "In the example below:"
   ]
  },
  {
   "cell_type": "code",
   "execution_count": 1,
   "id": "5e6b953f-4463-414e-9e66-0066fba128ff",
   "metadata": {},
   "outputs": [
    {
     "name": "stdout",
     "output_type": "stream",
     "text": [
      "1\n"
     ]
    }
   ],
   "source": [
    "def outer(par):\n",
    "    loc = par\n",
    "\n",
    "    def inner():\n",
    "        return loc\n",
    "    return inner\n",
    "\n",
    "\n",
    "var = 1\n",
    "fun = outer(var)\n",
    "print(fun())\n",
    "\n"
   ]
  },
  {
   "cell_type": "markdown",
   "id": "45819fde-5345-4a67-9e07-b470168fbd77",
   "metadata": {},
   "source": [
    "the inner() function is parameterless, so we have to invoke it without arguments.\n",
    "\n",
    "Now look at the code in the editor. It is fully possible to declare a closure equipped with an arbitrary number of parameters, e.g., one, just like the power() function.\n",
    "\n",
    "This means that the closure not only makes use of the frozen environment, but it can also modify its behavior by using values taken from the outside.\n",
    "\n",
    "This example shows one more interesting circumstance - you can create as many closures as you want using one and the same piece of code. This is done with a function named make_closure(). Note:\n",
    "\n",
    "    the first closure obtained from make_closure() defines a tool squaring its argument;\n",
    "    the second one is designed to cube the argument.\n",
    "\n",
    "This is why the code produces the following output:"
   ]
  },
  {
   "cell_type": "code",
   "execution_count": 3,
   "id": "da9026ca-3b3c-4c30-bcb9-4236b68aa629",
   "metadata": {},
   "outputs": [
    {
     "name": "stdout",
     "output_type": "stream",
     "text": [
      "0 0 0\n",
      "1 1 1\n",
      "2 4 8\n",
      "3 9 27\n",
      "4 16 64\n"
     ]
    }
   ],
   "source": [
    "def make_closure(par):\n",
    "    loc = par\n",
    "\n",
    "    def power(p):\n",
    "        return p ** loc\n",
    "    return power\n",
    "\n",
    "\n",
    "fsqr = make_closure(2)\n",
    "fcub = make_closure(3)\n",
    "\n",
    "for i in range(5):\n",
    "    print(i, fsqr(i), fcub(i))\n"
   ]
  },
  {
   "cell_type": "code",
   "execution_count": null,
   "id": "c13f0b48-fa0e-4802-86c7-6def4982f9d7",
   "metadata": {},
   "outputs": [],
   "source": []
  },
  {
   "cell_type": "markdown",
   "id": "ac75cdfb-a0b9-4d12-84e5-010180a22849",
   "metadata": {},
   "source": [
    "\n",
    "### Accessing files from Python code\n",
    "\n",
    "One of the most common issues in the developer's job is to process data stored in files while the files are usually physically stored using storage devices - hard, optical, network, or solid-state disks.\n",
    "\n",
    "It's easy to imagine a program that sorts 20 numbers, and it's equally easy to imagine the user of this program entering these twenty numbers directly from the keyboard.\n",
    "\n",
    "It's much harder to imagine the same task when there are 20,000 numbers to be sorted, and there isn't a single user who is able to enter these numbers without making a mistake.\n",
    "\n",
    "It's much easier to imagine that these numbers are stored in the disk file which is read by the program. The program sorts the numbers and doesn't send them to the screen, but instead creates a new file and saves the sorted sequence of numbers there.\n",
    "\n",
    "If we want to implement a simple database, the only way to store the information between program runs is to save it into a file (or files if your database is more complex).\n",
    "\n",
    "\n",
    "\n",
    "In principle, any non-simple programming problem relies on the use of files, whether it processes images (stored in files), multiplies matrices (stored in files), or calculates wages and taxes (reading data stored in files).\n",
    "The concept of file storages\n",
    "\n",
    "You may ask why we have waited until now to show you these issues.\n",
    "\n",
    "The answer is very simple - Python's way of accessing and processing files is implemented using a consistent set of objects. There is no better moment to talk about it.\n"
   ]
  },
  {
   "cell_type": "markdown",
   "id": "02a24072-45fa-4170-940b-b36216e719b2",
   "metadata": {},
   "source": [
    "\n",
    "### File names\n",
    "\n",
    "Different operating systems can treat the files in different ways. For example, Windows uses a different naming convention than the one adopted in Unix/Linux systems.\n",
    "\n",
    "If we use the notion of a canonical file name (a name which uniquely defines the location of the file regardless of its level in the directory tree) we can realize that these names look different in Windows and in Unix/Linux:\n",
    "\n",
    "##### The concept of file paths\n",
    "    for window:  C:\\directory\\file\n",
    "    for Linux:   /directory/files\n",
    "\n",
    "\n",
    "\n",
    "As you can see, systems derived from Unix/Linux don't use the disk drive letter (e.g., C:) and all the directories grow from one root directory called /, while Windows systems recognize the root directory as \\.\n",
    "\n",
    "\n",
    "In addition, Unix/Linux system file names are case-sensitive. Windows systems store the case of letters used in the file name, but don't distinguish between their cases at all.\n",
    "\n",
    "This means that these two strings: ThisIsTheNameOfTheFile and thisisthenameofthefile describe two different files in Unix/Linux systems, but are the same name for just one file in Windows systems.\n",
    "\n",
    "The main and most striking difference is that you have to use two different separators for the directory names: \\ in Windows, and / in Unix/Linux.\n",
    "\n",
    "This difference is not very important to the normal user, but is very important when writing programs in Python.\n",
    "\n",
    "To understand why, try to recall the very specific role played by the \\ inside Python strings. "
   ]
  },
  {
   "cell_type": "markdown",
   "id": "8ad8fa24-7d42-460b-9f78-855916ef8eef",
   "metadata": {},
   "source": [
    "#### File names: continued\n",
    "\n",
    "Suppose you're interested in a particular file located in the directory dir, and named file.\n",
    "\n",
    "Suppose also that you want to assign a string containing the name of the file.\n",
    "\n",
    "In Unix/Linux systems, it may look as follows:"
   ]
  },
  {
   "cell_type": "code",
   "execution_count": 3,
   "id": "3fb5b9d4-4d5a-493b-b277-769554c86081",
   "metadata": {},
   "outputs": [],
   "source": [
    "name = \"/dir/file\""
   ]
  },
  {
   "cell_type": "markdown",
   "id": "f06e27ab-ab9b-4679-ab9b-bc0997866623",
   "metadata": {},
   "source": [
    "But if you try to code it for the Windows system:"
   ]
  },
  {
   "cell_type": "code",
   "execution_count": null,
   "id": "fc98e085-97ba-4014-be8c-117809ee4b3c",
   "metadata": {},
   "outputs": [],
   "source": [
    "name = \"\\dir\\file\""
   ]
  },
  {
   "cell_type": "markdown",
   "id": "e5cd83bf-9aa4-4919-96c9-afa8026b59d9",
   "metadata": {},
   "source": [
    "you'll get an unpleasant surprise: either Python will generate an error, or the execution of the program will behave strangely, as if the file name has been distorted in some way.\n",
    "\n",
    "In fact, it's not strange at all, but quite obvious and natural. Python uses the \\ as an escape character (like \\n).\n",
    "\n",
    "This means that Windows file names must be written as follows:"
   ]
  },
  {
   "cell_type": "code",
   "execution_count": 5,
   "id": "27440bc4-69e7-4614-ad20-15b3282c428b",
   "metadata": {},
   "outputs": [],
   "source": [
    "name = \"\\\\dir\\\\file\""
   ]
  },
  {
   "cell_type": "markdown",
   "id": "452cf0f4-a994-4bdd-b166-29ecfeb71c96",
   "metadata": {},
   "source": [
    "\n",
    "Fortunately, there is also one more solution. Python is smart enough to be able to convert slashes into backslashes each time it discovers that it's required by the OS.\n",
    "\n",
    "This means that any the following assignments:"
   ]
  },
  {
   "cell_type": "code",
   "execution_count": 6,
   "id": "97fca588-7b47-4a7e-aee4-85671b5c99af",
   "metadata": {},
   "outputs": [],
   "source": [
    "name = \"/dir/file\"\n",
    "name = \"c:/dir/file\""
   ]
  },
  {
   "cell_type": "code",
   "execution_count": null,
   "id": "457f4e2a-abbe-4ca6-88ce-e8b63bc0099c",
   "metadata": {},
   "outputs": [],
   "source": []
  },
  {
   "cell_type": "markdown",
   "id": "3d452cde-9589-4bbb-befc-220ba9dd1927",
   "metadata": {},
   "source": [
    "Opening the streams\n",
    "\n",
    "The opening of the stream is performed by a function which can be invoked in the following way:"
   ]
  },
  {
   "cell_type": "code",
   "execution_count": null,
   "id": "f1c43faa-4fd1-4205-8ae0-c78b8c8d713a",
   "metadata": {},
   "outputs": [],
   "source": [
    "stream = open(file, mode = 'r', encoding = None)"
   ]
  },
  {
   "cell_type": "markdown",
   "id": "4f4225e5-9aa2-437d-88f2-ad55b2c4a109",
   "metadata": {},
   "source": [
    "Let's analyze it:\n",
    "\n",
    "    the name of the function (open) speaks for itself; if the opening is successful, the function returns a stream object; otherwise, an exception is raised (e.g., FileNotFoundError if the file you're going to read doesn't exist);\n",
    "\n",
    "    the first parameter of the function (file) specifies the name of the file to be associated with the stream;\n",
    "\n",
    "    the second parameter (mode) specifies the open mode used for the stream; it's a string filled with a sequence of characters, and each of them has its own special meaning (more details soon);\n",
    "\n",
    "    the third parameter (encoding) specifies the encoding type (e.g., UTF-8 when working with text files)\n",
    "\n",
    "    the opening must be the very first operation performed on the stream.\n",
    "\n",
    "Note: the mode and encoding arguments may be omitted - their default values are assumed then. The default opening mode is reading in text mode, while the default encoding depends on the platform used.\n",
    "\n",
    "Let us now present you with the most important and useful open modes. Ready?"
   ]
  },
  {
   "cell_type": "markdown",
   "id": "25dd2b19-ae6f-4a8f-abde-2c9e4de62a14",
   "metadata": {},
   "source": [
    "### Opening the streams: modes\n",
    "\n",
    "r open mode: read\n",
    "\n",
    "    the stream will be opened in read mode;\n",
    "    the file associated with the stream must exist and has to be readable, otherwise the open() function raises an exception.\n",
    "\n",
    "w open mode: write\n",
    "\n",
    "    the stream will be opened in write mode;\n",
    "    the file associated with the stream doesn't need to exist; if it doesn't exist it will be created; if it exists, it will be truncated to the length of zero (erased); if the creation isn't possible (e.g., due to system permissions) the open() function raises an exception.\n",
    "\n",
    "a open mode: append\n",
    "\n",
    "    the stream will be opened in append mode;\n",
    "    the file associated with the stream doesn't need to exist; if it doesn't exist, it will be created; if it exists the virtual recording head will be set at the end of the file (the previous content of the file remains untouched.)\n",
    "\n",
    "r+ open mode: read and update\n",
    "\n",
    "    the stream will be opened in read and update mode;\n",
    "    the file associated with the stream must exist and has to be writeable, otherwise the open() function raises an exception;\n",
    "    both read and write operations are allowed for the stream.\n",
    "\n",
    "w+ open mode: write and update\n",
    "\n",
    "    the stream will be opened in write and update mode;\n",
    "    the file associated with the stream doesn't need to exist; if it doesn't exist, it will be created; the previous content of the file remains untouched;\n",
    "    both read and write operations are allowed for the stream.\n",
    "\n",
    "\n",
    "\n",
    "Selecting text and binary modes\n",
    "\n",
    "If there is a letter b at the end of the mode string it means that the stream is to be opened in the binary mode.\n",
    "\n",
    "If the mode string ends with a letter t the stream is opened in the text mode.\n",
    "\n",
    "Text mode is the default behaviour assumed when no binary/text mode specifier is used.\n",
    "\n",
    "Finally, the successful opening of the file will set the current file position (the virtual reading/writing head) before the first byte of the file if the mode is not a and after the last byte of file if the mode is set to a.\n",
    "\n",
    "          Text mode \t  Binary mode    \tDescription\n",
    "             rt \t            rb \t             read\n",
    "             wt          \t    wb \t            write\n",
    "             at \t            ab \t            append\n",
    "             r+t                r+b \t    read and update\n",
    "             w+t                w+b \t    write and update\n",
    "\n",
    "EXTRA\n",
    "\n",
    "You can also open a file for its exclusive creation. You can do this using the x open mode. If the file already exists, the open() function will raise an exception.\n",
    "\n",
    "\n",
    "Prev Next"
   ]
  },
  {
   "cell_type": "markdown",
   "id": "78fe4dce-ab98-40c0-80b6-d81183c49209",
   "metadata": {},
   "source": [
    "### Opening the stream for the first time\n",
    "\n",
    "Imagine that we want to develop a program that reads content of the text file named: C:\\Users\\User\\Desktop\\file.txt.\n",
    "\n",
    "How to open that file for reading? Here's the relevant snippet of the code:"
   ]
  },
  {
   "cell_type": "code",
   "execution_count": null,
   "id": "b0b77208-4b2c-4f94-9da7-65a84a4e9992",
   "metadata": {},
   "outputs": [],
   "source": [
    "try:\n",
    "    stream = open(\"C:\\Users\\User\\Desktop\\file.txt\", \"rt\")\n",
    "    # Processing goes here.\n",
    "    stream.close()\n",
    "except Exception as exc:\n",
    "    print(\"Cannot open the file:\", exc)"
   ]
  },
  {
   "cell_type": "markdown",
   "id": "8123865b-434f-4195-b24d-6ddecb341c9f",
   "metadata": {},
   "source": [
    "#### What's going on here?\n",
    "\n",
    "    we open the try-except block as we want to handle runtime errors softly;\n",
    "    we use the open() function to try to open the specified file (note the way we've specified the file name)\n",
    "    the open mode is defined as text to read (as text is the default setting, we can skip the t in mode string)\n",
    "    in case of success we get an object from the open() function and we assign it to the stream variable;\n",
    "    if open() fails, we handle the exception printing full error information (it's definitely good to know what exactly happened)\n",
    "\n",
    "Pre-opened streams\n",
    "\n",
    "We said earlier that any stream operation must be preceded by the open() function invocation. There are three well-defined exceptions to the rule.\n",
    "\n",
    "When our program starts, the three streams are already opened and don't require any extra preparations. What's more, your program can use these streams explicitly if you take care to import the sys module:"
   ]
  },
  {
   "cell_type": "code",
   "execution_count": null,
   "id": "67597381-084d-4095-aebf-2ccffba2034b",
   "metadata": {},
   "outputs": [],
   "source": [
    "import sys"
   ]
  },
  {
   "cell_type": "markdown",
   "id": "f759fc0f-7a44-42e0-adee-e9d3d35fe866",
   "metadata": {},
   "source": [
    "because that's where the declaration of the three streams is placed.\n",
    "\n",
    "\n",
    "\n",
    "The names of these streams are: sys.stdin, sys.stdout, and sys.stderr.\n",
    "\n",
    "Let's analyze them:\n",
    "\n",
    "    sys.stdin\n",
    "        stdin (as standard input)\n",
    "        the stdin stream is normally associated with the keyboard, pre-open for reading and regarded as the primary data source for the running programs;\n",
    "        the well-known input() function reads data from stdin by default.\n",
    "\n",
    "    sys.stdout\n",
    "        stdout (as standard output)\n",
    "        the stdout stream is normally associated with the screen, pre-open for writing, regarded as the primary target for outputting data by the running program;\n",
    "        the well-known print() function outputs the data to the stdout stream.\n",
    "\n",
    "    sys.stderr\n",
    "        stderr (as standard error output)\n",
    "        the stderr stream is normally associated with the screen, pre-open for writing, regarded as the primary place where the running program should send information on the errors encountered during its work;\n",
    "        we haven't presented any method to send the data to this stream (we will do it soon, we promise)\n",
    "        the separation of stdout (useful results produced by the program) from the stderr (error messages, undeniably useful but does not provide results) gives the possibility of redirecting these two types of information to the different targets. More extensive discussion of this issue is beyond the scope of our course. The operation system handbook will provide more information on these issues.\n"
   ]
  },
  {
   "cell_type": "markdown",
   "id": "14444182-014b-42d6-b2be-0272e6c5de51",
   "metadata": {},
   "source": [
    "#### Let's take a look at some selected constants useful for detecting stream errors:\n",
    "\n",
    "    errno.EACCES → Permission denied\n",
    "\n",
    "    The error occurs when you try, for example, to open a file with the read only attribute for writing.\n",
    "\n",
    "    errno.EBADF → Bad file number\n",
    "\n",
    "    The error occurs when you try, for example, to operate with an unopened stream.\n",
    "\n",
    "    errno.EEXIST → File exists\n",
    "\n",
    "    The error occurs when you try, for example, to rename a file with its previous name.\n",
    "\n",
    "    errno.EFBIG → File too large\n",
    "\n",
    "    The error occurs when you try to create a file that is larger than the maximum allowed by the operating system.\n",
    "\n",
    "    errno.EISDIR → Is a directory\n",
    "\n",
    "    The error occurs when you try to treat a directory name as the name of an ordinary file.\n",
    "\n",
    "    errno.EMFILE → Too many open files\n",
    "\n",
    "    The error occurs when you try to simultaneously open more streams than acceptable for your operating system.\n",
    "\n",
    "    errno.ENOENT → No such file or directory\n",
    "\n",
    "    The error occurs when you try to access a non-existent file/directory.\n",
    "\n",
    "    errno.ENOSPC → No space left on device\n",
    "\n",
    "    The error occurs when there is no free space on the media.\n",
    "\n",
    "The complete list is much longer (it includes also some error codes not related to the stream processing.)"
   ]
  },
  {
   "cell_type": "markdown",
   "id": "08674385-33ab-4561-bb78-125d8e496224",
   "metadata": {},
   "source": [
    "#### Diagnosing stream problems: continued\n",
    "\n",
    "If you are a very careful programmer, you may feel the need to use the sequence of statements similar to those presented in the editor.\n",
    "\n",
    "Fortunately, there is a function that can dramatically simplify the error handling code.\n",
    "\n",
    "Its name is strerror(), and it comes from the os module and expects just one argument - an error number.\n",
    "\n",
    "Its role is simple: you give an error number and get a string describing the meaning of the error.\n",
    "\n",
    "Note: if you pass a non-existent error code (a number which is not bound to any actual error), the function will raise ValueError exception.\n",
    "\n",
    "Now we can simplify our code in the following way:"
   ]
  },
  {
   "cell_type": "code",
   "execution_count": 11,
   "id": "9653705b-d4b5-4a9a-9c15-23b534edce1a",
   "metadata": {},
   "outputs": [
    {
     "name": "stdout",
     "output_type": "stream",
     "text": [
      "The file could not be opened: No such file or directory\n"
     ]
    }
   ],
   "source": [
    "from os import strerror\n",
    "\n",
    "try:\n",
    "    s = open(\"c:/users/user/Desktop/file.txt\", \"rt\")\n",
    "    # Actual processing goes here.\n",
    "    s.close()\n",
    "except Exception as exc:\n",
    "    print(\"The file could not be opened:\", strerror(exc.errno))"
   ]
  },
  {
   "cell_type": "markdown",
   "id": "9dfba651-55f4-4a40-85a1-392897ea48e8",
   "metadata": {},
   "source": [
    "Okay. Now it's time to deal with text files and get familiar with some basic techniques you can use to process them.\n",
    "\n"
   ]
  },
  {
   "cell_type": "code",
   "execution_count": 12,
   "id": "a8916c9a-dc73-4c94-9981-b0d786f7a44e",
   "metadata": {},
   "outputs": [
    {
     "name": "stdout",
     "output_type": "stream",
     "text": [
      "The file doesn't exist.\n"
     ]
    }
   ],
   "source": [
    "import errno\n",
    "\n",
    "try:\n",
    "    s = open(\"c:/users/user/Desktop/file.txt\", \"rt\")\n",
    "    # Actual processing goes here.\n",
    "    s.close()\n",
    "except Exception as exc:\n",
    "    if exc.errno == errno.ENOENT:\n",
    "        print(\"The file doesn't exist.\")\n",
    "    elif exc.errno == errno.EMFILE:\n",
    "        print(\"You've opened too many files.\")\n",
    "    else:\n",
    "        print(\"The error number is:\", exc.errno)"
   ]
  },
  {
   "cell_type": "markdown",
   "id": "8c303bfd-8b27-4631-89fc-413e5f5a8dae",
   "metadata": {},
   "source": [
    "### Key takeaways\n",
    "\n",
    "1. A file needs to be open before it can be processed by a program, and it should be closed when the processing is finished.\n",
    "\n",
    "Opening the file associates it with the stream, which is an abstract representation of the physical data stored on the media. The way in which the stream is processed is called open mode. Three open modes exist:\n",
    "\n",
    "    read mode – only read operations are allowed;\n",
    "    write mode – only write operations are allowed;\n",
    "    update mode – both writes and reads are allowed.\n",
    "\n",
    "\n",
    "2. Depending on the physical file content, different Python classes can be used to process files. In general, the BufferedIOBase is able to process any file, while TextIOBase is a specialized class dedicated to processing text files (i.e. files containing human-visible texts divided into lines using new-line markers). Thus, the streams can be divided into binary and text ones.\n",
    "\n",
    "3. The following open() function syntax is used to open a file:\n",
    "\n",
    "open(file_name, mode=open_mode, encoding=text_encoding)\n",
    "\n",
    "The invocation creates a stream object and associates it with the file named file_name, using the specified open_mode and setting the specified text_encoding, or it raises an exception in the case of an error.\n",
    "\n",
    "4. Three predefined streams are already open when the program starts:\n",
    "\n",
    "    sys.stdin – standard input;\n",
    "    sys.stdout – standard output;\n",
    "    sys.stderr – standard error output.\n",
    "\n",
    "\n",
    "5. The IOError exception object, created when any file operations fails (including open operations), contains a property named errno, which contains the completion code of the failed action. Use this value to diagnose the problem.\n",
    "\n"
   ]
  },
  {
   "cell_type": "markdown",
   "id": "83c91f9a-a637-4361-bcee-3af5bc8dee14",
   "metadata": {},
   "source": [
    "####  Processing text files\n",
    "\n",
    "In this lesson we're going to prepare a simple text file with some short, simple content.\n",
    "\n",
    "We're going to show you some basic techniques you can utilize to read the file contents in order to process them.\n",
    "\n",
    "The processing will be very simple - you're going to copy the file's contents to the console, and count all the characters the program has read in.\n",
    "\n",
    "But remember - our understanding of a text file is very strict. In our sense, it's a plain text file - it may contain only text, without any additional decorations (formatting, different fonts, etc.).\n",
    "\n",
    "That's why you should avoid creating the file using any advanced text processor like MS Word, LibreOffice Writer, or something like this. Use the very basics your OS offers: Notepad, vim, gedit, etc.\n",
    "\n",
    "If your text files contain some national characters not covered by the standard ASCII charset, you may need an additional step. Your open() function invocation may require an argument denoting specific text encoding.\n",
    "\n",
    "For example, if you're using a Unix/Linux OS configured to use UTF-8 as a system-wide setting, the open() function may look as follows:\n",
    "stream = open('file.txt', 'rt', encoding='utf-8')\n",
    "\n",
    "\n",
    "where the encoding argument has to be set to a value which is a string representing proper text encoding (UTF-8, here).\n",
    "\n",
    "Consult your OS documentation to find an encoding name adequate to your environment.\n",
    "\n",
    "Note\n",
    "\n",
    "For the purposes of our experiments with file processing carried out in this section, we're going to use a pre-uploaded set of files (i.e., tzop.txt, or text.txt files) which you'll be able to work with. If you'd like to work with your own files locally on your machine, we strongly encourage you to do so, and to use IDLE (or any other IDE that you may prefer) to carry out your own tests.\n"
   ]
  },
  {
   "cell_type": "code",
   "execution_count": 2,
   "id": "07f1445f-b5ea-466f-b9de-e6007febf8fb",
   "metadata": {},
   "outputs": [
    {
     "ename": "FileNotFoundError",
     "evalue": "[Errno 2] No such file or directory: 'tzop.txt'",
     "output_type": "error",
     "traceback": [
      "\u001b[1;31m---------------------------------------------------------------------------\u001b[0m",
      "\u001b[1;31mFileNotFoundError\u001b[0m                         Traceback (most recent call last)",
      "Cell \u001b[1;32mIn[2], line 2\u001b[0m\n\u001b[0;32m      1\u001b[0m \u001b[38;5;66;03m# Opening tzop.txt in read mode, returning it as a file object:\u001b[39;00m\n\u001b[1;32m----> 2\u001b[0m stream \u001b[38;5;241m=\u001b[39m \u001b[38;5;28mopen\u001b[39m(\u001b[38;5;124m\"\u001b[39m\u001b[38;5;124mtzop.txt\u001b[39m\u001b[38;5;124m\"\u001b[39m, \u001b[38;5;124m\"\u001b[39m\u001b[38;5;124mrt\u001b[39m\u001b[38;5;124m\"\u001b[39m, encoding \u001b[38;5;241m=\u001b[39m \u001b[38;5;124m\"\u001b[39m\u001b[38;5;124mutf-8\u001b[39m\u001b[38;5;124m\"\u001b[39m)\n\u001b[0;32m      4\u001b[0m \u001b[38;5;28mprint\u001b[39m(stream\u001b[38;5;241m.\u001b[39mread())\n",
      "File \u001b[1;32mc:\\Users\\user11\\anaconda3\\Lib\\site-packages\\IPython\\core\\interactiveshell.py:324\u001b[0m, in \u001b[0;36m_modified_open\u001b[1;34m(file, *args, **kwargs)\u001b[0m\n\u001b[0;32m    317\u001b[0m \u001b[38;5;28;01mif\u001b[39;00m file \u001b[38;5;129;01min\u001b[39;00m {\u001b[38;5;241m0\u001b[39m, \u001b[38;5;241m1\u001b[39m, \u001b[38;5;241m2\u001b[39m}:\n\u001b[0;32m    318\u001b[0m     \u001b[38;5;28;01mraise\u001b[39;00m \u001b[38;5;167;01mValueError\u001b[39;00m(\n\u001b[0;32m    319\u001b[0m         \u001b[38;5;124mf\u001b[39m\u001b[38;5;124m\"\u001b[39m\u001b[38;5;124mIPython won\u001b[39m\u001b[38;5;124m'\u001b[39m\u001b[38;5;124mt let you open fd=\u001b[39m\u001b[38;5;132;01m{\u001b[39;00mfile\u001b[38;5;132;01m}\u001b[39;00m\u001b[38;5;124m by default \u001b[39m\u001b[38;5;124m\"\u001b[39m\n\u001b[0;32m    320\u001b[0m         \u001b[38;5;124m\"\u001b[39m\u001b[38;5;124mas it is likely to crash IPython. If you know what you are doing, \u001b[39m\u001b[38;5;124m\"\u001b[39m\n\u001b[0;32m    321\u001b[0m         \u001b[38;5;124m\"\u001b[39m\u001b[38;5;124myou can use builtins\u001b[39m\u001b[38;5;124m'\u001b[39m\u001b[38;5;124m open.\u001b[39m\u001b[38;5;124m\"\u001b[39m\n\u001b[0;32m    322\u001b[0m     )\n\u001b[1;32m--> 324\u001b[0m \u001b[38;5;28;01mreturn\u001b[39;00m io_open(file, \u001b[38;5;241m*\u001b[39margs, \u001b[38;5;241m*\u001b[39m\u001b[38;5;241m*\u001b[39mkwargs)\n",
      "\u001b[1;31mFileNotFoundError\u001b[0m: [Errno 2] No such file or directory: 'tzop.txt'"
     ]
    }
   ],
   "source": [
    "# Opening tzop.txt in read mode, returning it as a file object:\n",
    "stream = open(\"tzop.txt\", \"rt\", encoding = \"utf-8\")\n",
    "\n",
    "print(stream.read()) # printing the content of the file\n"
   ]
  },
  {
   "cell_type": "code",
   "execution_count": null,
   "id": "9ea0c126-0cc8-4618-9dbb-552354ec7fec",
   "metadata": {},
   "outputs": [],
   "source": []
  },
  {
   "cell_type": "markdown",
   "id": "434a422b-e06c-4424-aec1-9be3ef5efd8a",
   "metadata": {},
   "source": [
    "#### Processing text files: continued\n",
    "\n",
    "Reading a text file's contents can be performed using several different methods - none of them is any better or worse than any other. It's up to you which of them you prefer and like.\n",
    "\n",
    "Some of them will sometimes be handier, and sometimes more troublesome. Be flexible. Don't be afraid to change your preferences.\n",
    "\n",
    "The most basic of these methods is the one offered by the read() function, which you were able to see in action in the previous lesson.\n",
    "\n",
    "If applied to a text file, the function is able to:\n",
    "\n",
    "    read a desired number of characters (including just one) from the file, and return them as a string;\n",
    "    read all the file contents, and return them as a string;\n",
    "    if there is nothing more to read (the virtual reading head reaches the end of the file), the function returns an empty string.\n",
    "\n",
    "\n",
    "We'll start with the simplest variant and use a file named text.txt. The file has the following contents:"
   ]
  },
  {
   "cell_type": "code",
   "execution_count": null,
   "id": "65312591-0dc5-41f7-9c8d-6331a8010d5e",
   "metadata": {},
   "outputs": [],
   "source": [
    "Beautiful is better than ugly.\n",
    "Explicit is better than implicit.\n",
    "Simple is better than complex.\n",
    "Complex is better than complicated.\n"
   ]
  },
  {
   "cell_type": "markdown",
   "id": "32217977-d61b-41fd-ad89-722dbdac289f",
   "metadata": {},
   "source": [
    "Now look at the code in the editor, and let's analyze it."
   ]
  },
  {
   "cell_type": "code",
   "execution_count": 14,
   "id": "7c922215-7bdf-4766-80c7-7ae34264a807",
   "metadata": {},
   "outputs": [
    {
     "name": "stdout",
     "output_type": "stream",
     "text": [
      "I/O error occurred:  No such file or directory\n"
     ]
    }
   ],
   "source": [
    "from os import strerror\n",
    "\n",
    "try:\n",
    "    cnt = 0\n",
    "    s = open('text.txt', \"rt\")\n",
    "    ch = s.read(1)\n",
    "    while ch != '':\n",
    "        print(ch, end='')\n",
    "        cnt += 1\n",
    "        ch = s.read(1)\n",
    "    s.close()\n",
    "    print(\"\\n\\nCharacters in file:\", cnt)\n",
    "except IOError as e:\n",
    "    print(\"I/O error occurred: \", strerror(e.errno))\n"
   ]
  },
  {
   "cell_type": "markdown",
   "id": "b5ec784f-f4bb-468d-88d4-ff6975b0e61a",
   "metadata": {},
   "source": [
    "The routine is rather simple:\n",
    "\n",
    "    use the try-except mechanism and open the file of the predetermined name (text.txt in our case)\n",
    "    try to read the very first character from the file (ch = s.read(1))\n",
    "    if you succeed (this is proven by a positive result of the while condition check), output the character (note the end= argument - it's important! You don't want to skip to a new line after every character!);\n",
    "    update the counter (cnt), too;\n",
    "    try to read the next character, and the process repeats.\n",
    "\n"
   ]
  },
  {
   "cell_type": "code",
   "execution_count": null,
   "id": "d8b8353f-8791-4443-b48c-0255578186bb",
   "metadata": {},
   "outputs": [],
   "source": []
  },
  {
   "cell_type": "markdown",
   "id": "8e3df607-e6e2-4857-ace9-08ea0a0bb512",
   "metadata": {},
   "source": [
    "#### Processing text files: continued\n",
    "\n",
    "If you're absolutely sure that the file's length is safe and you can read the whole file to the memory at once, you can do it - the read() function, invoked without any arguments or with an argument that evaluates to None, will do the job for you.\n",
    "\n",
    "Remember - reading a terabyte-long file using this method may corrupt your OS.\n",
    "\n",
    "Don't expect miracles - computer memory isn't stretchable."
   ]
  },
  {
   "cell_type": "code",
   "execution_count": 1,
   "id": "1beda00a-1a77-4b1f-8ef4-7ce655b568ba",
   "metadata": {},
   "outputs": [
    {
     "ename": "NameError",
     "evalue": "name 'strerr' is not defined",
     "output_type": "error",
     "traceback": [
      "\u001b[1;31m---------------------------------------------------------------------------\u001b[0m",
      "\u001b[1;31mFileNotFoundError\u001b[0m                         Traceback (most recent call last)",
      "Cell \u001b[1;32mIn[1], line 5\u001b[0m\n\u001b[0;32m      4\u001b[0m cnt \u001b[38;5;241m=\u001b[39m \u001b[38;5;241m0\u001b[39m\n\u001b[1;32m----> 5\u001b[0m s \u001b[38;5;241m=\u001b[39m \u001b[38;5;28mopen\u001b[39m(\u001b[38;5;124m'\u001b[39m\u001b[38;5;124mtext.txt\u001b[39m\u001b[38;5;124m'\u001b[39m, \u001b[38;5;124m\"\u001b[39m\u001b[38;5;124mrt\u001b[39m\u001b[38;5;124m\"\u001b[39m)\n\u001b[0;32m      6\u001b[0m content \u001b[38;5;241m=\u001b[39m s\u001b[38;5;241m.\u001b[39mread()\n",
      "File \u001b[1;32mc:\\Users\\user11\\anaconda3\\Lib\\site-packages\\IPython\\core\\interactiveshell.py:324\u001b[0m, in \u001b[0;36m_modified_open\u001b[1;34m(file, *args, **kwargs)\u001b[0m\n\u001b[0;32m    318\u001b[0m     \u001b[38;5;28;01mraise\u001b[39;00m \u001b[38;5;167;01mValueError\u001b[39;00m(\n\u001b[0;32m    319\u001b[0m         \u001b[38;5;124mf\u001b[39m\u001b[38;5;124m\"\u001b[39m\u001b[38;5;124mIPython won\u001b[39m\u001b[38;5;124m'\u001b[39m\u001b[38;5;124mt let you open fd=\u001b[39m\u001b[38;5;132;01m{\u001b[39;00mfile\u001b[38;5;132;01m}\u001b[39;00m\u001b[38;5;124m by default \u001b[39m\u001b[38;5;124m\"\u001b[39m\n\u001b[0;32m    320\u001b[0m         \u001b[38;5;124m\"\u001b[39m\u001b[38;5;124mas it is likely to crash IPython. If you know what you are doing, \u001b[39m\u001b[38;5;124m\"\u001b[39m\n\u001b[0;32m    321\u001b[0m         \u001b[38;5;124m\"\u001b[39m\u001b[38;5;124myou can use builtins\u001b[39m\u001b[38;5;124m'\u001b[39m\u001b[38;5;124m open.\u001b[39m\u001b[38;5;124m\"\u001b[39m\n\u001b[0;32m    322\u001b[0m     )\n\u001b[1;32m--> 324\u001b[0m \u001b[38;5;28;01mreturn\u001b[39;00m io_open(file, \u001b[38;5;241m*\u001b[39margs, \u001b[38;5;241m*\u001b[39m\u001b[38;5;241m*\u001b[39mkwargs)\n",
      "\u001b[1;31mFileNotFoundError\u001b[0m: [Errno 2] No such file or directory: 'text.txt'",
      "\nDuring handling of the above exception, another exception occurred:\n",
      "\u001b[1;31mNameError\u001b[0m                                 Traceback (most recent call last)",
      "Cell \u001b[1;32mIn[1], line 13\u001b[0m\n\u001b[0;32m     11\u001b[0m     \u001b[38;5;28mprint\u001b[39m(\u001b[38;5;124m\"\u001b[39m\u001b[38;5;130;01m\\n\u001b[39;00m\u001b[38;5;130;01m\\n\u001b[39;00m\u001b[38;5;124mCharacters in file:\u001b[39m\u001b[38;5;124m\"\u001b[39m, cnt)\n\u001b[0;32m     12\u001b[0m \u001b[38;5;28;01mexcept\u001b[39;00m \u001b[38;5;167;01mIOError\u001b[39;00m \u001b[38;5;28;01mas\u001b[39;00m e:\n\u001b[1;32m---> 13\u001b[0m     \u001b[38;5;28mprint\u001b[39m(\u001b[38;5;124m\"\u001b[39m\u001b[38;5;124mI/O error occurred: \u001b[39m\u001b[38;5;124m\"\u001b[39m, strerr(e\u001b[38;5;241m.\u001b[39merrno))\n",
      "\u001b[1;31mNameError\u001b[0m: name 'strerr' is not defined"
     ]
    }
   ],
   "source": [
    "from os import strerror\n",
    "\n",
    "try:\n",
    "    cnt = 0\n",
    "    s = open('text.txt', \"rt\")\n",
    "    content = s.read()\n",
    "    for ch in content:\n",
    "        print(ch, end='')\n",
    "        cnt += 1\n",
    "    s.close()\n",
    "    print(\"\\n\\nCharacters in file:\", cnt)\n",
    "except IOError as e:\n",
    "    print(\"I/O error occurred: \", strerr(e.errno))\n"
   ]
  },
  {
   "cell_type": "code",
   "execution_count": null,
   "id": "70d1ac79-13aa-459d-9c37-9f7e31770e23",
   "metadata": {},
   "outputs": [],
   "source": [
    "\n",
    "\n",
    "### What is a bytearray?\n",
    "\n",
    "Before we start talking about binary files, we have to tell you about one of the specialized classes Python uses to store amorphous data.\n",
    "\n",
    "Amorphous data is data which have no specific shape or form - they are just a series of bytes.\n",
    "\n",
    "This doesn't mean that these bytes cannot have their own meaning, or cannot represent any useful object, e.g., bitmap graphics."
   ]
  },
  {
   "cell_type": "code",
   "execution_count": null,
   "id": "1e93258c-b442-4a88-b5b3-f6abb3cf9837",
   "metadata": {},
   "outputs": [],
   "source": []
  },
  {
   "cell_type": "code",
   "execution_count": null,
   "id": "e67eca94-9a04-424e-9112-f6726cdb5c76",
   "metadata": {},
   "outputs": [],
   "source": []
  },
  {
   "cell_type": "code",
   "execution_count": null,
   "id": "955a2783-8ca7-42e5-8386-8e63c43a39d6",
   "metadata": {},
   "outputs": [],
   "source": []
  }
 ],
 "metadata": {
  "kernelspec": {
   "display_name": "base",
   "language": "python",
   "name": "python3"
  },
  "language_info": {
   "codemirror_mode": {
    "name": "ipython",
    "version": 3
   },
   "file_extension": ".py",
   "mimetype": "text/x-python",
   "name": "python",
   "nbconvert_exporter": "python",
   "pygments_lexer": "ipython3",
   "version": "3.12.4"
  }
 },
 "nbformat": 4,
 "nbformat_minor": 5
}
