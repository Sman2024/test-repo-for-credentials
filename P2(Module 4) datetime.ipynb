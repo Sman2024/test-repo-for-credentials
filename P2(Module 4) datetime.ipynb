{
 "cells": [
  {
   "cell_type": "markdown",
   "id": "6b4d59be-a7a1-4938-9834-afd02a3f24e0",
   "metadata": {},
   "source": [
    "### Introduction to the datetime module\n",
    "\n",
    "In this section, you'll learn about a Python module called datetime.\n",
    "\n",
    "As you can guess, it provides classes for working with date and time. If you think you don't need to delve into this topic, let's talk about examples of using date and time in programming.\n",
    "\n",
    "Date and time have countless uses and it's probably hard to find a production application that doesn't use them. Here are some examples:\n",
    "\n",
    "    event logging — thanks to the knowledge of date and time, we are able to determine when exactly a critical error occurs in our application. When creating logs, you can specify the date and time format;\n",
    "    tracking changes in the database — sometimes it's necessary to store information about when a record was created or modified. The datetime module will be perfect for this case;\n",
    "    data validation — you'll soon learn how to read the current date and time in Python. Knowing the current date and time, we're able to validate various types of data, e.g., whether a discount coupon entered by a user in our application is still valid;\n",
    "    storing important information — can you imagine bank transfers without storing the information of when they were made? The date and time of certain actions must be preserved, and we must deal with it.\n"
   ]
  },
  {
   "cell_type": "markdown",
   "id": "1bc4fceb-f624-4977-b083-ec469d2716d1",
   "metadata": {},
   "source": [
    "#### Getting the current local date and creating date objects\n",
    "\n",
    "One of the classes provided by the datetime module is a class called date. Objects of this class represent a date consisting of the year, month, and day. Look at the code in the editor to see what it looks like in practice and get the current local date using the today method.\n",
    "\n",
    "Run the code to see what happens."
   ]
  },
  {
   "cell_type": "code",
   "execution_count": 3,
   "id": "48ff7e2b-53db-4d79-9b8c-d4cebc3ed343",
   "metadata": {},
   "outputs": [
    {
     "name": "stdout",
     "output_type": "stream",
     "text": [
      "Today: 2024-10-25\n",
      "Year: 2024\n",
      "Month: 10\n",
      "Day: 25\n"
     ]
    }
   ],
   "source": [
    "from datetime import date\n",
    "\n",
    "today = date.today()\n",
    "\n",
    "print(\"Today:\", today)\n",
    "print(\"Year:\", today.year)\n",
    "print(\"Month:\", today.month)\n",
    "print(\"Day:\", today.day)\n"
   ]
  },
  {
   "cell_type": "markdown",
   "id": "92ca6067-c3ee-45df-96d1-50b2cb47da1a",
   "metadata": {},
   "source": [
    "The today method returns a date object representing the current local date. Note that the date object has three attributes: year, month, and day.\n",
    "\n",
    "Be careful, because these attributes are read-only. To create a date object, you must pass the year, month, and day parameters as follows:"
   ]
  },
  {
   "cell_type": "code",
   "execution_count": 4,
   "id": "9329b98e-7cd0-4f0e-9082-ec544436b527",
   "metadata": {},
   "outputs": [
    {
     "name": "stdout",
     "output_type": "stream",
     "text": [
      "2019-11-04\n"
     ]
    }
   ],
   "source": [
    "from datetime import date\n",
    "\n",
    "my_date = date(2019, 11, 4)\n",
    "print(my_date)\n"
   ]
  },
  {
   "cell_type": "markdown",
   "id": "9631d3d8-94fa-4544-a5e5-a68dcbcf87d7",
   "metadata": {},
   "source": [
    "#### Creating a date object from a timestamp\n",
    "\n",
    "The date class gives us the ability to create a date object from a timestamp.\n",
    "\n",
    "In Unix, the timestamp expresses the number of seconds since January 1, 1970, 00:00:00 (UTC). This date is called the Unix epoch, because this is when the counting of time began on Unix systems.\n",
    "\n",
    "The timestamp is actually the difference between a particular date (including time) and January 1, 1970, 00:00:00 (UTC), expressed in seconds.\n",
    "\n",
    "To create a date object from a timestamp, we must pass a Unix timestamp to the fromtimestamp method.\n",
    "\n",
    "For this purpose, we can use the time module, which provides time-related functions. One of them is a function called time() that returns the number of seconds from January 1, 1970 to the current moment in the form of a float number. Take a look at the example in the editor.\n",
    "\n",
    "Run the code to see the output.\n",
    "\n",
    "If you run the sample code several times, you'll be able to see how the timestamp increments itself. It's worth adding that the result of the time function depends on the platform, because in Unix and Windows systems, leap seconds aren't counted.\n",
    "\n",
    "Note: In this part of the course we'll also talk about the time module."
   ]
  },
  {
   "cell_type": "code",
   "execution_count": 9,
   "id": "fc256749-0f90-4368-b58c-e36735e5d61f",
   "metadata": {},
   "outputs": [
    {
     "name": "stdout",
     "output_type": "stream",
     "text": [
      "Timestamp: 1729850524.4303792\n",
      "Date: 2024-10-25\n"
     ]
    }
   ],
   "source": [
    "from datetime import date\n",
    "import time\n",
    "\n",
    "timestamp = time.time()\n",
    "print(\"Timestamp:\", timestamp)\n",
    "\n",
    "d = date.fromtimestamp(timestamp)\n",
    "print(\"Date:\", d)\n",
    "\n"
   ]
  },
  {
   "cell_type": "code",
   "execution_count": 14,
   "id": "2155ad73-2287-4b08-81a2-edb7a1c374fc",
   "metadata": {},
   "outputs": [
    {
     "name": "stdout",
     "output_type": "stream",
     "text": [
      "Timestamp: 1729850586.9095263\n",
      "Date: 2024-10-25\n",
      "Today: 2024-10-25\n",
      "Year: 2024\n",
      "Month: 10\n",
      "Day: 25\n"
     ]
    }
   ],
   "source": [
    "from datetime import date\n",
    "import time\n",
    "\n",
    "timestamp = time.time()\n",
    "print(\"Timestamp:\", timestamp)\n",
    "\n",
    "d = date.fromtimestamp(timestamp)\n",
    "print(\"Date:\", d)\n",
    "\n",
    "\n",
    "today = date.today()\n",
    "\n",
    "print(\"Today:\", today)\n",
    "print(\"Year:\", today.year)\n",
    "print(\"Month:\", today.month)\n",
    "print(\"Day:\", today.day)"
   ]
  },
  {
   "cell_type": "code",
   "execution_count": null,
   "id": "0db75523-1410-49f7-9190-b727ed586bf8",
   "metadata": {},
   "outputs": [],
   "source": []
  },
  {
   "cell_type": "code",
   "execution_count": null,
   "id": "c62821f9-1f8b-469b-b945-6e50ab923e76",
   "metadata": {},
   "outputs": [],
   "source": []
  },
  {
   "cell_type": "code",
   "execution_count": null,
   "id": "854462fc-30c7-4e5f-b2c0-c658d44370db",
   "metadata": {},
   "outputs": [],
   "source": []
  },
  {
   "cell_type": "code",
   "execution_count": null,
   "id": "c22af8bc-51b6-4d32-9f3b-f5654f7402d6",
   "metadata": {},
   "outputs": [],
   "source": []
  },
  {
   "cell_type": "code",
   "execution_count": null,
   "id": "766e6f79-b629-4935-9cd7-90400ca832b6",
   "metadata": {},
   "outputs": [],
   "source": []
  },
  {
   "cell_type": "code",
   "execution_count": null,
   "id": "979668f2-f02c-4cfa-88c7-80a18b1a4b9e",
   "metadata": {},
   "outputs": [],
   "source": []
  },
  {
   "cell_type": "code",
   "execution_count": null,
   "id": "b2069750-e0bb-4bea-a42f-24f23b79892d",
   "metadata": {},
   "outputs": [],
   "source": []
  },
  {
   "cell_type": "code",
   "execution_count": null,
   "id": "3f8a122d-c7e4-4435-86e8-9878fbfc5314",
   "metadata": {},
   "outputs": [],
   "source": []
  },
  {
   "cell_type": "code",
   "execution_count": null,
   "id": "852d8e28-8ac5-4efe-9fa9-312364c1fb33",
   "metadata": {},
   "outputs": [],
   "source": []
  },
  {
   "cell_type": "code",
   "execution_count": null,
   "id": "b15cb4ea-2a72-4827-8ef8-2b2c9d741cb8",
   "metadata": {},
   "outputs": [],
   "source": []
  },
  {
   "cell_type": "code",
   "execution_count": null,
   "id": "6c1c9779-5d6b-4251-8283-329015da0cc1",
   "metadata": {},
   "outputs": [],
   "source": []
  },
  {
   "cell_type": "code",
   "execution_count": null,
   "id": "22524f89-02fa-436a-923d-5a3fabdd2c80",
   "metadata": {},
   "outputs": [],
   "source": []
  },
  {
   "cell_type": "code",
   "execution_count": null,
   "id": "64efd969-7ed9-40d2-aae9-99fe2ec1bb91",
   "metadata": {},
   "outputs": [],
   "source": []
  },
  {
   "cell_type": "code",
   "execution_count": null,
   "id": "329ab631-3cd6-4793-b897-e52f73cbe003",
   "metadata": {},
   "outputs": [],
   "source": []
  },
  {
   "cell_type": "code",
   "execution_count": null,
   "id": "16769d8d-5418-49ee-8ae2-a5345d93d241",
   "metadata": {},
   "outputs": [],
   "source": []
  },
  {
   "cell_type": "code",
   "execution_count": null,
   "id": "c1b49339-133c-451d-a29a-f1616b32d0a0",
   "metadata": {},
   "outputs": [],
   "source": []
  },
  {
   "cell_type": "code",
   "execution_count": null,
   "id": "31e16770-477f-46a9-95ce-fbcd2d391315",
   "metadata": {},
   "outputs": [],
   "source": []
  },
  {
   "cell_type": "code",
   "execution_count": null,
   "id": "e8c71202-0402-4230-94a0-aa1d7fa5e272",
   "metadata": {},
   "outputs": [],
   "source": []
  },
  {
   "cell_type": "code",
   "execution_count": null,
   "id": "717fca09-46db-4e30-871b-64c942e09a94",
   "metadata": {},
   "outputs": [],
   "source": []
  },
  {
   "cell_type": "code",
   "execution_count": null,
   "id": "990f22ac-3bd9-476d-9fe4-eafe6ca619cb",
   "metadata": {},
   "outputs": [],
   "source": []
  },
  {
   "cell_type": "code",
   "execution_count": null,
   "id": "a6a85541-b1a7-429d-847c-595be261f676",
   "metadata": {},
   "outputs": [],
   "source": []
  },
  {
   "cell_type": "code",
   "execution_count": null,
   "id": "d03b9e6a-8c67-4032-8c77-14f8afbdafd1",
   "metadata": {},
   "outputs": [],
   "source": []
  },
  {
   "cell_type": "code",
   "execution_count": null,
   "id": "41508a56-8b87-448b-868a-9778bc153a34",
   "metadata": {},
   "outputs": [],
   "source": []
  },
  {
   "cell_type": "code",
   "execution_count": null,
   "id": "9e72793b-4018-4287-b2df-28bdf95d9398",
   "metadata": {},
   "outputs": [],
   "source": []
  },
  {
   "cell_type": "code",
   "execution_count": null,
   "id": "74e580f7-d39f-49eb-8f29-3802c96b4313",
   "metadata": {},
   "outputs": [],
   "source": []
  },
  {
   "cell_type": "code",
   "execution_count": null,
   "id": "2c338cf6-888d-4921-81ba-c4c9e8368039",
   "metadata": {},
   "outputs": [],
   "source": []
  },
  {
   "cell_type": "code",
   "execution_count": null,
   "id": "25105786-7979-437d-a017-6ddb2d376b81",
   "metadata": {},
   "outputs": [],
   "source": []
  },
  {
   "cell_type": "code",
   "execution_count": null,
   "id": "966f5b4b-637e-4c22-b10d-ac34d071c664",
   "metadata": {},
   "outputs": [],
   "source": []
  },
  {
   "cell_type": "code",
   "execution_count": null,
   "id": "33096ef3-4b89-4ddf-b0b9-8c7a76fb1f13",
   "metadata": {},
   "outputs": [],
   "source": []
  },
  {
   "cell_type": "code",
   "execution_count": null,
   "id": "e1eefa17-09b1-4948-bf53-d7164047151b",
   "metadata": {},
   "outputs": [],
   "source": []
  },
  {
   "cell_type": "code",
   "execution_count": null,
   "id": "d0791532-d187-41ff-8a89-d3a04a859d27",
   "metadata": {},
   "outputs": [],
   "source": []
  },
  {
   "cell_type": "code",
   "execution_count": null,
   "id": "4b3f7d1e-c06f-4ba0-856d-5eb9c865e431",
   "metadata": {},
   "outputs": [],
   "source": []
  },
  {
   "cell_type": "code",
   "execution_count": null,
   "id": "d108679e-07fa-482e-9a34-40addf6fdc3c",
   "metadata": {},
   "outputs": [],
   "source": []
  },
  {
   "cell_type": "code",
   "execution_count": null,
   "id": "4d413656-eee2-466a-a9e9-dca852e21391",
   "metadata": {},
   "outputs": [],
   "source": []
  },
  {
   "cell_type": "code",
   "execution_count": null,
   "id": "83ce3f0c-e9ee-4742-879f-370a3372008a",
   "metadata": {},
   "outputs": [],
   "source": []
  },
  {
   "cell_type": "code",
   "execution_count": null,
   "id": "f27331a2-8b7c-4dd9-a53d-01eed52ce34e",
   "metadata": {},
   "outputs": [],
   "source": []
  },
  {
   "cell_type": "code",
   "execution_count": null,
   "id": "19ef5e08-27fa-4971-be43-db4f3f047124",
   "metadata": {},
   "outputs": [],
   "source": []
  },
  {
   "cell_type": "code",
   "execution_count": null,
   "id": "e80de35e-9c49-408e-9d18-7265a9d1a675",
   "metadata": {},
   "outputs": [],
   "source": []
  },
  {
   "cell_type": "code",
   "execution_count": null,
   "id": "ab18d364-a2fa-4bfd-baa0-19e9252b1cc6",
   "metadata": {},
   "outputs": [],
   "source": []
  },
  {
   "cell_type": "code",
   "execution_count": null,
   "id": "68fec177-5049-4e23-9735-a3eaa96d831e",
   "metadata": {},
   "outputs": [],
   "source": []
  },
  {
   "cell_type": "code",
   "execution_count": null,
   "id": "32940e56-8e72-4332-b58c-160638d09f39",
   "metadata": {},
   "outputs": [],
   "source": []
  },
  {
   "cell_type": "code",
   "execution_count": null,
   "id": "54959ce2-46a3-445f-bf90-790c0c8348fe",
   "metadata": {},
   "outputs": [],
   "source": []
  },
  {
   "cell_type": "code",
   "execution_count": null,
   "id": "ad03ff14-5c39-456f-8c18-af0bcf774ea8",
   "metadata": {},
   "outputs": [],
   "source": []
  },
  {
   "cell_type": "code",
   "execution_count": null,
   "id": "07f0c766-289a-4984-a66f-8d43205d0652",
   "metadata": {},
   "outputs": [],
   "source": []
  },
  {
   "cell_type": "code",
   "execution_count": null,
   "id": "663f05ae-2b4d-4d68-acab-24c20f341208",
   "metadata": {},
   "outputs": [],
   "source": []
  },
  {
   "cell_type": "code",
   "execution_count": null,
   "id": "3e88fe0c-c8ee-4576-86d2-ac979b663f26",
   "metadata": {},
   "outputs": [],
   "source": []
  },
  {
   "cell_type": "code",
   "execution_count": null,
   "id": "c684672f-6769-4026-a992-18a2af2a9ba8",
   "metadata": {},
   "outputs": [],
   "source": []
  },
  {
   "cell_type": "code",
   "execution_count": null,
   "id": "18fd964a-aa81-4f21-a8a5-eed8e5e9f79d",
   "metadata": {},
   "outputs": [],
   "source": []
  },
  {
   "cell_type": "code",
   "execution_count": null,
   "id": "21920e3f-9f61-4c59-9e74-25fde5940ff2",
   "metadata": {},
   "outputs": [],
   "source": []
  },
  {
   "cell_type": "code",
   "execution_count": null,
   "id": "b9fc8d7a-ed4b-432e-8207-44165c29c9dd",
   "metadata": {},
   "outputs": [],
   "source": []
  },
  {
   "cell_type": "code",
   "execution_count": null,
   "id": "e5a04ec1-6e18-4bce-af08-642d89d2f415",
   "metadata": {},
   "outputs": [],
   "source": []
  },
  {
   "cell_type": "code",
   "execution_count": null,
   "id": "de26b624-526b-4e3f-ab61-a7fe5eb9d227",
   "metadata": {},
   "outputs": [],
   "source": []
  }
 ],
 "metadata": {
  "kernelspec": {
   "display_name": "Python 3 (ipykernel)",
   "language": "python",
   "name": "python3"
  },
  "language_info": {
   "codemirror_mode": {
    "name": "ipython",
    "version": 3
   },
   "file_extension": ".py",
   "mimetype": "text/x-python",
   "name": "python",
   "nbconvert_exporter": "python",
   "pygments_lexer": "ipython3",
   "version": "3.12.4"
  }
 },
 "nbformat": 4,
 "nbformat_minor": 5
}
