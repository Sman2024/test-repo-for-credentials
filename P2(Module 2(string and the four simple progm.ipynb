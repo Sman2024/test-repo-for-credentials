{
 "cells": [
  {
   "cell_type": "markdown",
   "id": "19084fa8-3b4d-44e2-a42b-9eedbf8cdf34",
   "metadata": {},
   "source": [
    "### The Caesar Cipher: encrypting a message\n",
    "\n",
    "We're going to show you four simple programs in order to present some aspects of string processing in Python. They are purposefully simple, but the lab problems will be significantly more complicated."
   ]
  },
  {
   "cell_type": "markdown",
   "id": "73a13ce8-43fc-4815-ada5-91244aed8ff7",
   "metadata": {},
   "source": [
    "The first problem we want to show you is called the Caesar cipher - more details here: https://en.wikipedia.org/wiki/Caesar_cipher.\n",
    "\n",
    "This cipher was (probably) invented and used by Gaius Julius Caesar and his troops during the Gallic Wars. The idea is rather simple - every letter of the message is replaced by its nearest consequent (A becomes B, B becomes C, and so on). The only exception is Z, which becomes A.\n",
    "\n",
    "The program in the editor is a very simple (but working) implementation of the algorithm."
   ]
  },
  {
   "cell_type": "code",
   "execution_count": null,
   "id": "11072abc-3d2c-43e9-b460-4c3003709225",
   "metadata": {},
   "outputs": [],
   "source": [
    "# Caesar cipher.\n",
    "text = input(\"Enter your message: \")\n",
    "cipher = ''\n",
    "for char in text:\n",
    "    if not char.isalpha():\n",
    "        continue\n",
    "    char = char.upper()\n",
    "    code = ord(char) + 1\n",
    "    if code > ord('Z'):\n",
    "        code = ord('A')\n",
    "    cipher += chr(code)\n",
    "\n",
    "print(cipher)\n"
   ]
  },
  {
   "cell_type": "markdown",
   "id": "a8d3730a-278c-4a64-a712-f8b2550cc072",
   "metadata": {},
   "source": [
    "### The Caesar Cipher: decrypting a message\n",
    "\n",
    "The reverse transformation should now be clear to you - let's just present you with the code as-is, without any explanations.\n",
    "\n",
    "Look at the code in the editor. Check carefully if it works. Use the cryptogram from the previous program"
   ]
  },
  {
   "cell_type": "code",
   "execution_count": null,
   "id": "356cd66d-1eea-4d97-9aec-4dd2bbcdc0e6",
   "metadata": {},
   "outputs": [],
   "source": [
    "# Caesar cipher.\n",
    "text = input(\"Enter your message: \")\n",
    "cipher = ''\n",
    "for char in text:\n",
    "    if not char.isalpha():\n",
    "        continue\n",
    "    char = char.upper()\n",
    "    code = ord(char) + 1\n",
    "    if code > ord('Z'):\n",
    "        code = ord('A')\n",
    "    cipher += chr(code)\n",
    "\n",
    "print(cipher)\n"
   ]
  },
  {
   "cell_type": "code",
   "execution_count": null,
   "id": "ab1eb373-6900-4017-b37d-52360c27bd84",
   "metadata": {},
   "outputs": [],
   "source": [
    "# Caesar cipher - decrypting a message.\n",
    "cipher = input('Enter your cryptogram: ')\n",
    "text = ''\n",
    "for char in cipher:\n",
    "    if not char.isalpha():\n",
    "        continue\n",
    "    char = char.upper()\n",
    "    code = ord(char) - 1\n",
    "    if code < ord('A'):\n",
    "        code = ord('Z')\n",
    "    text += chr(code)\n",
    "\n",
    "print(text)"
   ]
  },
  {
   "cell_type": "code",
   "execution_count": null,
   "id": "a72d67a5-9a36-4658-a8a9-3ce8f3bca26e",
   "metadata": {},
   "outputs": [],
   "source": []
  },
  {
   "cell_type": "markdown",
   "id": "1a5b1b42-dfb3-4738-a732-78a6356ef54d",
   "metadata": {},
   "source": [
    "### The Numbers Processor\n",
    "\n",
    "The third program shows a simple method allowing you to input a line filled with numbers, and to process them easily. Note: the routine input() function, combined together with the int() or float() functions, is unsuitable for this purpose.\n",
    "\n",
    "The processing will be extremely easy - we want the numbers to be summed."
   ]
  },
  {
   "cell_type": "code",
   "execution_count": null,
   "id": "d37045dc-774e-4d6b-8e9b-dabfbfa75606",
   "metadata": {},
   "outputs": [],
   "source": [
    "# Numbers Processor.\n",
    "\n",
    "line = input(\"Enter a line of numbers - separate them with spaces: \")\n",
    "strings = line.split()\n",
    "total = 0\n",
    "try:\n",
    "    for substr in strings:\n",
    "        total += float(substr)\n",
    "    print(\"The total is:\", total)\n",
    "except:\n",
    "    print(substr, \"is not a number.\")\n"
   ]
  },
  {
   "cell_type": "code",
   "execution_count": null,
   "id": "c986a2de-bad1-41da-8d63-64041289f901",
   "metadata": {},
   "outputs": [],
   "source": []
  },
  {
   "cell_type": "markdown",
   "id": "09fa3b1d-71db-4bef-a26c-218e0000e791",
   "metadata": {},
   "source": [
    "### The IBAN Validator\n",
    "\n",
    "The fourth program implements (in a slightly simplified form) an algorithm used by European banks to specify account numbers. The standard named IBAN (International Bank Account Number) provides a simple and fairly reliable method for validating account numbers against simple typos that can occur during rewriting of the number, for example, from paper documents, like invoices or bills, into computers."
   ]
  },
  {
   "cell_type": "code",
   "execution_count": 1,
   "id": "1559c68a-6aa3-4591-8ebc-b9e539636b15",
   "metadata": {},
   "outputs": [
    {
     "name": "stdin",
     "output_type": "stream",
     "text": [
      "Enter IBAN, please:  13\n"
     ]
    },
    {
     "name": "stdout",
     "output_type": "stream",
     "text": [
      "IBAN entered is too short.\n"
     ]
    }
   ],
   "source": [
    "# IBAN Validator.\n",
    "\n",
    "iban = input(\"Enter IBAN, please: \")\n",
    "iban = iban.replace(' ','')\n",
    "\n",
    "if not iban.isalnum():\n",
    "    print(\"You have entered invalid characters.\")\n",
    "elif len(iban) < 15:\n",
    "    print(\"IBAN entered is too short.\")\n",
    "elif len(iban) > 31:\n",
    "    print(\"IBAN entered is too long.\")\n",
    "else:\n",
    "    iban = (iban[4:] + iban[0:4]).upper()\n",
    "    iban2 = ''\n",
    "    for ch in iban:\n",
    "        if ch.isdigit():\n",
    "            iban2 += ch\n",
    "        else:\n",
    "            iban2 += str(10 + ord(ch) - ord('A'))\n",
    "    iban = int(iban2)\n",
    "    if iban % 97 == 1:\n",
    "        print(\"IBAN entered is valid.\")\n",
    "    else:\n",
    "        print(\"IBAN entered is invalid.\")\n",
    " "
   ]
  },
  {
   "cell_type": "code",
   "execution_count": null,
   "id": "80c7bef5-a8d3-436d-991c-2836d44538a6",
   "metadata": {},
   "outputs": [],
   "source": []
  },
  {
   "cell_type": "markdown",
   "id": "66227385-338e-44c1-9035-82ec3c1a7e2f",
   "metadata": {},
   "source": [
    "You are already familiar with the Caesar cipher, and this is why we want you to improve the code we showed you recently.\n",
    "\n",
    "The original Caesar cipher shifts each character by one: a becomes b, z becomes a, and so on. Let's make it a bit harder, and allow the shifted value to come from the range 1..25 inclusive.\n",
    "\n",
    "Moreover, let the code preserve the letters' case (lower-case letters will remain lower-case) and all non-alphabetical characters should remain untouched.\n",
    "\n",
    "Your task is to write a program which:\n",
    "\n",
    "    asks the user for one line of text to encrypt;\n",
    "    asks the user for a shift value (an integer number from the range 1..25 - note: you should force the user to enter a valid shift value (don't give up and don't let bad data fool you!)\n",
    "    prints out the encoded text. "
   ]
  },
  {
   "cell_type": "code",
   "execution_count": null,
   "id": "ba86fa75-17cf-44fb-a3b5-69509f1183d2",
   "metadata": {},
   "outputs": [],
   "source": [
    "def get_valid_shift():\n",
    "    while True:\n",
    "        try:\n",
    "            # Ask the user for a shift value\n",
    "            shift = int(input(\"Enter the shift value (1-25): \"))\n",
    "            # Ensure the shift value is within the valid range\n",
    "            if 1 <= shift <= 25:\n",
    "                return shift\n",
    "            else:\n",
    "                print(\"Shift value must be between 1 and 25.\")\n",
    "        except ValueError:\n",
    "            print(\"Invalid input! Please enter an integer between 1 and 25.\")\n",
    "\n",
    "def caesar_cipher(text, shift):\n",
    "    cipher = ''\n",
    "    \n",
    "    for char in text:\n",
    "        if char.isalpha():  # Only process alphabetic characters\n",
    "            # Preserve case (lowercase or uppercase)\n",
    "            if char.islower():\n",
    "                start = ord('a')  # ASCII value for 'a'\n",
    "            else:\n",
    "                start = ord('A')  # ASCII value for 'A'\n",
    "\n",
    "            # Circular shift the character and preserve case\n",
    "            new_char = chr((ord(char) - start + shift) % 26 + start)\n",
    "            cipher += new_char\n",
    "        else:\n",
    "            # If it's not an alphabetic character, leave it as it is\n",
    "            cipher += char\n",
    "\n",
    "    return cipher\n",
    "\n",
    "# Step 1: Ask the user for the input text to encrypt\n",
    "text = input(\"Enter your message: \")\n",
    "\n",
    "# Step 2: Get a valid shift value (1-25)\n",
    "shift_value = get_valid_shift()\n",
    "\n",
    "# Step 3: Encrypt the text using the Caesar cipher\n",
    "encrypted_text = caesar_cipher(text, shift_value)\n",
    "\n",
    "# Step 4: Print the encrypted message\n",
    "print(\"Encrypted message:\", encrypted_text)\n"
   ]
  },
  {
   "cell_type": "code",
   "execution_count": null,
   "id": "2b91ddeb-ab0a-4547-8cbe-5086dfb3012c",
   "metadata": {},
   "outputs": [],
   "source": [
    "def get_valid_shift():\n",
    "    while True:\n",
    "        try:\n",
    "            shift = int(input(\"Enter the shift value (1-25): \"))\n",
    "            if 1 <= shift <= 25:\n",
    "                return shift\n",
    "            else:\n",
    "                print(\"Shift value must be between 1 and 25.\")\n",
    "        except ValueError:\n",
    "            print(\"Invalid input! Please enter an integer between 1 and 25.\")\n",
    "\n",
    "def caesar_cipher(text, shift):\n",
    "    cipher = ''\n",
    "    \n",
    "    for char in text:\n",
    "        if char.isalpha():  \n",
    "            if char.islower():\n",
    "                start = ord('a')  \n",
    "            else:\n",
    "                start = ord('A')  \n",
    "            new_char = chr((ord(char) - start + shift) % 26 + start)\n",
    "            cipher += new_char\n",
    "        else:\n",
    "            cipher += char\n",
    "\n",
    "    return cipher\n",
    "\n",
    "text = input(\"Enter your message: \")\n",
    "shift_value = get_valid_shift()\n",
    "encrypted_text = caesar_cipher(text, shift_value)\n",
    "print(\"Encrypted message:\", encrypted_text)\n",
    "\n",
    "\n"
   ]
  },
  {
   "cell_type": "code",
   "execution_count": null,
   "id": "f7b14b3e-4203-4475-a8bd-7ec0a16065b9",
   "metadata": {},
   "outputs": [],
   "source": [
    "# input text to encrypt\n",
    "text = input(\"Enter message: \")\n",
    "\n",
    "# enter valid shift value (repeat until it succeeds)\n",
    "shift = 0\n",
    "\n",
    "while shift == 0:\n",
    "    try:    \n",
    "        shift = int(input(\"Enter cipher's shift (1..25): \"))\n",
    "        if shift not in range(1,26):\n",
    "        \traise ValueError\n",
    "    except ValueError:\n",
    "        shift = 0\n",
    "    if shift == 0:\n",
    "        print(\"Bad shift value!\")\n",
    "\n",
    "cipher = ''\n",
    "\n",
    "for char in text:\n",
    "    # is it a letter?\n",
    "    if char.isalpha():\n",
    "        # shift its code\n",
    "        code = ord(char) + shift\n",
    "        # find the code of the first letter (upper- or lower-case)\n",
    "        if char.isupper():\n",
    "            first = ord('A')\n",
    "        else:\n",
    "            first = ord('a')\n",
    "        # make correction\n",
    "        code -= first\n",
    "        code %= 26\n",
    "        # append encoded character to message\n",
    "        cipher += chr(first + code)\n",
    "    else:\n",
    "        # append original character to message\n",
    "        cipher += char\n",
    "\n",
    "print(cipher)\n"
   ]
  },
  {
   "cell_type": "code",
   "execution_count": null,
   "id": "b4a93b9f-ed3b-418a-833f-897554222710",
   "metadata": {},
   "outputs": [],
   "source": []
  },
  {
   "cell_type": "code",
   "execution_count": null,
   "id": "80c97558-86b5-4f4b-84ab-b3b26309d27f",
   "metadata": {},
   "outputs": [],
   "source": [
    "def is_palindrome(text):\n",
    "    # Remove spaces and non-alphabetical characters, and convert to lowercase\n",
    "    cleaned_text = ''.join(char.lower() for char in text if char.isalnum())\n",
    "    \n",
    "    # Check if cleaned_text is empty\n",
    "    if len(cleaned_text) == 0:\n",
    "        return False\n",
    "\n",
    "    # Compare the cleaned text with its reversed version\n",
    "    return cleaned_text == cleaned_text[::-1]\n",
    "\n",
    "# Ask the user for input\n",
    "text = input(\"Enter some text: \")\n",
    "\n",
    "# Check if it's a palindrome\n",
    "if is_palindrome(text):\n",
    "    print(\"It's a palindrome!\")\n",
    "else:\n",
    "    print(\"It's not a palindrome.\")\n"
   ]
  },
  {
   "cell_type": "code",
   "execution_count": null,
   "id": "0595c80d-4ddb-496d-a70f-f32002ee5df5",
   "metadata": {},
   "outputs": [],
   "source": [
    "def is_palindrome(text):\n",
    "    # Initialize two pointers\n",
    "    left, right = 0, len(text) - 1\n",
    "\n",
    "    while left < right:\n",
    "        # Move the left pointer to the next alphanumeric character\n",
    "        while left < right and not text[left].isalnum():\n",
    "            left += 1\n",
    "        # Move the right pointer to the previous alphanumeric character\n",
    "        while left < right and not text[right].isalnum():\n",
    "            right -= 1\n",
    "        \n",
    "        # Compare the characters (ignore case)\n",
    "        if text[left].lower() != text[right].lower():\n",
    "            return False\n",
    "        \n",
    "        # Move both pointers inward\n",
    "        left += 1\n",
    "        right -= 1\n",
    "\n",
    "    return True\n",
    "\n",
    "# Ask the user for input\n",
    "text = input(\"Enter some text: \")\n",
    "\n",
    "# Check if it's a palindrome\n",
    "if is_palindrome(text):\n",
    "    print(\"It's a palindrome!\")\n",
    "else:\n",
    "    print(\"It's not a palindrome.\")\n"
   ]
  },
  {
   "cell_type": "code",
   "execution_count": null,
   "id": "b8f0e8c9-8868-4c90-b7ea-3471c5637512",
   "metadata": {},
   "outputs": [],
   "source": [
    "text = input(\"Enter text: \")\n",
    "\n",
    "# remove all spaces...\n",
    "text = text.replace(' ','')\n",
    "\n",
    "# ... and check if the word is equal to reversed itself\n",
    "if len(text) > 1 and text.upper() == text[::-1].upper():\n",
    "\tprint(\"It's a palindrome\")\n",
    "else:\n",
    "\tprint(\"It's not a palindrome\")\n"
   ]
  },
  {
   "cell_type": "code",
   "execution_count": null,
   "id": "74b7aa83-17d7-4e8b-a6ad-c70f3666782e",
   "metadata": {},
   "outputs": [],
   "source": []
  },
  {
   "cell_type": "markdown",
   "id": "69f4305b-ae7c-499a-9164-3512c02ee8e2",
   "metadata": {},
   "source": [
    "### Scenario\n",
    "\n",
    "An anagram is a new word formed by rearranging the letters of a word, using all the original letters exactly once. For example, the phrases \"rail safety\" and \"fairy tales\" are anagrams, while \"I am\" and \"You are\" are not.\n",
    "\n",
    "Your task is to write a program which:\n",
    "\n",
    "    asks the user for two separate texts;\n",
    "    checks whether, the entered texts are anagrams and prints the result.\n",
    "\n",
    "Note:\n",
    "\n",
    "    assume that two empty strings are not anagrams;\n",
    "    treat upper- and lower-case letters as equal;\n",
    "    spaces are not taken into account during the check - treat them as non-existent\n",
    "\n"
   ]
  },
  {
   "cell_type": "code",
   "execution_count": null,
   "id": "59e90f2e-cbe0-4f2f-9031-efe72c06d40e",
   "metadata": {},
   "outputs": [],
   "source": [
    "def are_anagrams(text1, text2):\n",
    "    cleaned_text1 = ''.join(char.lower() for char in text1 if char.isalnum())\n",
    "    cleaned_text2 = ''.join(char.lower() for char in text2 if char.isalnum())\n",
    "    \n",
    "    # If either cleaned text is empty, they're not anagrams\n",
    "    if not cleaned_text1 or not cleaned_text2:\n",
    "        return False\n",
    "\n",
    "    # Check if the sorted versions of the cleaned texts are the same\n",
    "    return sorted(cleaned_text1) == sorted(cleaned_text2)\n",
    "\n",
    "# Ask the user for two input texts\n",
    "text1 = input(\"Enter the first text: \")\n",
    "text2 = input(\"Enter the second text: \")\n",
    "\n",
    "# Check if they are anagrams\n",
    "if are_anagrams(text1, text2):\n",
    "    print(\"The texts are anagrams!\")\n",
    "else:\n",
    "    print(\"The texts are not anagrams.\")\n"
   ]
  },
  {
   "cell_type": "code",
   "execution_count": null,
   "id": "22064dbf-c677-4c0d-92f7-9259b0986c8a",
   "metadata": {},
   "outputs": [],
   "source": [
    "str_1 = input(\"Enter the first string: \")\n",
    "str_2 = input(\"Enter the second string: \")\n",
    "\n",
    "def anagrams(str_1, str_2):\n",
    "    cleaned_str_1 = ''.join(char.lower() for char in text1 if char.isalnum())\n",
    "    cleaned_str_2 = ''.join(char.lower() for char in text2 if char.isalnum())\n",
    "    \n",
    "    if not cleaned_str_1 or not cleaned_str_2:\n",
    "        return False\n",
    "    return sorted(cleaned_str_1) == sorted(cleaned_str_2)\n",
    "\n",
    "if anagrams(str_1, str_2):\n",
    "    print(\"The texts are anagrams!\")\n",
    "else:\n",
    "    print(\"The texts are not anagrams.\")\n",
    "\n"
   ]
  },
  {
   "cell_type": "code",
   "execution_count": null,
   "id": "905f524c-fa5f-4adc-a77c-e11a3c74ede6",
   "metadata": {},
   "outputs": [],
   "source": [
    "str_1 = input(\"Enter the first string: \")\n",
    "str_2 = input(\"Enter the second string: \")\n",
    "\n",
    "strx_1 = ''.join(sorted(list(str_1.upper().replace(' ',''))))\n",
    "strx_2 = ''.join(sorted(list(str_2.upper().replace(' ',''))))\n",
    "if len(strx_1) > 0 and strx_1 == strx_2:\n",
    "\tprint(\"Anagrams\")\n",
    "else:\n",
    "\tprint(\"Not anagrams\")\n"
   ]
  },
  {
   "cell_type": "code",
   "execution_count": null,
   "id": "a2be14ad-dfbd-4113-a963-94564874f1dd",
   "metadata": {},
   "outputs": [],
   "source": []
  },
  {
   "cell_type": "markdown",
   "id": "f25e0997-bf8b-48cd-abe5-a56055aed7f6",
   "metadata": {},
   "source": [
    "### Scenario\n",
    "\n",
    "Some say that the Digit of Life is a digit evaluated using somebody's birthday. It's simple - you just need to sum all the digits of the date. If the result contains more than one digit, you have to repeat the addition until you get exactly one digit. For example:\n",
    "\n",
    "    1 January 2017 = 2017 01 01\n",
    "    2 + 0 + 1 + 7 + 0 + 1 + 0 + 1 = 12\n",
    "    1 + 2 = 3\n",
    "\n",
    "3 is the digit we searched for and found.\n",
    "\n",
    "Your task is to write a program which:\n",
    "\n",
    "    asks the user her/his birthday (in the format YYYYMMDD, or YYYYDDMM, or MMDDYYYY - actually, the order of the digits doesn't matter)\n",
    "    outputs the Digit of Life for the date.\n",
    "\n",
    "Test your code using the data we've provided."
   ]
  },
  {
   "cell_type": "code",
   "execution_count": null,
   "id": "33993841-5148-4cab-8ed9-0bf2ab9a5059",
   "metadata": {},
   "outputs": [],
   "source": [
    "def digit_of_life(birthday):\n",
    "    # Keep summing the digits until a single digit is reached\n",
    "    while len(birthday) > 1:\n",
    "        birthday = str(sum(int(digit) for digit in birthday))\n",
    "    return birthday\n",
    "\n",
    "# Ask the user for their birthday\n",
    "birthday = input(\"Enter your birthday in any format (YYYYMMDD, DDMMYYYY, etc.): \")\n",
    "\n",
    "# Remove non-numeric characters (in case the input has separators)\n",
    "birthday = ''.join(char for char in birthday if char.isdigit())\n",
    "\n",
    "# Calculate and print the Digit of Life\n",
    "life_digit = digit_of_life(birthday)\n",
    "print(\"Your Digit of Life is:\", life_digit)\n"
   ]
  },
  {
   "cell_type": "code",
   "execution_count": null,
   "id": "0a9b6598-80c9-48f6-ab29-b8e71731e937",
   "metadata": {},
   "outputs": [],
   "source": [
    "birthday = input(\"Enter your birthday date (in the following format: YYYYMMDD or YYYYDDMM, 8 digits): \")\n",
    "def date(birthday):\n",
    "    while len(birthday) > 1:\n",
    "        birthday = str(sum(int(digit) for digit in birthday))\n",
    "    return birthday\n",
    "\n",
    "birthday = ''.join(char for char in birthday if char.isdigit())\n",
    "life_digit = date(birthday)\n",
    "print(\"Your digit of life is: \", life_digit)"
   ]
  },
  {
   "cell_type": "code",
   "execution_count": null,
   "id": "e8fb3597-f346-4820-825c-185b7103c5be",
   "metadata": {},
   "outputs": [],
   "source": [
    "date = input(\"Enter your birthday date (in the following format: YYYYMMDD or YYYYDDMM, 8 digits): \")\n",
    "if len(date) != 8 or not date.isdigit():\n",
    "    print(\"Invalid date format.\")\n",
    "else:\n",
    "    while len(date) > 1:\n",
    "        the_sum = 0\n",
    "        for dig in date:\n",
    "            the_sum += int(dig)\n",
    "        print(date)\n",
    "        date = str(the_sum)\n",
    "    print(\"Your Digit of Life is: \" + date)\n"
   ]
  },
  {
   "cell_type": "code",
   "execution_count": null,
   "id": "a1f63f06-d5fa-4b7f-81d4-a6713b119e37",
   "metadata": {},
   "outputs": [],
   "source": []
  },
  {
   "cell_type": "markdown",
   "id": "8af0fe97-c626-497c-a220-c358b47930d8",
   "metadata": {},
   "source": [
    "### Scenario\n",
    "\n",
    "Let's play a game. We will give you two strings: one being a word (e.g., \"dog\") and the second being a combination of any characters.\n",
    "\n",
    "Your task is to write a program which answers the following question: are the characters comprising the first string hidden inside the second string?\n",
    "\n",
    "For example:\n",
    "\n",
    "    if the second string is given as \"vcxzxduybfdsobywuefgas\", the answer is yes;\n",
    "    if the second string is \"vcxzxdcybfdstbywuefsas\", the answer is no (as there are neither the letters \"d\", \"o\", or \"g\", in this order)\n",
    "\n",
    "Hints:\n",
    "\n",
    "    you should use the two-argument variants of the pos() functions inside your code;\n",
    "    don't worry about case sensitivity.\n",
    "\n",
    "Test your code using the data we've provided."
   ]
  },
  {
   "cell_type": "code",
   "execution_count": null,
   "id": "32667cbe-43df-466b-a178-6838937d8bd6",
   "metadata": {},
   "outputs": [],
   "source": [
    "def are_characters_hidden(word, combination):\n",
    "    # Convert both strings to lowercase to ignore case sensitivity\n",
    "    word = word.lower()\n",
    "    combination = combination.lower()\n",
    "\n",
    "    current_position = 0  # Start searching from the beginning of the combination\n",
    "\n",
    "    for char in word:\n",
    "        # Find the position of the current character in the combination string\n",
    "        current_position = combination.find(char, current_position)\n",
    "\n",
    "        # If the character is not found, return \"no\"\n",
    "        if current_position == -1:\n",
    "            return \"no\"\n",
    "\n",
    "        # Move to the next position for the next character search\n",
    "        current_position += 1\n",
    "\n",
    "    return \"yes\"\n",
    "\n",
    "# Ask the user for input\n",
    "word = input(\"Enter the word: \")\n",
    "combination = input(\"Enter the combination of characters: \")\n",
    "\n",
    "# Check if the characters are hidden and print the result\n",
    "result = are_characters_hidden(word, combination)\n",
    "print(result)\n"
   ]
  },
  {
   "cell_type": "code",
   "execution_count": null,
   "id": "2395ff32-ef53-41a1-9bbc-5dd59b8e2a7e",
   "metadata": {},
   "outputs": [],
   "source": [
    "word = input(\"Enter the word you wish to find: \").upper()\n",
    "strn = input(\"Enter the string you wish to search through: \").upper()\n",
    "def hidden_character(word, strn):\n",
    "    word = word.upper()\n",
    "    strn = strn.upper()\n",
    "    \n",
    "    current_position = 0  \n",
    "\n",
    "    for char in word:\n",
    "        current_position = strn.find(char, current_position)\n",
    "        \n",
    "        if current_position == -1:\n",
    "            return \"no\"\n",
    "        current_position += 1\n",
    "    return \"yes\"\n",
    "\n",
    "result =hidden_character(word, strn)\n",
    "print(result)\n",
    "        "
   ]
  },
  {
   "cell_type": "code",
   "execution_count": null,
   "id": "c475e9e3-3e56-4551-967a-c8933f75292a",
   "metadata": {},
   "outputs": [],
   "source": [
    "word = input(\"Enter the word you wish to find: \").upper()\n",
    "strn = input(\"Enter the string you wish to search through: \").upper()\n",
    "\n",
    "found = True\n",
    "start = 0\n",
    "\n",
    "for ch in word:\n",
    "\tpos = strn.find(ch, start) \n",
    "\tif pos < 0:\n",
    "\t\tfound = False\n",
    "\t\tbreak\n",
    "\tstart = pos + 1\n",
    "if found:\n",
    "\tprint(\"Yes\")\n",
    "else:\n",
    "\tprint(\"No\")\n"
   ]
  },
  {
   "cell_type": "code",
   "execution_count": null,
   "id": "869f2238-bba0-440b-9200-313c8f507e00",
   "metadata": {},
   "outputs": [],
   "source": []
  },
  {
   "cell_type": "markdown",
   "id": "427c98be-2f7d-4ff8-aca9-dc5a4d189e0d",
   "metadata": {},
   "source": [
    "### Scenario\n",
    "\n",
    "As you probably know, Sudoku is a number-placing puzzle played on a 9x9 board. The player has to fill the board in a very specific way:\n",
    "\n",
    "    each row of the board must contain all digits from 0 to 9 (the order doesn't matter)\n",
    "    each column of the board must contain all digits from 0 to 9 (again, the order doesn't matter)\n",
    "    each of the nine 3x3 \"tiles\" (we will name them \"sub-squares\") of the table must contain all digits from 0 to 9.\n",
    "\n",
    "If you need more details, you can find them here.\n",
    "\n",
    "Your task is to write a program which:\n",
    "\n",
    "    reads 9 rows of the Sudoku, each containing 9 digits (check carefully if the data entered are valid)\n",
    "    outputs Yes if the Sudoku is valid, and No otherwise.\n",
    "\n",
    "Test your code using the data we've provided."
   ]
  },
  {
   "cell_type": "code",
   "execution_count": 2,
   "id": "6e2bf839-7d7e-408f-bb6c-72cecc029d3d",
   "metadata": {},
   "outputs": [
    {
     "name": "stdout",
     "output_type": "stream",
     "text": [
      "Enter the Sudoku board (9 rows of 9 digits each, separated by spaces):\n"
     ]
    },
    {
     "name": "stdin",
     "output_type": "stream",
     "text": [
      " 2 9 5 7 4 3 8 6 1\n",
      " 4 3 1 8 6 5 9 2 7\n",
      " 8 7 6 1 9 2 5 4 3\n",
      " 3 8 7 4 5 9 2 1 6\n",
      " 6 1 2 3 8 7 4 9 5\n",
      " 5 4 9 2 1 6 7 3 8\n",
      " 7 6 3 5 2 4 1 8 9\n",
      " 9 2 8 6 7 1 3 5 4\n",
      " 1 5 4 9 3 8 6 7 2\n"
     ]
    },
    {
     "name": "stdout",
     "output_type": "stream",
     "text": [
      "Yes\n"
     ]
    }
   ],
   "source": [
    "def is_valid_sudoku(board):\n",
    "    # Check if rows are valid\n",
    "    for row in board:\n",
    "        if sorted(row) != list(range(1, 10)):  # Expect digits 1 to 9 in each row\n",
    "            return \"No\"\n",
    "\n",
    "    # Check if columns are valid\n",
    "    for col in range(9):\n",
    "        column = [board[row][col] for row in range(9)]\n",
    "        if sorted(column) != list(range(1, 10)):  # Expect digits 1 to 9 in each column\n",
    "            return \"No\"\n",
    "\n",
    "    # Check if 3x3 sub-squares are valid\n",
    "    for box_row in range(3):\n",
    "        for box_col in range(3):\n",
    "            sub_square = []\n",
    "            for row in range(box_row * 3, (box_row + 1) * 3):\n",
    "                for col in range(box_col * 3, (box_col + 1) * 3):\n",
    "                    sub_square.append(board[row][col])\n",
    "            if sorted(sub_square) != list(range(1, 10)):  # Expect digits 1 to 9 in each 3x3 sub-square\n",
    "                return \"No\"\n",
    "\n",
    "    return \"Yes\"\n",
    "\n",
    "# Read the Sudoku board\n",
    "sudoku_board = []\n",
    "print(\"Enter the Sudoku board (9 rows of 9 digits each, separated by spaces):\")\n",
    "for _ in range(9):\n",
    "    row = list(map(int, input().strip().split()))\n",
    "    # Validate that the row has exactly 9 digits and contains only digits 1 to 9\n",
    "    if len(row) != 9 or any(num < 1 or num > 9 for num in row):\n",
    "        print(\"No\")\n",
    "        exit()\n",
    "    sudoku_board.append(row)\n",
    "\n",
    "# Check if the Sudoku board is valid and print the result\n",
    "result = is_valid_sudoku(sudoku_board)\n",
    "print(result)\n"
   ]
  },
  {
   "cell_type": "code",
   "execution_count": null,
   "id": "e89ef01c-5c3f-4258-ad9c-90cb2e2d9ee0",
   "metadata": {},
   "outputs": [],
   "source": [
    "5 3 4 6 7 8 9 1 2\n",
    "6 7 2 1 9 5 3 4 8\n",
    "1 9 8 3 4 2 5 6 7\n",
    "8 5 9 7 6 1 4 2 3\n",
    "4 2 6 8 5 3 7 9 1\n",
    "7 1 3 9 2 4 8 5 6\n",
    "9 6 1 5 3 7 2 8 4\n",
    "2 8 7 4 1 9 6 3 5\n",
    "3 4 5 2 8 6 1 7 9\n"
   ]
  },
  {
   "cell_type": "code",
   "execution_count": 3,
   "id": "05db4c3d-a7b8-4f58-b761-b24202e35d11",
   "metadata": {},
   "outputs": [
    {
     "name": "stdin",
     "output_type": "stream",
     "text": [
      "Enter row #1:  195743862\n",
      "Enter row #2:  431865927\n",
      "Enter row #3:  876192543\n",
      "Enter row #4:  387459216\n",
      "Enter row #5:  612387495\n",
      "Enter row #6:  549216738\n",
      "Enter row #7:  763524189\n",
      "Enter row #8:  928671354\n",
      "Enter row #9:  254938671\n"
     ]
    },
    {
     "name": "stdout",
     "output_type": "stream",
     "text": [
      "No\n"
     ]
    }
   ],
   "source": [
    "# A function that checks whether a list passed as an argument contains\n",
    "# nine digits from '1' to '9'.\n",
    "def checkset(digs):\n",
    "    return sorted(list(digs)) == [chr(x + ord('0')) for x in range(1, 10)]\n",
    "\n",
    "\n",
    "# A list of rows representing the sudoku.\n",
    "rows = [ ]\n",
    "for r in range(9):\n",
    "    ok = False\n",
    "    while not ok:\n",
    "        row = input(\"Enter row #\" + str(r + 1) + \": \")\n",
    "        ok = len(row) == 9 or row.isdigit()\n",
    "        if not ok:\n",
    "            print(\"Incorrect row data - 9 digits required\")\n",
    "    rows.append(row)\n",
    "\n",
    "ok = True\n",
    "\n",
    "# Check if all rows are good.\n",
    "for r in range(9):\n",
    "    if not checkset(rows[r]):\n",
    "        ok = False\n",
    "        break\n",
    "\n",
    "# Check if all columns are good.\t\n",
    "if ok:\n",
    "    for c in range(9):\n",
    "        col = []\n",
    "        for r in range(9):\n",
    "            col.append(rows[r][c])\n",
    "        if not checkset(col):\n",
    "            ok = False\n",
    "            break\n",
    "\n",
    "# Check if all sub-squares (3x3) are good.\n",
    "if ok:\n",
    "    for r in range(0, 9, 3):\n",
    "        for c in range(0, 9, 3):\n",
    "            sqr = ''\n",
    "            # Make a string containing all digits from a sub-square.\n",
    "            for i in range(3):\n",
    "                sqr += rows[r+i][c:c+3]\n",
    "            if not checkset(list(sqr)):\n",
    "                ok = False\n",
    "                break\n",
    "\n",
    "# Print the final verdict.\n",
    "if ok:\n",
    "    print(\"Yes\")\n",
    "else:\n",
    "    print(\"No\")\n"
   ]
  },
  {
   "cell_type": "code",
   "execution_count": null,
   "id": "87f68a5b-6ceb-4213-9697-d7851d215532",
   "metadata": {},
   "outputs": [],
   "source": []
  },
  {
   "cell_type": "code",
   "execution_count": null,
   "id": "f7790e18-7dab-4a91-9d67-003e1d910292",
   "metadata": {},
   "outputs": [],
   "source": []
  },
  {
   "cell_type": "code",
   "execution_count": null,
   "id": "d7665dfd-03f4-4880-981c-b450ca6ae56f",
   "metadata": {},
   "outputs": [],
   "source": []
  },
  {
   "cell_type": "code",
   "execution_count": null,
   "id": "908c3b0b-45c8-48b8-b709-4409ff0e23c8",
   "metadata": {},
   "outputs": [],
   "source": []
  },
  {
   "cell_type": "code",
   "execution_count": null,
   "id": "702764ff-c3c9-4057-a8dc-6cecb3c7aa29",
   "metadata": {},
   "outputs": [],
   "source": []
  },
  {
   "cell_type": "code",
   "execution_count": null,
   "id": "84f9208a-b5d7-4aab-9b22-f895ed0cab6a",
   "metadata": {},
   "outputs": [],
   "source": []
  },
  {
   "cell_type": "code",
   "execution_count": null,
   "id": "e13f4cfa-2155-4790-8385-7cedeb9b8ac5",
   "metadata": {},
   "outputs": [],
   "source": []
  },
  {
   "cell_type": "code",
   "execution_count": null,
   "id": "8a5a8ede-1107-454f-b7d0-3135456d7abe",
   "metadata": {},
   "outputs": [],
   "source": []
  },
  {
   "cell_type": "code",
   "execution_count": null,
   "id": "9ce1c5e9-9380-4118-ae79-c5e40a7c44ef",
   "metadata": {},
   "outputs": [],
   "source": []
  },
  {
   "cell_type": "code",
   "execution_count": null,
   "id": "a33656db-74ac-4822-97ca-7519943ff3ef",
   "metadata": {},
   "outputs": [],
   "source": []
  },
  {
   "cell_type": "code",
   "execution_count": null,
   "id": "099a30fe-25b6-43e5-a9e3-6f627547666c",
   "metadata": {},
   "outputs": [],
   "source": []
  },
  {
   "cell_type": "code",
   "execution_count": null,
   "id": "d1bb0e66-3edd-4f77-b504-d202945e6187",
   "metadata": {},
   "outputs": [],
   "source": []
  },
  {
   "cell_type": "code",
   "execution_count": null,
   "id": "b3e920aa-aafb-4eb4-a9c4-d0f58b0ad6d9",
   "metadata": {},
   "outputs": [],
   "source": []
  },
  {
   "cell_type": "code",
   "execution_count": null,
   "id": "f5df2e27-7829-45c2-99a3-03eb546f3ae6",
   "metadata": {},
   "outputs": [],
   "source": []
  },
  {
   "cell_type": "code",
   "execution_count": null,
   "id": "8f5bafa1-b6a8-4f22-aba0-cf413c70efc1",
   "metadata": {},
   "outputs": [],
   "source": []
  },
  {
   "cell_type": "code",
   "execution_count": null,
   "id": "ecd48ef4-8522-4442-8bf6-9cda98d8adc3",
   "metadata": {},
   "outputs": [],
   "source": []
  },
  {
   "cell_type": "code",
   "execution_count": null,
   "id": "1324ba0b-22c2-48f0-833f-acdad435bb7f",
   "metadata": {},
   "outputs": [],
   "source": []
  },
  {
   "cell_type": "code",
   "execution_count": null,
   "id": "c375f486-a805-427e-b591-5d72020932a7",
   "metadata": {},
   "outputs": [],
   "source": []
  },
  {
   "cell_type": "code",
   "execution_count": null,
   "id": "920009d1-fe29-439e-8bd8-703c903e8302",
   "metadata": {},
   "outputs": [],
   "source": []
  },
  {
   "cell_type": "code",
   "execution_count": null,
   "id": "31b9b0e7-30ce-40ad-b3bb-249fdf9ef697",
   "metadata": {},
   "outputs": [],
   "source": []
  },
  {
   "cell_type": "code",
   "execution_count": null,
   "id": "1d72b623-eda2-4005-a2d9-24674551403e",
   "metadata": {},
   "outputs": [],
   "source": []
  },
  {
   "cell_type": "code",
   "execution_count": null,
   "id": "971be9af-b76c-49ac-b728-5a20c3e2d975",
   "metadata": {},
   "outputs": [],
   "source": []
  },
  {
   "cell_type": "code",
   "execution_count": null,
   "id": "525b5b63-4c5c-44df-9856-064b6453d7e1",
   "metadata": {},
   "outputs": [],
   "source": []
  },
  {
   "cell_type": "code",
   "execution_count": null,
   "id": "6b0212a2-012b-4a47-8d5a-41df8322445e",
   "metadata": {},
   "outputs": [],
   "source": []
  },
  {
   "cell_type": "code",
   "execution_count": null,
   "id": "95b56491-2eab-43e8-a8ef-581510da6d27",
   "metadata": {},
   "outputs": [],
   "source": []
  },
  {
   "cell_type": "code",
   "execution_count": null,
   "id": "65ff318b-3851-4951-8ed8-aade4afa4a69",
   "metadata": {},
   "outputs": [],
   "source": []
  },
  {
   "cell_type": "code",
   "execution_count": null,
   "id": "f54fd0ff-d3fc-4032-81b8-ff61a4389459",
   "metadata": {},
   "outputs": [],
   "source": []
  },
  {
   "cell_type": "code",
   "execution_count": null,
   "id": "d8a33406-729f-4dfc-b47a-ee2578be5608",
   "metadata": {},
   "outputs": [],
   "source": []
  },
  {
   "cell_type": "code",
   "execution_count": null,
   "id": "4e54509c-b325-4160-9b77-5d80d3e05136",
   "metadata": {},
   "outputs": [],
   "source": []
  },
  {
   "cell_type": "code",
   "execution_count": null,
   "id": "2bff8b21-b0fd-4e7c-b5be-bcbebf023ff7",
   "metadata": {},
   "outputs": [],
   "source": []
  },
  {
   "cell_type": "code",
   "execution_count": null,
   "id": "40c48f30-1702-43e2-867b-63dcc8476e98",
   "metadata": {},
   "outputs": [],
   "source": []
  },
  {
   "cell_type": "code",
   "execution_count": null,
   "id": "418f9c21-ff24-4ad9-a605-561ed082a39f",
   "metadata": {},
   "outputs": [],
   "source": []
  }
 ],
 "metadata": {
  "kernelspec": {
   "display_name": "Python 3 (ipykernel)",
   "language": "python",
   "name": "python3"
  },
  "language_info": {
   "codemirror_mode": {
    "name": "ipython",
    "version": 3
   },
   "file_extension": ".py",
   "mimetype": "text/x-python",
   "name": "python",
   "nbconvert_exporter": "python",
   "pygments_lexer": "ipython3",
   "version": "3.12.4"
  }
 },
 "nbformat": 4,
 "nbformat_minor": 5
}
