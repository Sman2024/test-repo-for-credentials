{
 "cells": [
  {
   "cell_type": "code",
   "execution_count": null,
   "id": "3fce9839-3bcb-4a9b-8a98-04e2c04f0884",
   "metadata": {},
   "outputs": [],
   "source": [
    "def factorial(x):\n",
    "    if x == 0:\n",
    "        return 1\n",
    "    else:\n",
    "        return x * factorial(x-1)\n",
    "\n",
    "factorial(6)"
   ]
  },
  {
   "cell_type": "code",
   "execution_count": null,
   "id": "eab55c84-d54c-430c-9e79-1b2c2ba885a4",
   "metadata": {},
   "outputs": [],
   "source": [
    "factorial(9)"
   ]
  },
  {
   "cell_type": "code",
   "execution_count": null,
   "id": "fe545650-744b-435f-8026-1ee2670a7c31",
   "metadata": {},
   "outputs": [],
   "source": [
    "def factorial(y):\n",
    "    if y == 0:\n",
    "        return 3\n",
    "    else:\n",
    "        return y * factorial(y - 1)\n",
    "    "
   ]
  },
  {
   "cell_type": "code",
   "execution_count": null,
   "id": "6f4e0e91-e042-4e22-b788-345788a4bf6c",
   "metadata": {},
   "outputs": [],
   "source": [
    "factorial(5)"
   ]
  },
  {
   "cell_type": "code",
   "execution_count": null,
   "id": "414e7e63-cbee-4a8d-957c-345df93db737",
   "metadata": {},
   "outputs": [],
   "source": [
    "# Default arg\n",
    "\n",
    "def welcome(name='Paul'):\n",
    "    print('Hello', name)\n",
    "\n",
    "welcome('Ron')"
   ]
  },
  {
   "cell_type": "code",
   "execution_count": null,
   "id": "a6943449-f645-42c0-baa3-ba1b57d43c81",
   "metadata": {},
   "outputs": [],
   "source": [
    "welcome('Paul')"
   ]
  },
  {
   "cell_type": "code",
   "execution_count": null,
   "id": "fa57d653-b16a-4b7c-b314-32ecfc7f810c",
   "metadata": {},
   "outputs": [],
   "source": [
    "welcome('James')"
   ]
  },
  {
   "cell_type": "code",
   "execution_count": null,
   "id": "c9a618d3-b8c8-4e80-8342-cd11baa0a64a",
   "metadata": {},
   "outputs": [],
   "source": [
    "# Scope\n",
    "# Scope - local\n",
    "def func3():\n",
    "    z = 7\n",
    "    print(z)"
   ]
  },
  {
   "cell_type": "code",
   "execution_count": null,
   "id": "521925ea-52dc-4304-b469-9f0b1479a294",
   "metadata": {},
   "outputs": [],
   "source": [
    "func3()"
   ]
  },
  {
   "cell_type": "code",
   "execution_count": null,
   "id": "cc873cdd-90ff-4d92-9a31-63132624da0f",
   "metadata": {},
   "outputs": [],
   "source": [
    "z"
   ]
  },
  {
   "cell_type": "code",
   "execution_count": null,
   "id": "5c9b6cd9-dba3-4ab8-931c-af232668c82d",
   "metadata": {},
   "outputs": [],
   "source": [
    "z = 7\n",
    "def func3():\n",
    "    print(z)"
   ]
  },
  {
   "cell_type": "code",
   "execution_count": null,
   "id": "1163b99b-8285-4431-890c-85d8e771dc29",
   "metadata": {},
   "outputs": [],
   "source": [
    "func3()"
   ]
  },
  {
   "cell_type": "code",
   "execution_count": null,
   "id": "62355ddb-f976-4617-b218-321467bd3c2f",
   "metadata": {},
   "outputs": [],
   "source": [
    "z"
   ]
  },
  {
   "cell_type": "code",
   "execution_count": null,
   "id": "f9659673-bc06-48f5-8034-cb262af74be4",
   "metadata": {},
   "outputs": [],
   "source": [
    "s = 20\n",
    "def Num():\n",
    "    return s\n",
    "\n",
    "Num()"
   ]
  },
  {
   "cell_type": "code",
   "execution_count": null,
   "id": "4e2d4ac4-592b-42d1-b41e-e03510d7cfba",
   "metadata": {},
   "outputs": [],
   "source": [
    "s"
   ]
  },
  {
   "cell_type": "code",
   "execution_count": null,
   "id": "07c896c8-b92d-4ca5-a965-4d1c48fc195b",
   "metadata": {},
   "outputs": [],
   "source": [
    "s = int(input('Enter the number'))\n",
    "def Num():\n",
    "    return s\n",
    "\n",
    "Num()"
   ]
  },
  {
   "cell_type": "code",
   "execution_count": null,
   "id": "b3c7a35a-51a4-46c9-b5b4-97c63a1082f9",
   "metadata": {},
   "outputs": [],
   "source": [
    "z = 7\n",
    "def func5():\n",
    "    z = z+1\n",
    "    print(z)"
   ]
  },
  {
   "cell_type": "code",
   "execution_count": null,
   "id": "ae818198-7829-44a0-bf52-8333e87b51fb",
   "metadata": {},
   "outputs": [],
   "source": [
    "func5()"
   ]
  },
  {
   "cell_type": "code",
   "execution_count": null,
   "id": "489799b0-1c70-481a-b032-fac352b244ea",
   "metadata": {},
   "outputs": [],
   "source": [
    "z = 7\n",
    "def func6():\n",
    "    global z\n",
    "    z = z+1\n",
    "    print(z)"
   ]
  },
  {
   "cell_type": "code",
   "execution_count": null,
   "id": "0052ca0c-15db-4e1f-8d17-47f2598dd60b",
   "metadata": {},
   "outputs": [],
   "source": [
    "func6()"
   ]
  },
  {
   "cell_type": "code",
   "execution_count": null,
   "id": "6535c298-4453-4200-b15f-32a44bbb4698",
   "metadata": {},
   "outputs": [],
   "source": [
    "z"
   ]
  },
  {
   "cell_type": "code",
   "execution_count": null,
   "id": "0837d4e5-2822-4e96-bd0f-e17ca6a4cca4",
   "metadata": {},
   "outputs": [],
   "source": [
    "# Area of Circle\n",
    "\n",
    "pi = 3.14\n",
    "def circleArea(radius):\n",
    "    return pi*radius*radius\n",
    "\n",
    "circleArea(20)"
   ]
  },
  {
   "cell_type": "code",
   "execution_count": null,
   "id": "ad656dd3-6bbe-4df2-84c3-b079fe43e423",
   "metadata": {},
   "outputs": [],
   "source": [
    "circleArea(5)"
   ]
  },
  {
   "cell_type": "code",
   "execution_count": null,
   "id": "72879582-afbc-4eb1-8270-400ed433268f",
   "metadata": {},
   "outputs": [],
   "source": [
    "# Area of Sphere\n",
    "\n",
    "def sphereArea(radius):\n",
    "    return 4*pi*radius**2\n",
    "\n",
    "sphereArea(4)"
   ]
  },
  {
   "cell_type": "code",
   "execution_count": null,
   "id": "5e32fe4e-64df-4185-81ab-72ac141bb367",
   "metadata": {},
   "outputs": [],
   "source": [
    "sphereArea(2)"
   ]
  },
  {
   "cell_type": "code",
   "execution_count": null,
   "id": "21832160-631c-4d3a-8357-8a0508af455a",
   "metadata": {},
   "outputs": [],
   "source": [
    "# Check for even number\n",
    "\n",
    "def even_check(number):\n",
    "    return number%2 == 0\n",
    "\n",
    "even_check(121)"
   ]
  },
  {
   "cell_type": "code",
   "execution_count": null,
   "id": "661f538d-ef7b-4cfb-b3ac-cbfec1476b42",
   "metadata": {},
   "outputs": [],
   "source": [
    "even_check(12)"
   ]
  },
  {
   "cell_type": "code",
   "execution_count": null,
   "id": "6d5c036e-2593-40b2-a58a-4a3771f0b4ab",
   "metadata": {},
   "outputs": [],
   "source": [
    "def check_even_list(num_list):\n",
    "    for number in num_list:\n",
    "        if number % 2 == 0:\n",
    "            return True\n",
    "        else:\n",
    "            pass  # if no. not even than continue checking the next no.\n",
    "        return False"
   ]
  },
  {
   "cell_type": "code",
   "execution_count": null,
   "id": "f4b11751-beef-4759-9556-22cb8c1adf99",
   "metadata": {},
   "outputs": [],
   "source": [
    "check_even_list([1,3,5])"
   ]
  },
  {
   "cell_type": "code",
   "execution_count": null,
   "id": "1287c7dd-e8d3-4f4e-a96c-b7fae3fcbb3c",
   "metadata": {},
   "outputs": [],
   "source": [
    "check_even_list([2,4,5])"
   ]
  },
  {
   "cell_type": "code",
   "execution_count": null,
   "id": "c4601dea-c371-45ca-994f-5de8d633d20d",
   "metadata": {},
   "outputs": [],
   "source": [
    "check_even_list([2,1,3])"
   ]
  },
  {
   "cell_type": "code",
   "execution_count": null,
   "id": "fb4ee7cf-645c-4f9d-a4e6-eedcec1a77c4",
   "metadata": {},
   "outputs": [],
   "source": []
  },
  {
   "cell_type": "code",
   "execution_count": null,
   "id": "57d96405-63c7-43eb-8a36-4a828d6b62ee",
   "metadata": {},
   "outputs": [],
   "source": [
    "def even_list(num_list):\n",
    "    for number in num_list:\n",
    "        if number % 2 == 0:\n",
    "            return True\n",
    "        else:\n",
    "            pass # if no. not even than continue checking the next no.\n",
    "        return False\n",
    "\n",
    "even_list([1,2,3])"
   ]
  },
  {
   "cell_type": "code",
   "execution_count": null,
   "id": "d1b5412f-badc-4a6b-98d9-8919fda5df8d",
   "metadata": {},
   "outputs": [],
   "source": [
    "even_list([2,4,5])"
   ]
  },
  {
   "cell_type": "code",
   "execution_count": 10,
   "id": "b6f37245-06d3-4775-9ca9-2cda133c5b85",
   "metadata": {},
   "outputs": [],
   "source": [
    "def check_even_list(num_list):\n",
    "    even_numbers = []\n",
    "    for number in num_list:\n",
    "        if number % 2 == 0:\n",
    "            even_numbers.append(number)\n",
    "        else:\n",
    "            pass\n",
    "    return even_numbers"
   ]
  },
  {
   "cell_type": "code",
   "execution_count": 11,
   "id": "868639d7-5b34-4c37-aee3-65dd48e9ae5b",
   "metadata": {},
   "outputs": [
    {
     "data": {
      "text/plain": [
       "[34, 76, 24]"
      ]
     },
     "execution_count": 11,
     "metadata": {},
     "output_type": "execute_result"
    }
   ],
   "source": [
    "check_even_list([11,34,76,15,24])"
   ]
  },
  {
   "cell_type": "code",
   "execution_count": 12,
   "id": "92fd694c-6c8c-4430-a715-131d31db1357",
   "metadata": {},
   "outputs": [
    {
     "data": {
      "text/plain": [
       "[6, 34]"
      ]
     },
     "execution_count": 12,
     "metadata": {},
     "output_type": "execute_result"
    }
   ],
   "source": [
    "check_even_list([11, 6,34,7,15,33])"
   ]
  },
  {
   "cell_type": "code",
   "execution_count": 13,
   "id": "85977b67-353b-47b0-bcd0-a26d82b6a5a2",
   "metadata": {},
   "outputs": [],
   "source": [
    "def check_even_list(num_list):\n",
    "    even_numbers = []\n",
    "    for number in num_list:\n",
    "        if number % 2 != 0:\n",
    "            even_numbers.append(number)\n",
    "        else:\n",
    "            pass\n",
    "    return even_numbers"
   ]
  },
  {
   "cell_type": "code",
   "execution_count": 14,
   "id": "9877dd3d-9a2e-4026-8fee-4e4f45bea957",
   "metadata": {},
   "outputs": [
    {
     "data": {
      "text/plain": [
       "[11, 15]"
      ]
     },
     "execution_count": 14,
     "metadata": {},
     "output_type": "execute_result"
    }
   ],
   "source": [
    "check_even_list([11,34,76,15,24])"
   ]
  },
  {
   "cell_type": "code",
   "execution_count": 15,
   "id": "d9dfa269-ea60-4a9c-a185-4a11a069ec7f",
   "metadata": {},
   "outputs": [
    {
     "data": {
      "text/plain": [
       "[11, 7, 15, 33]"
      ]
     },
     "execution_count": 15,
     "metadata": {},
     "output_type": "execute_result"
    }
   ],
   "source": [
    "check_even_list([11, 6,34,7,15,33])"
   ]
  },
  {
   "cell_type": "code",
   "execution_count": null,
   "id": "75f6d44d-7b99-43d9-ba1b-d29ac9d2980d",
   "metadata": {},
   "outputs": [],
   "source": []
  },
  {
   "cell_type": "code",
   "execution_count": null,
   "id": "bc442919-7b4e-4c69-9538-951ef1dfe13f",
   "metadata": {},
   "outputs": [],
   "source": []
  },
  {
   "cell_type": "code",
   "execution_count": null,
   "id": "f399a818-79de-4a35-97d5-a5a5354c6a19",
   "metadata": {},
   "outputs": [],
   "source": []
  },
  {
   "cell_type": "code",
   "execution_count": null,
   "id": "aa0f0437-0b70-40bf-b266-b0d3f9e4b195",
   "metadata": {},
   "outputs": [],
   "source": []
  },
  {
   "cell_type": "code",
   "execution_count": null,
   "id": "1938482b-bc45-4950-90fa-3bfaffcf9a21",
   "metadata": {},
   "outputs": [],
   "source": []
  },
  {
   "cell_type": "code",
   "execution_count": null,
   "id": "6464626b-025d-4043-a6da-6ae4f8e74d63",
   "metadata": {},
   "outputs": [],
   "source": []
  },
  {
   "cell_type": "code",
   "execution_count": null,
   "id": "75c885de-c318-4921-a3bd-fd1b4d4a28d1",
   "metadata": {},
   "outputs": [],
   "source": []
  },
  {
   "cell_type": "code",
   "execution_count": null,
   "id": "555dcbdc-2e04-4f75-a1dc-b21316574e09",
   "metadata": {},
   "outputs": [],
   "source": []
  },
  {
   "cell_type": "code",
   "execution_count": null,
   "id": "3851b8bd-052c-4ea2-90cd-ae0c0511fbe5",
   "metadata": {},
   "outputs": [],
   "source": []
  },
  {
   "cell_type": "code",
   "execution_count": null,
   "id": "805cba94-937a-48d2-b581-cb8d5c448e8a",
   "metadata": {},
   "outputs": [],
   "source": []
  },
  {
   "cell_type": "code",
   "execution_count": null,
   "id": "a366b6df-e3ea-400f-a117-16989e563b6a",
   "metadata": {},
   "outputs": [],
   "source": []
  },
  {
   "cell_type": "code",
   "execution_count": null,
   "id": "b7913834-11e8-4d09-824f-1904dd1fb7ea",
   "metadata": {},
   "outputs": [],
   "source": []
  },
  {
   "cell_type": "code",
   "execution_count": null,
   "id": "633938c3-d5d5-43d9-abc0-4c7792342890",
   "metadata": {},
   "outputs": [],
   "source": []
  },
  {
   "cell_type": "code",
   "execution_count": null,
   "id": "54d4a918-10cd-41c7-9852-a909f861d209",
   "metadata": {},
   "outputs": [],
   "source": []
  }
 ],
 "metadata": {
  "kernelspec": {
   "display_name": "Python 3 (ipykernel)",
   "language": "python",
   "name": "python3"
  },
  "language_info": {
   "codemirror_mode": {
    "name": "ipython",
    "version": 3
   },
   "file_extension": ".py",
   "mimetype": "text/x-python",
   "name": "python",
   "nbconvert_exporter": "python",
   "pygments_lexer": "ipython3",
   "version": "3.12.4"
  }
 },
 "nbformat": 4,
 "nbformat_minor": 5
}
