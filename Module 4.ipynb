{
 "cells": [
  {
   "cell_type": "markdown",
   "id": "503ee673-72f8-47f0-b2f7-09a3c3a92c5f",
   "metadata": {},
   "source": [
    "# Function"
   ]
  },
  {
   "cell_type": "code",
   "execution_count": 1,
   "id": "027b8ea2-dbc5-4004-a096-36e33f888663",
   "metadata": {},
   "outputs": [
    {
     "name": "stdout",
     "output_type": "stream",
     "text": [
      "We start her.\n",
      "We end here\n"
     ]
    }
   ],
   "source": [
    "def message():\n",
    "    print(\"Enter a value: \")\n",
    "\n",
    "print(\"We start her.\")\n",
    "print(\"We end here\")"
   ]
  },
  {
   "cell_type": "markdown",
   "id": "56fe25e7-ac5d-4d37-8d63-f04b54f45127",
   "metadata": {},
   "source": [
    "#####  This means that Python reads the function's definitions and remembers them, but won't lsunch any of them without your permision."
   ]
  },
  {
   "cell_type": "markdown",
   "id": "cc7d9f6a-5c31-4679-ba2d-63b9e07712c7",
   "metadata": {},
   "source": [
    "##### lets modify the code now...by inserted the function's invocation btw the start and end message:"
   ]
  },
  {
   "cell_type": "code",
   "execution_count": 2,
   "id": "a323e1b9-9137-4516-a9f8-061f513c8da7",
   "metadata": {},
   "outputs": [
    {
     "name": "stdout",
     "output_type": "stream",
     "text": [
      "We start her.\n",
      "Enter a value: \n",
      "We end here\n"
     ]
    }
   ],
   "source": [
    "def message():\n",
    "    print(\"Enter a value: \")\n",
    "\n",
    "print(\"We start her.\")\n",
    "message()\n",
    "print(\"We end here\")"
   ]
  },
  {
   "cell_type": "code",
   "execution_count": 3,
   "id": "a6a28970-b9a0-43b5-af71-ce4851b1e61a",
   "metadata": {},
   "outputs": [
    {
     "name": "stdout",
     "output_type": "stream",
     "text": [
      "Enter a value: \n"
     ]
    },
    {
     "name": "stdin",
     "output_type": "stream",
     "text": [
      " 5\n"
     ]
    },
    {
     "name": "stdout",
     "output_type": "stream",
     "text": [
      "Enter a value: \n"
     ]
    },
    {
     "name": "stdin",
     "output_type": "stream",
     "text": [
      " 8\n"
     ]
    },
    {
     "name": "stdout",
     "output_type": "stream",
     "text": [
      "Enter a value: \n"
     ]
    },
    {
     "name": "stdin",
     "output_type": "stream",
     "text": [
      " 7\n"
     ]
    }
   ],
   "source": [
    "def message():\n",
    "    print(\"Enter a value: \")\n",
    "\n",
    "message()\n",
    "a = int(input())\n",
    "message()\n",
    "b = int(input())\n",
    "message()\n",
    "c = int(input())"
   ]
  },
  {
   "cell_type": "code",
   "execution_count": 4,
   "id": "2b41404c-3e05-46f4-ba21-6258a9704f74",
   "metadata": {},
   "outputs": [
    {
     "ename": "TypeError",
     "evalue": "message() missing 1 required positional argument: 'number'",
     "output_type": "error",
     "traceback": [
      "\u001b[1;31m---------------------------------------------------------------------------\u001b[0m",
      "\u001b[1;31mTypeError\u001b[0m                                 Traceback (most recent call last)",
      "Cell \u001b[1;32mIn[4], line 4\u001b[0m\n\u001b[0;32m      1\u001b[0m \u001b[38;5;28;01mdef\u001b[39;00m \u001b[38;5;21mmessage\u001b[39m(number):\n\u001b[0;32m      2\u001b[0m     \u001b[38;5;28mprint\u001b[39m(\u001b[38;5;124m\"\u001b[39m\u001b[38;5;124mEnter a number: \u001b[39m\u001b[38;5;124m\"\u001b[39m, number)\n\u001b[1;32m----> 4\u001b[0m message()\n",
      "\u001b[1;31mTypeError\u001b[0m: message() missing 1 required positional argument: 'number'"
     ]
    }
   ],
   "source": [
    "def message(number):\n",
    "    print(\"Enter a number: \", number)\n",
    "\n",
    "message()"
   ]
  },
  {
   "cell_type": "code",
   "execution_count": 5,
   "id": "abdc45c7-5878-417c-8630-4effd2488eca",
   "metadata": {},
   "outputs": [
    {
     "name": "stdout",
     "output_type": "stream",
     "text": [
      "Enter a number:  2\n"
     ]
    }
   ],
   "source": [
    "def message(number):\n",
    "    print(\"Enter a number: \", number)\n",
    "\n",
    "message(2)"
   ]
  },
  {
   "cell_type": "code",
   "execution_count": 6,
   "id": "24b1c29c-f92b-4e36-8a3d-df387d8c6cbe",
   "metadata": {},
   "outputs": [
    {
     "name": "stdout",
     "output_type": "stream",
     "text": [
      "Enter a number:  1\n",
      "1234\n"
     ]
    }
   ],
   "source": [
    "def message(number):\n",
    "    print(\"Enter a number: \", number)\n",
    "\n",
    "number = 1234\n",
    "message(1)\n",
    "print(number)"
   ]
  },
  {
   "cell_type": "code",
   "execution_count": null,
   "id": "021c7376-8d4a-4811-98ea-f5931be76d7f",
   "metadata": {},
   "outputs": [],
   "source": []
  },
  {
   "cell_type": "markdown",
   "id": "c9d6dcee-6921-4af5-ba75-5386323bd457",
   "metadata": {},
   "source": [
    "#### A function can have as many parameter as u want, but the more parameter you have the harder it is to memorize their roles and purposes"
   ]
  },
  {
   "cell_type": "markdown",
   "id": "e2ec02fa-e2fe-4de5-a89f-85ade64155e9",
   "metadata": {},
   "source": [
    "##### lets modify the function- it has two parameters "
   ]
  },
  {
   "cell_type": "code",
   "execution_count": 7,
   "id": "05a7bf70-daa1-46bc-bb08-d74c5b034d4c",
   "metadata": {},
   "outputs": [],
   "source": [
    "def message(what, number):\n",
    "    print(\"Enter: \", what, \"number: \", number)"
   ]
  },
  {
   "cell_type": "markdown",
   "id": "b5f7efd1-4201-4888-835a-003767d4572f",
   "metadata": {},
   "source": [
    "##### This means that invoking the function will require two arguments."
   ]
  },
  {
   "cell_type": "code",
   "execution_count": 8,
   "id": "2ff63b15-c53a-4906-bd6b-924cdbce07a2",
   "metadata": {},
   "outputs": [
    {
     "name": "stdout",
     "output_type": "stream",
     "text": [
      "Enter:  telephone number:  11\n",
      "Enter:  prices number:  5\n",
      "Enter:  number number:  number\n"
     ]
    }
   ],
   "source": [
    "message(\"telephone\", 11)\n",
    "message(\"prices\", 5)\n",
    "message(\"number\", \"number\")"
   ]
  },
  {
   "cell_type": "code",
   "execution_count": 9,
   "id": "26da1045-8b45-41fa-8779-b59a518993dd",
   "metadata": {},
   "outputs": [],
   "source": [
    "def message(what, number):\n",
    "    print(\"\\nEnter: \", what, \"\\nnumber: \", number)"
   ]
  },
  {
   "cell_type": "code",
   "execution_count": 10,
   "id": "b810fa7f-8b76-4697-a68f-536d6a17cc72",
   "metadata": {},
   "outputs": [
    {
     "name": "stdout",
     "output_type": "stream",
     "text": [
      "\n",
      "Enter:  telephone \n",
      "number:  17\n",
      "\n",
      "Enter:  prices \n",
      "number:  155,000\n",
      "\n",
      "Enter:  number \n",
      "number:  number\n"
     ]
    }
   ],
   "source": [
    "message(\"telephone\", 17)\n",
    "message(\"prices\", '155,000')\n",
    "message(\"number\", \"number\")"
   ]
  },
  {
   "cell_type": "markdown",
   "id": "2435ae00-7a17-488a-8334-0b72ac209a7d",
   "metadata": {},
   "source": [
    "#### Positional Parameter passing"
   ]
  },
  {
   "cell_type": "code",
   "execution_count": 11,
   "id": "510afa34-7426-4749-89b7-47edf3d022a7",
   "metadata": {},
   "outputs": [
    {
     "name": "stdout",
     "output_type": "stream",
     "text": [
      "1 2 3\n"
     ]
    }
   ],
   "source": [
    "def my_function(a, b, c):\n",
    "    print(a, b, c)\n",
    "\n",
    "my_function(1, 2, 3)"
   ]
  },
  {
   "cell_type": "code",
   "execution_count": 12,
   "id": "a8f9f097-82d9-416f-aa31-f9db8276e1fe",
   "metadata": {},
   "outputs": [],
   "source": [
    "def introduction(first_name, last_name):\n",
    "    print(\"Hello, my name is\", first_name, last_name)"
   ]
  },
  {
   "cell_type": "code",
   "execution_count": 13,
   "id": "e4f03fa6-bf83-4f18-90a6-2a3d7bbc8363",
   "metadata": {},
   "outputs": [
    {
     "name": "stdout",
     "output_type": "stream",
     "text": [
      "Hello, my name is Raji Sulaeman\n"
     ]
    }
   ],
   "source": [
    "introduction(\"Raji\", \"Sulaeman\")"
   ]
  },
  {
   "cell_type": "code",
   "execution_count": 14,
   "id": "bd5b6d35-1581-4a2e-a341-1d18e9b64f88",
   "metadata": {},
   "outputs": [
    {
     "name": "stdout",
     "output_type": "stream",
     "text": [
      "Hello, my name is Raji dami\n",
      "Hello, my name is Fajinmolu Mateen\n",
      "Hello, my name is Raji Soburi\n"
     ]
    }
   ],
   "source": [
    "introduction(\"Raji\", \"dami\")\n",
    "introduction(\"Fajinmolu\", \"Mateen\")\n",
    "introduction(\"Raji\", \"Soburi\")"
   ]
  },
  {
   "cell_type": "markdown",
   "id": "ef1a089b-3cec-4681-b89f-69090b12ef1e",
   "metadata": {},
   "source": [
    "#### Keyword argument passing\n",
    "\n",
    "##### Python offers another convention for passing arguments, where the meaning of the argument is dictated by its name, not by its position - it's called keyword argument passing"
   ]
  },
  {
   "cell_type": "code",
   "execution_count": 15,
   "id": "c46f4921-e0fb-4b8f-8180-96f94a04de29",
   "metadata": {},
   "outputs": [
    {
     "name": "stdout",
     "output_type": "stream",
     "text": [
      "Hello, my name is Raji Sulaeman\n"
     ]
    }
   ],
   "source": [
    "introduction(first_name = \"Raji\", last_name = \"Sulaeman\")"
   ]
  },
  {
   "cell_type": "code",
   "execution_count": null,
   "id": "27b423cc-f5e2-4bc5-aec0-7d3ef2193ef5",
   "metadata": {},
   "outputs": [],
   "source": []
  },
  {
   "cell_type": "markdown",
   "id": "d21df716-9c89-4af3-b0ee-1569d87051de",
   "metadata": {},
   "source": [
    "#### mixing positional and keyyword argument\n",
    "\n",
    "##### You can mix both fashion if you want- there is only one unbreakable rule: you have to put positional arguments before keyword arguments"
   ]
  },
  {
   "cell_type": "code",
   "execution_count": 16,
   "id": "20d44a39-cb36-4b38-aa87-25119ae64042",
   "metadata": {},
   "outputs": [],
   "source": [
    "def adding(a, b, c):\n",
    "    print(a, \"+\", b, \"+\", c, \"=\", a + b + c)"
   ]
  },
  {
   "cell_type": "code",
   "execution_count": 17,
   "id": "9164206c-3af0-494b-8aa6-2ac3e779cfe0",
   "metadata": {},
   "outputs": [
    {
     "name": "stdout",
     "output_type": "stream",
     "text": [
      "2 + 3 + 5 = 10\n"
     ]
    }
   ],
   "source": [
    "# Positional argument passing\n",
    "adding(2,3,5)"
   ]
  },
  {
   "cell_type": "code",
   "execution_count": 18,
   "id": "f58b22db-f3b2-4ec8-9433-c2825b793402",
   "metadata": {},
   "outputs": [
    {
     "name": "stdout",
     "output_type": "stream",
     "text": [
      "2 + 3 + 1 = 6\n"
     ]
    }
   ],
   "source": [
    "# keyword argument passing\n",
    "adding(c = 1, a = 2, b = 3)"
   ]
  },
  {
   "cell_type": "code",
   "execution_count": 19,
   "id": "ad4dc1c7-0581-450b-9dec-a1cce0c42e1a",
   "metadata": {},
   "outputs": [
    {
     "name": "stdout",
     "output_type": "stream",
     "text": [
      "3 + 2 + 1 = 6\n"
     ]
    }
   ],
   "source": [
    "# mixing the both arguments\n",
    "\n",
    "adding(3, c =1, b = 2)"
   ]
  },
  {
   "cell_type": "code",
   "execution_count": 20,
   "id": "2fa6be16-5a99-4a92-a15f-93a789249aba",
   "metadata": {},
   "outputs": [
    {
     "name": "stdout",
     "output_type": "stream",
     "text": [
      "3 + 1 + 2 = 6\n"
     ]
    }
   ],
   "source": [
    "# mixing the both arguments\n",
    "\n",
    "adding(3, b =1, c = 2)"
   ]
  },
  {
   "cell_type": "markdown",
   "id": "cdc68b6d-f587-4de8-b742-73103877491d",
   "metadata": {},
   "source": [
    "#### Parameterized functions- more details"
   ]
  },
  {
   "cell_type": "code",
   "execution_count": 21,
   "id": "1ff8c5a7-8222-4994-930a-9353175b75e5",
   "metadata": {},
   "outputs": [],
   "source": [
    "def introduction(first_name, last_name=\"Smith\"):\n",
    "    print(\"Hello, my name is\", first_name, last_name)"
   ]
  },
  {
   "cell_type": "code",
   "execution_count": 22,
   "id": "cfb0e763-8ba9-48fd-b640-b03e72ba5ad6",
   "metadata": {},
   "outputs": [
    {
     "name": "stdout",
     "output_type": "stream",
     "text": [
      "Hello, my name is Raji Sulaeman\n"
     ]
    }
   ],
   "source": [
    "introduction(\"Raji\", \"Sulaeman\")"
   ]
  },
  {
   "cell_type": "code",
   "execution_count": 23,
   "id": "da1acb69-c675-4116-8de7-434562e0857b",
   "metadata": {},
   "outputs": [
    {
     "name": "stdout",
     "output_type": "stream",
     "text": [
      "Hello, my name is Raji Smith\n",
      "Hello, my name is Raji Smith\n"
     ]
    }
   ],
   "source": [
    "introduction(\"Raji\")\n",
    "\n",
    "# or\n",
    "\n",
    "introduction(first_name=\"Raji\")"
   ]
  },
  {
   "cell_type": "code",
   "execution_count": 24,
   "id": "630dc850-412d-44fe-878d-5d09dde19b17",
   "metadata": {},
   "outputs": [],
   "source": [
    "def introduction(first_name=\"Raji\", last_name=\"Smith\"):\n",
    "    print(\"Hello, my name is\", first_name, last_name)"
   ]
  },
  {
   "cell_type": "code",
   "execution_count": 25,
   "id": "989670f8-b94c-4e3e-bb43-9da8cec738ca",
   "metadata": {},
   "outputs": [
    {
     "name": "stdout",
     "output_type": "stream",
     "text": [
      "Hello, my name is Raji Smith\n"
     ]
    }
   ],
   "source": [
    "introduction()"
   ]
  },
  {
   "cell_type": "code",
   "execution_count": 26,
   "id": "b27f68ac-7590-4900-bf52-6827a416f5da",
   "metadata": {},
   "outputs": [
    {
     "name": "stdout",
     "output_type": "stream",
     "text": [
      "Hello, my name is Raji Gani\n"
     ]
    }
   ],
   "source": [
    "introduction(last_name=\"Gani\")"
   ]
  },
  {
   "cell_type": "code",
   "execution_count": 27,
   "id": "17475b2d-37ed-4641-9882-822858eafb9c",
   "metadata": {},
   "outputs": [
    {
     "name": "stdout",
     "output_type": "stream",
     "text": [
      "3\n"
     ]
    }
   ],
   "source": [
    "def subtract(a, b):\n",
    "    print(a - b)\n",
    "\n",
    "subtract(5,2)"
   ]
  },
  {
   "cell_type": "code",
   "execution_count": 28,
   "id": "df39d60a-4b07-4227-adda-03c662cb20e4",
   "metadata": {},
   "outputs": [
    {
     "name": "stdout",
     "output_type": "stream",
     "text": [
      "-3\n"
     ]
    }
   ],
   "source": [
    "subtract(2, 5)"
   ]
  },
  {
   "cell_type": "code",
   "execution_count": 29,
   "id": "08e5ccb2-e394-4f1c-a7c6-495dff0e7dae",
   "metadata": {},
   "outputs": [
    {
     "name": "stdout",
     "output_type": "stream",
     "text": [
      "3\n",
      "-3\n"
     ]
    }
   ],
   "source": [
    "def subtract(a, b):\n",
    "    print(a - b)\n",
    "\n",
    "subtract(a=5,b=2)\n",
    "subtract(a=2,b=5)"
   ]
  },
  {
   "cell_type": "code",
   "execution_count": 30,
   "id": "1d6b9bfe-4911-4b83-a5b1-2590bdadc88b",
   "metadata": {},
   "outputs": [
    {
     "name": "stdout",
     "output_type": "stream",
     "text": [
      "my name is Bond. James Bond.\n"
     ]
    }
   ],
   "source": [
    "def intro(a=\"James Bond\", b=\"Bond\"):\n",
    "    print(\"my name is\", b + \".\", a + \".\")\n",
    "\n",
    "intro()"
   ]
  },
  {
   "cell_type": "code",
   "execution_count": 31,
   "id": "4c89e1a7-8baf-4b3f-8855-61e0caa6be43",
   "metadata": {},
   "outputs": [
    {
     "name": "stdout",
     "output_type": "stream",
     "text": [
      "my name is Sean Connery. James Bond.\n"
     ]
    }
   ],
   "source": [
    "intro(b=\"Sean Connery\")"
   ]
  },
  {
   "cell_type": "code",
   "execution_count": 34,
   "id": "0662c2e7-7ee5-4d06-bc3b-fa4d755072b4",
   "metadata": {},
   "outputs": [
    {
     "ename": "SyntaxError",
     "evalue": "parameter without a default follows parameter with a default (1026455320.py, line 1)",
     "output_type": "error",
     "traceback": [
      "\u001b[1;36m  Cell \u001b[1;32mIn[34], line 1\u001b[1;36m\u001b[0m\n\u001b[1;33m    def add_numbers(a,b=2,c):\u001b[0m\n\u001b[1;37m                          ^\u001b[0m\n\u001b[1;31mSyntaxError\u001b[0m\u001b[1;31m:\u001b[0m parameter without a default follows parameter with a default\n"
     ]
    }
   ],
   "source": [
    "def add_numbers(a,b=2,c):\n",
    "    print(a+b+c)\n",
    "\n",
    "add_numbers(3,1)"
   ]
  },
  {
   "cell_type": "code",
   "execution_count": null,
   "id": "8bfb70e1-abb9-4f67-bcaf-d5a1a28942b2",
   "metadata": {},
   "outputs": [],
   "source": []
  },
  {
   "cell_type": "markdown",
   "id": "54b59e43-e6c9-41cc-894f-9bae95585a4c",
   "metadata": {},
   "source": [
    "### Effects and results: the **return** instruction"
   ]
  },
  {
   "cell_type": "code",
   "execution_count": 35,
   "id": "3df2afe2-3708-4dc3-811f-0920dd8c0083",
   "metadata": {},
   "outputs": [],
   "source": [
    "def happy_new_year(wishes = True):\n",
    "    print(\"Three....\")\n",
    "    print(\"Two...\")\n",
    "    print(\"One...\")\n",
    "    if not wishes:\n",
    "        return\n",
    "\n",
    "    print(\"Happy new year!\")"
   ]
  },
  {
   "cell_type": "code",
   "execution_count": 36,
   "id": "f3dcf341-bd33-47ed-be1c-8c1b853a5fc2",
   "metadata": {},
   "outputs": [
    {
     "name": "stdout",
     "output_type": "stream",
     "text": [
      "Three....\n",
      "Two...\n",
      "One...\n",
      "Happy new year!\n"
     ]
    }
   ],
   "source": [
    "happy_new_year()"
   ]
  },
  {
   "cell_type": "code",
   "execution_count": 37,
   "id": "3f5215e4-dd9a-4edc-b382-f56080308ec3",
   "metadata": {},
   "outputs": [
    {
     "name": "stdout",
     "output_type": "stream",
     "text": [
      "Three....\n",
      "Two...\n",
      "One...\n"
     ]
    }
   ],
   "source": [
    "happy_new_year(False)"
   ]
  },
  {
   "cell_type": "code",
   "execution_count": 38,
   "id": "f85da05d-2aca-4ff8-b18e-10c328aa1038",
   "metadata": {},
   "outputs": [
    {
     "name": "stdout",
     "output_type": "stream",
     "text": [
      "The boring_function has returned its result. It's: 123\n"
     ]
    }
   ],
   "source": [
    "def boring_function():\n",
    "    return 123\n",
    "\n",
    "x = boring_function()\n",
    "print(\"The boring_function has returned its result. It's:\", x)"
   ]
  },
  {
   "cell_type": "code",
   "execution_count": 39,
   "id": "74064b02-7631-45f0-b7db-dfc1608180f0",
   "metadata": {},
   "outputs": [
    {
     "name": "stdout",
     "output_type": "stream",
     "text": [
      "This lesson is interesting!\n",
      " 'Boredom Mode' ON.\n",
      "This lesson is boring....\n"
     ]
    }
   ],
   "source": [
    "def boring_function():\n",
    "    print(\" 'Boredom Mode' ON.\")\n",
    "    return 123\n",
    "\n",
    "print(\"This lesson is interesting!\")\n",
    "boring_function()\n",
    "print(\"This lesson is boring....\")"
   ]
  },
  {
   "cell_type": "markdown",
   "id": "e8dd4acf-048d-43d9-86f5-57c6f046c140",
   "metadata": {},
   "source": [
    "#### A few words about **None**"
   ]
  },
  {
   "cell_type": "code",
   "execution_count": 40,
   "id": "28cecb16-7831-4572-9014-0f8dc53db219",
   "metadata": {},
   "outputs": [
    {
     "name": "stdout",
     "output_type": "stream",
     "text": [
      "Sorry, you don't carry any value\n"
     ]
    }
   ],
   "source": [
    "value = None\n",
    "if value is None:\n",
    "    print(\"Sorry, you don't carry any value\")"
   ]
  },
  {
   "cell_type": "code",
   "execution_count": 41,
   "id": "3dd2f80e-a01a-4c3f-b3f4-46476dfab385",
   "metadata": {},
   "outputs": [],
   "source": [
    "def strange_function(n):\n",
    "    if(n % 2 == 0):\n",
    "        return True"
   ]
  },
  {
   "cell_type": "code",
   "execution_count": 42,
   "id": "c95246f1-b27a-4ad4-b4dd-6412bfcbaf96",
   "metadata": {},
   "outputs": [
    {
     "name": "stdout",
     "output_type": "stream",
     "text": [
      "True\n"
     ]
    }
   ],
   "source": [
    "print(strange_function(2))"
   ]
  },
  {
   "cell_type": "code",
   "execution_count": 43,
   "id": "e96a0e5f-a68c-43ae-b9d4-0f7e11e1b061",
   "metadata": {},
   "outputs": [
    {
     "name": "stdout",
     "output_type": "stream",
     "text": [
      "None\n"
     ]
    }
   ],
   "source": [
    "print(strange_function(1))"
   ]
  },
  {
   "cell_type": "markdown",
   "id": "8e1229e8-061f-4f81-973f-dbfdab2fbb37",
   "metadata": {},
   "source": [
    "### Effect and results: Lists and functions"
   ]
  },
  {
   "cell_type": "code",
   "execution_count": 44,
   "id": "13522509-7d9d-426d-9424-698266a5a625",
   "metadata": {},
   "outputs": [
    {
     "name": "stdout",
     "output_type": "stream",
     "text": [
      "12\n"
     ]
    }
   ],
   "source": [
    "def list_sum(lst):\n",
    "    s = 0\n",
    "    \n",
    "    for elem in lst:\n",
    "        s += elem\n",
    "    \n",
    "    return s\n",
    "\n",
    "print(list_sum([5, 4, 3]))"
   ]
  },
  {
   "cell_type": "code",
   "execution_count": 45,
   "id": "e52e244b-dbc7-43ad-ad73-b0e1a0eb3ba2",
   "metadata": {},
   "outputs": [
    {
     "name": "stdout",
     "output_type": "stream",
     "text": [
      "12\n"
     ]
    }
   ],
   "source": [
    "def list_sum(lst):\n",
    "    s = 0\n",
    "    for elem in lst:\n",
    "        s += elem\n",
    "    return s\n",
    "\n",
    "print(list_sum([5, 4, 3]))"
   ]
  },
  {
   "cell_type": "code",
   "execution_count": 46,
   "id": "c37619c7-59c9-44d0-89a9-cbcd34581a17",
   "metadata": {},
   "outputs": [
    {
     "data": {
      "text/plain": [
       "12"
      ]
     },
     "execution_count": 46,
     "metadata": {},
     "output_type": "execute_result"
    }
   ],
   "source": [
    "list_sum([5,4,3])"
   ]
  },
  {
   "cell_type": "code",
   "execution_count": 51,
   "id": "94e3c0d3-49a3-45ee-b6a0-4da2a7b73665",
   "metadata": {},
   "outputs": [],
   "source": [
    "def strange_list_fun(n):\n",
    "    strange_list = []\n",
    "    for i in range(n):\n",
    "        strange_list.insert(0, i)\n",
    "\n",
    "    return strange_list"
   ]
  },
  {
   "cell_type": "code",
   "execution_count": 52,
   "id": "4c279b91-8336-4b30-8e40-b1fe2f003394",
   "metadata": {},
   "outputs": [
    {
     "data": {
      "text/plain": [
       "[4, 3, 2, 1, 0]"
      ]
     },
     "execution_count": 52,
     "metadata": {},
     "output_type": "execute_result"
    }
   ],
   "source": [
    "strange_list_fun(5)"
   ]
  },
  {
   "cell_type": "code",
   "execution_count": 53,
   "id": "5846cdbc-08c7-48bc-9328-76a7759f0f29",
   "metadata": {},
   "outputs": [],
   "source": [
    "def is_year_leap(year):\n",
    "    if (year % 4 != 0 ):\n",
    "        return False\n",
    "    elif year % 100 != 0:\n",
    "        return True\n",
    "    elif year % 400 != 0:\n",
    "        return False\n",
    "    else:\n",
    "        return True"
   ]
  },
  {
   "cell_type": "code",
   "execution_count": 54,
   "id": "f7804d23-ac12-4ad6-ab79-4a3720d76310",
   "metadata": {},
   "outputs": [
    {
     "data": {
      "text/plain": [
       "False"
      ]
     },
     "execution_count": 54,
     "metadata": {},
     "output_type": "execute_result"
    }
   ],
   "source": [
    "is_year_leap(1900)"
   ]
  },
  {
   "cell_type": "code",
   "execution_count": 55,
   "id": "223992d8-caa0-45c2-80b5-a5ff2fbab3ad",
   "metadata": {},
   "outputs": [
    {
     "data": {
      "text/plain": [
       "True"
      ]
     },
     "execution_count": 55,
     "metadata": {},
     "output_type": "execute_result"
    }
   ],
   "source": [
    "is_year_leap(2000)"
   ]
  },
  {
   "cell_type": "code",
   "execution_count": 56,
   "id": "b887b8f2-26c0-4051-8801-a6be956ac413",
   "metadata": {},
   "outputs": [
    {
     "data": {
      "text/plain": [
       "True"
      ]
     },
     "execution_count": 56,
     "metadata": {},
     "output_type": "execute_result"
    }
   ],
   "source": [
    "is_year_leap(2016)"
   ]
  },
  {
   "cell_type": "code",
   "execution_count": 57,
   "id": "e734cf67-dab9-48cf-a584-f29e2531af6e",
   "metadata": {},
   "outputs": [
    {
     "data": {
      "text/plain": [
       "False"
      ]
     },
     "execution_count": 57,
     "metadata": {},
     "output_type": "execute_result"
    }
   ],
   "source": [
    "is_year_leap(1987)"
   ]
  },
  {
   "cell_type": "code",
   "execution_count": 58,
   "id": "dc1c8fd2-d1d4-4ce9-856d-93a63021bfb8",
   "metadata": {},
   "outputs": [
    {
     "name": "stdout",
     "output_type": "stream",
     "text": [
      "1900 -> OK\n",
      "2000 -> OK\n",
      "2016 -> OK\n",
      "1987 -> OK\n"
     ]
    }
   ],
   "source": [
    "test_data = [1900, 2000, 2016, 1987]\n",
    "test_results = [False,True,True,False]\n",
    "for i in range(len(test_data)):\n",
    "    yr = test_data[i]\n",
    "    print(yr,\"-> \",end=\"\" )\n",
    "    result = is_year_leap(yr)\n",
    "    if result == test_results[i]:\n",
    "        print(\"OK\")\n",
    "    else:\n",
    "        print(\"Failed\")"
   ]
  },
  {
   "cell_type": "code",
   "execution_count": 60,
   "id": "edc7913b-8f02-4e5e-9041-c52b26e062fe",
   "metadata": {},
   "outputs": [
    {
     "name": "stdout",
     "output_type": "stream",
     "text": [
      "366\n"
     ]
    }
   ],
   "source": [
    "def is_year_leap(year):\n",
    "    if (year % 4 != 0 ):\n",
    "        return False\n",
    "    elif year % 100 != 0:\n",
    "        return True\n",
    "    elif year % 400 != 0:\n",
    "        return False\n",
    "    else:\n",
    "        return True\n",
    "\n",
    "def days_in_month(year, month):\n",
    "    if year < 1582 or month < 1 or month > 12:\n",
    "        return None\n",
    "    days = [31, 28, 31, 30, 31, 30, 31, 31, 30, 31, 30, 31]\n",
    "    res = days[month - 1]\n",
    "    if month == 2 and is_year_leap(year):\n",
    "        res = 29\n",
    "    return res\n",
    "\n",
    "def day_of_year(year, month, day):\n",
    "    days = 0\n",
    "    for m in range(1, month):\n",
    "        md = days_in_month(year, m)\n",
    "        if md == None:\n",
    "            return None\n",
    "        days += md\n",
    "    md = days_in_month(year, month)\n",
    "    if day >= 1 and day<= md:\n",
    "        return days + day\n",
    "    else:\n",
    "        return None\n",
    "\n",
    "print(day_of_year(2000, 12, 31))"
   ]
  },
  {
   "cell_type": "code",
   "execution_count": 61,
   "id": "8fa4ee5b-7444-4b54-8ebe-76579e764e5b",
   "metadata": {},
   "outputs": [
    {
     "name": "stdout",
     "output_type": "stream",
     "text": [
      "366\n"
     ]
    }
   ],
   "source": [
    "def day_of_year(year, month, day):\n",
    "    days = 0\n",
    "    for m in range(1, month):\n",
    "        md = days_in_month(year, m)\n",
    "        if md == None:\n",
    "            return None\n",
    "        days += md\n",
    "    md = days_in_month(year, month)\n",
    "    if day >= 1 and day<= md:\n",
    "        return days + day\n",
    "    else:\n",
    "        return None\n",
    "\n",
    "print(day_of_year(2000, 12, 31))"
   ]
  },
  {
   "cell_type": "code",
   "execution_count": 62,
   "id": "159d975a-53a6-40b4-8e2e-5523586878c1",
   "metadata": {},
   "outputs": [],
   "source": [
    "def days_in_month(year, month):\n",
    "    if year < 1582 or month < 1 or month > 12:\n",
    "        return None\n",
    "    days = [31, 28, 31, 30, 31, 30, 31, 31, 30, 31, 30, 31]\n",
    "    res = days[month - 1]\n",
    "    if month == 2 and is_year_leap(year):\n",
    "        res = 29\n",
    "    return res"
   ]
  },
  {
   "cell_type": "code",
   "execution_count": 68,
   "id": "2c0217ed-18e1-4bc7-90ba-cc4c0b2303e5",
   "metadata": {},
   "outputs": [
    {
     "data": {
      "text/plain": [
       "True"
      ]
     },
     "execution_count": 68,
     "metadata": {},
     "output_type": "execute_result"
    }
   ],
   "source": [
    "def is_prime(num):\n",
    "    if num % 2 == 0:\n",
    "        return True\n",
    "    elif num % 2 != 0:\n",
    "        return False\n",
    "\n",
    "is_prime(14)"
   ]
  },
  {
   "cell_type": "code",
   "execution_count": 71,
   "id": "bf5de22d-be8d-482b-8030-c150c87afd56",
   "metadata": {},
   "outputs": [
    {
     "name": "stdout",
     "output_type": "stream",
     "text": [
      "2 4 6 8 10 12 14 16 18 20 \n"
     ]
    }
   ],
   "source": [
    "def is_prime(num):\n",
    "    if num % 2 == 0:\n",
    "        return True\n",
    "    elif num % 2 != 0:\n",
    "        return False\n",
    "\n",
    "for i in range(1, 20):\n",
    "    if is_prime(i + 1):\n",
    "        print(i + 1, end=\" \")\n",
    "\n",
    "print()"
   ]
  },
  {
   "cell_type": "code",
   "execution_count": 76,
   "id": "130e5596-c2b4-47dc-ba82-4b93b1d11ce7",
   "metadata": {},
   "outputs": [
    {
     "name": "stdout",
     "output_type": "stream",
     "text": [
      "3 5 7 9 11 13 15 17 19 \n"
     ]
    }
   ],
   "source": [
    "def is_prime(num):\n",
    "    if num % 2 != 0:\n",
    "        return True\n",
    "    elif num % 2 == 0:\n",
    "        return False\n",
    "\n",
    "for i in range(1, 20):\n",
    "    if is_prime(i + 1):\n",
    "        print(i + 1, end=\" \")\n",
    "\n",
    "print()"
   ]
  },
  {
   "cell_type": "code",
   "execution_count": 80,
   "id": "785019ca-9ecd-4c7d-8d6c-412b5c39c47e",
   "metadata": {},
   "outputs": [
    {
     "name": "stdout",
     "output_type": "stream",
     "text": [
      "5 7 9 11 13 15 17 19 \n"
     ]
    }
   ],
   "source": [
    "def is_prime(num):\n",
    "    for i in range(2, int(1 + num ** 0.5)):\n",
    "        if num % i == 0:\n",
    "            return False\n",
    "        return True\n",
    "\n",
    "for i in range(1, 20):\n",
    "    if is_prime(i + 1):\n",
    "        print(i + 1, end=\" \")\n",
    "\n",
    "print()"
   ]
  },
  {
   "cell_type": "code",
   "execution_count": 90,
   "id": "ebdb4cf4-8bc5-43c9-abc6-6229246408f6",
   "metadata": {},
   "outputs": [
    {
     "name": "stdout",
     "output_type": "stream",
     "text": [
      "60.31143162393162\n",
      "31.36194444444444\n",
      "23.52145833333333\n"
     ]
    }
   ],
   "source": [
    "# 1 American mile = 1609.344 meters\n",
    "# 1 American gallon = 3.785411784 litres\n",
    "\n",
    "def liters_100km_to_miles_gallon(litres):\n",
    "    gallons = litres / 3.785411784\n",
    "    miles = 100 * 1000 / 1609.344\n",
    "    return miles / gallons\n",
    "\n",
    "    \n",
    "\n",
    "print(liters_100km_to_miles_gallon(3.9))\n",
    "print(liters_100km_to_miles_gallon(7.5))\n",
    "print(liters_100km_to_miles_gallon(10.))\n",
    "\n",
    "\n",
    "    "
   ]
  },
  {
   "cell_type": "code",
   "execution_count": 98,
   "id": "0eae4f64-fa5f-4b41-9b0b-1e6fbc8da1c9",
   "metadata": {},
   "outputs": [
    {
     "name": "stdout",
     "output_type": "stream",
     "text": [
      "3.9007393587617467\n",
      "7.490910297239915\n",
      "10.009131205673759\n"
     ]
    }
   ],
   "source": [
    "# 1 American mile = 1609.344 meters\n",
    "# 1 American gallon = 3.785411784 litres\n",
    "\n",
    "def miles_gallon_to_liters_100km(miles):\n",
    "     gallons = miles / 3.785411784\n",
    "     miles = 100 * 1000 / 1609.344\n",
    "     return miles / gallons\n",
    "\n",
    "    \n",
    "print(miles_gallon_to_liters_100km(60.3))\n",
    "print(miles_gallon_to_liters_100km(31.4))\n",
    "print(miles_gallon_to_liters_100km(23.5))\n"
   ]
  },
  {
   "cell_type": "code",
   "execution_count": null,
   "id": "696a4a91-9e2f-4c2b-a08e-1cbbe7a70033",
   "metadata": {},
   "outputs": [],
   "source": []
  },
  {
   "cell_type": "code",
   "execution_count": 101,
   "id": "998660d1-c88d-4187-9170-8bd69c702b3a",
   "metadata": {},
   "outputs": [
    {
     "name": "stdout",
     "output_type": "stream",
     "text": [
      "60.31143162393162\n",
      "31.36194444444444\n",
      "23.52145833333333\n",
      "3.9007393587617467\n",
      "7.490910297239915\n",
      "10.009131205673759\n"
     ]
    }
   ],
   "source": [
    "# 1 American mile = 1609.344 meters\n",
    "# 1 American gallon = 3.785411784 litres\n",
    "\n",
    "def liters_100km_to_miles_gallon(litres):\n",
    "    gallons = litres / 3.785411784\n",
    "    miles = 100 * 1000 / 1609.344\n",
    "    return miles / gallons\n",
    "\n",
    "def miles_gallon_to_liters_100km(miles):\n",
    "     gallons = miles / 3.785411784\n",
    "     miles = 100 * 1000 / 1609.344\n",
    "     return miles / gallons\n",
    "\n",
    "print(liters_100km_to_miles_gallon(3.9))\n",
    "print(liters_100km_to_miles_gallon(7.5))\n",
    "print(liters_100km_to_miles_gallon(10.))\n",
    "print(miles_gallon_to_liters_100km(60.3))\n",
    "print(miles_gallon_to_liters_100km(31.4))\n",
    "print(miles_gallon_to_liters_100km(23.5))\n",
    "\n",
    "    \n"
   ]
  },
  {
   "cell_type": "code",
   "execution_count": null,
   "id": "0439ab86-bc8a-4e17-ae80-b63dda27530e",
   "metadata": {},
   "outputs": [],
   "source": []
  },
  {
   "cell_type": "code",
   "execution_count": 104,
   "id": "60c7cf53-ece7-4b1a-a41b-685c3f44fdc8",
   "metadata": {},
   "outputs": [
    {
     "name": "stdout",
     "output_type": "stream",
     "text": [
      "None\n"
     ]
    }
   ],
   "source": [
    "def hi():\n",
    "    return\n",
    "    print(\"Hi!\")\n",
    "print(hi())"
   ]
  },
  {
   "cell_type": "code",
   "execution_count": null,
   "id": "90888d46-faf7-4841-ab31-90e69efe9deb",
   "metadata": {},
   "outputs": [],
   "source": []
  },
  {
   "cell_type": "code",
   "execution_count": null,
   "id": "8b27fbc5-582a-436c-82bf-0e0857623b8c",
   "metadata": {},
   "outputs": [],
   "source": []
  },
  {
   "cell_type": "code",
   "execution_count": null,
   "id": "0ac99fd5-aa17-454b-bbdf-31880b45ff83",
   "metadata": {},
   "outputs": [],
   "source": []
  },
  {
   "cell_type": "code",
   "execution_count": null,
   "id": "e752af6c-72dd-460d-90ff-7caf4a312f77",
   "metadata": {},
   "outputs": [],
   "source": []
  },
  {
   "cell_type": "code",
   "execution_count": null,
   "id": "83f3585a-0b12-4bc0-b6cc-e440bd6604e0",
   "metadata": {},
   "outputs": [],
   "source": []
  },
  {
   "cell_type": "code",
   "execution_count": null,
   "id": "55d411e6-a721-45b7-bfeb-c1e55a2a5bc1",
   "metadata": {},
   "outputs": [],
   "source": []
  },
  {
   "cell_type": "code",
   "execution_count": null,
   "id": "132079fc-ba15-4952-afea-69359e6cc32c",
   "metadata": {},
   "outputs": [],
   "source": []
  },
  {
   "cell_type": "code",
   "execution_count": null,
   "id": "badb3d3b-0f5a-40fb-8f07-f138bfdd3ce6",
   "metadata": {},
   "outputs": [],
   "source": []
  },
  {
   "cell_type": "code",
   "execution_count": null,
   "id": "eb59f56c-ab7b-4174-be9c-1a9df65c8f03",
   "metadata": {},
   "outputs": [],
   "source": []
  },
  {
   "cell_type": "code",
   "execution_count": null,
   "id": "1723ebe3-e505-4cc8-9b04-693a3e8dede5",
   "metadata": {},
   "outputs": [],
   "source": []
  }
 ],
 "metadata": {
  "kernelspec": {
   "display_name": "Python 3 (ipykernel)",
   "language": "python",
   "name": "python3"
  },
  "language_info": {
   "codemirror_mode": {
    "name": "ipython",
    "version": 3
   },
   "file_extension": ".py",
   "mimetype": "text/x-python",
   "name": "python",
   "nbconvert_exporter": "python",
   "pygments_lexer": "ipython3",
   "version": "3.12.4"
  }
 },
 "nbformat": 4,
 "nbformat_minor": 5
}
