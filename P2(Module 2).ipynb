{
 "cells": [
  {
   "cell_type": "markdown",
   "id": "3756570f-c371-4370-a82e-4e8402c35be3",
   "metadata": {},
   "source": [
    "1. Computers store characters as numbers. There is more than one possible way of encoding characters, but only some of them gained worldwide popularity and are commonly used in IT: these are ASCII (used mainly to encode the Latin alphabet and some of its derivates) and UNICODE (able to encode virtually all alphabets being used by humans).\n",
    "\n",
    "2. A number corresponding to a particular character is called a codepoint.\n",
    "\n",
    "3. UNICODE uses different ways of encoding when it comes to storing the characters using files or computer memory: two of them are UCS-4 and UTF-8 (the latter is the most common as it wastes less memory space).\n"
   ]
  },
  {
   "cell_type": "code",
   "execution_count": null,
   "id": "32ac7c48-1fb6-4cc7-80a7-a8358166aefc",
   "metadata": {},
   "outputs": [],
   "source": []
  },
  {
   "cell_type": "markdown",
   "id": "d3374b8f-4b9c-4079-96df-40d4d9cced33",
   "metadata": {},
   "source": [
    "### String"
   ]
  },
  {
   "cell_type": "code",
   "execution_count": 1,
   "id": "0b35e7f9-b491-40e3-92c3-41f2776f3f18",
   "metadata": {},
   "outputs": [
    {
     "name": "stdout",
     "output_type": "stream",
     "text": [
      "2\n",
      "0\n",
      "3\n"
     ]
    }
   ],
   "source": [
    "# Example 1\n",
    "\n",
    "word = 'by'\n",
    "print(len(word))\n",
    "\n",
    "\n",
    "# Example 2\n",
    "\n",
    "empty = ''\n",
    "print(len(empty))\n",
    "\n",
    "\n",
    "# Example 3\n",
    "\n",
    "i_am = 'I\\'m'\n",
    "print(len(i_am))\n"
   ]
  },
  {
   "cell_type": "markdown",
   "id": "80e876bc-cca3-4743-8568-e12f694417f5",
   "metadata": {},
   "source": [
    "### Multiline strings\n",
    "\n",
    "Now is a very good moment to show you another way of specifying strings inside the Python source code. Note that the syntax you already know won't let you use a string occupying more than one line of text."
   ]
  },
  {
   "cell_type": "code",
   "execution_count": 2,
   "id": "d641b692-41b2-4dc7-ae81-38e327a1d9c0",
   "metadata": {},
   "outputs": [
    {
     "name": "stdout",
     "output_type": "stream",
     "text": [
      "15\n"
     ]
    }
   ],
   "source": [
    "multiline = '''Line #1\n",
    "Line #2'''\n",
    "\n",
    "print(len(multiline))\n"
   ]
  },
  {
   "cell_type": "markdown",
   "id": "15ebc7c2-8590-4cd4-9a79-bfbf66562334",
   "metadata": {},
   "source": [
    "### Operations on strings\n",
    "\n",
    "Like other kinds of data, strings have their own set of permissible operations, although they're rather limited compared to numbers.\n",
    "\n",
    "In general, strings can be:\n",
    "\n",
    "    concatenated (joined)\n",
    "    replicated.\n",
    "\n",
    "The first operation is performed by the + operator (note: it's not an addition) while the second by the * operator (note again: it's not a multiplication).\n",
    "\n",
    "The ability to use the same operator against completely different kinds of data (like numbers vs. strings) is called overloading (as such an operator is overloaded with different duties).\n",
    "\n",
    "Analyze the example:\n",
    "\n",
    "    The + operator used against two or more strings produces a new string containing all the characters from its arguments (note: the order matters - this overloaded +, in contrast to its numerical version, is not commutative)\n",
    "    the * operator needs a string and a number as arguments; in this case, the order doesn't matter - you can put the number before the string, or vice versa, the result will be the same - a new string created by the nth replication of the argument's string.\n"
   ]
  },
  {
   "cell_type": "code",
   "execution_count": 3,
   "id": "fa1fae4f-1887-4c55-a2b4-29cbf6e751fa",
   "metadata": {},
   "outputs": [
    {
     "name": "stdout",
     "output_type": "stream",
     "text": [
      "ab\n",
      "ba\n",
      "aaaaa\n",
      "bbbb\n"
     ]
    }
   ],
   "source": [
    "str1 = 'a'\n",
    "str2 = 'b'\n",
    "\n",
    "print(str1 + str2)\n",
    "print(str2 + str1)\n",
    "print(5 * 'a')\n",
    "print('b' * 4)\n"
   ]
  },
  {
   "cell_type": "markdown",
   "id": "6e5eec3d-2f54-492d-ac1d-adec89737cd9",
   "metadata": {},
   "source": [
    "### Operations on strings: ord()\n",
    "\n",
    "If you want to know a specific character's ASCII/UNICODE code point value, you can use a function named ord() (as in ordinal).\n",
    "\n",
    "The function needs a one-character string as its argument - breaching this requirement causes a TypeError exception, and returns a number representing the argument's code point.\n",
    "\n",
    "Look at the code in the editor, and run it. The snippet outputs:"
   ]
  },
  {
   "cell_type": "code",
   "execution_count": 4,
   "id": "4cc2b9b8-9bce-4e2d-80f2-06c086514df5",
   "metadata": {},
   "outputs": [
    {
     "name": "stdout",
     "output_type": "stream",
     "text": [
      "97\n",
      "32\n"
     ]
    }
   ],
   "source": [
    "# Demonstrating the ord() function.\n",
    "\n",
    "char_1 = 'a'\n",
    "char_2 = ' '  # space\n",
    "\n",
    "print(ord(char_1))\n",
    "print(ord(char_2))\n"
   ]
  },
  {
   "cell_type": "code",
   "execution_count": 6,
   "id": "84a59783-6220-49ef-9f4e-f46ef78c279d",
   "metadata": {},
   "outputs": [
    {
     "name": "stdout",
     "output_type": "stream",
     "text": [
      "36\n",
      "33\n"
     ]
    }
   ],
   "source": [
    "# Demonstrating the ord() function.\n",
    "\n",
    "char_1 = '$'\n",
    "char_2 = '!'  # space\n",
    "\n",
    "print(ord(char_1))\n",
    "print(ord(char_2))\n"
   ]
  },
  {
   "cell_type": "code",
   "execution_count": 7,
   "id": "b5f1d5be-34af-47cd-8001-0ff1f9032ce9",
   "metadata": {},
   "outputs": [
    {
     "name": "stdout",
     "output_type": "stream",
     "text": [
      "a\n",
      "α\n"
     ]
    }
   ],
   "source": [
    "# Demonstrating the chr() function.\n",
    "\n",
    "print(chr(97))\n",
    "print(chr(945))\n"
   ]
  },
  {
   "cell_type": "markdown",
   "id": "0b487fbc-3e26-44ec-a914-544286c61648",
   "metadata": {},
   "source": [
    "### Strings as sequences: indexing\n",
    "\n",
    "We told you before that Python strings are sequences. It's time to show you what that actually means.\n",
    "\n",
    "Strings aren't lists, but you can treat them like lists in many particular cases.\n",
    "\n",
    "For example, if you want to access any of a string's characters, you can do it using indexing, just like in the example below. Run the program:"
   ]
  },
  {
   "cell_type": "code",
   "execution_count": 14,
   "id": "ab854559-7e58-4489-95a0-3790cb42a953",
   "metadata": {},
   "outputs": [
    {
     "name": "stdout",
     "output_type": "stream",
     "text": [
      "s i l l y   w a l k s "
     ]
    }
   ],
   "source": [
    "# Indexing strings.\n",
    "\n",
    "the_string = 'silly walks'\n",
    "\n",
    "for i in range(len(the_string)):\n",
    "    print(the_string[i], end=' ')\n",
    "\n",
    "\n",
    "\n"
   ]
  },
  {
   "cell_type": "markdown",
   "id": "1ba3d987-3b8c-4385-bd49-dbf053bbdd8d",
   "metadata": {},
   "source": [
    "#### Strings as sequences: iterating\n",
    "\n",
    "Iterating through the strings works, too. Look at the example below:"
   ]
  },
  {
   "cell_type": "code",
   "execution_count": 15,
   "id": "95a0dd88-72fb-4b8e-a683-ad21077fd450",
   "metadata": {},
   "outputs": [
    {
     "name": "stdout",
     "output_type": "stream",
     "text": [
      "s i l l y   w a l k s \n"
     ]
    }
   ],
   "source": [
    "# Iterating through a string.\n",
    "\n",
    "the_string = 'silly walks'\n",
    "\n",
    "for character in the_string:\n",
    "    print(character, end=' ')\n",
    "\n",
    "print()\n",
    "\n"
   ]
  },
  {
   "cell_type": "markdown",
   "id": "413b9ccf-e1c0-41f4-942b-33e668d18c8f",
   "metadata": {},
   "source": [
    "### Slices\n",
    "\n",
    "Moreover, everything you know about slices is still usable.\n",
    "\n",
    "We've gathered some examples showing how slices work in the string world. Look at the code in the editor, analyze it, and run it.\n",
    "\n",
    "You won't see anything new in the example, but we want you to be sure that you can explain all the lines of the code."
   ]
  },
  {
   "cell_type": "code",
   "execution_count": 16,
   "id": "1e733296-587a-4de8-9e44-1693b4184b35",
   "metadata": {},
   "outputs": [
    {
     "name": "stdout",
     "output_type": "stream",
     "text": [
      "bd\n",
      "efg\n",
      "abd\n",
      "e\n",
      "e\n",
      "adf\n",
      "beg\n"
     ]
    }
   ],
   "source": [
    "# Slices\n",
    "\n",
    "alpha = \"abdefg\"\n",
    "\n",
    "print(alpha[1:3])\n",
    "print(alpha[3:])\n",
    "print(alpha[:3])\n",
    "print(alpha[3:-2])\n",
    "print(alpha[-3:4])\n",
    "print(alpha[::2])\n",
    "print(alpha[1::2])\n"
   ]
  },
  {
   "cell_type": "code",
   "execution_count": null,
   "id": "c948ff3d-2f1b-410f-80a3-6dd15ed87adf",
   "metadata": {},
   "outputs": [],
   "source": []
  },
  {
   "cell_type": "markdown",
   "id": "ed9c3c05-9edc-4bbb-9a28-31f88058510f",
   "metadata": {},
   "source": [
    "### The in and not in operators\n",
    "\n",
    "#### The in operator\n",
    "\n",
    "The in operator shouldn't surprise you when applied to strings - it simply checks if its left argument (a string) can be found anywhere within the right argument (another string).\n",
    "\n",
    "The result of the check is simply True or False.\n",
    "\n",
    "Look at the example program below. This is how the in operator works:"
   ]
  },
  {
   "cell_type": "code",
   "execution_count": 17,
   "id": "8289fa3e-54ab-46ee-8aca-feb12a38b8fe",
   "metadata": {},
   "outputs": [
    {
     "name": "stdout",
     "output_type": "stream",
     "text": [
      "True\n",
      "False\n",
      "False\n",
      "True\n",
      "False\n"
     ]
    }
   ],
   "source": [
    "alphabet = \"abcdefghijklmnopqrstuvwxyz\"\n",
    "\n",
    "print(\"f\" in alphabet)\n",
    "print(\"F\" in alphabet)\n",
    "print(\"1\" in alphabet)\n",
    "print(\"ghi\" in alphabet)\n",
    "print(\"Xyz\" in alphabet)\n",
    "\n"
   ]
  },
  {
   "cell_type": "markdown",
   "id": "5c304986-c1c3-48ad-919a-70811ac71516",
   "metadata": {},
   "source": [
    "#### The not in operator\n",
    "\n",
    "As you probably suspect, the not in operator is also applicable here.\n",
    "\n",
    "This is how it works:"
   ]
  },
  {
   "cell_type": "code",
   "execution_count": 18,
   "id": "52134fb9-50bf-454a-93c9-a3df2ac3b4dd",
   "metadata": {},
   "outputs": [
    {
     "name": "stdout",
     "output_type": "stream",
     "text": [
      "False\n",
      "True\n",
      "True\n",
      "False\n",
      "True\n"
     ]
    }
   ],
   "source": [
    "alphabet = \"abcdefghijklmnopqrstuvwxyz\"\n",
    "\n",
    "print(\"f\" not in alphabet)\n",
    "print(\"F\" not in alphabet)\n",
    "print(\"1\" not in alphabet)\n",
    "print(\"ghi\" not in alphabet)\n",
    "print(\"Xyz\" not in alphabet)\n",
    "\n"
   ]
  },
  {
   "cell_type": "code",
   "execution_count": null,
   "id": "7da88bfc-1f41-4c12-81c8-7acc93a38eaa",
   "metadata": {},
   "outputs": [],
   "source": []
  },
  {
   "cell_type": "markdown",
   "id": "386e1811-ef30-4919-8be8-6f2d9998ab73",
   "metadata": {},
   "source": [
    "### Python strings are immutable\n",
    "\n",
    "We've also told you that Python's strings are immutable. This is a very important feature. What does it mean?\n",
    "\n",
    "This primarily means that the similarity of strings and lists is limited. Not everything you can do with a list may be done with a string.\n",
    "\n",
    "The first important difference doesn't allow you to use the del instruction to remove anything from a string.\n",
    "\n",
    "The example here won't work:"
   ]
  },
  {
   "cell_type": "code",
   "execution_count": 19,
   "id": "03e4113e-a91b-44ee-8d09-a494a3200d59",
   "metadata": {},
   "outputs": [
    {
     "ename": "TypeError",
     "evalue": "'str' object doesn't support item deletion",
     "output_type": "error",
     "traceback": [
      "\u001b[1;31m---------------------------------------------------------------------------\u001b[0m",
      "\u001b[1;31mTypeError\u001b[0m                                 Traceback (most recent call last)",
      "Cell \u001b[1;32mIn[19], line 2\u001b[0m\n\u001b[0;32m      1\u001b[0m alphabet \u001b[38;5;241m=\u001b[39m \u001b[38;5;124m\"\u001b[39m\u001b[38;5;124mabcdefghijklmnopqrstuvwxyz\u001b[39m\u001b[38;5;124m\"\u001b[39m\n\u001b[1;32m----> 2\u001b[0m \u001b[38;5;28;01mdel\u001b[39;00m alphabet[\u001b[38;5;241m0\u001b[39m]\n",
      "\u001b[1;31mTypeError\u001b[0m: 'str' object doesn't support item deletion"
     ]
    }
   ],
   "source": [
    "alphabet = \"abcdefghijklmnopqrstuvwxyz\"\n",
    "del alphabet[0]"
   ]
  },
  {
   "cell_type": "markdown",
   "id": "d6f73250-6dae-4451-8bfc-5f5ce52c13fc",
   "metadata": {},
   "source": [
    "Python strings don't have the append() method - you cannot expand them in any way.\n",
    "\n",
    "The example below is erroneous:"
   ]
  },
  {
   "cell_type": "code",
   "execution_count": 20,
   "id": "b8aea505-f54d-444f-8fb8-ad20a7e3bccc",
   "metadata": {},
   "outputs": [
    {
     "ename": "AttributeError",
     "evalue": "'str' object has no attribute 'append'",
     "output_type": "error",
     "traceback": [
      "\u001b[1;31m---------------------------------------------------------------------------\u001b[0m",
      "\u001b[1;31mAttributeError\u001b[0m                            Traceback (most recent call last)",
      "Cell \u001b[1;32mIn[20], line 2\u001b[0m\n\u001b[0;32m      1\u001b[0m alphabet \u001b[38;5;241m=\u001b[39m \u001b[38;5;124m\"\u001b[39m\u001b[38;5;124mabcdefghijklmnopqrstuvwxyz\u001b[39m\u001b[38;5;124m\"\u001b[39m\n\u001b[1;32m----> 2\u001b[0m alphabet\u001b[38;5;241m.\u001b[39mappend(\u001b[38;5;124m\"\u001b[39m\u001b[38;5;124mA\u001b[39m\u001b[38;5;124m\"\u001b[39m)\n",
      "\u001b[1;31mAttributeError\u001b[0m: 'str' object has no attribute 'append'"
     ]
    }
   ],
   "source": [
    "alphabet = \"abcdefghijklmnopqrstuvwxyz\"\n",
    "alphabet.append(\"A\")\n"
   ]
  },
  {
   "cell_type": "markdown",
   "id": "d611b17f-540a-4d1f-a9e2-c0b2e03baced",
   "metadata": {},
   "source": [
    "with the absence of the append() method, the insert() method is illegal, too:"
   ]
  },
  {
   "cell_type": "markdown",
   "id": "ce07f6c7-bd55-467d-9412-e1ef09529f71",
   "metadata": {},
   "source": [
    "### Operations on strings: continued\n",
    "\n",
    "Don't think that a string's immutability limits your ability to operate with strings.\n",
    "\n",
    "The only consequence is that you have to remember about it, and implement your code in a slightly different way - look at the example code in the editor.\n",
    "\n",
    "This form of code is fully acceptable, will work without bending Python's rules, and will bring the full Latin alphabet to your screen:"
   ]
  },
  {
   "cell_type": "code",
   "execution_count": 21,
   "id": "7d67940a-df03-47c6-be90-9ea0998ed6d0",
   "metadata": {},
   "outputs": [
    {
     "name": "stdout",
     "output_type": "stream",
     "text": [
      "abcdefghijklmnopqrstuvwxyz\n"
     ]
    }
   ],
   "source": [
    "alphabet = \"bcdefghijklmnopqrstuvwxy\"\n",
    "\n",
    "alphabet = \"a\" + alphabet\n",
    "alphabet = alphabet + \"z\"\n",
    "\n",
    "print(alphabet)\n"
   ]
  },
  {
   "cell_type": "code",
   "execution_count": null,
   "id": "3eb58ab9-f902-4902-b8e7-10257a407716",
   "metadata": {},
   "outputs": [],
   "source": []
  },
  {
   "cell_type": "markdown",
   "id": "85fd867c-d5f7-47bb-bf15-d3da3576c56c",
   "metadata": {},
   "source": [
    "### Operations on strings: min()\n",
    "\n",
    "Now that you understand that strings are sequences, we can show you some less obvious sequence capabilities. We'll present them using strings, but don't forget that lists can adopt the same tricks, too.\n",
    "\n",
    "Let's start with a function named min().\n",
    "\n",
    "The function finds the minimum element of the sequence passed as an argument. There is one condition - the sequence (string, list, it doesn't matter) cannot be empty, or else you'll get a ValueError exception."
   ]
  },
  {
   "cell_type": "code",
   "execution_count": 22,
   "id": "cce5af1f-0107-4949-8812-75301d117026",
   "metadata": {},
   "outputs": [
    {
     "name": "stdout",
     "output_type": "stream",
     "text": [
      "A\n",
      "[ ]\n",
      "0\n"
     ]
    }
   ],
   "source": [
    "# Demonstrating min() - Example 1:\n",
    "print(min(\"aAbByYzZ\"))\n",
    "\n",
    "\n",
    "# Demonstrating min() - Examples 2 & 3:\n",
    "t = 'The Knights Who Say \"Ni!\"'\n",
    "print('[' + min(t) + ']')\n",
    "\n",
    "t = [0, 1, 2]\n",
    "print(min(t))\n"
   ]
  },
  {
   "cell_type": "markdown",
   "id": "45c8431e-0b84-4410-95b5-d2d5308fc6de",
   "metadata": {},
   "source": [
    "### Operations on strings: max()\n",
    "\n",
    "Similarly, a function named max() finds the maximum element of the sequence.\n",
    "\n",
    "Look at Example 1 in the editor. The example program outputs:\n",
    "z\n",
    "\n",
    "output\n",
    "\n",
    "Note: It's a lower-case z.\n",
    "\n",
    "Now let's see the max() function applied to the same data as previously. Look at Examples 2 & 3 in the editor"
   ]
  },
  {
   "cell_type": "code",
   "execution_count": 23,
   "id": "2adbece3-61b4-4cff-9976-ec39d6f9d18e",
   "metadata": {},
   "outputs": [
    {
     "name": "stdout",
     "output_type": "stream",
     "text": [
      "z\n",
      "[y]\n",
      "2\n"
     ]
    }
   ],
   "source": [
    "# Demonstrating max() - Example 1:\n",
    "print(max(\"aAbByYzZ\"))\n",
    "\n",
    "\n",
    "# Demonstrating max() - Examples 2 & 3:\n",
    "t = 'The Knights Who Say \"Ni!\"'\n",
    "print('[' + max(t) + ']')\n",
    "\n",
    "t = [0, 1, 2]\n",
    "print(max(t))\n"
   ]
  },
  {
   "cell_type": "code",
   "execution_count": 24,
   "id": "01422f0e-a9de-4612-8a35-1c64aab25639",
   "metadata": {},
   "outputs": [
    {
     "name": "stdout",
     "output_type": "stream",
     "text": [
      "y\n",
      "[y]\n",
      "2\n"
     ]
    }
   ],
   "source": [
    "# Demonstrating max() - Example 1:\n",
    "print(max(\"aAbByY\"))\n",
    "\n",
    "\n",
    "# Demonstrating max() - Examples 2 & 3:\n",
    "t = 'The Knights Who Say \"Ni!\"'\n",
    "print('[' + max(t) + ']')\n",
    "\n",
    "t = [0, 1, 2]\n",
    "print(max(t))\n"
   ]
  },
  {
   "cell_type": "code",
   "execution_count": null,
   "id": "aa53f7bd-d406-44ce-8031-2715629de2e3",
   "metadata": {},
   "outputs": [],
   "source": []
  },
  {
   "cell_type": "markdown",
   "id": "80cae7bb-04ac-4c29-a80a-8c064c808422",
   "metadata": {},
   "source": [
    "### Operations on strings: the index() method\n",
    "\n",
    "The index() method (it's a method, not a function) searches the sequence from the beginning, in order to find the first element of the value specified in its argument.\n",
    "\n",
    "Note: the element searched for must occur in the sequence - its absence will cause a ValueError exception.\n",
    "\n",
    "The method returns the index of the first occurrence of the argument (which means that the lowest possible result is 0, while the highest is the length of argument decremented by 1).\n",
    "\n",
    "Therefore, the example in the editor "
   ]
  },
  {
   "cell_type": "code",
   "execution_count": 25,
   "id": "073c6fee-89cf-4997-9d44-e0035420223a",
   "metadata": {},
   "outputs": [
    {
     "name": "stdout",
     "output_type": "stream",
     "text": [
      "2\n",
      "7\n",
      "1\n"
     ]
    }
   ],
   "source": [
    " # Demonstrating the index() method:\n",
    "print(\"aAbByYzZaA\".index(\"b\"))\n",
    "print(\"aAbByYzZaA\".index(\"Z\"))\n",
    "print(\"aAbByYzZaA\".index(\"A\"))\n"
   ]
  },
  {
   "cell_type": "code",
   "execution_count": null,
   "id": "ee4fa153-5ee4-4a63-93cb-1c4fba8102cc",
   "metadata": {},
   "outputs": [],
   "source": []
  },
  {
   "cell_type": "markdown",
   "id": "6ee4c3c9-2051-4872-853e-b6a1d0a92c30",
   "metadata": {},
   "source": [
    "### Operations on strings: the list() function\n",
    "\n",
    "The list() function takes its argument (a string) and creates a new list containing all the string's characters, one per list element.\n",
    "\n",
    "Note: it's not strictly a string function - list() is able to create a new list from many other entities (e.g., from tuples and dictionaries).\n",
    "\n",
    "Take a look at the code example in the editor."
   ]
  },
  {
   "cell_type": "code",
   "execution_count": 26,
   "id": "97317cfe-3ad4-40ee-bc84-c0c681d24c2a",
   "metadata": {},
   "outputs": [
    {
     "name": "stdout",
     "output_type": "stream",
     "text": [
      "['a', 'b', 'c', 'a', 'b', 'c']\n",
      "2\n",
      "0\n"
     ]
    }
   ],
   "source": [
    "# Demonstrating the list() function:\n",
    "print(list(\"abcabc\"))\n",
    "\n",
    "# Demonstrating the count() method:\n",
    "print(\"abcabc\".count(\"b\"))\n",
    "print('abcabc'.count(\"d\"))\n"
   ]
  },
  {
   "cell_type": "code",
   "execution_count": null,
   "id": "8bea2f14-9039-4264-831e-e78143a91597",
   "metadata": {},
   "outputs": [],
   "source": []
  },
  {
   "cell_type": "markdown",
   "id": "946134fa-df4f-4b65-9bc5-ee91ac81b4c5",
   "metadata": {},
   "source": [
    "### The capitalize() method\n",
    "\n",
    "Let's go through some standard Python string methods. We're going to go through them in alphabetical order - to be honest, any order has as many disadvantages as advantages, so the choice may as well be random.\n",
    "\n",
    "The capitalize() method does exactly what it says - it creates a new string filled with characters taken from the source string, but it tries to modify them in the following way:\n",
    "\n",
    "    if the first character inside the string is a letter (note: the first character is an element with an index equal to 0, not just the first visible character), it will be converted to upper-case;\n",
    "    all remaining letters from the string will be converted to lower-case.\n",
    "\n",
    "Don't forget that:\n",
    "\n",
    "    the original string (from which the method is invoked) is not changed in any way (a string's immutability must be obeyed without reservation)\n",
    "    the modified (capitalized in this case) string is returned as a result - if you don't use it in any way (assign it to a variable, or pass it to a function/method) it will disappear without a trace.\n",
    "\n",
    "Note: methods don't have to be invoked from within variables only. They can be invoked directly from within string literals. We're going to use that convention regularly - it will simplify the examples, as the most important aspects will not disappear among unnecessary assignments."
   ]
  },
  {
   "cell_type": "code",
   "execution_count": 27,
   "id": "5f2e55ea-d33b-4789-8a95-e41c4e13512a",
   "metadata": {},
   "outputs": [
    {
     "name": "stdout",
     "output_type": "stream",
     "text": [
      "Abcd\n"
     ]
    }
   ],
   "source": [
    "# Demonstrating the capitalize() method:\n",
    "print('aBcD'.capitalize())\n"
   ]
  },
  {
   "cell_type": "code",
   "execution_count": 28,
   "id": "0743e100-aefd-48e4-b8bf-3c2051dcacce",
   "metadata": {},
   "outputs": [
    {
     "name": "stdout",
     "output_type": "stream",
     "text": [
      "Alpha\n",
      "Alpha\n",
      " alpha\n",
      "123\n",
      "Αβγδ\n"
     ]
    }
   ],
   "source": [
    "print(\"Alpha\".capitalize())\n",
    "print('ALPHA'.capitalize())\n",
    "print(' Alpha'.capitalize())\n",
    "print('123'.capitalize())\n",
    "print(\"αβγδ\".capitalize())\n"
   ]
  },
  {
   "cell_type": "markdown",
   "id": "8b391d53-5bc8-482d-a875-19139ebc7691",
   "metadata": {},
   "source": [
    "### The center() method\n",
    "\n",
    "The one-parameter variant of the center() method makes a copy of the original string, trying to center it inside a field of a specified width.\n",
    "\n",
    "The centering is actually done by adding some spaces before and after the string.\n",
    "\n",
    "Don't expect this method to demonstrate any sophisticated skills. It's rather simple.\n",
    "\n",
    "The example in the editor uses brackets to clearly show you where the centered string actually begins and terminates."
   ]
  },
  {
   "cell_type": "code",
   "execution_count": 30,
   "id": "8c020474-ac5a-442c-aa4d-b0a51d74d088",
   "metadata": {},
   "outputs": [
    {
     "name": "stdout",
     "output_type": "stream",
     "text": [
      "[     alpha     ]\n"
     ]
    }
   ],
   "source": [
    " # Demonstrating the center() method:\n",
    "print('[' + 'alpha'.center(15) + ']')\n"
   ]
  },
  {
   "cell_type": "code",
   "execution_count": 31,
   "id": "2ba3abe7-6b11-4756-a13b-786556ce2b19",
   "metadata": {},
   "outputs": [
    {
     "name": "stdout",
     "output_type": "stream",
     "text": [
      "[Beta]\n",
      "[Beta]\n",
      "[ Beta ]\n"
     ]
    }
   ],
   "source": [
    "print('[' + 'Beta'.center(2) + ']')\n",
    "print('[' + 'Beta'.center(4) + ']')\n",
    "print('[' + 'Beta'.center(6) + ']')\n",
    "\n"
   ]
  },
  {
   "cell_type": "code",
   "execution_count": 34,
   "id": "f5e39c2a-b7e6-4018-83df-a2053b600dcd",
   "metadata": {},
   "outputs": [
    {
     "name": "stdout",
     "output_type": "stream",
     "text": [
      "[--Raji--]\n"
     ]
    }
   ],
   "source": [
    "print('[' + \"Raji\".center(8, '-') + ']')"
   ]
  },
  {
   "cell_type": "markdown",
   "id": "cbf090c9-44ab-45dc-9705-741c6b7b3cc0",
   "metadata": {},
   "source": [
    "The two-parameter variant of center() makes use of the character from the second argument, instead of a space. Analyze the example below:"
   ]
  },
  {
   "cell_type": "code",
   "execution_count": 33,
   "id": "7f8567d2-9c69-4df0-8a81-09c510ae4711",
   "metadata": {},
   "outputs": [
    {
     "name": "stdout",
     "output_type": "stream",
     "text": [
      "[*******gamma********]\n"
     ]
    }
   ],
   "source": [
    "print('[' + 'gamma'.center(20, '*') + ']')\n",
    "\n"
   ]
  },
  {
   "cell_type": "code",
   "execution_count": null,
   "id": "509121ef-4414-4240-8ce7-5c8b31c976f1",
   "metadata": {},
   "outputs": [],
   "source": []
  },
  {
   "cell_type": "markdown",
   "id": "9a260b90-8dd7-40e1-a9ee-ac6d033fa721",
   "metadata": {},
   "source": [
    "### The endswith() method\n",
    "\n",
    "The endswith() method checks if the given string ends with the specified argument and returns True or False, depending on the check result.\n",
    "\n",
    "Note: the substring must adhere to the string's last character - it cannot just be located somewhere near the end of the string.\n",
    "\n",
    "Look at our example in the editor, analyze it, and run it. It outputs:"
   ]
  },
  {
   "cell_type": "code",
   "execution_count": 41,
   "id": "0514d7e2-e6df-4779-b5bd-64634782fe63",
   "metadata": {},
   "outputs": [
    {
     "name": "stdout",
     "output_type": "stream",
     "text": [
      "yes\n"
     ]
    }
   ],
   "source": [
    "# Demonstrating the endswith() method:\n",
    "if \"epsilon\".endswith(\"on\"):\n",
    "    print(\"yes\")\n",
    "else:\n",
    "    print(\"no\")\n"
   ]
  },
  {
   "cell_type": "code",
   "execution_count": 45,
   "id": "fe518ab1-21f2-4279-a67b-1d72bf281746",
   "metadata": {},
   "outputs": [
    {
     "name": "stdout",
     "output_type": "stream",
     "text": [
      "Yes\n"
     ]
    }
   ],
   "source": [
    "if \"Raji\".endswith(\"ji\"):\n",
    "    print(\"Yes\")\n",
    "\n",
    "else:\n",
    "    print(\"No\")"
   ]
  },
  {
   "cell_type": "code",
   "execution_count": 46,
   "id": "f3130191-b78a-44e8-a0a3-2721812f7f09",
   "metadata": {},
   "outputs": [
    {
     "name": "stdout",
     "output_type": "stream",
     "text": [
      "True\n",
      "False\n",
      "False\n",
      "True\n"
     ]
    }
   ],
   "source": [
    "t = \"zeta\"\n",
    "print(t.endswith(\"a\"))\n",
    "print(t.endswith(\"A\"))\n",
    "print(t.endswith(\"et\"))\n",
    "print(t.endswith(\"eta\"))\n",
    "\n"
   ]
  },
  {
   "cell_type": "code",
   "execution_count": null,
   "id": "5aa2e8ac-bbdd-4e65-ba3e-f0900d360f30",
   "metadata": {},
   "outputs": [],
   "source": []
  },
  {
   "cell_type": "markdown",
   "id": "be3d64ee-cd29-4d8f-8724-49d077d596ec",
   "metadata": {},
   "source": [
    "### The find() method\n",
    "\n",
    "The find() method is similar to index(), which you already know - it looks for a substring and returns the index of first occurrence of this substring, but:\n",
    "\n",
    "    it's safer - it doesn't generate an error for an argument containing a non-existent substring (it returns -1 then)\n",
    "    it works with strings only - don't try to apply it to any other sequence.\n",
    "\n",
    "Look at the code in the editor. This is how you can use it."
   ]
  },
  {
   "cell_type": "code",
   "execution_count": 47,
   "id": "bebcb404-9e95-4368-9f78-f436faa3bce9",
   "metadata": {},
   "outputs": [
    {
     "name": "stdout",
     "output_type": "stream",
     "text": [
      "1\n",
      "-1\n"
     ]
    }
   ],
   "source": [
    "# Demonstrating the find() method:\n",
    "print(\"Eta\".find(\"ta\"))\n",
    "print(\"Eta\".find(\"mma\"))\n"
   ]
  },
  {
   "cell_type": "code",
   "execution_count": 50,
   "id": "140d9d36-aa7e-4c81-95dd-142c42358658",
   "metadata": {},
   "outputs": [
    {
     "name": "stdout",
     "output_type": "stream",
     "text": [
      "2\n",
      "2\n",
      "0\n",
      "-1\n"
     ]
    }
   ],
   "source": [
    "t = 'theta'\n",
    "print(t.find('eta'))\n",
    "print(t.find('et'))\n",
    "print(t.find('the'))\n",
    "print(t.find('ha'))\n",
    "\n"
   ]
  },
  {
   "cell_type": "code",
   "execution_count": 51,
   "id": "5e7310b4-0b93-4cdc-a3ef-8dee68b1c287",
   "metadata": {},
   "outputs": [
    {
     "name": "stdout",
     "output_type": "stream",
     "text": [
      "4\n"
     ]
    }
   ],
   "source": [
    "print('kappa'.find('a', 2))\n",
    "\n"
   ]
  },
  {
   "cell_type": "markdown",
   "id": "fb0d44c2-8e00-4485-994a-4c75e046e288",
   "metadata": {},
   "source": [
    "You can use the find() method to search for all the substring's occurrences, like here:"
   ]
  },
  {
   "cell_type": "code",
   "execution_count": 52,
   "id": "3721023b-9802-4501-9ec1-6db338b2ccf0",
   "metadata": {},
   "outputs": [
    {
     "name": "stdout",
     "output_type": "stream",
     "text": [
      "15\n",
      "80\n",
      "198\n",
      "221\n",
      "238\n"
     ]
    }
   ],
   "source": [
    "the_text = \"\"\"A variation of the ordinary lorem ipsum\n",
    "text has been used in typesetting since the 1960s \n",
    "or earlier, when it was popularized by advertisements \n",
    "for Letraset transfer sheets. It was introduced to \n",
    "the Information Age in the mid-1980s by the Aldus Corporation, \n",
    "which employed it in graphics and word-processing templates\n",
    "for its desktop publishing program PageMaker (from Wikipedia)\"\"\"\n",
    "\n",
    "fnd = the_text.find('the')\n",
    "while fnd != -1:\n",
    "    print(fnd)\n",
    "    fnd = the_text.find('the', fnd + 1)\n",
    "\n"
   ]
  },
  {
   "cell_type": "markdown",
   "id": "226ddf0e-c7b4-436d-aa4c-a14f1064fa46",
   "metadata": {},
   "source": [
    "There is also a three-parameter mutation of the find() method - the third argument points to the first index which won't be taken into consideration during the search (it's actually the upper limit of the search).\n",
    "\n",
    "Look at our example below:"
   ]
  },
  {
   "cell_type": "code",
   "execution_count": 53,
   "id": "9ae58b0b-21e8-4ab2-914f-a84681fc1718",
   "metadata": {},
   "outputs": [
    {
     "name": "stdout",
     "output_type": "stream",
     "text": [
      "1\n",
      "-1\n"
     ]
    }
   ],
   "source": [
    "print('kappa'.find('a', 1, 4))\n",
    "print('kappa'.find('a', 2, 4))\n",
    "\n"
   ]
  },
  {
   "cell_type": "code",
   "execution_count": null,
   "id": "8d1e5b3f-0a13-41a9-9fa1-41943895846e",
   "metadata": {},
   "outputs": [],
   "source": []
  },
  {
   "cell_type": "markdown",
   "id": "53bff1c2-ad9b-4f71-a5f4-9feb0d500ad5",
   "metadata": {},
   "source": [
    "### The isalnum() method\n",
    "\n",
    "The parameterless method named isalnum() checks if the string contains only digits or alphabetical characters (letters), and returns True or False according to the result.\n",
    "\n",
    "Look at the example in the editor and run it.\n",
    "\n",
    "Note: any string element that is not a digit or a letter causes the method to return False. An empty string does, too."
   ]
  },
  {
   "cell_type": "code",
   "execution_count": 54,
   "id": "4884444a-f94b-415d-b485-619b9b992318",
   "metadata": {},
   "outputs": [
    {
     "name": "stdout",
     "output_type": "stream",
     "text": [
      "True\n",
      "True\n",
      "True\n",
      "False\n",
      "False\n",
      "False\n"
     ]
    }
   ],
   "source": [
    "# Demonstrating the isalnum() method:\n",
    "print('lambda30'.isalnum())\n",
    "print('lambda'.isalnum())\n",
    "print('30'.isalnum())\n",
    "print('@'.isalnum())\n",
    "print('lambda_30'.isalnum())\n",
    "print(''.isalnum())\n"
   ]
  },
  {
   "cell_type": "code",
   "execution_count": 57,
   "id": "65ba7c8f-dd87-4d5e-b86c-6ffb12084662",
   "metadata": {},
   "outputs": [
    {
     "name": "stdout",
     "output_type": "stream",
     "text": [
      "False\n",
      "True\n",
      "True\n"
     ]
    }
   ],
   "source": [
    "t = 'Six lambdas'\n",
    "print(t.isalnum())\n",
    "\n",
    "t = 'ΑβΓδ'\n",
    "print(t.isalnum())\n",
    "\n",
    "t = '20E1'\n",
    "print(t.isalnum())\n",
    "\n"
   ]
  },
  {
   "cell_type": "markdown",
   "id": "3f1c6743-2304-425d-a7ec-76ab1c972c95",
   "metadata": {},
   "source": [
    "### The isalpha() method\n",
    "\n",
    "The isalpha() method is more specialized - it's interested in letters only.\n",
    "\n",
    "Look at Example 1 - its output is:"
   ]
  },
  {
   "cell_type": "code",
   "execution_count": 58,
   "id": "00156c92-c564-46b4-9284-c160e6424f1e",
   "metadata": {},
   "outputs": [
    {
     "name": "stdout",
     "output_type": "stream",
     "text": [
      "True\n",
      "False\n"
     ]
    }
   ],
   "source": [
    "# Example 1: Demonstrating the isapha() method:\n",
    "print(\"Moooo\".isalpha())\n",
    "print('Mu40'.isalpha())"
   ]
  },
  {
   "cell_type": "markdown",
   "id": "38e051f0-9744-4e48-93af-8a2b42bf6b49",
   "metadata": {},
   "source": [
    "### The isdigit() method\n",
    "\n",
    "In turn, the isdigit() method looks at digits only - anything else produces False as the result.\n",
    "\n",
    "Look at Example 2 - its output is"
   ]
  },
  {
   "cell_type": "code",
   "execution_count": 59,
   "id": "98d87e34-2ffa-45eb-a24e-2809ab48c8e0",
   "metadata": {},
   "outputs": [
    {
     "name": "stdout",
     "output_type": "stream",
     "text": [
      "True\n",
      "False\n"
     ]
    }
   ],
   "source": [
    "# Example 2: Demonstrating the isdigit() method:\n",
    "print('2018'.isdigit())\n",
    "print(\"Year2019\".isdigit())\n"
   ]
  },
  {
   "cell_type": "markdown",
   "id": "3acbba4b-c69b-424b-b138-2930ae0e6031",
   "metadata": {},
   "source": [
    "### The islower() method\n",
    "\n",
    "The islower() method is a fussy variant of isalpha() – it accepts lower-case letters only.\n",
    "\n",
    "Look at Example 1 in the editor – it outputs:"
   ]
  },
  {
   "cell_type": "code",
   "execution_count": 60,
   "id": "77749d64-d262-40c4-868b-6d4d03013057",
   "metadata": {},
   "outputs": [
    {
     "name": "stdout",
     "output_type": "stream",
     "text": [
      "False\n",
      "True\n"
     ]
    }
   ],
   "source": [
    "# Example 1: Demonstrating the islower() method:\n",
    "print(\"Moooo\".islower())\n",
    "print('moooo'.islower())\n"
   ]
  },
  {
   "cell_type": "markdown",
   "id": "2f01f52f-c03e-4228-91c0-c150087b3e38",
   "metadata": {},
   "source": [
    "### The isspace() method\n",
    "\n",
    "The isspace() method identifies whitespaces only – it disregards any other character (the result is False then).\n",
    "\n",
    "Look at Example 2 in the editor – the output is:"
   ]
  },
  {
   "cell_type": "code",
   "execution_count": 61,
   "id": "ea037f89-8ee6-47e6-af0c-a2aa3c6d1827",
   "metadata": {},
   "outputs": [
    {
     "name": "stdout",
     "output_type": "stream",
     "text": [
      "True\n",
      "True\n",
      "False\n"
     ]
    }
   ],
   "source": [
    "print(' \\n '.isspace())\n",
    "print(\" \".isspace())\n",
    "print(\"mooo mooo mooo\".isspace())\n"
   ]
  },
  {
   "cell_type": "markdown",
   "id": "27251496-9172-4bb0-a631-a0728616beff",
   "metadata": {},
   "source": [
    "### The isupper() method\n",
    "\n",
    "The isupper() method is the upper-case version of islower() – it concentrates on upper-case letters only."
   ]
  },
  {
   "cell_type": "code",
   "execution_count": 62,
   "id": "6ba2baf0-352e-4ec6-baf9-b53e5df89da5",
   "metadata": {},
   "outputs": [
    {
     "name": "stdout",
     "output_type": "stream",
     "text": [
      "False\n",
      "False\n",
      "True\n"
     ]
    }
   ],
   "source": [
    "print(\"Moooo\".isupper())\n",
    "print('moooo'.isupper())\n",
    "print('MOOOO'.isupper())\n"
   ]
  },
  {
   "cell_type": "markdown",
   "id": "c8255e0b-05b0-4afe-b1c3-995cf74e2637",
   "metadata": {},
   "source": [
    "### The join() method\n",
    "\n",
    "The join() method is rather complicated, so let us guide you step by step thorough it:\n",
    "\n",
    "    as its name suggests, the method performs a join - it expects one argument as a list; it must be assured that all the list's elements are strings - the method will raise a TypeError exception otherwise;\n",
    "    all the list's elements will be joined into one string but...\n",
    "    ...the string from which the method has been invoked is used as a separator, put among the strings;\n",
    "    the newly created string is returned as a result.\n"
   ]
  },
  {
   "cell_type": "code",
   "execution_count": 63,
   "id": "57e99fce-4de3-4444-b085-af11637630cf",
   "metadata": {},
   "outputs": [
    {
     "name": "stdout",
     "output_type": "stream",
     "text": [
      "omicron,pi,rho\n"
     ]
    }
   ],
   "source": [
    "# Demonstrating the join() method:\n",
    "print(\",\".join([\"omicron\", \"pi\", \"rho\"]))\n"
   ]
  },
  {
   "cell_type": "markdown",
   "id": "a57b0691-23e7-4e55-8e97-0099c83e268b",
   "metadata": {},
   "source": [
    "### The lower() method\n",
    "\n",
    "The lower() method makes a copy of a source string, replaces all upper-case letters with their lower-case counterparts, and returns the string as the result. Again, the source string remains untouched.\n",
    "\n",
    "If the string doesn't contain any upper-case characters, the method returns the original string.\n",
    "\n",
    "Note: The lower() method doesn't take any parameters.\n",
    "\n",
    "The example in the editor outputs:"
   ]
  },
  {
   "cell_type": "code",
   "execution_count": 64,
   "id": "a13880f5-549c-4e46-91c3-41f7a0614f37",
   "metadata": {},
   "outputs": [
    {
     "name": "stdout",
     "output_type": "stream",
     "text": [
      "sigma=60\n"
     ]
    }
   ],
   "source": [
    "# Demonstrating the lower() method:\n",
    "print(\"SiGmA=60\".lower())\n"
   ]
  },
  {
   "cell_type": "markdown",
   "id": "5c038b2a-02ba-45b0-bdc0-b5b0442649a1",
   "metadata": {},
   "source": [
    "### The lstrip() method\n",
    "\n",
    "The parameterless lstrip() method returns a newly created string formed from the original one by removing all leading whitespaces.\n",
    "\n",
    "Analyze the example code in the editor.\n",
    "\n",
    "The brackets are not a part of the result - they only show the result's boundaries."
   ]
  },
  {
   "cell_type": "code",
   "execution_count": 68,
   "id": "ae2a18c8-27b5-48fb-a5a3-901a319796cf",
   "metadata": {},
   "outputs": [
    {
     "name": "stdout",
     "output_type": "stream",
     "text": [
      "[tau ]\n"
     ]
    }
   ],
   "source": [
    " # Demonstrating the lstrip() method:\n",
    "print(\"[\" + \" tau \".lstrip() + \"]\")\n"
   ]
  },
  {
   "cell_type": "markdown",
   "id": "625022a3-3ec0-4904-9a93-da491d969d4d",
   "metadata": {},
   "source": [
    "The one-parameter lstrip() method does the same as its parameterless version, but removes all characters enlisted in its argument (a string), not just whitespaces:"
   ]
  },
  {
   "cell_type": "code",
   "execution_count": 72,
   "id": "3cdac7f0-22fa-4fc0-829b-2e3759f24cbb",
   "metadata": {},
   "outputs": [
    {
     "name": "stdout",
     "output_type": "stream",
     "text": [
      "cisco.com\n"
     ]
    }
   ],
   "source": [
    "print(\"www.cisco.com\".lstrip(\"w.\"))\n",
    "\n"
   ]
  },
  {
   "cell_type": "code",
   "execution_count": 82,
   "id": "a8190604-5624-4293-851e-d4fa87a2b262",
   "metadata": {},
   "outputs": [
    {
     "name": "stdout",
     "output_type": "stream",
     "text": [
      "pythoninstitute.org\n"
     ]
    }
   ],
   "source": [
    "print(\"pythoninstitute.org\".lstrip(\"org.\"))\n",
    "\n"
   ]
  },
  {
   "cell_type": "markdown",
   "id": "9b921d0e-06c2-4526-9254-bcfd77bbe440",
   "metadata": {},
   "source": [
    "### The replace() method\n",
    "\n",
    "The two-parameter replace() method returns a copy of the original string in which all occurrences of the first argument have been replaced by the second argument.\n",
    "\n",
    "Look at the example code in the editor. "
   ]
  },
  {
   "cell_type": "code",
   "execution_count": 85,
   "id": "383c365b-514e-4697-aa12-b7456d506499",
   "metadata": {},
   "outputs": [
    {
     "name": "stdout",
     "output_type": "stream",
     "text": [
      "www.pythoninstitute.org\n",
      "Thare are it!\n",
      "Apple  \n"
     ]
    }
   ],
   "source": [
    "# Demonstrating the replace() method:\n",
    "print(\"www.netacad.com\".replace(\"netacad.com\", \"pythoninstitute.org\"))\n",
    "print(\"This is it!\".replace(\"is\", \"are\"))\n",
    "print(\"Apple juice\".replace(\"juice\", \" \"))\n"
   ]
  },
  {
   "cell_type": "code",
   "execution_count": 86,
   "id": "6afd11d3-ccac-4eeb-b79d-79bed3069355",
   "metadata": {},
   "outputs": [
    {
     "name": "stdout",
     "output_type": "stream",
     "text": [
      "Thare is it!\n",
      "Thare are it!\n"
     ]
    }
   ],
   "source": [
    "print(\"This is it!\".replace(\"is\", \"are\", 1))\n",
    "print(\"This is it!\".replace(\"is\", \"are\", 2))\n",
    "\n"
   ]
  },
  {
   "cell_type": "markdown",
   "id": "fcacb722-4bda-450e-bbe7-1d80d67c157d",
   "metadata": {},
   "source": [
    "### The rfind() method\n",
    "\n",
    "The one-, two-, and three-parameter methods named rfind() do nearly the same things as their counterparts (the ones devoid of the r prefix), but start their searches from the end of the string, not the beginning (hence the prefix r, for right).\n",
    "\n",
    "Take a look at the example code in the editor and try to predict its output. Run the code to check if you were right."
   ]
  },
  {
   "cell_type": "code",
   "execution_count": 87,
   "id": "7483cd2a-d7b3-43d9-88db-2610cd1254e0",
   "metadata": {},
   "outputs": [
    {
     "name": "stdout",
     "output_type": "stream",
     "text": [
      "8\n",
      "-1\n",
      "4\n"
     ]
    }
   ],
   "source": [
    "# Demonstrating the rfind() method:\n",
    "print(\"tau tau tau\".rfind(\"ta\"))\n",
    "print(\"tau tau tau\".rfind(\"ta\", 9))\n",
    "print(\"tau tau tau\".rfind(\"ta\", 3, 9))\n"
   ]
  },
  {
   "cell_type": "markdown",
   "id": "0137317d-29cc-45f7-a753-7535f25b8eb7",
   "metadata": {},
   "source": [
    "### The rstrip() method\n",
    "\n",
    "Two variants of the rstrip() method do nearly the same as lstrips, but affect the opposite side of the string.\n",
    "\n",
    "Look at the code example in the editor. Can you guess its output? Run the code to check your guesses."
   ]
  },
  {
   "cell_type": "code",
   "execution_count": 98,
   "id": "2f3cf80e-8168-462b-8879-92af4425b3eb",
   "metadata": {},
   "outputs": [
    {
     "name": "stdout",
     "output_type": "stream",
     "text": [
      "[ upsilon]\n",
      "cis\n"
     ]
    }
   ],
   "source": [
    "# Demonstrating the rstrip() method:\n",
    "print(\"[\" + \" upsilon \".rstrip() + \"]\")\n",
    "print(\"cisco.com\".rstrip(\".com\"))\n"
   ]
  },
  {
   "cell_type": "markdown",
   "id": "38c0aadf-becf-47a5-8c7b-a67715ed586e",
   "metadata": {},
   "source": [
    "### The split() method\n",
    "\n",
    "The split() method does what it says - it splits the string and builds a list of all detected substrings.\n",
    "\n",
    "The method assumes that the substrings are delimited by whitespaces - the spaces don't take part in the operation, and aren't copied into the resulting list.\n",
    "\n",
    "If the string is empty, the resulting list is empty too."
   ]
  },
  {
   "cell_type": "code",
   "execution_count": 107,
   "id": "c7ffaf11-539e-403d-8d30-a60f462527b7",
   "metadata": {},
   "outputs": [
    {
     "name": "stdout",
     "output_type": "stream",
     "text": [
      "['phi', 'chi', 'psi']\n"
     ]
    }
   ],
   "source": [
    "# Demonstrating the split() method:\n",
    "print(\"phi       chi\\npsi\".split())\n"
   ]
  },
  {
   "cell_type": "code",
   "execution_count": 111,
   "id": "157055cd-5917-4d58-bc69-ba2e78a6ba88",
   "metadata": {},
   "outputs": [
    {
     "name": "stdout",
     "output_type": "stream",
     "text": [
      "omicron,pi,rho\n"
     ]
    }
   ],
   "source": [
    "# Demonstrating the join() method:\n",
    "print(\",\".join([\"omicron\", \"pi\", \"rho\"]))\n"
   ]
  },
  {
   "cell_type": "markdown",
   "id": "35e474ca-49db-4b88-952c-da1e7d30a608",
   "metadata": {},
   "source": [
    "### The startswith() method\n",
    "\n",
    "The startswith() method is a mirror reflection of endswith() - it checks if a given string starts with the specified substring."
   ]
  },
  {
   "cell_type": "code",
   "execution_count": 120,
   "id": "7d202c34-9a68-4d66-97df-289594d30cc4",
   "metadata": {},
   "outputs": [
    {
     "name": "stdout",
     "output_type": "stream",
     "text": [
      "False\n",
      "True\n"
     ]
    }
   ],
   "source": [
    "# Demonstrating the startswith() method:\n",
    "print(\"omega\".startswith(\"meg\"))\n",
    "print(\"omega\".startswith(\"om\"))\n",
    "\n"
   ]
  },
  {
   "cell_type": "markdown",
   "id": "5c3473a5-f549-4eed-813e-919dfc82e877",
   "metadata": {},
   "source": [
    "### The strip() method\n",
    "\n",
    "The strip() method combines the effects caused by rstrip() and lstrip() - it makes a new string lacking all the leading and trailing whitespaces."
   ]
  },
  {
   "cell_type": "code",
   "execution_count": 121,
   "id": "a9bb4c6d-36a0-462d-8559-42a934c4aeb2",
   "metadata": {},
   "outputs": [
    {
     "name": "stdout",
     "output_type": "stream",
     "text": [
      "[aleph]\n"
     ]
    }
   ],
   "source": [
    "# Demonstrating the strip() method:\n",
    "print(\"[\" + \"   aleph   \".strip() + \"]\")\n"
   ]
  },
  {
   "cell_type": "markdown",
   "id": "9791f7b9-edb5-4a2c-9651-48a73fcdef79",
   "metadata": {},
   "source": [
    "### The swapcase() method\n",
    "\n",
    "The swapcase() method makes a new string by swapping the case of all letters within the source string: lower-case characters become upper-case, and vice versa.\n",
    "\n",
    "All other characters remain untouched."
   ]
  },
  {
   "cell_type": "code",
   "execution_count": 124,
   "id": "69850a60-c582-4491-a325-18d9dcbfa2d6",
   "metadata": {},
   "outputs": [
    {
     "name": "stdout",
     "output_type": "stream",
     "text": [
      "i KNOW THAT i KNOW NOTHING.\n",
      "\n"
     ]
    }
   ],
   "source": [
    "# Demonstrating the swapcase() method:\n",
    "print(\"I know that I know nothing.\".swapcase())\n",
    "\n",
    "print()"
   ]
  },
  {
   "cell_type": "markdown",
   "id": "6a4453c0-b2f5-4de9-b0dc-d34d1e5ff664",
   "metadata": {},
   "source": [
    "### The title() method\n",
    "\n",
    "The title() method performs a somewhat similar function - it changes every word's first letter to upper-case, turning all other ones to lower-case."
   ]
  },
  {
   "cell_type": "code",
   "execution_count": 125,
   "id": "02927ff3-6dce-4350-9dc1-7830bc591995",
   "metadata": {},
   "outputs": [
    {
     "name": "stdout",
     "output_type": "stream",
     "text": [
      "I Know That I Know Nothing. Part 1.\n",
      "\n"
     ]
    }
   ],
   "source": [
    "# Demonstrating the title() method:\n",
    "print(\"I know that I know nothing. Part 1.\".title())\n",
    "\n",
    "print()"
   ]
  },
  {
   "cell_type": "markdown",
   "id": "37e7eb35-a3e7-4572-ae5d-e581ca226a7d",
   "metadata": {},
   "source": [
    "### The upper() method\n",
    "\n",
    "Last but not least, the upper() method makes a copy of the source string, replaces all lower-case letters with their upper-case counterparts, and returns the string as the result."
   ]
  },
  {
   "cell_type": "code",
   "execution_count": 127,
   "id": "f9b1bcfe-38ab-404e-99e3-a3c79ffd0c00",
   "metadata": {},
   "outputs": [
    {
     "name": "stdout",
     "output_type": "stream",
     "text": [
      "I KNOW THAT I KNOW NOTHING. PART 2.\n"
     ]
    }
   ],
   "source": [
    "# Demonstrating the upper() method:\n",
    "print(\"I know that I know nothing. Part 2.\".upper())\n"
   ]
  },
  {
   "cell_type": "code",
   "execution_count": 128,
   "id": "61a480b5-ec73-4bef-9248-dd794f56ff38",
   "metadata": {},
   "outputs": [
    {
     "name": "stdout",
     "output_type": "stream",
     "text": [
      "i know that i know nothing. part 2.\n"
     ]
    }
   ],
   "source": [
    "# Demonstrating the lower() method:\n",
    "print(\"I know that I know nothing. Part 2.\".lower())\n"
   ]
  },
  {
   "cell_type": "code",
   "execution_count": null,
   "id": "9ce0ffe5-8a70-4f76-b859-95ab297e313b",
   "metadata": {},
   "outputs": [],
   "source": []
  },
  {
   "cell_type": "markdown",
   "id": "780efd90-0d0b-4a07-afb6-12790d0513b4",
   "metadata": {},
   "source": [
    "#### 1. Some of the methods offered by strings are:\n",
    "\n",
    "    capitalize() – changes all string letters to capitals;\n",
    "    center() – centers the string inside the field of a known length;\n",
    "    count() – counts the occurrences of a given character;\n",
    "    join() – joins all items of a tuple/list into one string;\n",
    "    lower() – converts all the string's letters into lower-case letters;\n",
    "    lstrip() – removes the white characters from the beginning of the string;\n",
    "    replace() – replaces a given substring with another;\n",
    "    rfind() – finds a substring starting from the end of the string;\n",
    "    rstrip() – removes the trailing white spaces from the end of the string;\n",
    "    split() – splits the string into a substring using a given delimiter;\n",
    "    strip() – removes the leading and trailing white spaces;\n",
    "    swapcase() – swaps the letters' cases (lower to upper and vice versa)\n",
    "    title() – makes the first letter in each word upper-case;\n",
    "    upper() – converts all the string's letter into upper-case letters.\n",
    "\n"
   ]
  },
  {
   "cell_type": "markdown",
   "id": "7f73a9d2-3a0c-43c4-9cb6-86451afaaf0e",
   "metadata": {},
   "source": [
    "#### 2. String content can be determined using the following methods (all of them return Boolean values):\n",
    "\n",
    "    endswith() – does the string end with a given substring?\n",
    "    isalnum() – does the string consist only of letters and digits?\n",
    "    isalpha() – does the string consist only of letters?\n",
    "    islower() – does the string consists only of lower-case letters?\n",
    "    isspace() – does the string consists only of white spaces?\n",
    "    isupper() – does the string consists only of upper-case letters?\n",
    "    startswith() – does the string begin with a given substring?\n",
    "\n"
   ]
  },
  {
   "cell_type": "code",
   "execution_count": null,
   "id": "642f436d-3ae0-43c2-a966-d3ebf8a6792c",
   "metadata": {},
   "outputs": [],
   "source": []
  },
  {
   "cell_type": "code",
   "execution_count": null,
   "id": "4fa76aa6-1507-4738-a5a9-977a75abf1af",
   "metadata": {},
   "outputs": [],
   "source": []
  },
  {
   "cell_type": "code",
   "execution_count": 133,
   "id": "fb21d147-dbab-4d8d-afc5-f8f7787533b5",
   "metadata": {},
   "outputs": [
    {
     "name": "stdout",
     "output_type": "stream",
     "text": [
      "['To', 'be', 'or', 'not', 'to', 'be,', 'that', 'is', 'the', 'question']\n",
      "['To', 'be', 'or', 'not', 'to', 'be,that', 'is', 'the', 'question']\n",
      "[]\n",
      "['abc']\n",
      "[]\n"
     ]
    }
   ],
   "source": [
    "def mysplit(strng):\n",
    "    if strng.strip() == \"\":\n",
    "        return []\n",
    "    \n",
    "    return strng.split()\n",
    "\n",
    "\n",
    "    \n",
    "\n",
    "\n",
    "print(mysplit(\"To be or not to be, that is the question\"))\n",
    "print(mysplit(\"To be or not to be,that is the question\"))\n",
    "print(mysplit(\"   \"))\n",
    "print(mysplit(\" abc \"))\n",
    "print(mysplit(\"\"))\n"
   ]
  },
  {
   "cell_type": "code",
   "execution_count": 134,
   "id": "c69347c9-58e4-42cb-84fe-06363d97faff",
   "metadata": {},
   "outputs": [
    {
     "name": "stdout",
     "output_type": "stream",
     "text": [
      "['To', 'be', 'or', 'not', 'to', 'be,', 'that', 'is', 'the', 'question']\n",
      "['To', 'be', 'or', 'not', 'to', 'be,that', 'is', 'the', 'question']\n",
      "[]\n",
      "['abc']\n",
      "[]\n"
     ]
    }
   ],
   "source": [
    "def mysplit(strng):\n",
    "    # return [] if string is empty or contains whitespaces only\n",
    "    if strng == '' or strng.isspace():\n",
    "        return [ ]\n",
    "    # prepare a list to return\n",
    "    lst = []\n",
    "    # prepare a word to build subsequent words\n",
    "    word = ''\n",
    "    # check if we are currently inside a word (i.e., if the string starts with a word)\n",
    "    inword = not strng[0].isspace()\n",
    "    # iterate through all the characters in string\n",
    "    for x in strng:\n",
    "        # if we are currently inside a string...\n",
    "        if inword:\n",
    "            # ... and current character is not a space...\n",
    "            if not x.isspace():\n",
    "                # ... update current word\n",
    "                word = word + x\n",
    "            else:\n",
    "                # ... otherwise, we reached the end of the word so we need to append it to the list...\n",
    "                lst.append(word)\n",
    "                # ... and signal a fact that we are outside the word now\n",
    "                inword = False\n",
    "        else:\n",
    "            # if we are outside the word and we reached a non-white character...\n",
    "            if not x.isspace():\n",
    "                # ... it means that a new word has begun so we need to remember it and...\n",
    "                inword = True\n",
    "                # ... store the first letter of the new word\n",
    "                word = x\n",
    "            else:\n",
    "                pass\n",
    "    # if we left the string and there is a non-empty string in word, we need to update the list\n",
    "    if inword:\n",
    "        lst.append(word)\n",
    "    # return the list to invoker\n",
    "    return lst\n",
    "\n",
    "\n",
    "print(mysplit(\"To be or not to be, that is the question\"))\n",
    "print(mysplit(\"To be or not to be,that is the question\"))\n",
    "print(mysplit(\"   \"))\n",
    "print(mysplit(\" abc \"))\n",
    "print(mysplit(\"\"))\n"
   ]
  },
  {
   "cell_type": "code",
   "execution_count": 135,
   "id": "2ae891a0-4291-4d60-8f7c-e320ad5d1697",
   "metadata": {},
   "outputs": [
    {
     "name": "stdout",
     "output_type": "stream",
     "text": [
      "['To', 'be', 'or', 'not', 'to', 'be,', 'that', 'is', 'the', 'question']\n",
      "['To', 'be', 'or', 'not', 'to', 'be,that', 'is', 'the', 'question']\n",
      "[]\n",
      "['abc']\n",
      "[]\n"
     ]
    }
   ],
   "source": [
    "def mysplit(strng):\n",
    "    # Check if the input string is empty or contains only whitespace\n",
    "    if not strng or strng.isspace():\n",
    "        return []\n",
    "    \n",
    "    result = []\n",
    "    word = \"\"\n",
    "    \n",
    "    for char in strng:\n",
    "        if char.isspace():\n",
    "            if word:  # If there is a word collected before a space\n",
    "                result.append(word)\n",
    "                word = \"\"  # Reset word\n",
    "        else:\n",
    "            word += char  # Collect characters for the word\n",
    "    \n",
    "    if word:  # If the last word wasn't added\n",
    "        result.append(word)\n",
    "    \n",
    "    return result\n",
    "\n",
    "# Test cases\n",
    "print(mysplit(\"To be or not to be, that is the question\"))\n",
    "print(mysplit(\"To be or not to be,that is the question\"))\n",
    "print(mysplit(\"   \"))\n",
    "print(mysplit(\" abc \"))\n",
    "print(mysplit(\"\"))\n"
   ]
  },
  {
   "cell_type": "code",
   "execution_count": null,
   "id": "0f84d046-c52e-41ab-a52d-0f63263f59fe",
   "metadata": {},
   "outputs": [],
   "source": []
  },
  {
   "cell_type": "markdown",
   "id": "0edf0dd6-4046-4c53-9ed8-525c94e12496",
   "metadata": {},
   "source": [
    "### Comparing strings\n",
    "\n",
    "Python's strings can be compared using the same set of operators which are in use in relation to numbers.\n",
    "\n",
    "Take a look at these operators - they can all compare strings, too:\n",
    "\n",
    "    ==\n",
    "    !=\n",
    "    >\n",
    "    >=\n",
    "    <\n",
    "    <=\n",
    "\n",
    "There is one \"but\" - the results of such comparisons may sometimes be a bit surprising. Don't forget that Python is not aware (it cannot be in any way) of subtle linguistic issues - it just compares code point values, character by character.\n",
    "\n",
    "The results you get from such an operation are sometimes astonishing. Let's start with the simplest cases.\n",
    "\n",
    "Two strings are equal when they consist of the same characters in the same order. By the same fashion, two strings are not equal when they don't consist of the same characters in the same order.\n",
    "\n",
    "Both comparisons give True as a result:\n"
   ]
  },
  {
   "cell_type": "code",
   "execution_count": 3,
   "id": "a247387a-5615-471b-83a3-550791b7230c",
   "metadata": {},
   "outputs": [
    {
     "data": {
      "text/plain": [
       "True"
      ]
     },
     "execution_count": 3,
     "metadata": {},
     "output_type": "execute_result"
    }
   ],
   "source": [
    "'alpha' == 'alpha' \n",
    "'alpha' != 'Alpha'"
   ]
  },
  {
   "cell_type": "markdown",
   "id": "b6882cd6-dac2-42a9-8e8d-634b19b2ee83",
   "metadata": {},
   "source": [
    "Even if a string contains digits only, it's still not a number. It's interpreted as-is, like any other regular string, and its (potential) numerical aspect is not taken into consideration in any way.\n",
    "\n",
    "Look at the examples:"
   ]
  },
  {
   "cell_type": "code",
   "execution_count": 6,
   "id": "823fae94-658c-4a90-9992-4b04bd162710",
   "metadata": {},
   "outputs": [
    {
     "data": {
      "text/plain": [
       "False"
      ]
     },
     "execution_count": 6,
     "metadata": {},
     "output_type": "execute_result"
    }
   ],
   "source": [
    "'10' == '010'"
   ]
  },
  {
   "cell_type": "code",
   "execution_count": 7,
   "id": "31432939-39c9-4e33-8f7f-13107d3db99c",
   "metadata": {},
   "outputs": [
    {
     "data": {
      "text/plain": [
       "True"
      ]
     },
     "execution_count": 7,
     "metadata": {},
     "output_type": "execute_result"
    }
   ],
   "source": [
    "'10' > '010'"
   ]
  },
  {
   "cell_type": "code",
   "execution_count": 9,
   "id": "02ca065e-feba-40f2-b206-1b534784ed2a",
   "metadata": {},
   "outputs": [
    {
     "data": {
      "text/plain": [
       "False"
      ]
     },
     "execution_count": 9,
     "metadata": {},
     "output_type": "execute_result"
    }
   ],
   "source": [
    "'10' > '8'"
   ]
  },
  {
   "cell_type": "code",
   "execution_count": 10,
   "id": "8f5e2d95-0f12-4baf-acb4-0d05bd135689",
   "metadata": {},
   "outputs": [
    {
     "data": {
      "text/plain": [
       "True"
      ]
     },
     "execution_count": 10,
     "metadata": {},
     "output_type": "execute_result"
    }
   ],
   "source": [
    "'20' < '8'"
   ]
  },
  {
   "cell_type": "code",
   "execution_count": 11,
   "id": "ee425a9d-d525-47f8-aefa-e2c8a68cc07c",
   "metadata": {},
   "outputs": [
    {
     "data": {
      "text/plain": [
       "True"
      ]
     },
     "execution_count": 11,
     "metadata": {},
     "output_type": "execute_result"
    }
   ],
   "source": [
    "'20' < '80'"
   ]
  },
  {
   "cell_type": "markdown",
   "id": "66df1040-fc48-44ae-a3c6-93e04df14ae5",
   "metadata": {},
   "source": [
    "paring strings against numbers is generally a bad idea.\n",
    "\n",
    "The only comparisons you can perform with impunity are these symbolized by the == and != operators. The former always gives False, while the latter always produces True.\n",
    "\n",
    "Using any of the remaining comparison operators will raise a TypeError exception."
   ]
  },
  {
   "cell_type": "code",
   "execution_count": 13,
   "id": "6f190146-04b7-4e7b-b1b9-c061f3b3309d",
   "metadata": {},
   "outputs": [
    {
     "data": {
      "text/plain": [
       "False"
      ]
     },
     "execution_count": 13,
     "metadata": {},
     "output_type": "execute_result"
    }
   ],
   "source": [
    "'10' == 10"
   ]
  },
  {
   "cell_type": "code",
   "execution_count": 14,
   "id": "ccfcf1ff-966d-46f6-94ec-5cd59f8fe090",
   "metadata": {},
   "outputs": [
    {
     "data": {
      "text/plain": [
       "True"
      ]
     },
     "execution_count": 14,
     "metadata": {},
     "output_type": "execute_result"
    }
   ],
   "source": [
    "'10' != 10\n"
   ]
  },
  {
   "cell_type": "code",
   "execution_count": 15,
   "id": "f2cf4ec1-f968-4348-a629-d6af91008c62",
   "metadata": {},
   "outputs": [
    {
     "data": {
      "text/plain": [
       "False"
      ]
     },
     "execution_count": 15,
     "metadata": {},
     "output_type": "execute_result"
    }
   ],
   "source": [
    "'10' == 1"
   ]
  },
  {
   "cell_type": "code",
   "execution_count": 16,
   "id": "bd43b925-8f14-4452-b82f-71af33280a04",
   "metadata": {},
   "outputs": [
    {
     "data": {
      "text/plain": [
       "True"
      ]
     },
     "execution_count": 16,
     "metadata": {},
     "output_type": "execute_result"
    }
   ],
   "source": [
    "'10' != 1\n"
   ]
  },
  {
   "cell_type": "code",
   "execution_count": 17,
   "id": "3af385a3-79b6-42ca-bf1a-ea143d003bf0",
   "metadata": {},
   "outputs": [
    {
     "ename": "TypeError",
     "evalue": "'>' not supported between instances of 'str' and 'int'",
     "output_type": "error",
     "traceback": [
      "\u001b[1;31m---------------------------------------------------------------------------\u001b[0m",
      "\u001b[1;31mTypeError\u001b[0m                                 Traceback (most recent call last)",
      "Cell \u001b[1;32mIn[17], line 1\u001b[0m\n\u001b[1;32m----> 1\u001b[0m \u001b[38;5;124m'\u001b[39m\u001b[38;5;124m10\u001b[39m\u001b[38;5;124m'\u001b[39m \u001b[38;5;241m>\u001b[39m \u001b[38;5;241m10\u001b[39m\n",
      "\u001b[1;31mTypeError\u001b[0m: '>' not supported between instances of 'str' and 'int'"
     ]
    }
   ],
   "source": [
    "'10' > 10\n"
   ]
  },
  {
   "cell_type": "markdown",
   "id": "33a5d560-2d7d-493a-bc90-5cb2f08bb60b",
   "metadata": {},
   "source": [
    "### Sorting\n",
    "\n",
    "Comparing is closely related to sorting (or rather, sorting is in fact a very sophisticated case of comparing).\n",
    "\n",
    "This is a good opportunity to show you two possible ways to sort lists containing strings. Such an operation is very common in the real world - any time you see a list of names, goods, titles, or cities, you expect them to be sorted.\n",
    "\n",
    "Let's assume that you want to sort the following list:"
   ]
  },
  {
   "cell_type": "code",
   "execution_count": 20,
   "id": "2275e2c7-69dc-4e7a-9159-fd84db0ea132",
   "metadata": {},
   "outputs": [
    {
     "name": "stdout",
     "output_type": "stream",
     "text": [
      "['omega', 'alpha', 'pi', 'gamma']\n",
      "['alpha', 'gamma', 'omega', 'pi']\n"
     ]
    }
   ],
   "source": [
    "# Demonstrating the sorted() function:\n",
    "first_greek = ['omega', 'alpha', 'pi', 'gamma']\n",
    "first_greek_2 = sorted(first_greek)\n",
    "\n",
    "print(first_greek)\n",
    "print(first_greek_2)\n",
    "\n"
   ]
  },
  {
   "cell_type": "code",
   "execution_count": 21,
   "id": "db5f2faf-d45b-4a57-83ca-c35c816c12df",
   "metadata": {},
   "outputs": [
    {
     "name": "stdout",
     "output_type": "stream",
     "text": [
      "['omega', 'alpha', 'pi', 'gamma']\n",
      "['alpha', 'gamma', 'omega', 'pi']\n"
     ]
    }
   ],
   "source": [
    "# Demonstrating the sort() method:\n",
    "second_greek = ['omega', 'alpha', 'pi', 'gamma']\n",
    "print(second_greek)\n",
    "\n",
    "second_greek.sort()\n",
    "print(second_greek)\n"
   ]
  },
  {
   "cell_type": "markdown",
   "id": "b481b15e-dbac-4148-ad3f-a66e6c7c8e92",
   "metadata": {},
   "source": [
    "### Strings vs. numbers\n",
    "\n",
    "There are two additional issues that should be discussed here: how to convert a number (an integer or a float) into a string, and vice versa. It may be necessary to perform such a transformation. Moreover, it's a routine way to process input/output data.\n",
    "\n",
    "The number-string conversion is simple, as it is always possible. It's done by a function named str()."
   ]
  },
  {
   "cell_type": "code",
   "execution_count": 22,
   "id": "5319eebb-9bb9-4a17-b74c-9fa8338cbe3f",
   "metadata": {},
   "outputs": [
    {
     "name": "stdout",
     "output_type": "stream",
     "text": [
      "13 1.3\n"
     ]
    }
   ],
   "source": [
    "itg = 13\n",
    "flt = 1.3\n",
    "si = str(itg)\n",
    "sf = str(flt)\n",
    "\n",
    "print(si + ' ' + sf)\n",
    "\n"
   ]
  },
  {
   "cell_type": "markdown",
   "id": "9e1ac12c-e0bd-482a-a449-4e270b941ed8",
   "metadata": {},
   "source": [
    "The reverse transformation (string-number) is possible when and only when the string represents a valid number. If the condition is not met, expect a ValueError exception.\n",
    "\n",
    "Use the int() function if you want to get an integer, and float() if you need a floating-point value.\n",
    "\n",
    "Just like here:"
   ]
  },
  {
   "cell_type": "code",
   "execution_count": 23,
   "id": "b0c9672f-9f79-4c0e-bdc4-f23fbf58eb2b",
   "metadata": {},
   "outputs": [
    {
     "name": "stdout",
     "output_type": "stream",
     "text": [
      "14.3\n"
     ]
    }
   ],
   "source": [
    "si = '13'\n",
    "sf = '1.3'\n",
    "itg = int(si)\n",
    "flt = float(sf)\n",
    "\n",
    "print(itg + flt)\n",
    "\n"
   ]
  },
  {
   "cell_type": "code",
   "execution_count": 24,
   "id": "87088c1d-53c8-4842-b534-ebd255964b80",
   "metadata": {},
   "outputs": [
    {
     "data": {
      "text/plain": [
       "True"
      ]
     },
     "execution_count": 24,
     "metadata": {},
     "output_type": "execute_result"
    }
   ],
   "source": [
    "'smith' > 'Smith'"
   ]
  },
  {
   "cell_type": "code",
   "execution_count": 25,
   "id": "c5c06360-b1af-4d45-9ce0-5e31d99b666b",
   "metadata": {},
   "outputs": [
    {
     "data": {
      "text/plain": [
       "False"
      ]
     },
     "execution_count": 25,
     "metadata": {},
     "output_type": "execute_result"
    }
   ],
   "source": [
    "'Smiths' < 'Smith'"
   ]
  },
  {
   "cell_type": "code",
   "execution_count": 26,
   "id": "94373c92-8db9-486f-b8dd-d5de12b70d45",
   "metadata": {},
   "outputs": [
    {
     "data": {
      "text/plain": [
       "True"
      ]
     },
     "execution_count": 26,
     "metadata": {},
     "output_type": "execute_result"
    }
   ],
   "source": [
    "'Smith' > '1000'"
   ]
  },
  {
   "cell_type": "code",
   "execution_count": 27,
   "id": "b00aa973-e924-4dcf-9f04-6f65b667d3a8",
   "metadata": {},
   "outputs": [
    {
     "data": {
      "text/plain": [
       "True"
      ]
     },
     "execution_count": 27,
     "metadata": {},
     "output_type": "execute_result"
    }
   ],
   "source": [
    "'11' < '8'"
   ]
  },
  {
   "cell_type": "code",
   "execution_count": 28,
   "id": "e9127988-6cc1-43f7-9b72-427ab6da3aeb",
   "metadata": {},
   "outputs": [
    {
     "name": "stdout",
     "output_type": "stream",
     "text": [
      "are\n"
     ]
    }
   ],
   "source": [
    "s1 = 'Where are the snows of yesteryear?'\n",
    "s2 = s1.split()\n",
    "s3 = sorted(s2)\n",
    "print(s3[1])\n"
   ]
  },
  {
   "cell_type": "code",
   "execution_count": 29,
   "id": "c689f082-9657-405b-be44-7849de286226",
   "metadata": {},
   "outputs": [
    {
     "name": "stdin",
     "output_type": "stream",
     "text": [
      "Enter the number you wish to display:  123\n"
     ]
    },
    {
     "name": "stdout",
     "output_type": "stream",
     "text": [
      "  # ### ### \n",
      "  #   #   # \n",
      "  # ### ### \n",
      "  # #     # \n",
      "  # ### ### \n"
     ]
    }
   ],
   "source": [
    "digits = [ '1111110',  \t# 0\n",
    "\t   '0110000',\t# 1\n",
    "\t   '1101101',\t# 2\n",
    "\t   '1111001',\t# 3\n",
    "\t   '0110011',\t# 4\n",
    "\t   '1011011',\t# 5\n",
    "\t   '1011111',\t# 6\n",
    "\t   '1110000',\t# 7\n",
    "\t   '1111111',\t# 8\n",
    "\t   '1111011',\t# 9\n",
    "\t   ]\n",
    "\n",
    "\n",
    "def print_number(num):\n",
    "\tglobal digits\n",
    "\tdigs = str(num)\n",
    "\tlines = [ '' for lin in range(5) ]\n",
    "\tfor d in digs:\n",
    "\t\tsegs = [ [' ',' ',' '] for lin in range(5) ]\n",
    "\t\tptrn = digits[ord(d) - ord('0')]\n",
    "\t\tif ptrn[0] == '1':\n",
    "\t\t\tsegs[0][0] = segs[0][1] = segs[0][2] = '#'\n",
    "\t\tif ptrn[1] == '1':\n",
    "\t\t\tsegs[0][2] = segs[1][2] = segs[2][2] = '#'\n",
    "\t\tif ptrn[2] == '1':\n",
    "\t\t\tsegs[2][2] = segs[3][2] = segs[4][2] = '#'\n",
    "\t\tif ptrn[3] == '1':\n",
    "\t\t\tsegs[4][0] = segs[4][1] = segs[4][2] = '#'\n",
    "\t\tif ptrn[4] == '1':\n",
    "\t\t\tsegs[2][0] = segs[3][0] = segs[4][0] = '#'\n",
    "\t\tif ptrn[5] == '1':\n",
    "\t\t\tsegs[0][0] = segs[1][0] = segs[2][0] = '#'\n",
    "\t\tif ptrn[6] == '1':\n",
    "\t\t\tsegs[2][0] = segs[2][1] = segs[2][2] = '#'\n",
    "\t\tfor lin in range(5):\n",
    "\t\t\tlines[lin] += ''.join(segs[lin]) + ' '\n",
    "\tfor lin in lines:\n",
    "\t\tprint(lin)\n",
    "\n",
    "\n",
    "print_number(int(input(\"Enter the number you wish to display: \")))\n"
   ]
  },
  {
   "cell_type": "code",
   "execution_count": 40,
   "id": "573542d0-b9b9-472e-8539-492abc596997",
   "metadata": {},
   "outputs": [
    {
     "name": "stdin",
     "output_type": "stream",
     "text": [
      "Enter a non-negative integer:  123\n"
     ]
    },
    {
     "name": "stdout",
     "output_type": "stream",
     "text": [
      "   #     #  ### ###    ### ###   \n",
      "   #     #      #   #      #   # \n",
      "   #     #  ### ###    ### ###   \n",
      "   #     #  #       #      #   # \n",
      "   #     #  ### ###    ### ###   \n"
     ]
    }
   ],
   "source": [
    "# LED patterns for each digit from 0 to 9\n",
    "led_patterns = {\n",
    "    '0': [\n",
    "        \" # ### ### \",\n",
    "        \" # #   # # \",\n",
    "        \" # #   # # \",\n",
    "        \" # #   # # \",\n",
    "        \" # ### ### \"\n",
    "    ],\n",
    "    '1': [\n",
    "        \"   #     # \",\n",
    "        \"   #     # \",\n",
    "        \"   #     # \",\n",
    "        \"   #     # \",\n",
    "        \"   #     # \"\n",
    "    ],\n",
    "    '2': [\n",
    "        \" ### ###   \",\n",
    "        \"     #   # \",\n",
    "        \" ### ###   \",\n",
    "        \" #       # \",\n",
    "        \" ### ###   \"\n",
    "    ],\n",
    "    '3': [\n",
    "        \" ### ###   \",\n",
    "        \"     #   # \",\n",
    "        \" ### ###   \",\n",
    "        \"     #   # \",\n",
    "        \" ### ###   \"\n",
    "    ],\n",
    "    '4': [\n",
    "        \" #   # ### \",\n",
    "        \" #   #   # \",\n",
    "        \" ### ###   \",\n",
    "        \"     #   # \",\n",
    "        \"     #   # \"\n",
    "    ],\n",
    "    '5': [\n",
    "        \" ### ###   \",\n",
    "        \" #       # \",\n",
    "        \" ### ###   \",\n",
    "        \"     #   # \",\n",
    "        \" ### ###   \"\n",
    "    ],\n",
    "    '6': [\n",
    "        \" ### ###   \",\n",
    "        \" #       # \",\n",
    "        \" ### ###   \",\n",
    "        \" #   #   # \",\n",
    "        \" ### ###   \"\n",
    "    ],\n",
    "    '7': [\n",
    "        \" ### ###   \",\n",
    "        \"     #   # \",\n",
    "        \"     #   # \",\n",
    "        \"     #   # \",\n",
    "        \"     #   # \"\n",
    "    ],\n",
    "    '8': [\n",
    "        \" ### ###   \",\n",
    "        \" #   #   # \",\n",
    "        \" ### ###   \",\n",
    "        \" #   #   # \",\n",
    "        \" ### ###   \"\n",
    "    ],\n",
    "    '9': [\n",
    "        \" ### ###   \",\n",
    "        \" #   #   # \",\n",
    "        \" ### ###   \",\n",
    "        \"     #   # \",\n",
    "        \" ### ###   \"\n",
    "    ]\n",
    "}\n",
    "\n",
    "def display_number(number):\n",
    "    # Convert the number to a string to easily access each digit\n",
    "    number_str = str(number)\n",
    "\n",
    "    # Each digit is represented by 5 rows\n",
    "    for row in range(5):\n",
    "        # For each row, print the corresponding part of each digit's LED pattern\n",
    "        row_str = \"\"\n",
    "        for digit in number_str:\n",
    "            row_str += led_patterns[digit][row]\n",
    "        print(row_str)\n",
    "\n",
    "# Ask the user to input a non-negative integer\n",
    "user_input = input(\"Enter a non-negative integer: \")\n",
    "\n",
    "# Display the number using the LED patterns\n",
    "display_number(user_input)\n"
   ]
  }
 ],
 "metadata": {
  "kernelspec": {
   "display_name": "Python 3 (ipykernel)",
   "language": "python",
   "name": "python3"
  },
  "language_info": {
   "codemirror_mode": {
    "name": "ipython",
    "version": 3
   },
   "file_extension": ".py",
   "mimetype": "text/x-python",
   "name": "python",
   "nbconvert_exporter": "python",
   "pygments_lexer": "ipython3",
   "version": "3.12.4"
  }
 },
 "nbformat": 4,
 "nbformat_minor": 5
}
