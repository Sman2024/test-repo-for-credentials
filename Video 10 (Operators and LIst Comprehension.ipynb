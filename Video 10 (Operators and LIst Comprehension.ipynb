{
 "cells": [
  {
   "cell_type": "code",
   "execution_count": null,
   "id": "1daa8de6-c1b6-4297-9d93-374c73810250",
   "metadata": {},
   "outputs": [],
   "source": [
    "# Comparison Opeators\n",
    "x=7\n",
    "y=3\n",
    "print(x==y)"
   ]
  },
  {
   "cell_type": "code",
   "execution_count": null,
   "id": "ac522206-644f-4174-bf16-4b1d76fa6324",
   "metadata": {},
   "outputs": [],
   "source": [
    "x=7\n",
    "y=3\n",
    "print(x!=y)"
   ]
  },
  {
   "cell_type": "code",
   "execution_count": null,
   "id": "6e88bb6e-57d7-41e7-a77c-1e05c0eac6ee",
   "metadata": {},
   "outputs": [],
   "source": [
    "x=7\n",
    "y=7\n",
    "print(x!=y)"
   ]
  },
  {
   "cell_type": "code",
   "execution_count": null,
   "id": "c3c99697-39ec-4a5e-8507-8270f067c174",
   "metadata": {},
   "outputs": [],
   "source": [
    "x=7\n",
    "y=3\n",
    "print(x<=y)"
   ]
  },
  {
   "cell_type": "code",
   "execution_count": null,
   "id": "5135360d-2a81-435c-bc6d-d80c3086cdea",
   "metadata": {},
   "outputs": [],
   "source": [
    "x=7\n",
    "y=3\n",
    "print(x>=y)"
   ]
  },
  {
   "cell_type": "code",
   "execution_count": null,
   "id": "60305935-109b-494a-875c-41571d003ba0",
   "metadata": {},
   "outputs": [],
   "source": [
    "# logical Operators\n",
    "# and\n",
    "x=7\n",
    "y=12\n",
    "print(x > 2 and y < 10 )"
   ]
  },
  {
   "cell_type": "code",
   "execution_count": null,
   "id": "46f5a2fe-8a48-4caf-a4eb-fe84a33362de",
   "metadata": {},
   "outputs": [],
   "source": [
    "x=7\n",
    "y=12\n",
    "print(x > 2 or y < 10 )"
   ]
  },
  {
   "cell_type": "code",
   "execution_count": null,
   "id": "f38403a5-06ac-4826-9e67-47e96f2e82bd",
   "metadata": {},
   "outputs": [],
   "source": [
    "print(not(x > 2 or y < 10 ))"
   ]
  },
  {
   "cell_type": "code",
   "execution_count": 1,
   "id": "1e9bf289-649f-4818-9060-444febec9daa",
   "metadata": {},
   "outputs": [
    {
     "name": "stdout",
     "output_type": "stream",
     "text": [
      "505 505\n"
     ]
    }
   ],
   "source": [
    "# Identity Operators\n",
    "x = 505\n",
    "y = 500 + 5\n",
    "print(x,y)"
   ]
  },
  {
   "cell_type": "code",
   "execution_count": 2,
   "id": "aa69e021-46b7-42a0-b8a3-410d6a9528a2",
   "metadata": {},
   "outputs": [
    {
     "data": {
      "text/plain": [
       "True"
      ]
     },
     "execution_count": 2,
     "metadata": {},
     "output_type": "execute_result"
    }
   ],
   "source": [
    "x == y"
   ]
  },
  {
   "cell_type": "code",
   "execution_count": 3,
   "id": "9310079e-255e-44e3-91f5-9053c72c5e90",
   "metadata": {},
   "outputs": [
    {
     "data": {
      "text/plain": [
       "False"
      ]
     },
     "execution_count": 3,
     "metadata": {},
     "output_type": "execute_result"
    }
   ],
   "source": [
    "x is y"
   ]
  },
  {
   "cell_type": "code",
   "execution_count": 4,
   "id": "0660670a-d232-4a8d-8e6c-69ba28b376a1",
   "metadata": {},
   "outputs": [
    {
     "data": {
      "text/plain": [
       "2229126826416"
      ]
     },
     "execution_count": 4,
     "metadata": {},
     "output_type": "execute_result"
    }
   ],
   "source": [
    "id(x)"
   ]
  },
  {
   "cell_type": "code",
   "execution_count": 5,
   "id": "94f4070b-f085-466a-98d5-627e1322a57c",
   "metadata": {},
   "outputs": [
    {
     "data": {
      "text/plain": [
       "2229126826768"
      ]
     },
     "execution_count": 5,
     "metadata": {},
     "output_type": "execute_result"
    }
   ],
   "source": [
    "id(y)"
   ]
  },
  {
   "cell_type": "code",
   "execution_count": 6,
   "id": "bf3c2897-3add-4a03-91fe-a0e9ccbaf37e",
   "metadata": {},
   "outputs": [
    {
     "data": {
      "text/plain": [
       "True"
      ]
     },
     "execution_count": 6,
     "metadata": {},
     "output_type": "execute_result"
    }
   ],
   "source": [
    "x = 100\n",
    "y = 200\n",
    "x is not y"
   ]
  },
  {
   "cell_type": "code",
   "execution_count": 7,
   "id": "854c94aa-2368-4e95-8591-5e05daa82462",
   "metadata": {},
   "outputs": [
    {
     "data": {
      "text/plain": [
       "False"
      ]
     },
     "execution_count": 7,
     "metadata": {},
     "output_type": "execute_result"
    }
   ],
   "source": [
    "x is y"
   ]
  },
  {
   "cell_type": "code",
   "execution_count": 8,
   "id": "d2475812-ca61-4d2b-b195-a8528665e05a",
   "metadata": {},
   "outputs": [
    {
     "name": "stdout",
     "output_type": "stream",
     "text": [
      "False\n"
     ]
    }
   ],
   "source": [
    "a = [5,6,3,7,1,9]\n",
    "b = [5,6,3,7,1,9]\n",
    "c = a\n",
    "print(a is b)"
   ]
  },
  {
   "cell_type": "code",
   "execution_count": 10,
   "id": "076d9807-9846-4dbc-90a7-eef674334e6e",
   "metadata": {},
   "outputs": [
    {
     "name": "stdout",
     "output_type": "stream",
     "text": [
      "True\n"
     ]
    }
   ],
   "source": [
    "print(a is c)"
   ]
  },
  {
   "cell_type": "code",
   "execution_count": 11,
   "id": "1776dec3-a2da-4636-9fac-6dd0b7b4b50b",
   "metadata": {},
   "outputs": [
    {
     "name": "stdout",
     "output_type": "stream",
     "text": [
      "[5, 6, 3, 7, 1, 9]\n"
     ]
    }
   ],
   "source": [
    "print(c)"
   ]
  },
  {
   "cell_type": "code",
   "execution_count": 12,
   "id": "e62860cd-bf9c-4203-8d24-c0d2eb3e093f",
   "metadata": {},
   "outputs": [
    {
     "data": {
      "text/plain": [
       "2229126803712"
      ]
     },
     "execution_count": 12,
     "metadata": {},
     "output_type": "execute_result"
    }
   ],
   "source": [
    "id(a)"
   ]
  },
  {
   "cell_type": "code",
   "execution_count": 13,
   "id": "5b2f39db-c5a7-4a92-8103-68ba14befa78",
   "metadata": {},
   "outputs": [
    {
     "data": {
      "text/plain": [
       "2229126703168"
      ]
     },
     "execution_count": 13,
     "metadata": {},
     "output_type": "execute_result"
    }
   ],
   "source": [
    "id(b)"
   ]
  },
  {
   "cell_type": "code",
   "execution_count": 14,
   "id": "49dc955c-a0f4-4b67-9161-314d1eba17a7",
   "metadata": {},
   "outputs": [
    {
     "data": {
      "text/plain": [
       "2229126803712"
      ]
     },
     "execution_count": 14,
     "metadata": {},
     "output_type": "execute_result"
    }
   ],
   "source": [
    "id(c)"
   ]
  },
  {
   "cell_type": "code",
   "execution_count": 15,
   "id": "d27f0105-40dd-42be-8305-b9137e272870",
   "metadata": {},
   "outputs": [
    {
     "data": {
      "text/plain": [
       "[5, 6, 3, 7, 1, 9]"
      ]
     },
     "execution_count": 15,
     "metadata": {},
     "output_type": "execute_result"
    }
   ],
   "source": [
    "# Membership Operators\n",
    "\n",
    "a = [5,6,3,7,1,9]\n",
    "b = [4, 'python', 2,7, 'tutorial', 9]\n",
    "a"
   ]
  },
  {
   "cell_type": "code",
   "execution_count": 16,
   "id": "f0c8b375-5eb8-46bf-a059-8d1341d73428",
   "metadata": {},
   "outputs": [
    {
     "data": {
      "text/plain": [
       "[4, 'python', 2, 7, 'tutorial', 9]"
      ]
     },
     "execution_count": 16,
     "metadata": {},
     "output_type": "execute_result"
    }
   ],
   "source": [
    "b"
   ]
  },
  {
   "cell_type": "code",
   "execution_count": null,
   "id": "41d31d77-df35-488c-bf4c-92863beab81d",
   "metadata": {},
   "outputs": [],
   "source": []
  },
  {
   "cell_type": "code",
   "execution_count": 17,
   "id": "7b34b538-15f8-4703-9e40-235faf872fcf",
   "metadata": {},
   "outputs": [
    {
     "data": {
      "text/plain": [
       "True"
      ]
     },
     "execution_count": 17,
     "metadata": {},
     "output_type": "execute_result"
    }
   ],
   "source": [
    "5 in a"
   ]
  },
  {
   "cell_type": "code",
   "execution_count": 18,
   "id": "cc32f946-48a7-4afc-9650-f67346a0b07f",
   "metadata": {},
   "outputs": [
    {
     "data": {
      "text/plain": [
       "True"
      ]
     },
     "execution_count": 18,
     "metadata": {},
     "output_type": "execute_result"
    }
   ],
   "source": [
    "1 in a"
   ]
  },
  {
   "cell_type": "code",
   "execution_count": 19,
   "id": "c3fed452-f110-4fab-b005-f82273476724",
   "metadata": {},
   "outputs": [
    {
     "data": {
      "text/plain": [
       "False"
      ]
     },
     "execution_count": 19,
     "metadata": {},
     "output_type": "execute_result"
    }
   ],
   "source": [
    "2 in a"
   ]
  },
  {
   "cell_type": "code",
   "execution_count": 21,
   "id": "600aeca3-3e91-4d5d-95ff-b4f42a6c9a9a",
   "metadata": {},
   "outputs": [
    {
     "data": {
      "text/plain": [
       "True"
      ]
     },
     "execution_count": 21,
     "metadata": {},
     "output_type": "execute_result"
    }
   ],
   "source": [
    "'python' in b"
   ]
  },
  {
   "cell_type": "code",
   "execution_count": 28,
   "id": "c35e619c-2c32-4fb7-b5c0-115c03ae8320",
   "metadata": {},
   "outputs": [
    {
     "data": {
      "text/plain": [
       "False"
      ]
     },
     "execution_count": 28,
     "metadata": {},
     "output_type": "execute_result"
    }
   ],
   "source": [
    "y = {1: 'Nigeria', 2:'USA'}\n",
    "'USA' in y"
   ]
  },
  {
   "cell_type": "code",
   "execution_count": 34,
   "id": "1edb8085-50b1-4185-8e8f-abdab199d93d",
   "metadata": {},
   "outputs": [
    {
     "data": {
      "text/plain": [
       "dict_values(['Nigeria', 'USA'])"
      ]
     },
     "execution_count": 34,
     "metadata": {},
     "output_type": "execute_result"
    }
   ],
   "source": [
    "y.values()"
   ]
  },
  {
   "cell_type": "code",
   "execution_count": 35,
   "id": "f0b9298d-3286-4803-bd41-fea84f0a145b",
   "metadata": {},
   "outputs": [
    {
     "data": {
      "text/plain": [
       "dict_keys([1, 2])"
      ]
     },
     "execution_count": 35,
     "metadata": {},
     "output_type": "execute_result"
    }
   ],
   "source": [
    "y.keys()"
   ]
  },
  {
   "cell_type": "code",
   "execution_count": 29,
   "id": "7068f7df-1dde-48ca-af44-090df931fd37",
   "metadata": {},
   "outputs": [
    {
     "data": {
      "text/plain": [
       "False"
      ]
     },
     "execution_count": 29,
     "metadata": {},
     "output_type": "execute_result"
    }
   ],
   "source": [
    "'Nigeria' in y"
   ]
  },
  {
   "cell_type": "code",
   "execution_count": 30,
   "id": "81270f96-981e-4bd5-9d45-d084beddcdeb",
   "metadata": {},
   "outputs": [
    {
     "data": {
      "text/plain": [
       "True"
      ]
     },
     "execution_count": 30,
     "metadata": {},
     "output_type": "execute_result"
    }
   ],
   "source": [
    "1 in y"
   ]
  },
  {
   "cell_type": "code",
   "execution_count": 31,
   "id": "6e334906-ea31-4d38-b13d-75c831f2facd",
   "metadata": {},
   "outputs": [
    {
     "data": {
      "text/plain": [
       "True"
      ]
     },
     "execution_count": 31,
     "metadata": {},
     "output_type": "execute_result"
    }
   ],
   "source": [
    "'USA' in y.values()"
   ]
  },
  {
   "cell_type": "code",
   "execution_count": 36,
   "id": "1a26053e-ae51-428c-82dd-b6b0581b05c0",
   "metadata": {},
   "outputs": [
    {
     "data": {
      "text/plain": [
       "True"
      ]
     },
     "execution_count": 36,
     "metadata": {},
     "output_type": "execute_result"
    }
   ],
   "source": [
    "2 in y.keys()"
   ]
  },
  {
   "cell_type": "markdown",
   "id": "4e16792e-b44e-4fb7-9981-b9add3da4683",
   "metadata": {},
   "source": [
    "# List Comprehension"
   ]
  },
  {
   "cell_type": "code",
   "execution_count": 39,
   "id": "fac02d47-f2a1-4240-94b2-5b9c27672fac",
   "metadata": {},
   "outputs": [
    {
     "name": "stdout",
     "output_type": "stream",
     "text": [
      "[1, 4, 9, 16]\n"
     ]
    }
   ],
   "source": [
    "num = [1,2,3,4]\n",
    "sqr = []\n",
    "for n in num:\n",
    "    sqr.append(n**2)\n",
    "print(sqr)"
   ]
  },
  {
   "cell_type": "code",
   "execution_count": 40,
   "id": "6e35f58f-42ff-43ab-9ce8-30355a198520",
   "metadata": {},
   "outputs": [
    {
     "name": "stdout",
     "output_type": "stream",
     "text": [
      "[1, 4, 9, 16, 25, 36]\n"
     ]
    }
   ],
   "source": [
    "num = [1,2,3,4,5,6]\n",
    "sqr = [n**2 for n in num]\n",
    "print(sqr)"
   ]
  },
  {
   "cell_type": "code",
   "execution_count": 41,
   "id": "18bda441-b9e0-4e24-846c-f03f9b4b7b87",
   "metadata": {},
   "outputs": [
    {
     "name": "stdout",
     "output_type": "stream",
     "text": [
      "[4, 9, 25, 49, 81]\n"
     ]
    }
   ],
   "source": [
    "num = [2,3,5,7,9]\n",
    "sqr = [p**2 for p in num]\n",
    "print(sqr)"
   ]
  },
  {
   "cell_type": "code",
   "execution_count": 43,
   "id": "188debd0-18ff-4511-b23d-a14d45ba4e90",
   "metadata": {},
   "outputs": [
    {
     "name": "stdout",
     "output_type": "stream",
     "text": [
      "['P', 'y', 't', 'h', 'o', 'n', 't', 'u', 't', 'o', 'r', 'i', 'a', 'l']\n"
     ]
    }
   ],
   "source": [
    "n_letters = []\n",
    "for letter in 'Pythontutorial':\n",
    "    n_letters.append(letter)\n",
    "print(n_letters)"
   ]
  },
  {
   "cell_type": "code",
   "execution_count": 48,
   "id": "3ed236f0-59a4-4955-b66f-6d4e2e861ee9",
   "metadata": {},
   "outputs": [
    {
     "name": "stdout",
     "output_type": "stream",
     "text": [
      "['P', 'y', 't', 'h', 'o', 'n', 't', 'u', 't', 'o', 'r', 'i', 'a', 'l']\n"
     ]
    }
   ],
   "source": [
    "# List Comprehension\n",
    "n_letters = [letter for letter in 'Pythontutorial']\n",
    "print(n_letters)"
   ]
  },
  {
   "cell_type": "code",
   "execution_count": 50,
   "id": "4cea7edd-483a-4f83-a37b-e9c1d37bb732",
   "metadata": {},
   "outputs": [
    {
     "name": "stdout",
     "output_type": "stream",
     "text": [
      "['Jaguar', 'Land Rover', 'Tesla', 'Toyota']\n"
     ]
    }
   ],
   "source": [
    "cars = ['Jaguar', 'Land Rover', 'Tesla', 'Toyota']\n",
    "car = [newlist for newlist in cars]\n",
    "print(cars)"
   ]
  },
  {
   "cell_type": "code",
   "execution_count": 57,
   "id": "8374d948-dd33-4304-98ce-9f536d8fbad2",
   "metadata": {},
   "outputs": [
    {
     "name": "stdout",
     "output_type": "stream",
     "text": [
      "['Jaguar', 'Land Rover']\n"
     ]
    }
   ],
   "source": [
    "cars = ['Jaguar', 'Land Rover', 'Tesla', 'Toyota']\n",
    "newlist = []\n",
    "for x in cars:\n",
    "    if 'r' in x:\n",
    "        newlist.append(x)\n",
    "print(newlist)"
   ]
  },
  {
   "cell_type": "code",
   "execution_count": 62,
   "id": "4f4a794c-01e9-40ff-9d87-e8343293e3df",
   "metadata": {},
   "outputs": [
    {
     "name": "stdout",
     "output_type": "stream",
     "text": [
      "['Tesla', 'Toyota']\n"
     ]
    }
   ],
   "source": [
    "cars = ['Jaguar', 'Land Rover', 'Tesla', 'Toyota']\n",
    "newlist = [x for x in cars if 'T' in x]\n",
    "print(newlist)"
   ]
  },
  {
   "cell_type": "code",
   "execution_count": null,
   "id": "0747aad9-35b4-473e-872f-97d1f326ed73",
   "metadata": {},
   "outputs": [],
   "source": [
    "income = float(input(\"Enter the annual income: \"))\n",
    "if "
   ]
  },
  {
   "cell_type": "code",
   "execution_count": null,
   "id": "2e9ca71d-5aaf-4cb6-890f-df201c7299fd",
   "metadata": {},
   "outputs": [],
   "source": []
  },
  {
   "cell_type": "code",
   "execution_count": null,
   "id": "6bc0b3f0-4153-494f-ab2e-52bade678eb4",
   "metadata": {},
   "outputs": [],
   "source": []
  },
  {
   "cell_type": "code",
   "execution_count": null,
   "id": "6b9f604b-0bb7-4785-bea8-e000e9b3ad3a",
   "metadata": {},
   "outputs": [],
   "source": []
  },
  {
   "cell_type": "code",
   "execution_count": null,
   "id": "0e16b11f-12c6-4c45-8b56-fdc802dc1d6b",
   "metadata": {},
   "outputs": [],
   "source": []
  },
  {
   "cell_type": "code",
   "execution_count": null,
   "id": "fab1393a-76ba-4fc4-9b04-1003297ba0fd",
   "metadata": {},
   "outputs": [],
   "source": []
  },
  {
   "cell_type": "code",
   "execution_count": null,
   "id": "1212ef93-e497-4bd2-8619-cb7e9009399d",
   "metadata": {},
   "outputs": [],
   "source": []
  },
  {
   "cell_type": "code",
   "execution_count": null,
   "id": "be1e0c5e-07fc-4678-ad15-b939f8a63e66",
   "metadata": {},
   "outputs": [],
   "source": []
  },
  {
   "cell_type": "code",
   "execution_count": null,
   "id": "54929a7c-7447-4fdc-b25e-acf89b7608b6",
   "metadata": {},
   "outputs": [],
   "source": []
  },
  {
   "cell_type": "code",
   "execution_count": null,
   "id": "5b4f2ac8-a27c-41e3-b92a-0899a33161ed",
   "metadata": {},
   "outputs": [],
   "source": []
  },
  {
   "cell_type": "code",
   "execution_count": null,
   "id": "ccf16211-0cf2-4e34-aeaa-4f121135b623",
   "metadata": {},
   "outputs": [],
   "source": []
  },
  {
   "cell_type": "code",
   "execution_count": null,
   "id": "8535cc74-e7f5-4c64-b38c-576a9ea82e2a",
   "metadata": {},
   "outputs": [],
   "source": []
  },
  {
   "cell_type": "code",
   "execution_count": null,
   "id": "fe17d0e1-a6a8-47b8-b8d4-cf1be5e94c38",
   "metadata": {},
   "outputs": [],
   "source": []
  },
  {
   "cell_type": "code",
   "execution_count": null,
   "id": "79d12d29-4396-45b3-9fd4-7af15ba95ef0",
   "metadata": {},
   "outputs": [],
   "source": []
  },
  {
   "cell_type": "code",
   "execution_count": null,
   "id": "b02a4f90-0d21-4f4e-ab78-134186617ce6",
   "metadata": {},
   "outputs": [],
   "source": []
  },
  {
   "cell_type": "code",
   "execution_count": null,
   "id": "fcabdde2-351e-449b-ad0b-9a100968145e",
   "metadata": {},
   "outputs": [],
   "source": []
  },
  {
   "cell_type": "code",
   "execution_count": null,
   "id": "a1d153d7-46a9-4dfb-997f-17feef931d30",
   "metadata": {},
   "outputs": [],
   "source": []
  },
  {
   "cell_type": "code",
   "execution_count": null,
   "id": "91d21d56-073a-4980-aab6-9db601eeda98",
   "metadata": {},
   "outputs": [],
   "source": []
  },
  {
   "cell_type": "code",
   "execution_count": null,
   "id": "6fb10288-2c33-4226-9da0-68c658786a2a",
   "metadata": {},
   "outputs": [],
   "source": []
  }
 ],
 "metadata": {
  "kernelspec": {
   "display_name": "Python 3 (ipykernel)",
   "language": "python",
   "name": "python3"
  },
  "language_info": {
   "codemirror_mode": {
    "name": "ipython",
    "version": 3
   },
   "file_extension": ".py",
   "mimetype": "text/x-python",
   "name": "python",
   "nbconvert_exporter": "python",
   "pygments_lexer": "ipython3",
   "version": "3.12.4"
  }
 },
 "nbformat": 4,
 "nbformat_minor": 5
}
