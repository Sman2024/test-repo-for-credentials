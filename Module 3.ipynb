{
 "cells": [
  {
   "cell_type": "markdown",
   "id": "f5272147-b061-40ce-9660-89f173404a38",
   "metadata": {},
   "source": [
    "### Comparison Operators: "
   ]
  },
  {
   "cell_type": "code",
   "execution_count": null,
   "id": "57b485ba-dce0-4cad-8a57-5733d4381dbb",
   "metadata": {},
   "outputs": [],
   "source": [
    "var = 0\n",
    "print(0 != 0)"
   ]
  },
  {
   "cell_type": "code",
   "execution_count": null,
   "id": "63dbfe69-cdc0-482b-bccc-39305f5a324e",
   "metadata": {},
   "outputs": [],
   "source": [
    "x = 10\n",
    "\n",
    "print(x < 10)\n"
   ]
  },
  {
   "cell_type": "code",
   "execution_count": null,
   "id": "d77224c9-6129-4860-b9ea-3bc66e48b9c7",
   "metadata": {},
   "outputs": [],
   "source": [
    "var = 1\n",
    "print(1 != 0)"
   ]
  },
  {
   "cell_type": "code",
   "execution_count": null,
   "id": "37b7ca48-c232-4d36-9234-5e64c8573167",
   "metadata": {},
   "outputs": [],
   "source": [
    "var = 3\n",
    "print(3 == 2)"
   ]
  },
  {
   "cell_type": "code",
   "execution_count": null,
   "id": "278a0275-af0a-4a54-9f1d-4c8f1852faec",
   "metadata": {},
   "outputs": [],
   "source": [
    "var = 3\n",
    "print(3 == 3)"
   ]
  },
  {
   "cell_type": "code",
   "execution_count": null,
   "id": "efed9252-8a16-41be-ac23-fa54f91d47b9",
   "metadata": {},
   "outputs": [],
   "source": [
    "n = 55\n",
    "print( 55 >= 100)"
   ]
  },
  {
   "cell_type": "code",
   "execution_count": null,
   "id": "65a3ff17-7645-4bad-9e0f-86b61836a32c",
   "metadata": {},
   "outputs": [],
   "source": [
    "n = 55\n",
    "print(55 <= 100)"
   ]
  },
  {
   "cell_type": "code",
   "execution_count": null,
   "id": "b54523c0-62d5-4398-909c-eb7338ce97aa",
   "metadata": {},
   "outputs": [],
   "source": [
    "### Conditional Execution"
   ]
  },
  {
   "cell_type": "markdown",
   "id": "0cb89feb-8248-43a1-a4f5-b74a8c62731a",
   "metadata": {},
   "source": [
    "##### if statement"
   ]
  },
  {
   "cell_type": "code",
   "execution_count": null,
   "id": "8cc7b1d4-062f-4b52-9b05-75892379acf7",
   "metadata": {},
   "outputs": [],
   "source": [
    "if sheep_counter >= 120:\n",
    "    make_a_bed()\n",
    "    take_a_shower()\n",
    "    sleep_and_dream()\n",
    "feed_the_sheepdogs()"
   ]
  },
  {
   "cell_type": "markdown",
   "id": "150f480c-ac46-4bb1-a292-36b88fa733e2",
   "metadata": {},
   "source": [
    "#### else statement"
   ]
  },
  {
   "cell_type": "code",
   "execution_count": null,
   "id": "459429f9-156f-4bf6-a911-d351349f325e",
   "metadata": {},
   "outputs": [],
   "source": [
    "if the_weather_is_good:\n",
    "    if nice_restaurant_is_found:\n",
    "        have_lunch()\n",
    "    else:\n",
    "        eat_a_sandwich()\n",
    "else:\n",
    "    if tickets_are_avaible:\n",
    "        go_to_the_theater()\n",
    "    else:\n",
    "        go_shopping()"
   ]
  },
  {
   "cell_type": "markdown",
   "id": "3d17ca86-fa28-4b17-9b2a-22e7c03785a0",
   "metadata": {},
   "source": [
    "#### elif statement"
   ]
  },
  {
   "cell_type": "code",
   "execution_count": null,
   "id": "59846b2e-2f44-4d64-ba69-81c0714d26b0",
   "metadata": {},
   "outputs": [],
   "source": [
    "if the_weather_is_good:\n",
    "    go_for_a_walk()\n",
    "elif tickets_are_available:\n",
    "    go_to_the_thearter()\n",
    "elif table_is_available:\n",
    "    go_for_lunch()\n",
    "else:\n",
    "    play_chess_at_home()"
   ]
  },
  {
   "cell_type": "markdown",
   "id": "9a594abd-e583-463f-abb6-5b1837cec5b3",
   "metadata": {},
   "source": [
    "### Analyzing code samples"
   ]
  },
  {
   "cell_type": "code",
   "execution_count": null,
   "id": "0a3c71ce-1ee3-484c-9b6d-c5aff8b4cc3c",
   "metadata": {},
   "outputs": [],
   "source": [
    "# Read two numbers\n",
    "number1 = int(input(\"Enter the first number: \"))\n",
    "number2 = int(input(\"Enter the second number: \"))\n",
    "\n",
    "# Choose the larger number\n",
    "if number1 > number2:\n",
    "    larger_number = number1\n",
    "else:\n",
    "    larger_number = number2\n",
    "\n",
    "# print the result\n",
    "print(\"The larger number is:\", larger_number)\n"
   ]
  },
  {
   "cell_type": "code",
   "execution_count": null,
   "id": "7e7b790e-0aea-4994-a0d5-746e4c4fce0c",
   "metadata": {},
   "outputs": [],
   "source": [
    "# Read two numbers\n",
    "number1 = int(input(\"Enter the first number: \"))\n",
    "number2 = int(input(\"Enter the second number: \"))\n",
    "\n",
    "# Choose the larger number\n",
    "if number1 > number2: larger_number = number1\n",
    "else: larger_number = number2\n",
    "\n",
    "# print the result\n",
    "print(\"The larger number is:\", larger_number)\n"
   ]
  },
  {
   "cell_type": "code",
   "execution_count": null,
   "id": "8a3e40ea-b0b5-4f40-a978-543ece3fa241",
   "metadata": {},
   "outputs": [],
   "source": [
    "number1 = int(input(\"Enter the first number: \"))\n",
    "number2 = int(input(\"Enter the second number: \"))\n",
    "number3 = int(input(\"Enter the three number: \"))\n",
    "\n",
    "\n",
    "# We temporarily assume that the first number \n",
    "# is the largest one.\n",
    "# We will veryfy this soon.\n",
    "largest_number = number1\n",
    "\n",
    "# we check if the second number is larger than current largest_number\n",
    "# and update largest_number if needed.\n",
    "if number2 > largest_number:\n",
    "    largest_number = number2\n",
    "\n",
    "# we check if the third number is larger than current largest_number\n",
    "# and update largest_number if needed.\n",
    "if number3 > largest_number:\n",
    "    largest_number = number3\n",
    "\n",
    "# print the result\n",
    "print(\"The largest number is:\", largest_number)\n"
   ]
  },
  {
   "cell_type": "code",
   "execution_count": null,
   "id": "a7fbb779-46c2-46fd-b069-4b3ceb0b8f68",
   "metadata": {},
   "outputs": [],
   "source": []
  },
  {
   "cell_type": "markdown",
   "id": "168ac94d-7a39-469d-89c0-54d910ff0f89",
   "metadata": {},
   "source": [
    "### Pseudocode and introduction to loops"
   ]
  },
  {
   "cell_type": "markdown",
   "id": "5bae9898-dbd7-40f3-bc41-9bec819a35d6",
   "metadata": {},
   "source": [
    "#### Le's look at our pseudocode below:"
   ]
  },
  {
   "cell_type": "code",
   "execution_count": null,
   "id": "5750b2ed-698f-464b-b590-f9f379c6cbe7",
   "metadata": {},
   "outputs": [],
   "source": [
    "largest_number = -99999999\n",
    "number = int(input('Enter the number'))\n",
    "if number == -1:\n",
    "    print(largest_number)\n",
    "    exit()\n",
    "if number > largest_number:\n",
    "    largest_number = number\n",
    "\n",
    "# Go to line 02\n"
   ]
  },
  {
   "cell_type": "code",
   "execution_count": null,
   "id": "d7b83cea-2054-486f-a8c9-1bd80697bef4",
   "metadata": {},
   "outputs": [],
   "source": [
    "# Read three numbers.\n",
    "\n",
    "number1 = int(input(\"Enter the first number: \"))\n",
    "number2 = int(input(\"Enter the second number: \"))\n",
    "number3 = int(input(\"Enter the three number: \"))\n",
    "\n",
    "# Check which one of the numbers is the greatest\n",
    "# and pass it to the largest_number variable.\n",
    "\n",
    "largest_number = min(number1, number2, number3)\n",
    "\n",
    "# Print the result\n",
    "print(\"The largest number is:\", largest_number)"
   ]
  },
  {
   "cell_type": "code",
   "execution_count": null,
   "id": "48796cd0-f7ad-4ed1-a7aa-e7ce2057067d",
   "metadata": {},
   "outputs": [],
   "source": [
    "# Read three numbers.\n",
    "\n",
    "number1 = int(input(\"Enter the first number: \"))\n",
    "number2 = int(input(\"Enter the second number: \"))\n",
    "number3 = int(input(\"Enter the three number: \"))\n",
    "\n",
    "# Check which one of the numbers is the greatest\n",
    "# and pass it to the largest_number variable.\n",
    "\n",
    "largest_number = max(number1, number2, number3)\n",
    "\n",
    "# Print the result\n",
    "print(\"The largest number is:\", largest_number)"
   ]
  },
  {
   "cell_type": "markdown",
   "id": "f36a576d-090d-49fa-8aec-43502269cc7e",
   "metadata": {},
   "source": [
    "### Exercise"
   ]
  },
  {
   "cell_type": "code",
   "execution_count": null,
   "id": "2cd30780-6613-47fe-98e8-76e745b86672",
   "metadata": {},
   "outputs": [],
   "source": [
    "plants = \"Spathiphyllum\"\n",
    "if plants != \"spathiphyllum\":\n",
    "    print(\" Yes-Spathiphyllum is the best plant ever\")\n",
    "else:\n",
    "    print(\"No, I want a big Spathiphyllum  \")"
   ]
  },
  {
   "cell_type": "code",
   "execution_count": null,
   "id": "988bc2a5-ce51-4780-916c-37bdd58903a8",
   "metadata": {},
   "outputs": [],
   "source": [
    "plants = \"Spathiphyllum\"\n",
    "if plants == \"spathiphyllum\":\n",
    "    print(\" Yes-Spathiphyllum is the best plant ever\")\n",
    "else:\n",
    "    print(\"No, I want a big Spathiphyllum  \")"
   ]
  },
  {
   "cell_type": "code",
   "execution_count": null,
   "id": "8e2e6d2a-fe51-46ae-9469-9722beadd836",
   "metadata": {},
   "outputs": [],
   "source": [
    "plants = \"pelargoniun\"\n",
    "if plants != \"spathiphyllum\":\n",
    "    print(\" Yes-Spathiphyllum! Not pelargonium!\")\n",
    "else:\n",
    "    print(\"No, I want a big Spathiphyllum  \")"
   ]
  },
  {
   "cell_type": "code",
   "execution_count": null,
   "id": "47529b57-94e7-4125-b373-d989b84c1dcc",
   "metadata": {},
   "outputs": [],
   "source": []
  },
  {
   "cell_type": "code",
   "execution_count": null,
   "id": "8b1b8084-122c-4c71-a15c-5aa5fac9a68b",
   "metadata": {},
   "outputs": [],
   "source": [
    "Income = float(input(\"Enter the annual income: \"))\n",
    "if i < 85528:\n",
    "    print(i == 18)\n",
    "tax = round(tax, 0)\n",
    "print(\"The tax is:\", tax, \"thalers\")"
   ]
  },
  {
   "cell_type": "code",
   "execution_count": null,
   "id": "f63f3bdc-cebb-4716-9127-9d1eeb5f0aca",
   "metadata": {},
   "outputs": [],
   "source": [
    "year = int(input(\"Enter the year \"))\n",
    "if year % 4:\n",
    "    print('Common year')\n",
    "elif year != 400:\n",
    "    print('Leap year')\n",
    "else:\n",
    "    print('Leap year')"
   ]
  },
  {
   "cell_type": "code",
   "execution_count": null,
   "id": "dc5e209e-eb8c-495b-8af5-56435d1306dc",
   "metadata": {},
   "outputs": [],
   "source": [
    "year = int(input(\"Enter the year\"))\n",
    "if (year % 4 == 0 and year % 100 != 0) or (year % 400 ==0):\n",
    "    print('leap year')\n",
    "else:\n",
    "    print('common year')"
   ]
  },
  {
   "cell_type": "code",
   "execution_count": null,
   "id": "7c3f0458-e142-431b-aa4b-94c8eccb3867",
   "metadata": {},
   "outputs": [],
   "source": [
    "year = int(input(\"Enter the year\"))\n",
    "if (year % 4 == 0 and year % 100 != 0) or (year % 400 ==0):\n",
    "    print('leap year')\n",
    "else:\n",
    "    print('common year')"
   ]
  },
  {
   "cell_type": "code",
   "execution_count": null,
   "id": "570213f9-3929-4d29-873e-eb38a623b3b6",
   "metadata": {},
   "outputs": [],
   "source": [
    "year = int(input(\"Enter the year \"))\n",
    "if year % 4:\n",
    "    print('Common year')\n",
    "elif year != 400:\n",
    "    print('Leap year')\n",
    "else:\n",
    "    print('Leap year')"
   ]
  },
  {
   "cell_type": "code",
   "execution_count": null,
   "id": "4827d323-1a46-4023-87b9-d08e45ce891e",
   "metadata": {},
   "outputs": [],
   "source": [
    "year = int(input(\"Enter the year \"))\n",
    "if year % 4:\n",
    "    print('Common year')\n",
    "elif year != 400:\n",
    "    print('Leap year')\n",
    "else:\n",
    "    print('Leap year')"
   ]
  },
  {
   "cell_type": "code",
   "execution_count": null,
   "id": "0eaa2e21-79df-4e68-a76f-a2b906510cbe",
   "metadata": {},
   "outputs": [],
   "source": [
    "year = int(input(\"Enter the year \"))\n",
    "if year % 4:\n",
    "    print('Common year')\n",
    "elif year != 400:\n",
    "    print('Leap year')\n",
    "else:\n",
    "    print('Leap year')\n",
    "    "
   ]
  },
  {
   "cell_type": "code",
   "execution_count": null,
   "id": "3a60d682-cd8f-4754-9684-b1e75021aa46",
   "metadata": {},
   "outputs": [],
   "source": [
    "year = int(input(\"Enter the year \"))\n",
    "if year % 4:\n",
    "    print('Common year')\n",
    "elif year == 400:\n",
    "    print('Leap year')\n",
    "else:\n",
    "    print('Not within the Gregorian calendar period')"
   ]
  },
  {
   "cell_type": "code",
   "execution_count": null,
   "id": "5cc46c89-dc2b-4a2f-9d67-dc29129c786e",
   "metadata": {},
   "outputs": [],
   "source": [
    "print(\"Welcome to Leap Year Checker\")\n",
    "year = int(input(\"Enter the year you want to check: \"))\n",
    "if year % 4 == 0:\n",
    "    if year % 100 != 0:\n",
    "        if year % 400 == 0:\n",
    "            print(str(year) + \"is a leap year\")\n",
    "        else:\n",
    "            print(\"Not Leap Year\")\n",
    "    else:\n",
    "        print(\"Not Leap Year\")\n",
    "else:\n",
    "    print(\"Not Leap Year\")"
   ]
  },
  {
   "cell_type": "code",
   "execution_count": null,
   "id": "c2e7367f-4c09-43fb-a5d8-14db675ce67a",
   "metadata": {},
   "outputs": [],
   "source": []
  },
  {
   "cell_type": "code",
   "execution_count": null,
   "id": "13818ebf-dd79-481a-bc26-afaff0b16732",
   "metadata": {},
   "outputs": [],
   "source": [
    "year = int(input(\"Enter the year\"))\n",
    "if (year % 4 == 0 and year % 100 == 0):\n",
    "    print('leap year')\n",
    "elif (year % 400 ==0):\n",
    "    print('common year')\n",
    "else:\n",
    "    print('Not within the Gregorian calendar period')"
   ]
  },
  {
   "cell_type": "code",
   "execution_count": null,
   "id": "44a1475f-73c7-4ef8-8162-ff5beda48c0a",
   "metadata": {},
   "outputs": [],
   "source": [
    "x = 10\n",
    "\n",
    "print(x < 10)\n"
   ]
  },
  {
   "cell_type": "markdown",
   "id": "140a0539-3cfe-4b3c-b87f-2519208b3bcb",
   "metadata": {},
   "source": [
    "# Loop"
   ]
  },
  {
   "cell_type": "code",
   "execution_count": null,
   "id": "04a053d0-4b53-485b-96f1-b3a895f36d72",
   "metadata": {},
   "outputs": [],
   "source": [
    "largest_number = -99999999\n",
    "\n",
    "number = int(input(\"Enter a number or type -1 to stop: \"))\n",
    "\n",
    "while number != -1:\n",
    "    if number > largest_number:\n",
    "        largest_number = number\n",
    "    number = int(input(\"Enter a number or type -1 to stop: \"))\n",
    "print(\"The largest number is: \", largest_number)"
   ]
  },
  {
   "cell_type": "markdown",
   "id": "356612df-63f3-4990-abf7-cab79afb63e1",
   "metadata": {},
   "source": [
    "###### A program that reads a sequence of numbers and counts how many numbersare even and how many numbers are odd\n",
    "###### The program terminate when zero is enterd."
   ]
  },
  {
   "cell_type": "code",
   "execution_count": 1,
   "id": "4c219c73-9416-4abe-8051-7523b5b38a2f",
   "metadata": {},
   "outputs": [
    {
     "name": "stdin",
     "output_type": "stream",
     "text": [
      "Welcome to my game, muggle! Enter an integer number and guess what number I've picked for you. So, what is the secret number?  4\n"
     ]
    },
    {
     "name": "stdout",
     "output_type": "stream",
     "text": [
      "Ha Ha! You're stuck in my loop!\n"
     ]
    },
    {
     "name": "stdin",
     "output_type": "stream",
     "text": [
      "Enter another number and try again:  6\n"
     ]
    },
    {
     "name": "stdout",
     "output_type": "stream",
     "text": [
      "Ha Ha! You're stuck in my loop!\n"
     ]
    },
    {
     "name": "stdin",
     "output_type": "stream",
     "text": [
      "Enter another number and try again:  777\n"
     ]
    },
    {
     "name": "stdout",
     "output_type": "stream",
     "text": [
      "Well done, muggle! You are free now.\n"
     ]
    }
   ],
   "source": [
    "secret_number = 777\n",
    "\n",
    "number = int(input(\"Welcome to my game, muggle! Enter an integer number and guess what number I've picked for you. So, what is the secret number? \"))\n",
    "\n",
    "while number != secret_number:\n",
    "    print(\"Ha Ha! You're stuck in my loop!\")\n",
    "    number = int(input(\"Enter another number and try again: \"))\n",
    "\n",
    "print(\"Well done, muggle! You are free now.\")\n"
   ]
  },
  {
   "cell_type": "code",
   "execution_count": null,
   "id": "0f6b9482-5492-46a0-98c3-5f4c993a4637",
   "metadata": {},
   "outputs": [],
   "source": [
    "odd_numbers = 0\n",
    "even_numbers = 0\n",
    "\n",
    "number = int(input(\"Enter a number or type 0 to stop: \"))\n",
    "\n",
    "while number != 0:\n",
    "    if number % 2 == 1:\n",
    "        odd_numbers += 1\n",
    "    else:\n",
    "        even_numbers += 1\n",
    "    number = int(input(\"Enter a number or type  0 to stop: \"))\n",
    "print(\"Odd numbers count: \", odd_numbers)\n",
    "print(\"Even numbers count: \", even_numbers)\n"
   ]
  },
  {
   "cell_type": "code",
   "execution_count": null,
   "id": "af7108d9-5f59-4bd0-802a-6281f032d7c3",
   "metadata": {},
   "outputs": [],
   "source": [
    "odd_numbers = 0\n",
    "even_numbers = 0\n",
    "\n",
    "number = int(input(\"Enter a number or type 0 to stop: \"))\n",
    "\n",
    "while number:\n",
    "    if number % 2:\n",
    "        odd_numbers += 1\n",
    "    else:\n",
    "        even_numbers += 1\n",
    "    number = int(input(\"Enter a number or type  0 to stop: \"))\n",
    "print(\"Odd numbers count: \", odd_numbers)\n",
    "print(\"Even numbers count: \", even_numbers)\n"
   ]
  },
  {
   "cell_type": "markdown",
   "id": "2f580cc5-e10a-43fc-9968-f9b59da726b3",
   "metadata": {},
   "source": [
    "#### Using a **counter** variable to exit a loop"
   ]
  },
  {
   "cell_type": "code",
   "execution_count": null,
   "id": "55a0ce14-6003-4054-ac54-4707546a996c",
   "metadata": {},
   "outputs": [],
   "source": [
    "counter = 5\n",
    "while counter != 0:\n",
    "    print(\"Inside the loop. \", counter)\n",
    "    counter -= 1\n",
    "print(\"Outside the loop. \", counter)"
   ]
  },
  {
   "cell_type": "code",
   "execution_count": null,
   "id": "cab4d2b1-69aa-4cc4-bcdf-5b69cdab66a5",
   "metadata": {},
   "outputs": [],
   "source": [
    "counter = 5\n",
    "while counter:\n",
    "    print(\"Inside the loop. \", counter)\n",
    "    counter -= 1\n",
    "print(\"Outside the loop. \", counter)"
   ]
  },
  {
   "cell_type": "code",
   "execution_count": null,
   "id": "3d133444-63ac-4cba-9799-0e55a72a2249",
   "metadata": {},
   "outputs": [],
   "source": []
  },
  {
   "cell_type": "code",
   "execution_count": null,
   "id": "22a22fbd-7bdd-4cdd-ba56-fcd10960709a",
   "metadata": {},
   "outputs": [],
   "source": [
    "x = 10\n",
    "\n",
    "if x > 5:\n",
    "    print(\"x > 5\")\n",
    "if x > 8:\n",
    "    print(\"x > 8\")\n",
    "if x > 10:\n",
    "    print(x > 10)\n",
    "\n",
    "else:\n",
    "    print(\"else will be executed\")"
   ]
  },
  {
   "cell_type": "code",
   "execution_count": null,
   "id": "6605fe7c-b691-4834-8153-3fbfdd7ed11a",
   "metadata": {},
   "outputs": [],
   "source": []
  },
  {
   "cell_type": "code",
   "execution_count": null,
   "id": "f1266517-ab36-46ee-8e3e-a7d0c4eb314b",
   "metadata": {},
   "outputs": [],
   "source": [
    "x = 10\n",
    "print(x == 10)\n"
   ]
  },
  {
   "cell_type": "code",
   "execution_count": null,
   "id": "575e099b-8918-4425-b1bf-cce9835a92e5",
   "metadata": {},
   "outputs": [],
   "source": [
    "x = 10\n",
    "\n",
    "if x < 10:\n",
    "    print(x < 10)\n",
    "else:\n",
    "    print(x >= 10)"
   ]
  },
  {
   "cell_type": "code",
   "execution_count": null,
   "id": "b1818e30-a6a6-4c37-94e9-7bd5bad5f8c4",
   "metadata": {},
   "outputs": [],
   "source": [
    "x = 10\n",
    "\n",
    "if x == 10:\n",
    "    print(x == 10)\n",
    "if x > 15:\n",
    "    print(x > 15)\n",
    "elif x > 10:\n",
    "    print(x > 10)\n",
    "elif x > 5:\n",
    "    print(x > 5)\n",
    "\n",
    "else:\n",
    "    print(\"else will be executed\")"
   ]
  },
  {
   "cell_type": "code",
   "execution_count": null,
   "id": "578467da-5196-446b-9d3c-894b38a93582",
   "metadata": {},
   "outputs": [],
   "source": [
    "x = 10\n",
    "\n",
    "if x > 5:\n",
    "    if x == 6:\n",
    "        print(\"nested: x == 6\")\n",
    "    elif x == 10:\n",
    "        print(\"nested: x == 10\")\n",
    "    else:\n",
    "        print(\"nested else\")\n",
    "else:\n",
    "    print(\"else\")"
   ]
  },
  {
   "cell_type": "code",
   "execution_count": null,
   "id": "9ec38b8f-9f36-4160-a9b6-fde2ffbf3d3d",
   "metadata": {},
   "outputs": [],
   "source": [
    "x, y, z = 5, 10, 8\n",
    "x, y, z = z, y, x\n",
    "\n",
    "print(x > z)\n",
    "print((y - 5) == x)"
   ]
  },
  {
   "cell_type": "markdown",
   "id": "b2234f99-30eb-4fc7-b908-74880c180aed",
   "metadata": {},
   "source": [
    "# Looping your code with while"
   ]
  },
  {
   "cell_type": "code",
   "execution_count": null,
   "id": "090edc4d-786c-49e4-9d66-7f4579bab693",
   "metadata": {},
   "outputs": [],
   "source": [
    "for i in range (10):\n",
    "    print(i)"
   ]
  },
  {
   "cell_type": "code",
   "execution_count": null,
   "id": "8f04ae25-e2c3-4fb5-b508-7459e92081dc",
   "metadata": {},
   "outputs": [],
   "source": [
    "for letter in range('Gregory':):\n",
    "    print(letter)"
   ]
  },
  {
   "cell_type": "code",
   "execution_count": null,
   "id": "775df47b-9fa2-4dd8-9048-1811c53fb3dc",
   "metadata": {},
   "outputs": [],
   "source": [
    "for i in range (10):\n",
    "    print(\"The value of i is currently\", i)"
   ]
  },
  {
   "cell_type": "markdown",
   "id": "5ca4c923-8afd-4d2b-9ef0-683ec4ed065d",
   "metadata": {},
   "source": [
    "#### More about the **for loop** and the range() function with three arguments"
   ]
  },
  {
   "cell_type": "code",
   "execution_count": null,
   "id": "16cc8a9d-2824-4b8f-ae63-967d4263b0a6",
   "metadata": {},
   "outputs": [],
   "source": [
    "for i in range(2,8,3):\n",
    "    print(\"The value of i is currently\", i)"
   ]
  },
  {
   "cell_type": "code",
   "execution_count": null,
   "id": "b3cccb1e-4351-4f9f-ab1d-c0bddb4f3c8b",
   "metadata": {},
   "outputs": [],
   "source": [
    "for i in range(1, 1):\n",
    "    print(\"The value of i is currently\", i)"
   ]
  },
  {
   "cell_type": "markdown",
   "id": "5159dd9d-d03c-4303-a7c8-ad58c361c68b",
   "metadata": {},
   "source": [
    "###### Note: the set generated by the range() has to be sorted in ascending order.\n",
    "###### There is no way to force the range() to create a set in a diff form when the range()'s second argument must be greater than the first."
   ]
  },
  {
   "cell_type": "code",
   "execution_count": null,
   "id": "6dbef701-34f9-4d81-a8b6-73d88bdd8baf",
   "metadata": {},
   "outputs": [],
   "source": [
    "for i in range(1, 2):\n",
    "    print(\"The value of i is currently\", i)"
   ]
  },
  {
   "cell_type": "code",
   "execution_count": null,
   "id": "b73d0fa3-7c9c-4fad-b538-46e16f848a78",
   "metadata": {},
   "outputs": [],
   "source": []
  },
  {
   "cell_type": "markdown",
   "id": "8a2f20e1-7b6c-4326-8c98-8849db973ecc",
   "metadata": {},
   "source": [
    "##### Let's have a look at a short program whose task is to write of the first powers of two: "
   ]
  },
  {
   "cell_type": "code",
   "execution_count": null,
   "id": "e92a41f3-85c7-4afc-8811-09079caea0e3",
   "metadata": {},
   "outputs": [],
   "source": [
    "power = 1\n",
    "\n",
    "for expo in range(16):\n",
    "    print(\"2 to the power of\", expo, \"is\", power)\n",
    "    "
   ]
  },
  {
   "cell_type": "code",
   "execution_count": null,
   "id": "3c4eb886-ee31-4711-bede-9c74440621e5",
   "metadata": {},
   "outputs": [],
   "source": [
    "for t in range(1,6):\n",
    "    print(t, \"Mississipi \")\n",
    "else:\n",
    "    print(\"Ready or not, here I come!\")\n"
   ]
  },
  {
   "cell_type": "code",
   "execution_count": null,
   "id": "422ba20f-1d83-4e4f-947f-aeba178d09d4",
   "metadata": {},
   "outputs": [],
   "source": []
  },
  {
   "cell_type": "markdown",
   "id": "c1a4b8e1-4577-4de5-93aa-1032f1fb13e2",
   "metadata": {},
   "source": [
    "#### The break and continue statements"
   ]
  },
  {
   "cell_type": "code",
   "execution_count": null,
   "id": "fcaee3a3-fbb1-4738-b0dd-736b40a93a68",
   "metadata": {},
   "outputs": [],
   "source": [
    "print(\"The break instruction:\")\n",
    "for i in range(1, 6):\n",
    "    if i == 3:\n",
    "        break\n",
    "    print(\"Inside the loop.\", i)\n",
    "print(\"Outside the loop.\")\n"
   ]
  },
  {
   "cell_type": "code",
   "execution_count": null,
   "id": "cc2737e5-e1d3-446d-b300-1c0938a4a4b8",
   "metadata": {},
   "outputs": [],
   "source": [
    "print(\"\\nThe continue instruction:\")\n",
    "for i in range(1, 6):\n",
    "    if i == 3:\n",
    "        continue\n",
    "    print(\"Inside the loop.\", i)\n",
    "print(\"Outside the loop.\")\n"
   ]
  },
  {
   "cell_type": "markdown",
   "id": "313cca49-9b21-42b3-912e-d401ba666739",
   "metadata": {},
   "source": [
    "### More example"
   ]
  },
  {
   "cell_type": "code",
   "execution_count": null,
   "id": "a3570923-0387-4719-89ad-265caddaa231",
   "metadata": {},
   "outputs": [],
   "source": [
    "largest_number = -99999999\n",
    "counter = 0\n",
    "\n",
    "while True:\n",
    "    number = int(input(\"Enter a number or type -1 to end program: \"))\n",
    "    if number == -1:\n",
    "        break\n",
    "    counter += 1\n",
    "    if number > largest_number:\n",
    "        largest_number = number\n",
    "\n",
    "if counter != 0:\n",
    "    print(\"The largest number is\", largest_number)\n",
    "else:\n",
    "    print(\"You haven't entered any number.\")\n"
   ]
  },
  {
   "cell_type": "code",
   "execution_count": null,
   "id": "ab25f2e4-00f5-47ac-aa46-d07d3ce5c4f8",
   "metadata": {},
   "outputs": [],
   "source": [
    "largest_number = -99999999\n",
    "counter = 0\n",
    "\n",
    "number = int(input(\"Enter a number or type -1 to end program: \"))\n",
    "\n",
    "while mumber != -1:\n",
    "    if number == -1:\n",
    "        continue\n",
    "    counter += 1\n",
    "    \n",
    "    if number > largest_number:\n",
    "        largest_number = number\n",
    "    number = int(input(\"Enter a number or type -1 to end program: \"))\n",
    "\n",
    "    \n",
    "\n",
    "if counter:\n",
    "    print(\"The largest number is\", largest_number)\n",
    "else:\n",
    "    print(\"You haven't entered any number.\")"
   ]
  },
  {
   "cell_type": "code",
   "execution_count": null,
   "id": "02f887b7-f77b-4e63-a62c-c0e14179b2c8",
   "metadata": {},
   "outputs": [],
   "source": [
    "# name = chupacabra\n",
    "while True:\n",
    "    print(\" Enter your name: \")\n",
    "    name = input()\n",
    "    if name == 'chupacabra':\n",
    "        break\n",
    "print(\"You've successfully left the loop.\")\n",
    "\n"
   ]
  },
  {
   "cell_type": "code",
   "execution_count": null,
   "id": "dfc373be-ae9f-412a-af90-7e4461eb130f",
   "metadata": {},
   "outputs": [],
   "source": [
    "while True:\n",
    "    word = input(\" You' re stuck in an infinite loop!\\nEnter the secret word to leave the loop: \")\n",
    "    if word == \"chupacabra\":\n",
    "        break\n",
    "print(\"You've successfully left the loop.\")"
   ]
  },
  {
   "cell_type": "code",
   "execution_count": null,
   "id": "5fe89043-98f0-42bc-a793-932fc9a93cb4",
   "metadata": {},
   "outputs": [],
   "source": [
    "user_word = 'Gregory'\n",
    "for letter in user_word:\n",
    "    print(letter)"
   ]
  },
  {
   "cell_type": "code",
   "execution_count": null,
   "id": "8bd8fbd2-1d16-4136-a084-8f07953ca3cf",
   "metadata": {},
   "outputs": [],
   "source": [
    "user_word = 'abstemious'\n",
    "for letter in user_word:\n",
    "    print(letter)"
   ]
  },
  {
   "cell_type": "code",
   "execution_count": null,
   "id": "ccede361-bf6c-494b-86f7-60c696c86bc2",
   "metadata": {},
   "outputs": [],
   "source": [
    "word_without_vowels = \"a,e,i,o,u\"\n",
    "user_word = \"Gregory\"\n",
    "for letter in user_word:\n",
    "    if letter == word_without_vowels:\n",
    "        break\n",
    "    if letter != word_without_vowels:\n",
    "        print(letter)"
   ]
  },
  {
   "cell_type": "code",
   "execution_count": null,
   "id": "e37705f1-d6f3-47af-896e-cef3a9dcfef4",
   "metadata": {},
   "outputs": [],
   "source": [
    "words_without_vowels=\"\"\n",
    "user_word = input(\"Enter your word\")\n",
    "user_word= user_word.upper()\n",
    "\n",
    "\n",
    "for letter in user_word:\n",
    "    if letter == \"A\":\n",
    "        continue\n",
    "    elif letter == \"E\":\n",
    "        continue\n",
    "    elif letter == \"I\":\n",
    "        continue\n",
    "    elif letter == \"O\":\n",
    "        continue\n",
    "    elif letter == \"U\":\n",
    "        continue\n",
    "    else:\n",
    "        words_without_vowels += letter\n",
    "print(words_without_vowels)"
   ]
  },
  {
   "cell_type": "code",
   "execution_count": null,
   "id": "1329419d-20eb-4738-8587-081b098d9e1c",
   "metadata": {},
   "outputs": [],
   "source": [
    "words_without_vowels=\"\"\n",
    "user_word = input(\"Enter your word\")\n",
    "user_word= user_word.upper()\n",
    "\n",
    "\n",
    "for letter in user_word:\n",
    "    if letter == \"A\":\n",
    "        continue\n",
    "    elif letter == \"E\":\n",
    "        continue\n",
    "    elif letter == \"I\":\n",
    "        continue\n",
    "    elif letter == \"O\":\n",
    "        continue\n",
    "    elif letter == \"U\":\n",
    "        continue\n",
    "    else:\n",
    "         words_without_vowels += letter\n",
    "print(words_without_vowels)"
   ]
  },
  {
   "cell_type": "code",
   "execution_count": null,
   "id": "0232bfe3-25ce-4bd1-995f-105afaedd5c4",
   "metadata": {},
   "outputs": [],
   "source": [
    "words_without_vowels=\"\"\n",
    "user_word = input(\"Enter your word\")\n",
    "user_word= user_word.upper()\n",
    "\n",
    "\n",
    "for letter in user_word:\n",
    "    if letter == \"A\":\n",
    "        continue\n",
    "    elif letter == \"E\":\n",
    "        continue\n",
    "    elif letter == \"I\":\n",
    "        continue\n",
    "    elif letter == \"O\":\n",
    "        continue\n",
    "    elif letter == \"U\":\n",
    "        continue\n",
    "    else:\n",
    "         words_without_vowels += letter\n",
    "         print(letter)"
   ]
  },
  {
   "cell_type": "code",
   "execution_count": null,
   "id": "2b130b65-0cfc-4afd-a21c-4e3c10c6bef6",
   "metadata": {},
   "outputs": [],
   "source": []
  },
  {
   "cell_type": "code",
   "execution_count": null,
   "id": "0a3fb7d1-eca7-4b42-a0c0-70a74957418f",
   "metadata": {},
   "outputs": [],
   "source": [
    "i = 5\n",
    "while i < 5:\n",
    "    print(i)\n",
    "    i += 1\n",
    "else:\n",
    "    print(\"else:\", i)"
   ]
  },
  {
   "cell_type": "code",
   "execution_count": null,
   "id": "0ecbe259-c45e-432e-8548-28267aa39041",
   "metadata": {},
   "outputs": [],
   "source": [
    "i = 111\n",
    "for i in range(2,1):\n",
    "    print(i)\n",
    "else:\n",
    "    print(\"else:\", i)"
   ]
  },
  {
   "cell_type": "code",
   "execution_count": null,
   "id": "15c5b413-d25d-4a17-b696-3f78828d923f",
   "metadata": {},
   "outputs": [],
   "source": [
    "for i in range(6):\n",
    "    print(i)\n",
    "else:\n",
    "    print(\"else:\", i)"
   ]
  },
  {
   "cell_type": "code",
   "execution_count": null,
   "id": "259eeedf-6a84-40cf-8379-295f0fcb4ba6",
   "metadata": {},
   "outputs": [],
   "source": []
  },
  {
   "cell_type": "code",
   "execution_count": null,
   "id": "9abd9732-2332-4419-b348-8616c459b1ca",
   "metadata": {},
   "outputs": [],
   "source": [
    "blocks = int(input(\"Enter the number of blocks: \"))\n",
    "\n",
    "height = 0\n",
    "in_layer = 1\n",
    "while in_layer <= blocks:\n",
    "    height += 1\n",
    "    blocks -= in_layer\n",
    "    in_layer += 1\n",
    "    \n",
    "print(\"The height of the pyramid:\", height)"
   ]
  },
  {
   "cell_type": "code",
   "execution_count": null,
   "id": "9152c189-d7e5-4712-9124-404e7e831cbe",
   "metadata": {},
   "outputs": [],
   "source": [
    "blocks = int(input(\"Enter the number of blocks: \"))\n",
    "\n",
    "height = 0\n",
    "in_layer = 1\n",
    "while in_layer <= blocks:\n",
    "    height += 1\n",
    "    blocks -= in_layer\n",
    "    in_layer += 1\n",
    "    \n",
    "print(\"The height of the pyramid:\", height)"
   ]
  },
  {
   "cell_type": "code",
   "execution_count": null,
   "id": "ad741ea4-d91a-4e43-b242-0f8100ee374f",
   "metadata": {},
   "outputs": [],
   "source": [
    "c0 = int(input(\"Enter c0: \"))\n",
    "\n",
    "if c0 > 1:\n",
    "    steps = 0\n",
    "    while c0 != 1:\n",
    "        if c0 % 2 != 0:\n",
    "            cnew = 3 * c0 + 1\n",
    "        else:\n",
    "            cnew = c0 // 2\n",
    "        print(c0)\n",
    "        c0 = cnew\n",
    "        steps += 1\n",
    "    print(\"steps =\", steps)\n",
    "else:\n",
    "    print(\"Bad c0 value\")"
   ]
  },
  {
   "cell_type": "code",
   "execution_count": null,
   "id": "2e2cf42f-30cc-4fc6-86e8-74a3215547ee",
   "metadata": {},
   "outputs": [],
   "source": [
    "c0 = int(input(\"Enter c0: \"))\n",
    "\n",
    "if c0 > 1:\n",
    "    steps = 0\n",
    "    while c0 != 1:\n",
    "        if c0 % 2 != 0:\n",
    "            cnew = 3 * c0 + 1\n",
    "        else:\n",
    "            cnew = c0 // 2\n",
    "        print(c0)\n",
    "        c0 = cnew\n",
    "        steps += 1\n",
    "    print(\"steps =\", steps)\n",
    "else:\n",
    "    print(\"Bad c0 value\")"
   ]
  },
  {
   "cell_type": "code",
   "execution_count": null,
   "id": "9063b1c7-dbcf-4517-9bcf-e58974b02973",
   "metadata": {},
   "outputs": [],
   "source": [
    "c0 = int(input(\"Enter c0: \"))\n",
    "\n",
    "if c0 > 1:\n",
    "    steps = 0\n",
    "    while c0 != 1:\n",
    "        if c0 % 2 != 0:\n",
    "            cnew = 3 * c0 + 1\n",
    "        else:\n",
    "            cnew = c0 // 2\n",
    "        print(c0)\n",
    "        c0 = cnew\n",
    "        steps += 1\n",
    "    print(\"steps =\", steps)\n",
    "else:\n",
    "    print(\"Bad c0 value\")"
   ]
  },
  {
   "cell_type": "markdown",
   "id": "2d4153c4-12e7-4f9b-9fa5-097e059abf16",
   "metadata": {},
   "source": [
    "### Key Takeaway \n"
   ]
  },
  {
   "cell_type": "markdown",
   "id": "8e143128-05a2-426c-9100-a50e549ff339",
   "metadata": {},
   "source": [
    "##### There are two types of loops in Python: **while** and **for**:\n",
    "######       - The **while** loop executes a statement or a set of statements as long as a as specified boolean condition is true, e.g: "
   ]
  },
  {
   "cell_type": "code",
   "execution_count": null,
   "id": "3290f897-e24a-4e2d-b363-b7733d85cbde",
   "metadata": {},
   "outputs": [],
   "source": [
    "# example 1\n",
    "while True:\n",
    "    print(\"stuck in an infinite loop.\")\n",
    "\n",
    "\n",
    "# Example 2\n",
    "\n",
    "counter = 5\n",
    "while counter > 2:\n",
    "    print(counter)\n",
    "    counter -= 1"
   ]
  },
  {
   "cell_type": "code",
   "execution_count": null,
   "id": "b3f60e1a-37e0-47a1-b426-8eb47b961035",
   "metadata": {},
   "outputs": [],
   "source": [
    "x = 1\n",
    "while x < 11:\n",
    "    print(x)\n",
    "    x += 1 \n"
   ]
  },
  {
   "cell_type": "markdown",
   "id": "3a8958ff-a871-41df-8158-127680f62b57",
   "metadata": {},
   "source": [
    "##### **.** the **for** loop executes a set of statements many times;it's used to iterate over a sequence(e.g, a list, a dictionary,a tuple, or a set- you will learn about them soon) or other objects that are iterable(e.g strings). You can use the **for** loop to iterate over a sequence of numbers using the built-in **range** function. Look at the example below:"
   ]
  },
  {
   "cell_type": "code",
   "execution_count": null,
   "id": "00f6a814-e162-4bea-b4f8-4a8a4796841d",
   "metadata": {},
   "outputs": [],
   "source": [
    "# Example 1\n",
    "\n",
    "word = \"Python\"\n",
    "for letter in word:\n",
    "    print(letter, end=\"*\")\n",
    "\n",
    "# example 2\n",
    "for i in range(1, 10):\n",
    "    if i % 2 == 0:\n",
    "        print(i)"
   ]
  },
  {
   "cell_type": "code",
   "execution_count": null,
   "id": "b997d456-f149-4c1b-bac9-e5a7d8c75685",
   "metadata": {},
   "outputs": [],
   "source": [
    "for i in range(1, 10):\n",
    "    if i % 2 == 0:\n",
    "        print(i)"
   ]
  },
  {
   "cell_type": "markdown",
   "id": "dcd181f1-c01b-4e64-b3bf-6254fa1c41e8",
   "metadata": {},
   "source": [
    "#### 2. You can use the **break** and **continue** statements to change the flow of a loop:\n",
    "\n",
    "##### - You use break to exit a loop, e.g:\n",
    "\n",
    "\n",
    "    text = \"OpenEDG Python Institute\"\n",
    "      for letter in text:\n",
    "        if letter == \"p\":\n",
    "        break\n",
    "    print(lettr, end=\"\")\n",
    "\n",
    "##### - You use **continue** to skip the current iteration, and continue with the next iteration, e.g:\n",
    "\n",
    "\n",
    "      text = \"pyxpyxpyx\"\n",
    "       for letter in text:\n",
    "         if letter == \"x\":\n",
    "        continue\n",
    "    print(letter, end=\"\")\n",
    "    "
   ]
  },
  {
   "cell_type": "code",
   "execution_count": null,
   "id": "bbc16467-b2ae-4e3f-9801-2b63d8764128",
   "metadata": {},
   "outputs": [],
   "source": [
    "text = \"OpenEDG Python Institute\"\n",
    "for letter in text:\n",
    "    if letter == \"p\":\n",
    "        break\n",
    "    print(letter, end=\"\")"
   ]
  },
  {
   "cell_type": "code",
   "execution_count": null,
   "id": "358c5c99-ca8c-45fe-81e7-d3259dcd249a",
   "metadata": {},
   "outputs": [],
   "source": [
    "text = \"pyxpyxpyx\"\n",
    "for letter in text:\n",
    "    if letter == \"x\":\n",
    "        continue\n",
    "    print(letter, end=\"\")\n",
    "    "
   ]
  },
  {
   "cell_type": "markdown",
   "id": "408a2314-b999-45af-a59d-3bff90db81fc",
   "metadata": {},
   "source": [
    "#### 3. The **while** and **for** loops can also have an **else** clause in Python. The **else** clause executes after the loop finiahes its execution as long as it has not been terminated by **break,e.g"
   ]
  },
  {
   "cell_type": "code",
   "execution_count": null,
   "id": "74da1656-1b65-457b-97d6-84cc036ef4b5",
   "metadata": {},
   "outputs": [],
   "source": [
    "n = 0\n",
    "\n",
    "while n != 3:\n",
    "    print(n)\n",
    "    n += 1\n",
    "else:\n",
    "    print(n, \"else\")\n",
    "\n",
    "print()\n",
    "\n",
    "for i in range(0, 3):\n",
    "    print(i)\n",
    "else:\n",
    "    print(i, \"else\")"
   ]
  },
  {
   "cell_type": "markdown",
   "id": "c23ab5aa-438b-41ed-bc9f-1445be3e217c",
   "metadata": {},
   "source": [
    "#### 4. The **range() function generates a sequence of numbers. It accepts integers and returns range objects. The syntax of **range()** looks as follows: range(start, stop, step), where:\n",
    "\n",
    "#####     - **start** is an optional parameter specifying the starting number of the sequence(0 by default)\n",
    "#####     - **stop** is an optional parameter specifying the end of the sequence(it is not included),\n",
    "#####     - and **step** is an optional parameter specifying the different btw the numbers in the sequence(1 by default)\n",
    "\n",
    "##### Example code:"
   ]
  },
  {
   "cell_type": "code",
   "execution_count": null,
   "id": "8710fe4d-163a-4c69-a92b-2a7012f07d9f",
   "metadata": {},
   "outputs": [],
   "source": [
    "for i in range(3):\n",
    "    print(i, end=\" \")\n",
    "\n",
    "print()\n",
    "\n",
    "for i in range(6,1, -2):\n",
    "    print(i, end=\" \")\n"
   ]
  },
  {
   "cell_type": "markdown",
   "id": "113a13bf-8ece-4455-87da-5bca90700e03",
   "metadata": {},
   "source": [
    "#### Key takeaways: Continued\n",
    "#### **Exercise**"
   ]
  },
  {
   "cell_type": "code",
   "execution_count": null,
   "id": "9b775623-f8ed-438b-a39a-c0a4e3473ca7",
   "metadata": {},
   "outputs": [],
   "source": [
    "for i in range(1, 11):\n",
    "    print(i)"
   ]
  },
  {
   "cell_type": "code",
   "execution_count": null,
   "id": "4e0dc616-1d52-4fd4-aa1d-02437a5b19fd",
   "metadata": {},
   "outputs": [],
   "source": [
    "for i in range(1, 11):\n",
    "    if i % 2 != 0:\n",
    "        print(i)"
   ]
  },
  {
   "cell_type": "code",
   "execution_count": null,
   "id": "96bfae95-2c8d-4b8f-a65b-5f6f78e437ea",
   "metadata": {},
   "outputs": [],
   "source": [
    "x = 1\n",
    "while x < 11:\n",
    "    if x % 2 != 0:\n",
    "        print(x)\n",
    "    x += 1\n",
    "    \n",
    "    "
   ]
  },
  {
   "cell_type": "code",
   "execution_count": null,
   "id": "54f77c40-c992-44c3-a723-23eadeb84e51",
   "metadata": {},
   "outputs": [],
   "source": [
    "for ch in \"john.smith@pythoninstitute.org\":\n",
    "    if ch == \"@\":\n",
    "        break\n",
    "    print(ch, end=\"\")"
   ]
  },
  {
   "cell_type": "code",
   "execution_count": null,
   "id": "c687d91a-f4f1-4b16-92fc-097d220df31a",
   "metadata": {},
   "outputs": [],
   "source": [
    "for digit in \"0165031806510\":\n",
    "    if digit == \"0\":\n",
    "        continue\n",
    "    print(digit, end=\"\")"
   ]
  },
  {
   "cell_type": "code",
   "execution_count": null,
   "id": "2d917620-82e1-47b9-94c0-b2f63911819b",
   "metadata": {},
   "outputs": [],
   "source": [
    "n = 3\n",
    "\n",
    "while n > 0:\n",
    "    print(n + 1)\n",
    "    n -= 1\n",
    "else:\n",
    "    print(n)\n"
   ]
  },
  {
   "cell_type": "code",
   "execution_count": null,
   "id": "0da90700-420b-490e-b2e2-8eb5d32652c5",
   "metadata": {},
   "outputs": [],
   "source": []
  },
  {
   "cell_type": "code",
   "execution_count": null,
   "id": "9b447f64-c2de-44a5-b1bd-ffe18c0f4657",
   "metadata": {},
   "outputs": [],
   "source": [
    "n = range(4)\n",
    "\n",
    "for num in n:\n",
    "    print(num - 1)\n",
    "else:\n",
    "    print(num)"
   ]
  },
  {
   "cell_type": "code",
   "execution_count": null,
   "id": "055e6725-129b-496b-8702-2462761ecab2",
   "metadata": {},
   "outputs": [],
   "source": [
    "for i in range(0, 6, 2):\n",
    "    print(i)"
   ]
  },
  {
   "cell_type": "code",
   "execution_count": null,
   "id": "140ea3b9-5cce-4ee6-abfc-32a91b06afca",
   "metadata": {},
   "outputs": [],
   "source": []
  },
  {
   "cell_type": "code",
   "execution_count": null,
   "id": "32b6b8e6-6ab8-464b-a22e-04cc9027429a",
   "metadata": {},
   "outputs": [],
   "source": []
  },
  {
   "cell_type": "code",
   "execution_count": null,
   "id": "f3267bd0-e2a7-48cf-bb21-589e80c7c722",
   "metadata": {},
   "outputs": [],
   "source": []
  }
 ],
 "metadata": {
  "kernelspec": {
   "display_name": "Python 3 (ipykernel)",
   "language": "python",
   "name": "python3"
  },
  "language_info": {
   "codemirror_mode": {
    "name": "ipython",
    "version": 3
   },
   "file_extension": ".py",
   "mimetype": "text/x-python",
   "name": "python",
   "nbconvert_exporter": "python",
   "pygments_lexer": "ipython3",
   "version": "3.12.4"
  }
 },
 "nbformat": 4,
 "nbformat_minor": 5
}
