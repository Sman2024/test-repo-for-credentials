{
 "cells": [
  {
   "cell_type": "markdown",
   "id": "58f7b35d-5445-4ef5-b383-32f7cb8c8437",
   "metadata": {},
   "source": [
    "### *args"
   ]
  },
  {
   "cell_type": "code",
   "execution_count": null,
   "id": "2abbbd05-3d35-4e08-82b9-7cb062174956",
   "metadata": {},
   "outputs": [],
   "source": [
    "def myfunc(a,b):\n",
    "    return sum((a,b))* .05"
   ]
  },
  {
   "cell_type": "code",
   "execution_count": null,
   "id": "e9f1833a-34c1-40db-8e9a-7b767118aa2d",
   "metadata": {},
   "outputs": [],
   "source": [
    "myfunc(40,60)"
   ]
  },
  {
   "cell_type": "code",
   "execution_count": null,
   "id": "3c8b9034-40cb-492a-a4c7-e6ff27ff3e77",
   "metadata": {},
   "outputs": [],
   "source": [
    "def myfunc(a,b,c):\n",
    "    return sum((a,b,c))* .05"
   ]
  },
  {
   "cell_type": "code",
   "execution_count": null,
   "id": "fc337474-97ae-44c9-adc3-29ff9e9bad24",
   "metadata": {},
   "outputs": [],
   "source": [
    "myfunc(40,60,10)"
   ]
  },
  {
   "cell_type": "code",
   "execution_count": null,
   "id": "1f541a8e-5ae2-4145-bddb-e780d43d0bf0",
   "metadata": {},
   "outputs": [],
   "source": [
    "def myfunc1(a,b,c=0):\n",
    "    return sum((a,b,c))* .05"
   ]
  },
  {
   "cell_type": "code",
   "execution_count": null,
   "id": "f1fc4612-0fd4-40e3-a618-7ad6354fd8b0",
   "metadata": {},
   "outputs": [],
   "source": [
    "myfunc1(40,60,10)"
   ]
  },
  {
   "cell_type": "code",
   "execution_count": null,
   "id": "a90d2aa4-fbeb-4933-bf19-9c9f4a9ea25a",
   "metadata": {},
   "outputs": [],
   "source": [
    "#Summing Numbers\n",
    "def sum_numbers(*args):\n",
    "    return sum(args)"
   ]
  },
  {
   "cell_type": "code",
   "execution_count": null,
   "id": "49c9de73-10d8-4f59-9cc0-da3a9b862e2b",
   "metadata": {},
   "outputs": [],
   "source": [
    "sum_numbers(70,60,50,10,20,30,40)"
   ]
  },
  {
   "cell_type": "code",
   "execution_count": null,
   "id": "62fabc7b-0fea-446c-a181-e9797f1001c3",
   "metadata": {},
   "outputs": [],
   "source": [
    "# Concatenating String\n",
    "\n",
    "def concatenate(*args):\n",
    "    return '_ '.join(args)"
   ]
  },
  {
   "cell_type": "code",
   "execution_count": null,
   "id": "027b1409-720b-4b98-bb41-311877005b26",
   "metadata": {},
   "outputs": [],
   "source": [
    "concatenate('my', 'name', 'is', 'Python')"
   ]
  },
  {
   "cell_type": "code",
   "execution_count": null,
   "id": "e9a7af1c-55d4-47e8-9b57-499935b9c2a0",
   "metadata": {},
   "outputs": [],
   "source": [
    "# finding Maximum\n",
    "\n",
    "def list(*args):\n",
    "    return max(args)"
   ]
  },
  {
   "cell_type": "code",
   "execution_count": null,
   "id": "07935d44-fd3c-4e6d-813c-25a41c4db93a",
   "metadata": {},
   "outputs": [],
   "source": [
    "list(2,5,7,16,5,1,9)"
   ]
  },
  {
   "cell_type": "code",
   "execution_count": null,
   "id": "f1e25389-8e91-445b-a50b-470e0441adf2",
   "metadata": {},
   "outputs": [],
   "source": [
    "def find_max(*args):\n",
    "    return max(args)"
   ]
  },
  {
   "cell_type": "code",
   "execution_count": null,
   "id": "34c62eb9-1b4e-4418-ac0e-523258d7354c",
   "metadata": {},
   "outputs": [],
   "source": [
    "find_max(2,5,7,16,5,1,9)"
   ]
  },
  {
   "cell_type": "code",
   "execution_count": null,
   "id": "2087e3b1-6952-40d5-9443-0830506da3f0",
   "metadata": {},
   "outputs": [],
   "source": [
    "def find_min(*args):\n",
    "    return min(args)"
   ]
  },
  {
   "cell_type": "code",
   "execution_count": null,
   "id": "73520996-51ef-406b-b4d3-312c104cbded",
   "metadata": {},
   "outputs": [],
   "source": [
    "find_min(2,5,7,16,5,1,9)"
   ]
  },
  {
   "cell_type": "code",
   "execution_count": null,
   "id": "067925be-c145-4a71-91ad-0e8e0d9c69d5",
   "metadata": {},
   "outputs": [],
   "source": [
    "# Multiplication\n",
    "\n",
    "def multiply(*args):\n",
    "    result = 1\n",
    "    for num in args:\n",
    "        result *= num\n",
    "    return result"
   ]
  },
  {
   "cell_type": "code",
   "execution_count": null,
   "id": "c56b24ca-8121-4e61-9289-31e07dc6da19",
   "metadata": {},
   "outputs": [],
   "source": [
    "multiply(2,3,4,5,6,7)"
   ]
  },
  {
   "cell_type": "code",
   "execution_count": null,
   "id": "7d101a72-47e3-437e-a57f-aecc259dc7df",
   "metadata": {},
   "outputs": [],
   "source": [
    "def print_args(*args):\n",
    "    for i in args:\n",
    "        print(i)\n",
    "\n",
    "print_args('string', 134, True, False)"
   ]
  },
  {
   "cell_type": "code",
   "execution_count": null,
   "id": "258c3325-47e4-4f25-818f-7ef76a2ecb84",
   "metadata": {},
   "outputs": [],
   "source": []
  },
  {
   "cell_type": "markdown",
   "id": "90173de7-4162-44f2-91f3-5068041f836b",
   "metadata": {},
   "source": [
    "### **kwargs"
   ]
  },
  {
   "cell_type": "code",
   "execution_count": null,
   "id": "6d4814cc-107a-4a7f-9a56-0bd56d3aea1f",
   "metadata": {},
   "outputs": [],
   "source": [
    "# Printing key-value pairs\n",
    "\n",
    "def print_key_values(**kwargs):\n",
    "    for key, value in kwargs.items():\n",
    "        print(key,value)"
   ]
  },
  {
   "cell_type": "code",
   "execution_count": null,
   "id": "3d8e3dd4-d5da-4110-a06f-a35b27773178",
   "metadata": {},
   "outputs": [],
   "source": [
    "print_key_values(a=1, b=2,c=4,d=20)"
   ]
  },
  {
   "cell_type": "code",
   "execution_count": null,
   "id": "be3e4948-9cb9-499a-8d7d-c6e6e516bd4d",
   "metadata": {},
   "outputs": [],
   "source": [
    "print_key_values(a=1, b=2,c=4)"
   ]
  },
  {
   "cell_type": "code",
   "execution_count": null,
   "id": "0bf9cc40-bbaa-47b3-aa92-d48a6b861979",
   "metadata": {},
   "outputs": [],
   "source": [
    "# Create a Dicktionary\n",
    "\n",
    "def create_dict(**kwargs):\n",
    "    return kwargs"
   ]
  },
  {
   "cell_type": "code",
   "execution_count": null,
   "id": "4f005c1a-792c-4dd2-9c70-da42fbd5cfdb",
   "metadata": {},
   "outputs": [],
   "source": [
    "create_dict(x=10,y=12,z=20)"
   ]
  },
  {
   "cell_type": "code",
   "execution_count": null,
   "id": "7cfbfbf2-3822-4df6-8b96-9147775d1ca1",
   "metadata": {},
   "outputs": [],
   "source": [
    "# User profile\n",
    "\n",
    "def user_profile(**kwargs):\n",
    "    print(f\"Name: {kwargs['name']}, Age: {kwargs['age']}\")"
   ]
  },
  {
   "cell_type": "code",
   "execution_count": null,
   "id": "b593209d-99f4-4b33-9c6b-5c457fba6bb8",
   "metadata": {},
   "outputs": [],
   "source": [
    "user_profile(name = 'John', age = 20)"
   ]
  },
  {
   "cell_type": "code",
   "execution_count": null,
   "id": "a1a2c453-a44a-446f-abba-fc1f6bebed8c",
   "metadata": {},
   "outputs": [],
   "source": [
    "user_profile(name = 'dare', age = 36)"
   ]
  },
  {
   "cell_type": "code",
   "execution_count": null,
   "id": "76936fc0-d4e8-42e9-83ce-acb21b17b15f",
   "metadata": {},
   "outputs": [],
   "source": [
    "def user_profile(**kwargs):\n",
    "    print(f\"Name: {kwargs['name']}, Age: {kwargs['age']}, gender: {kwargs['gender']}\")"
   ]
  },
  {
   "cell_type": "code",
   "execution_count": null,
   "id": "99f2cc66-5462-4735-a242-d8c6527c10d8",
   "metadata": {},
   "outputs": [],
   "source": [
    "user_profile(name = 'Raji Sulaeman', age = '36', gender = 'male')"
   ]
  },
  {
   "cell_type": "code",
   "execution_count": null,
   "id": "fe5dea26-6bcf-4b61-b478-1c7ce6aa01e2",
   "metadata": {},
   "outputs": [],
   "source": [
    "# Calculating area\n",
    "\n",
    "def area(**kwargs):\n",
    "    return kwargs['length'] * kwargs['width']"
   ]
  },
  {
   "cell_type": "code",
   "execution_count": null,
   "id": "f21d75cb-4a41-4157-9d73-a93ae2142269",
   "metadata": {},
   "outputs": [],
   "source": [
    "area(length = 5, width = 10)"
   ]
  },
  {
   "cell_type": "code",
   "execution_count": 1,
   "id": "81462cf8-8153-42d5-aa4b-ffba895539ce",
   "metadata": {},
   "outputs": [],
   "source": [
    "def cube(**kwargs):\n",
    "    return kwargs['length'] * kwargs['width']"
   ]
  },
  {
   "cell_type": "code",
   "execution_count": 2,
   "id": "650f53fb-d247-4719-afe1-fc129194acc8",
   "metadata": {},
   "outputs": [
    {
     "data": {
      "text/plain": [
       "24"
      ]
     },
     "execution_count": 2,
     "metadata": {},
     "output_type": "execute_result"
    }
   ],
   "source": [
    "cube(length = 12, width = 2)"
   ]
  },
  {
   "cell_type": "code",
   "execution_count": 3,
   "id": "66a2a053-c56f-431b-9490-3b6b1923b31c",
   "metadata": {},
   "outputs": [],
   "source": [
    "# calculating volume\n",
    "\n",
    "def volume(**kwargs):\n",
    "    return kwargs['length'] * kwargs['width'] * kwargs['height']"
   ]
  },
  {
   "cell_type": "code",
   "execution_count": 4,
   "id": "aa1bf279-3931-4b6f-a967-72268d915b7b",
   "metadata": {},
   "outputs": [
    {
     "data": {
      "text/plain": [
       "1000"
      ]
     },
     "execution_count": 4,
     "metadata": {},
     "output_type": "execute_result"
    }
   ],
   "source": [
    "volume(length = 20, width = 10, height = 5)"
   ]
  },
  {
   "cell_type": "code",
   "execution_count": 5,
   "id": "2a483679-a0e5-4b22-94e8-1e97cb3708b9",
   "metadata": {},
   "outputs": [
    {
     "data": {
      "text/plain": [
       "'Volume: 20 * 10 * 5'"
      ]
     },
     "execution_count": 5,
     "metadata": {},
     "output_type": "execute_result"
    }
   ],
   "source": [
    "def volume(**kwargs):\n",
    "    return f\"Volume: {kwargs['length']} * {kwargs['width']} * {kwargs['height']}\"\n",
    "\n",
    "volume(length = 20, width = 10, height = 5)"
   ]
  },
  {
   "cell_type": "code",
   "execution_count": 10,
   "id": "1de60dfe-7cc6-48fa-ae00-08d3fb08a362",
   "metadata": {},
   "outputs": [],
   "source": [
    "# Concatenation\n",
    "\n",
    "def concat_with_sep(separator = '',**kwargs):\n",
    "    return separator.join(kwargs.keys())"
   ]
  },
  {
   "cell_type": "code",
   "execution_count": 11,
   "id": "8b229aa0-ef37-44cd-a401-8c4f76c81296",
   "metadata": {},
   "outputs": [
    {
     "data": {
      "text/plain": [
       "'a-b-c-d'"
      ]
     },
     "execution_count": 11,
     "metadata": {},
     "output_type": "execute_result"
    }
   ],
   "source": [
    "concat_with_sep('-', a='1', b='2', c='3', d='4')"
   ]
  },
  {
   "cell_type": "code",
   "execution_count": 12,
   "id": "900ff6bb-4964-4c3c-a1ee-d22750591cc1",
   "metadata": {},
   "outputs": [
    {
     "data": {
      "text/plain": [
       "'1-2-3-4'"
      ]
     },
     "execution_count": 12,
     "metadata": {},
     "output_type": "execute_result"
    }
   ],
   "source": [
    "def concat_with_sep(separator = '',**kwargs):\n",
    "    return separator.join(kwargs.values())\n",
    "\n",
    "concat_with_sep('-', a='1', b='2', c='3', d='4')"
   ]
  },
  {
   "cell_type": "markdown",
   "id": "b63a9ad4-f86f-466f-be8c-ec6415d00a5e",
   "metadata": {},
   "source": [
    "### args - positional Arguments\n",
    "### kwargs - keyword Arguments"
   ]
  },
  {
   "cell_type": "code",
   "execution_count": 16,
   "id": "9fe43b80-5124-4fd0-be7b-01d647b255e0",
   "metadata": {},
   "outputs": [
    {
     "name": "stdout",
     "output_type": "stream",
     "text": [
      "(1, 2, 3)\n",
      "{'a': 'x', 'b': 'y'}\n"
     ]
    }
   ],
   "source": [
    "# Printing both types of arguments\n",
    "\n",
    "def print_both(*args, **kwargs):\n",
    "    print(args)\n",
    "    print(kwargs)\n",
    "\n",
    "print_both(1,2,3,a='x',b='y')"
   ]
  },
  {
   "cell_type": "raw",
   "id": "d29fcc9d-df95-4fad-9287-f9756b6cd263",
   "metadata": {},
   "source": [
    "print_both(1,2,3,a='x',b='y')"
   ]
  },
  {
   "cell_type": "code",
   "execution_count": 17,
   "id": "199b9f06-75b6-44cb-86ff-9a7caf04fbcd",
   "metadata": {},
   "outputs": [
    {
     "name": "stdout",
     "output_type": "stream",
     "text": [
      "(1, 2, 3)\n",
      "{'a': 'x', 'b': 'y'}\n"
     ]
    }
   ],
   "source": [
    "print_both(1,2,3,a='x',b='y')"
   ]
  },
  {
   "cell_type": "code",
   "execution_count": 18,
   "id": "72057299-a9a0-4c79-bc85-5c4f3de025f8",
   "metadata": {},
   "outputs": [
    {
     "name": "stdout",
     "output_type": "stream",
     "text": [
      "(1, 2, 4, 5, 6, 7)\n",
      "{'a': 'x', 'b': 'y', 'c': 'z'}\n"
     ]
    }
   ],
   "source": [
    "print_both(1,2,4,5,6,7,a='x',b='y',c='z')"
   ]
  },
  {
   "cell_type": "code",
   "execution_count": 19,
   "id": "10f237d2-ee1f-4a17-8de4-0bf982241047",
   "metadata": {},
   "outputs": [],
   "source": [
    "# Calculating Total Price\n",
    "def total_price(*quantities, **prices):\n",
    "    return sum(q * prices[product] for q, product in zip(quantities,prices))"
   ]
  },
  {
   "cell_type": "code",
   "execution_count": 20,
   "id": "8329fc2b-bc85-4033-acf3-ce6171821e5a",
   "metadata": {},
   "outputs": [
    {
     "data": {
      "text/plain": [
       "48"
      ]
     },
     "execution_count": 20,
     "metadata": {},
     "output_type": "execute_result"
    }
   ],
   "source": [
    "total_price(2,3,5,apples=10,strawberry=6,orange=2)"
   ]
  },
  {
   "cell_type": "code",
   "execution_count": 21,
   "id": "1bd869e5-b646-4676-9dc0-43500507a731",
   "metadata": {},
   "outputs": [],
   "source": [
    "# a = 2i + 3j + 4k\n",
    "# b = 4i + 5j + 7k\n",
    "# Total = 6i + 8j + 11k"
   ]
  },
  {
   "cell_type": "code",
   "execution_count": null,
   "id": "43db100a-59c8-443e-b3a9-745805a7bbdd",
   "metadata": {},
   "outputs": [],
   "source": []
  },
  {
   "cell_type": "code",
   "execution_count": null,
   "id": "3031ba24-48f7-4845-8716-53e0a8292a1c",
   "metadata": {},
   "outputs": [],
   "source": []
  },
  {
   "cell_type": "code",
   "execution_count": null,
   "id": "310d0bf2-8ca6-4dbb-bd7c-6c4b67fd4f98",
   "metadata": {},
   "outputs": [],
   "source": []
  },
  {
   "cell_type": "code",
   "execution_count": null,
   "id": "39ed0ac7-bde0-404f-b18e-8415de5e1c1e",
   "metadata": {},
   "outputs": [],
   "source": []
  },
  {
   "cell_type": "code",
   "execution_count": null,
   "id": "667a967d-1558-43c4-8f07-901acb239711",
   "metadata": {},
   "outputs": [],
   "source": []
  },
  {
   "cell_type": "code",
   "execution_count": null,
   "id": "e22f4108-2340-4e50-b6f7-c6d73d109869",
   "metadata": {},
   "outputs": [],
   "source": []
  },
  {
   "cell_type": "code",
   "execution_count": null,
   "id": "cc4f8705-5868-4a2b-a774-9e830ad1cf16",
   "metadata": {},
   "outputs": [],
   "source": []
  },
  {
   "cell_type": "code",
   "execution_count": null,
   "id": "060e229b-0a1d-4ac3-becb-8a780fbb5021",
   "metadata": {},
   "outputs": [],
   "source": []
  },
  {
   "cell_type": "code",
   "execution_count": null,
   "id": "60514505-4cda-4d90-9a6c-4be42f5239e9",
   "metadata": {},
   "outputs": [],
   "source": []
  },
  {
   "cell_type": "code",
   "execution_count": null,
   "id": "b492d20f-59cf-46b4-9487-3c4ace0569cc",
   "metadata": {},
   "outputs": [],
   "source": []
  },
  {
   "cell_type": "code",
   "execution_count": null,
   "id": "3ea76934-ef2e-4d21-98e4-3c4831488ebb",
   "metadata": {},
   "outputs": [],
   "source": []
  },
  {
   "cell_type": "code",
   "execution_count": null,
   "id": "56722465-1dbf-4502-ab32-e0e3e96181d0",
   "metadata": {},
   "outputs": [],
   "source": []
  },
  {
   "cell_type": "code",
   "execution_count": null,
   "id": "374dbfea-8b2e-4d65-8f23-29f9b2c975f6",
   "metadata": {},
   "outputs": [],
   "source": []
  },
  {
   "cell_type": "code",
   "execution_count": null,
   "id": "3a80e444-f8c4-4e18-af79-3e9feac3156c",
   "metadata": {},
   "outputs": [],
   "source": []
  },
  {
   "cell_type": "code",
   "execution_count": null,
   "id": "c967c6b6-7648-4054-a20c-7e00ce728bbc",
   "metadata": {},
   "outputs": [],
   "source": []
  },
  {
   "cell_type": "code",
   "execution_count": null,
   "id": "37c56184-6afc-41c3-888d-10207d429d61",
   "metadata": {},
   "outputs": [],
   "source": []
  },
  {
   "cell_type": "code",
   "execution_count": null,
   "id": "216d53ec-8267-404f-b64d-df318d671396",
   "metadata": {},
   "outputs": [],
   "source": []
  }
 ],
 "metadata": {
  "kernelspec": {
   "display_name": "Python 3 (ipykernel)",
   "language": "python",
   "name": "python3"
  },
  "language_info": {
   "codemirror_mode": {
    "name": "ipython",
    "version": 3
   },
   "file_extension": ".py",
   "mimetype": "text/x-python",
   "name": "python",
   "nbconvert_exporter": "python",
   "pygments_lexer": "ipython3",
   "version": "3.12.4"
  }
 },
 "nbformat": 4,
 "nbformat_minor": 5
}
