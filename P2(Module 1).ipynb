{
 "cells": [
  {
   "cell_type": "markdown",
   "id": "b33e00ad-04db-4fc9-a29e-f6b5a10f4912",
   "metadata": {},
   "source": [
    "## Modules"
   ]
  },
  {
   "cell_type": "markdown",
   "id": "47ea1c6e-ab34-4755-8383-7a0d35f36322",
   "metadata": {},
   "source": [
    "So what is a module? The Python Tutorial defines it as a file containing Python definitions and statements, which can be later imported and used when necessary.\n",
    "\n",
    "The handling of modules consists of two different issues:\n",
    "The User vs. Supplier concept\n",
    "\n",
    "    the first (probably the most common) happens when you want to use an already existing module, written by someone else, or created by yourself during your work on some complex project - in this case you are the module's user;\n",
    "    the second occurs when you want to create a brand new module, either for your own use, or to make other programmers' lives easier - you are the module's supplier.\n",
    "\n",
    "Let's discuss them separately.\n",
    "\n",
    "First of all, a module is identified by its name. If you want to use any module, you need to know the name. A (rather large) number of modules is delivered together with Python itself. You can think of them as a kind of \"Python extra equipment\".\n"
   ]
  },
  {
   "cell_type": "code",
   "execution_count": null,
   "id": "60e3e400-b6d8-4318-87ed-ceced9b043e0",
   "metadata": {},
   "outputs": [],
   "source": [
    "## import math\n",
    "print(math.sin(math.pi/2))"
   ]
  },
  {
   "cell_type": "code",
   "execution_count": null,
   "id": "5df59ca9-d792-4faf-8144-f35f5d33067d",
   "metadata": {},
   "outputs": [],
   "source": [
    "import math\n",
    "\n",
    "\n",
    "def sin(x):\n",
    "    if 2 * x == pi:\n",
    "        return 0.99999999\n",
    "    else:\n",
    "        return None\n",
    "\n",
    "\n",
    "pi = 3.14\n",
    "\n",
    "print(sin(pi/2))\n",
    "print(math.sin(math.pi/2))\n"
   ]
  },
  {
   "cell_type": "code",
   "execution_count": null,
   "id": "7c31ab96-b7cf-4596-bbef-ab8e4d78152a",
   "metadata": {},
   "outputs": [],
   "source": [
    "from math import sin, pi\n",
    "\n",
    "print(sin(pi/2))\n",
    "\n"
   ]
  },
  {
   "cell_type": "code",
   "execution_count": null,
   "id": "6e812f75-1af3-4267-b744-2f27fbae4e12",
   "metadata": {},
   "outputs": [],
   "source": [
    "from math import sin, pi\n",
    "\n",
    "print(sin(pi / 2))\n",
    "\n",
    "pi = 3.14\n",
    "\n",
    "\n",
    "def sin(x):\n",
    "    if 2 * x == pi:\n",
    "        return 0.99999999\n",
    "    else:\n",
    "        return None\n",
    "\n",
    "\n",
    "print(sin(pi / 2))\n"
   ]
  },
  {
   "cell_type": "code",
   "execution_count": null,
   "id": "62b2a0dd-d92c-4860-832d-67a5577b63ce",
   "metadata": {},
   "outputs": [],
   "source": []
  },
  {
   "cell_type": "markdown",
   "id": "c24d03ec-e8b6-45d8-b277-0a54b68d12dc",
   "metadata": {},
   "source": [
    "If you need to change the word math, you can introduce your own name, just like in the example:\n",
    "import math as m\n",
    "\n",
    "print(m.sin(m.pi/2))\n",
    "\n",
    "\n",
    "Note: after successful execution of an aliased import, the original module name becomes inaccessible and must not be used."
   ]
  },
  {
   "cell_type": "code",
   "execution_count": null,
   "id": "5bb420ef-3f7a-428c-8122-3e5bd98253f2",
   "metadata": {},
   "outputs": [],
   "source": [
    "import math as m\n",
    "\n",
    "print(m.sin(m.pi/2))\n"
   ]
  },
  {
   "cell_type": "code",
   "execution_count": null,
   "id": "ae4010cf-3f47-417e-84f2-47e2b3394cbd",
   "metadata": {},
   "outputs": [],
   "source": [
    "from math import pi as PI, sin as sine\n",
    "\n",
    "print(sine(PI/2))\n",
    "\n"
   ]
  },
  {
   "cell_type": "code",
   "execution_count": null,
   "id": "d9a9b61c-eceb-4983-9b0d-34519592aeff",
   "metadata": {},
   "outputs": [],
   "source": [
    "from random import randint\n",
    "\n",
    "for i in range(10):\n",
    "    print(randint(1, 10), end=',')"
   ]
  },
  {
   "cell_type": "markdown",
   "id": "8238ed17-b38f-40ab-9ca3-d565154327fc",
   "metadata": {},
   "source": [
    "As you can see, this is not a good tool for generating numbers in a lottery. Fortunately, there is a better solution than writing your own code to check the uniqueness of the \"drawn\" numbers.\n",
    "\n",
    "It's a function named in a very suggestive way - choice:\n",
    "\n",
    "    choice(sequence)\n",
    "    sample(sequence, elements_to_choose)\n",
    "\n",
    "The first variant chooses a \"random\" element from the input sequence and returns it.\n",
    "\n",
    "The second one builds a list (a sample) consisting of the elements_to_choose element \"drawn\" from the input sequence.\n",
    "\n",
    "In other words, the function chooses some of the input elements, returning a list with the choice. The elements in the sample are placed in random order. Note: the elements_to_choose must not be greater than the length of the input sequence.\n",
    "\n",
    "Look at the code below:"
   ]
  },
  {
   "cell_type": "code",
   "execution_count": null,
   "id": "c70ce549-b675-4bf4-823e-a1387ac2e778",
   "metadata": {},
   "outputs": [],
   "source": [
    "from random import choice, sample\n",
    "\n",
    "my_list = [1, 2, 3, 4, 5, 6, 7, 8, 9, 10]\n",
    "\n",
    "print(choice(my_list))\n",
    "print(sample(my_list, 5))\n",
    "print(sample(my_list, 10))\n",
    "\n"
   ]
  },
  {
   "cell_type": "code",
   "execution_count": null,
   "id": "057de5f9-d203-4f11-9505-1a3ecc82b5f4",
   "metadata": {},
   "outputs": [],
   "source": []
  },
  {
   "cell_type": "markdown",
   "id": "a31f0bad-6288-49db-917c-1f30cdce734b",
   "metadata": {},
   "source": [
    "Selected functions from the platform module\n",
    "\n",
    "The platform function\n",
    "\n",
    "The platform module lets you access the underlying platform's data, i.e., hardware, operating system, and interpreter version information.\n",
    "\n",
    "There is a function that can show you all the underlying layers in one glance, named platform, too. It just returns a string describing the environment; thus, its output is rather addressed to humans than to automated processing (you'll see it soon).\n",
    "\n",
    "This is how you can invoke it:"
   ]
  },
  {
   "cell_type": "code",
   "execution_count": null,
   "id": "c4ca6a26-4a91-49cb-b1c0-0e74efd30d38",
   "metadata": {},
   "outputs": [],
   "source": [
    "from platform import platform\n",
    "\n",
    "print(platform())\n",
    "print(platform(1))\n",
    "print(platform(0, 1))\n"
   ]
  },
  {
   "cell_type": "markdown",
   "id": "cc9921c1-02d7-46f3-b7b8-edfe616e761c",
   "metadata": {},
   "source": [
    "Selected functions from the platform module: continued\n",
    "\n",
    "The machine function\n",
    "\n",
    "Sometimes, you may just want to know the generic name of the processor which runs your OS together with Python and your code - a function named machine() will tell you that. As previously, the function returns a string.\n",
    "\n",
    "Again, we ran the sample program on three different platforms:"
   ]
  },
  {
   "cell_type": "code",
   "execution_count": null,
   "id": "56ba0a4f-fa81-4404-8b50-25e3323302ba",
   "metadata": {},
   "outputs": [],
   "source": [
    "from platform import machine\n",
    "\n",
    "print(machine())\n"
   ]
  },
  {
   "cell_type": "markdown",
   "id": "e298a005-812c-4f10-91b9-5edf530fa2fe",
   "metadata": {},
   "source": [
    "Selected functions from the platform module: continued\n",
    "\n",
    "The processor function\n",
    "\n",
    "The processor() function returns a string filled with the real processor name (if possible).\n",
    "\n",
    "Once again, we ran the sample program on three different platforms:"
   ]
  },
  {
   "cell_type": "code",
   "execution_count": null,
   "id": "92b87848-2cc1-403b-a76d-e3fa9a52c0ba",
   "metadata": {},
   "outputs": [],
   "source": [
    "from platform import processor\n",
    "\n",
    "print(processor())"
   ]
  },
  {
   "cell_type": "code",
   "execution_count": null,
   "id": "eaa49622-b1be-4249-bba0-3913d533fb1c",
   "metadata": {},
   "outputs": [],
   "source": []
  },
  {
   "cell_type": "markdown",
   "id": "a4dc622a-c398-4420-9006-6f91e109f75b",
   "metadata": {},
   "source": [
    "Selected functions from the platform module: continued\n",
    "\n",
    "The system function\n",
    "\n",
    "A function named system() returns the generic OS name as a string.\n",
    "\n",
    "Our example platforms presented themselves like this:"
   ]
  },
  {
   "cell_type": "code",
   "execution_count": null,
   "id": "d3715f18-8529-43e6-8480-d19e8f0f092d",
   "metadata": {},
   "outputs": [],
   "source": [
    "from platform import system\n",
    "\n",
    "print(system())\n"
   ]
  },
  {
   "cell_type": "markdown",
   "id": "5ea24638-e995-43c8-adad-61506c722cb8",
   "metadata": {},
   "source": [
    "Selected functions from the platform module: continued\n",
    "\n",
    "The version function\n",
    "\n",
    "The OS version is provided as a string by the version() function."
   ]
  },
  {
   "cell_type": "code",
   "execution_count": null,
   "id": "709e9907-41e1-435e-a90d-bb3b5daf771e",
   "metadata": {},
   "outputs": [],
   "source": [
    "from platform import version\n",
    "\n",
    "print(version())\n"
   ]
  },
  {
   "cell_type": "markdown",
   "id": "37a5919b-3e63-425d-b7db-a770f8bae32a",
   "metadata": {},
   "source": [
    "Selected functions from the platform module: continued\n",
    "\n",
    "The python_implementation and the python_version_tuple functions\n",
    "\n",
    "If you need to know what version of Python is running your code, you can check it using a number of dedicated functions - here are two of them:\n",
    "\n",
    "    python_implementation() → returns a string denoting the Python implementation (expect CPython here, unless you decide to use any non-canonical Python branch)\n",
    "\n",
    "    python_version_tuple() → returns a three-element tuple filled with:\n",
    "        the major part of Python's version;\n",
    "        the minor part;\n",
    "        the patch level number.\n"
   ]
  },
  {
   "cell_type": "code",
   "execution_count": null,
   "id": "ea261432-f195-48f5-81e3-af4afe2c8b8d",
   "metadata": {},
   "outputs": [],
   "source": [
    "from platform import python_implementation, python_version_tuple\n",
    "\n",
    "print(python_implementation())\n",
    "\n",
    "for atr in python_version_tuple():\n",
    "    print(atr)"
   ]
  },
  {
   "cell_type": "code",
   "execution_count": null,
   "id": "f0caf626-9935-4ba5-bf82-d1a3a5caf2e9",
   "metadata": {},
   "outputs": [],
   "source": []
  },
  {
   "cell_type": "markdown",
   "id": "9f366441-ad5c-4833-a240-a9b55c9edfce",
   "metadata": {},
   "source": [
    "Working with standard modules\n",
    "\n",
    "Before we start going through some standard Python modules, we want to introduce the dir() function to you. It has nothing to do with the dir command you know from Windows and Unix consoles, as dir() doesn't show the contents of a disk directory/folder, but there is no denying that it does something really similar - it is able to reveal all the names provided through a particular module.\n",
    "\n",
    "There is one condition: the module has to have been previously imported as a whole (i.e., using the import module instruction - from module is not enough).\n",
    "\n",
    "The function returns an alphabetically sorted list containing all entities' names available in the module identified by a name passed to the function as an argument:"
   ]
  },
  {
   "cell_type": "code",
   "execution_count": null,
   "id": "70663fed-8939-4abc-a237-019afd2e7b1b",
   "metadata": {},
   "outputs": [],
   "source": [
    "import math\n",
    "\n",
    "for name in dir(math):\n",
    "    print(name, end=\"\\t\")\n",
    "\n"
   ]
  },
  {
   "cell_type": "code",
   "execution_count": null,
   "id": "97076044-7353-4993-b573-a78e706d33af",
   "metadata": {},
   "outputs": [],
   "source": [
    "import math\n",
    "dir(math)\n",
    "\n"
   ]
  },
  {
   "cell_type": "code",
   "execution_count": null,
   "id": "82d1b7d0-6319-4483-97f8-1a440d105181",
   "metadata": {},
   "outputs": [],
   "source": [
    "import os\n",
    "dir(os)"
   ]
  },
  {
   "cell_type": "code",
   "execution_count": null,
   "id": "192fef1b-4b7c-4c5d-b354-4d3739264a43",
   "metadata": {},
   "outputs": [],
   "source": []
  },
  {
   "cell_type": "markdown",
   "id": "39b9014b-8a2a-4e6c-8ff8-112831d7fc9f",
   "metadata": {},
   "source": [
    "Selected functions from the math module\n",
    "\n",
    "Let's start with a quick preview of some of the functions provided by the math module.\n",
    "\n",
    "We've chosen them arbitrarily, but that doesn't mean that the functions we haven't mentioned here are any less significant. Dive into the modules' depths yourself - we don't have the space or the time to talk about everything in detail here.\n",
    "\n",
    "The first group of the math's functions are connected with trigonometry:\n",
    "\n",
    "    sin(x) → the sine of x;\n",
    "    cos(x) → the cosine of x;\n",
    "    tan(x) → the tangent of x.\n",
    "\n",
    "All these functions take one argument (an angle measurement expressed in radians) and return the appropriate result (be careful with tan() - not all arguments are accepted).\n",
    "\n",
    "Of course, there are also their inversed versions:\n",
    "\n",
    "    asin(x) → the arcsine of x;\n",
    "    acos(x) → the arccosine of x;\n",
    "    atan(x) → the arctangent of x.\n",
    "\n",
    "These functions take one argument (mind the domains) and return a measure of an angle in radians.\n",
    "\n",
    "To effectively operate on angle measurements, the math module provides you with the following entities:\n",
    "\n",
    "    pi → a constant with a value that is an approximation of π;\n",
    "    radians(x) → a function that converts x from degrees to radians;\n",
    "    degrees(x) → acting in the other direction (from radians to degrees)\n",
    "\n",
    "Now look at the code in the editor. The example program isn't very sophisticated, but can you predict its results?\n",
    "\n",
    "Apart from the circular functions (listed above) the math module also contains a set of their hyperbolic analogues:\n",
    "\n",
    "    sinh(x) → the hyperbolic sine;\n",
    "    cosh(x) → the hyperbolic cosine;\n",
    "    tanh(x) → the hyperbolic tangent;\n",
    "    asinh(x) → the hyperbolic arcsine;\n",
    "    acosh(x) → the hyperbolic arccosine;\n",
    "    atanh(x) → the hyperbolic arctangent.\n",
    "    \n",
    "\n"
   ]
  },
  {
   "cell_type": "code",
   "execution_count": null,
   "id": "915a7e4a-3df8-4128-995a-39aa5fd8057a",
   "metadata": {},
   "outputs": [],
   "source": [
    "from math import pi, radians, degrees, sin, cos, tan, asin\n",
    "\n",
    "ad = 90\n",
    "ar = radians(ad)\n",
    "ad = degrees(ar)\n",
    "\n",
    "print(ad == 90.)\n",
    "print(ar == pi / 2.)\n",
    "print(sin(ar) / cos(ar) == tan(ar))\n",
    "print(asin(sin(ar)) == ar)\n"
   ]
  },
  {
   "cell_type": "markdown",
   "id": "4ef418c6-9c00-412e-bfd2-506bd31cbb6a",
   "metadata": {},
   "source": [
    "Another group of the math's functions is formed by functions which are connected with exponentiation:\n",
    "\n",
    "    e → a constant with a value that is an approximation of Euler's number (e)\n",
    "    exp(x) → finding the value of ex;\n",
    "    log(x) → the natural logarithm of x\n",
    "    log(x, b) → the logarithm of x to base b\n",
    "    log10(x) → the decimal logarithm of x (more precise than log(x, 10))\n",
    "    log2(x) → the binary logarithm of x (more precise than log(x, 2))\n",
    "\n",
    "Note: the pow() function:\n",
    "\n",
    "    pow(x, y) → finding the value of xy (mind the domains)\n",
    "\n",
    "This is a built-in function, and doesn't have to be imported.\n",
    "\n",
    "Look at the code in the editor. Can you predict its output?"
   ]
  },
  {
   "cell_type": "code",
   "execution_count": null,
   "id": "2b8609b1-ae01-4a89-98e2-1f565a4f2560",
   "metadata": {},
   "outputs": [],
   "source": [
    "from math import e, exp, log\n",
    "\n",
    "print(pow(e, 1) == exp(log(e)))\n",
    "print(pow(2, 2) == exp(2 * log(2)))\n",
    "print(log(e, e) == exp(0))\n"
   ]
  },
  {
   "cell_type": "markdown",
   "id": "f603c7c7-acba-4526-9ce7-273faca7186a",
   "metadata": {},
   "source": [
    "The last group consists of some general-purpose functions like:\n",
    "\n",
    "    ceil(x) → the ceiling of x (the smallest integer greater than or equal to x)\n",
    "    floor(x) → the floor of x (the largest integer less than or equal to x)\n",
    "    trunc(x) → the value of x truncated to an integer (be careful - it's not an equivalent either of ceil or floor)\n",
    "    factorial(x) → returns x! (x has to be an integral and not a negative)\n",
    "    hypot(x, y) → returns the length of the hypotenuse of a right-angle triangle with the leg lengths equal to x and y (the same as sqrt(pow(x, 2) + pow(y, 2)) but more precise)\n",
    "\n",
    "Look at the code in the editor. Analyze the program carefully.\n",
    "\n",
    "It demonstrates the fundamental differences between ceil(), floor() and trunc()."
   ]
  },
  {
   "cell_type": "code",
   "execution_count": null,
   "id": "2187732b-eb83-4112-82da-e1519771901a",
   "metadata": {},
   "outputs": [],
   "source": [
    "from math import ceil, floor, trunc\n",
    "\n",
    "x = 1.4\n",
    "y = 2.6\n",
    "\n",
    "print(floor(x), floor(y))\n",
    "print(floor(-x), floor(-y))\n",
    "print(ceil(x), ceil(y))\n",
    "print(ceil(-x), ceil(-y))\n",
    "print(trunc(x), trunc(y))\n",
    "print(trunc(-x), trunc(-y))\n"
   ]
  },
  {
   "cell_type": "markdown",
   "id": "3a48858c-a494-4643-8fd0-259a38964b1d",
   "metadata": {},
   "source": [
    "##### floor(): Rounds down to the nearest integer (more negative for negative numbers).\n",
    "##### ceil(): Rounds up to the nearest integer (closer to zero for negative numbers).\n",
    "##### trunc(): Removes the decimal part, effectively rounding towards zero for both positive and negative numbers."
   ]
  },
  {
   "cell_type": "code",
   "execution_count": null,
   "id": "b97a4d93-73ac-4598-9317-ddbc84266bc7",
   "metadata": {},
   "outputs": [],
   "source": []
  },
  {
   "cell_type": "markdown",
   "id": "7dfc5841-1090-436c-bf5e-2f8541ad3142",
   "metadata": {},
   "source": [
    "Selected functions from the random module\n",
    "\n",
    "The random function\n",
    "\n",
    "The most general function named random() (not to be confused with the module's name) produces a float number x coming from the range (0.0, 1.0) - in other words: (0.0 <= x < 1.0).\n",
    "\n",
    "The example program below will produce five pseudorandom values - as their values are determined by the current (rather unpredictable) seed value, you can't guess them:"
   ]
  },
  {
   "cell_type": "code",
   "execution_count": null,
   "id": "83c6eb1c-876b-4846-b16b-89e6d1cb6864",
   "metadata": {},
   "outputs": [],
   "source": [
    "from random import random\n",
    "\n",
    "for i in range(6):\n",
    "    print(random())\n",
    "\n"
   ]
  },
  {
   "cell_type": "markdown",
   "id": "5c511d60-ad7c-4fa1-a7fa-9dab29b23b64",
   "metadata": {},
   "source": [
    "The seed function\n",
    "\n",
    "The seed() function is able to directly set the generator's seed. We'll show you two of its variants:\n",
    "\n",
    "    seed() - sets the seed with the current time;\n",
    "    seed(int_value) - sets the seed with the integer value int_value.\n",
    "\n",
    "We've modified the previous program - in effect, we've removed any trace of randomness from the code:"
   ]
  },
  {
   "cell_type": "code",
   "execution_count": null,
   "id": "4def9662-b13b-4b23-a1df-a1515ac7bddb",
   "metadata": {},
   "outputs": [],
   "source": [
    "from random import random, seed\n",
    "\n",
    "seed(0)\n",
    "\n",
    "for i in range(5):\n",
    "    print(random())\n"
   ]
  },
  {
   "cell_type": "code",
   "execution_count": null,
   "id": "6244d64e-18da-4d8d-acbd-06a7b80338ce",
   "metadata": {},
   "outputs": [],
   "source": []
  },
  {
   "cell_type": "markdown",
   "id": "79db1266-6307-4d9b-bfd5-19b33716f99a",
   "metadata": {},
   "source": [
    "The randrange and randint functions\n",
    "\n",
    "If you want integer random values, one of the following functions would fit better:\n",
    "\n",
    "    randrange(end)\n",
    "    randrange(beg, end)\n",
    "    randrange(beg, end, step)\n",
    "    randint(left, right)\n",
    "\n",
    "The first three invocations will generate an integer taken (pseudorandomly) from the range (respectively):\n",
    "\n",
    "    range(end)\n",
    "    range(beg, end)\n",
    "    range(beg, end, step)\n",
    "\n",
    "Note the implicit right-sided exclusion!\n",
    "\n",
    "The last function is an equivalent of randrange(left, right+1) - it generates the integer value i, which falls in the range [left, right] (no exclusion on the right side)."
   ]
  },
  {
   "cell_type": "code",
   "execution_count": null,
   "id": "91e287a4-b3fd-4b21-b8ea-b1bb9cd6432a",
   "metadata": {},
   "outputs": [],
   "source": [
    "from random import randrange, randint\n",
    "\n",
    "print(randrange(1), end=' ')\n",
    "print(randrange(0, 1), end=' ')\n",
    "print(randrange(0, 1, 1), end=' ')\n",
    "print(randint(0, 1))\n"
   ]
  },
  {
   "cell_type": "code",
   "execution_count": null,
   "id": "6a19dbed-6718-4109-acd5-9006474fd3ba",
   "metadata": {},
   "outputs": [],
   "source": [
    "from random import randrange, randint\n",
    "\n",
    "print(randrange(2), end=' ')\n",
    "print(randrange(2, 3), end=' ')\n",
    "print(randrange(2, 3, 3), end=' ')\n",
    "print(randint(0, 3))\n"
   ]
  },
  {
   "cell_type": "markdown",
   "id": "32c54dc5-8fc6-4aad-8c63-366d027fbff3",
   "metadata": {},
   "source": [
    "The previous functions have one important disadvantage - they may produce repeating values even if the number of subsequent invocations is not greater than the width of the specified range.\n",
    "\n",
    "Look at the code below - the program very likely outputs a set of numbers in which some elements are not unique:"
   ]
  },
  {
   "cell_type": "code",
   "execution_count": null,
   "id": "46cf723b-b828-4d8e-96a2-dc6545d64107",
   "metadata": {},
   "outputs": [],
   "source": [
    "from random import randint\n",
    "\n",
    "for i in range(10):\n",
    "    print(randint(1, 10), end=',')"
   ]
  },
  {
   "cell_type": "markdown",
   "id": "a748f582-388f-470e-8d65-3c403896f47c",
   "metadata": {},
   "source": [
    "The choice and sample functions\n",
    "\n",
    "As you can see, this is not a good tool for generating numbers in a lottery. Fortunately, there is a better solution than writing your own code to check the uniqueness of the \"drawn\" numbers.\n",
    "\n",
    "It's a function named in a very suggestive way - choice:\n",
    "\n",
    "    choice(sequence)\n",
    "    sample(sequence, elements_to_choose)\n",
    "\n",
    "The first variant chooses a \"random\" element from the input sequence and returns it.\n",
    "\n",
    "The second one builds a list (a sample) consisting of the elements_to_choose element \"drawn\" from the input sequence.\n",
    "\n",
    "In other words, the function chooses some of the input elements, returning a list with the choice. The elements in the sample are placed in random order. Note: the elements_to_choose must not be greater than the length of the input sequence.\n",
    "\n",
    "Look at the code below:"
   ]
  },
  {
   "cell_type": "code",
   "execution_count": null,
   "id": "5495c1bd-5493-439a-952f-908eda1db07e",
   "metadata": {},
   "outputs": [],
   "source": [
    "from random import choice, sample\n",
    "\n",
    "my_list = [1, 2, 3, 4, 5, 6, 7, 8, 9, 10]\n",
    "\n",
    "print(choice(my_list))\n",
    "print(sample(my_list, 5))\n",
    "print(sample(my_list, 10))\n",
    "\n"
   ]
  },
  {
   "cell_type": "code",
   "execution_count": null,
   "id": "0611c8fb-a64b-4b5f-823d-083d3573759a",
   "metadata": {},
   "outputs": [],
   "source": []
  },
  {
   "cell_type": "markdown",
   "id": "ce1466ba-c993-4894-ad83-e56538443028",
   "metadata": {},
   "source": [
    "\n",
    "### What is a package?\n",
    "\n",
    "Writing your own modules doesn't differ much from writing ordinary scripts.\n",
    "\n",
    "There are some specific aspects you must be aware of, but it definitely isn't rocket science. You'll see this soon enough.\n",
    "The Package-Module-Function concept\n",
    "\n",
    "\n",
    "\n",
    "Let's summarize some important issues:\n",
    "\n",
    "    a module is a kind of container filled with functions - you can pack as many functions as you want into one module and distribute it across the world;\n",
    "    of course, it's generally a good idea not to mix functions with different application areas within one module (just like in a library - nobody expects scientific works to be put among comic books), so group your functions carefully and name the module containing them in a clear and intuitive way (e.g., don't give the name arcade_games to a module containing functions intended to partition and format hard disks)\n",
    "    making many modules may cause a little mess - sooner or later you'll want to group your modules exactly in the same way as you've previously grouped functions - is there a more general container than a module?\n",
    "    yes, there is - it's a package; in the world of modules, a package plays a similar role to a folder/directory in the world of files.\n",
    "\n"
   ]
  },
  {
   "cell_type": "code",
   "execution_count": null,
   "id": "9a11c2f3-a77e-407f-9f28-3f9cc639bca5",
   "metadata": {},
   "outputs": [],
   "source": []
  },
  {
   "cell_type": "markdown",
   "id": "eecae70b-aa00-4301-b18e-d29fa11dbb0c",
   "metadata": {},
   "source": [
    "Your first module: step 1\n",
    "\n",
    "In this section you're going to be working locally on your machine. Let's start from scratch. Create an empty file, just like this:"
   ]
  },
  {
   "cell_type": "code",
   "execution_count": null,
   "id": "29ff71b9-182f-43de-84fb-ddb7c39a53fd",
   "metadata": {},
   "outputs": [],
   "source": [
    "counter = 0\n",
    "\n",
    "if __name__ == \"__main__\":\n",
    "    print(\"I prefer to be a module.\")\n",
    "else:\n",
    "    print(\"I like to be a module.\")"
   ]
  },
  {
   "cell_type": "code",
   "execution_count": null,
   "id": "65faef71-ad55-4e54-81f4-f22e9599bf28",
   "metadata": {},
   "outputs": [],
   "source": [
    "\n",
    "\"\"\" module.py - an example of a Python module \"\"\"\n",
    "\n",
    "__counter = 0\n",
    "\n",
    "\n",
    "def suml(the_list):\n",
    "    global __counter\n",
    "    __counter += 1\n",
    "    the_sum = 0\n",
    "    for element in the_list:\n",
    "        the_sum += element\n",
    "    return the_sum\n",
    "\n",
    "\n",
    "def prodl(the_list):\n",
    "    global __counter    \n",
    "    __counter += 1\n",
    "    prod = 1\n",
    "    for element in the_list:\n",
    "        prod *= element\n",
    "    return prod\n",
    "\n",
    "\n",
    "if __name__ == \"__main__\":\n",
    "    print(\"I prefer to be a module, but I can do some tests for you.\")\n",
    "    my_list = [i+1 for i in range(5)]\n",
    "    print(suml(my_list) == 15)\n",
    "    print(prodl(my_list) == 120)\n",
    "\n"
   ]
  },
  {
   "cell_type": "code",
   "execution_count": null,
   "id": "939f3aeb-200c-4d32-94c1-105d748ea2e4",
   "metadata": {},
   "outputs": [],
   "source": [
    "import sys\n",
    "\n",
    "for p in sys.path:\n",
    "    print(p)\n",
    "\n"
   ]
  },
  {
   "cell_type": "code",
   "execution_count": null,
   "id": "93d88def-21c1-4f44-a9f3-5a74ef3baa25",
   "metadata": {},
   "outputs": [],
   "source": []
  },
  {
   "cell_type": "code",
   "execution_count": null,
   "id": "ae3e5efc-8415-4d3c-928c-a5fa0453d95d",
   "metadata": {},
   "outputs": [],
   "source": [
    "#! /usr/bin/env python3\n",
    "\n",
    "\"\"\" module: alpha \"\"\"\n",
    "\n",
    "def funA():\n",
    "    return \"Alpha\"\n",
    "\n",
    "if __name__ == \"__main__\":\n",
    "    print(\"I prefer to be a module.\")"
   ]
  },
  {
   "cell_type": "code",
   "execution_count": null,
   "id": "c90a1495-5bb7-4892-b360-b4a9ac14fbe0",
   "metadata": {},
   "outputs": [],
   "source": []
  },
  {
   "cell_type": "markdown",
   "id": "ecb7bb0c-bded-488b-94b5-e4fcdbb2c80f",
   "metadata": {},
   "source": [
    "The PyPI repo is sometimes referred to as the Cheese Shop. Really.\n",
    "\n",
    "Does that sound a little strange to you? Don't worry, it’s all perfectly innocent.\n",
    "\n",
    "We refer to the repo as a shop, because you go there for the same reasons you go to other shops: to fulfill your needs. If you want some cheese, you go to the cheese shop. If you want a piece of software, you go to the software shop. Fortunately, the analogy ends here – you don't need any money to take some software out of the repo shop.\n",
    "\n",
    "PyPI is completely free, and you can just pick a code and use it – you’ll encounter neither cashier nor security guard. Of course, it doesn't absolve you from being polite and honest. You have to obey all the licensing terms, so don't forget to read them.\n",
    "\n",
    "“OK”, you say, “the shop is clear now, but what does cheese have to do with Python?”\n",
    "\n",
    "The Cheese Shop is one of the most famous Monty Python sketches. It depicts the surrealist adventure of an Englishman trying to buy some cheese. Unfortunately, the shop he visits (immodestly named Ye National Cheese Emporium) has no cheese in stock at all.\n",
    "\n",
    "Of course, it's meant to be ironic. As you already know, PyPI has lots of software in stock and it's available 24/7. It's fully entitled to identify itself as Ye International Python Software Emporium.\n"
   ]
  },
  {
   "cell_type": "markdown",
   "id": "c74f0656-4073-449c-9ed2-a1cb19592814",
   "metadata": {},
   "source": [
    "PyPI is a very specific shop, not just because it offers all its products for free. It also requires a special tool to make use of it.\n",
    "\n",
    "Fortunately, this tool is also free, so if you want to make your own digital cheeseburger by using the goods offered by the PyPI Shop, you’ll need a free tool named pip.\n",
    "\n",
    "No, you haven't misheard. Just pip. It's another acronym, of course, but its nature is more complex than the previously mentioned PyPI, as it's an example of a recursive acronym, which means that the acronym refers to itself, which means that explaining it is an infinite process.\n",
    "\n",
    "Why? Because pip means “pip installs packages”, and the pip inside “pip installs packages” means “pip installs packages” and ...\n",
    "\n",
    "Let’s stop there. Thank you for your cooperation.\n",
    "\n",
    "By the way, there are a few other very famous recursive acronyms. One of them is Linux, which can be interpreted as “Linux is Not Unix”."
   ]
  },
  {
   "cell_type": "code",
   "execution_count": null,
   "id": "2cda065d-05fd-4fdf-8b33-c8e64c50c9e5",
   "metadata": {},
   "outputs": [],
   "source": [
    "pip --version"
   ]
  },
  {
   "cell_type": "code",
   "execution_count": null,
   "id": "438ecc59-cbcc-4e1b-9bff-d8254f02748e",
   "metadata": {},
   "outputs": [],
   "source": [
    "pip3 --version"
   ]
  },
  {
   "cell_type": "code",
   "execution_count": null,
   "id": "f2ec7892-1c40-4995-b30a-364283a6498b",
   "metadata": {},
   "outputs": [],
   "source": [
    "pip help"
   ]
  },
  {
   "cell_type": "code",
   "execution_count": null,
   "id": "c8eafdef-a7eb-4b5d-9ff0-1971ad433678",
   "metadata": {},
   "outputs": [],
   "source": [
    "pip help operation"
   ]
  },
  {
   "cell_type": "code",
   "execution_count": 1,
   "id": "935f0e4a-0578-44b3-91c6-29023a6f6752",
   "metadata": {},
   "outputs": [
    {
     "name": "stdout",
     "output_type": "stream",
     "text": [
      "Package                           Version\n",
      "--------------------------------- ------------------\n",
      "aiobotocore                       2.12.3\n",
      "aiohttp                           3.9.5\n",
      "aioitertools                      0.7.1\n",
      "aiosignal                         1.2.0\n",
      "alabaster                         0.7.16\n",
      "altair                            5.0.1\n",
      "anaconda-anon-usage               0.4.4\n",
      "anaconda-catalogs                 0.2.0\n",
      "anaconda-client                   1.12.3\n",
      "anaconda-cloud-auth               0.5.1\n",
      "anaconda-navigator                2.6.0\n",
      "anaconda-project                  0.11.1\n",
      "annotated-types                   0.6.0\n",
      "anyio                             4.2.0\n",
      "appdirs                           1.4.4\n",
      "archspec                          0.2.3\n",
      "argon2-cffi                       21.3.0\n",
      "argon2-cffi-bindings              21.2.0\n",
      "arrow                             1.2.3\n",
      "astroid                           2.14.2\n",
      "astropy                           6.1.0\n",
      "astropy-iers-data                 0.2024.6.3.0.31.14\n",
      "asttokens                         2.0.5\n",
      "async-lru                         2.0.4\n",
      "atomicwrites                      1.4.0\n",
      "attrs                             23.1.0\n",
      "Automat                           20.2.0\n",
      "autopep8                          2.0.4\n",
      "Babel                             2.11.0\n",
      "bcrypt                            3.2.0\n",
      "beautifulsoup4                    4.12.3\n",
      "binaryornot                       0.4.4\n",
      "black                             24.4.2\n",
      "bleach                            4.1.0\n",
      "blinker                           1.6.2\n",
      "bokeh                             3.4.1\n",
      "boltons                           23.0.0\n",
      "botocore                          1.34.69\n",
      "Bottleneck                        1.3.7\n",
      "Brotli                            1.0.9\n",
      "cachetools                        5.3.3\n",
      "certifi                           2024.6.2\n",
      "cffi                              1.16.0\n",
      "chardet                           4.0.0\n",
      "charset-normalizer                2.0.4\n",
      "click                             8.1.7\n",
      "cloudpickle                       2.2.1\n",
      "colorama                          0.4.6\n",
      "colorcet                          3.1.0\n",
      "comm                              0.2.1\n",
      "conda                             24.5.0\n",
      "conda-build                       24.5.1\n",
      "conda-content-trust               0.2.0\n",
      "conda_index                       0.5.0\n",
      "conda-libmamba-solver             24.1.0\n",
      "conda-pack                        0.7.1\n",
      "conda-package-handling            2.3.0\n",
      "conda_package_streaming           0.10.0\n",
      "conda-repo-cli                    1.0.88\n",
      "conda-token                       0.5.0+1.g2209e04\n",
      "constantly                        23.10.4\n",
      "contourpy                         1.2.0\n",
      "cookiecutter                      2.6.0\n",
      "cryptography                      42.0.5\n",
      "cssselect                         1.2.0\n",
      "cycler                            0.11.0\n",
      "cytoolz                           0.12.2\n",
      "dask                              2024.5.0\n",
      "dask-expr                         1.1.0\n",
      "datashader                        0.16.2\n",
      "debugpy                           1.6.7\n",
      "decorator                         5.1.1\n",
      "defusedxml                        0.7.1\n",
      "diff-match-patch                  20200713\n",
      "dill                              0.3.8\n",
      "distributed                       2024.5.0\n",
      "distro                            1.9.0\n",
      "docstring-to-markdown             0.11\n",
      "docutils                          0.18.1\n",
      "entrypoints                       0.4\n",
      "et-xmlfile                        1.1.0\n",
      "executing                         0.8.3\n",
      "fastjsonschema                    2.16.2\n",
      "filelock                          3.13.1\n",
      "flake8                            7.0.0\n",
      "Flask                             3.0.3\n",
      "fonttools                         4.51.0\n",
      "frozendict                        2.4.2\n",
      "frozenlist                        1.4.0\n",
      "fsspec                            2024.3.1\n",
      "gensim                            4.3.2\n",
      "gitdb                             4.0.7\n",
      "GitPython                         3.1.37\n",
      "greenlet                          3.0.1\n",
      "h5py                              3.11.0\n",
      "HeapDict                          1.0.1\n",
      "holoviews                         1.19.0\n",
      "hvplot                            0.10.0\n",
      "hyperlink                         21.0.0\n",
      "idna                              3.7\n",
      "imagecodecs                       2023.1.23\n",
      "imageio                           2.33.1\n",
      "imagesize                         1.4.1\n",
      "imbalanced-learn                  0.12.3\n",
      "importlib-metadata                7.0.1\n",
      "incremental                       22.10.0\n",
      "inflection                        0.5.1\n",
      "iniconfig                         1.1.1\n",
      "intake                            0.7.0\n",
      "intervaltree                      3.1.0\n",
      "ipykernel                         6.28.0\n",
      "ipython                           8.25.0\n",
      "ipython-genutils                  0.2.0\n",
      "ipywidgets                        7.8.1\n",
      "isort                             5.13.2\n",
      "itemadapter                       0.3.0\n",
      "itemloaders                       1.1.0\n",
      "itsdangerous                      2.2.0\n",
      "jaraco.classes                    3.2.1\n",
      "jedi                              0.18.1\n",
      "jellyfish                         1.0.1\n",
      "Jinja2                            3.1.4\n",
      "jmespath                          1.0.1\n",
      "joblib                            1.4.2\n",
      "json5                             0.9.6\n",
      "jsonpatch                         1.33\n",
      "jsonpointer                       2.1\n",
      "jsonschema                        4.19.2\n",
      "jsonschema-specifications         2023.7.1\n",
      "jupyter                           1.0.0\n",
      "jupyter_client                    8.6.0\n",
      "jupyter-console                   6.6.3\n",
      "jupyter_core                      5.7.2\n",
      "jupyter-events                    0.10.0\n",
      "jupyter-lsp                       2.2.0\n",
      "jupyter_server                    2.14.1\n",
      "jupyter_server_terminals          0.4.4\n",
      "jupyterlab                        4.0.11\n",
      "jupyterlab-pygments               0.1.2\n",
      "jupyterlab_server                 2.25.1\n",
      "jupyterlab-widgets                1.0.0\n",
      "keyring                           24.3.1\n",
      "kiwisolver                        1.4.4\n",
      "lazy_loader                       0.4\n",
      "lazy-object-proxy                 1.10.0\n",
      "lckr_jupyterlab_variableinspector 3.1.0\n",
      "libarchive-c                      2.9\n",
      "libmambapy                        1.5.8\n",
      "linkify-it-py                     2.0.0\n",
      "llvmlite                          0.42.0\n",
      "lmdb                              1.4.1\n",
      "locket                            1.0.0\n",
      "lxml                              5.2.1\n",
      "lz4                               4.3.2\n",
      "Markdown                          3.4.1\n",
      "markdown-it-py                    2.2.0\n",
      "MarkupSafe                        2.1.3\n",
      "matplotlib                        3.8.4\n",
      "matplotlib-inline                 0.1.6\n",
      "mccabe                            0.7.0\n",
      "mdit-py-plugins                   0.3.0\n",
      "mdurl                             0.1.0\n",
      "menuinst                          2.1.1\n",
      "mistune                           2.0.4\n",
      "mkl-fft                           1.3.8\n",
      "mkl-random                        1.2.4\n",
      "mkl-service                       2.4.0\n",
      "more-itertools                    10.1.0\n",
      "mpmath                            1.3.0\n",
      "msgpack                           1.0.3\n",
      "multidict                         6.0.4\n",
      "multipledispatch                  0.6.0\n",
      "mypy                              1.10.0\n",
      "mypy-extensions                   1.0.0\n",
      "navigator-updater                 0.5.1\n",
      "nbclient                          0.8.0\n",
      "nbconvert                         7.10.0\n",
      "nbformat                          5.9.2\n",
      "nest-asyncio                      1.6.0\n",
      "networkx                          3.2.1\n",
      "nltk                              3.8.1\n",
      "notebook                          7.0.8\n",
      "notebook_shim                     0.2.3\n",
      "numba                             0.59.1\n",
      "numexpr                           2.8.7\n",
      "numpy                             1.26.4\n",
      "numpydoc                          1.7.0\n",
      "openpyxl                          3.1.2\n",
      "overrides                         7.4.0\n",
      "packaging                         23.2\n",
      "pandas                            2.2.2\n",
      "pandocfilters                     1.5.0\n",
      "panel                             1.4.4\n",
      "param                             2.1.0\n",
      "paramiko                          2.8.1\n",
      "parsel                            1.8.1\n",
      "parso                             0.8.3\n",
      "partd                             1.4.1\n",
      "pathspec                          0.10.3\n",
      "patsy                             0.5.6\n",
      "pexpect                           4.8.0\n",
      "pickleshare                       0.7.5\n",
      "pillow                            10.3.0\n",
      "pip                               24.0\n",
      "pkce                              1.0.3\n",
      "pkginfo                           1.10.0\n",
      "platformdirs                      3.10.0\n",
      "plotly                            5.22.0\n",
      "pluggy                            1.0.0\n",
      "ply                               3.11\n",
      "prometheus-client                 0.14.1\n",
      "prompt-toolkit                    3.0.43\n",
      "Protego                           0.1.16\n",
      "protobuf                          3.20.3\n",
      "psutil                            5.9.0\n",
      "ptyprocess                        0.7.0\n",
      "pure-eval                         0.2.2\n",
      "py-cpuinfo                        9.0.0\n",
      "pyarrow                           14.0.2\n",
      "pyasn1                            0.4.8\n",
      "pyasn1-modules                    0.2.8\n",
      "pycodestyle                       2.11.1\n",
      "pycosat                           0.6.6\n",
      "pycparser                         2.21\n",
      "pyct                              0.5.0\n",
      "pycurl                            7.45.2\n",
      "pydantic                          2.5.3\n",
      "pydantic_core                     2.14.6\n",
      "pydeck                            0.8.0\n",
      "PyDispatcher                      2.0.5\n",
      "pydocstyle                        6.3.0\n",
      "pyerfa                            2.0.1.4\n",
      "pyflakes                          3.2.0\n",
      "pygame                            2.6.1\n",
      "Pygments                          2.15.1\n",
      "PyJWT                             2.8.0\n",
      "pylint                            2.16.2\n",
      "pylint-venv                       3.0.3\n",
      "pyls-spyder                       0.4.0\n",
      "PyNaCl                            1.5.0\n",
      "pyodbc                            5.0.1\n",
      "pyOpenSSL                         24.0.0\n",
      "pyparsing                         3.0.9\n",
      "PyQt5                             5.15.10\n",
      "PyQt5-sip                         12.13.0\n",
      "PyQtWebEngine                     5.15.6\n",
      "PySocks                           1.7.1\n",
      "pytest                            7.4.4\n",
      "python-dateutil                   2.9.0.post0\n",
      "python-dotenv                     0.21.0\n",
      "python-json-logger                2.0.7\n",
      "python-lsp-black                  2.0.0\n",
      "python-lsp-jsonrpc                1.1.2\n",
      "python-lsp-server                 1.10.0\n",
      "python-slugify                    5.0.2\n",
      "python-snappy                     0.6.1\n",
      "pytoolconfig                      1.2.6\n",
      "pytz                              2024.1\n",
      "pyviz_comms                       3.0.2\n",
      "pywavelets                        1.5.0\n",
      "pywin32                           305.1\n",
      "pywin32-ctypes                    0.2.2\n",
      "pywinpty                          2.0.10\n",
      "PyYAML                            6.0.1\n",
      "pyzmq                             25.1.2\n",
      "QDarkStyle                        3.2.3\n",
      "qstylizer                         0.2.2\n",
      "QtAwesome                         1.2.2\n",
      "qtconsole                         5.5.1\n",
      "QtPy                              2.4.1\n",
      "queuelib                          1.6.2\n",
      "referencing                       0.30.2\n",
      "regex                             2023.10.3\n",
      "requests                          2.32.2\n",
      "requests-file                     1.5.1\n",
      "requests-toolbelt                 1.0.0\n",
      "rfc3339-validator                 0.1.4\n",
      "rfc3986-validator                 0.1.1\n",
      "rich                              13.3.5\n",
      "rope                              1.12.0\n",
      "rpds-py                           0.10.6\n",
      "Rtree                             1.0.1\n",
      "ruamel.yaml                       0.17.21\n",
      "ruamel-yaml-conda                 0.17.21\n",
      "s3fs                              2024.3.1\n",
      "scikit-image                      0.23.2\n",
      "scikit-learn                      1.4.2\n",
      "scipy                             1.13.1\n",
      "Scrapy                            2.11.1\n",
      "seaborn                           0.13.2\n",
      "semver                            3.0.2\n",
      "Send2Trash                        1.8.2\n",
      "service-identity                  18.1.0\n",
      "setuptools                        69.5.1\n",
      "sip                               6.7.12\n",
      "six                               1.16.0\n",
      "smart-open                        5.2.1\n",
      "smmap                             4.0.0\n",
      "sniffio                           1.3.0\n",
      "snowballstemmer                   2.2.0\n",
      "sortedcontainers                  2.4.0\n",
      "soupsieve                         2.5\n",
      "Sphinx                            7.3.7\n",
      "sphinxcontrib-applehelp           1.0.2\n",
      "sphinxcontrib-devhelp             1.0.2\n",
      "sphinxcontrib-htmlhelp            2.0.0\n",
      "sphinxcontrib-jsmath              1.0.1\n",
      "sphinxcontrib-qthelp              1.0.3\n",
      "sphinxcontrib-serializinghtml     1.1.10\n",
      "spyder                            5.5.1\n",
      "spyder-kernels                    2.5.0\n",
      "SQLAlchemy                        2.0.30\n",
      "stack-data                        0.2.0\n",
      "statsmodels                       0.14.2\n",
      "streamlit                         1.32.0\n",
      "sympy                             1.12\n",
      "tables                            3.9.2\n",
      "tabulate                          0.9.0\n",
      "tblib                             1.7.0\n",
      "tenacity                          8.2.2\n",
      "terminado                         0.17.1\n",
      "text-unidecode                    1.3\n",
      "textdistance                      4.2.1\n",
      "threadpoolctl                     2.2.0\n",
      "three-merge                       0.1.1\n",
      "tifffile                          2023.4.12\n",
      "tinycss2                          1.2.1\n",
      "tldextract                        3.2.0\n",
      "toml                              0.10.2\n",
      "tomli                             2.0.1\n",
      "tomlkit                           0.11.1\n",
      "toolz                             0.12.0\n",
      "tornado                           6.4.1\n",
      "tqdm                              4.66.4\n",
      "traitlets                         5.14.3\n",
      "truststore                        0.8.0\n",
      "Twisted                           23.10.0\n",
      "twisted-iocpsupport               1.0.2\n",
      "typing_extensions                 4.11.0\n",
      "tzdata                            2023.3\n",
      "uc-micro-py                       1.0.1\n",
      "ujson                             5.10.0\n",
      "unicodedata2                      15.1.0\n",
      "Unidecode                         1.2.0\n",
      "urllib3                           2.2.2\n",
      "w3lib                             2.1.2\n",
      "watchdog                          4.0.1\n",
      "wcwidth                           0.2.5\n",
      "webencodings                      0.5.1\n",
      "websocket-client                  1.8.0\n",
      "Werkzeug                          3.0.3\n",
      "whatthepatch                      1.0.2\n",
      "wheel                             0.43.0\n",
      "widgetsnbextension                3.6.6\n",
      "win-inet-pton                     1.1.0\n",
      "wrapt                             1.14.1\n",
      "xarray                            2023.6.0\n",
      "xlwings                           0.31.4\n",
      "xyzservices                       2022.9.0\n",
      "yapf                              0.40.2\n",
      "yarl                              1.9.3\n",
      "zict                              3.0.0\n",
      "zipp                              3.17.0\n",
      "zope.interface                    5.4.0\n",
      "zstandard                         0.22.0\n",
      "Note: you may need to restart the kernel to use updated packages.\n"
     ]
    }
   ],
   "source": [
    "pip list"
   ]
  },
  {
   "cell_type": "code",
   "execution_count": 2,
   "id": "57e7c5a6-0abf-41ea-b530-410d25b7d5c5",
   "metadata": {},
   "outputs": [
    {
     "name": "stdout",
     "output_type": "stream",
     "text": [
      "Requirement already satisfied: pillow in c:\\users\\user11\\anaconda3\\lib\\site-packages (10.3.0)\n",
      "Note: you may need to restart the kernel to use updated packages.\n"
     ]
    }
   ],
   "source": [
    "pip install pillow"
   ]
  },
  {
   "cell_type": "code",
   "execution_count": 3,
   "id": "e464bacd-d56c-4977-bbad-1fb4b2c37a3c",
   "metadata": {},
   "outputs": [
    {
     "name": "stdout",
     "output_type": "stream",
     "text": [
      "Requirement already satisfied: pillow in c:\\users\\user11\\anaconda3\\lib\\site-packages (10.3.0)\n",
      "Note: you may need to restart the kernel to use updated packages.\n"
     ]
    }
   ],
   "source": [
    "pip install --user pillow"
   ]
  },
  {
   "cell_type": "code",
   "execution_count": 5,
   "id": "7a394cf1-a424-47de-90d4-b89f7e37e37f",
   "metadata": {},
   "outputs": [
    {
     "ename": "ModuleNotFoundError",
     "evalue": "No module named 'pillow'",
     "output_type": "error",
     "traceback": [
      "\u001b[1;31m---------------------------------------------------------------------------\u001b[0m",
      "\u001b[1;31mModuleNotFoundError\u001b[0m                       Traceback (most recent call last)",
      "Cell \u001b[1;32mIn[5], line 1\u001b[0m\n\u001b[1;32m----> 1\u001b[0m \u001b[38;5;28;01mimport\u001b[39;00m \u001b[38;5;21;01mpillow\u001b[39;00m\n\u001b[0;32m      3\u001b[0m run \u001b[38;5;241m=\u001b[39m \u001b[38;5;28;01mTrue\u001b[39;00m\n\u001b[0;32m      4\u001b[0m width \u001b[38;5;241m=\u001b[39m \u001b[38;5;241m400\u001b[39m\n",
      "\u001b[1;31mModuleNotFoundError\u001b[0m: No module named 'pillow'"
     ]
    }
   ],
   "source": [
    "import pillow\n",
    "\n",
    "run = True\n",
    "width = 400\n",
    "height = 100\n",
    "pillow.init()\n",
    "screen = pillow.display.set_mode((width, height))\n",
    "font = pillow.font.SysFont(None, 48)\n",
    "text = font.render(\"Welcome to pillow\", True, (255, 255, 255))\n",
    "screen.blit(text, ((width - text.get_width()) // 2, (height - text.get_height()) // 2))\n",
    "pillow.display.flip()\n",
    "while run:\n",
    "    for event in pillow.event.get():\n",
    "        if event.type == pillow.QUIT\\\n",
    "        or event.type == pillow.MOUSEBUTTONUP\\\n",
    "        or event.type == pillow.KEYUP:\n",
    "            run = False"
   ]
  },
  {
   "cell_type": "code",
   "execution_count": 6,
   "id": "701078c0-be0f-4031-bf55-8617b56ba22d",
   "metadata": {},
   "outputs": [
    {
     "name": "stdout",
     "output_type": "stream",
     "text": [
      "pygame 2.6.1 (SDL 2.28.4, Python 3.12.4)\n",
      "Hello from the pygame community. https://www.pygame.org/contribute.html\n"
     ]
    }
   ],
   "source": [
    "import pygame\n",
    "\n",
    "run = True\n",
    "width = 400\n",
    "height = 100\n",
    "pygame.init()\n",
    "screen = pygame.display.set_mode((width, height))\n",
    "font = pygame.font.SysFont(None, 48)\n",
    "text = font.render(\"Welcome to pygame\", True, (255, 255, 255))\n",
    "screen.blit(text, ((width - text.get_width()) // 2, (height - text.get_height()) // 2))\n",
    "pygame.display.flip()\n",
    "while run:\n",
    "    for event in pygame.event.get():\n",
    "        if event.type == pygame.QUIT\\\n",
    "        or event.type == pygame.MOUSEBUTTONUP\\\n",
    "        or event.type == pygame.KEYUP:\n",
    "            run = False"
   ]
  },
  {
   "cell_type": "code",
   "execution_count": 7,
   "id": "542a02a4-efc4-485e-a5b8-31cb1a847506",
   "metadata": {},
   "outputs": [
    {
     "name": "stdout",
     "output_type": "stream",
     "text": [
      "Note: you may need to restart the kernel to use updated packages.\n"
     ]
    },
    {
     "name": "stderr",
     "output_type": "stream",
     "text": [
      "\n",
      "Usage:   \n",
      "  C:\\Users\\user11\\anaconda3\\python.exe -m pip install [options] <requirement specifier> [package-index-options] ...\n",
      "  C:\\Users\\user11\\anaconda3\\python.exe -m pip install [options] -r <requirements file> [package-index-options] ...\n",
      "  C:\\Users\\user11\\anaconda3\\python.exe -m pip install [options] [-e] <vcs project url> ...\n",
      "  C:\\Users\\user11\\anaconda3\\python.exe -m pip install [options] [-e] <local project path> ...\n",
      "  C:\\Users\\user11\\anaconda3\\python.exe -m pip install [options] <archive url/path> ...\n",
      "\n",
      "no such option: -u\n"
     ]
    }
   ],
   "source": [
    "pip install -u package_name"
   ]
  },
  {
   "cell_type": "code",
   "execution_count": null,
   "id": "6adcf6ee-4ea4-466c-bf59-9698b18ee4b0",
   "metadata": {},
   "outputs": [],
   "source": [
    "pip uninstall pygame"
   ]
  },
  {
   "cell_type": "code",
   "execution_count": null,
   "id": "a3656080-c9f6-44f3-8e1f-cfcdb36650e4",
   "metadata": {},
   "outputs": [],
   "source": []
  },
  {
   "cell_type": "code",
   "execution_count": null,
   "id": "422a684c-c9d9-4938-957a-0b25e15f0ef4",
   "metadata": {},
   "outputs": [],
   "source": []
  },
  {
   "cell_type": "code",
   "execution_count": null,
   "id": "97d0b574-57c9-4a69-838f-6e736fb94c5b",
   "metadata": {},
   "outputs": [],
   "source": []
  },
  {
   "cell_type": "code",
   "execution_count": null,
   "id": "c994c8f9-2af8-4e9a-8716-d0d115b26d68",
   "metadata": {},
   "outputs": [],
   "source": []
  },
  {
   "cell_type": "code",
   "execution_count": null,
   "id": "e51a5679-04a5-4ad8-9891-111b4cc3b3e3",
   "metadata": {},
   "outputs": [],
   "source": []
  },
  {
   "cell_type": "code",
   "execution_count": null,
   "id": "cb3783db-eefa-4bfd-833d-bcb1207a5984",
   "metadata": {},
   "outputs": [],
   "source": []
  },
  {
   "cell_type": "code",
   "execution_count": null,
   "id": "b14aeff3-4879-4e37-9421-6588d6540063",
   "metadata": {},
   "outputs": [],
   "source": []
  },
  {
   "cell_type": "code",
   "execution_count": null,
   "id": "b0c8a83b-ac88-4730-ba71-ca18fd63f7b5",
   "metadata": {},
   "outputs": [],
   "source": []
  },
  {
   "cell_type": "code",
   "execution_count": null,
   "id": "fc921761-8f00-40ff-9fe0-0365787fab8d",
   "metadata": {},
   "outputs": [],
   "source": []
  },
  {
   "cell_type": "code",
   "execution_count": null,
   "id": "4c104681-7cb2-48f9-8272-0312d6d0c785",
   "metadata": {},
   "outputs": [],
   "source": []
  },
  {
   "cell_type": "code",
   "execution_count": null,
   "id": "ac7c63e0-a3c1-4cce-ba11-92cdd095b3a7",
   "metadata": {},
   "outputs": [],
   "source": []
  },
  {
   "cell_type": "code",
   "execution_count": null,
   "id": "371f2d27-131f-4f36-8fc0-390839660684",
   "metadata": {},
   "outputs": [],
   "source": []
  },
  {
   "cell_type": "code",
   "execution_count": null,
   "id": "a8e30541-bdda-4bbb-9d5d-67d9987952a0",
   "metadata": {},
   "outputs": [],
   "source": []
  },
  {
   "cell_type": "code",
   "execution_count": null,
   "id": "63fa03b0-54e4-4f8d-ae17-78acf6330812",
   "metadata": {},
   "outputs": [],
   "source": []
  },
  {
   "cell_type": "code",
   "execution_count": null,
   "id": "f50f617c-753a-4183-bdce-dee891265ad6",
   "metadata": {},
   "outputs": [],
   "source": []
  },
  {
   "cell_type": "code",
   "execution_count": null,
   "id": "d1a4a947-cdeb-4502-a4e3-0d3e8d8789b1",
   "metadata": {},
   "outputs": [],
   "source": []
  },
  {
   "cell_type": "code",
   "execution_count": null,
   "id": "9ef5f98c-e756-49b1-98e0-24c4761cc1d4",
   "metadata": {},
   "outputs": [],
   "source": []
  },
  {
   "cell_type": "code",
   "execution_count": null,
   "id": "37720a1c-cf98-4dbe-9d5d-bfdb86f66081",
   "metadata": {},
   "outputs": [],
   "source": []
  },
  {
   "cell_type": "code",
   "execution_count": null,
   "id": "0efca341-5a95-4108-b19b-ff74e7f742e0",
   "metadata": {},
   "outputs": [],
   "source": []
  },
  {
   "cell_type": "code",
   "execution_count": null,
   "id": "1b1d9f8a-3423-4d14-b4e5-8bb04c2685b9",
   "metadata": {},
   "outputs": [],
   "source": []
  },
  {
   "cell_type": "code",
   "execution_count": null,
   "id": "269676f1-9e7b-40ce-b3ec-c336ca77aaa0",
   "metadata": {},
   "outputs": [],
   "source": []
  },
  {
   "cell_type": "code",
   "execution_count": null,
   "id": "8f1adbdf-c64d-4ba4-814a-759cceb2768e",
   "metadata": {},
   "outputs": [],
   "source": []
  },
  {
   "cell_type": "code",
   "execution_count": null,
   "id": "362191a2-1bdc-4184-af4e-ae123aef48a3",
   "metadata": {},
   "outputs": [],
   "source": []
  },
  {
   "cell_type": "code",
   "execution_count": null,
   "id": "ed2a4996-c13f-4809-832f-039dc7d16be8",
   "metadata": {},
   "outputs": [],
   "source": []
  },
  {
   "cell_type": "code",
   "execution_count": null,
   "id": "ca2a87c6-d501-4553-87e0-9301cb82b2e8",
   "metadata": {},
   "outputs": [],
   "source": []
  },
  {
   "cell_type": "code",
   "execution_count": null,
   "id": "c4fbb506-1614-4a4a-8d10-6fb110140e30",
   "metadata": {},
   "outputs": [],
   "source": []
  },
  {
   "cell_type": "code",
   "execution_count": null,
   "id": "8d0b36aa-7be6-4a6d-acb9-0444e89b80ee",
   "metadata": {},
   "outputs": [],
   "source": []
  },
  {
   "cell_type": "code",
   "execution_count": null,
   "id": "8f8f434a-3ecb-4f83-9ffe-981374f0c033",
   "metadata": {},
   "outputs": [],
   "source": []
  },
  {
   "cell_type": "code",
   "execution_count": null,
   "id": "7601d7c9-4e2e-4b48-a229-6ed71808931f",
   "metadata": {},
   "outputs": [],
   "source": []
  },
  {
   "cell_type": "code",
   "execution_count": null,
   "id": "74cd3ac8-cdf8-48d1-8f7c-5c9243a99406",
   "metadata": {},
   "outputs": [],
   "source": []
  },
  {
   "cell_type": "code",
   "execution_count": null,
   "id": "800a1517-839c-42cb-ad97-f22f636dbe34",
   "metadata": {},
   "outputs": [],
   "source": []
  },
  {
   "cell_type": "code",
   "execution_count": null,
   "id": "a1e07b36-1d3d-48ed-b9cb-0132e5c59082",
   "metadata": {},
   "outputs": [],
   "source": []
  },
  {
   "cell_type": "code",
   "execution_count": null,
   "id": "4a8139a5-4410-4fa8-a75e-8fc8bbfa9f00",
   "metadata": {},
   "outputs": [],
   "source": []
  },
  {
   "cell_type": "code",
   "execution_count": null,
   "id": "19118ec6-ee26-42bd-a508-293dd7f0dd31",
   "metadata": {},
   "outputs": [],
   "source": []
  },
  {
   "cell_type": "code",
   "execution_count": null,
   "id": "0678de23-4bfa-449f-bb0f-b00e8a533121",
   "metadata": {},
   "outputs": [],
   "source": []
  },
  {
   "cell_type": "code",
   "execution_count": null,
   "id": "8b772e98-4ecb-41fa-bdaf-efadbafd0ab2",
   "metadata": {},
   "outputs": [],
   "source": []
  },
  {
   "cell_type": "code",
   "execution_count": null,
   "id": "b6f0bdae-70fe-47a4-8e27-2d9469c2c57c",
   "metadata": {},
   "outputs": [],
   "source": []
  },
  {
   "cell_type": "code",
   "execution_count": null,
   "id": "52e2b075-e26b-48ce-8d9c-7199876a9c51",
   "metadata": {},
   "outputs": [],
   "source": []
  },
  {
   "cell_type": "code",
   "execution_count": null,
   "id": "9f6c47b4-ff3f-4880-a635-819e42671017",
   "metadata": {},
   "outputs": [],
   "source": []
  },
  {
   "cell_type": "code",
   "execution_count": null,
   "id": "14a2dc39-4823-442c-a142-9bc8de8b69c1",
   "metadata": {},
   "outputs": [],
   "source": []
  }
 ],
 "metadata": {
  "kernelspec": {
   "display_name": "Python 3 (ipykernel)",
   "language": "python",
   "name": "python3"
  },
  "language_info": {
   "codemirror_mode": {
    "name": "ipython",
    "version": 3
   },
   "file_extension": ".py",
   "mimetype": "text/x-python",
   "name": "python",
   "nbconvert_exporter": "python",
   "pygments_lexer": "ipython3",
   "version": "3.12.4"
  }
 },
 "nbformat": 4,
 "nbformat_minor": 5
}
