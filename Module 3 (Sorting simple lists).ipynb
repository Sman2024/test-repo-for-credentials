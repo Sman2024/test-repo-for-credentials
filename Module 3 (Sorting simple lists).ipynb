{
 "cells": [
  {
   "cell_type": "markdown",
   "id": "411f7a24-f7b8-4f03-abeb-9a04d679d2db",
   "metadata": {},
   "source": [
    "### Sorting a list"
   ]
  },
  {
   "cell_type": "code",
   "execution_count": null,
   "id": "48bb269b-08f6-41ea-914e-881954d17a9d",
   "metadata": {},
   "outputs": [],
   "source": [
    "my_list = [8, 10, 6, 2, 4]\n",
    "\n",
    "for i in range(len(my_list) - 1):\n",
    "    if my_list[i] > my_list[i + 1]:\n",
    "        my_list[i], my_list[i + 1] = my_list[i + 1], my_list[i]\n",
    "        "
   ]
  },
  {
   "cell_type": "markdown",
   "id": "9a418492-d460-4c16-96e3-a3d3a4ac8d12",
   "metadata": {},
   "source": [
    "#### You should be able to read and understand this program without any problems:"
   ]
  },
  {
   "cell_type": "code",
   "execution_count": 5,
   "id": "6c581609-8d7e-419d-8b9e-5984d94fac4a",
   "metadata": {},
   "outputs": [
    {
     "name": "stdout",
     "output_type": "stream",
     "text": [
      "[1, 3, 5, 8, 10]\n"
     ]
    }
   ],
   "source": [
    "my_list = [10, 5, 1, 8, 3,]\n",
    "swapped = True\n",
    "\n",
    "while swapped:\n",
    "    swapped = False\n",
    "    for i in range(len(my_list) - 1):\n",
    "        if my_list[i] > my_list[i + 1]:\n",
    "            swapped = True\n",
    "            my_list[i], my_list[i + 1] = my_list[i + 1], my_list[i]\n",
    "\n",
    "print(my_list)\n",
    "            \n",
    "    "
   ]
  },
  {
   "cell_type": "code",
   "execution_count": 7,
   "id": "1e23374f-969f-4b06-8217-992cafaa53e8",
   "metadata": {},
   "outputs": [
    {
     "name": "stdout",
     "output_type": "stream",
     "text": [
      "[2, 4, 6, 8, 10]\n"
     ]
    }
   ],
   "source": [
    "my_list = [8, 10, 6, 2, 4]\n",
    "swapped = True\n",
    "\n",
    "while swapped:\n",
    "    swapped = False\n",
    "    for i in range(len(my_list) - 1):\n",
    "        if my_list[i] > my_list[i + 1]:\n",
    "            swapped = True\n",
    "            my_list[i], my_list[i + 1] = my_list[i + 1], my_list[i]\n",
    "\n",
    "print(my_list)"
   ]
  },
  {
   "cell_type": "code",
   "execution_count": 8,
   "id": "71cce638-2cae-4eae-ba32-35006b30e68e",
   "metadata": {},
   "outputs": [
    {
     "name": "stdout",
     "output_type": "stream",
     "text": [
      "[1, 2, 3, 5, 8, 20]\n"
     ]
    }
   ],
   "source": [
    "my_list = [20, 1, 8, 5, 3, 2]\n",
    "swapped = True\n",
    "\n",
    "while swapped:\n",
    "    swapped = False\n",
    "    for i in range(len(my_list) - 1):\n",
    "        if my_list[i] > my_list[i + 1]:\n",
    "            swapped = True\n",
    "            my_list[i], my_list[i + 1] = my_list[i + 1], my_list[i]\n",
    "\n",
    "print(my_list)"
   ]
  },
  {
   "cell_type": "markdown",
   "id": "f18f0400-524f-46ce-bd28-111acbf4b8d1",
   "metadata": {},
   "source": [
    "### The bubble sort-interactive version"
   ]
  },
  {
   "cell_type": "code",
   "execution_count": 9,
   "id": "05896020-76ba-4f95-8b49-09451ebb3bf5",
   "metadata": {},
   "outputs": [
    {
     "name": "stdout",
     "output_type": "stream",
     "text": [
      "[1, 2, 3, 5, 8, 20]\n"
     ]
    }
   ],
   "source": [
    "my_list = [20, 1, 8, 5, 3, 2]\n",
    "my_list.sort()\n",
    "\n",
    "print(my_list)"
   ]
  },
  {
   "cell_type": "code",
   "execution_count": 11,
   "id": "f090b130-d4c4-4259-a534-5b4ea192c792",
   "metadata": {},
   "outputs": [
    {
     "name": "stdin",
     "output_type": "stream",
     "text": [
      "How many elements do you want to sort:  9\n",
      "Enter a list element:  5\n",
      "Enter a list element:  1\n",
      "Enter a list element:  6\n",
      "Enter a list element:  2\n",
      "Enter a list element:  15\n",
      "Enter a list element:  10\n",
      "Enter a list element:  4\n",
      "Enter a list element:  7\n",
      "Enter a list element:  3\n"
     ]
    },
    {
     "name": "stdout",
     "output_type": "stream",
     "text": [
      "\n",
      "Sorted:\n",
      "[1.0, 2.0, 3.0, 4.0, 5.0, 6.0, 7.0, 10.0, 15.0]\n"
     ]
    }
   ],
   "source": [
    "my_list = []\n",
    "swapped = True\n",
    "num = int(input(\"How many elements do you want to sort: \"))\n",
    "\n",
    "for i in range(num):\n",
    "    val = float(input(\"Enter a list element: \"))\n",
    "    my_list.append(val)\n",
    "\n",
    "while swapped:\n",
    "    swapped = False\n",
    "    for i in range(len(my_list) - 1):\n",
    "        if my_list[i] > my_list[i + 1]:\n",
    "            swapped = True\n",
    "            my_list[i], my_list[i + 1] = my_list[i + 1], my_list[i]\n",
    "\n",
    "print(\"\\nSorted:\")\n",
    "print(my_list)"
   ]
  },
  {
   "cell_type": "code",
   "execution_count": null,
   "id": "a3df2c81-9f62-43a1-b0e0-52016dea6d53",
   "metadata": {},
   "outputs": [],
   "source": []
  },
  {
   "cell_type": "markdown",
   "id": "51c8b799-b115-4df7-9600-77ff6c7257c2",
   "metadata": {},
   "source": [
    "#### 1. You can use the sort() method to sort element of a list, e.g:"
   ]
  },
  {
   "cell_type": "code",
   "execution_count": 12,
   "id": "8011af80-aa41-4213-a91d-320668029724",
   "metadata": {},
   "outputs": [
    {
     "name": "stdout",
     "output_type": "stream",
     "text": [
      "[5, 3, 1, 2, 4]\n",
      "[1, 2, 3, 4, 5]\n"
     ]
    }
   ],
   "source": [
    "lst = [5, 3, 1, 2, 4]\n",
    "print(lst)\n",
    "\n",
    "lst.sort()\n",
    "print(lst)"
   ]
  },
  {
   "cell_type": "markdown",
   "id": "8d1de840-0d1d-48ec-86c2-5d5d1831a627",
   "metadata": {},
   "source": [
    "#### 2. There is also a list method called **reverse**, which you can use to reverse the list, e.g:"
   ]
  },
  {
   "cell_type": "code",
   "execution_count": 13,
   "id": "bec08bbc-a524-4a92-a2a5-2f25b7df44b6",
   "metadata": {},
   "outputs": [
    {
     "name": "stdout",
     "output_type": "stream",
     "text": [
      "[5, 3, 1, 2, 4]\n",
      "[4, 2, 1, 3, 5]\n"
     ]
    }
   ],
   "source": [
    "lst = [5, 3, 1, 2, 4]\n",
    "print(lst)\n",
    "\n",
    "lst.reverse()\n",
    "print(lst)"
   ]
  },
  {
   "cell_type": "code",
   "execution_count": 14,
   "id": "6a941c33-802c-4c77-86eb-7ede80dc7fa7",
   "metadata": {},
   "outputs": [
    {
     "name": "stdout",
     "output_type": "stream",
     "text": [
      "['A', 'D', 'F', 'Z']\n"
     ]
    }
   ],
   "source": [
    "lst = [\"D\", \"F\", \"A\", \"Z\"]\n",
    "lst.sort()\n",
    "\n",
    "print(lst)"
   ]
  },
  {
   "cell_type": "code",
   "execution_count": 15,
   "id": "21815c86-b68f-481d-8dda-85f24385228a",
   "metadata": {},
   "outputs": [
    {
     "name": "stdout",
     "output_type": "stream",
     "text": [
      "['Z', 'F', 'D', 'A']\n"
     ]
    }
   ],
   "source": [
    "lst.reverse()\n",
    "print(lst)"
   ]
  },
  {
   "cell_type": "code",
   "execution_count": 17,
   "id": "bc67c977-d1a2-4a89-b75e-3f2db8db92ab",
   "metadata": {},
   "outputs": [
    {
     "name": "stdout",
     "output_type": "stream",
     "text": [
      "[1, 2, 3]\n"
     ]
    }
   ],
   "source": [
    "a = 3\n",
    "b = 1\n",
    "c = 2\n",
    "\n",
    "lst = [a, c, b]\n",
    "lst.sort()\n",
    "print(lst)"
   ]
  },
  {
   "cell_type": "code",
   "execution_count": 18,
   "id": "e384649d-9ea0-486c-8fd5-41de8191c05a",
   "metadata": {},
   "outputs": [
    {
     "name": "stdout",
     "output_type": "stream",
     "text": [
      "[' ', 'C', 'B', 'A']\n"
     ]
    }
   ],
   "source": [
    "a = \"A\"\n",
    "b = \"B\"\n",
    "c = \"C\"\n",
    "d = \" \"\n",
    "\n",
    "lst = [a, b,  c, d]\n",
    "lst.reverse()\n",
    "\n",
    "print(lst)"
   ]
  },
  {
   "cell_type": "code",
   "execution_count": null,
   "id": "29dded72-5671-42ff-934e-05ce73fed937",
   "metadata": {},
   "outputs": [],
   "source": []
  },
  {
   "cell_type": "markdown",
   "id": "6909451c-560e-47f9-8173-fd51d1d221b1",
   "metadata": {},
   "source": [
    "#### The inner life of list"
   ]
  },
  {
   "cell_type": "code",
   "execution_count": 19,
   "id": "0ba30af8-7e99-423f-9836-64cfea8f2901",
   "metadata": {},
   "outputs": [
    {
     "name": "stdout",
     "output_type": "stream",
     "text": [
      "[2]\n"
     ]
    }
   ],
   "source": [
    "list_1 = [1]\n",
    "list_2 = list_1\n",
    "list_1[0] = 2\n",
    "print(list_2)"
   ]
  },
  {
   "cell_type": "code",
   "execution_count": 20,
   "id": "19f979bf-ccec-4f89-a9f9-d590bb2f0b3b",
   "metadata": {},
   "outputs": [
    {
     "name": "stdout",
     "output_type": "stream",
     "text": [
      "[1]\n"
     ]
    }
   ],
   "source": [
    "list_1 = [1]\n",
    "list_2 = list_1[:]\n",
    "list_1[0] = 2\n",
    "print(list_2)"
   ]
  },
  {
   "cell_type": "code",
   "execution_count": null,
   "id": "393473ce-5ef9-4163-97fa-63d842f4ba08",
   "metadata": {},
   "outputs": [],
   "source": []
  },
  {
   "cell_type": "code",
   "execution_count": 21,
   "id": "a0c7de02-d5a9-49cf-9be1-8161e0b6a073",
   "metadata": {},
   "outputs": [
    {
     "name": "stdout",
     "output_type": "stream",
     "text": [
      "[8, 6]\n"
     ]
    }
   ],
   "source": [
    "my_list = [10, 8, 6, 4, 2]\n",
    "new_list = my_list[1:3]\n",
    "print(new_list)"
   ]
  },
  {
   "cell_type": "code",
   "execution_count": 23,
   "id": "add27ad9-b6aa-477e-b611-f0f569b154e2",
   "metadata": {},
   "outputs": [
    {
     "name": "stdout",
     "output_type": "stream",
     "text": [
      "[6, 4]\n"
     ]
    }
   ],
   "source": [
    "my_list = [10, 8, 6, 4, 2]\n",
    "new_list = my_list[2:4]\n",
    "print(new_list)"
   ]
  },
  {
   "cell_type": "code",
   "execution_count": 24,
   "id": "eccd16b5-7945-4f21-9254-84078e289a60",
   "metadata": {},
   "outputs": [
    {
     "name": "stdout",
     "output_type": "stream",
     "text": [
      "[8, 6, 4]\n"
     ]
    }
   ],
   "source": [
    "my_list = [0, 8, 6, 4, 2]\n",
    "new_list = my_list[1:-1]\n",
    "print(new_list)"
   ]
  },
  {
   "cell_type": "code",
   "execution_count": 26,
   "id": "6965d273-f686-43ad-afa9-da51fe63782e",
   "metadata": {},
   "outputs": [
    {
     "name": "stdout",
     "output_type": "stream",
     "text": [
      "[]\n"
     ]
    }
   ],
   "source": [
    "my_list = [10, 8, 6, 4, 2]\n",
    "new_list = my_list[-1:1]\n",
    "print(new_list)"
   ]
  },
  {
   "cell_type": "markdown",
   "id": "1505bf50-32b5-4945-a5a0-6250f9661ecb",
   "metadata": {},
   "source": [
    "#### If you omit the **start** in your slice, it is assumed that you want to get a slice  beginning at the element with index 0.\n",
    "\n",
    "#### In other words, the slice of this form:\n"
   ]
  },
  {
   "cell_type": "code",
   "execution_count": null,
   "id": "0d9b1c7a-5347-456e-a421-6eea561f6a59",
   "metadata": {},
   "outputs": [],
   "source": [
    "my_list[0:end]\n",
    "\n",
    "# is a more equivalent of:\n",
    "\n",
    "my_list[0:end]"
   ]
  },
  {
   "cell_type": "code",
   "execution_count": 27,
   "id": "31290e68-3121-4b31-8333-a058f54b3e06",
   "metadata": {},
   "outputs": [
    {
     "name": "stdout",
     "output_type": "stream",
     "text": [
      "[10, 8, 6]\n"
     ]
    }
   ],
   "source": [
    "my_list = [10, 8, 6, 4, 2]\n",
    "new_list = my_list[:3]\n",
    "print(new_list)"
   ]
  },
  {
   "cell_type": "code",
   "execution_count": 28,
   "id": "0d29391c-44a0-4084-b739-bd50ac375312",
   "metadata": {},
   "outputs": [
    {
     "name": "stdout",
     "output_type": "stream",
     "text": [
      "[10, 8, 6]\n"
     ]
    }
   ],
   "source": [
    "my_list = [10, 8, 6, 4, 2]\n",
    "new_list = my_list[0:3]\n",
    "print(new_list)"
   ]
  },
  {
   "cell_type": "markdown",
   "id": "53496e56-0fbd-4e22-b4db-171898d677ea",
   "metadata": {},
   "source": [
    "##### Similarly, if you omit the **end** in your slice, it is assumed that you want the slice to end at the element with the index\n",
    "\n",
    "##### In other words, the slice of this form:"
   ]
  },
  {
   "cell_type": "code",
   "execution_count": null,
   "id": "637006b0-b13c-4ac0-8261-b8e34addd611",
   "metadata": {},
   "outputs": [],
   "source": [
    "my_list[start:]\n",
    "\n",
    "# is more compact equivalent of:\n",
    "my_list[start:len(my_list)]"
   ]
  },
  {
   "cell_type": "code",
   "execution_count": 29,
   "id": "b38fe44d-908c-4fef-9d2b-1c230cc4fb46",
   "metadata": {},
   "outputs": [
    {
     "name": "stdout",
     "output_type": "stream",
     "text": [
      "[4, 2]\n"
     ]
    }
   ],
   "source": [
    "my_list = [10, 8, 6, 4, 2]\n",
    "new_list = my_list[3:]\n",
    "print(new_list)"
   ]
  },
  {
   "cell_type": "markdown",
   "id": "a81c5f8a-de9b-4155-9dc4-e25e4b67c0ab",
   "metadata": {},
   "source": [
    "##### As we've said b4, omitting both **start** and **end** makes a copy of the whole list:"
   ]
  },
  {
   "cell_type": "code",
   "execution_count": 30,
   "id": "ac52845c-5cc3-49ba-8f0e-ea405686b4e7",
   "metadata": {},
   "outputs": [
    {
     "name": "stdout",
     "output_type": "stream",
     "text": [
      "[10, 8, 6, 4, 2]\n"
     ]
    }
   ],
   "source": [
    "my_list = [10, 8, 6, 4, 2]\n",
    "new_list = my_list[:]\n",
    "print(new_list)"
   ]
  },
  {
   "cell_type": "markdown",
   "id": "10278e4b-9875-4f05-b95f-af3048df08c8",
   "metadata": {},
   "source": [
    "##### The previous described **del** instruction is a able to delete more than just a list's element at once- it can delete slices too:"
   ]
  },
  {
   "cell_type": "code",
   "execution_count": 32,
   "id": "05180951-729e-4c38-b50c-4c4b3ab1e730",
   "metadata": {},
   "outputs": [
    {
     "name": "stdout",
     "output_type": "stream",
     "text": [
      "[10, 4, 2]\n"
     ]
    }
   ],
   "source": [
    "my_list = [10, 8, 6, 4, 2]\n",
    "del my_list[1:3]\n",
    "print(my_list)"
   ]
  },
  {
   "cell_type": "code",
   "execution_count": 33,
   "id": "b5d05343-611c-47b0-bbf4-e8bdbbf004ff",
   "metadata": {},
   "outputs": [
    {
     "name": "stdout",
     "output_type": "stream",
     "text": [
      "[]\n"
     ]
    }
   ],
   "source": [
    "my_list = [10, 8, 6, 4, 2]\n",
    "del my_list[:]\n",
    "print(my_list)"
   ]
  },
  {
   "cell_type": "code",
   "execution_count": 36,
   "id": "54493d2a-3853-434d-a8e8-bbacc2ce2c6f",
   "metadata": {},
   "outputs": [
    {
     "ename": "NameError",
     "evalue": "name 'my_list' is not defined",
     "output_type": "error",
     "traceback": [
      "\u001b[1;31m---------------------------------------------------------------------------\u001b[0m",
      "\u001b[1;31mNameError\u001b[0m                                 Traceback (most recent call last)",
      "Cell \u001b[1;32mIn[36], line 3\u001b[0m\n\u001b[0;32m      1\u001b[0m my_list \u001b[38;5;241m=\u001b[39m [\u001b[38;5;241m10\u001b[39m, \u001b[38;5;241m8\u001b[39m, \u001b[38;5;241m6\u001b[39m, \u001b[38;5;241m4\u001b[39m, \u001b[38;5;241m2\u001b[39m]\n\u001b[0;32m      2\u001b[0m \u001b[38;5;28;01mdel\u001b[39;00m my_list\n\u001b[1;32m----> 3\u001b[0m \u001b[38;5;28mprint\u001b[39m(my_list)\n",
      "\u001b[1;31mNameError\u001b[0m: name 'my_list' is not defined"
     ]
    }
   ],
   "source": [
    "my_list = [10, 8, 6, 4, 2]\n",
    "del my_list\n",
    "print(my_list)"
   ]
  },
  {
   "cell_type": "code",
   "execution_count": null,
   "id": "c3be0e6e-6ad7-484a-8810-e2841c9421f0",
   "metadata": {},
   "outputs": [],
   "source": []
  },
  {
   "cell_type": "markdown",
   "id": "5e9f0061-8db1-46cb-afbe-7049be8d3b6a",
   "metadata": {},
   "source": [
    "#### The **in** and **not** in operators"
   ]
  },
  {
   "cell_type": "code",
   "execution_count": null,
   "id": "0f21fed6-dcff-457d-afe8-096367bf4591",
   "metadata": {},
   "outputs": [],
   "source": [
    "elem in my_list\n",
    "elem not in my_list"
   ]
  },
  {
   "cell_type": "code",
   "execution_count": 37,
   "id": "688d6709-81cf-4fc1-9628-740925a5f8d6",
   "metadata": {},
   "outputs": [
    {
     "name": "stdout",
     "output_type": "stream",
     "text": [
      "False\n",
      "True\n",
      "True\n"
     ]
    }
   ],
   "source": [
    "my_list = [0, 3, 12, 8, 2]\n",
    "\n",
    "print(5 in my_list)\n",
    "print(5 not in my_list)\n",
    "print(12 in my_list)"
   ]
  },
  {
   "cell_type": "code",
   "execution_count": null,
   "id": "b78690ed-ee82-4854-82dc-5ca04c56ba09",
   "metadata": {},
   "outputs": [],
   "source": []
  },
  {
   "cell_type": "markdown",
   "id": "642bb912-e8a5-423e-b3cc-4937c36c40ca",
   "metadata": {},
   "source": [
    "#### Lists - some simple programs"
   ]
  },
  {
   "cell_type": "code",
   "execution_count": 45,
   "id": "6d93b4ab-adbf-4007-9f7c-607a6b349c70",
   "metadata": {},
   "outputs": [
    {
     "name": "stdout",
     "output_type": "stream",
     "text": [
      "17\n"
     ]
    }
   ],
   "source": [
    "my_list = [17, 3, 11, 5, 1, 9, 7, 15, 13]\n",
    "largest = my_list[0]\n",
    "\n",
    "for i in range(1, len(my_list)):\n",
    "    if my_list[i] > largest:\n",
    "        largest = my_list[i]\n",
    "\n",
    "print(largest)"
   ]
  },
  {
   "cell_type": "code",
   "execution_count": 46,
   "id": "0ca68601-7cf9-4c82-9ded-6f74d8696b82",
   "metadata": {},
   "outputs": [
    {
     "name": "stdout",
     "output_type": "stream",
     "text": [
      "23\n"
     ]
    }
   ],
   "source": [
    "my_list = [17, 3, 11, 5, 23, 9, 7, 15, 13]\n",
    "largest = my_list[0]\n",
    "\n",
    "for i in range(len(my_list)):\n",
    "    if my_list[i] > largest:\n",
    "        largest = my_list[i]\n",
    "\n",
    "print(largest)"
   ]
  },
  {
   "cell_type": "code",
   "execution_count": 47,
   "id": "f7d3eb20-9ba8-407e-951e-2e036fba36af",
   "metadata": {},
   "outputs": [
    {
     "name": "stdout",
     "output_type": "stream",
     "text": [
      "Elemnent found at index:  4\n"
     ]
    }
   ],
   "source": [
    "my_list = [1, 2, 3, 4, 5, 6, 7]\n",
    "to_find = 5\n",
    "found = False\n",
    "\n",
    "for i in range(len(my_list)):\n",
    "    found = my_list[i] == to_find\n",
    "    if found:\n",
    "        break\n",
    "\n",
    "if found: \n",
    "    print(\"Elemnent found at index: \", i)\n",
    "\n",
    "else: \n",
    "    print(\"absent\")"
   ]
  },
  {
   "cell_type": "code",
   "execution_count": null,
   "id": "99f1fddd-1ba1-4c11-9b97-d331578b245a",
   "metadata": {},
   "outputs": [],
   "source": []
  },
  {
   "cell_type": "code",
   "execution_count": 52,
   "id": "3487e8fd-a2e5-4571-b522-48a5344d821f",
   "metadata": {},
   "outputs": [
    {
     "name": "stdout",
     "output_type": "stream",
     "text": [
      "4\n"
     ]
    }
   ],
   "source": [
    "drawn = [5, 11, 9, 42, 3, 49]\n",
    "bets = [3, 7, 11, 42, 34, 49]\n",
    "hits = 0\n",
    "\n",
    "for number in bets:\n",
    "    if number in drawn:\n",
    "        hits += 1\n",
    "\n",
    "print(hits)"
   ]
  },
  {
   "cell_type": "code",
   "execution_count": 53,
   "id": "3bb15362-d802-428c-94d6-bf2fbcf880d5",
   "metadata": {},
   "outputs": [
    {
     "name": "stdout",
     "output_type": "stream",
     "text": [
      "[5, 11, 9, 42, 3, 49]\n"
     ]
    }
   ],
   "source": [
    "print(drawn)"
   ]
  },
  {
   "cell_type": "code",
   "execution_count": 55,
   "id": "656e4bd1-f30b-46ff-bbcd-b8c37089e2c1",
   "metadata": {},
   "outputs": [
    {
     "name": "stdout",
     "output_type": "stream",
     "text": [
      "The list with unique elements only:\n",
      "[1, 2, 4, 6, 9]\n"
     ]
    }
   ],
   "source": [
    "my_list = [1, 2, 4, 4, 1, 4, 2, 6, 2, 9]\n",
    "new_list = []\n",
    "\n",
    "for number in my_list:\n",
    "    if number not in new_list:\n",
    "        new_list.append(number)\n",
    "my_list = new_list[:]\n",
    "\n",
    "\n",
    "print(\"The list with unique elements only:\")\n",
    "print(my_list)"
   ]
  },
  {
   "cell_type": "code",
   "execution_count": 56,
   "id": "49e2f841-fef9-4015-a784-2bdcca95485b",
   "metadata": {},
   "outputs": [
    {
     "name": "stdout",
     "output_type": "stream",
     "text": [
      "[2, 3, 5, 6, 7, 9]\n"
     ]
    }
   ],
   "source": [
    "my_list = [2, 3, 3, 5, 6, 6, 7, 3, 7, 9]\n",
    "new_list = []\n",
    "\n",
    "for number in my_list:\n",
    "    if number not in new_list:\n",
    "        new_list.append(number)\n",
    "\n",
    "my_list = new_list[:]\n",
    "print(my_list)"
   ]
  },
  {
   "cell_type": "markdown",
   "id": "2f18448c-11d8-4053-b113-b8f1ddb83155",
   "metadata": {},
   "source": [
    "#### Key takeaways\n",
    "1"
   ]
  },
  {
   "cell_type": "code",
   "execution_count": 58,
   "id": "2a15828a-f66a-4e7a-920c-db8abb0b523a",
   "metadata": {},
   "outputs": [
    {
     "name": "stdout",
     "output_type": "stream",
     "text": [
      "['Car', 'bicycle', 'motor']\n"
     ]
    }
   ],
   "source": [
    "vehicles_one = [\"Car\", \"bicycle\", \"motor\"]\n",
    "print(vehicles_one)"
   ]
  },
  {
   "cell_type": "code",
   "execution_count": 59,
   "id": "e3664760-ed6d-4a12-bdf6-b5f3c55c2416",
   "metadata": {},
   "outputs": [
    {
     "name": "stdout",
     "output_type": "stream",
     "text": [
      "['Car', 'bicycle', 'motor', 'Machine']\n"
     ]
    }
   ],
   "source": [
    "vehicles_one.append(\"Machine\")\n",
    "print(vehicles_one)"
   ]
  },
  {
   "cell_type": "code",
   "execution_count": 60,
   "id": "ef4942c3-1828-4c1c-9848-01585377a5bd",
   "metadata": {},
   "outputs": [
    {
     "name": "stdout",
     "output_type": "stream",
     "text": [
      "['Car', 'bicycle', 'Trailer', 'motor', 'Machine']\n"
     ]
    }
   ],
   "source": [
    "vehicles_one.insert(2, \"Trailer\")\n",
    "print(vehicles_one)"
   ]
  },
  {
   "cell_type": "code",
   "execution_count": 61,
   "id": "f8fb68b0-eb2f-46b2-a096-e1d6bd19f666",
   "metadata": {},
   "outputs": [
    {
     "name": "stdout",
     "output_type": "stream",
     "text": [
      "['bicycle', 'Trailer', 'motor', 'Machine']\n"
     ]
    }
   ],
   "source": [
    "vehicles_two = vehicles_one\n",
    "del vehicles_one[0]\n",
    "print(vehicles_two)"
   ]
  },
  {
   "cell_type": "markdown",
   "id": "e80cd7c0-1778-424a-9226-6ee23a16850d",
   "metadata": {},
   "source": [
    "#### If you want to copy a list or part of the list, you can do it by performing **slicing**\n",
    "\n",
    "2"
   ]
  },
  {
   "cell_type": "code",
   "execution_count": null,
   "id": "1f1dde76-005e-46fb-80a3-973ff9c51c5c",
   "metadata": {},
   "outputs": [],
   "source": [
    "colors = ['red', 'green', 'orange']\n",
    "\n",
    "copy_whole_colors = colors[:]  # copy the entire list\n",
    "copy_part_colors = colors[0:2] # copy part of the list"
   ]
  },
  {
   "cell_type": "markdown",
   "id": "c714195b-fef9-4442-b324-e3dadf2dd31a",
   "metadata": {},
   "source": [
    "##### You can use negative indices to perform slices too. e.g\n",
    "3\n"
   ]
  },
  {
   "cell_type": "code",
   "execution_count": 63,
   "id": "38ffb00b-d102-49fb-a985-4f428a8258cf",
   "metadata": {},
   "outputs": [
    {
     "name": "stdout",
     "output_type": "stream",
     "text": [
      "['C', 'D']\n"
     ]
    }
   ],
   "source": [
    "sample_list = [\"A\", \"B\", \"C\", \"D\", \"E\"]\n",
    "new_list = sample_list[2:-1]\n",
    "print(new_list)"
   ]
  },
  {
   "cell_type": "markdown",
   "id": "d890f521-f95a-477f-b93a-ab9c4398abf2",
   "metadata": {},
   "source": [
    "##### The **start** and **end** parameters are optional when performning a slice: list[start:end]. e.g\n",
    "3\n"
   ]
  },
  {
   "cell_type": "code",
   "execution_count": 65,
   "id": "f5055f5e-8656-4747-97ee-b2fb1a067200",
   "metadata": {},
   "outputs": [
    {
     "name": "stdout",
     "output_type": "stream",
     "text": [
      "[3, 4, 5]\n",
      "[1, 2]\n",
      "[4, 5]\n",
      "[1, 2, 3]\n"
     ]
    }
   ],
   "source": [
    "my_list = [1, 2, 3, 4, 5]\n",
    "slice_one = my_list[2:]\n",
    "slice_two = my_list[:2]\n",
    "slice_three = my_list[-2:]\n",
    "slice_four = my_list[:-2]\n",
    "\n",
    "print(slice_one)\n",
    "print(slice_two)\n",
    "print(slice_three)\n",
    "print(slice_four)"
   ]
  },
  {
   "cell_type": "markdown",
   "id": "2da4c34b-0102-4e52-94ff-02688137bce9",
   "metadata": {},
   "source": [
    "##### You can delete slices using the **del** instruction\n",
    "5"
   ]
  },
  {
   "cell_type": "code",
   "execution_count": 71,
   "id": "54271edf-5329-4156-aa53-4b1077037b47",
   "metadata": {},
   "outputs": [
    {
     "name": "stdout",
     "output_type": "stream",
     "text": [
      "[3, 4, 5]\n"
     ]
    }
   ],
   "source": [
    "my_list = [1, 2, 3, 4, 5]\n",
    "del my_list[0:2]\n",
    "print(my_list)"
   ]
  },
  {
   "cell_type": "markdown",
   "id": "688ba6e0-3a99-475b-ba49-f941a571462c",
   "metadata": {},
   "source": [
    "##### You can test if some items exist in a list or not using the keywords **in** and **not in**. e.g\n",
    "6"
   ]
  },
  {
   "cell_type": "code",
   "execution_count": 73,
   "id": "8a649979-1fd8-4d66-b386-ae758d0a48f0",
   "metadata": {},
   "outputs": [
    {
     "name": "stdout",
     "output_type": "stream",
     "text": [
      "True\n",
      "True\n",
      "False\n"
     ]
    }
   ],
   "source": [
    "my_list = [\"A\", \"B\", 1, 2]\n",
    "print(\"A\" in my_list)\n",
    "print(\"C\" not in my_list)\n",
    "print(2 not in my_list)"
   ]
  },
  {
   "cell_type": "code",
   "execution_count": 75,
   "id": "8a73a6d9-d614-4a83-ae4f-919320bb5662",
   "metadata": {},
   "outputs": [
    {
     "name": "stdout",
     "output_type": "stream",
     "text": [
      "['C']\n"
     ]
    }
   ],
   "source": [
    "# Exampls\n",
    "\n",
    "list_1 = [\"A\", \"B\", \"C\"]\n",
    "list_2 = list_1\n",
    "list_3 = list_2\n",
    "\n",
    "del list_1[0]\n",
    "del list_2[0]\n",
    "\n",
    "print(list_3)"
   ]
  },
  {
   "cell_type": "code",
   "execution_count": 76,
   "id": "45c49a11-ab2d-4eb0-9b59-1d91a736d877",
   "metadata": {},
   "outputs": [
    {
     "name": "stdout",
     "output_type": "stream",
     "text": [
      "['B', 'C']\n"
     ]
    }
   ],
   "source": [
    "list_1 = [\"A\", \"B\", \"C\"]\n",
    "list_2 = list_1\n",
    "list_3 = list_2\n",
    "\n",
    "del list_1[0]\n",
    "del list_2\n",
    "\n",
    "print(list_3)"
   ]
  },
  {
   "cell_type": "code",
   "execution_count": 77,
   "id": "39acad16-4a8f-4141-b003-6b1d53406779",
   "metadata": {},
   "outputs": [
    {
     "name": "stdout",
     "output_type": "stream",
     "text": [
      "[]\n"
     ]
    }
   ],
   "source": [
    "list_1 = [\"A\", \"B\", \"C\"]\n",
    "list_2 = list_1\n",
    "list_3 = list_2\n",
    "\n",
    "del list_1[0]\n",
    "del list_2[:]\n",
    "\n",
    "print(list_3)"
   ]
  },
  {
   "cell_type": "code",
   "execution_count": 78,
   "id": "a53f011f-d485-4c3d-bad1-29aaa6d58329",
   "metadata": {},
   "outputs": [
    {
     "name": "stdout",
     "output_type": "stream",
     "text": [
      "['A', 'B', 'C']\n"
     ]
    }
   ],
   "source": [
    "list_1 = [\"A\", \"B\", \"C\"]\n",
    "list_2 = list_1[:]\n",
    "list_3 = list_2[:]\n",
    "\n",
    "del list_1[0]\n",
    "del list_2[0]\n",
    "\n",
    "print(list_3)"
   ]
  },
  {
   "cell_type": "code",
   "execution_count": 80,
   "id": "ccfbe01f-9028-4786-8070-a9c9417dc34e",
   "metadata": {},
   "outputs": [
    {
     "name": "stdout",
     "output_type": "stream",
     "text": [
      "True\n"
     ]
    }
   ],
   "source": [
    "my_list = [1, 2, \"in\", True, \"ABC\"]\n",
    "\n",
    "print(1 in my_list)"
   ]
  },
  {
   "cell_type": "code",
   "execution_count": 81,
   "id": "c6f2cea9-a910-45b5-8025-40079262c68c",
   "metadata": {},
   "outputs": [
    {
     "name": "stdout",
     "output_type": "stream",
     "text": [
      "False\n"
     ]
    }
   ],
   "source": [
    "print(\"A\" in my_list)"
   ]
  },
  {
   "cell_type": "code",
   "execution_count": 82,
   "id": "aeee83df-cf80-4c0b-a89b-022fbb862232",
   "metadata": {},
   "outputs": [
    {
     "name": "stdout",
     "output_type": "stream",
     "text": [
      "True\n"
     ]
    }
   ],
   "source": [
    "print(\"A\" not in my_list)"
   ]
  },
  {
   "cell_type": "code",
   "execution_count": null,
   "id": "b416994d-bb1f-433e-9fca-e8741f7f4ded",
   "metadata": {},
   "outputs": [],
   "source": []
  },
  {
   "cell_type": "code",
   "execution_count": null,
   "id": "abec3bfe-63a1-491e-aeed-e7e8ddf2aa27",
   "metadata": {},
   "outputs": [],
   "source": []
  },
  {
   "cell_type": "code",
   "execution_count": null,
   "id": "7ab2ee29-06f9-426a-8f90-d759ae33d084",
   "metadata": {},
   "outputs": [],
   "source": []
  },
  {
   "cell_type": "code",
   "execution_count": null,
   "id": "7b716e02-7294-400b-9a98-733b16d11c45",
   "metadata": {},
   "outputs": [],
   "source": []
  }
 ],
 "metadata": {
  "kernelspec": {
   "display_name": "Python 3 (ipykernel)",
   "language": "python",
   "name": "python3"
  },
  "language_info": {
   "codemirror_mode": {
    "name": "ipython",
    "version": 3
   },
   "file_extension": ".py",
   "mimetype": "text/x-python",
   "name": "python",
   "nbconvert_exporter": "python",
   "pygments_lexer": "ipython3",
   "version": "3.12.4"
  }
 },
 "nbformat": 4,
 "nbformat_minor": 5
}
