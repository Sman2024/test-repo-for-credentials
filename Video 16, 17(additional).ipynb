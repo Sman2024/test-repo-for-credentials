{
 "cells": [
  {
   "cell_type": "code",
   "execution_count": null,
   "id": "bc3ff2ab-3c1c-4aac-8723-33366484b88a",
   "metadata": {},
   "outputs": [],
   "source": [
    "# Function to display a list\n",
    "def display_list(mylist):\n",
    "    print(mylist)"
   ]
  },
  {
   "cell_type": "code",
   "execution_count": null,
   "id": "cdf60a33-b6c6-4b6d-9224-090ee3ceb55e",
   "metadata": {},
   "outputs": [],
   "source": [
    "mylist = [0,1,2,3,4,5,6,7,8,9,10]\n",
    "display_list(mylist)"
   ]
  },
  {
   "cell_type": "code",
   "execution_count": null,
   "id": "ce9749a9-cac5-44cf-91e0-b8acf76931c9",
   "metadata": {},
   "outputs": [],
   "source": [
    "# Accepting user input\n",
    "input('Enter a value')"
   ]
  },
  {
   "cell_type": "code",
   "execution_count": null,
   "id": "17b08d73-89d4-4b17-b4cf-9f5f9b1cabc8",
   "metadata": {},
   "outputs": [],
   "source": [
    "result = input('Please enter a number')"
   ]
  },
  {
   "cell_type": "code",
   "execution_count": null,
   "id": "869144ab-8af0-45d4-a655-d609885432ec",
   "metadata": {},
   "outputs": [],
   "source": [
    "type(result)"
   ]
  },
  {
   "cell_type": "code",
   "execution_count": null,
   "id": "f6a8c5a7-367b-4f0c-ab13-9efba88b1fe3",
   "metadata": {},
   "outputs": [],
   "source": [
    "result = int(result)"
   ]
  },
  {
   "cell_type": "code",
   "execution_count": null,
   "id": "04171540-4e6d-45f8-b6bd-f1355c5493d0",
   "metadata": {},
   "outputs": [],
   "source": [
    "type(result)"
   ]
  },
  {
   "cell_type": "code",
   "execution_count": null,
   "id": "84285423-fe6f-4dd7-a503-797e04d29bea",
   "metadata": {},
   "outputs": [],
   "source": [
    "result = int(input('Enter a number: '))"
   ]
  },
  {
   "cell_type": "code",
   "execution_count": null,
   "id": "3abfd6bf-ce6c-4726-9c62-5d77904e74fd",
   "metadata": {},
   "outputs": [],
   "source": [
    "# User choice function\n",
    "def user_choice():\n",
    "    choice = input('input a number (0-10): ')\n",
    "    return int(choice)"
   ]
  },
  {
   "cell_type": "code",
   "execution_count": null,
   "id": "00490842-3734-4c73-aaf6-f83182e4a6f9",
   "metadata": {},
   "outputs": [],
   "source": [
    "user_choice()"
   ]
  },
  {
   "cell_type": "code",
   "execution_count": null,
   "id": "6da7aafe-5942-4afc-bf09-3b5da02ee1f4",
   "metadata": {},
   "outputs": [],
   "source": [
    "type(result)"
   ]
  },
  {
   "cell_type": "code",
   "execution_count": null,
   "id": "31c26098-25e0-41b8-8157-e6f44ff68941",
   "metadata": {},
   "outputs": [],
   "source": [
    "# validation of user input\n",
    "some_input = 'Segun'\n",
    "\n",
    "some_input.isdigit()"
   ]
  },
  {
   "cell_type": "code",
   "execution_count": null,
   "id": "dd2f1ca2-717a-45e9-804a-9e5ce985764a",
   "metadata": {},
   "outputs": [],
   "source": [
    "some_input = '12'\n",
    "\n",
    "some_input.isdigit()"
   ]
  },
  {
   "cell_type": "code",
   "execution_count": null,
   "id": "ed9d4157-f092-4464-a4a0-d2a2081b38bd",
   "metadata": {},
   "outputs": [],
   "source": [
    "# function to accept and validate user choice\n",
    "\n",
    "def user_choice():\n",
    "    choice = 'wrong'\n",
    "    while choice.isdigit() == False:\n",
    "        choice = input('choose a number: ')\n",
    "    return int(choice)\n",
    "    "
   ]
  },
  {
   "cell_type": "code",
   "execution_count": null,
   "id": "07c17fa3-dd0e-48e8-a6d4-6aefb4ccd63c",
   "metadata": {},
   "outputs": [],
   "source": [
    "user_choice()"
   ]
  },
  {
   "cell_type": "code",
   "execution_count": null,
   "id": "da029bd7-bb94-4eb0-8fd2-9dd1cb00b67f",
   "metadata": {},
   "outputs": [],
   "source": [
    "def user_choice():\n",
    "    choice = 'wrong'\n",
    "    while choice.isdigit() == False:\n",
    "        choice = input('choose a number: ')\n",
    "    return int(choice)\n",
    "    "
   ]
  },
  {
   "cell_type": "code",
   "execution_count": null,
   "id": "70411c8d-8516-4b49-b068-b43bc989f72f",
   "metadata": {},
   "outputs": [],
   "source": [
    "user_choice()"
   ]
  },
  {
   "cell_type": "code",
   "execution_count": null,
   "id": "94550eb6-e38d-477a-a9a0-767e16afaf65",
   "metadata": {},
   "outputs": [],
   "source": [
    "def user_choice():\n",
    "    choice = 'wrong' # This choice value can be anything that isn't an integer\n",
    "    while choice.isdigit() == False: #Until a digit is not entered keep asking for input\n",
    "        choice = input('choose a number: ')\n",
    "        #Error message check\n",
    "        if choice.isdigit() == False:\n",
    "             print('Sorry you did not enter an integer. Try again')\n",
    "    return int(choice)\n",
    "    "
   ]
  },
  {
   "cell_type": "code",
   "execution_count": null,
   "id": "3f53bfdd-893b-4636-8aea-d4fdefb656ec",
   "metadata": {},
   "outputs": [],
   "source": [
    "user_choice()"
   ]
  },
  {
   "cell_type": "code",
   "execution_count": null,
   "id": "93f1af90-04ce-4740-83a0-a12800329e03",
   "metadata": {},
   "outputs": [],
   "source": [
    "from IPython.display import clear_output\n",
    "clear_output()"
   ]
  },
  {
   "cell_type": "code",
   "execution_count": null,
   "id": "49514bd7-8bf0-491b-8901-735651b20f35",
   "metadata": {},
   "outputs": [],
   "source": [
    "def user_choice():\n",
    "    choice = 'wrong' # This choice value can be anything that isn't an integer\n",
    "    while choice.isdigit() == False: #Until a digit is not entered keep asking for input\n",
    "        choice = input('choose a number: ')\n",
    "        #Error message check\n",
    "        if choice.isdigit() == False:\n",
    "            \n",
    "            clear_output() # clears the current output below the cell \n",
    "            \n",
    "            print('Sorry you did not enter an integer. Try again')\n",
    "    return int(choice)"
   ]
  },
  {
   "cell_type": "code",
   "execution_count": null,
   "id": "ad5f7bb9-a321-4f8e-b1b0-674ecb3fb3dd",
   "metadata": {},
   "outputs": [],
   "source": [
    "user_choice()"
   ]
  },
  {
   "cell_type": "code",
   "execution_count": null,
   "id": "c811b693-c496-4e16-81ba-a2d875b338e7",
   "metadata": {},
   "outputs": [],
   "source": [
    "# Check against multiple possible values\n",
    "\n",
    "result = 'wrong value'\n",
    "acceptable_values = ['0', '1', '3']\n",
    "\n",
    "result in acceptable_values"
   ]
  },
  {
   "cell_type": "code",
   "execution_count": null,
   "id": "12dea0dc-c739-4115-8b77-a21fbd9f8df8",
   "metadata": {},
   "outputs": [],
   "source": [
    "result not in acceptable_values"
   ]
  },
  {
   "cell_type": "code",
   "execution_count": null,
   "id": "238f1f18-4767-409a-853b-63af744762aa",
   "metadata": {},
   "outputs": [],
   "source": [
    "from IPython.display import clear_output\n",
    "clear_output()"
   ]
  },
  {
   "cell_type": "code",
   "execution_count": null,
   "id": "82f7708f-bab4-44fa-8d3d-aeae35328dfc",
   "metadata": {},
   "outputs": [],
   "source": [
    "def user_choice():\n",
    "    choice = 'wrong'\n",
    "    while choice not in ['0', '1', '2']:\n",
    "        choice = input('Choose one of these numbers (0,1,2): ')\n",
    "        if choice not in ['0', '1', '2']:\n",
    "            clear_output()\n",
    "            print('You did not choose a value in the correct range (0,1,2')\n",
    "    return int(choice)"
   ]
  },
  {
   "cell_type": "code",
   "execution_count": null,
   "id": "af6064a6-b5c4-4103-820b-f1bc24210f9b",
   "metadata": {},
   "outputs": [],
   "source": [
    "user_choice()"
   ]
  },
  {
   "cell_type": "code",
   "execution_count": null,
   "id": "4fdb1bd6-d164-4635-b0f7-ab0dd11bb424",
   "metadata": {},
   "outputs": [],
   "source": [
    "# Function to accept and validate"
   ]
  },
  {
   "cell_type": "code",
   "execution_count": null,
   "id": "98ceee47-161e-4535-8afc-a1c509acefe3",
   "metadata": {},
   "outputs": [],
   "source": [
    "def user_choice():\n",
    "    \n",
    "    choice = 'WRONG'\n",
    "    within_range = False\n",
    "    \n",
    "    while choice.isdigit() == False or within_range == False:\n",
    "        choice = input('Enter a number(0-10): ')\n",
    "        \n",
    "        if choice.isdigit() == False:\n",
    "            print('Sorry, this is not a digit')\n",
    "        \n",
    "        if choice.isdigit() == True:\n",
    "            if int(choice) in range(0,10):\n",
    "                within_range = True\n",
    "            else:\n",
    "                within_range = False\n",
    "    return int(choice)\n",
    "\n",
    "    "
   ]
  },
  {
   "cell_type": "code",
   "execution_count": null,
   "id": "b5f7cf6c-e831-4def-bc95-091f1977ebef",
   "metadata": {},
   "outputs": [],
   "source": [
    "user_choice()"
   ]
  },
  {
   "cell_type": "code",
   "execution_count": null,
   "id": "8f6237cc-a470-4d32-a763-80b77c45bb75",
   "metadata": {},
   "outputs": [],
   "source": [
    "def user_choice():\n",
    "    choice = 'WRONG'\n",
    "    within_range = False\n",
    "    \n",
    "    while not choice.isdigit() or not within_range:\n",
    "        choice = input('Enter a number (0-10): ')\n",
    "        \n",
    "        if not choice.isdigit():\n",
    "            print('Sorry, this is not a digit.')\n",
    "        else:\n",
    "            if int(choice) in range(0, 11):  # Include 10\n",
    "                within_range = True  # Correctly assign True\n",
    "            else:\n",
    "                within_range = False  # Correctly assign False\n",
    "    \n",
    "    return int(choice)\n"
   ]
  },
  {
   "cell_type": "code",
   "execution_count": null,
   "id": "a7a88850-afff-47f2-8efc-30ebc603ec36",
   "metadata": {},
   "outputs": [],
   "source": [
    "user_choice()"
   ]
  },
  {
   "cell_type": "code",
   "execution_count": null,
   "id": "514f88be-05bc-49ad-a26f-3ccffd2fe42f",
   "metadata": {},
   "outputs": [],
   "source": [
    "# User Interaction\n",
    "\n",
    "game_list = [0,1,2]"
   ]
  },
  {
   "cell_type": "code",
   "execution_count": null,
   "id": "51cdcdcc-da91-458d-97c1-dc10a187012b",
   "metadata": {},
   "outputs": [],
   "source": [
    "def display_game(game_list):\n",
    "    print('Here is the current list')\n",
    "    print(game_list)"
   ]
  },
  {
   "cell_type": "code",
   "execution_count": null,
   "id": "208302a6-08ba-4320-b619-b52cd3042fce",
   "metadata": {},
   "outputs": [],
   "source": [
    "display_game(game_list)"
   ]
  },
  {
   "cell_type": "code",
   "execution_count": null,
   "id": "68e1622a-2cae-4d87-a911-757438c0a531",
   "metadata": {},
   "outputs": [],
   "source": [
    "def position_choice():\n",
    "    choice = 'wrong'\n",
    "    while choice not in ['0', '1', '2']:\n",
    "        choice = input('Pick a position to replace(0,1,2): ')\n",
    "        \n",
    "        if choice not in ['0', '1', '2']:\n",
    "            clear_output()\n",
    "            print('You did not choose a valid position(0,1,2): ')\n",
    "    return int(choice)"
   ]
  },
  {
   "cell_type": "code",
   "execution_count": null,
   "id": "75feafc3-aa1e-431e-9106-b3983a47801b",
   "metadata": {},
   "outputs": [],
   "source": [
    "position_choice()"
   ]
  },
  {
   "cell_type": "code",
   "execution_count": null,
   "id": "e5bc001a-ac4b-41a2-a712-b9b387a592f9",
   "metadata": {},
   "outputs": [],
   "source": [
    "def password():\n",
    "    choice = 'wrong'\n",
    "    while choice not in [\"07030573987\"]:\n",
    "        choice = input('Enter a valid password: ')\n",
    "        \n",
    "        if choice not in [\"07030573987\"]:\n",
    "            clear_output()\n",
    "            print('You did not choose a valid password(07030573987): ')\n",
    "    return int(choice)"
   ]
  },
  {
   "cell_type": "code",
   "execution_count": null,
   "id": "ffbf2118-307c-4703-9f06-c72ff3f040fc",
   "metadata": {},
   "outputs": [],
   "source": [
    "password()"
   ]
  },
  {
   "cell_type": "code",
   "execution_count": null,
   "id": "eb01f28d-8abf-4b49-a21e-e9b587fd8daf",
   "metadata": {},
   "outputs": [],
   "source": [
    "def replacement_choice(game_list,position):\n",
    "    \n",
    "    user_placement = input(\"Type a string to place at the position: \")\n",
    "    game_list[position] = user_placement \n",
    "    \n",
    "    return game_list"
   ]
  },
  {
   "cell_type": "code",
   "execution_count": null,
   "id": "80f41983-9f21-4fcf-b3ca-8e0fc98a077f",
   "metadata": {},
   "outputs": [],
   "source": [
    "def gameon_choice():\n",
    "    choice = 'wrong'\n",
    "    \n",
    "    while choice not in ['Y', 'N']:\n",
    "        \n",
    "        choice = input(\"would you like to keep playing? Y or N\")\n",
    "        if choice not in ['Y', 'N']:\n",
    "            clear_output()\n",
    "            print(\"Sorry I didn't understand. Choose either Y or N.\")\n",
    "    if choice == 'Y':\n",
    "            return True\n",
    "    else:\n",
    "        return False\n",
    "            \n",
    "\n"
   ]
  },
  {
   "cell_type": "code",
   "execution_count": null,
   "id": "910b03da-f26b-439a-9a50-cae8c3b8c313",
   "metadata": {},
   "outputs": [],
   "source": [
    "gameon_choice()"
   ]
  },
  {
   "cell_type": "code",
   "execution_count": null,
   "id": "5b27b648-fc59-48d3-9331-636d6cb66aac",
   "metadata": {},
   "outputs": [],
   "source": []
  },
  {
   "cell_type": "code",
   "execution_count": null,
   "id": "9bead451-3815-4108-9517-89b44681ae22",
   "metadata": {},
   "outputs": [],
   "source": [
    "# Main game logic\n",
    "\n",
    "game_on = True\n",
    "\n",
    "game_list = [0,1,2]\n",
    "\n",
    "while game_on: \n",
    "    clear_output()\n",
    "  \n",
    "    display_game(game_list)\n",
    "    \n",
    "    position = position_choice()\n",
    "    game_list = replacement_choice(game_list,position)\n",
    "    \n",
    "    clear_output()\n",
    "    display_game(game_list)\n",
    "    game_on = gameon_choice()\n",
    "    \n",
    "    "
   ]
  },
  {
   "cell_type": "code",
   "execution_count": null,
   "id": "5c8d1747-6bbe-4a7e-a908-1884f52bd68a",
   "metadata": {},
   "outputs": [],
   "source": []
  },
  {
   "cell_type": "code",
   "execution_count": 1,
   "id": "ef0abb27-849a-4d13-8a40-bdc10d3c444a",
   "metadata": {},
   "outputs": [
    {
     "name": "stdout",
     "output_type": "stream",
     "text": [
      "Here is the current list\n",
      "['apple', 'orange', 'mango']\n"
     ]
    },
    {
     "name": "stdin",
     "output_type": "stream",
     "text": [
      "would you like to keep playing? Y or N N\n"
     ]
    }
   ],
   "source": [
    "from IPython.display import clear_output\n",
    "clear_output()\n",
    "\n",
    "game_list = [0,1,2]\n",
    "\n",
    "def display_game(game_list):\n",
    "    print('Here is the current list')\n",
    "    print(game_list)\n",
    "\n",
    "display_game(game_list)\n",
    "\n",
    "\n",
    "\n",
    "def position_choice():\n",
    "    choice = 'wrong'\n",
    "    while choice not in ['0', '1', '2']:\n",
    "        choice = input('Pick a position to replace(0,1,2): ')\n",
    "        \n",
    "        if choice not in ['0', '1', '2']:\n",
    "            clear_output()\n",
    "            print('You did not choose a valid position(0,1,2): ')\n",
    "    return int(choice)\n",
    "\n",
    "position_choice()\n",
    "\n",
    "\n",
    "\n",
    "def replacement_choice(game_list,position):\n",
    "    \n",
    "    user_placement = input(\"Type a string to place at the position: \")\n",
    "    game_list[position] = user_placement \n",
    "    \n",
    "    return game_list\n",
    "\n",
    "\n",
    "def gameon_choice():\n",
    "    choice = 'wrong'\n",
    "    \n",
    "    while choice not in ['Y', 'N']:\n",
    "        \n",
    "        choice = input(\"would you like to keep playing? Y or N\")\n",
    "        if choice not in ['Y', 'N']:\n",
    "            clear_output()\n",
    "            print(\"Sorry I didn't understand. Choose either Y or N.\")\n",
    "    if choice == 'Y':\n",
    "            return True\n",
    "    else:\n",
    "        return False\n",
    "\n",
    "gameon_choice()\n",
    "\n",
    "\n",
    "\n",
    "game_on = True\n",
    "\n",
    "game_list = [0,1,2]\n",
    "\n",
    "while game_on: \n",
    "    clear_output()\n",
    "  \n",
    "    display_game(game_list)\n",
    "    \n",
    "    position = position_choice()\n",
    "    game_list = replacement_choice(game_list,position)\n",
    "    \n",
    "    clear_output()\n",
    "    display_game(game_list)\n",
    "    game_on = gameon_choice()\n",
    "    \n",
    "    "
   ]
  },
  {
   "cell_type": "code",
   "execution_count": null,
   "id": "a1a5115a-d78a-4f3c-9ba6-b15ad781e9a8",
   "metadata": {},
   "outputs": [],
   "source": []
  },
  {
   "cell_type": "code",
   "execution_count": 25,
   "id": "550f196b-e18b-4348-93bf-4e641847c811",
   "metadata": {},
   "outputs": [],
   "source": [
    "# Flash Card Quiz\n",
    "flashcards = {\n",
    "    \"What is the capital of France?\" : \"Paris\",\n",
    "    \"Which planet is known as the red planet?\" : \"Mars\",\n",
    "    \"What is the square root of 16?\" : \"4\",\n",
    "    \"What is the capital of nigeria?\" : \"Abuja\",\n",
    "    \"What is the cube of 2?\" : \"8\",\n",
    "    \"What is the name of 2020 pandemic?\" : \"Covid 19\"\n",
    "}\n",
    "\n",
    "# function to create a quiz\n",
    "def quiz():\n",
    "    score = 0\n",
    "    for question, answer in flashcards.items():\n",
    "        user_answer = input(question + \" \")\n",
    "        if user_answer.lower() == answer.lower():\n",
    "            print(\"correct!\")\n",
    "            score += 1\n",
    "        else:\n",
    "            print(\"Incorrect!\")\n",
    "    print(f\"Your score is {score}\")\n",
    "\n",
    "# Function to interact with user\n",
    "def main():\n",
    "    print(\"Flashcard Quiz\")\n",
    "    quiz()"
   ]
  },
  {
   "cell_type": "code",
   "execution_count": 26,
   "id": "29a76b44-eb45-40f1-b4c0-66d4f0b2ec60",
   "metadata": {},
   "outputs": [
    {
     "name": "stdout",
     "output_type": "stream",
     "text": [
      "Flashcard Quiz\n"
     ]
    },
    {
     "name": "stdin",
     "output_type": "stream",
     "text": [
      "What is the capital of France?  paris\n"
     ]
    },
    {
     "name": "stdout",
     "output_type": "stream",
     "text": [
      "correct!\n"
     ]
    },
    {
     "name": "stdin",
     "output_type": "stream",
     "text": [
      "Which planet is known as the red planet?  mars\n"
     ]
    },
    {
     "name": "stdout",
     "output_type": "stream",
     "text": [
      "correct!\n"
     ]
    },
    {
     "name": "stdin",
     "output_type": "stream",
     "text": [
      "What is the square root of 16?  4\n"
     ]
    },
    {
     "name": "stdout",
     "output_type": "stream",
     "text": [
      "correct!\n"
     ]
    },
    {
     "name": "stdin",
     "output_type": "stream",
     "text": [
      "What is the capital of nigeria?  abuja\n"
     ]
    },
    {
     "name": "stdout",
     "output_type": "stream",
     "text": [
      "correct!\n"
     ]
    },
    {
     "name": "stdin",
     "output_type": "stream",
     "text": [
      "What is the cube of 2?  8\n"
     ]
    },
    {
     "name": "stdout",
     "output_type": "stream",
     "text": [
      "correct!\n"
     ]
    },
    {
     "name": "stdin",
     "output_type": "stream",
     "text": [
      "What is the name of 2020 pandemic?  Covid 19\n"
     ]
    },
    {
     "name": "stdout",
     "output_type": "stream",
     "text": [
      "correct!\n",
      "Your score is 6\n"
     ]
    }
   ],
   "source": [
    "main()"
   ]
  },
  {
   "cell_type": "code",
   "execution_count": null,
   "id": "5fb56f80-393d-4e00-8735-27286b9386ac",
   "metadata": {},
   "outputs": [],
   "source": []
  },
  {
   "cell_type": "code",
   "execution_count": 28,
   "id": "76085e30-ed3b-4fa5-9322-d48e842e68c1",
   "metadata": {},
   "outputs": [
    {
     "data": {
      "text/plain": [
       "0"
      ]
     },
     "execution_count": 28,
     "metadata": {},
     "output_type": "execute_result"
    }
   ],
   "source": [
    "1 // 2"
   ]
  },
  {
   "cell_type": "code",
   "execution_count": null,
   "id": "15cf9681-a263-4076-900e-4d407732064b",
   "metadata": {},
   "outputs": [],
   "source": []
  },
  {
   "cell_type": "code",
   "execution_count": null,
   "id": "f60b2adb-48fb-434b-bbaa-e3d2381af534",
   "metadata": {},
   "outputs": [],
   "source": []
  }
 ],
 "metadata": {
  "kernelspec": {
   "display_name": "Python 3 (ipykernel)",
   "language": "python",
   "name": "python3"
  },
  "language_info": {
   "codemirror_mode": {
    "name": "ipython",
    "version": 3
   },
   "file_extension": ".py",
   "mimetype": "text/x-python",
   "name": "python",
   "nbconvert_exporter": "python",
   "pygments_lexer": "ipython3",
   "version": "3.12.4"
  }
 },
 "nbformat": 4,
 "nbformat_minor": 5
}
